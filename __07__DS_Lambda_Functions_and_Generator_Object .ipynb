{
 "cells": [
  {
   "cell_type": "markdown",
   "id": "f6c61fdc",
   "metadata": {},
   "source": [
    "# Lambda Function"
   ]
  },
  {
   "cell_type": "code",
   "execution_count": null,
   "id": "276c214c",
   "metadata": {},
   "outputs": [],
   "source": [
    "#  lambda function is a an small anonymous function\n",
    "# Anonymouse function is a function without a name that is an expression itself.\n",
    "# lambda functions are created using lambda keyword.\n",
    "'''\n",
    "A lambda function in Python is a small anonymous function that can have any number of arguments but only one expression. \n",
    "It is defined using the lambda keyword, which is followed by a list of parameters (if any), a colon :, and an expression.\n",
    "\n",
    "Here's the general syntax of a lambda function:\n",
    "lambda arguments: expression\n",
    "\n",
    "Lambda functions are typically used when you need a simple function for a short period of time, often as an argument to higher-order functions like map(), filter(), and sorted(), or within list comprehensions.\n",
    "'''\n"
   ]
  },
  {
   "cell_type": "code",
   "execution_count": 1,
   "id": "551d170f",
   "metadata": {},
   "outputs": [
    {
     "data": {
      "text/plain": [
       "30"
      ]
     },
     "execution_count": 1,
     "metadata": {},
     "output_type": "execute_result"
    }
   ],
   "source": [
    "def add(x,y):\n",
    "    return x+y\n",
    "add(10,20)"
   ]
  },
  {
   "cell_type": "code",
   "execution_count": 2,
   "id": "5f98098b",
   "metadata": {},
   "outputs": [
    {
     "name": "stdout",
     "output_type": "stream",
     "text": [
      "9\n"
     ]
    }
   ],
   "source": [
    "# Getting the same result \n",
    "add = lambda x,y:x+y\n",
    "print(add(4,5))"
   ]
  },
  {
   "cell_type": "code",
   "execution_count": 51,
   "id": "14e2dfac",
   "metadata": {},
   "outputs": [
    {
     "name": "stdout",
     "output_type": "stream",
     "text": [
      "18\n"
     ]
    },
    {
     "data": {
      "text/plain": [
       "'\\n\\nFunction Definition:\\n\\ndef add(cube, val): defines a function named add that takes two arguments: cube (which is expected to be a function) and val.\\nFunction Call:\\n\\nadd(lambda x: x*x*x, 2) calls the add function with two arguments:\\nThe first argument is a lambda function lambda x: x*x*x which cubes the input x.\\nThe second argument is 2, which will be passed as val.\\nLambda Function:\\n\\nThe lambda function lambda x: x*x*x takes an input x and returns its cube (x*x*x).\\nFunction Body Execution:\\n\\nInside the add function, cube(val) is called, which means the cube function (in this case, the lambda function) is executed with val (which is 2) as its argument.\\nSo, cube(2) evaluates to 2*2*2, which is 8.\\nReturn Value:\\n\\nreturn 10 + 8 in the add function calculates to 18.\\nPrint Statement:\\n\\nprint(add(lambda x: x*x*x, 2)) prints the return value of the add function, which is 18.\\n\\nTherefore, when you run the code, it will output 18 because the lambda function cubes the input 2 (resulting in 8), and 8 is added to 10 inside the add function, resulting in 18.\\n\\n'"
      ]
     },
     "execution_count": 51,
     "metadata": {},
     "output_type": "execute_result"
    }
   ],
   "source": [
    "# Passing Function as an Argument\n",
    "# In Python, functions can be passed as arguments to other functions. This allows you to encapsulate a function within another function.\n",
    "# Here's an example of a function that takes another function as an argument:\n",
    "\n",
    "def cube(fn,x):\n",
    "    return 10+fn(x)\n",
    "\n",
    "print(cube(lambda x:x*x*x,2))\n",
    "'''\n",
    "\n",
    "Function Definition:\n",
    "\n",
    "def add(cube, val): defines a function named cube that takes two arguments: cube (which is expected to be a function) and val.\n",
    "Function Call:\n",
    "\n",
    "cube(lambda x: x*x*x, 2) calls the cube function with two arguments:\n",
    "The first argument is a lambda function lambda x: x*x*x which cubes the input x.\n",
    "The second argument is 2, which will be passed as val.\n",
    "\n",
    "Lambda Function:\n",
    "The lambda function lambda x: x*x*x takes an input x and returns its cube (x*x*x).\n",
    "\n",
    "Function Body Execution:\n",
    "\n",
    "Inside the cube function, cube(val) is called, which means the cube function (in this case, the lambda function) is executed with val (which is 2) as its argument.\n",
    "So, cube(2) evaluates to 2*2*2, which is 8.\n",
    "Return Value:\n",
    "\n",
    "return 10 + 8 in the add function calculates to 18.\n",
    "\n",
    "Print Statement:\n",
    "print(add(lambda x: x*x*x, 2)) prints the return value of the add function, which is 18.\n",
    "\n",
    "Therefore, when you run the code, it will output 18 because the lambda function cubes the input 2 (resulting in 8), and 8 is added to 10 inside the add function, resulting in 18.\n",
    "\n",
    "'''"
   ]
  },
  {
   "cell_type": "code",
   "execution_count": 4,
   "id": "5a963ae6",
   "metadata": {},
   "outputs": [
    {
     "name": "stdout",
     "output_type": "stream",
     "text": [
      "10\n",
      "<lambda>\n"
     ]
    }
   ],
   "source": [
    "# We can't use loop inside a lambda function, we can use list comprehension instead of loop.\n",
    "res = lambda x: sum([i for i in range(x)])\n",
    "print(res(5))\n",
    "print(res.__name__)"
   ]
  },
  {
   "cell_type": "code",
   "execution_count": 5,
   "id": "ff942fe3",
   "metadata": {},
   "outputs": [],
   "source": [
    "# Here's why assigning a lambda function to a variable (like add) doesn't make it \"named\" in the same sense as a regular function:\n",
    "\n",
    "# Key Points to Understand\n",
    "\n",
    "# 1.Lambda Functions Are Anonymous by Nature: When you write a lambda expression, it does not inherently have a name. For example: \n",
    "\n",
    "# lambda a, b: a + b\n",
    "# This piece of code is a completely anonymous function. It exists as a function object with no identifier.\n",
    "\n",
    "# 2.Assigning a Lambda to a Variable: You can assign this anonymous function to a variable, which gives you a reference to it:\n",
    "# add = lambda a, b: a + b\n",
    "# Here, the lambda function is still anonymous because the function itself doesn’t know it’s called add. The variable add is just pointing to the lambda function object in memory.\n",
    "\n",
    "# Compare this to a regular function:\n",
    "# def add(a, b):\n",
    "#     return a + b\n",
    "# In this case, the function knows it’s called add.\n",
    "\n",
    "# 3.Lambda Functions Do Not Have a Name Attribute: Even after assigning a lambda to a variable, the function object remains nameless in terms of Python's internal function properties:\n",
    "\n",
    "# add = lambda a, b: a + b\n",
    "# print(add.__name__)  # Output: <lambda>\n",
    "\n",
    "# By contrast:\n",
    "# def add(a, b):\n",
    "#     return a + b\n",
    "\n",
    "# print(add.__name__)  # Output: add"
   ]
  },
  {
   "cell_type": "code",
   "execution_count": 6,
   "id": "cf321cd1",
   "metadata": {},
   "outputs": [],
   "source": [
    "# When you assign a lambda function to a variable like add, the variable add is simply a reference (or pointer) to the lambda function. \n",
    "# The lambda function itself remains nameless, and add is not considered the \"name\" of the function in the way a regular function has a defined name.\n",
    "# As it is references to the function memory location we are passing the arugment through that."
   ]
  },
  {
   "cell_type": "markdown",
   "id": "73788f2f",
   "metadata": {},
   "source": [
    "# map function"
   ]
  },
  {
   "cell_type": "code",
   "execution_count": 52,
   "id": "065897c8",
   "metadata": {},
   "outputs": [
    {
     "name": "stdout",
     "output_type": "stream",
     "text": [
      "[100, 400, 900, 1600, 2500]\n"
     ]
    }
   ],
   "source": [
    "# map function\n",
    "\n",
    "# The map() function in Python is a built-in function that applies a specified function to each item of an iterable (such as a list, tuple, etc.) and returns an iterator that yields the results.\n",
    "\n",
    "# map(function, iterable)\n",
    "# function: The function to be applied to each item in the iterable.\n",
    "# iterable: The iterable (e.g., list, tuple) whose items will be passed to the function.\n",
    "# The map() function essentially performs a one-to-one mapping of elements from the input iterable to the output iterable by applying the specified function to each element. It's a convenient way to apply a transformation or calculation to every item in a collection.\n",
    "\n",
    "l1 = [10,20,30,40,50]\n",
    "res = list(map(lambda x:x*x,l1))\n",
    "print(res)"
   ]
  },
  {
   "cell_type": "markdown",
   "id": "4e1adbf9",
   "metadata": {},
   "source": [
    "# filter function"
   ]
  },
  {
   "cell_type": "code",
   "execution_count": 53,
   "id": "392255f9",
   "metadata": {},
   "outputs": [
    {
     "name": "stdout",
     "output_type": "stream",
     "text": [
      "[2, 4, 6, 8, 10]\n"
     ]
    }
   ],
   "source": [
    "# filter function\n",
    "\n",
    "# The filter() function in Python is a built-in function that is used to construct an iterator from elements of an iterable (such as a list, tuple, etc.) for which a specified function returns true. \n",
    "# It filters the elements based on the given function's criteria.\n",
    "\n",
    "# Here's the general syntax of the filter() function:\n",
    "\n",
    "# filter(function, iterable)\n",
    "# function: The function that defines the criteria for filtering. It must return True or False.\n",
    "# iterable: The iterable (e.g., list, tuple) containing the elements to be filtered.\n",
    "\n",
    "# The filter() function applies the specified function to each element in the iterable and includes only the elements for which the function returns True in the resulting iterator.\n",
    "\n",
    "\n",
    "# Filtering out the elements which are divisble by 2.\n",
    "l1 = [1,2,3,4,5,6,7,8,9,10]\n",
    "res = list(filter(lambda x:x%2==0,l1))\n",
    "print(res)"
   ]
  },
  {
   "cell_type": "code",
   "execution_count": 54,
   "id": "fd88cc17",
   "metadata": {},
   "outputs": [
    {
     "name": "stdout",
     "output_type": "stream",
     "text": [
      "15\n"
     ]
    }
   ],
   "source": [
    "# reduce function\n",
    "\n",
    "# the reduce function takes two arguments,the first one is the function and the second one is the iterable object.\n",
    "# The reduce function is applied to the first two element of the iterable object and then the result is applied to the next element and so on.\n",
    "# The reduce function used when we want single values as an output.\n",
    "# to use reduce we have to import it from functools \n",
    "\n",
    "from functools import reduce\n",
    "l1 = [1,2,3,4,5]\n",
    "res = reduce(lambda x,y:x+y,l1)\n",
    "print(res)"
   ]
  },
  {
   "cell_type": "markdown",
   "id": "04ab4e78",
   "metadata": {},
   "source": [
    "# Docstring"
   ]
  },
  {
   "cell_type": "code",
   "execution_count": 7,
   "id": "947c2b2b",
   "metadata": {},
   "outputs": [],
   "source": [
    "# The docstrings are the string liternal which are written just below the function name,class,method or module .\n",
    "# The docstring are used to describe the function,class,method or module.\n",
    "# In short explain the document of the code.\n",
    "# The docstrings are not ignored by python interpreter.\n",
    "\n",
    "# The doctstrings are printed using class , function, method or with module name.\n",
    "# The doctstrings can be of multiple lines\n",
    "# Syntax: \n",
    "#         print(funtion_name.__doc__)"
   ]
  },
  {
   "cell_type": "code",
   "execution_count": 8,
   "id": "ed326257",
   "metadata": {},
   "outputs": [
    {
     "name": "stdout",
     "output_type": "stream",
     "text": [
      "\n",
      "    This function takes two arguments and returns their sum.\n",
      "    \n",
      "    Args:\n",
      "        a (int or float): The first number.\n",
      "        b (int or float): The second number.\n",
      "    \n",
      "    Returns:\n",
      "        int or float: The sum of the two numbers.\n",
      "    \n"
     ]
    }
   ],
   "source": [
    "def add(a,b):\n",
    "    \"\"\"\n",
    "    This function takes two arguments and returns their sum.\n",
    "    \n",
    "    Args:\n",
    "        a (int or float): The first number.\n",
    "        b (int or float): The second number.\n",
    "    \n",
    "    Returns:\n",
    "        int or float: The sum of the two numbers.\n",
    "    \"\"\"\n",
    "    \n",
    "    return a+b\n",
    "\n",
    "add(10,20)\n",
    "# printing the docstring of the function\n",
    "print(add.__doc__)"
   ]
  },
  {
   "cell_type": "code",
   "execution_count": 9,
   "id": "9b13e0c3",
   "metadata": {},
   "outputs": [
    {
     "data": {
      "text/plain": [
       "'\\nFeature\\tComments\\tDocstrings\\n\\nDefinition\\t\\nComments are explanatory notes written in the code, ignored by the Python interpreter.\\t\\n\\nDocstrings are special strings used to document modules, classes, methods, or functions.\\n\\nPurpose\\tTo explain specific parts of the code for developers.\\t\\nTo describe the purpose, usage, and behavior of a module, class, or function for developers.\\n\\nSyntax\\tStart with a # symbol for single-line comments.\\t\\nUse triple quotes (\"\"\" or) to define them.\\n\\nAccessibility\\tCannot be accessed programmatically.\\tCan be accessed programmatically using the .__doc__ attribute.\\nPlacement\\tCan be placed anywhere in the code.\\tMust be the first statement inside a function, class, or module to be recognized as a docstring.\\n\\nScope\\tLimited to specific lines or sections of code.\\t\\nProvides documentation for the entire module, class, or function.\\n\\nConventions\\t\\nNo strict formatting conventions.\\tOften follows conventions like PEP 257 (e.g., Google, NumPy, or reStructuredText style).\\n\\nRuntime Availability\\tNot available at runtime.\\tAvailable at runtime via .__doc__'"
      ]
     },
     "execution_count": 9,
     "metadata": {},
     "output_type": "execute_result"
    }
   ],
   "source": [
    "'''\n",
    "Feature\tComments\tDocstrings\n",
    "\n",
    "Definition\t\n",
    "Comments are explanatory notes written in the code, ignored by the Python interpreter.\t\n",
    "\n",
    "Docstrings are special strings used to document modules, classes, methods, or functions.\n",
    "\n",
    "Purpose\tTo explain specific parts of the code for developers.\t\n",
    "To describe the purpose, usage, and behavior of a module, class, or function for developers.\n",
    "\n",
    "Syntax\tStart with a # symbol for single-line comments.\t\n",
    "Use triple quotes (\"\"\" or) to define them.\n",
    "\n",
    "Accessibility\tCannot be accessed programmatically.\tCan be accessed programmatically using the .__doc__ attribute.\n",
    "Placement\tCan be placed anywhere in the code.\tMust be the first statement inside a function, class, or module to be recognized as a docstring.\n",
    "\n",
    "Scope\tLimited to specific lines or sections of code.\t\n",
    "Provides documentation for the entire module, class, or function.\n",
    "\n",
    "Conventions\t\n",
    "No strict formatting conventions.\tOften follows conventions like PEP 257 (e.g., Google, NumPy, or reStructuredText style).\n",
    "\n",
    "Runtime Availability\tNot available at runtime.\tAvailable at runtime via .__doc__'''\n"
   ]
  },
  {
   "cell_type": "markdown",
   "id": "d3406e01",
   "metadata": {},
   "source": [
    "# help function"
   ]
  },
  {
   "cell_type": "code",
   "execution_count": 11,
   "id": "a2b4a666",
   "metadata": {},
   "outputs": [],
   "source": [
    "# The help() function in Python is a built-in function that provides information about a Python object, such as a module, class, function, or variable. \n",
    "# It displays the documentation (docstring) of the object and is used to understand its purpose, usage, and attributes."
   ]
  },
  {
   "cell_type": "code",
   "execution_count": 12,
   "id": "26e07adf",
   "metadata": {},
   "outputs": [
    {
     "name": "stdout",
     "output_type": "stream",
     "text": [
      "Help on function add in module __main__:\n",
      "\n",
      "add(a, b)\n",
      "    This function takes two arguments and returns their sum.\n",
      "    \n",
      "    Args:\n",
      "        a (int or float): The first number.\n",
      "        b (int or float): The second number.\n",
      "    \n",
      "    Returns:\n",
      "        int or float: The sum of the two numbers.\n",
      "\n"
     ]
    }
   ],
   "source": [
    "# We also get the docstring of the function using help function\n",
    "(help(add))"
   ]
  },
  {
   "cell_type": "code",
   "execution_count": 13,
   "id": "8ecf6641",
   "metadata": {},
   "outputs": [
    {
     "name": "stdout",
     "output_type": "stream",
     "text": [
      "Help on built-in function print in module builtins:\n",
      "\n",
      "print(*args, sep=' ', end='\\n', file=None, flush=False)\n",
      "    Prints the values to a stream, or to sys.stdout by default.\n",
      "    \n",
      "    sep\n",
      "      string inserted between values, default a space.\n",
      "    end\n",
      "      string appended after the last value, default a newline.\n",
      "    file\n",
      "      a file-like object (stream); defaults to the current sys.stdout.\n",
      "    flush\n",
      "      whether to forcibly flush the stream.\n",
      "\n"
     ]
    }
   ],
   "source": [
    "help(print)"
   ]
  },
  {
   "cell_type": "markdown",
   "id": "01d8e75d",
   "metadata": {},
   "source": [
    "# Iterable Object "
   ]
  },
  {
   "cell_type": "code",
   "execution_count": 15,
   "id": "ed96568c",
   "metadata": {},
   "outputs": [],
   "source": [
    "# An iterable object in Python is any object that can be iterated over—meaning you can loop through its elements one at a time using a loop (like a for loop) or other tools that process sequences of data.\n",
    "\n",
    "# Key Characteristics of an Iterable\n",
    "\n",
    "# 1.Implements __iter__ Method:\n",
    "# An object is iterable if it has a special method called __iter__() that returns an iterator.\n",
    "# If __iter__() is not defined, it can still be iterable if it implements the __getitem__() method and supports sequential indexing starting from 0.\n",
    "# Examples of Iterable Objects:\n",
    "\n",
    "# Built-in iterable objects in Python include:\n",
    "# Strings\n",
    "# Lists\n",
    "# Tuples\n",
    "# Dictionaries\n",
    "# Sets\n",
    "# Range objects\n",
    "\n",
    "# 2.Custom objects can also be made iterable by implementing the __iter__() or __getitem__() method."
   ]
  },
  {
   "cell_type": "code",
   "execution_count": 16,
   "id": "a5944503",
   "metadata": {},
   "outputs": [
    {
     "name": "stdout",
     "output_type": "stream",
     "text": [
      "10 20 30 "
     ]
    }
   ],
   "source": [
    "l1 = [10,20,30]\n",
    "for i in l1:\n",
    "    print(i,end=' ')"
   ]
  },
  {
   "cell_type": "code",
   "execution_count": 17,
   "id": "951598cf",
   "metadata": {},
   "outputs": [
    {
     "name": "stdout",
     "output_type": "stream",
     "text": [
      "hello"
     ]
    }
   ],
   "source": [
    "for i in \"hello\":\n",
    "    print(i,end='')"
   ]
  },
  {
   "cell_type": "code",
   "execution_count": 18,
   "id": "2eed603d",
   "metadata": {},
   "outputs": [
    {
     "name": "stdout",
     "output_type": "stream",
     "text": [
      "<list_iterator object at 0x000001A5960DE260>\n"
     ]
    }
   ],
   "source": [
    "# How to Identify an Iterable\n",
    "# You can check if an object is iterable by passing it to the iter() function:\n",
    "a = 10\n",
    "l1 = [10,20,30]\n",
    "print(iter(l1))\n",
    "\n",
    "# Here it gives error bcz a is not iterable object.\n",
    "# print(iter(a))"
   ]
  },
  {
   "cell_type": "markdown",
   "id": "3455fe09",
   "metadata": {},
   "source": [
    "# Iterator Object "
   ]
  },
  {
   "cell_type": "code",
   "execution_count": 20,
   "id": "1b64a79c",
   "metadata": {},
   "outputs": [],
   "source": [
    "# An iterator object in Python is an object that represents a stream of data and supports two key operations defined by the iterator protocol:\n",
    "\n",
    "# __iter__(): This method returns the iterator object itself. This allows the object to be used in places where an iterable is required (such as a for loop).\n",
    "\n",
    "# __next__(): This method returns the next item in the sequence. If there are no more items, it raises the StopIteration exception to signal the end of the iteration.\n",
    "\n",
    "# How Iterators Work:\n",
    "# When an object is an iterator, it can be used to traverse through a sequence of elements one at a time, using the next() function. The iterator remembers its position in the sequence, and each call to next() retrieves the next item, updating the internal state of the iterator.\n",
    "\n",
    "# Key Characteristics of an Iterator:\n",
    "\n",
    "# 1.Stateful: An iterator keeps track of its current position during iteration. It \"remembers\" where it is in the sequence.\n",
    "# 2.One-Time Use: Once an iterator is exhausted (all elements have been iterated), it cannot be reused. To start over, a new iterator must be created.\n",
    "# 3.Lazy Evaluation: Iterators generate elements on-demand. They don't store the entire sequence in memory, which makes them memory-efficient, especially for large datasets."
   ]
  },
  {
   "cell_type": "code",
   "execution_count": 21,
   "id": "57334600",
   "metadata": {},
   "outputs": [
    {
     "name": "stdout",
     "output_type": "stream",
     "text": [
      "[10, 20, 30]\n"
     ]
    }
   ],
   "source": [
    "l1 = [10,20,30]\n",
    "print(l1)"
   ]
  },
  {
   "cell_type": "code",
   "execution_count": 22,
   "id": "89c998a0",
   "metadata": {},
   "outputs": [
    {
     "name": "stdout",
     "output_type": "stream",
     "text": [
      "10\n"
     ]
    }
   ],
   "source": [
    "it = iter(l1)\n",
    "print(next(it))"
   ]
  },
  {
   "cell_type": "code",
   "execution_count": 23,
   "id": "1d53b4cc",
   "metadata": {},
   "outputs": [
    {
     "data": {
      "text/plain": [
       "20"
      ]
     },
     "execution_count": 23,
     "metadata": {},
     "output_type": "execute_result"
    }
   ],
   "source": [
    "next(it)"
   ]
  },
  {
   "cell_type": "code",
   "execution_count": 24,
   "id": "08507b1b",
   "metadata": {},
   "outputs": [
    {
     "data": {
      "text/plain": [
       "30"
      ]
     },
     "execution_count": 24,
     "metadata": {},
     "output_type": "execute_result"
    }
   ],
   "source": [
    "next(it)"
   ]
  },
  {
   "cell_type": "code",
   "execution_count": 26,
   "id": "368c7fee",
   "metadata": {},
   "outputs": [],
   "source": [
    "# When there is no more element in the iterator object then it will raise an StopIteration error.\n",
    "# next(it)"
   ]
  },
  {
   "cell_type": "markdown",
   "id": "7bdba0ff",
   "metadata": {},
   "source": [
    "# Why Do We Need Iterators?"
   ]
  },
  {
   "cell_type": "code",
   "execution_count": 27,
   "id": "8bb9dc60",
   "metadata": {},
   "outputs": [],
   "source": [
    "# Memory Efficiency: Iterators don't need to store the entire sequence in memory at once. They compute each element only when it's needed.\n",
    "# Infinite Sequences: Iterators can represent infinite sequences (e.g., a stream of data from a file or a generator), something that would be impractical with a data structure like a list, which requires all elements to be stored in memory at once."
   ]
  },
  {
   "cell_type": "markdown",
   "id": "fd12fbf9",
   "metadata": {},
   "source": [
    "# Why python implicilty convert the iterables into iterator ?"
   ]
  },
  {
   "cell_type": "code",
   "execution_count": 29,
   "id": "839a36af",
   "metadata": {},
   "outputs": [
    {
     "name": "stdout",
     "output_type": "stream",
     "text": [
      "0 1 2 3 4 5 6 7 8 9 "
     ]
    }
   ],
   "source": [
    "# Python implicitly converts iterables into iterators for the sake of flexibility, performance, and ease of use when working with collections of data. Here's why this conversion occurs and how it benefits Python:\n",
    "\n",
    "# 1. To Enable Efficient Iteration\n",
    "# Iterators allow Python to iterate over collections on-demand rather than generating the entire list of elements at once. This leads to memory efficiency, especially when working with large datasets or infinite sequences.\n",
    "\n",
    "# Example: The range() function in Python returns a range object, which is an iterable. \n",
    "# But it doesn’t generate all the numbers immediately.\n",
    "# Instead, when you iterate over the range, Python creates the numbers one by one, reducing memory usage.\n",
    "\n",
    "for i in range(10):\n",
    "    print(i,end=' ')\n"
   ]
  },
  {
   "cell_type": "code",
   "execution_count": 30,
   "id": "b6dbcea1",
   "metadata": {},
   "outputs": [
    {
     "name": "stdout",
     "output_type": "stream",
     "text": [
      "10 20 30 40 50 "
     ]
    }
   ],
   "source": [
    "# 2. To Simplify Code\n",
    "# By implicitly converting an iterable to an iterator when needed, Python makes code simpler and more intuitive. You don't have to manually convert objects to iterators—Python handles it for you behind the scenes.\n",
    "# For example, if you use a for loop on any iterable object (like a list, string, or set), Python automatically converts it into an iterator internally:\n",
    "\n",
    "l1 = [10,20,30,40,50]\n",
    "for i in l1:\n",
    "    print(i,end=' ')"
   ]
  },
  {
   "cell_type": "code",
   "execution_count": 31,
   "id": "5bab4647",
   "metadata": {},
   "outputs": [],
   "source": [
    "# 3. Iterator Protocol\n",
    "# Python’s iterator protocol consists of two key methods:\n",
    "\n",
    "# __iter__() – This method returns the iterator object itself.\n",
    "# __next__() – This method returns the next item in the sequence.\n",
    "# The for loop or other tools like next() can use this protocol to repeatedly retrieve the next element from an iterable.\n",
    "\n",
    "# When an iterable object (like a list or string) is used in a context that requires an iterator (e.g., in a for loop or when passed to next()), Python calls the __iter__() method of that iterable to convert it into an iterator. This allows the iterator to remember the current position and fetch the next value when required."
   ]
  },
  {
   "cell_type": "code",
   "execution_count": 32,
   "id": "3b2ca730",
   "metadata": {},
   "outputs": [],
   "source": [
    "# 4. Lazy Evaluation\n",
    "# Python uses iterators to support lazy evaluation—which means values are computed and returned only when needed, rather than all at once. This is especially useful when working with large datasets, infinite sequences, or when the data isn't immediately available.\n",
    "\n",
    "# Example: If you use a generator (which is an iterator) to read a large file, Python won't load the entire file into memory. Instead, it reads the file one line at a time when needed, allowing the program to handle much larger data efficiently.\n"
   ]
  },
  {
   "cell_type": "code",
   "execution_count": 33,
   "id": "46e2f6c9",
   "metadata": {},
   "outputs": [],
   "source": [
    "# 5. Seamless Integration with Python’s Built-in Functions\n",
    "# Many of Python's built-in functions and tools are designed to work seamlessly with iterators:\n",
    "\n",
    "# map() and filter() work with iterators, returning iterators that generate values as needed.\n",
    "# zip() returns an iterator, which makes it memory efficient when working with multiple sequences.\n",
    "# By automatically converting iterables to iterators, Python ensures that these functions can handle large collections without consuming excessive memory."
   ]
  },
  {
   "cell_type": "code",
   "execution_count": 34,
   "id": "2698c9fb",
   "metadata": {},
   "outputs": [
    {
     "name": "stdout",
     "output_type": "stream",
     "text": [
      "1 2 3 4 5 "
     ]
    }
   ],
   "source": [
    "# Custom Iterator\n",
    "\n",
    "class Myiterator:\n",
    "    \n",
    "    def __init__(self,start,end):\n",
    "        self.current = start\n",
    "        self.end = end\n",
    "    \n",
    "    def __iter__(self):\n",
    "        return self\n",
    "    \n",
    "    def __next__(self):\n",
    "        if self.current>self.end:\n",
    "            raise StopIteration\n",
    "        self.current = self.current + 1\n",
    "        return self.current - 1\n",
    "\n",
    "iterator = Myiterator(1,5)\n",
    "for i in iterator:\n",
    "    print(i,end=' ')"
   ]
  },
  {
   "cell_type": "markdown",
   "id": "06e43cd3",
   "metadata": {},
   "source": [
    "# Generator Object "
   ]
  },
  {
   "cell_type": "code",
   "execution_count": 36,
   "id": "e7efac3a",
   "metadata": {},
   "outputs": [
    {
     "data": {
      "text/plain": [
       "[0, 1, 8, 27, 64, 125, 216, 343, 512, 729]"
      ]
     },
     "execution_count": 36,
     "metadata": {},
     "output_type": "execute_result"
    }
   ],
   "source": [
    "# Here we getting delay in output bcz first all the data in stored in the memory then we can print it\n",
    "# Means once all the data is stored then we can print it.\n",
    "# means that memory is not released untill all the computation is done.\n",
    "def test(n):\n",
    "    l1 = []\n",
    "    for i in range(n):\n",
    "        l1.append(i**3)\n",
    "    return l1\n",
    "\n",
    "test(10)\n",
    "\n",
    "# Here it is normal function which first produce all the values then return it.\n",
    "# why we need generator function explain below."
   ]
  },
  {
   "cell_type": "code",
   "execution_count": 37,
   "id": "2b11f275",
   "metadata": {},
   "outputs": [],
   "source": [
    "# A generator object in Python is a type of iterable object that is used to generate a sequence of values lazily, one at a time, rather than storing them all in memory.\n",
    "# It is created using generator functions or generator expressions."
   ]
  },
  {
   "cell_type": "code",
   "execution_count": 38,
   "id": "770e43a7",
   "metadata": {},
   "outputs": [],
   "source": [
    "# Key Features of Generator Objects:\n",
    "\n",
    "# 1.Lazy Evaluation: Generators calculate the next value only when needed, which makes them memory efficient.\n",
    "# 2.Stateful Iteration: Generators remember their state between successive calls, so they can continue where they left off.\n",
    "# 3.Efficient Memory Usage: Since generators produce items one at a time, they don’t require the entire sequence to be stored in memory.\n"
   ]
  },
  {
   "cell_type": "code",
   "execution_count": 39,
   "id": "e53f6cee",
   "metadata": {},
   "outputs": [],
   "source": [
    "# Creating a Generator\n",
    "# Generators can be created using two ways:\n",
    "\n",
    "# Using Generator Functions: Functions that use the yield keyword instead of return.\n",
    "# Using Generator Expressions: Similar to list comprehensions but with parentheses () instead of square brackets []."
   ]
  },
  {
   "cell_type": "code",
   "execution_count": 40,
   "id": "978a0726",
   "metadata": {},
   "outputs": [],
   "source": [
    "# 1. Generator Function\n",
    "# A generator function is a normal Python function but with the yield keyword.\n",
    "# Each time the function is called, it produces the next value and pauses the function’s execution, saving its state."
   ]
  },
  {
   "cell_type": "code",
   "execution_count": 41,
   "id": "0db68a85",
   "metadata": {},
   "outputs": [
    {
     "name": "stdout",
     "output_type": "stream",
     "text": [
      "<generator object count_to at 0x000001A59675DCB0>\n",
      "<class 'generator'>\n",
      "1\n",
      "2\n",
      "3\n",
      "4\n",
      "5\n",
      "6\n",
      "7\n",
      "8\n",
      "9\n",
      "10\n"
     ]
    }
   ],
   "source": [
    "# In the above example we have seen that once all the data is produced then it is printed\n",
    "# But now it is not the normal function bcz we have used yeild keyword which indicate that it is generator function.\n",
    "# Generator function does not produce all the data at once instead it print the data on demand.\n",
    "# the yield keyword is used to pause the exceution of the function and return the value written after that and store the current state of the function\n",
    "# so that next time when the value is demanded the function can continue its execution from it is left off.\n",
    "def count_to(n):\n",
    "    count = 1 \n",
    "    while count<=n:\n",
    "        yield count\n",
    "        count = count + 1\n",
    "gen = count_to(10)\n",
    "print(gen)\n",
    "print(type(gen))\n",
    "for i in gen:\n",
    "    print(i)"
   ]
  },
  {
   "cell_type": "code",
   "execution_count": 42,
   "id": "16b66f07",
   "metadata": {},
   "outputs": [
    {
     "name": "stdout",
     "output_type": "stream",
     "text": [
      "<generator object <genexpr> at 0x000001A5967E85F0>\n",
      "<class 'generator'>\n",
      "0\n",
      "1\n",
      "2\n",
      "3\n",
      "4\n",
      "5\n",
      "6\n",
      "7\n",
      "8\n",
      "9\n",
      "10\n",
      "11\n",
      "12\n",
      "13\n",
      "14\n",
      "15\n",
      "16\n",
      "17\n",
      "18\n",
      "19\n",
      "20\n",
      "21\n",
      "22\n",
      "23\n",
      "24\n",
      "25\n",
      "26\n",
      "27\n",
      "28\n",
      "29\n",
      "30\n",
      "31\n",
      "32\n",
      "33\n",
      "34\n",
      "35\n",
      "36\n",
      "37\n",
      "38\n",
      "39\n",
      "40\n",
      "41\n",
      "42\n",
      "43\n",
      "44\n",
      "45\n",
      "46\n",
      "47\n",
      "48\n",
      "49\n",
      "50\n",
      "51\n",
      "52\n",
      "53\n",
      "54\n",
      "55\n",
      "56\n",
      "57\n",
      "58\n",
      "59\n",
      "60\n",
      "61\n",
      "62\n",
      "63\n",
      "64\n",
      "65\n",
      "66\n",
      "67\n",
      "68\n",
      "69\n",
      "70\n",
      "71\n",
      "72\n",
      "73\n",
      "74\n",
      "75\n",
      "76\n",
      "77\n",
      "78\n",
      "79\n",
      "80\n",
      "81\n",
      "82\n",
      "83\n",
      "84\n",
      "85\n",
      "86\n",
      "87\n",
      "88\n",
      "89\n",
      "90\n",
      "91\n",
      "92\n",
      "93\n",
      "94\n",
      "95\n",
      "96\n",
      "97\n",
      "98\n",
      "99\n"
     ]
    }
   ],
   "source": [
    "# 2. Generator Expression\n",
    "# A generator expression is a concise way to create a generator object without defining a full function.\n",
    "\n",
    "gen = (i for i in range(100))\n",
    "print(gen)\n",
    "print(type(gen))\n",
    "\n",
    "\n",
    "for i in gen:\n",
    "    print(i)"
   ]
  },
  {
   "cell_type": "code",
   "execution_count": 43,
   "id": "9e7269e4",
   "metadata": {},
   "outputs": [],
   "source": [
    "# In Short:\n",
    "# With yield: You explicitly define the function that produces values lazily, and yield helps to pause and resume the function’s execution while remembering the state.\n",
    "# With generator expressions: You don’t write yield explicitly, but Python creates an equivalent internal generator function that behaves in the same way, producing values lazily and maintaining state between iterations."
   ]
  },
  {
   "cell_type": "markdown",
   "id": "762fc0e6",
   "metadata": {},
   "source": [
    "# why there is a need of generator object as we already have iterators?\n"
   ]
  },
  {
   "cell_type": "code",
   "execution_count": 45,
   "id": "3ec786c0",
   "metadata": {},
   "outputs": [],
   "source": [
    "# The need for generator objects arises because they provide several advantages over manually implemented iterators, even though both share the same core concept of producing values lazily. \n",
    "# Here's why generator objects are needed despite the existence of iterators:\n",
    "\n",
    "# Ease of Implementation\n",
    "# Iterators: To create an iterator, you must define a class and implement both the __iter__() and __next__() methods, along with manually managing the state of the iteration.\n",
    "# Generators: With generators, you simply use the yield keyword in a function, and Python automatically creates the iterator for you. This reduces boilerplate code and makes the logic much easier to understand."
   ]
  },
  {
   "cell_type": "code",
   "execution_count": 46,
   "id": "1076c01c",
   "metadata": {},
   "outputs": [
    {
     "data": {
      "text/plain": [
       "<generator object genfib at 0x000001A5960C5C60>"
      ]
     },
     "execution_count": 46,
     "metadata": {},
     "output_type": "execute_result"
    }
   ],
   "source": [
    "def genfib(n):\n",
    "    l1 = []\n",
    "    a = 0\n",
    "    b = 1\n",
    "    for i in range(n):\n",
    "        yield a\n",
    "        a,b = b,a+b\n",
    "        \n",
    "genfib(10)"
   ]
  },
  {
   "cell_type": "code",
   "execution_count": 47,
   "id": "8597d8f1",
   "metadata": {},
   "outputs": [],
   "source": [
    "# Are Generators Iterable?\n",
    "# Yes, generator objects are both iterable and iterators.\n",
    "\n",
    "# Iterable:\n",
    "\n",
    "# An object is iterable if it implements the __iter__() method, which returns an iterator.\n",
    "# When you create a generator using a generator function (with yield), Python automatically makes the resulting generator object iterable. This is why you can use it in a for loop.\n",
    "# Iterator:\n",
    "\n",
    "# An iterator is an object that implements the __next__() method to fetch the next value.\n",
    "# A generator object is also an iterator because it can produce the next value on demand using the __next__() method."
   ]
  },
  {
   "cell_type": "code",
   "execution_count": 49,
   "id": "204b87e7",
   "metadata": {},
   "outputs": [
    {
     "name": "stdout",
     "output_type": "stream",
     "text": [
      "0 1 1 2 3 5 8 13 21 34 "
     ]
    }
   ],
   "source": [
    "# The execution of the generator object.\n",
    "# Whenever the yield is encountered inside the function python automatically creates the generator object upto this point,generator function body does not executed\n",
    "# When we write for i in generator_object I request is send to get the first number.\n",
    "# Means the generator function body starts executing on encounter of yield keyword frozen the function execution,store the function state and return the value written after the yield keyword \n",
    "# When again the next is demanded generator function resume its execution from the yield statement.\n",
    "def genfib(n):\n",
    "    a = 0\n",
    "    b = 1\n",
    "    for i in range(n):\n",
    "        yield a\n",
    "        a,b = b,a+b\n",
    "        \n",
    "genfib(10)\n",
    "for i in genfib(10):\n",
    "    print(i,end=' ')"
   ]
  },
  {
   "cell_type": "code",
   "execution_count": null,
   "id": "73945fae",
   "metadata": {},
   "outputs": [],
   "source": []
  }
 ],
 "metadata": {
  "kernelspec": {
   "display_name": "Python 3 (ipykernel)",
   "language": "python",
   "name": "python3"
  },
  "language_info": {
   "codemirror_mode": {
    "name": "ipython",
    "version": 3
   },
   "file_extension": ".py",
   "mimetype": "text/x-python",
   "name": "python",
   "nbconvert_exporter": "python",
   "pygments_lexer": "ipython3",
   "version": "3.11.5"
  }
 },
 "nbformat": 4,
 "nbformat_minor": 5
}
