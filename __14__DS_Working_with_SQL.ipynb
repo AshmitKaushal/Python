{
 "cells": [
  {
   "cell_type": "code",
   "execution_count": 1,
   "id": "655eea88",
   "metadata": {},
   "outputs": [
    {
     "name": "stdout",
     "output_type": "stream",
     "text": [
      "Requirement already satisfied: mysql-connector-python in s:\\anaconda\\lib\\site-packages (9.2.0)\n"
     ]
    }
   ],
   "source": [
    "!pip install mysql-connector-python"
   ]
  },
  {
   "cell_type": "markdown",
   "id": "48e44686",
   "metadata": {},
   "source": [
    "# 1. Select Statement "
   ]
  },
  {
   "cell_type": "code",
   "execution_count": 2,
   "id": "fcb597ef",
   "metadata": {},
   "outputs": [],
   "source": [
    "import mysql.connector as connection"
   ]
  },
  {
   "cell_type": "code",
   "execution_count": 3,
   "id": "d5f846fa",
   "metadata": {},
   "outputs": [
    {
     "name": "stdout",
     "output_type": "stream",
     "text": [
      "<mysql.connector.connection.MySQLConnection object at 0x00000216712F8B90>\n"
     ]
    }
   ],
   "source": [
    "con = connection.connect(host='localhost',user='root',password='root',use_pure=True,charset='utf8',database='employee')\n",
    "print(con)\n",
    "\n",
    "# Purpose: This connects Python to your MySQL database.\n",
    "\n",
    "# Parameters:\n",
    "# host: Address of your MySQL server (usually localhost if the database is running locally).\n",
    "# user: Your MySQL username (e.g., root).\n",
    "# password: Password associated with the user.\n",
    "# database: The name of the database where you'll be working.\n",
    "\n",
    "# If the connection is successful, a connection object is created."
   ]
  },
  {
   "cell_type": "code",
   "execution_count": 6,
   "id": "a43babc4",
   "metadata": {},
   "outputs": [],
   "source": [
    "# 1.what is use_pure parameter?\n",
    "\n",
    "# The use_pure parameter in the mysql.connector.connect() method determines whether to use \n",
    "# the pure Python implementation or the C-extension implementation of the MySQL Connector for interacting with the MySQL database.\n",
    "\n",
    "# 2.Purpose of use_pure\n",
    "# use_pure=True: Use the pure Python implementation of MySQL Connector.\n",
    "# use_pure=False: Use the C-extension implementation of MySQL Connector if available.\n",
    "\n",
    "# 3.Why is there a Pure Python Implementation?\n",
    "# The pure Python implementation of MySQL Connector is written entirely in Python and does not depend on any compiled C code or external libraries.\n",
    "# The C-extension implementation, on the other hand, is faster because it uses low-level, compiled C code for certain operations, which enhances performance.\n",
    "\n",
    "# 4.When to Use use_pure=True or use_pure=False?\n",
    "\n",
    "# a. use_pure=True\n",
    "# Ensures the connector operates in pure Python mode.\n",
    "# Useful in environments where:\n",
    "# C-extensions are not available or cannot be installed (e.g., some server environments or virtualized environments).\n",
    "# You want to avoid compatibility issues caused by C extensions.\n",
    "# May result in slower performance compared to the C-extension mode.\n",
    "\n",
    "# b. use_pure=False\n",
    "# Tries to use the C-extension implementation of MySQL Connector for better performance.\n",
    "# The connector will fall back to the pure Python implementation automatically if the C-extension is not available.\n",
    "# Recommended in most scenarios where performance is critical.\n"
   ]
  },
  {
   "cell_type": "code",
   "execution_count": 7,
   "id": "2ff2f403",
   "metadata": {},
   "outputs": [
    {
     "name": "stdout",
     "output_type": "stream",
     "text": [
      "MySQLCursor: (Nothing executed yet)\n"
     ]
    }
   ],
   "source": [
    "cursor = con.cursor()\n",
    "print(cursor)\n",
    "\n",
    "# Purpose: \n",
    "# The cursor is a pointer that allows you to interact with the database (execute SQL queries and retrieve results).\n",
    "\n",
    "\n",
    "# what is cursor method ?\n",
    "# In Python, the cursor() method is used to create a cursor object from a database connection. \n",
    "# This cursor object acts as a pointer that allows you to execute SQL commands and interact with the database.\n",
    "# It's an essential component when working with databases in Python.\n",
    "\n",
    "# The cursor is part of the Python Database API (DB-API), which is implemented by most Python database libraries, \n",
    "# such as mysql-connector-python, sqlite3, and psycopg2 for PostgreSQL.\n",
    "\n"
   ]
  },
  {
   "cell_type": "code",
   "execution_count": 5,
   "id": "926806e8",
   "metadata": {},
   "outputs": [],
   "source": [
    "cursor.execute(\"Select * from emp\")\n",
    "\n",
    "# what is execute method?\n",
    "# The cursor.execute() method in Python is used to execute SQL queries or commands using a database cursor. \n",
    "# It is a fundamental part of interacting with a database, and you use it to send SQL commands such as SELECT, INSERT, UPDATE, or DELETE to the database server.\n",
    "\n",
    "\n",
    "# query: A string containing the SQL query to be executed.\n",
    "# params (optional): A tuple or dictionary of parameters to be substituted into the query.\n",
    "# This helps prevent SQL injection.\n",
    "\n",
    "\n",
    "# How It Works\n",
    "# The execute() method sends the SQL query to the database server through the database connection.\n",
    "# The database processes the query.\n",
    "# If the query fetches data (like SELECT), the result is stored in the cursor object, which you can retrieve later using methods like fetchone() or fetchall().\n",
    "# If the query modifies data (like INSERT or UPDATE), you may need to call commit() on the connection to save the changes."
   ]
  },
  {
   "cell_type": "code",
   "execution_count": null,
   "id": "7e09b308",
   "metadata": {},
   "outputs": [],
   "source": [
    "# SQL injection is an attack technique where an attacker manipulates input fields to execute arbitrary SQL commands on the database.\n",
    "# For example, if you directly concatenate user input into an SQL query, attackers can exploit it to perform unintended actions like accessing or modifying data.\n",
    "\n",
    "# Example of Vulnerable Code:\n",
    "\n",
    "# user_input = \"1; DROP TABLE employees;\"  # Malicious input\n",
    "# query = \"SELECT * FROM employees WHERE id = \" + user_input\n",
    "# cursor.execute(query)  # Executes: SELECT * FROM employees WHERE id = 1; DROP TABLE employees;\n",
    "\n",
    "# In the above case:\n",
    "# The malicious input \"1; DROP TABLE employees;\" executes two SQL commands.\n",
    "# This could lead to catastrophic consequences like dropping the entire table."
   ]
  },
  {
   "cell_type": "code",
   "execution_count": 1,
   "id": "68fdb495",
   "metadata": {},
   "outputs": [],
   "source": [
    "# How Parameterized Queries Prevent SQL Injection\n",
    "# Parameterized queries prevent this by treating inputs strictly as data, not as executable SQL commands. \n",
    "# When you use parameters, the database engine binds the input values as data instead of including them directly in the SQL string.\n",
    "\n",
    "# useinput = \"1; DROP TABLE employees;\"  # Malicious input\n",
    "# query = \"SELECT * FROM employees WHERE id = ?\"\n",
    "# cursor.execute(query, (user_input,))\n",
    "\n",
    "# Here’s what happens internally:\n",
    "\n",
    "# Query Parsing: The database engine parses the query string: \"SELECT * FROM employees WHERE id = ?\"\n",
    "# Binding Values: The parameter (user_input,) is bound to the ? placeholder.\n",
    "# Safe Execution: The database treats user_input as a literal value, not SQL code.\n",
    "\n",
    "# In this case:\n",
    "\n",
    "# The query becomes: \"SELECT * FROM employees WHERE id = '1; DROP TABLE employees;'\"\n",
    "# The malicious input is safely treated as a string and cannot execute SQL commands.\n"
   ]
  },
  {
   "cell_type": "code",
   "execution_count": null,
   "id": "b8bc30f8",
   "metadata": {},
   "outputs": [],
   "source": [
    "# Yes, when you use a SELECT query with the cursor.execute() method, it executes the query, but it does not directly return the results. \n",
    "# Instead, the result set is stored in the cursor object, and you need to fetch the data explicitly using methods like:\n",
    "\n",
    "# fetchall() - Retrieves all rows from the result set.\n",
    "# fetchone() - Retrieves the next row from the result set.\n",
    "# fetchmany(size) - Retrieves the next size number of rows.\n"
   ]
  },
  {
   "cell_type": "code",
   "execution_count": null,
   "id": "cfd1c85c",
   "metadata": {},
   "outputs": [],
   "source": [
    "# Details of How Data Is Stored and Retrieved:\n",
    "\n",
    "# 1.Internally in Cursor:\n",
    "# After executing the SELECT query, the result set (i.e., the matching rows) is fetched from the database server and stored in the cursor object.\n",
    "# The exact structure is managed by the database driver (e.g., mysql-connector-python, psycopg2, sqlite3, etc.), but this is abstracted from you.\n",
    "\n",
    "# 2.When Retrieved (e.g., via fetchall(), fetchone(), etc.):\n",
    "# The rows are retrieved from the cursor object in a Python-friendly format.\n",
    "# By default, this is a list of tuples.\n"
   ]
  },
  {
   "cell_type": "code",
   "execution_count": 6,
   "id": "82f3215a",
   "metadata": {},
   "outputs": [
    {
     "name": "stdout",
     "output_type": "stream",
     "text": [
      "(1, 'Ashmit')\n",
      "(2, '')\n"
     ]
    }
   ],
   "source": [
    "for row in cursor.fetchall():\n",
    "    print(row)\n",
    "    \n",
    "# The fetchall() method is a function in database cursor objects used to retrieve all rows of the result set from the most recently executed SQL SELECT query. \n",
    "# It returns the data as a list of tuples, where each tuple represents a row in the result set.\n",
    "\n",
    "\n",
    "# When to Use fetchall()\n",
    "# When you want to retrieve and process all rows from a result set at once.\n",
    "# It's suitable when working with small to moderately sized result sets.\n",
    "# For very large datasets, it may use too much memory, so consider using fetchone() or fetchmany() instead.    "
   ]
  },
  {
   "cell_type": "markdown",
   "id": "396aca94",
   "metadata": {},
   "source": [
    "# Responsibilities of the Connection Object:"
   ]
  },
  {
   "cell_type": "code",
   "execution_count": 2,
   "id": "6ab4b42b",
   "metadata": {},
   "outputs": [],
   "source": [
    "# The connection object represents your session with the database.\n",
    "# It manages the transaction lifecycle, including:\n",
    "# Starting a transaction.\n",
    "# Committing changes to make them permanent in the database.\n",
    "# Rolling back changes in case of an error.\n",
    "# Any changes made to the database (via queries like INSERT, UPDATE, or DELETE) are part of a transaction.\n",
    "# By default, these changes are temporary until the transaction is explicitly committed or rolled back."
   ]
  },
  {
   "cell_type": "markdown",
   "id": "efc7ab31",
   "metadata": {},
   "source": [
    "# Responsibilities of the Cursor Object:"
   ]
  },
  {
   "cell_type": "code",
   "execution_count": 6,
   "id": "e722ba11",
   "metadata": {},
   "outputs": [],
   "source": [
    "# The cursor object is responsible for executing queries and interacting with the database.\n",
    "# It fetches result sets for SELECT queries and sends data manipulation instructions (INSERT, UPDATE, etc.) to the database.\n",
    "# However, the cursor itself does not manage transactions or control how changes are finalized."
   ]
  },
  {
   "cell_type": "markdown",
   "id": "275c2ead",
   "metadata": {},
   "source": [
    "# Why commit() on the Connection?"
   ]
  },
  {
   "cell_type": "code",
   "execution_count": 7,
   "id": "2d382690",
   "metadata": {},
   "outputs": [],
   "source": [
    "# When you run a data-modifying query (e.g., INSERT, UPDATE, or DELETE) using the cursor:\n",
    "\n",
    "# The cursor sends the query to the database server and performs the requested operation.\n",
    "# The changes remain in a pending (uncommitted) state because they are part of the transaction managed by the connection.\n",
    "# To make these changes permanent, you must explicitly call commit() on the connection.\n",
    "# If you were to call commit() on the cursor (if it even existed), the cursor wouldn't know how to commit because it doesn't manage the transaction—it is only a tool for executing queries within the transaction.\n",
    "\n"
   ]
  },
  {
   "cell_type": "code",
   "execution_count": 8,
   "id": "6612eab5",
   "metadata": {},
   "outputs": [],
   "source": [
    "# Analogy:\n",
    "# Think of the connection as the \"contract\" or \"agreement\" between you and the database, \n",
    "# and the cursor as a \"messenger\" or \"worker\" executing tasks under that agreement.\n",
    "\n",
    "# Connection: Manages the overall transaction, ensuring changes are saved (via commit()) or discarded (via rollback()).\n",
    "# Cursor: Executes individual queries but relies on the connection to finalize the transaction.\n"
   ]
  },
  {
   "cell_type": "markdown",
   "id": "c7b814ec",
   "metadata": {},
   "source": [
    "# 2. Insert Statement"
   ]
  },
  {
   "cell_type": "code",
   "execution_count": 2,
   "id": "4a9cf7ac",
   "metadata": {},
   "outputs": [],
   "source": [
    "import mysql.connector as connection"
   ]
  },
  {
   "cell_type": "code",
   "execution_count": 4,
   "id": "68eda649",
   "metadata": {},
   "outputs": [
    {
     "name": "stdout",
     "output_type": "stream",
     "text": [
      "<mysql.connector.connection.MySQLConnection object at 0x0000021473F7DA50>\n"
     ]
    }
   ],
   "source": [
    "con = connection.connect(host='localhost',user='root',password='root',database='employee',charset='utf8',use_pure=True)\n",
    "print(con)"
   ]
  },
  {
   "cell_type": "code",
   "execution_count": 8,
   "id": "bee4fc20",
   "metadata": {},
   "outputs": [],
   "source": [
    "cursor = con.cursor()"
   ]
  },
  {
   "cell_type": "code",
   "execution_count": 16,
   "id": "887d3f99",
   "metadata": {},
   "outputs": [],
   "source": [
    "cursor.execute('Insert into emp values (%s,%s)',(2,'gogo'))"
   ]
  },
  {
   "cell_type": "code",
   "execution_count": 17,
   "id": "2189a29d",
   "metadata": {},
   "outputs": [],
   "source": [
    "con.commit()"
   ]
  },
  {
   "cell_type": "code",
   "execution_count": 21,
   "id": "d24817c0",
   "metadata": {},
   "outputs": [],
   "source": [
    "# Retriving the inserted data \n",
    "cursor.execute(\"Select * from emp\")"
   ]
  },
  {
   "cell_type": "code",
   "execution_count": 22,
   "id": "05bf7070",
   "metadata": {},
   "outputs": [
    {
     "name": "stdout",
     "output_type": "stream",
     "text": [
      "(1, 'Ashmit')\n",
      "(2, '')\n",
      "(2, 'gogo')\n"
     ]
    }
   ],
   "source": [
    "for row in cursor.fetchall():\n",
    "    print(row)"
   ]
  },
  {
   "cell_type": "code",
   "execution_count": 23,
   "id": "2def6d6b",
   "metadata": {},
   "outputs": [],
   "source": [
    "con.close()"
   ]
  },
  {
   "cell_type": "markdown",
   "id": "e443e157",
   "metadata": {},
   "source": [
    "# 3. Delete Statement  "
   ]
  },
  {
   "cell_type": "code",
   "execution_count": 1,
   "id": "e8b83c6e",
   "metadata": {},
   "outputs": [],
   "source": [
    "import mysql.connector as connection"
   ]
  },
  {
   "cell_type": "code",
   "execution_count": 7,
   "id": "ae5df0bb",
   "metadata": {},
   "outputs": [
    {
     "name": "stdout",
     "output_type": "stream",
     "text": [
      "<mysql.connector.connection.MySQLConnection object at 0x000002944E77A510>\n"
     ]
    }
   ],
   "source": [
    "con = connection.connect(host= 'localhost',username = 'root',password='root',database='employee',use_pure=True,charset='utf8')\n",
    "print(con)"
   ]
  },
  {
   "cell_type": "code",
   "execution_count": 8,
   "id": "5c63dbcc",
   "metadata": {},
   "outputs": [
    {
     "name": "stdout",
     "output_type": "stream",
     "text": [
      "MySQLCursor: (Nothing executed yet)\n"
     ]
    }
   ],
   "source": [
    "cursor = con.cursor()\n",
    "print(cursor)"
   ]
  },
  {
   "cell_type": "code",
   "execution_count": 11,
   "id": "9e030c81",
   "metadata": {},
   "outputs": [],
   "source": [
    "cursor.execute('Delete from emp where id = %s',(2,))"
   ]
  },
  {
   "cell_type": "code",
   "execution_count": 12,
   "id": "d8fffd4e",
   "metadata": {},
   "outputs": [],
   "source": [
    "con.commit()"
   ]
  },
  {
   "cell_type": "code",
   "execution_count": 13,
   "id": "61b7cdcc",
   "metadata": {},
   "outputs": [],
   "source": [
    "con.close()"
   ]
  },
  {
   "cell_type": "markdown",
   "id": "ace41b78",
   "metadata": {},
   "source": [
    "# 4. Update Statement"
   ]
  },
  {
   "cell_type": "code",
   "execution_count": 14,
   "id": "66c326c1",
   "metadata": {},
   "outputs": [],
   "source": [
    "import mysql.connector as connection"
   ]
  },
  {
   "cell_type": "code",
   "execution_count": 15,
   "id": "d32d02ce",
   "metadata": {},
   "outputs": [
    {
     "name": "stdout",
     "output_type": "stream",
     "text": [
      "<mysql.connector.connection.MySQLConnection object at 0x000002945143FE90>\n"
     ]
    }
   ],
   "source": [
    "con = connection.connect(host='localhost',user='root',password='root',database='employee',use_pure=True,charset='utf8')\n",
    "print(con)"
   ]
  },
  {
   "cell_type": "code",
   "execution_count": 17,
   "id": "99fca998",
   "metadata": {},
   "outputs": [
    {
     "name": "stdout",
     "output_type": "stream",
     "text": [
      "MySQLCursor: (Nothing executed yet)\n"
     ]
    }
   ],
   "source": [
    "cursor = con.cursor()\n",
    "print(cursor)"
   ]
  },
  {
   "cell_type": "code",
   "execution_count": 19,
   "id": "128ce1f1",
   "metadata": {},
   "outputs": [],
   "source": [
    "cursor.execute('update emp set name = %s where id = %s',('xyz',1))"
   ]
  },
  {
   "cell_type": "code",
   "execution_count": 20,
   "id": "7c63515c",
   "metadata": {},
   "outputs": [],
   "source": [
    "con.commit()"
   ]
  },
  {
   "cell_type": "code",
   "execution_count": 21,
   "id": "5c97fcc1",
   "metadata": {},
   "outputs": [],
   "source": [
    "con.close()"
   ]
  },
  {
   "cell_type": "markdown",
   "id": "3e0bddce",
   "metadata": {},
   "source": [
    "# 5. Show Databases"
   ]
  },
  {
   "cell_type": "code",
   "execution_count": 34,
   "id": "7b9a2707",
   "metadata": {},
   "outputs": [],
   "source": [
    "import mysql.connector as connection"
   ]
  },
  {
   "cell_type": "code",
   "execution_count": 35,
   "id": "f997a0c2",
   "metadata": {},
   "outputs": [
    {
     "name": "stdout",
     "output_type": "stream",
     "text": [
      "<mysql.connector.connection.MySQLConnection object at 0x0000017FCA321250>\n"
     ]
    }
   ],
   "source": [
    "con = connection.connect(host='localhost',username = 'root',password='root',charset='utf8',use_pure=True)\n",
    "print(con)"
   ]
  },
  {
   "cell_type": "code",
   "execution_count": 36,
   "id": "b7768882",
   "metadata": {},
   "outputs": [
    {
     "name": "stdout",
     "output_type": "stream",
     "text": [
      "MySQLCursor: (Nothing executed yet)\n"
     ]
    }
   ],
   "source": [
    "cursor = con.cursor()\n",
    "print(cursor)"
   ]
  },
  {
   "cell_type": "code",
   "execution_count": 37,
   "id": "eec89588",
   "metadata": {},
   "outputs": [],
   "source": [
    "cursor.execute(\"Show databases\")"
   ]
  },
  {
   "cell_type": "code",
   "execution_count": 38,
   "id": "1792f2a7",
   "metadata": {},
   "outputs": [
    {
     "name": "stdout",
     "output_type": "stream",
     "text": [
      "[('information_schema',), ('college',), ('db21',), ('e-commerce cart',), ('employee',), ('mysql',), ('ngo',), ('org',), ('temp',), ('test',), ('test2',), ('xyz',)]\n"
     ]
    }
   ],
   "source": [
    "res = cursor.fetchall()\n",
    "print(res)"
   ]
  },
  {
   "cell_type": "code",
   "execution_count": 39,
   "id": "70376c3e",
   "metadata": {},
   "outputs": [
    {
     "name": "stdout",
     "output_type": "stream",
     "text": [
      "('college',)\n"
     ]
    }
   ],
   "source": [
    "print(res[1])"
   ]
  },
  {
   "cell_type": "code",
   "execution_count": 40,
   "id": "00f0c1cb",
   "metadata": {},
   "outputs": [
    {
     "name": "stdout",
     "output_type": "stream",
     "text": [
      "information_schema\n",
      "college\n",
      "db21\n",
      "e-commerce cart\n",
      "employee\n",
      "mysql\n",
      "ngo\n",
      "org\n",
      "temp\n",
      "test\n",
      "test2\n",
      "xyz\n"
     ]
    }
   ],
   "source": [
    "for i in res:\n",
    "    print(i[0],)"
   ]
  },
  {
   "cell_type": "markdown",
   "id": "e3017448",
   "metadata": {},
   "source": [
    "# 6. Creating Database"
   ]
  },
  {
   "cell_type": "code",
   "execution_count": 47,
   "id": "99aafd0e",
   "metadata": {},
   "outputs": [],
   "source": [
    "import mysql.connector as connection"
   ]
  },
  {
   "cell_type": "code",
   "execution_count": 48,
   "id": "ee4421e5",
   "metadata": {},
   "outputs": [
    {
     "name": "stdout",
     "output_type": "stream",
     "text": [
      "<mysql.connector.connection.MySQLConnection object at 0x0000017FCA5C2F10>\n"
     ]
    }
   ],
   "source": [
    "con = connection.connect(host='localhost',username='root',password='root',charset='utf8',use_pure=True)\n",
    "print(con)"
   ]
  },
  {
   "cell_type": "code",
   "execution_count": 49,
   "id": "26e89f28",
   "metadata": {},
   "outputs": [
    {
     "name": "stdout",
     "output_type": "stream",
     "text": [
      "MySQLCursor: (Nothing executed yet)\n"
     ]
    }
   ],
   "source": [
    "cursor = con.cursor()\n",
    "print(cursor)"
   ]
  },
  {
   "cell_type": "code",
   "execution_count": 50,
   "id": "59d847b4",
   "metadata": {},
   "outputs": [],
   "source": [
    "cursor.execute(\"Create Database if not exists Test2\")"
   ]
  },
  {
   "cell_type": "code",
   "execution_count": 53,
   "id": "80b6ba3e",
   "metadata": {},
   "outputs": [],
   "source": [
    "con.close()"
   ]
  },
  {
   "cell_type": "code",
   "execution_count": 54,
   "id": "d42d62f6",
   "metadata": {},
   "outputs": [],
   "source": [
    "# Printing all the databases"
   ]
  },
  {
   "cell_type": "code",
   "execution_count": 55,
   "id": "2de3cff2",
   "metadata": {},
   "outputs": [
    {
     "name": "stdout",
     "output_type": "stream",
     "text": [
      "<mysql.connector.connection.MySQLConnection object at 0x0000017FCA3E9090>\n"
     ]
    }
   ],
   "source": [
    "con = connection.connect(host='localhost',username='root',password='root',charset='utf8',use_pure=True)\n",
    "print(con)"
   ]
  },
  {
   "cell_type": "code",
   "execution_count": 56,
   "id": "89fbc515",
   "metadata": {},
   "outputs": [
    {
     "name": "stdout",
     "output_type": "stream",
     "text": [
      "MySQLCursor: (Nothing executed yet)\n"
     ]
    }
   ],
   "source": [
    "cursor = con.cursor()\n",
    "print(cursor)"
   ]
  },
  {
   "cell_type": "code",
   "execution_count": 57,
   "id": "24370997",
   "metadata": {},
   "outputs": [],
   "source": [
    "res = cursor.execute(\"Show Databases\")"
   ]
  },
  {
   "cell_type": "code",
   "execution_count": 58,
   "id": "20ad9bb9",
   "metadata": {},
   "outputs": [
    {
     "name": "stdout",
     "output_type": "stream",
     "text": [
      "[('information_schema',), ('college',), ('db21',), ('e-commerce cart',), ('employee',), ('mysql',), ('ngo',), ('org',), ('temp',), ('test',), ('test2',), ('xyz',)]\n"
     ]
    }
   ],
   "source": [
    "print(res)"
   ]
  },
  {
   "cell_type": "code",
   "execution_count": 59,
   "id": "112fdeab",
   "metadata": {},
   "outputs": [
    {
     "name": "stdout",
     "output_type": "stream",
     "text": [
      "information_schema\n",
      "college\n",
      "db21\n",
      "e-commerce cart\n",
      "employee\n",
      "mysql\n",
      "ngo\n",
      "org\n",
      "temp\n",
      "test\n",
      "test2\n",
      "xyz\n"
     ]
    }
   ],
   "source": [
    "for i in res:\n",
    "    print(i[0])"
   ]
  },
  {
   "cell_type": "markdown",
   "id": "64582dce",
   "metadata": {},
   "source": [
    "# 7.Creating Table"
   ]
  },
  {
   "cell_type": "code",
   "execution_count": 60,
   "id": "e587123a",
   "metadata": {},
   "outputs": [],
   "source": [
    "import mysql.connector as connection"
   ]
  },
  {
   "cell_type": "code",
   "execution_count": 64,
   "id": "4cab2dcd",
   "metadata": {},
   "outputs": [
    {
     "name": "stdout",
     "output_type": "stream",
     "text": [
      "<mysql.connector.connection.MySQLConnection object at 0x0000017FCA548F10>\n"
     ]
    }
   ],
   "source": [
    "con = connection.connect(host='localhost',user='root',password='root',database='Test2',use_pure=True,charset='utf8')\n",
    "print(con)"
   ]
  },
  {
   "cell_type": "code",
   "execution_count": 66,
   "id": "802d599c",
   "metadata": {},
   "outputs": [
    {
     "name": "stdout",
     "output_type": "stream",
     "text": [
      "MySQLCursor: (Nothing executed yet)\n"
     ]
    }
   ],
   "source": [
    "cursor = con.cursor()\n",
    "print(cursor)"
   ]
  },
  {
   "cell_type": "code",
   "execution_count": null,
   "id": "05cb8739",
   "metadata": {},
   "outputs": [],
   "source": [
    "cursor.execute('''Create table StudentDetails \n",
    "               (StudentId int(10) AUTO_INCREMENT PRIMARY KEY,\n",
    "               FirstName Varchar(60),\n",
    "               LastName Varchar(60),\n",
    "               RegistrationDate DATE,\n",
    "               Class varchar(20),\n",
    "               Section Varchar(10))''')"
   ]
  },
  {
   "cell_type": "code",
   "execution_count": 81,
   "id": "08280ba5",
   "metadata": {},
   "outputs": [],
   "source": [
    "con.close()"
   ]
  },
  {
   "cell_type": "code",
   "execution_count": 128,
   "id": "b1128995",
   "metadata": {},
   "outputs": [
    {
     "name": "stdout",
     "output_type": "stream",
     "text": [
      "<mysql.connector.connection.MySQLConnection object at 0x0000017FCB354390>\n"
     ]
    }
   ],
   "source": [
    "con = connection.connect(host='localhost',user='root',password='root',database='Test2',use_pure=True,charset='utf8')\n",
    "print(con)"
   ]
  },
  {
   "cell_type": "code",
   "execution_count": 129,
   "id": "783cdbba",
   "metadata": {},
   "outputs": [
    {
     "name": "stdout",
     "output_type": "stream",
     "text": [
      "MySQLCursor: (Nothing executed yet)\n"
     ]
    }
   ],
   "source": [
    "cursor = con.cursor()\n",
    "print(cursor)"
   ]
  },
  {
   "cell_type": "code",
   "execution_count": 130,
   "id": "dc45ddb0",
   "metadata": {},
   "outputs": [],
   "source": [
    "cursor.execute('use test2')"
   ]
  },
  {
   "cell_type": "code",
   "execution_count": 132,
   "id": "70291283",
   "metadata": {},
   "outputs": [],
   "source": [
    "for i in cursor.fetchall():\n",
    "    print(i)"
   ]
  },
  {
   "cell_type": "code",
   "execution_count": 133,
   "id": "58b532b7",
   "metadata": {},
   "outputs": [],
   "source": [
    "cursor.execute(\"Show tables\")"
   ]
  },
  {
   "cell_type": "code",
   "execution_count": 135,
   "id": "22cfa837",
   "metadata": {},
   "outputs": [],
   "source": [
    "for i in cursor.fetchall():\n",
    "    print(i)"
   ]
  },
  {
   "cell_type": "code",
   "execution_count": 136,
   "id": "01e0f504",
   "metadata": {},
   "outputs": [],
   "source": [
    "con.close()"
   ]
  },
  {
   "cell_type": "markdown",
   "id": "c158ff12",
   "metadata": {},
   "source": [
    "# 8. Inserting Data Into New Table"
   ]
  },
  {
   "cell_type": "code",
   "execution_count": 137,
   "id": "384ba4c0",
   "metadata": {},
   "outputs": [],
   "source": [
    "import mysql.connector as connection"
   ]
  },
  {
   "cell_type": "code",
   "execution_count": 138,
   "id": "fdb1fb10",
   "metadata": {},
   "outputs": [
    {
     "name": "stdout",
     "output_type": "stream",
     "text": [
      "<mysql.connector.connection.MySQLConnection object at 0x0000017FCB355E50>\n"
     ]
    }
   ],
   "source": [
    "con = connection.connect(host='localhost',user='root',password='root',charset='utf8',use_pure=True,database='Test2')\n",
    "print(con)"
   ]
  },
  {
   "cell_type": "code",
   "execution_count": 140,
   "id": "40494f85",
   "metadata": {},
   "outputs": [
    {
     "name": "stdout",
     "output_type": "stream",
     "text": [
      "MySQLCursor: (Nothing executed yet)\n"
     ]
    }
   ],
   "source": [
    "cursor = con.cursor()\n",
    "print(cursor)"
   ]
  },
  {
   "cell_type": "code",
   "execution_count": 141,
   "id": "a5aeab39",
   "metadata": {},
   "outputs": [],
   "source": [
    "cursor.execute('''Insert into studentdetails values\n",
    "                    (1132,'Sachin','Kumar','1997-11-11','Eleventh','A')''')"
   ]
  },
  {
   "cell_type": "code",
   "execution_count": 142,
   "id": "13ac469b",
   "metadata": {},
   "outputs": [],
   "source": [
    "con.commit()"
   ]
  },
  {
   "cell_type": "code",
   "execution_count": 143,
   "id": "4016d042",
   "metadata": {},
   "outputs": [],
   "source": [
    "# Getting the data which is just added\n",
    "cursor.execute(\"Select * from StudentDetails\")"
   ]
  },
  {
   "cell_type": "code",
   "execution_count": 144,
   "id": "2a8e5327",
   "metadata": {},
   "outputs": [],
   "source": [
    "res = cursor.fetchall()"
   ]
  },
  {
   "cell_type": "code",
   "execution_count": 145,
   "id": "951d7eb9",
   "metadata": {},
   "outputs": [
    {
     "name": "stdout",
     "output_type": "stream",
     "text": [
      "[(1132, 'Sachin', 'Kumar', datetime.date(1997, 11, 11), 'Eleventh', 'A')]\n"
     ]
    }
   ],
   "source": [
    "print(res)"
   ]
  },
  {
   "cell_type": "markdown",
   "id": "34eea98e",
   "metadata": {},
   "source": [
    "# 9. Using pandas method for formatting"
   ]
  },
  {
   "cell_type": "code",
   "execution_count": 146,
   "id": "14fa8441",
   "metadata": {},
   "outputs": [],
   "source": [
    "# what is read_sql method of pandas ?\n",
    "\n",
    "# The read_sql method in pandas is used to read SQL query results or an entire database table into a pandas DataFrame. \n",
    "# It provides an easy way to fetch structured data from relational databases like MySQL, PostgreSQL, SQLite, and others.\n",
    "\n",
    "# Syntax:\n",
    "# pandas.read_sql(sql, con, index_col=None, coerce_float=True, params=None, parse_dates=None, chunksize=None)\n",
    "\n",
    "# Parameters:\n",
    "# sql: A SQL query string or a table name.\n",
    "# con: A database connection object (e.g., from sqlite3 or SQLAlchemy).\n",
    "# index_col: Column(s) to set as the index of the DataFrame.\n",
    "# coerce_float: Converts numeric values to float if possible (default is True).\n",
    "# params: Parameters for parameterized queries.\n",
    "# parse_dates: Column(s) to parse as dates.\n",
    "# chunksize: If provided, returns an iterator for chunk processing instead of a full DataFrame."
   ]
  },
  {
   "cell_type": "code",
   "execution_count": 148,
   "id": "9a443715",
   "metadata": {},
   "outputs": [],
   "source": [
    "# what is pandas dataframe?\n",
    "\n",
    "# A pandas DataFrame is a two-dimensional, tabular data structure in Python that is similar to an Excel spreadsheet or an SQL table.\n",
    "# It consists of rows and columns, where each column can hold different data types (integers, floats, strings, etc.).\n",
    "# It is a mutable and flexible data structure that allows easy manipulation, analysis, and visualization of data.\n"
   ]
  },
  {
   "cell_type": "code",
   "execution_count": 2,
   "id": "cbb707b7",
   "metadata": {},
   "outputs": [],
   "source": [
    "import mysql.connector as connection\n",
    "import pandas as pd"
   ]
  },
  {
   "cell_type": "code",
   "execution_count": 3,
   "id": "d80b8b2d",
   "metadata": {},
   "outputs": [
    {
     "name": "stdout",
     "output_type": "stream",
     "text": [
      "<mysql.connector.connection.MySQLConnection object at 0x00000223905F9C90>\n"
     ]
    }
   ],
   "source": [
    "con = connection.connect(host='localhost',username='root',password='root',database='test2',charset='utf8',use_pure=True)\n",
    "print(con)"
   ]
  },
  {
   "cell_type": "code",
   "execution_count": 4,
   "id": "1dfb8989",
   "metadata": {},
   "outputs": [
    {
     "name": "stdout",
     "output_type": "stream",
     "text": [
      "MySQLCursor: (Nothing executed yet)\n"
     ]
    }
   ],
   "source": [
    "cursor = con.cursor()\n",
    "print(cursor)"
   ]
  },
  {
   "cell_type": "code",
   "execution_count": 5,
   "id": "2bfa5e8c",
   "metadata": {},
   "outputs": [
    {
     "name": "stderr",
     "output_type": "stream",
     "text": [
      "C:\\Users\\Aryan\\AppData\\Local\\Temp\\ipykernel_22012\\186743806.py:1: UserWarning: pandas only supports SQLAlchemy connectable (engine/connection) or database string URI or sqlite3 DBAPI2 connection. Other DBAPI2 objects are not tested. Please consider using SQLAlchemy.\n",
      "  a = pd.read_sql(\"Select * from studentdetails\",con)\n"
     ]
    }
   ],
   "source": [
    "a = pd.read_sql(\"Select * from studentdetails\",con)"
   ]
  },
  {
   "cell_type": "code",
   "execution_count": 6,
   "id": "2d7683c2",
   "metadata": {},
   "outputs": [
    {
     "name": "stdout",
     "output_type": "stream",
     "text": [
      "   StudentId FirstName LastName RegistrationDate     Class Section\n",
      "0       1132    Sachin    Kumar       1997-11-11  Eleventh       A\n"
     ]
    }
   ],
   "source": [
    "print(a)"
   ]
  },
  {
   "cell_type": "markdown",
   "id": "8e875f00",
   "metadata": {},
   "source": [
    "# 10. Storing the data from csv file to table "
   ]
  },
  {
   "cell_type": "code",
   "execution_count": 7,
   "id": "86da7318",
   "metadata": {},
   "outputs": [],
   "source": [
    "# what is to_csv method of pandas ?\n",
    "\n",
    "# The to_csv() method in pandas is used to save a DataFrame as a CSV (Comma-Separated Values) file. \n",
    "# It allows exporting data from a pandas DataFrame to a CSV file for storage, analysis, or sharing.\n",
    "\n",
    "# Syntax\n",
    "# DataFrame.to_csv(filepath, sep=',', index=True, header=True, encoding=None, mode='w', ...)\n",
    "\n",
    "# Parameters\n",
    "# Parameter\tDescription\n",
    "# filepath\tThe path where the CSV file will be saved (e.g., \"data.csv\").\n",
    "# sep\tDelimiter used (default is , for CSV). You can use '\\t' for TSV files.\n",
    "# index\tWhether to write row index (True by default). Use False to exclude index.\n",
    "# header\tWhether to include column names (True by default).\n",
    "# encoding\tFile encoding (e.g., \"utf-8\" for international characters).\n",
    "# mode\tFile write mode ('w' for overwrite, 'a' for append)."
   ]
  },
  {
   "cell_type": "code",
   "execution_count": 8,
   "id": "7e2740dc",
   "metadata": {},
   "outputs": [],
   "source": [
    "# Now the data is placed inside the csv file name mydata in the tabular form.\n",
    "a.to_csv('mydata.csv')"
   ]
  },
  {
   "cell_type": "code",
   "execution_count": 9,
   "id": "5c6f200b",
   "metadata": {},
   "outputs": [
    {
     "name": "stdout",
     "output_type": "stream",
     "text": [
      "MySQLCursor: (Nothing executed yet)\n"
     ]
    }
   ],
   "source": [
    "cursor = con.cursor()\n",
    "print(cursor)"
   ]
  },
  {
   "cell_type": "code",
   "execution_count": null,
   "id": "6cd4ac79",
   "metadata": {},
   "outputs": [],
   "source": [
    "cursor.execute(\"Create table mydata(n1 int(10), n2 varchar(60),n3 varchar(60),n4 date,n5 varchar(60),n6 varchar(60))\")"
   ]
  },
  {
   "cell_type": "code",
   "execution_count": 11,
   "id": "ff2101ea",
   "metadata": {},
   "outputs": [],
   "source": [
    "data = pd.read_csv('mydata.csv')"
   ]
  },
  {
   "cell_type": "code",
   "execution_count": null,
   "id": "3af61d61",
   "metadata": {},
   "outputs": [],
   "source": [
    "data.to_sql(\"mydata\",con)"
   ]
  },
  {
   "cell_type": "code",
   "execution_count": null,
   "id": "cf4effc7",
   "metadata": {},
   "outputs": [],
   "source": []
  },
  {
   "cell_type": "markdown",
   "id": "8f963157",
   "metadata": {},
   "source": [
    "# 11. Storing the data from the file inside the database"
   ]
  },
  {
   "cell_type": "code",
   "execution_count": 21,
   "id": "af0c2c3e",
   "metadata": {},
   "outputs": [],
   "source": [
    "import mysql.connector as connection"
   ]
  },
  {
   "cell_type": "code",
   "execution_count": 22,
   "id": "3124e66b",
   "metadata": {},
   "outputs": [
    {
     "name": "stdout",
     "output_type": "stream",
     "text": [
      "<mysql.connector.connection.MySQLConnection object at 0x0000022394E9F7D0>\n"
     ]
    }
   ],
   "source": [
    "con = connection.connect(host='localhost',username = 'root',password = 'root',use_pure=True,charset='utf8')\n",
    "print(con)"
   ]
  },
  {
   "cell_type": "code",
   "execution_count": 23,
   "id": "0ec63334",
   "metadata": {},
   "outputs": [
    {
     "name": "stdout",
     "output_type": "stream",
     "text": [
      "MySQLCursor: (Nothing executed yet)\n"
     ]
    }
   ],
   "source": [
    "cursor = con.cursor()\n",
    "print(cursor)"
   ]
  },
  {
   "cell_type": "code",
   "execution_count": 25,
   "id": "df7848c4",
   "metadata": {},
   "outputs": [],
   "source": [
    "cursor.execute(\"Create database if not exists glassdata\")"
   ]
  },
  {
   "cell_type": "code",
   "execution_count": 26,
   "id": "e2c04a1b",
   "metadata": {},
   "outputs": [],
   "source": [
    "con.close()"
   ]
  },
  {
   "cell_type": "code",
   "execution_count": 27,
   "id": "026afbea",
   "metadata": {},
   "outputs": [],
   "source": [
    "# Establishing the connection with the database created above"
   ]
  },
  {
   "cell_type": "code",
   "execution_count": 28,
   "id": "28a841b7",
   "metadata": {},
   "outputs": [
    {
     "name": "stdout",
     "output_type": "stream",
     "text": [
      "<mysql.connector.connection.MySQLConnection object at 0x0000022394F1B050>\n"
     ]
    }
   ],
   "source": [
    "con = connection.connect(host='localhost',username = 'root',password = 'root',database='glassdata',use_pure=True,charset='utf8')\n",
    "print(con)"
   ]
  },
  {
   "cell_type": "code",
   "execution_count": 30,
   "id": "a65db935",
   "metadata": {},
   "outputs": [
    {
     "name": "stdout",
     "output_type": "stream",
     "text": [
      "MySQLCursor: (Nothing executed yet)\n"
     ]
    }
   ],
   "source": [
    "cursor = con.cursor()\n",
    "print(cursor)"
   ]
  },
  {
   "cell_type": "code",
   "execution_count": 31,
   "id": "39edf4dc",
   "metadata": {},
   "outputs": [],
   "source": [
    "cursor.execute(\"Create table if not exists glass (Index_Number int(10),RI float(10,5),Na float(10,5))\")"
   ]
  },
  {
   "cell_type": "code",
   "execution_count": 32,
   "id": "80f5ea45",
   "metadata": {},
   "outputs": [],
   "source": [
    "# read from the file \n",
    "\n",
    "# The reader method of the csv module in Python is used to read data from a CSV file and return it as an iterable of rows.\n",
    "# Each row is returned as a list of strings."
   ]
  },
  {
   "cell_type": "code",
   "execution_count": 43,
   "id": "6b332bc4",
   "metadata": {},
   "outputs": [
    {
     "name": "stdout",
     "output_type": "stream",
     "text": [
      "<_csv.reader object at 0x0000022394FA7280>\n",
      "(0, ['1,1.4343553,13'])\n",
      "(1, ['2,4.5343434,15'])\n",
      "(2, ['3,1.3424324,19'])\n",
      "all the data inserted\n"
     ]
    }
   ],
   "source": [
    "import csv\n",
    "with open('glass.data.csv','r') as f:\n",
    "    next(f)\n",
    "    data_csv = csv.reader(f,delimiter='\\n')\n",
    "    print(data_csv)\n",
    "    for i in enumerate(data_csv):\n",
    "        print(i)\n",
    "        for j in i[1]:\n",
    "            cursor.execute(f\"Insert into glass values({j})\")\n",
    "    print(\"all the data inserted\")\n",
    "con.commit()"
   ]
  },
  {
   "cell_type": "code",
   "execution_count": null,
   "id": "1695a81a",
   "metadata": {},
   "outputs": [],
   "source": []
  }
 ],
 "metadata": {
  "kernelspec": {
   "display_name": "Python 3 (ipykernel)",
   "language": "python",
   "name": "python3"
  },
  "language_info": {
   "codemirror_mode": {
    "name": "ipython",
    "version": 3
   },
   "file_extension": ".py",
   "mimetype": "text/x-python",
   "name": "python",
   "nbconvert_exporter": "python",
   "pygments_lexer": "ipython3",
   "version": "3.11.5"
  }
 },
 "nbformat": 4,
 "nbformat_minor": 5
}
