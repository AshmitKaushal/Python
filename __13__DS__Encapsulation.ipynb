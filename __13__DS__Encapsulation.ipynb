{
 "cells": [
  {
   "cell_type": "markdown",
   "id": "a8eec193",
   "metadata": {},
   "source": [
    "# Encapsulation"
   ]
  },
  {
   "cell_type": "code",
   "execution_count": 6,
   "id": "060c3385",
   "metadata": {},
   "outputs": [
    {
     "name": "stdout",
     "output_type": "stream",
     "text": [
      "Tyres:\n",
      " \tBranch MRF\n",
      " \tBelted-bias True\n",
      " \tOptimal pressure:2.0\n",
      "Engine: \n",
      " \tFuel type: Diesel\n",
      " \tNoise Level:3\n",
      "Body:\n",
      " \tSize Medium\n"
     ]
    }
   ],
   "source": [
    "class Tyres:\n",
    "    \n",
    "    def __init__(self,branch,belted_bias,opt_pressure):\n",
    "        self.branch = branch\n",
    "        self.belted_bias = belted_bias\n",
    "        self.opt_pressure = opt_pressure\n",
    "        \n",
    "    def __str__(self):\n",
    "        return (\"Tyres:\\n \\tBranch \"+self.branch+\n",
    "               \"\\n \\tBelted-bias \"+str(self.belted_bias)+\n",
    "               \"\\n \\tOptimal pressure:\"+str(self.opt_pressure))\n",
    "    \n",
    "class Engine:\n",
    "    \n",
    "    def __init__(self,fuel_type,noise_level):\n",
    "        self.fuel_type = fuel_type\n",
    "        self.noise_level = noise_level\n",
    "    \n",
    "    def __str__(self):\n",
    "        return (\"Engine: \\n \\tFuel type: \"+self.fuel_type+\n",
    "               \"\\n \\tNoise Level:\"+str(self.noise_level))\n",
    "    \n",
    "class Body:\n",
    "    \n",
    "    def __init__(self,size):\n",
    "        self.size = size\n",
    "        \n",
    "    def __str__(self):\n",
    "        return \"Body:\\n \\tSize \"+self.size\n",
    "    \n",
    "class Car:\n",
    "    \n",
    "    def __init__(self,name,tyres,engine,body):\n",
    "        self.name = name\n",
    "        self.tyres = tyres\n",
    "        self.engine = engine\n",
    "        self.body = body\n",
    "        \n",
    "    def __str__(self):\n",
    "        return str(self.tyres)+ \"\\n\" + str(self.engine) + \"\\n\" + str(self.body)\n",
    "    \n",
    "    \n",
    "t = Tyres('MRF',True,2.0)\n",
    "e = Engine('Diesel',3)\n",
    "b = Body('Medium')\n",
    "c = Car('HJK',t,e,b)\n",
    "print(c)"
   ]
  },
  {
   "cell_type": "code",
   "execution_count": 7,
   "id": "4820692e",
   "metadata": {},
   "outputs": [],
   "source": [
    "# 1. str(self.tyres):\n",
    "\n",
    "# The self.tyres attribute contains an object of the Tyres class.\n",
    "# When str(self.tyres) is executed:\n",
    "# Python checks if the Tyres class has a __str__() method.\n",
    "# Since the Tyres class defines a __str__() method, that method is called, and the string it returns is used.\n",
    "# The returned string looks like:\n",
    "\n",
    "# Output\n",
    "# Tyres:\n",
    "#     Branch MRF\n",
    "#     Belted-bias True\n",
    "#     Optimal pressure:2.0\n",
    "\n",
    "# 2.str(self.engine):\n",
    "\n",
    "# The self.engine attribute contains an object of the Engine class.\n",
    "# Similarly, str(self.engine) calls the __str__() method of the Engine class, producing a string like:\n",
    "\n",
    "# Output\n",
    "# Engine: \n",
    "#     Fuel type: Diesel\n",
    "#     Noise Level:3\n",
    "\n",
    "# 3.str(self.body):\n",
    "\n",
    "# The self.body attribute contains an object of the Body class.\n",
    "# When str(self.body) is executed, it calls the __str__() method of the Body class, which returns:\n",
    "\n",
    "# Output\n",
    "# Body:\n",
    "#     Size Medium"
   ]
  },
  {
   "cell_type": "code",
   "execution_count": 9,
   "id": "08133397",
   "metadata": {},
   "outputs": [
    {
     "name": "stdout",
     "output_type": "stream",
     "text": [
      "10\n"
     ]
    }
   ],
   "source": [
    "class Parent:\n",
    "    \n",
    "    a = 10\n",
    "    b = 20 \n",
    "    \n",
    "    def __init__(self,parent_a,parent_b):\n",
    "        self.parent_a = parent_a\n",
    "        self.parent_b = parent_b\n",
    "        \n",
    "class Child:\n",
    "    print(Parent.a)"
   ]
  },
  {
   "cell_type": "code",
   "execution_count": 10,
   "id": "48cfb26b",
   "metadata": {},
   "outputs": [],
   "source": [
    "# Why Can Parent.a Be Accessed in Child?\n",
    "\n",
    "# 1.Class Variables Are Shared Across the Scope:\n",
    "\n",
    "# In Python, class variables are stored in the namespace of the class.\n",
    "# These variables are global within the class's context and can be accessed from anywhere using the class name.\n",
    "\n",
    "# For example:\n",
    "# class Parent:\n",
    "#     a = 10  # This is a class variable.\n",
    "# print(Parent.a)  # Accessible from outside the class, using the class name.\n",
    "\n",
    "# 2.Class Variables Are Independent of Instances:\n",
    "\n",
    "# Class variables are not tied to an instance of the class. They are stored at the class level.\n",
    "# This means that any other class or function can access these variables using the ClassName.variable syntax.\n",
    "# In your code:\n",
    "\n",
    "# print(Parent.a)  # Accessing Parent's class variable directly within Child's body.\n",
    "# Since Parent.a is a class-level variable, Python doesn't require an instance of Parent to access it.\n",
    "\n",
    "# 3.Python's Scope Resolution:\n",
    "\n",
    "# When Child is being defined, the Parent class is already known to Python.\n",
    "# Python resolves Parent.a by looking for the Parent class in the current module or namespace.\n",
    "# Since Parent exists and has a class variable a, Python allows you to access it."
   ]
  },
  {
   "cell_type": "code",
   "execution_count": 11,
   "id": "42bc5a4c",
   "metadata": {},
   "outputs": [],
   "source": [
    "# Detailed Flow\n",
    "# 1.When Parent is defined:\n",
    "\n",
    "# Python creates the Parent class in memory and assigns it a namespace.\n",
    "# The variables a and b are added to this namespace.\n",
    "\n",
    "# 2.When Child is defined:\n",
    "\n",
    "# Python starts executing the body of the Child class.\n",
    "# Inside the Child body, print(Parent.a) is executed.\n",
    "# Python looks for the Parent class, finds it, and accesses its class variable a.\n",
    "\n",
    "# 3.Execution of print(Parent.a):\n",
    "# The value of Parent.a (which is 10) is printed to the console immediately as part of the class definition process for Child."
   ]
  },
  {
   "cell_type": "code",
   "execution_count": 13,
   "id": "9a2ca856",
   "metadata": {},
   "outputs": [],
   "source": [
    "# what is class namespace \n",
    "# In Python, the class namespace refers to the space or context in which class variables, methods, and other attributes are defined and stored. It acts as a mapping (like a dictionary) that holds the names defined inside the class and their corresponding values.\n",
    "\n",
    "# Key Concepts of Class Namespace:\n",
    "\n",
    "# 1.Definition:\n",
    "\n",
    "# A namespace is simply a container that holds a collection of names (variables, methods, etc.) and their corresponding values.\n",
    "# In the context of a class, the namespace contains all the names defined directly within the class body.\n",
    "\n",
    "# 2.Structure:\n",
    "\n",
    "# The class namespace is created when the class is defined, not when it is instantiated.\n",
    "# It holds class variables, method definitions, and any other attributes added to the class.\n",
    "\n",
    "# 3.How It Works:\n",
    "\n",
    "# When a class is created, Python executes the body of the class like a block of code.\n",
    "# All the names defined in this block are stored in a special attribute called __dict__ in the class.\n",
    "# The __dict__ attribute is a dictionary-like object that represents the class namespace."
   ]
  },
  {
   "cell_type": "code",
   "execution_count": 15,
   "id": "e2e003bc",
   "metadata": {},
   "outputs": [
    {
     "name": "stdout",
     "output_type": "stream",
     "text": [
      "{'__module__': '__main__', 'a': 10, 'display': <function MyClass.display at 0x0000015104602840>, '__dict__': <attribute '__dict__' of 'MyClass' objects>, '__weakref__': <attribute '__weakref__' of 'MyClass' objects>, '__doc__': None}\n"
     ]
    }
   ],
   "source": [
    "class MyClass:\n",
    "    a = 10\n",
    "    \n",
    "    def display(self):\n",
    "        print(\"This is the display method\")\n",
    "\n",
    "print(MyClass.__dict__)"
   ]
  },
  {
   "cell_type": "code",
   "execution_count": 3,
   "id": "4371e124",
   "metadata": {},
   "outputs": [
    {
     "name": "stdout",
     "output_type": "stream",
     "text": [
      "iijn is a Laika born in 1954.\n"
     ]
    }
   ],
   "source": [
    "class Dog:\n",
    "    \n",
    "    def __init__(self,name,year_of_birth,breed):\n",
    "        self.name = name\n",
    "        self.year_of_birth = year_of_birth\n",
    "        self.breed = breed\n",
    "        \n",
    "    def __str__(self):\n",
    "        return \"%s is a %s born in %d.\"%(self.name,self.breed,self.year_of_birth)\n",
    "    \n",
    "d1 = Dog('iijn',1954,'Laika')\n",
    "print(d1)"
   ]
  },
  {
   "cell_type": "code",
   "execution_count": 4,
   "id": "4c1637c4",
   "metadata": {},
   "outputs": [
    {
     "name": "stdout",
     "output_type": "stream",
     "text": [
      "GOGO 454 w3school xyz\n"
     ]
    }
   ],
   "source": [
    "class Student:\n",
    "    \n",
    "    def __init__(self,name,student_id,school_name,address):\n",
    "        self.name = name\n",
    "        self.student_id = student_id\n",
    "        self.school_name = school_name\n",
    "        self.address = address\n",
    "    \n",
    "    def __str__(self):\n",
    "        return str(self.name)+\" \"+str(self.student_id)+\" \"+str(self.school_name)+\" \"+str(self.address)\n",
    "    \n",
    "\n",
    "s1 = Student('GOGO',454,'w3school','xyz')\n",
    "print(s1)\n",
    "\n"
   ]
  },
  {
   "cell_type": "code",
   "execution_count": 5,
   "id": "c4c2ef29",
   "metadata": {},
   "outputs": [
    {
     "name": "stdout",
     "output_type": "stream",
     "text": [
      "iijn is a Laika born in 1954. 123 dog_soch sdsfs\n"
     ]
    }
   ],
   "source": [
    "s2 = Student(d1,123,'dog_soch','sdsfs')\n",
    "print(s2)"
   ]
  },
  {
   "cell_type": "code",
   "execution_count": 6,
   "id": "d07ee226",
   "metadata": {},
   "outputs": [],
   "source": [
    "# Encapsulation is design is a such a way that if we do the manipulation for the one object it will not affect the other object."
   ]
  },
  {
   "cell_type": "code",
   "execution_count": 38,
   "id": "bcc5cdd6",
   "metadata": {},
   "outputs": [],
   "source": [
    "class Employee:\n",
    "    \n",
    "    def __init__(self,name,emp_rating):\n",
    "        self.name = name\n",
    "        self.emp_rating = emp_rating\n",
    "        self.__bonusforRatingA =\"70%\"\n",
    "        self.__bonusforRatingB =\"60%\"\n",
    "        self.__bonusforRatingC =\"50%\"\n",
    "        self.__bonusforRatingD =\"40%\"\n",
    "        self.__bonusforRatingForRest= \"No Bonus\"\n",
    "        \n",
    "        \n",
    "    def bonusCalculator(self): \n",
    "        if self.emp_rating =='A':\n",
    "            bonus = self.__bonusforRatingA\n",
    "            msg = \"Bonus for this employee is :\"+bonus\n",
    "            return msg\n",
    "        \n",
    "        elif self.emp_rating =='B':\n",
    "            bonus = self.__bonusforRatingB\n",
    "            msg = \"Bonus for this employee is :\"+ bonus\n",
    "            return msg\n",
    "        \n",
    "        elif self.emp_rating =='C':\n",
    "            bonus = self.__bonusforRatingC\n",
    "            msg = \"Bonus for this employee is :\"+bonus\n",
    "            return msg\n",
    "        \n",
    "        elif self.emp_rating =='D':\n",
    "            bonus = self.__bonusforRatingD\n",
    "            msg = \"Bonus for this employee is :\"+bonus\n",
    "            return msg\n",
    "        else: \n",
    "            msg = \"Bonus for this employee :\"+self.__bonusforRatingForRest\n",
    "            return msg\n",
    "        \n",
    "    def changeVariable(self,value):\n",
    "        self.__bonusforRatingB = value\n",
    "\n",
    "e1 = Employee(1231,'B')\n",
    "e2 = Employee(1231,'A')"
   ]
  },
  {
   "cell_type": "code",
   "execution_count": 39,
   "id": "76b1c504",
   "metadata": {},
   "outputs": [
    {
     "data": {
      "text/plain": [
       "'Bonus for this employee is :60%'"
      ]
     },
     "execution_count": 39,
     "metadata": {},
     "output_type": "execute_result"
    }
   ],
   "source": [
    "e1.bonusCalculator()"
   ]
  },
  {
   "cell_type": "code",
   "execution_count": 40,
   "id": "47093272",
   "metadata": {},
   "outputs": [
    {
     "data": {
      "text/plain": [
       "'Bonus for this employee is :70%'"
      ]
     },
     "execution_count": 40,
     "metadata": {},
     "output_type": "execute_result"
    }
   ],
   "source": [
    "e2.bonusCalculator()"
   ]
  },
  {
   "cell_type": "code",
   "execution_count": 41,
   "id": "2f74529c",
   "metadata": {},
   "outputs": [],
   "source": [
    "e1._Employee__bonusforRatingB = \"90%\""
   ]
  },
  {
   "cell_type": "code",
   "execution_count": 42,
   "id": "bed399c2",
   "metadata": {},
   "outputs": [
    {
     "data": {
      "text/plain": [
       "'Bonus for this employee is :90%'"
      ]
     },
     "execution_count": 42,
     "metadata": {},
     "output_type": "execute_result"
    }
   ],
   "source": [
    "e1.bonusCalculator()"
   ]
  },
  {
   "cell_type": "code",
   "execution_count": 43,
   "id": "e4e69f47",
   "metadata": {},
   "outputs": [],
   "source": [
    "e2._Employee__bonusforRatingA = \"100%\""
   ]
  },
  {
   "cell_type": "code",
   "execution_count": 44,
   "id": "85a873e6",
   "metadata": {},
   "outputs": [
    {
     "data": {
      "text/plain": [
       "'Bonus for this employee is :100%'"
      ]
     },
     "execution_count": 44,
     "metadata": {},
     "output_type": "execute_result"
    }
   ],
   "source": [
    "e2.bonusCalculator()"
   ]
  },
  {
   "cell_type": "code",
   "execution_count": 54,
   "id": "c1ad2dd8",
   "metadata": {},
   "outputs": [
    {
     "name": "stdout",
     "output_type": "stream",
     "text": [
      "Connecting....\n",
      "Connected Successfully\n",
      "Disconnecting...\n",
      "Disconnected Successfully\n",
      "Already Disconnected\n",
      "Connecting....\n",
      "Connected Successfully\n",
      "Already Connected\n"
     ]
    }
   ],
   "source": [
    "# 1. Implementation Hiding\n",
    "\n",
    "# Definition: Implementation hiding refers to the practice of hiding the internal workings or logic of a class (such as methods or algorithms) from external access. \n",
    "# The main idea is to expose only what is necessary (via public methods) and hide the \"how\" part of the implementation.\n",
    "\n",
    "# Goal: To abstract the implementation details from the user and allow them to interact with the class using a simpler interface.\n",
    "\n",
    "\n",
    "class DataBaseConnection:\n",
    "    \n",
    "    def __init__(self):\n",
    "        self.__connected = False\n",
    "    \n",
    "    \n",
    "    def connected(self):\n",
    "        if not self.__connected:\n",
    "            print(\"Connecting....\")\n",
    "            self.__connected = True\n",
    "            print(\"Connected Successfully\")\n",
    "        else:\n",
    "            print(\"Already Connected\")\n",
    "            \n",
    "    def disconnected(self):\n",
    "        if self.__connected:\n",
    "            print(\"Disconnecting...\")\n",
    "            self.__connected = False\n",
    "            print(\"Disconnected Successfully\")\n",
    "        else:\n",
    "            print(\"Already Disconnected\")\n",
    "            \n",
    "d1 = DataBaseConnection()\n",
    "d1.connected()\n",
    "d1.disconnected()\n",
    "d1.disconnected()\n",
    "d1.connected()\n",
    "d1.connected()"
   ]
  },
  {
   "cell_type": "code",
   "execution_count": 55,
   "id": "31c43d4e",
   "metadata": {},
   "outputs": [],
   "source": [
    "# The user only interacts with connect and disconnect methods.\n",
    "# The internal variable __connected and the logic of connecting/disconnecting are hidden from the user."
   ]
  },
  {
   "cell_type": "code",
   "execution_count": 71,
   "id": "305f3989",
   "metadata": {},
   "outputs": [],
   "source": [
    "# 2. Data Hiding\n",
    "\n",
    "# Definition: Data hiding refers to restricting access to the internal attributes (variables) of a class, \n",
    "# so they cannot be directly modified or accessed from outside the class. This is typically achieved using private variables (by prefixing names with __).\n",
    "\n",
    "# Goal: To protect the integrity of the object's state and prevent unintended interference or misuse of its attributes.\n",
    "\n",
    "\n",
    "class BankAccount:\n",
    "    \n",
    "    def __init__(self,name,balance):\n",
    "        self.name = name\n",
    "        self.__balance = balance\n",
    "        \n",
    "    def deposit(self,amount):\n",
    "        if amount>0:\n",
    "            self.__balance+=amount\n",
    "            print(f\"The amount {amount} is added to your account\")\n",
    "            print(f\"Now your total balance is {self.__balance}\")\n",
    "        else:\n",
    "            print(\"Enter the positive amount\")\n",
    "            \n",
    "    def withDraw(self,amount):\n",
    "        if amount>0 and amount<=self.__balance:\n",
    "            self.__balance = self.__balance - amount\n",
    "            print(f\"The amount {amount} is credited from your account\")\n",
    "            print(f\"Now your total balance is {self.__balance}\")\n",
    "        else:\n",
    "            print(\"your account does have sufficient balance\")         "
   ]
  },
  {
   "cell_type": "code",
   "execution_count": 72,
   "id": "18bc34e7",
   "metadata": {},
   "outputs": [],
   "source": [
    "b1 = BankAccount('GOGO',120000)"
   ]
  },
  {
   "cell_type": "code",
   "execution_count": 73,
   "id": "e2b03ebe",
   "metadata": {},
   "outputs": [
    {
     "name": "stdout",
     "output_type": "stream",
     "text": [
      "The amount 1000 is added to your account\n",
      "Now your total balance is 121000\n"
     ]
    }
   ],
   "source": [
    "b1.deposit(1000)"
   ]
  },
  {
   "cell_type": "code",
   "execution_count": 74,
   "id": "e951702d",
   "metadata": {},
   "outputs": [
    {
     "name": "stdout",
     "output_type": "stream",
     "text": [
      "The amount 10000 is credited from your account\n",
      "Now your total balance is 111000\n"
     ]
    }
   ],
   "source": [
    "b1.withDraw(10000)"
   ]
  },
  {
   "cell_type": "code",
   "execution_count": 75,
   "id": "d33ad7d6",
   "metadata": {},
   "outputs": [
    {
     "name": "stdout",
     "output_type": "stream",
     "text": [
      "The amount 90000 is credited from your account\n",
      "Now your total balance is 21000\n"
     ]
    }
   ],
   "source": [
    "b1.withDraw(90000)"
   ]
  },
  {
   "cell_type": "markdown",
   "id": "141133d2",
   "metadata": {},
   "source": [
    "# Operator Overloading"
   ]
  },
  {
   "cell_type": "code",
   "execution_count": 78,
   "id": "a76e195e",
   "metadata": {},
   "outputs": [],
   "source": [
    "class MultiNumeric:\n",
    "    \n",
    "    def __init__(self,a):\n",
    "        self.a = a\n",
    "    \n",
    "    def __mul__(self,other):\n",
    "        return self.a + other.a\n",
    "    \n",
    "m1 = MultiNumeric(10)\n",
    "m2 = MultiNumeric(20)"
   ]
  },
  {
   "cell_type": "code",
   "execution_count": 81,
   "id": "54fb15f3",
   "metadata": {},
   "outputs": [
    {
     "data": {
      "text/plain": [
       "30"
      ]
     },
     "execution_count": 81,
     "metadata": {},
     "output_type": "execute_result"
    }
   ],
   "source": [
    "m1*m2\n",
    "# this is not the example of polymorphism bcz we have changed the definition of the * operator\n",
    "# polymorphism means same thing is showing different bahaviour"
   ]
  },
  {
   "cell_type": "code",
   "execution_count": 85,
   "id": "78d02341",
   "metadata": {},
   "outputs": [
    {
     "name": "stdout",
     "output_type": "stream",
     "text": [
      "30\n",
      "ab\n",
      "[10, 20, 30, 40, 50, 60]\n"
     ]
    }
   ],
   "source": [
    "def test(a,b):\n",
    "    return a+b\n",
    "\n",
    "print(test(10,20))\n",
    "print(test('a','b'))\n",
    "print(test([10,20,30],[40,50,60]))\n",
    "\n",
    "# Here is the example of the polymorhism as the same operator is performing the different behaviour"
   ]
  },
  {
   "cell_type": "code",
   "execution_count": null,
   "id": "e6c2304d",
   "metadata": {},
   "outputs": [],
   "source": []
  },
  {
   "cell_type": "code",
   "execution_count": null,
   "id": "bd25614f",
   "metadata": {},
   "outputs": [],
   "source": []
  },
  {
   "cell_type": "code",
   "execution_count": null,
   "id": "9288b929",
   "metadata": {},
   "outputs": [],
   "source": []
  }
 ],
 "metadata": {
  "kernelspec": {
   "display_name": "Python 3 (ipykernel)",
   "language": "python",
   "name": "python3"
  },
  "language_info": {
   "codemirror_mode": {
    "name": "ipython",
    "version": 3
   },
   "file_extension": ".py",
   "mimetype": "text/x-python",
   "name": "python",
   "nbconvert_exporter": "python",
   "pygments_lexer": "ipython3",
   "version": "3.11.5"
  }
 },
 "nbformat": 4,
 "nbformat_minor": 5
}
