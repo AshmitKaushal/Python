{
 "cells": [
  {
   "cell_type": "markdown",
   "id": "6823a4f6",
   "metadata": {},
   "source": [
    "# DataFrame in Pandas"
   ]
  },
  {
   "cell_type": "code",
   "execution_count": 2,
   "id": "315924e0",
   "metadata": {},
   "outputs": [],
   "source": [
    "# A DataFrame in Pandas is a two-dimensional, tabular data structure similar to an Excel spreadsheet or SQL table. \n",
    "# It consists of rows and columns, where:\n",
    "# Rows represent different records (entries).\n",
    "# Columns represent different attributes (fields).\n",
    "# A DataFrame is built using the pandas.DataFrame() function and can hold different data types (integers, floats, strings, etc.) in different columns."
   ]
  },
  {
   "cell_type": "markdown",
   "id": "78e41706",
   "metadata": {},
   "source": [
    "# pd.DataFrame()"
   ]
  },
  {
   "cell_type": "code",
   "execution_count": 3,
   "id": "2e79e009",
   "metadata": {},
   "outputs": [],
   "source": [
    "# The pd.DataFrame() constructor is used to create a DataFrame in Pandas. \n",
    "# It allows converting lists, dictionaries, NumPy arrays, Series, etc., into tabular structures."
   ]
  },
  {
   "cell_type": "code",
   "execution_count": null,
   "id": "b576cf29",
   "metadata": {},
   "outputs": [],
   "source": [
    "# Syntax:\n",
    "# pd.DataFrame(data, index=None, columns=None, dtype=None, copy=False)\n",
    "\n",
    "# Explanation of Parameters:\\t\n",
    "# Parameter\tDescription\tDefault Value\n",
    "# data\tThe main data source, which can be a list, dictionary, NumPy array, Series, or another DataFrame.\tRequired\n",
    "# index\tLabels for the rows. If None, Pandas automatically assigns numeric indices (0, 1, 2, …).\tNone\n",
    "# columns\tLabels for the columns. If None, Pandas auto-generates column names when using dictionaries or structured data.\tNone\n",
    "# dtype\tSpecifies the data type for all columns. If None, Pandas infers the type automatically.\tNone\n",
    "# copy\tIf True, creates a copy of the input data instead of referencing it.\tFalse"
   ]
  },
  {
   "cell_type": "code",
   "execution_count": 11,
   "id": "b46281d5",
   "metadata": {},
   "outputs": [
    {
     "name": "stdout",
     "output_type": "stream",
     "text": [
      "Requirement already satisfied: pandas in s:\\anaconda\\lib\\site-packages (2.2.3)\n",
      "Requirement already satisfied: numpy>=1.23.2 in s:\\anaconda\\lib\\site-packages (from pandas) (1.24.3)\n",
      "Requirement already satisfied: python-dateutil>=2.8.2 in s:\\anaconda\\lib\\site-packages (from pandas) (2.8.2)\n",
      "Requirement already satisfied: pytz>=2020.1 in s:\\anaconda\\lib\\site-packages (from pandas) (2023.3.post1)\n",
      "Requirement already satisfied: tzdata>=2022.7 in s:\\anaconda\\lib\\site-packages (from pandas) (2023.3)\n",
      "Requirement already satisfied: six>=1.5 in s:\\anaconda\\lib\\site-packages (from python-dateutil>=2.8.2->pandas) (1.16.0)\n"
     ]
    }
   ],
   "source": [
    "!pip install pandas "
   ]
  },
  {
   "cell_type": "markdown",
   "id": "568da58b",
   "metadata": {},
   "source": [
    "# 1.Creating a DataFrame from a List"
   ]
  },
  {
   "cell_type": "code",
   "execution_count": 3,
   "id": "a596e2d8",
   "metadata": {
    "scrolled": true
   },
   "outputs": [
    {
     "name": "stdout",
     "output_type": "stream",
     "text": [
      "    0   1   2\n",
      "0  10  20  30\n",
      "1  40  50  60\n",
      "2  70  80  90\n"
     ]
    }
   ],
   "source": [
    "import pandas as pd\n",
    "l1 = [[10,20,30],[40,50,60],[70,80,90]]\n",
    "df = pd.DataFrame(l1)\n",
    "print(df)\n",
    "\n",
    "# The list contains 3 rows and 3 columns.\n",
    "# Since no column names are provided, Pandas assigns default column labels (0, 1, 2).\n",
    "# Row indices are automatically assigned (0, 1, 2)."
   ]
  },
  {
   "cell_type": "markdown",
   "id": "da817a49",
   "metadata": {},
   "source": [
    "# 2.Creating a DataFrame with Custom Index and Columns"
   ]
  },
  {
   "cell_type": "code",
   "execution_count": 20,
   "id": "d9dd10b3",
   "metadata": {},
   "outputs": [
    {
     "name": "stdout",
     "output_type": "stream",
     "text": [
      "       S   D   F\n",
      "Row1  10  20  30\n",
      "Row2  40  50  60\n",
      "Row3  70  80  90\n"
     ]
    }
   ],
   "source": [
    "l1 = [[10,20,30],[40,50,60],[70,80,90]]\n",
    "df = pd.DataFrame(l1,index=['Row1','Row2','Row3'],columns=['S','D','F'])\n",
    "print(df)\n",
    "\n",
    "# index=['Row1', 'Row2', 'Row3'] → Sets row labels.\n",
    "# columns=['S', 'D', 'F'] → Sets column names."
   ]
  },
  {
   "cell_type": "markdown",
   "id": "9139245e",
   "metadata": {},
   "source": [
    "# 3.Using the dtype Parameter"
   ]
  },
  {
   "cell_type": "code",
   "execution_count": 28,
   "id": "19ce3b18",
   "metadata": {},
   "outputs": [
    {
     "name": "stdout",
     "output_type": "stream",
     "text": [
      "      0     1     2\n",
      "0  10.0  20.0  30.0\n",
      "1  40.0  50.0  60.0\n",
      "2  70.0  80.0  90.0\n"
     ]
    }
   ],
   "source": [
    "l1 = [[10,20,30],[40,50,60],[70,80,90]]\n",
    "df = pd.DataFrame(l1,dtype=float)\n",
    "print(df)\n",
    "\n",
    "# If the dataframe has string then it fails."
   ]
  },
  {
   "cell_type": "markdown",
   "id": "bbddec4c",
   "metadata": {},
   "source": [
    "# 4.Using the copy Parameter"
   ]
  },
  {
   "cell_type": "code",
   "execution_count": 43,
   "id": "fcaa2910",
   "metadata": {},
   "outputs": [
    {
     "name": "stdout",
     "output_type": "stream",
     "text": [
      "     A  B\n",
      "0  100  4\n",
      "1    2  5\n",
      "2    3  6\n"
     ]
    }
   ],
   "source": [
    "df1 = pd.DataFrame({'A': [1, 2, 3], 'B': [4, 5, 6]})\n",
    "df2 = pd.DataFrame(df1, copy=False)  \n",
    "\n",
    "df1.loc[0, 'A'] = 100\n",
    "\n",
    "print(df2)\n",
    "\n",
    "# If the input is already a Pandas object (like another DataFrame), \n",
    "# then copy=False might prevent a copy and retain the reference."
   ]
  },
  {
   "cell_type": "markdown",
   "id": "01a09c75",
   "metadata": {},
   "source": [
    "# Data Structures That Can Be Used to Create a Pandas DataFrame"
   ]
  },
  {
   "cell_type": "code",
   "execution_count": 44,
   "id": "78c0bc8d",
   "metadata": {},
   "outputs": [],
   "source": [
    "# A DataFrame in pandas can be created from multiple types of data structures like lists, dictionaries, NumPy arrays, and more. \n",
    "# Below is a detailed explanation with examples."
   ]
  },
  {
   "cell_type": "markdown",
   "id": "e8122856",
   "metadata": {},
   "source": [
    "# 1.Creating a DataFrame from a Dictionary (dict)"
   ]
  },
  {
   "cell_type": "code",
   "execution_count": 46,
   "id": "094aa3ab",
   "metadata": {},
   "outputs": [
    {
     "name": "stdout",
     "output_type": "stream",
     "text": [
      "    Name  Age\n",
      "0  Alice   10\n",
      "1   GOGO   20\n",
      "2    Jam   30\n",
      "<class 'pandas.core.frame.DataFrame'>\n"
     ]
    }
   ],
   "source": [
    "d1 = {'Name':['Alice','GOGO','Jam'],'Age':[10,20,30]}\n",
    "df = pd.DataFrame(d1)\n",
    "print(df)\n",
    "print(type(df))\n",
    "\n",
    "# Each key represents a column, and each list contains the column values."
   ]
  },
  {
   "cell_type": "markdown",
   "id": "d94dfe61",
   "metadata": {},
   "source": [
    "# 2.Creating a DataFrame from a List of Lists (list)"
   ]
  },
  {
   "cell_type": "code",
   "execution_count": 48,
   "id": "2d9ea630",
   "metadata": {},
   "outputs": [
    {
     "name": "stdout",
     "output_type": "stream",
     "text": [
      "    0   1   2\n",
      "0  10  20  30\n",
      "1  40  50  60\n",
      "2  70  80  90\n"
     ]
    }
   ],
   "source": [
    "l1 = [[10,20,30],[40,50,60],[70,80,90]]\n",
    "df = pd.DataFrame(l1)\n",
    "print(df)\n",
    "\n",
    "# Without column names, Pandas assigns default numeric column labels."
   ]
  },
  {
   "cell_type": "markdown",
   "id": "9cd8d772",
   "metadata": {},
   "source": [
    "# 3.Creating a DataFrame from a List of Dictionaries (list of dicts)"
   ]
  },
  {
   "cell_type": "code",
   "execution_count": 49,
   "id": "125ff42a",
   "metadata": {},
   "outputs": [
    {
     "name": "stdout",
     "output_type": "stream",
     "text": [
      "    Name  Age\n",
      "0  Alice   10\n",
      "1    Jam   20\n"
     ]
    }
   ],
   "source": [
    "l1=[\n",
    "    {'Name':'Alice','Age':10},\n",
    "    {'Name':'Jam','Age':20}\n",
    "]\n",
    "df = pd.DataFrame(l1)\n",
    "print(df)"
   ]
  },
  {
   "cell_type": "markdown",
   "id": "81b5f2cb",
   "metadata": {},
   "source": [
    "# 4.Creating a DataFrame from a NumPy Array (numpy.ndarray)"
   ]
  },
  {
   "cell_type": "code",
   "execution_count": 51,
   "id": "df6414b9",
   "metadata": {},
   "outputs": [
    {
     "name": "stdout",
     "output_type": "stream",
     "text": [
      "    c1  c2  c3\n",
      "r1  10  20  30\n",
      "r2  40  50  60\n"
     ]
    }
   ],
   "source": [
    "import numpy as np\n",
    "arr2 = np.array([[10,20,30],[40,50,60]])\n",
    "df = pd.DataFrame(arr2,index=['r1','r2'],columns=['c1','c2','c3'])\n",
    "print(df)"
   ]
  },
  {
   "cell_type": "markdown",
   "id": "b09c27e7",
   "metadata": {},
   "source": [
    "# 5.Creating a DataFrame from a Pandas Series (pd.Series)"
   ]
  },
  {
   "cell_type": "code",
   "execution_count": 64,
   "id": "703db4a6",
   "metadata": {},
   "outputs": [
    {
     "name": "stdout",
     "output_type": "stream",
     "text": [
      "         Numbers\n",
      "Numbers         \n",
      "10           NaN\n",
      "20           NaN\n",
      "30           NaN\n"
     ]
    }
   ],
   "source": [
    "# A Series can be converted to a DataFrame, either as a single-column DataFrame or multiple Series combined.\n",
    "s1 = pd.Series([10,20,30],name='Numbers')\n",
    "df = pd.DataFrame(s1,s1)\n",
    "print(df)\n",
    "\n",
    "# data = s1 → The values [10, 20, 30] from s1 are used as the data.\n",
    "# index = s1 → The values [10, 20, 30] are used as the index (row labels).\n",
    "# Column names are taken from s1 automatically, so \"Numbers\" becomes the column header."
   ]
  },
  {
   "cell_type": "code",
   "execution_count": 65,
   "id": "f9efe1a0",
   "metadata": {},
   "outputs": [],
   "source": [
    "# Step-by-step Explanation\n",
    "\n",
    "# 1.Setting Row Index\n",
    "# Since index=s1, the row labels become 10, 20, 30.\n",
    "\n",
    "# 2.Setting Column Name\n",
    "# Since s1 has a name \"Numbers\", Pandas keeps that as the column name.\n",
    "\n",
    "# 3.Pandas is Expecting a Table Structure\n",
    "# Normally, when you create a DataFrame, you have rows and columns with actual data.\n",
    "# Here, because we used s1 for both data and index, Pandas is expecting to find values at row index 10, 20, 30.\n",
    "# But there are no such values mapped to these row indices, so it fills everything with NaN."
   ]
  },
  {
   "cell_type": "markdown",
   "id": "95544e4f",
   "metadata": {},
   "source": [
    "# Properties of a Pandas DataFrame"
   ]
  },
  {
   "cell_type": "code",
   "execution_count": 1,
   "id": "a4a59fe3",
   "metadata": {},
   "outputs": [],
   "source": [
    "# A DataFrame in Pandas has several properties (also called attributes) that help in understanding and manipulating it. \n",
    "# Below are the key properties of a DataFrame:"
   ]
  },
  {
   "cell_type": "code",
   "execution_count": 24,
   "id": "e1b90b35",
   "metadata": {},
   "outputs": [
    {
     "name": "stdout",
     "output_type": "stream",
     "text": [
      "    Name  Age\n",
      "0  Alice   10\n",
      "1    Jam   20\n",
      "2   Jack   30\n",
      "\n",
      "The dimension is 2\n"
     ]
    }
   ],
   "source": [
    "# 1 .df.ndim → Number of Dimensions\n",
    "# Returns the number of dimensions (always 2 for DataFrames).\n",
    "d1 = {'Name':[\"Alice\",'Jam','Jack'],\n",
    "      'Age':[10,20,30]   \n",
    "     }\n",
    "df = pd.DataFrame(d1)\n",
    "print(df)\n",
    "print()\n",
    "print(\"The dimension is\",df.ndim)"
   ]
  },
  {
   "cell_type": "code",
   "execution_count": 23,
   "id": "501cfcaa",
   "metadata": {},
   "outputs": [
    {
     "name": "stdout",
     "output_type": "stream",
     "text": [
      "    Name  Age\n",
      "0  Alice   10\n",
      "1    Jam   20\n",
      "2   Jack   30\n",
      "\n",
      "The Shape is 2\n"
     ]
    }
   ],
   "source": [
    "# 2 df.shape → Dimensions of the DataFrame\n",
    "# Returns the (number of rows, number of columns) as a tuple.\n",
    "\n",
    "d1 = {'Name':[\"Alice\",'Jam','Jack'],\n",
    "      'Age':[10,20,30]   \n",
    "     }\n",
    "df = pd.DataFrame(d1)\n",
    "print(df)\n",
    "print()\n",
    "print(\"The Shape is\",df.ndim)"
   ]
  },
  {
   "cell_type": "code",
   "execution_count": 22,
   "id": "a9ed4135",
   "metadata": {},
   "outputs": [
    {
     "name": "stdout",
     "output_type": "stream",
     "text": [
      "    Name  Age\n",
      "0  Alice   10\n",
      "1    Jam   20\n",
      "2   Jack   30\n",
      "\n",
      "The dtype of each column is\n",
      "Name    object\n",
      "Age      int64\n",
      "dtype: object\n"
     ]
    }
   ],
   "source": [
    "# 3.df.dtypes → Data Types of Each Column\n",
    "# Returns the data type of each column.\n",
    "\n",
    "d1 = {'Name':[\"Alice\",'Jam','Jack'],\n",
    "      'Age':[10,20,30]   \n",
    "     }\n",
    "df = pd.DataFrame(d1)\n",
    "print(df)\n",
    "print()\n",
    "print(\"The dtype of each column is\")\n",
    "print(df.dtypes)"
   ]
  },
  {
   "cell_type": "code",
   "execution_count": 21,
   "id": "093e9474",
   "metadata": {},
   "outputs": [
    {
     "name": "stdout",
     "output_type": "stream",
     "text": [
      "    Name  Age\n",
      "0  Alice   10\n",
      "1    Jam   20\n",
      "2   Jack   30\n",
      "\n",
      "The size of the dataframe is\n",
      "6\n"
     ]
    }
   ],
   "source": [
    "# 4. df.size → Total Number of Elements\n",
    "# Returns total elements (rows × columns).\n",
    "\n",
    "d1 = {'Name':[\"Alice\",'Jam','Jack'],\n",
    "      'Age':[10,20,30]   \n",
    "     }\n",
    "df = pd.DataFrame(d1)\n",
    "print(df)\n",
    "print()\n",
    "print(\"The size of the dataframe is\")\n",
    "print(df.size)"
   ]
  },
  {
   "cell_type": "code",
   "execution_count": 20,
   "id": "f2939bfd",
   "metadata": {},
   "outputs": [
    {
     "name": "stdout",
     "output_type": "stream",
     "text": [
      "\n",
      "The indexes of dataframe is\n",
      "Index(['r1', 'r2'], dtype='object')\n",
      "<class 'pandas.core.indexes.base.Index'>\n"
     ]
    }
   ],
   "source": [
    "# 5.df.index → Index Labels (Row Labels)\n",
    "# Returns the index object of the DataFrame.\n",
    "\n",
    "l1 = [[10,20,30],[40,50,60]]\n",
    "df =  pd.DataFrame(l1,index=['r1','r2'])\n",
    "print()\n",
    "print(\"The indexes of dataframe is\")\n",
    "print(df.index)\n",
    "print(type(df.index))"
   ]
  },
  {
   "cell_type": "code",
   "execution_count": 19,
   "id": "3de8aaae",
   "metadata": {},
   "outputs": [
    {
     "name": "stdout",
     "output_type": "stream",
     "text": [
      "    Name  Age\n",
      "0  Alice   10\n",
      "1    Jam   20\n",
      "2   Jack   30\n",
      "\n",
      "The names of the dataframe is\n",
      "Index(['Name', 'Age'], dtype='object')\n"
     ]
    }
   ],
   "source": [
    "# 6.df.columns → Column Labels\n",
    "# Returns the column names as an Index object.\n",
    "\n",
    "d1 = {'Name':[\"Alice\",'Jam','Jack'],\n",
    "      'Age':[10,20,30]   \n",
    "     }\n",
    "df = pd.DataFrame(d1)\n",
    "print(df)\n",
    "print()\n",
    "print(\"The names of the dataframe is\")\n",
    "print(df.columns)"
   ]
  },
  {
   "cell_type": "code",
   "execution_count": 18,
   "id": "f4edffe6",
   "metadata": {},
   "outputs": [
    {
     "name": "stdout",
     "output_type": "stream",
     "text": [
      "    Name  Age\n",
      "0  Alice   10\n",
      "1    Jam   20\n",
      "2   Jack   30\n",
      "\n",
      "The values of the dataframe is\n",
      "[['Alice' 10]\n",
      " ['Jam' 20]\n",
      " ['Jack' 30]]\n"
     ]
    }
   ],
   "source": [
    "# 7.df.values → Converts DataFrame to NumPy Array\n",
    "# Returns the DataFrame as a NumPy array (without labels).\n",
    "\n",
    "d1 = {'Name':[\"Alice\",'Jam','Jack'],\n",
    "      'Age':[10,20,30]   \n",
    "     }\n",
    "df = pd.DataFrame(d1)\n",
    "print(df)\n",
    "print()\n",
    "print(\"The values of the dataframe is\")\n",
    "print(df.values)"
   ]
  },
  {
   "cell_type": "code",
   "execution_count": 26,
   "id": "56aab199",
   "metadata": {},
   "outputs": [
    {
     "name": "stdout",
     "output_type": "stream",
     "text": [
      "    Name  Age\n",
      "0  Alice   10\n",
      "1    Jam   20\n",
      "2   Jack   30\n",
      "\n",
      "False\n"
     ]
    }
   ],
   "source": [
    "# 8.df.empty → Checks if DataFrame is Empty\n",
    "# Returns True if the DataFrame has no elements.\n",
    "\n",
    "d1 = {'Name':[\"Alice\",'Jam','Jack'],\n",
    "      'Age':[10,20,30]   \n",
    "     }\n",
    "df = pd.DataFrame(d1)\n",
    "print(df)\n",
    "print()\n",
    "print(df.empty)"
   ]
  },
  {
   "cell_type": "markdown",
   "id": "01a0b5be",
   "metadata": {},
   "source": [
    "# DataFrame Methods in Pandas"
   ]
  },
  {
   "cell_type": "code",
   "execution_count": 28,
   "id": "e77265b0",
   "metadata": {},
   "outputs": [],
   "source": [
    "# A DataFrame in Pandas has a variety of built-in methods that help in data manipulation, transformation, and analysis."
   ]
  },
  {
   "cell_type": "markdown",
   "id": "a0e3ee74",
   "metadata": {},
   "source": [
    "# Data Inspection Methods"
   ]
  },
  {
   "cell_type": "code",
   "execution_count": 30,
   "id": "d1253668",
   "metadata": {},
   "outputs": [],
   "source": [
    "# These methods help in understanding the structure of a DataFrame."
   ]
  },
  {
   "cell_type": "code",
   "execution_count": 31,
   "id": "4d335fb5",
   "metadata": {},
   "outputs": [],
   "source": [
    "# 1.df.info() → Summary of DataFrame\n",
    "# Gives a concise summary including:\n",
    "# Number of non-null values\n",
    "# Data types\n",
    "# Memory usage"
   ]
  },
  {
   "cell_type": "code",
   "execution_count": 33,
   "id": "a1316567",
   "metadata": {},
   "outputs": [
    {
     "name": "stdout",
     "output_type": "stream",
     "text": [
      "<class 'pandas.core.frame.DataFrame'>\n",
      "RangeIndex: 3 entries, 0 to 2\n",
      "Data columns (total 2 columns):\n",
      " #   Column  Non-Null Count  Dtype  \n",
      "---  ------  --------------  -----  \n",
      " 0   A       3 non-null      int64  \n",
      " 1   B       3 non-null      float64\n",
      "dtypes: float64(1), int64(1)\n",
      "memory usage: 180.0 bytes\n"
     ]
    }
   ],
   "source": [
    "import pandas as pd\n",
    "df = pd.DataFrame({'A': [1, 2, 3], 'B': [4.5, 5.5, 6.5]})\n",
    "df.info()"
   ]
  },
  {
   "cell_type": "code",
   "execution_count": 34,
   "id": "c59d7be4",
   "metadata": {},
   "outputs": [],
   "source": [
    "# 2.df.describe(percentiles=None, include=None, exclude=None) → Summary Statistics\n",
    "# Generates summary statistics for numerical data.\n",
    "\n",
    "# 🔹 Parameters:\n",
    "\n",
    "# Parameter\tDescription\n",
    "# percentiles\tList of percentiles (e.g., [0.25, 0.5, 0.75]). Default is [0.25, 0.5, 0.75].\n",
    "# include\tInclude specific data types (e.g., include='all').\n",
    "# exclude\tExclude specific data types (e.g., exclude=['int'])."
   ]
  },
  {
   "cell_type": "code",
   "execution_count": 36,
   "id": "143140cd",
   "metadata": {},
   "outputs": [
    {
     "data": {
      "text/html": [
       "<div>\n",
       "<style scoped>\n",
       "    .dataframe tbody tr th:only-of-type {\n",
       "        vertical-align: middle;\n",
       "    }\n",
       "\n",
       "    .dataframe tbody tr th {\n",
       "        vertical-align: top;\n",
       "    }\n",
       "\n",
       "    .dataframe thead th {\n",
       "        text-align: right;\n",
       "    }\n",
       "</style>\n",
       "<table border=\"1\" class=\"dataframe\">\n",
       "  <thead>\n",
       "    <tr style=\"text-align: right;\">\n",
       "      <th></th>\n",
       "      <th>A</th>\n",
       "      <th>B</th>\n",
       "    </tr>\n",
       "  </thead>\n",
       "  <tbody>\n",
       "    <tr>\n",
       "      <th>count</th>\n",
       "      <td>3.0</td>\n",
       "      <td>3.0</td>\n",
       "    </tr>\n",
       "    <tr>\n",
       "      <th>mean</th>\n",
       "      <td>2.0</td>\n",
       "      <td>5.5</td>\n",
       "    </tr>\n",
       "    <tr>\n",
       "      <th>std</th>\n",
       "      <td>1.0</td>\n",
       "      <td>1.0</td>\n",
       "    </tr>\n",
       "    <tr>\n",
       "      <th>min</th>\n",
       "      <td>1.0</td>\n",
       "      <td>4.5</td>\n",
       "    </tr>\n",
       "    <tr>\n",
       "      <th>25%</th>\n",
       "      <td>1.5</td>\n",
       "      <td>5.0</td>\n",
       "    </tr>\n",
       "    <tr>\n",
       "      <th>50%</th>\n",
       "      <td>2.0</td>\n",
       "      <td>5.5</td>\n",
       "    </tr>\n",
       "    <tr>\n",
       "      <th>75%</th>\n",
       "      <td>2.5</td>\n",
       "      <td>6.0</td>\n",
       "    </tr>\n",
       "    <tr>\n",
       "      <th>max</th>\n",
       "      <td>3.0</td>\n",
       "      <td>6.5</td>\n",
       "    </tr>\n",
       "  </tbody>\n",
       "</table>\n",
       "</div>"
      ],
      "text/plain": [
       "         A    B\n",
       "count  3.0  3.0\n",
       "mean   2.0  5.5\n",
       "std    1.0  1.0\n",
       "min    1.0  4.5\n",
       "25%    1.5  5.0\n",
       "50%    2.0  5.5\n",
       "75%    2.5  6.0\n",
       "max    3.0  6.5"
      ]
     },
     "execution_count": 36,
     "metadata": {},
     "output_type": "execute_result"
    }
   ],
   "source": [
    "df = pd.DataFrame({'A': [1, 2, 3], 'B': [4.5, 5.5, 6.5]})\n",
    "df.describe()"
   ]
  },
  {
   "cell_type": "code",
   "execution_count": 37,
   "id": "330167ef",
   "metadata": {},
   "outputs": [],
   "source": [
    "# Quartiles split your data into four equal parts so you can understand how the data is distributed.\n",
    "\n",
    "# Think of quartiles like dividing a pizza into four equal parts:\n",
    "\n",
    "# Q1 (First Quartile - 25%) → The value below which 25% of data falls.\n",
    "# Q2 (Second Quartile - 50% or Median) → The value below which 50% of data falls.\n",
    "# Q3 (Third Quartile - 75%) → The value below which 75% of data falls.\n",
    "# Q4 (Maximum - 100%) → The highest value in the dataset.\n",
    "\n"
   ]
  },
  {
   "cell_type": "markdown",
   "id": "0e5dd526",
   "metadata": {},
   "source": [
    "# Selection & Filtering Methods"
   ]
  },
  {
   "cell_type": "code",
   "execution_count": 38,
   "id": "3392141d",
   "metadata": {},
   "outputs": [],
   "source": [
    "# These methods help in selecting specific rows/columns."
   ]
  },
  {
   "cell_type": "code",
   "execution_count": 39,
   "id": "7d070a05",
   "metadata": {},
   "outputs": [],
   "source": [
    "# 3.df.head(n=5) → First n Rows\n",
    "# Returns the first n rows (default is 5).\n",
    "\n",
    "# Parameter:\n",
    "# n → Number of rows to return."
   ]
  },
  {
   "cell_type": "code",
   "execution_count": 41,
   "id": "b80cae14",
   "metadata": {},
   "outputs": [
    {
     "data": {
      "text/html": [
       "<div>\n",
       "<style scoped>\n",
       "    .dataframe tbody tr th:only-of-type {\n",
       "        vertical-align: middle;\n",
       "    }\n",
       "\n",
       "    .dataframe tbody tr th {\n",
       "        vertical-align: top;\n",
       "    }\n",
       "\n",
       "    .dataframe thead th {\n",
       "        text-align: right;\n",
       "    }\n",
       "</style>\n",
       "<table border=\"1\" class=\"dataframe\">\n",
       "  <thead>\n",
       "    <tr style=\"text-align: right;\">\n",
       "      <th></th>\n",
       "      <th>A</th>\n",
       "      <th>B</th>\n",
       "    </tr>\n",
       "  </thead>\n",
       "  <tbody>\n",
       "    <tr>\n",
       "      <th>0</th>\n",
       "      <td>1</td>\n",
       "      <td>4.5</td>\n",
       "    </tr>\n",
       "    <tr>\n",
       "      <th>1</th>\n",
       "      <td>2</td>\n",
       "      <td>5.5</td>\n",
       "    </tr>\n",
       "  </tbody>\n",
       "</table>\n",
       "</div>"
      ],
      "text/plain": [
       "   A    B\n",
       "0  1  4.5\n",
       "1  2  5.5"
      ]
     },
     "execution_count": 41,
     "metadata": {},
     "output_type": "execute_result"
    }
   ],
   "source": [
    "df = pd.DataFrame({'A': [1, 2, 3], 'B': [4.5, 5.5, 6.5]})\n",
    "df.head(2)"
   ]
  },
  {
   "cell_type": "code",
   "execution_count": 46,
   "id": "c654484f",
   "metadata": {},
   "outputs": [],
   "source": [
    "# 4.df.tail(n=5) → Last n Rows\n",
    "# Returns last n rows (default is 5)."
   ]
  },
  {
   "cell_type": "code",
   "execution_count": 45,
   "id": "c0069652",
   "metadata": {},
   "outputs": [
    {
     "data": {
      "text/html": [
       "<div>\n",
       "<style scoped>\n",
       "    .dataframe tbody tr th:only-of-type {\n",
       "        vertical-align: middle;\n",
       "    }\n",
       "\n",
       "    .dataframe tbody tr th {\n",
       "        vertical-align: top;\n",
       "    }\n",
       "\n",
       "    .dataframe thead th {\n",
       "        text-align: right;\n",
       "    }\n",
       "</style>\n",
       "<table border=\"1\" class=\"dataframe\">\n",
       "  <thead>\n",
       "    <tr style=\"text-align: right;\">\n",
       "      <th></th>\n",
       "      <th>A</th>\n",
       "      <th>B</th>\n",
       "    </tr>\n",
       "  </thead>\n",
       "  <tbody>\n",
       "    <tr>\n",
       "      <th>1</th>\n",
       "      <td>2</td>\n",
       "      <td>5.5</td>\n",
       "    </tr>\n",
       "    <tr>\n",
       "      <th>2</th>\n",
       "      <td>3</td>\n",
       "      <td>6.5</td>\n",
       "    </tr>\n",
       "  </tbody>\n",
       "</table>\n",
       "</div>"
      ],
      "text/plain": [
       "   A    B\n",
       "1  2  5.5\n",
       "2  3  6.5"
      ]
     },
     "execution_count": 45,
     "metadata": {},
     "output_type": "execute_result"
    }
   ],
   "source": [
    "df = pd.DataFrame({'A': [1, 2, 3], 'B': [4.5, 5.5, 6.5]})\n",
    "df.tail(2)"
   ]
  },
  {
   "cell_type": "code",
   "execution_count": 43,
   "id": "4553dbed",
   "metadata": {},
   "outputs": [],
   "source": [
    "# 5.df.loc[row_labels, column_labels] → Label-based Selection\n",
    "# Selects rows & columns using labels."
   ]
  },
  {
   "cell_type": "code",
   "execution_count": 47,
   "id": "85d8e807",
   "metadata": {},
   "outputs": [
    {
     "data": {
      "text/plain": [
       "1"
      ]
     },
     "execution_count": 47,
     "metadata": {},
     "output_type": "execute_result"
    }
   ],
   "source": [
    "df = pd.DataFrame({'A': [1, 2, 3], 'B': [4.5, 5.5, 6.5]})\n",
    "df.loc[0,'A']"
   ]
  },
  {
   "cell_type": "code",
   "execution_count": 48,
   "id": "cb9f5c38",
   "metadata": {},
   "outputs": [],
   "source": [
    "# 6.df.iloc[row_index, column_index] → Index-based Selection\n",
    "# Selects rows & columns using integer indexes."
   ]
  },
  {
   "cell_type": "code",
   "execution_count": 49,
   "id": "e06bd739",
   "metadata": {},
   "outputs": [
    {
     "data": {
      "text/plain": [
       "20"
      ]
     },
     "execution_count": 49,
     "metadata": {},
     "output_type": "execute_result"
    }
   ],
   "source": [
    "df = pd.DataFrame([[10,20,30],[40,50,60]])\n",
    "df.loc[0,1]"
   ]
  },
  {
   "cell_type": "markdown",
   "id": "37d94fa4",
   "metadata": {},
   "source": [
    "# Sorting Methods"
   ]
  },
  {
   "cell_type": "code",
   "execution_count": 50,
   "id": "03280e56",
   "metadata": {},
   "outputs": [],
   "source": [
    "# These methods help in sorting a DataFrame."
   ]
  },
  {
   "cell_type": "code",
   "execution_count": 51,
   "id": "16cdf1b5",
   "metadata": {},
   "outputs": [],
   "source": [
    "# 7.df.sort_values(by, ascending=True, inplace=False) → Sort by Column\n",
    "# Sorts values based on a column.\n",
    "\n",
    "# 🔹 Parameters:\n",
    "# by\tColumn name(s) to sort by.\n",
    "# ascending\tSort order (True for ascending, False for descending).\n",
    "# inplace\tModify original DataFrame (False by default)."
   ]
  },
  {
   "cell_type": "code",
   "execution_count": 53,
   "id": "c80cf901",
   "metadata": {},
   "outputs": [
    {
     "data": {
      "text/html": [
       "<div>\n",
       "<style scoped>\n",
       "    .dataframe tbody tr th:only-of-type {\n",
       "        vertical-align: middle;\n",
       "    }\n",
       "\n",
       "    .dataframe tbody tr th {\n",
       "        vertical-align: top;\n",
       "    }\n",
       "\n",
       "    .dataframe thead th {\n",
       "        text-align: right;\n",
       "    }\n",
       "</style>\n",
       "<table border=\"1\" class=\"dataframe\">\n",
       "  <thead>\n",
       "    <tr style=\"text-align: right;\">\n",
       "      <th></th>\n",
       "      <th>0</th>\n",
       "      <th>1</th>\n",
       "      <th>2</th>\n",
       "    </tr>\n",
       "  </thead>\n",
       "  <tbody>\n",
       "    <tr>\n",
       "      <th>1</th>\n",
       "      <td>40</td>\n",
       "      <td>50</td>\n",
       "      <td>60</td>\n",
       "    </tr>\n",
       "    <tr>\n",
       "      <th>0</th>\n",
       "      <td>10</td>\n",
       "      <td>20</td>\n",
       "      <td>30</td>\n",
       "    </tr>\n",
       "  </tbody>\n",
       "</table>\n",
       "</div>"
      ],
      "text/plain": [
       "    0   1   2\n",
       "1  40  50  60\n",
       "0  10  20  30"
      ]
     },
     "execution_count": 53,
     "metadata": {},
     "output_type": "execute_result"
    }
   ],
   "source": [
    "df = pd.DataFrame([[10,20,30],[40,50,60]])\n",
    "df.sort_values(by=[0,1],ascending=False)"
   ]
  },
  {
   "cell_type": "code",
   "execution_count": 54,
   "id": "fda3d2aa",
   "metadata": {},
   "outputs": [],
   "source": [
    "# 8.df.sort_index(ascending=True, inplace=False) → Sort by Index\n",
    "# Sorts rows based on index.\n",
    "# df.sort_index()"
   ]
  },
  {
   "cell_type": "code",
   "execution_count": 59,
   "id": "c7319eff",
   "metadata": {},
   "outputs": [
    {
     "data": {
      "text/html": [
       "<div>\n",
       "<style scoped>\n",
       "    .dataframe tbody tr th:only-of-type {\n",
       "        vertical-align: middle;\n",
       "    }\n",
       "\n",
       "    .dataframe tbody tr th {\n",
       "        vertical-align: top;\n",
       "    }\n",
       "\n",
       "    .dataframe thead th {\n",
       "        text-align: right;\n",
       "    }\n",
       "</style>\n",
       "<table border=\"1\" class=\"dataframe\">\n",
       "  <thead>\n",
       "    <tr style=\"text-align: right;\">\n",
       "      <th></th>\n",
       "      <th>0</th>\n",
       "      <th>1</th>\n",
       "      <th>2</th>\n",
       "    </tr>\n",
       "  </thead>\n",
       "  <tbody>\n",
       "    <tr>\n",
       "      <th>0</th>\n",
       "      <td>10</td>\n",
       "      <td>20</td>\n",
       "      <td>30</td>\n",
       "    </tr>\n",
       "    <tr>\n",
       "      <th>1</th>\n",
       "      <td>40</td>\n",
       "      <td>50</td>\n",
       "      <td>60</td>\n",
       "    </tr>\n",
       "  </tbody>\n",
       "</table>\n",
       "</div>"
      ],
      "text/plain": [
       "    0   1   2\n",
       "0  10  20  30\n",
       "1  40  50  60"
      ]
     },
     "execution_count": 59,
     "metadata": {},
     "output_type": "execute_result"
    }
   ],
   "source": [
    "df = pd.DataFrame([[10,20,30],[40,50,60]])\n",
    "df.sort_index()"
   ]
  },
  {
   "cell_type": "markdown",
   "id": "ac260567",
   "metadata": {},
   "source": [
    "# Data Manipulation Methods"
   ]
  },
  {
   "cell_type": "code",
   "execution_count": 60,
   "id": "d398170f",
   "metadata": {},
   "outputs": [],
   "source": [
    "# These methods help in modifying DataFrames."
   ]
  },
  {
   "cell_type": "code",
   "execution_count": 61,
   "id": "99dd883f",
   "metadata": {},
   "outputs": [],
   "source": [
    "# 9.df.rename(columns={'old_name': 'new_name'}) → Rename Columns\n",
    "# Renames column labels.\n",
    "# return the new dataframe with the changed column names."
   ]
  },
  {
   "cell_type": "code",
   "execution_count": 66,
   "id": "9812bfc3",
   "metadata": {},
   "outputs": [
    {
     "data": {
      "text/html": [
       "<div>\n",
       "<style scoped>\n",
       "    .dataframe tbody tr th:only-of-type {\n",
       "        vertical-align: middle;\n",
       "    }\n",
       "\n",
       "    .dataframe tbody tr th {\n",
       "        vertical-align: top;\n",
       "    }\n",
       "\n",
       "    .dataframe thead th {\n",
       "        text-align: right;\n",
       "    }\n",
       "</style>\n",
       "<table border=\"1\" class=\"dataframe\">\n",
       "  <thead>\n",
       "    <tr style=\"text-align: right;\">\n",
       "      <th></th>\n",
       "      <th>Col1</th>\n",
       "      <th>col2</th>\n",
       "      <th>col3</th>\n",
       "    </tr>\n",
       "  </thead>\n",
       "  <tbody>\n",
       "    <tr>\n",
       "      <th>0</th>\n",
       "      <td>10</td>\n",
       "      <td>20</td>\n",
       "      <td>30</td>\n",
       "    </tr>\n",
       "    <tr>\n",
       "      <th>1</th>\n",
       "      <td>40</td>\n",
       "      <td>50</td>\n",
       "      <td>60</td>\n",
       "    </tr>\n",
       "  </tbody>\n",
       "</table>\n",
       "</div>"
      ],
      "text/plain": [
       "   Col1  col2  col3\n",
       "0    10    20    30\n",
       "1    40    50    60"
      ]
     },
     "execution_count": 66,
     "metadata": {},
     "output_type": "execute_result"
    }
   ],
   "source": [
    "df = pd.DataFrame([[10,20,30],[40,50,60]])\n",
    "df.rename(columns={0:'Col1',1:'col2',2:'col3'})"
   ]
  },
  {
   "cell_type": "code",
   "execution_count": 72,
   "id": "954423da",
   "metadata": {},
   "outputs": [],
   "source": [
    "# 10 . df.drop(labels, axis=0, inplace=False) → Drop Rows/Columns\n",
    "# Removes specific rows/columns.\n",
    "# Return the new DataFrame with droped rows or columns.\n",
    "\n",
    "# 🔹 Parameters:\n",
    "# labels\tName(s) of rows/columns to drop.\n",
    "# axis\t0 → Drop rows, 1 → Drop columns.\n",
    "# inplace\tModify original DataFrame (False by default)."
   ]
  },
  {
   "cell_type": "code",
   "execution_count": 73,
   "id": "9b833bdd",
   "metadata": {},
   "outputs": [
    {
     "data": {
      "text/html": [
       "<div>\n",
       "<style scoped>\n",
       "    .dataframe tbody tr th:only-of-type {\n",
       "        vertical-align: middle;\n",
       "    }\n",
       "\n",
       "    .dataframe tbody tr th {\n",
       "        vertical-align: top;\n",
       "    }\n",
       "\n",
       "    .dataframe thead th {\n",
       "        text-align: right;\n",
       "    }\n",
       "</style>\n",
       "<table border=\"1\" class=\"dataframe\">\n",
       "  <thead>\n",
       "    <tr style=\"text-align: right;\">\n",
       "      <th></th>\n",
       "      <th>A</th>\n",
       "      <th>B</th>\n",
       "    </tr>\n",
       "  </thead>\n",
       "  <tbody>\n",
       "    <tr>\n",
       "      <th>2</th>\n",
       "      <td>3</td>\n",
       "      <td>6.5</td>\n",
       "    </tr>\n",
       "  </tbody>\n",
       "</table>\n",
       "</div>"
      ],
      "text/plain": [
       "   A    B\n",
       "2  3  6.5"
      ]
     },
     "execution_count": 73,
     "metadata": {},
     "output_type": "execute_result"
    }
   ],
   "source": [
    "df = pd.DataFrame({'A': [1, 2, 3], 'B': [4.5, 5.5, 6.5]})\n",
    "df.drop(labels=[0,1],axis=0)"
   ]
  },
  {
   "cell_type": "markdown",
   "id": "9319d6ad",
   "metadata": {},
   "source": [
    "# Aggregation Methods"
   ]
  },
  {
   "cell_type": "code",
   "execution_count": 76,
   "id": "3efa8e57",
   "metadata": {},
   "outputs": [],
   "source": [
    "# Methods to perform calculations."
   ]
  },
  {
   "cell_type": "code",
   "execution_count": 77,
   "id": "4ecc9cd3",
   "metadata": {},
   "outputs": [],
   "source": [
    "# 11 df.mean(axis=0) → Column-wise Mean\n",
    "# Returns the mean of all values."
   ]
  },
  {
   "cell_type": "code",
   "execution_count": 86,
   "id": "54e7f229",
   "metadata": {},
   "outputs": [
    {
     "name": "stdout",
     "output_type": "stream",
     "text": [
      "   A    B\n",
      "0  1  4.5\n",
      "1  2  5.5\n",
      "2  3  6.5\n",
      "\n",
      "A    2.0\n",
      "B    5.5\n",
      "dtype: float64\n",
      "\n",
      "0    2.75\n",
      "1    3.75\n",
      "2    4.75\n",
      "dtype: float64\n"
     ]
    }
   ],
   "source": [
    "df = pd.DataFrame({'A': [1, 2, 3], 'B': [4.5, 5.5, 6.5]})\n",
    "print(df)\n",
    "print()\n",
    "# Mean by rows \n",
    "print(df.mean(axis=0))\n",
    "print()\n",
    "\n",
    "# Mean by Column\n",
    "print(df.mean(axis=1))"
   ]
  },
  {
   "cell_type": "code",
   "execution_count": 87,
   "id": "aa857362",
   "metadata": {},
   "outputs": [],
   "source": [
    "# 12.df.sum(axis=0) → Column-wise Sum\n",
    "# Returns the sum of all values."
   ]
  },
  {
   "cell_type": "code",
   "execution_count": 89,
   "id": "2ff11724",
   "metadata": {},
   "outputs": [
    {
     "name": "stdout",
     "output_type": "stream",
     "text": [
      "   A    B\n",
      "0  1  4.5\n",
      "1  2  5.5\n",
      "2  3  6.5\n",
      "\n",
      "A     6.0\n",
      "B    16.5\n",
      "dtype: float64\n",
      "\n",
      "0    5.5\n",
      "1    7.5\n",
      "2    9.5\n",
      "dtype: float64\n"
     ]
    }
   ],
   "source": [
    "df = pd.DataFrame({'A': [1, 2, 3], 'B': [4.5, 5.5, 6.5]})\n",
    "print(df)\n",
    "print()\n",
    "\n",
    "# Mean by rows (Summation of all the rows)\n",
    "print(df.sum(axis=0))\n",
    "print()\n",
    "\n",
    "# Mean by Column (Summation of all the columns)\n",
    "print(df.sum(axis=1))"
   ]
  },
  {
   "cell_type": "code",
   "execution_count": 90,
   "id": "ae325d16",
   "metadata": {},
   "outputs": [],
   "source": [
    "# 13.df.count() → Count Non-Null Values\n",
    "# Counts non-null values."
   ]
  },
  {
   "cell_type": "code",
   "execution_count": 98,
   "id": "4903551f",
   "metadata": {},
   "outputs": [
    {
     "name": "stdout",
     "output_type": "stream",
     "text": [
      "    Name   Age\n",
      "0  Alice   NaN\n",
      "1    Jam  20.0\n",
      "2   None   NaN\n",
      "Name    2\n",
      "Age     1\n",
      "dtype: int64\n"
     ]
    }
   ],
   "source": [
    "l1=[\n",
    "    {'Name':'Alice','Age':None},\n",
    "    {'Name':'Jam','Age':20},\n",
    "    {'Name':None,'Age':None}\n",
    "]\n",
    "df = pd.DataFrame(l1)\n",
    "print(df)\n",
    "print(df.count())"
   ]
  },
  {
   "cell_type": "code",
   "execution_count": 99,
   "id": "f027fff9",
   "metadata": {},
   "outputs": [
    {
     "data": {
      "text/plain": [
       "Name    2\n",
       "Age     1\n",
       "dtype: int64"
      ]
     },
     "execution_count": 99,
     "metadata": {},
     "output_type": "execute_result"
    }
   ],
   "source": [
    "df.count(axis=0)"
   ]
  },
  {
   "cell_type": "code",
   "execution_count": 100,
   "id": "ff270857",
   "metadata": {},
   "outputs": [
    {
     "data": {
      "text/plain": [
       "0    1\n",
       "1    2\n",
       "2    0\n",
       "dtype: int64"
      ]
     },
     "execution_count": 100,
     "metadata": {},
     "output_type": "execute_result"
    }
   ],
   "source": [
    "df.count(axis=1)"
   ]
  },
  {
   "cell_type": "code",
   "execution_count": 105,
   "id": "9e92beb1",
   "metadata": {},
   "outputs": [],
   "source": [
    "# 14. df.isnull() → Check for NaN Values\n",
    "# Returns True for missing values.\n",
    "# Return the new DataFrame containing True for the missing values and False for the non-null values."
   ]
  },
  {
   "cell_type": "code",
   "execution_count": 106,
   "id": "3b158e44",
   "metadata": {},
   "outputs": [
    {
     "name": "stdout",
     "output_type": "stream",
     "text": [
      "    Name   Age\n",
      "0  Alice   NaN\n",
      "1    Jam  20.0\n",
      "2   None   NaN\n",
      "\n",
      "    Name    Age\n",
      "0  False   True\n",
      "1  False  False\n",
      "2   True   True\n"
     ]
    }
   ],
   "source": [
    "l1=[\n",
    "    {'Name':'Alice','Age':None},\n",
    "    {'Name':'Jam','Age':20},\n",
    "    {'Name':None,'Age':None}\n",
    "]\n",
    "df = pd.DataFrame(l1)\n",
    "print(df)\n",
    "print()\n",
    "print(df.isnull())"
   ]
  },
  {
   "cell_type": "code",
   "execution_count": 107,
   "id": "930473b5",
   "metadata": {},
   "outputs": [],
   "source": [
    "# 15. df.fillna(value) → Fill Missing Values\n",
    "# Replaces NaN with a specific value."
   ]
  },
  {
   "cell_type": "code",
   "execution_count": 108,
   "id": "cf425a4f",
   "metadata": {},
   "outputs": [
    {
     "name": "stdout",
     "output_type": "stream",
     "text": [
      "    Name   Age\n",
      "0  Alice   NaN\n",
      "1    Jam  20.0\n",
      "2   None   NaN\n",
      "\n",
      "    Name    Age\n",
      "0  Alice  100.0\n",
      "1    Jam   20.0\n",
      "2    100  100.0\n"
     ]
    }
   ],
   "source": [
    "l1=[\n",
    "    {'Name':'Alice','Age':None},\n",
    "    {'Name':'Jam','Age':20},\n",
    "    {'Name':None,'Age':None}\n",
    "]\n",
    "df = pd.DataFrame(l1)\n",
    "print(df)\n",
    "print()\n",
    "print(df.fillna(100))"
   ]
  },
  {
   "cell_type": "code",
   "execution_count": 111,
   "id": "12ce26a6",
   "metadata": {},
   "outputs": [],
   "source": [
    "# 16 df.dropna() → Drop Missing Values\n",
    "# Removes rows/columns with missing values."
   ]
  },
  {
   "cell_type": "code",
   "execution_count": 112,
   "id": "e07afa57",
   "metadata": {},
   "outputs": [
    {
     "name": "stdout",
     "output_type": "stream",
     "text": [
      "    Name   Age\n",
      "0  Alice   NaN\n",
      "1    Jam  20.0\n",
      "2   None   NaN\n",
      "\n"
     ]
    }
   ],
   "source": [
    "l1=[\n",
    "    {'Name':'Alice','Age':None},\n",
    "    {'Name':'Jam','Age':20},\n",
    "    {'Name':None,'Age':None}\n",
    "]\n",
    "df = pd.DataFrame(l1)\n",
    "print(df)"
   ]
  },
  {
   "cell_type": "code",
   "execution_count": 113,
   "id": "60d65da3",
   "metadata": {},
   "outputs": [
    {
     "name": "stdout",
     "output_type": "stream",
     "text": [
      "  Name   Age\n",
      "1  Jam  20.0\n"
     ]
    }
   ],
   "source": [
    "print(df.dropna())"
   ]
  },
  {
   "cell_type": "code",
   "execution_count": 116,
   "id": "aec3efa3",
   "metadata": {},
   "outputs": [
    {
     "name": "stdout",
     "output_type": "stream",
     "text": [
      "  Name   Age\n",
      "1  Jam  20.0\n"
     ]
    }
   ],
   "source": [
    "print(df.dropna(axis=0))"
   ]
  },
  {
   "cell_type": "code",
   "execution_count": 118,
   "id": "1af6e3e2",
   "metadata": {},
   "outputs": [
    {
     "name": "stdout",
     "output_type": "stream",
     "text": [
      "Empty DataFrame\n",
      "Columns: []\n",
      "Index: [0, 1, 2]\n"
     ]
    }
   ],
   "source": [
    "print(df.dropna(axis=1))"
   ]
  },
  {
   "cell_type": "code",
   "execution_count": null,
   "id": "e2f493b7",
   "metadata": {},
   "outputs": [],
   "source": []
  }
 ],
 "metadata": {
  "kernelspec": {
   "display_name": "Python 3 (ipykernel)",
   "language": "python",
   "name": "python3"
  },
  "language_info": {
   "codemirror_mode": {
    "name": "ipython",
    "version": 3
   },
   "file_extension": ".py",
   "mimetype": "text/x-python",
   "name": "python",
   "nbconvert_exporter": "python",
   "pygments_lexer": "ipython3",
   "version": "3.11.5"
  }
 },
 "nbformat": 4,
 "nbformat_minor": 5
}
