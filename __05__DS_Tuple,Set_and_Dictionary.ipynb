{
 "cells": [
  {
   "cell_type": "markdown",
   "id": "ec6533d9",
   "metadata": {},
   "source": [
    "# tuple"
   ]
  },
  {
   "cell_type": "code",
   "execution_count": 1,
   "id": "4e61e837",
   "metadata": {},
   "outputs": [
    {
     "name": "stdout",
     "output_type": "stream",
     "text": [
      "(10, 20, 'hello', True, 90.1, (5+5j))\n",
      "<class 'tuple'>\n"
     ]
    }
   ],
   "source": [
    "# tuple is the heterogenous data structure.\n",
    "# tuple is the ordered and immutable collection of elements.\n",
    "# By immutable means that once the tuple is created it can't be changed.\n",
    "# tuple is created using () brackets.\n",
    "\n",
    "t1 = (10,20,\"hello\",True,90.1,5+5j)\n",
    "print(t1)\n",
    "print(type(t1))"
   ]
  },
  {
   "cell_type": "code",
   "execution_count": 15,
   "id": "26b98b62",
   "metadata": {},
   "outputs": [
    {
     "name": "stdout",
     "output_type": "stream",
     "text": [
      "(1,)\n",
      "<class 'tuple'>\n",
      "<class 'tuple'>\n",
      "1\n",
      "<class 'int'>\n",
      "<class 'tuple'>\n",
      "<class 'tuple'>\n"
     ]
    }
   ],
   "source": [
    "# to create the tuple with element single we use comman after the element bcz \n",
    "# it will create the confusion whether the single element is inside the () brackets or\n",
    "# it is the tuple containing the single element. \n",
    "\n",
    "t1 = (1,)\n",
    "print(t1)\n",
    "print(type(t1))\n",
    "\n",
    "\n",
    "t2 = ()\n",
    "print(type(t2))\n",
    "\n",
    "\n",
    "t4 = (1)\n",
    "print(t4)\n",
    "print(type(t4))\n",
    "\n",
    "t1 = ((1,2,3,4),)\n",
    "print(type(t1[0]))\n",
    "\n",
    "print(type(()))\n",
    "\n"
   ]
  },
  {
   "cell_type": "markdown",
   "id": "615b86b9",
   "metadata": {},
   "source": [
    "# Indexing "
   ]
  },
  {
   "cell_type": "code",
   "execution_count": 4,
   "id": "b33bc36f",
   "metadata": {},
   "outputs": [
    {
     "name": "stdout",
     "output_type": "stream",
     "text": [
      "(10, 20, 'hello', True, 90.1, [10, 20, 30])\n"
     ]
    }
   ],
   "source": [
    "# indexing is used to extract the particular element from the tuple.\n",
    "# there are two types of indexing \n",
    "# 1. postive indexing\n",
    "# 2. negative indexing\n",
    "\n",
    "t1 = (10,20,\"hello\",True,90.1,[10,20,30])\n",
    "print(t1)"
   ]
  },
  {
   "cell_type": "markdown",
   "id": "c9d14f44",
   "metadata": {},
   "source": [
    "# postive indexing "
   ]
  },
  {
   "cell_type": "code",
   "execution_count": 5,
   "id": "7fc31432",
   "metadata": {},
   "outputs": [
    {
     "name": "stdout",
     "output_type": "stream",
     "text": [
      "10\n"
     ]
    }
   ],
   "source": [
    "t1 = (10,20,\"hello\",True,90.1,[10,20,30])\n",
    "print(t1[0])"
   ]
  },
  {
   "cell_type": "code",
   "execution_count": 6,
   "id": "f4562e65",
   "metadata": {},
   "outputs": [
    {
     "name": "stdout",
     "output_type": "stream",
     "text": [
      "20\n"
     ]
    }
   ],
   "source": [
    "print(t1[1])"
   ]
  },
  {
   "cell_type": "code",
   "execution_count": 7,
   "id": "c42edfd4",
   "metadata": {},
   "outputs": [
    {
     "name": "stdout",
     "output_type": "stream",
     "text": [
      "hello\n"
     ]
    }
   ],
   "source": [
    "print(t1[2])"
   ]
  },
  {
   "cell_type": "markdown",
   "id": "1b89db55",
   "metadata": {},
   "source": [
    "# Negative Indexing"
   ]
  },
  {
   "cell_type": "code",
   "execution_count": 8,
   "id": "20ca0d2d",
   "metadata": {},
   "outputs": [
    {
     "name": "stdout",
     "output_type": "stream",
     "text": [
      "[10, 20, 30]\n"
     ]
    }
   ],
   "source": [
    "t1 = (10,20,\"hello\",True,90.1,[10,20,30])\n",
    "# It is internally written like that t1[len(t1)-1]\n",
    "print(t1[-1])"
   ]
  },
  {
   "cell_type": "code",
   "execution_count": 9,
   "id": "132006b8",
   "metadata": {},
   "outputs": [
    {
     "name": "stdout",
     "output_type": "stream",
     "text": [
      "90.1\n"
     ]
    }
   ],
   "source": [
    "print(t1[-2])"
   ]
  },
  {
   "cell_type": "code",
   "execution_count": 10,
   "id": "f3e753bc",
   "metadata": {},
   "outputs": [
    {
     "name": "stdout",
     "output_type": "stream",
     "text": [
      "True\n"
     ]
    }
   ],
   "source": [
    "print(t1[-3])"
   ]
  },
  {
   "cell_type": "markdown",
   "id": "a60222d8",
   "metadata": {},
   "source": [
    "# Slicing "
   ]
  },
  {
   "cell_type": "code",
   "execution_count": 11,
   "id": "08b59f31",
   "metadata": {},
   "outputs": [
    {
     "name": "stdout",
     "output_type": "stream",
     "text": [
      "(10, 20, 'hello', True, 90.1, 5)\n"
     ]
    }
   ],
   "source": [
    "t1 = (10,20,\"hello\",True,90.1,5)\n",
    "print(t1)"
   ]
  },
  {
   "cell_type": "code",
   "execution_count": 12,
   "id": "7210ca46",
   "metadata": {},
   "outputs": [
    {
     "name": "stdout",
     "output_type": "stream",
     "text": [
      "(10, 20, 'hello', True, 90.1, 5)\n"
     ]
    }
   ],
   "source": [
    "print(t1[::])"
   ]
  },
  {
   "cell_type": "code",
   "execution_count": 13,
   "id": "4ab39b4a",
   "metadata": {},
   "outputs": [
    {
     "name": "stdout",
     "output_type": "stream",
     "text": [
      "(10, 20, 'hello', True, 90.1, 5)\n"
     ]
    }
   ],
   "source": [
    "print(t1[:])"
   ]
  },
  {
   "cell_type": "code",
   "execution_count": 14,
   "id": "575f87aa",
   "metadata": {},
   "outputs": [
    {
     "name": "stdout",
     "output_type": "stream",
     "text": [
      "(20, 'hello', True, 90.1, 5)\n"
     ]
    }
   ],
   "source": [
    "print(t1[1:])"
   ]
  },
  {
   "cell_type": "code",
   "execution_count": 15,
   "id": "484fc4b7",
   "metadata": {},
   "outputs": [
    {
     "name": "stdout",
     "output_type": "stream",
     "text": [
      "(5, 90.1, True)\n"
     ]
    }
   ],
   "source": [
    "print(t1[-1:-4:-1])"
   ]
  },
  {
   "cell_type": "code",
   "execution_count": 16,
   "id": "f35cde58",
   "metadata": {},
   "outputs": [
    {
     "name": "stdout",
     "output_type": "stream",
     "text": [
      "()\n"
     ]
    }
   ],
   "source": [
    "# For reverse slicing (-1), Python expects the start index to be greater than the stop index.\n",
    "# which is not in this case so it will return empty tuple.\n",
    "print(t1[1:4:-1])"
   ]
  },
  {
   "cell_type": "code",
   "execution_count": 17,
   "id": "a006a800",
   "metadata": {},
   "outputs": [
    {
     "name": "stdout",
     "output_type": "stream",
     "text": [
      "(5, 90.1, True, 'hello', 20, 10)\n"
     ]
    }
   ],
   "source": [
    "print(t1[::-1])"
   ]
  },
  {
   "cell_type": "markdown",
   "id": "aecc5632",
   "metadata": {},
   "source": [
    "# Tuple Methods"
   ]
  },
  {
   "cell_type": "code",
   "execution_count": 19,
   "id": "4c307b66",
   "metadata": {},
   "outputs": [
    {
     "name": "stdout",
     "output_type": "stream",
     "text": [
      "(10, 20, 'hello', True, 90.1, [10, 20, 30])\n",
      "<class 'tuple'>\n"
     ]
    }
   ],
   "source": [
    "# As the tuples are immutable so there only few methods of tuple\n",
    "t1 = (10,20,\"hello\",True,90.1,[10,20,30])\n",
    "print(t1)\n",
    "print(type(t1))"
   ]
  },
  {
   "cell_type": "code",
   "execution_count": 20,
   "id": "06e96d12",
   "metadata": {},
   "outputs": [
    {
     "name": "stdout",
     "output_type": "stream",
     "text": [
      "------------------count method-----------------------\n",
      "\n",
      "1\n"
     ]
    }
   ],
   "source": [
    "print('------------------count method-----------------------')\n",
    "# Return the total no of occurrences of the element/object in the tuple.\n",
    "print()\n",
    "\n",
    "t1 = (10,20,\"hello\",True,90.1,[10,20,30])\n",
    "print(t1.count(10))"
   ]
  },
  {
   "cell_type": "code",
   "execution_count": 21,
   "id": "49e65390",
   "metadata": {},
   "outputs": [
    {
     "name": "stdout",
     "output_type": "stream",
     "text": [
      "------------------index method-----------------------\n",
      "\n",
      "2\n"
     ]
    }
   ],
   "source": [
    "print('------------------index method-----------------------')\n",
    "# Return the first occurrence (index )of the element/object in the tuple.\n",
    "# if the object is not found in the tuple then it will raise an error.\n",
    "print()\n",
    "t1 = (10,20,30,40,\"hello\",True,10)\n",
    "print(t1.index(30))\n"
   ]
  },
  {
   "cell_type": "code",
   "execution_count": 23,
   "id": "f467d96f",
   "metadata": {},
   "outputs": [
    {
     "name": "stdout",
     "output_type": "stream",
     "text": [
      "------------------del keyword-----------------------\n",
      "\n",
      "Now the tuple object is deleted\n"
     ]
    }
   ],
   "source": [
    "print('------------------del keyword-----------------------')\n",
    "# it used to delete the tuple object.\n",
    "print()\n",
    "t1 = (10,20,30,40,\"hello\",True,10)\n",
    "del t1\n",
    "print(\"Now the tuple object is deleted\")\n"
   ]
  },
  {
   "cell_type": "markdown",
   "id": "3aef4dda",
   "metadata": {},
   "source": [
    "# Mathematical Operation "
   ]
  },
  {
   "cell_type": "code",
   "execution_count": 24,
   "id": "b161f924",
   "metadata": {},
   "outputs": [
    {
     "name": "stdout",
     "output_type": "stream",
     "text": [
      "(10, 20, 30, 'hello', (1+1j))\n",
      "<class 'tuple'>\n"
     ]
    }
   ],
   "source": [
    "# if we perform addition operation on two tuples then it will return the new tuple which contains both the tuple elements.\n",
    "t1 = (10,20,30)\n",
    "t2 = (\"hello\",1+1j)\n",
    "t3 = t1 + t2\n",
    "print(t3)\n",
    "print(type(t3))"
   ]
  },
  {
   "cell_type": "code",
   "execution_count": 26,
   "id": "56ffc97f",
   "metadata": {},
   "outputs": [],
   "source": [
    "# Error\n",
    "# t1 = (10,20,30)\n",
    "# print(t1+1)\n",
    "\n",
    "#  can only concatenate tuple (not \"int\") to tuple"
   ]
  },
  {
   "cell_type": "code",
   "execution_count": 34,
   "id": "b584e66f",
   "metadata": {},
   "outputs": [
    {
     "name": "stdout",
     "output_type": "stream",
     "text": [
      "(10, 20, 30, 'Hello', (1+1j), 90, True) <class 'tuple'>\n",
      "(10, 20, 30, 'Hello', (1+1j), 90, True, 10, 20, 30, 'Hello', (1+1j), 90, True)\n"
     ]
    }
   ],
   "source": [
    "# Mutiplication \n",
    "# if we multiply the number the tuple then it will return the new tuple in which element of the original is repeated as many times as the number is multiply with the tuple.\n",
    "\n",
    "t1 = (10,20,30,'Hello',1+1j,90,True)\n",
    "print(t1,type(t1))\n",
    "\n",
    "t2 = t1*2\n",
    "print(t2)"
   ]
  },
  {
   "cell_type": "code",
   "execution_count": 36,
   "id": "61fd1fe1",
   "metadata": {},
   "outputs": [],
   "source": [
    "# Division\n",
    "# Error\n",
    "# t1 = (10,20,30)\n",
    "# print(t1/2)\n",
    "# TypeError:unsupported operand type(s) for /: 'tuple' and 'int'\n"
   ]
  },
  {
   "cell_type": "code",
   "execution_count": 38,
   "id": "f42a2a66",
   "metadata": {},
   "outputs": [],
   "source": [
    "# Subtraction\n",
    "# Error\n",
    "# t1 = (10,20,30,40)\n",
    "# t1 = t1 - 2\n",
    "# print(t1)\n",
    "\n",
    "# TypeError: unsupported operand type(s) for -: 'tuple' and 'int'"
   ]
  },
  {
   "cell_type": "markdown",
   "id": "8a9b5fe5",
   "metadata": {},
   "source": [
    "# Set"
   ]
  },
  {
   "cell_type": "code",
   "execution_count": 39,
   "id": "c7d59226",
   "metadata": {},
   "outputs": [
    {
     "name": "stdout",
     "output_type": "stream",
     "text": [
      "{True, 'Hello', 40, 10, 20, 'True', 90, 30, 'x'}\n",
      "<class 'set'>\n"
     ]
    }
   ],
   "source": [
    "# set is the heterogenous data structure.\n",
    "# set is unordered and mutable collections of elements.\n",
    "# By unordered means that set does not support indexing and elements can be printed in any order not in the sequence in which it is stored.\n",
    "# By mutable means that once the set is created it can be changed.\n",
    "# Set is created using {} brackets.\n",
    "# Set is known for it uniqueness it does not support duplicate elements.\n",
    "\n",
    "\n",
    "s1 = {10,20,30,40,\"Hello\",'x','True',True,90,1}\n",
    "print(s1)\n",
    "print(type(s1))"
   ]
  },
  {
   "cell_type": "code",
   "execution_count": 41,
   "id": "6251a7ba",
   "metadata": {},
   "outputs": [
    {
     "name": "stdout",
     "output_type": "stream",
     "text": [
      "{10}\n",
      "<class 'set'>\n"
     ]
    }
   ],
   "source": [
    "# Set with the single element\n",
    "s1 = {10}\n",
    "print(s1)\n",
    "print(type(s1))"
   ]
  },
  {
   "cell_type": "markdown",
   "id": "69aa7ab6",
   "metadata": {},
   "source": [
    "# Set methods"
   ]
  },
  {
   "cell_type": "code",
   "execution_count": 42,
   "id": "c7edda8b",
   "metadata": {},
   "outputs": [
    {
     "name": "stdout",
     "output_type": "stream",
     "text": [
      "-------------------union method---------------------\n",
      "{50, 20, 40, 10, 30}\n"
     ]
    }
   ],
   "source": [
    "print(\"-------------------union method---------------------\")\n",
    "# Return the new set with all elements from both the set.\n",
    "# It also take the iterable object , unwrap their data and adds in the new tuple.\n",
    "s1 = {10,20,30}\n",
    "s2 = {30,40,50}\n",
    "print(s1.union(s2))\n"
   ]
  },
  {
   "cell_type": "code",
   "execution_count": 44,
   "id": "a920c1df",
   "metadata": {},
   "outputs": [
    {
     "name": "stdout",
     "output_type": "stream",
     "text": [
      "---------------intersection method-------------------\n",
      "{40, 50, 30}\n"
     ]
    }
   ],
   "source": [
    "print('---------------intersection method-------------------')\n",
    "# Return the new set which contains only comman element from both the sets.\n",
    "\n",
    "s1 = {10,20,30,40}\n",
    "s1 = {30,40,50,60}\n",
    "print(s1.intersection(s2))"
   ]
  },
  {
   "cell_type": "code",
   "execution_count": 59,
   "id": "9a8515ae",
   "metadata": {},
   "outputs": [
    {
     "name": "stdout",
     "output_type": "stream",
     "text": [
      "---------------update method-------------------\n",
      "{70, 40, 10, 80, 50, 20, 60, 30}\n",
      "{100, 70, 40, 200, 10, 300, 80, 50, 20, 60, 30}\n",
      "{100, 70, 40, 200, 10, 'hello', 300, 80, 50, 20, 60, 30}\n",
      "{100, 70, 40, 200, 10, 'hello', 300, 'a', 80, 50, 20, 60, 30}\n",
      "{100, 70, 40, 200, 10, 'hello', 300, 'a', 'e', 'l', 80, 'h', 50, 20, 'o', 60, 30}\n"
     ]
    }
   ],
   "source": [
    "print('---------------update method-------------------')\n",
    "# update method is the methods which only recieve the iterable objects.\n",
    "# and are used to add in the original set with which we called the update method.\n",
    "# the changes will be reflected into the original set.\n",
    "\n",
    "s1 = {10,20,30,40}\n",
    "s2 = {50,60,70,80}\n",
    "s1.update(s2)\n",
    "print(s1)\n",
    "\n",
    "\n",
    "# Also take the iterable object and unwrap it and add their elements in the original set.\n",
    "s1.update([100,200,300])\n",
    "print(s1)\n",
    "\n",
    "s1.update(('hello',))\n",
    "print(s1)\n",
    "\n",
    "# Only add the key not add the their value\n",
    "# bczWhen a dictionary is passed as the argument, only its keys are considered because dictionaries themselves are iterable over their keys by default.\n",
    "s1.update({'a':'b'})\n",
    "print(s1)\n",
    "\n",
    "s1.update(\"hello\")\n",
    "print(s1)\n"
   ]
  },
  {
   "cell_type": "code",
   "execution_count": 76,
   "id": "dfe2d17f",
   "metadata": {},
   "outputs": [
    {
     "name": "stdout",
     "output_type": "stream",
     "text": [
      "---------------intersection_update method-------------------\n",
      "{40}\n",
      "{40, 10}\n",
      "{90}\n",
      "{'hello'}\n",
      "set()\n"
     ]
    }
   ],
   "source": [
    "print('---------------intersection_update method-------------------')\n",
    "# Update the original set with elements that are only comman in the set and iterable object which is passed as an argument.\n",
    "s1 = {10,20,30,40}\n",
    "s2 = {40,50,60,70}\n",
    "s1.intersection_update(s2)\n",
    "print(s1)\n",
    "\n",
    "\n",
    "s1 = {40,'hello',10}\n",
    "s1.intersection_update([10,20,30,40])\n",
    "print(s1)\n",
    "\n",
    "\n",
    "s1 = {90,100}\n",
    "s1.intersection_update({90:100,10:100})\n",
    "print(s1)\n",
    "\n",
    "s1 = {'hello'}\n",
    "print(s1)\n",
    "s1.intersection_update('World')\n",
    "print(s1)"
   ]
  },
  {
   "cell_type": "code",
   "execution_count": 73,
   "id": "5741519d",
   "metadata": {},
   "outputs": [
    {
     "name": "stdout",
     "output_type": "stream",
     "text": [
      "{True, (1+1j), 90, 10, (10, 20, 30)}\n",
      "<class 'set'>\n"
     ]
    }
   ],
   "source": [
    "# s1 = {1+1j,True,90,10,[10,20,30]}\n",
    "# print(s1)\n",
    "\n",
    "'''\n",
    "---------------------------------------------------------------------------\n",
    "TypeError                                 Traceback (most recent call last)\n",
    "Cell In[71], line 1\n",
    "----> 1 s1 = {1+1j,True,90,10,[10,20,30]}\n",
    "      2 print(s1)\n",
    "\n",
    "TypeError: unhashable type: 'list'\n",
    "'''\n",
    "\n",
    "\n",
    "# The error TypeError: unhashable type: 'list' occurs because sets in Python require their elements to be hashable, and lists are not hashable.\n",
    "\n",
    "# Why are lists not hashable?\n",
    "# A hashable object has a fixed hash value for its lifetime, meaning it can be used as a key in dictionaries or as an element in sets.\n",
    "# Lists are mutable (their contents can change), which makes their hash value unreliable, so they cannot be added to sets.\n",
    "# Code Breakdown:\n",
    "# s1 = {1+1j, True, 90, 10, [10, 20, 30]}\n",
    "# print(s1)\n",
    "# The set contains a list [10, 20, 30], which is not hashable, so the code throws an error.\n",
    "\n",
    "\n",
    "'''\n",
    "To correct this we can use tuple inside the set as the tuple are immutable which means it can't be changed and their value remains unchanged.\n",
    "So it can be use as key in the set as does not support the duplicate elements.\n",
    "\n",
    "\n",
    "\n",
    "********Conclusion only immutable objects are stored inside the set*******\n",
    "'''\n",
    "\n",
    "s1 = {1+1j,True,90,10,(10,20,30)}\n",
    "print(s1)\n",
    "print(type(s1))"
   ]
  },
  {
   "cell_type": "code",
   "execution_count": 81,
   "id": "fe34b981",
   "metadata": {},
   "outputs": [
    {
     "name": "stdout",
     "output_type": "stream",
     "text": [
      "---------------difference method-------------------\n",
      "{10, 20, 30}\n",
      "{10, 20}\n",
      "{'hello', 'world'}\n",
      "{40, 20}\n"
     ]
    }
   ],
   "source": [
    "print('---------------difference method-------------------')\n",
    "# Return new set with elements that are only present in the original set with method is called.\n",
    "# Here 40,50 are present in both the set from the original set so it will not be in the new set.\n",
    "s1 = {10,20,30,40,50}\n",
    "s2 = {40,50,60,70,80}\n",
    "s3 = s1.difference(s2)\n",
    "print(s3)\n",
    "\n",
    "# list as iterable object\n",
    "s1 = {10,20,30}\n",
    "print(s1.difference([30,40,50]))\n",
    "\n",
    "\n",
    "# tuple as iterable object\n",
    "s1 = {'hello',10,'world'}\n",
    "print(s1.difference((10,)))\n",
    "\n",
    "\n",
    "# Dictionary as iterable object\n",
    "s1 = {10,20,40}\n",
    "print(s1.difference({10:100}))"
   ]
  },
  {
   "cell_type": "code",
   "execution_count": 87,
   "id": "5eda22dc",
   "metadata": {},
   "outputs": [
    {
     "name": "stdout",
     "output_type": "stream",
     "text": [
      "-------------difference_update--------------\n",
      "{20, 10}\n"
     ]
    }
   ],
   "source": [
    "print('-------------difference_update method --------------')\n",
    "# Update the set with which the method is called with element that only present in the original set with the method is called.\n",
    "\n",
    "s1 = {10,20,30,40}\n",
    "s2 = {30,40,50,60}\n",
    "s1.difference_update(s2)\n",
    "print(s1)"
   ]
  },
  {
   "cell_type": "code",
   "execution_count": 89,
   "id": "db8d7413",
   "metadata": {},
   "outputs": [
    {
     "name": "stdout",
     "output_type": "stream",
     "text": [
      "------------------isdisjoint method ---------------------\n",
      "False\n"
     ]
    }
   ],
   "source": [
    "print('------------------isdisjoint method ---------------------')\n",
    "# Return true if there is no comman element between the set and the iterable object.\n",
    "s1 = {10,20,30}\n",
    "s2 = {30,40,50}\n",
    "print(s1.isdisjoint(s2))"
   ]
  },
  {
   "cell_type": "code",
   "execution_count": 90,
   "id": "576ddc4b",
   "metadata": {},
   "outputs": [
    {
     "name": "stdout",
     "output_type": "stream",
     "text": [
      "----------------------symmetric_difference-----------------\n",
      "{10, 50, 20, 60}\n"
     ]
    }
   ],
   "source": [
    "print('----------------------symmetric_difference-----------------')\n",
    "# Return the new set with non commnon elements from both the sets.\n",
    "s1 = {10,20,30,40}\n",
    "s2 = {30,40,50,60}\n",
    "print(s1.symmetric_difference(s2))\n"
   ]
  },
  {
   "cell_type": "code",
   "execution_count": 96,
   "id": "9a263efb",
   "metadata": {},
   "outputs": [
    {
     "name": "stdout",
     "output_type": "stream",
     "text": [
      "----------------------issubset-----------------\n",
      "True\n",
      "False\n"
     ]
    }
   ],
   "source": [
    "print('----------------------issubset-----------------')\n",
    "# # issubset method is used to check if either one of the item or more items of the original set are present in the particular set.\n",
    "# It returns True if all the items are present else it will return false.\n",
    "# A set 𝐴 A is a subset of set 𝐵 B if every element of 𝐴 A is also an element of 𝐵 B\n",
    "s1 = {10,20,30,40}\n",
    "s2 = {20,30,40}\n",
    "\n",
    "# checking whether s2 is the subset of s1 or not.\n",
    "print(s2.issubset(s1))\n",
    "\n",
    "s1 = {10,20,30,40}\n",
    "print(s1.issubset([10,20,30]))"
   ]
  },
  {
   "cell_type": "code",
   "execution_count": 97,
   "id": "439d88ea",
   "metadata": {},
   "outputs": [
    {
     "name": "stdout",
     "output_type": "stream",
     "text": [
      "----------------------issuperset-----------------\n",
      "True\n"
     ]
    }
   ],
   "source": [
    "print('----------------------issuperset-----------------')\n",
    "# # issuperset method is used to check if all the items of a particular set are present in the original set. \n",
    "# It returns True if all the items are present else it will return false.\n",
    "# A superset is the opposite of a subset. \n",
    "# A set 𝐴A is a superset of another set 𝐵 B if all elements of 𝐵 B are also elements of 𝐴 A.\n",
    "s1 = {10,20,30,40}\n",
    "s2 = {10,20,30}\n",
    "print(s1.issuperset(s2))"
   ]
  },
  {
   "cell_type": "code",
   "execution_count": 103,
   "id": "623c2084",
   "metadata": {},
   "outputs": [
    {
     "name": "stdout",
     "output_type": "stream",
     "text": [
      "--------------------add method----------------------\n",
      "{100, 40, 10, 20, 30}\n"
     ]
    }
   ],
   "source": [
    "print('--------------------add method----------------------')\n",
    "# It is used to add the element in the set.\n",
    "s1 = {10,20,30,40}\n",
    "s1.add(100)\n",
    "print(s1)"
   ]
  },
  {
   "cell_type": "code",
   "execution_count": 104,
   "id": "30c58515",
   "metadata": {},
   "outputs": [
    {
     "name": "stdout",
     "output_type": "stream",
     "text": [
      "--------------------remove method----------------------\n",
      "{20, 40, 10, 30}\n"
     ]
    }
   ],
   "source": [
    "print('--------------------remove method----------------------')\n",
    "# It used to delete the element from the set.\n",
    "# if the element is not present then it will raise an error.\n",
    "s1 = {10,20,30,40,100}\n",
    "s1.remove(100)\n",
    "print(s1)\n"
   ]
  },
  {
   "cell_type": "code",
   "execution_count": 109,
   "id": "ba19257f",
   "metadata": {},
   "outputs": [
    {
     "name": "stdout",
     "output_type": "stream",
     "text": [
      "-----------------------pop method------------------------\n",
      "100\n",
      "20\n"
     ]
    }
   ],
   "source": [
    "print('-----------------------pop method------------------------')\n",
    "# It used to delete the last element from the set.\n",
    "# But the catch is that we don't which is the last element in the set.\n",
    "\n",
    "s1 = {10,20,30,40,100}\n",
    "print(s1.pop())\n",
    "\n",
    "print(s1.pop())"
   ]
  },
  {
   "cell_type": "code",
   "execution_count": 111,
   "id": "35e29202",
   "metadata": {},
   "outputs": [
    {
     "name": "stdout",
     "output_type": "stream",
     "text": [
      "-----------------------discard method---------------------\n",
      "None\n"
     ]
    }
   ],
   "source": [
    "print('-----------------------discard method---------------------')\n",
    "# It is used to remove the element from the set \n",
    "# if the element is not present then it will not raise an error else return none.\n",
    "\n",
    "s1 = {10,20,30,40,50,True}\n",
    "print(s1.discard('hello'))"
   ]
  },
  {
   "cell_type": "code",
   "execution_count": 113,
   "id": "887881cd",
   "metadata": {},
   "outputs": [
    {
     "name": "stdout",
     "output_type": "stream",
     "text": [
      "---------------------clear method--------------------\n",
      "set()\n"
     ]
    }
   ],
   "source": [
    "print(\"---------------------clear method--------------------\")\n",
    "# It is used to delete all the elements of the set.\n",
    "s1 = {10,20,30}\n",
    "(s1.clear())\n",
    "print(s1)"
   ]
  },
  {
   "cell_type": "code",
   "execution_count": 114,
   "id": "c138296b",
   "metadata": {},
   "outputs": [
    {
     "name": "stdout",
     "output_type": "stream",
     "text": [
      "-----------------del keyword----------------------\n",
      "Now the set s1 is deleted\n"
     ]
    }
   ],
   "source": [
    "print('-----------------del keyword----------------------')\n",
    "# It is used to delete the set object not its element.\n",
    "s1 = {10,20,30}\n",
    "del s1\n",
    "print(\"Now the set s1 is deleted\")\n"
   ]
  },
  {
   "cell_type": "code",
   "execution_count": 117,
   "id": "4e64fb93",
   "metadata": {},
   "outputs": [
    {
     "name": "stdout",
     "output_type": "stream",
     "text": [
      "Enter the numbers10 20 30\n",
      "{'3', ' ', '1', '2', '0'}\n"
     ]
    }
   ],
   "source": [
    "# set(...) converts the input string into a set. When you convert a string into a set, it treats each character in the string as an individual element of the set.\n",
    "# This means that each character in the input will become an element in the set, and duplicates will be automatically removed.\n",
    "\n",
    "s1 = set(input(\"Enter the numbers\"))\n",
    "print(s1)"
   ]
  },
  {
   "cell_type": "markdown",
   "id": "46476d78",
   "metadata": {},
   "source": [
    "# Dictionary "
   ]
  },
  {
   "cell_type": "code",
   "execution_count": 118,
   "id": "44cdbc6f",
   "metadata": {},
   "outputs": [
    {
     "name": "stdout",
     "output_type": "stream",
     "text": [
      "{10: 100, 20: 200}\n",
      "<class 'dict'>\n"
     ]
    }
   ],
   "source": [
    "# Dictionary is collection of data in the form key:value pair where key will be always unqiue while values can be duplicate.\n",
    "# The key and value is separated by :\n",
    "# Dictionary is ordered and mutable\n",
    "# Dictionary is created using {} brackets.\n",
    "\n",
    "d1 = {10:100,20:200}\n",
    "print(d1)\n",
    "print(type(d1))"
   ]
  },
  {
   "cell_type": "code",
   "execution_count": 120,
   "id": "6c19f38a",
   "metadata": {},
   "outputs": [
    {
     "name": "stdout",
     "output_type": "stream",
     "text": [
      "{'name': 'john', 'age': 15} <class 'dict'>\n",
      "john\n"
     ]
    }
   ],
   "source": [
    "# We can get the values of the dictionary using their key.\n",
    "# Syntax:\n",
    "# dictionary_name[key_name]\n",
    "\n",
    "d1 = {'name':'john','age':15}\n",
    "print(d1,type(d1))\n",
    "print(d1['name'])"
   ]
  },
  {
   "cell_type": "code",
   "execution_count": 121,
   "id": "8a75b432",
   "metadata": {},
   "outputs": [
    {
     "name": "stdout",
     "output_type": "stream",
     "text": [
      "dict_keys(['name', 'age'])\n"
     ]
    }
   ],
   "source": [
    "# We can get all the keys of the dictionary using keys() method\n",
    "d1 = {'name':'john','age':15}\n",
    "print(d1.keys())"
   ]
  },
  {
   "cell_type": "code",
   "execution_count": 122,
   "id": "03c69f2a",
   "metadata": {},
   "outputs": [
    {
     "name": "stdout",
     "output_type": "stream",
     "text": [
      "dict_values(['john', 15])\n"
     ]
    }
   ],
   "source": [
    "# We can get all the values of the keys in the dictionary using () method.\n",
    "d1 = {'name':'john','age':15}\n",
    "print(d1.values())\n"
   ]
  },
  {
   "cell_type": "code",
   "execution_count": 125,
   "id": "97862369",
   "metadata": {},
   "outputs": [
    {
     "name": "stdout",
     "output_type": "stream",
     "text": [
      "dict_items([('name', 'john'), ('age', 15)])\n"
     ]
    }
   ],
   "source": [
    "# We can get all the key value pair of the dictionary as a list item using items() method\n",
    "d1 = {'name':'john','age':15}\n",
    "print(d1.items())"
   ]
  },
  {
   "cell_type": "code",
   "execution_count": 126,
   "id": "560676ca",
   "metadata": {},
   "outputs": [
    {
     "name": "stdout",
     "output_type": "stream",
     "text": [
      "{'name': 'john', 'age': 15, 'country': 'London'}\n"
     ]
    }
   ],
   "source": [
    "# we can new key value pair in the dictionary using dictionary_name['key_name'] = value\n",
    "# if the particular key is already present in the dictionary old key value is replaced with the new key value.\n",
    "d1 = {'name':'john','age':15}\n",
    "d1['country'] = 'London'\n",
    "print(d1)"
   ]
  },
  {
   "cell_type": "markdown",
   "id": "b9da97af",
   "metadata": {},
   "source": [
    "# Dictionary Methods"
   ]
  },
  {
   "cell_type": "code",
   "execution_count": 131,
   "id": "95e0d955",
   "metadata": {},
   "outputs": [
    {
     "name": "stdout",
     "output_type": "stream",
     "text": [
      "--------------------------get method-------------------------\n",
      "GOGO\n",
      "None\n"
     ]
    }
   ],
   "source": [
    "print('--------------------------get method-------------------------')\n",
    "# we can get the values of the key using dictionary_name['key_name'] = value\n",
    "# but the we trying to access the key that is not present in the dictionary then it will raise an error keyError.\n",
    "\n",
    "\n",
    "# error as the key age is not present.\n",
    "# d1 = {'name':\"GOGO\",'Role':\"SDE\",'country':'London'}\n",
    "# print(d1['age'])\n",
    "\n",
    "# But if we use the get method and the key is not present then it will return none.\n",
    "d1 = {'name':\"GOGO\",'Role':\"SDE\",'country':'London'}\n",
    "print(d1.get('name'))\n",
    "print(d1.get('age'))\n"
   ]
  },
  {
   "cell_type": "code",
   "execution_count": 134,
   "id": "cccc96b3",
   "metadata": {},
   "outputs": [
    {
     "name": "stdout",
     "output_type": "stream",
     "text": [
      "-------------------update method---------------------\n",
      "{'name': 'GOGO', 'Role': 'SDE', 'country': 'london'}\n"
     ]
    }
   ],
   "source": [
    "print(\"-------------------update method---------------------\")\n",
    "# It used to add a key value pair in the dictionary.\n",
    "d1 = {'name':\"GOGO\",'Role':\"SDE\"}\n",
    "d1.update({'country':'london'})\n",
    "print(d1)"
   ]
  },
  {
   "cell_type": "code",
   "execution_count": 137,
   "id": "aea3d99f",
   "metadata": {},
   "outputs": [
    {
     "name": "stdout",
     "output_type": "stream",
     "text": [
      "-----------------popitem method-------------------\n",
      "{'name': 'GOGO'}\n"
     ]
    }
   ],
   "source": [
    "print('-----------------popitem method-------------------')\n",
    "# It used to remove the last key value pair from the dictionary.\n",
    "d1 = {'name':\"GOGO\",'Role':\"SDE\"}\n",
    "d1.popitem()\n",
    "print(d1)"
   ]
  },
  {
   "cell_type": "code",
   "execution_count": 139,
   "id": "13ca57be",
   "metadata": {},
   "outputs": [
    {
     "name": "stdout",
     "output_type": "stream",
     "text": [
      "-----------------pop method-------------------\n",
      "London\n",
      "{'name': 'GOGO', 'Role': 'SDE'}\n"
     ]
    }
   ],
   "source": [
    "print('-----------------pop method-------------------')\n",
    "# It used to remove the key value pair from the dictionary that is passed as an arugment in the method. \n",
    "d1 = {'name':\"GOGO\",'Role':\"SDE\",'country':'London'}\n",
    "print(d1.pop('country'))\n",
    "print(d1)"
   ]
  },
  {
   "cell_type": "code",
   "execution_count": 140,
   "id": "3919c7f2",
   "metadata": {},
   "outputs": [
    {
     "name": "stdout",
     "output_type": "stream",
     "text": [
      "---------------------clear method--------------------\n",
      "{}\n"
     ]
    }
   ],
   "source": [
    "print(\"---------------------clear method--------------------\")\n",
    "# It is used to delete all the key value pair from the dictionary.\n",
    "d1 = {'name':\"GOGO\",'Role':\"SDE\",'country':'London'}\n",
    "d1.clear()\n",
    "print(d1)"
   ]
  },
  {
   "cell_type": "code",
   "execution_count": 141,
   "id": "063d88e9",
   "metadata": {},
   "outputs": [
    {
     "name": "stdout",
     "output_type": "stream",
     "text": [
      "---------------------del keyword------------------\n"
     ]
    }
   ],
   "source": [
    "print('---------------------del keyword------------------')\n",
    "# It is used to delete the dictionary object.\n",
    "d1 = {'name':\"GOGO\",'Role':\"SDE\",'country':'London'}\n",
    "del d1"
   ]
  },
  {
   "cell_type": "code",
   "execution_count": 12,
   "id": "cd7b49ec",
   "metadata": {},
   "outputs": [],
   "source": [
    "# Key in the dictionary is always unhashable which means it can be only mutable object.\n",
    "# d1 = {[10,20,30]:10}\n",
    "# print(d1)"
   ]
  },
  {
   "cell_type": "code",
   "execution_count": 2,
   "id": "29aa2bdb",
   "metadata": {},
   "outputs": [
    {
     "name": "stdout",
     "output_type": "stream",
     "text": [
      "{(10,): 100}\n"
     ]
    }
   ],
   "source": [
    "d1 = {(10,):100}\n",
    "print(d1)"
   ]
  },
  {
   "cell_type": "code",
   "execution_count": 4,
   "id": "19179a91",
   "metadata": {},
   "outputs": [
    {
     "name": "stdout",
     "output_type": "stream",
     "text": [
      "<class 'tuple'>\n"
     ]
    }
   ],
   "source": [
    "for i in d1:\n",
    "    print(type(i))"
   ]
  },
  {
   "cell_type": "code",
   "execution_count": 10,
   "id": "0c5a02fd",
   "metadata": {},
   "outputs": [
    {
     "data": {
      "text/plain": [
       "1"
      ]
     },
     "execution_count": 10,
     "metadata": {},
     "output_type": "execute_result"
    }
   ],
   "source": [
    "len(d1)"
   ]
  },
  {
   "cell_type": "code",
   "execution_count": 11,
   "id": "976445bf",
   "metadata": {},
   "outputs": [
    {
     "name": "stdout",
     "output_type": "stream",
     "text": [
      "0\n"
     ]
    }
   ],
   "source": [
    "d1 = {'name':'gogo','role':'ASD'}\n",
    "for i in range(len(d1)):\n",
    "    print(i)"
   ]
  },
  {
   "cell_type": "code",
   "execution_count": 25,
   "id": "418daed0",
   "metadata": {},
   "outputs": [],
   "source": [
    "t1 = ((1,2,3,4),(1+1j,),(\"hello\",),[10,20,30,40])"
   ]
  },
  {
   "cell_type": "code",
   "execution_count": 27,
   "id": "042df661",
   "metadata": {},
   "outputs": [
    {
     "name": "stdout",
     "output_type": "stream",
     "text": [
      "<class 'tuple'>\n",
      "10\n"
     ]
    }
   ],
   "source": [
    "print(type(t1[2]))\n",
    "print(t1[3][0])"
   ]
  },
  {
   "cell_type": "code",
   "execution_count": 36,
   "id": "d936397c",
   "metadata": {},
   "outputs": [
    {
     "name": "stdout",
     "output_type": "stream",
     "text": [
      "[10, 20, 30, 10, 10, 10, 100]\n"
     ]
    }
   ],
   "source": [
    "l1 = [10,20,30,10,10,10,100]\n",
    "print(l1)"
   ]
  },
  {
   "cell_type": "code",
   "execution_count": 37,
   "id": "e68eb6f6",
   "metadata": {},
   "outputs": [],
   "source": [
    "for i in l1:\n",
    "    if 10 in l1:\n",
    "        l1.remove(10)"
   ]
  },
  {
   "cell_type": "code",
   "execution_count": 38,
   "id": "a4ea4ce1",
   "metadata": {},
   "outputs": [
    {
     "name": "stdout",
     "output_type": "stream",
     "text": [
      "[20, 30, 100]\n"
     ]
    }
   ],
   "source": [
    "print(l1)"
   ]
  },
  {
   "cell_type": "code",
   "execution_count": 54,
   "id": "aa8f94ec",
   "metadata": {},
   "outputs": [
    {
     "ename": "IndexError",
     "evalue": "list index out of range",
     "output_type": "error",
     "traceback": [
      "\u001b[1;31m---------------------------------------------------------------------------\u001b[0m",
      "\u001b[1;31mIndexError\u001b[0m                                Traceback (most recent call last)",
      "Cell \u001b[1;32mIn[54], line 4\u001b[0m\n\u001b[0;32m      2\u001b[0m \u001b[38;5;28;01mfor\u001b[39;00m i \u001b[38;5;129;01min\u001b[39;00m l1:\n\u001b[0;32m      3\u001b[0m     \u001b[38;5;28;01mfor\u001b[39;00m j \u001b[38;5;129;01min\u001b[39;00m \u001b[38;5;28mrange\u001b[39m(\u001b[38;5;28mlen\u001b[39m(i)):\n\u001b[1;32m----> 4\u001b[0m         \u001b[38;5;28;01mif\u001b[39;00m \u001b[38;5;28mtype\u001b[39m(i[j]) \u001b[38;5;241m==\u001b[39m \u001b[38;5;28mstr\u001b[39m:\n\u001b[0;32m      5\u001b[0m             i\u001b[38;5;241m.\u001b[39mremove(i[j])\n",
      "\u001b[1;31mIndexError\u001b[0m: list index out of range"
     ]
    }
   ],
   "source": [
    "l1 = [[10,20,30],[40,50],[90,100],[1,'b','b','b']]\n",
    "for i in l1:\n",
    "    for j in range(len(i)):\n",
    "        if type(i[j]) == str:\n",
    "            i.remove(i[j])\n",
    "            "
   ]
  },
  {
   "cell_type": "code",
   "execution_count": 57,
   "id": "dc9b3041",
   "metadata": {},
   "outputs": [
    {
     "name": "stdout",
     "output_type": "stream",
     "text": [
      "[[10, 20, 30], [40, 50], [90, 100], [1]]\n",
      "[1]\n"
     ]
    }
   ],
   "source": [
    "l1 = [[10, 20, 30], [40, 50], [90, 100], [1, 'b', 'b', 'b']]\n",
    "for i in l1:\n",
    "    i[:] = [x for x in i if not isinstance(x, str)]  # Reassign sublist with non-string elements\n",
    "# here the changes is done in the list l1 bcz i is references to the memory location of the original list l1.\n",
    "print(l1)\n"
   ]
  },
  {
   "cell_type": "code",
   "execution_count": 64,
   "id": "1488de77",
   "metadata": {},
   "outputs": [
    {
     "name": "stdout",
     "output_type": "stream",
     "text": [
      "{'name': 'gogo', 'role': 'sde'}\n",
      "<class 'dict'>\n"
     ]
    }
   ],
   "source": [
    "d1 = dict({'name':\"gogo\",\"role\":'sde'})\n",
    "print(d1)\n",
    "print(type(d1))"
   ]
  },
  {
   "cell_type": "code",
   "execution_count": 69,
   "id": "d866981c",
   "metadata": {},
   "outputs": [
    {
     "name": "stdout",
     "output_type": "stream",
     "text": [
      "{'name': 'gogo', 'role': 'sde'}\n",
      "<class 'dict'>\n"
     ]
    }
   ],
   "source": [
    "'''\n",
    "Using dict() with Keyword Arguments:\n",
    "\n",
    "The dict() function allows a concise and readable way to create dictionaries when keys are valid Python identifiers (e.g., no spaces or special characters in the keys).\n",
    "This approach avoids the need to use explicit curly braces {} and quotes for the keys.\n",
    "'''\n",
    "d1 = dict(name='gogo',role='sde')\n",
    "print(d1)\n",
    "print(type(d1))"
   ]
  },
  {
   "cell_type": "code",
   "execution_count": 71,
   "id": "d3f065a3",
   "metadata": {},
   "outputs": [
    {
     "name": "stdout",
     "output_type": "stream",
     "text": [
      "{10: 20, 30: 40}\n",
      "<class 'dict'>\n"
     ]
    }
   ],
   "source": [
    "''' \n",
    "Iterable of Key-Value Pairs:\n",
    "You can pass an iterable (e.g., list, tuple) where each element is another iterable with exactly two items (key-value pairs).\n",
    "Common use cases include lists of tuples or lists of lists.\n",
    "'''\n",
    "\n",
    "d1 = dict([[10,20],[30,40]])\n",
    "print(d1)\n",
    "print(type(d1))"
   ]
  },
  {
   "cell_type": "code",
   "execution_count": 74,
   "id": "1b345f35",
   "metadata": {},
   "outputs": [
    {
     "name": "stdout",
     "output_type": "stream",
     "text": [
      "<zip object at 0x00000291884EB2C0>\n",
      "<class 'type'>\n",
      "{'name': 'gogo', 'role': 'sde'}\n"
     ]
    }
   ],
   "source": [
    "# Zip Object:\n",
    "# You can use zip() to combine two iterables (e.g., keys and values) into a dictionary.\n",
    "l1 = ['name','role']\n",
    "l2 = ['gogo','sde']\n",
    "res = zip(l1,l2)\n",
    "print(res)\n",
    "print(type(zip))\n",
    "d1 = dict(zip(l1,l2))\n",
    "print(d1)"
   ]
  },
  {
   "cell_type": "code",
   "execution_count": 10,
   "id": "55cc043a",
   "metadata": {},
   "outputs": [
    {
     "name": "stdout",
     "output_type": "stream",
     "text": [
      "{'name': {'k1': 'wer', 'k4': [345, 534535]}, 'age': 3455, True: {54, 34545, 45, 454}, 'key': False, '34554': (45, 45, 5, 45), '__sfsdf': [34, 45, 454, 54, 545]}\n"
     ]
    }
   ],
   "source": [
    "d1 = {'name':{'k1':'wer','k4':[345,534535]},'age':3455,True:{45,54,454,34545},'key':False,'34554':(45,45,5,45),\n",
    "    '__sfsdf':[34,45,454,54,545]}\n",
    "print(d1)"
   ]
  },
  {
   "cell_type": "code",
   "execution_count": 11,
   "id": "e3ab7b0c",
   "metadata": {},
   "outputs": [
    {
     "data": {
      "text/plain": [
       "{'k1': 'wer', 'k4': [345, 534535]}"
      ]
     },
     "execution_count": 11,
     "metadata": {},
     "output_type": "execute_result"
    }
   ],
   "source": [
    "d1['name']"
   ]
  },
  {
   "cell_type": "code",
   "execution_count": 12,
   "id": "9557d41d",
   "metadata": {},
   "outputs": [
    {
     "data": {
      "text/plain": [
       "'wer'"
      ]
     },
     "execution_count": 12,
     "metadata": {},
     "output_type": "execute_result"
    }
   ],
   "source": [
    "d1['name']['k1']"
   ]
  },
  {
   "cell_type": "code",
   "execution_count": 13,
   "id": "c94d102d",
   "metadata": {},
   "outputs": [
    {
     "data": {
      "text/plain": [
       "{'k1': 'wer', 'k4': [345, 534535]}"
      ]
     },
     "execution_count": 13,
     "metadata": {},
     "output_type": "execute_result"
    }
   ],
   "source": [
    "d1.get('name')"
   ]
  },
  {
   "cell_type": "code",
   "execution_count": 14,
   "id": "f8004b2a",
   "metadata": {},
   "outputs": [
    {
     "data": {
      "text/plain": [
       "'wer'"
      ]
     },
     "execution_count": 14,
     "metadata": {},
     "output_type": "execute_result"
    }
   ],
   "source": [
    "d1.get('name').get('k1')"
   ]
  },
  {
   "cell_type": "code",
   "execution_count": 15,
   "id": "a237d55b",
   "metadata": {},
   "outputs": [
    {
     "data": {
      "text/plain": [
       "5"
      ]
     },
     "execution_count": 15,
     "metadata": {},
     "output_type": "execute_result"
    }
   ],
   "source": [
    "d1.get('34554')[2]"
   ]
  },
  {
   "cell_type": "code",
   "execution_count": 16,
   "id": "959f22a1",
   "metadata": {},
   "outputs": [
    {
     "data": {
      "text/plain": [
       "345"
      ]
     },
     "execution_count": 16,
     "metadata": {},
     "output_type": "execute_result"
    }
   ],
   "source": [
    "d1.get('name').get('k4')[0]"
   ]
  },
  {
   "cell_type": "code",
   "execution_count": 18,
   "id": "38d91551",
   "metadata": {},
   "outputs": [
    {
     "data": {
      "text/plain": [
       "True"
      ]
     },
     "execution_count": 18,
     "metadata": {},
     "output_type": "execute_result"
    }
   ],
   "source": [
    "'name' in d1"
   ]
  },
  {
   "cell_type": "code",
   "execution_count": 19,
   "id": "2bdba556",
   "metadata": {},
   "outputs": [
    {
     "data": {
      "text/plain": [
       "False"
      ]
     },
     "execution_count": 19,
     "metadata": {},
     "output_type": "execute_result"
    }
   ],
   "source": [
    "3455 in d1"
   ]
  },
  {
   "cell_type": "code",
   "execution_count": 24,
   "id": "4c446625",
   "metadata": {},
   "outputs": [
    {
     "name": "stdout",
     "output_type": "stream",
     "text": [
      "10\n",
      "['1', '0']\n",
      "10\n",
      "['10']\n"
     ]
    }
   ],
   "source": [
    "# All the function like list(),set(),dict(),tuple() all recieve the iterable objects.\n",
    "l1 = list(input())\n",
    "print(l1)\n",
    "\n",
    "# Unwrap the data of the iterable object and store in the list.\n",
    "l1 = list(input().split())\n",
    "print(l1)\n"
   ]
  },
  {
   "cell_type": "code",
   "execution_count": 28,
   "id": "cce4f676",
   "metadata": {},
   "outputs": [
    {
     "name": "stdout",
     "output_type": "stream",
     "text": [
      "(10, 30, 40)\n",
      "(10, 20, 30)\n",
      "('name', 'country')\n"
     ]
    }
   ],
   "source": [
    "t1 = tuple([10,30,40])\n",
    "print(t1)\n",
    "\n",
    "t1 = tuple({10,20,30})\n",
    "print(t1)\n",
    "\n",
    "# Dictionary is iterable through the keys so keys will be stored in the tuple.\n",
    "t1 = tuple({'name':'gogo','country':'london'})\n",
    "print(t1)"
   ]
  },
  {
   "cell_type": "code",
   "execution_count": 35,
   "id": "06dbac92",
   "metadata": {},
   "outputs": [
    {
     "name": "stdout",
     "output_type": "stream",
     "text": [
      "{10, 20, 30}\n",
      "{10, 20, 30}\n",
      "{'country', 'name'}\n",
      "{(10, 20, 30)}\n"
     ]
    }
   ],
   "source": [
    "s1 =set([10,20,30])\n",
    "print(s1)\n",
    "\n",
    "s1 = set((10,20,30))\n",
    "print(s1)\n",
    "\n",
    "s1 = set({'name':'gogo','country':'london'})\n",
    "print(s1)\n",
    "\n",
    "# Set can't store the list directly bcz it is the hashable object which means that it can be changed. \n",
    "# s1 = {[10,20,30]}\n",
    "# print(s1)\n",
    "\n",
    "# it can store unhashable object like tuple,string,int,float etc.\n",
    "s1 = {(10,20,30)}\n",
    "print(s1)"
   ]
  },
  {
   "cell_type": "code",
   "execution_count": 47,
   "id": "e827eb51",
   "metadata": {},
   "outputs": [
    {
     "name": "stdout",
     "output_type": "stream",
     "text": [
      "{(10, 20): 10}\n",
      "<class 'dict'>\n",
      "{(10,): 100}\n",
      "<class 'dict'>\n"
     ]
    }
   ],
   "source": [
    "# dictionary so can't store the hashables object as a key.\n",
    "# d1 = {[10,20]:10}\n",
    "# print(d1)\n",
    "\n",
    "# hashable object are the objects which can be changed once created.\n",
    "\n",
    "# d1 = {{10,20}:10}\n",
    "# print(d1)\n",
    "\n",
    "d1 = {(10,20):10}\n",
    "print(d1)\n",
    "print(type(d1))\n",
    "\n",
    "d1 = {(10,):100}\n",
    "print(d1)\n",
    "print(type(d1))"
   ]
  },
  {
   "cell_type": "code",
   "execution_count": 49,
   "id": "ec73ae51",
   "metadata": {},
   "outputs": [
    {
     "name": "stdout",
     "output_type": "stream",
     "text": [
      "Enter a parathis is is sis is sis a para\n",
      "['this', 'is', 'is', 'sis', 'is', 'sis', 'a', 'para']\n"
     ]
    }
   ],
   "source": [
    "res = input(\"Enter a para\").split(\" \")\n",
    "print(res)"
   ]
  },
  {
   "cell_type": "code",
   "execution_count": 50,
   "id": "abc89759",
   "metadata": {},
   "outputs": [
    {
     "name": "stdout",
     "output_type": "stream",
     "text": [
      "{'is', 'a', 'sis', 'this', 'para'}\n"
     ]
    }
   ],
   "source": [
    "s1 = set(res)\n",
    "print(s1)"
   ]
  },
  {
   "cell_type": "code",
   "execution_count": 51,
   "id": "a1df3d84",
   "metadata": {},
   "outputs": [
    {
     "name": "stdout",
     "output_type": "stream",
     "text": [
      "{'is': 'gogo', 'a': 'gogo', 'sis': 'gogo', 'this': 'gogo', 'para': 'gogo'}\n"
     ]
    }
   ],
   "source": [
    "d1 = dict()\n",
    "for i in s1:\n",
    "    d1[i] = 'gogo'\n",
    "print(d1)"
   ]
  },
  {
   "cell_type": "code",
   "execution_count": 53,
   "id": "210bf288",
   "metadata": {},
   "outputs": [
    {
     "name": "stdout",
     "output_type": "stream",
     "text": [
      "('gogo', 'gogo', 'gogo', 'gogo', 'gogo')\n"
     ]
    }
   ],
   "source": [
    "l1 = list()\n",
    "for i in d1:\n",
    "    l1.append(d1[i])\n",
    "print(tuple(l1))"
   ]
  },
  {
   "cell_type": "code",
   "execution_count": 54,
   "id": "a163aec6",
   "metadata": {},
   "outputs": [
    {
     "name": "stdout",
     "output_type": "stream",
     "text": [
      "{1: 1, 2: 4, 3: 9, 4: 16, 5: 25, 6: 36, 7: 49, 8: 64, 9: 81, 10: 100}\n"
     ]
    }
   ],
   "source": [
    "d1 = {}\n",
    "for i in range(1,11):\n",
    "    d1[i] = i * i\n",
    "print(d1)"
   ]
  },
  {
   "cell_type": "markdown",
   "id": "c45030bb",
   "metadata": {},
   "source": [
    "# Dictionary Comprehension"
   ]
  },
  {
   "cell_type": "code",
   "execution_count": 72,
   "id": "b95dcbf9",
   "metadata": {},
   "outputs": [
    {
     "name": "stdout",
     "output_type": "stream",
     "text": [
      "{1: 1, 2: 4, 3: 9, 4: 16, 5: 25, 6: 36, 7: 49, 8: 64, 9: 81, 10: 100}\n"
     ]
    }
   ],
   "source": [
    "'''\n",
    "Dictionary Comprehension in Python\n",
    "Dictionary comprehension is a concise and efficient way to create dictionaries in Python. \n",
    "It allows you to generate a dictionary by iterating over an iterable and applying a condition or transformation, all in a single line.\n",
    "\n",
    "Syntax:\n",
    "{key_expression: value_expression for item in iterable if condition}\n",
    "\n",
    "key_expression: Expression that generates the key for each item.\n",
    "\n",
    "value_expression: Expression that generates the value for each item.\n",
    "\n",
    "iterable: Any iterable (e.g., list, range, string, etc.) that you loop through.\n",
    "\n",
    "condition (optional): A condition to filter which items to include in the dictionary.\n",
    "\n",
    "'''\n",
    "\n",
    "d1 = {i:i*i for i in range(1,11)}\n",
    "print(d1)"
   ]
  },
  {
   "cell_type": "code",
   "execution_count": 73,
   "id": "ca078823",
   "metadata": {},
   "outputs": [
    {
     "name": "stdout",
     "output_type": "stream",
     "text": [
      "{2: 4, 4: 16, 6: 36, 8: 64, 10: 100}\n"
     ]
    }
   ],
   "source": [
    "d1 = {i:i*i for i in range(1,11) if i%2==0}\n",
    "print(d1)"
   ]
  },
  {
   "cell_type": "code",
   "execution_count": null,
   "id": "321f12e3",
   "metadata": {},
   "outputs": [],
   "source": []
  }
 ],
 "metadata": {
  "kernelspec": {
   "display_name": "Python 3 (ipykernel)",
   "language": "python",
   "name": "python3"
  },
  "language_info": {
   "codemirror_mode": {
    "name": "ipython",
    "version": 3
   },
   "file_extension": ".py",
   "mimetype": "text/x-python",
   "name": "python",
   "nbconvert_exporter": "python",
   "pygments_lexer": "ipython3",
   "version": "3.11.5"
  }
 },
 "nbformat": 4,
 "nbformat_minor": 5
}
