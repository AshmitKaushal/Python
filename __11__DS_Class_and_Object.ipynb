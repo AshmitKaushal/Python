{
 "cells": [
  {
   "cell_type": "markdown",
   "id": "bbc3fe9c",
   "metadata": {},
   "source": [
    "# Introduction"
   ]
  },
  {
   "cell_type": "code",
   "execution_count": 2,
   "id": "a9a147c1",
   "metadata": {},
   "outputs": [
    {
     "name": "stdout",
     "output_type": "stream",
     "text": [
      "\n"
     ]
    }
   ],
   "source": [
    "'''Introduction to Object-Oriented Programming in Python: \n",
    "In programming languages, mainly there are two approaches that are used to write program or code.\n",
    "\n",
    "1). Procedural Programming\n",
    "2). Object-Oriented Programming\n",
    "The procedure we are following till now is the “Procedural Programming” approach. \n",
    "So, in this session, we will learn about Object Oriented Programming (OOP). \n",
    "The basic idea of object-oriented programming (OOP) in Python is to use classes and objects to represent real-world concepts and entities.\n",
    "\n",
    "# class\n",
    "A class is a blueprint or template for creating objects.\n",
    "It defines the properties and methods that an object of that class will have. \n",
    "Properties are the data or state of an object, and methods are the actions or behaviors that an object can perform.\n",
    "\n",
    "# Object\n",
    "An object is an instance of a class, and it contains its own data and methods. \n",
    "For example, you could create a class called \"Person\" that has properties such as name and age, \n",
    "and methods such as speak() and walk(). \n",
    "Each instance of the Person class would be a unique object with its own name and age, but they would all have the same methods to speak and walk.\n",
    "\n",
    "\n",
    "# Encapsulation\n",
    "One of the key features of OOP in Python is encapsulation, \n",
    "which means that the internal state of an object is hidden and \n",
    "can only be accessed or modified through the object's methods. This helps to protect the object's data \n",
    "and prevent it from being modified in unexpected ways.\n",
    "\n",
    "# Inheritance\n",
    "Another key feature of OOP in Python is inheritance,\n",
    "which allows new classes to be created that inherit the properties and methods of an existing class. \n",
    "This allows for code reuse and makes it easy to create new classes that have similar functionality to existing classes.\n",
    "\n",
    "# Polymorphism\n",
    "Polymorphism is also supported in Python, \n",
    "which means that objects of different classes can be treated as if they were objects of a common class. \n",
    "This allows for greater flexibility in code and makes it easier to write code that can work with multiple types of objects.\n",
    "\n",
    "\n",
    "In summary, OOP in Python allows developers to model real-world concepts and entities using classes and objects, \n",
    "encapsulate data, reuse code through inheritance, and write more flexible code through polymorphism.\n",
    "\n",
    "Object-Oriented Programming is a methodology or paradigm to design a program using classes and objects. \n",
    "It simplifies the software development and maintenance by providing some concepts defined above : \n",
    "\n",
    "\n",
    "'''\n",
    "'''\n",
    "what is object oriented programming in python\n",
    "\n",
    "\n",
    "Object-oriented programming (OOP) is a programming paradigm that organizes code around objects and data rather than actions and logic. In Python, OOP is a fundamental concept that allows you to create classes and objects, encapsulate data and behavior, and build modular and reusable code. Here are the key components of object-oriented programming in Python:\n",
    "\n",
    "\n",
    "\n",
    "Classes:\n",
    "A class is a blueprint or template for creating objects.\n",
    "It defines properties (attributes) and behaviors (methods) that objects of the class will have.\n",
    "Classes are defined using the class keyword followed by the class name, and \n",
    "they typically have an __init__ method (constructor) for initializing object attributes.\n",
    "Example:\n",
    "python\n",
    "Copy code\n",
    "class Person:\n",
    "    def __init__(self, name, age):\n",
    "        self.name = name\n",
    "        self.age = age\n",
    "\n",
    "    def greet(self):\n",
    "        return f\"Hello, my name is {self.name} and I am {self.age} years old.\"\n",
    "\n",
    "\n",
    "\n",
    "Objects:\n",
    "An object is an instance of a class. \n",
    "It represents a specific entity with its own unique data and behavior based on the class's blueprint.\n",
    "Objects are created using the class name followed by parentheses (ClassName()). \n",
    "Each object has its own set of attributes and methods defined by the class.\n",
    "Example:\n",
    "python\n",
    "Copy code\n",
    "person1 = Person(\"Alice\", 30)\n",
    "person2 = Person(\"Bob\", 25)\n",
    "\n",
    "\n",
    "\n",
    "Attributes:\n",
    "Attributes are variables that belong to an object. They hold data associated with the object's state.\n",
    "Attributes are accessed using dot notation (object.attribute_name) and can be public, protected, or private based on naming conventions (_attribute for protected, __attribute for private).\n",
    "Example:\n",
    "python\n",
    "Copy code\n",
    "print(person1.name)  # Output: Alice\n",
    "print(person2.age)   # Output: 25\n",
    "\n",
    "\n",
    "\n",
    "\n",
    "Methods:\n",
    "Methods are functions defined inside a class that perform operations on the object's data.\n",
    "They can take arguments like regular functions (self refers to the current object) and can modify the object's state or return values.\n",
    "Example:\n",
    "python\n",
    "Copy code\n",
    "print(person1.greet())  # Output: Hello, my name is Alice and I am 30 years old.\n",
    "\n",
    "\n",
    "Inheritance:\n",
    "Inheritance allows a class (subclass or derived class) to inherit properties and methods from another class (superclass or base class).\n",
    "It promotes code reuse and hierarchy among classes, where subclasses can add new functionality or override existing methods.\n",
    "Example:\n",
    "python\n",
    "Copy code\n",
    "class Student(Person):\n",
    "    def __init__(self, name, age, student_id):\n",
    "        super().__init__(name, age)\n",
    "        self.student_id = student_id\n",
    "\n",
    "    def study(self):\n",
    "        return f\"{self.name} is studying.\"\n",
    "        \n",
    "\n",
    "\n",
    "Encapsulation:\n",
    "Encapsulation is the bundling of data (attributes) and methods that operate on that data within a single unit (class).\n",
    "It allows for data hiding, where internal details of an object are hidden from outside code, and only the interface (public methods) is accessible.\n",
    "Example:\n",
    "python\n",
    "Copy code\n",
    "class BankAccount:\n",
    "    def __init__(self, account_number, balance):\n",
    "        self.account_number = account_number\n",
    "        self.__balance = balance  # Private attribute\n",
    "\n",
    "    def deposit(self, amount):\n",
    "        self.__balance += amount\n",
    "\n",
    "    def get_balance(self):\n",
    "        return self.__balance\n",
    "        \n",
    "Polymorphism:\n",
    "Polymorphism allows objects to be treated as instances of their superclass, enabling flexibility and code reuse.\n",
    "It includes method overriding (redefining a method in a subclass) and method overloading (defining multiple methods with the same name but different parameters).\n",
    "Example (method overriding):\n",
    "python\n",
    "Copy code\n",
    "class Dog:\n",
    "    def speak(self):\n",
    "        return \"Woof!\"\n",
    "\n",
    "class Cat:\n",
    "    def speak(self):\n",
    "        return \"Meow!\"\n",
    "\n",
    "def make_sound(animal):\n",
    "    print(animal.speak())\n",
    "\n",
    "dog = Dog()\n",
    "cat = Cat()\n",
    "\n",
    "make_sound(dog)  # Output: Woof!\n",
    "make_sound(cat)  # Output: Meow!\n",
    "In Python, OOP promotes code organization, modularity, and abstraction, making it easier to manage and maintain complex systems. It emphasizes concepts like inheritance, polymorphism, and encapsulation to create scalable and reusable code structures.\n",
    "'''\n",
    "print()"
   ]
  },
  {
   "cell_type": "markdown",
   "id": "65a6d8de",
   "metadata": {},
   "source": [
    "# why there is a need of Object Oriented Programming ?"
   ]
  },
  {
   "cell_type": "code",
   "execution_count": 4,
   "id": "110ff016",
   "metadata": {},
   "outputs": [],
   "source": [
    "# Object-oriented programming (OOP) offers several advantages that make it a popular paradigm for software development. Here are some reasons why OOP is widely used and why there is a need for it:\n",
    "\n",
    "# 1.Modularity:\n",
    "# OOP allows you to break  down complex systems into smaller,\n",
    "# more manageable modules called classes. Each class encapsulates data (attributes) and functionality (methods), \n",
    "# promoting modularity and organization in code.\n",
    "\n",
    "# 2.Code Reusability:\n",
    "# OOP promotes code reuse through inheritance. \n",
    "# You can create new classes (subclasses) that inherit properties and behaviors from existing classes (superclasses). \n",
    "# This saves development time and effort by avoiding redundant code.\n",
    "\n",
    "# 3.Encapsulation:\n",
    "# Encapsulation bundles data and methods within a class, hiding internal details and exposing a clean interface. \n",
    "# This helps in achieving data hiding, abstraction, and separation of concerns, making code easier to understand and maintain.\n",
    "\n",
    "# 4.Abstraction:\n",
    "# Abstraction allows you to focus on essential features of an object while hiding unnecessary details. \n",
    "# By defining abstract classes and interfaces, OOP enables high-level modeling and reduces complexity, enhancing code readability and scalability.\n",
    "\n",
    "# 5.Polymorphism:\n",
    "# OOP supports polymorphism, where objects can be treated as instances of their superclass. \n",
    "# This enables flexibility in code design, as different objects can respond differently to the same method call, promoting code reuse and extensibility.\n",
    "\n",
    "# 6.Ease of Maintenance:\n",
    "# OOP principles like encapsulation, modularity, \n",
    "# and inheritance contribute to cleaner code architecture,\n",
    "# reducing the likelihood of bugs and facilitating code maintenance and updates. \n",
    "# Changes made to one part of the codebase (e.g., modifying a class method) have minimal impact on other parts.\n",
    "\n",
    "# 7.Scalability:\n",
    "# OOP facilitates building scalable applications by structuring code in a hierarchical and organized manner. \n",
    "# As projects grow in complexity, OOP allows for easier management of codebases, team collaboration, and extension of functionality without compromising stability.\n",
    "\n",
    "# 8.Real-world Modeling:\n",
    "# OOP aligns well with real-world modeling, where objects in software represent entities, concepts, or processes in the real world. \n",
    "# This makes OOP intuitive and suitable for domains such as simulations, games, GUI development, and business applications.\n",
    "\n",
    "# Overall, OOP promotes better code organization, reusability, maintainability, and scalability, making it a valuable paradigm for developing robust and efficient software systems."
   ]
  },
  {
   "cell_type": "markdown",
   "id": "e23c06cd",
   "metadata": {},
   "source": [
    "# class"
   ]
  },
  {
   "cell_type": "code",
   "execution_count": null,
   "id": "21f35052",
   "metadata": {},
   "outputs": [],
   "source": [
    "# A class is a user define data type which defines its properites and its behaviour.\n",
    "\n",
    "# It is used for defining the structure and behvaiour of object.\n",
    "\n",
    "# It defines what attributes and methods will have the object of the class.\n",
    "\n",
    "# A class is a blueprint for creating objects.\n",
    "\n",
    "# class is create using 'class' keyword\n",
    "\n",
    "# class name is conventionally capitalized\n",
    "\n",
    "# syntax:\n",
    "#  class class_name:\n"
   ]
  },
  {
   "cell_type": "code",
   "execution_count": 5,
   "id": "dbc94373",
   "metadata": {},
   "outputs": [
    {
     "name": "stdout",
     "output_type": "stream",
     "text": [
      "Gogo\n",
      "Software Developer\n",
      "male\n",
      "Gogo is a Software Developer\n",
      "<__main__.Person object at 0x0000020D03EBDA50>\n",
      "<class '__main__.Person'>\n"
     ]
    }
   ],
   "source": [
    "# When you call a method using an object instance (e.g., object_instance.method()), \n",
    "# Python automatically passes the instance itself as the first argument to the method, which is typically named self.\n",
    "\n",
    "\n",
    "class Person:\n",
    "  name = \"Gogo\"\n",
    "  occupation = \"Software Developer\"  # -----> Attributes of class\n",
    "  gender = \"male\"\n",
    "\n",
    "\n",
    "  # self parameter references to the current instance of the class and it is used to access the variables of the class.\n",
    "  \n",
    "  def info(self):  #----> method\n",
    "    print(f\"{self.name} is a {self.occupation}\")\n",
    "\n",
    "\n",
    "# Creating the object of the class\n",
    "a = Person()\n",
    "\n",
    "# Acessing the attributes of the class using the object_name.attribute_name\n",
    "print(a.name)\n",
    "print(a.occupation)\n",
    "print(a.gender)\n",
    "\n",
    "# With the help of the object we can call the method of the class\n",
    "# And we get its content.\n",
    "a.info()\n",
    "print(a)\n",
    "print(type(a))"
   ]
  },
  {
   "cell_type": "code",
   "execution_count": 6,
   "id": "6c0fe957",
   "metadata": {},
   "outputs": [
    {
     "name": "stdout",
     "output_type": "stream",
     "text": [
      "10\n"
     ]
    }
   ],
   "source": [
    "class Test:\n",
    "  a = 10\n",
    "\n",
    "t1 = Test()\n",
    "print(t1.a)"
   ]
  },
  {
   "cell_type": "markdown",
   "id": "8b9740c5",
   "metadata": {},
   "source": [
    "# How the initialization is done without init method"
   ]
  },
  {
   "cell_type": "code",
   "execution_count": 10,
   "id": "15b89b0f",
   "metadata": {},
   "outputs": [
    {
     "name": "stdout",
     "output_type": "stream",
     "text": [
      "Anonymous\n",
      "0\n"
     ]
    }
   ],
   "source": [
    "# if we are not using init method then how the initialization of the object in done?\n",
    " \n",
    "# If you don't explicitly define an __init__() method in a Python class, the initialization of an object can still occur through an implicit mechanism provided by Python. This mechanism involves the use of the default constructor provided by Python.\n",
    "\n",
    "# When you create an object without an __init__() method in the class, Python automatically uses a default constructor to initialize the object. This default constructor doesn't perform any specific initialization unless you provide default values for attributes directly in the class definition.\n",
    "\n",
    "# Here's how the initialization works without an explicit __init__() method:\n",
    "\n",
    "# Default Initialization:\n",
    "\n",
    "# When you create an object of a class without an __init__() method, Python initializes the object by allocating memory for it and creating an empty object.\n",
    "# Attribute Assignment:\n",
    "\n",
    "# If the class defines attributes with default values directly in the class definition, those attributes are automatically initialized with their default values when an object is created.\n",
    "\n",
    "# For example, consider a class without an __init__() method but with default attribute values:\n",
    "\n",
    "\n",
    "class Person:\n",
    "    name = \"Anonymous\"\n",
    "    age = 0\n",
    "\n",
    "\n",
    "# After creating an object from such a class, you can access its default attributes directly using dot notation (object_name.attribute_name).\n",
    "\n",
    "person1 = Person()\n",
    "print(person1.name)  # Output: \"Anonymous\"\n",
    "print(person1.age)   # Output: 0\n",
    "\n",
    "# Dynamic Attribute Assignment:\n",
    "\n",
    "# You can also dynamically assign attributes to an object without an __init__() method after object creation using dot notation.\n",
    "# Example:\n",
    "person1 = Person()\n",
    "person1.name = \"Alice\"\n",
    "person1.age = 30"
   ]
  },
  {
   "cell_type": "code",
   "execution_count": 11,
   "id": "d5e454ba",
   "metadata": {},
   "outputs": [],
   "source": [
    "# In summary, if you don't define an __init__() method in your class, \n",
    "# Python provides a default constructor that initializes objects by creating an empty object. \n",
    "# Attribute initialization can occur through default values defined in the class or dynamically after object creation. \n",
    "# However, using an __init__() method allows for more explicit and controlled initialization of object attributes during object creation."
   ]
  },
  {
   "cell_type": "markdown",
   "id": "8f5a0919",
   "metadata": {},
   "source": [
    "# class_object "
   ]
  },
  {
   "cell_type": "code",
   "execution_count": 12,
   "id": "f7c1a8c4",
   "metadata": {},
   "outputs": [
    {
     "name": "stdout",
     "output_type": "stream",
     "text": [
      "10\n",
      "11\n",
      "9\n"
     ]
    }
   ],
   "source": [
    "class Test:\n",
    "  # These are the class variables as they are defined in the class definition.\n",
    "  a = 10\n",
    "  b = 20\n",
    "\n",
    "\n",
    "t1 = Test()\n",
    "t2 = Test()\n",
    "\n",
    "# Here both the both the object t1 and t2 are creating the new instance variable 'a' outshadowing the class variable 'a'.\n",
    "t1.a = t1.a + 1\n",
    "t2.a = t2.a - 1\n",
    " \n",
    "print(Test.a) #---> class variable a\n",
    "print(t1.a)  #---> instance variable a\n",
    "print(t2.a)  #---> instance variable a"
   ]
  },
  {
   "cell_type": "markdown",
   "id": "7d8cf7b0",
   "metadata": {},
   "source": [
    "# str and repr method "
   ]
  },
  {
   "cell_type": "code",
   "execution_count": null,
   "id": "fc8427ec",
   "metadata": {},
   "outputs": [],
   "source": [
    "class Test:\n",
    "  a = 100\n",
    "\n",
    "\n",
    "t1 = Test()\n",
    "# Whenever we print the object of the class,Bydefault it will print the class name and the memory address of the object.\n",
    "print(t1)\n",
    "\n",
    "# When the object of the class is printed internally these two methods are called\n",
    "print(t1.__str__())\n",
    "print(t1.__repr__())\n",
    "\n",
    "# The __str__() method is defined to return a human-readable string representation of the instance, while the __repr__() method is defined to return a string representation of the instance that can be used to recreate the object.\n",
    "\n",
    "# We can change the representation of the object instead of class name and memory address to our choice using __str__() method or __repr__() method.\n",
    "\n",
    "# When you print an object of a class in Python, the output you see depends on how the __str__() or __repr__() method is implemented in that class. These are special methods in Python that control how an object is represented as a string when it is printed or converted to a string.\n",
    "\n",
    "# Both method does not print something but it returns something that is a string.\n",
    "\n",
    "# when an object is printed in Python using the print() function or when it is converted to a string explicitly using str(), the __str__() method is called internally if it's defined in the class. If __str__() is not defined, Python falls back to calling the __repr__() method. Here's how it works:\n",
    "\n",
    "\n",
    "class Test1:\n",
    "\n",
    "  def __str__(self):\n",
    "    return (\"This is the __str__() method\")\n",
    "\n",
    "\n",
    "t1 = Test1()\n",
    "print(t1)\n",
    "\n",
    "# When we use str() method on the object of the class, it calls the __str__() method internally.\n",
    "\n",
    "print(\"Printing using str() method\", str(t1))\n",
    "\n",
    "\n",
    "class Color:\n",
    "\n",
    "  def __init__(self, suffix):\n",
    "    self.suffix = suffix\n",
    "    self.title = f\"Golden {suffix}\"\n",
    "\n",
    "  def __repr__(self):\n",
    "    return f\"Color('{self.suffix}')\"\n",
    "\n",
    "\n",
    "c1 = Color(\"yellow\")\n",
    "c2 = eval(repr(c1))\n",
    "\n",
    "print(f\"c1.title :{c1.title}\")\n",
    "print(f\"c2.title :{c2.title}\")\n",
    "'''\n",
    "Sure! Let's go through this code step by step to understand its functionality and what it demonstrates.\n",
    "\n",
    "#Code Explanation\n",
    "Class Definition\n",
    "python\n",
    "Copy code\n",
    "class Color:\n",
    "    def __init__(self, suffix):\n",
    "        self.suffix = suffix\n",
    "        self.title = f\"Golden {suffix}\"\n",
    "\n",
    "    def __repr__(self):\n",
    "        return f\"Color('{self.suffix}')\"\n",
    "__init__ Method: This is the constructor method that initializes the instance of the Color class. It takes suffix as a parameter and sets two instance variables:\n",
    "\n",
    "self.suffix is set to the provided suffix.\n",
    "self.title is constructed as a string combining \"Golden \" with the provided suffix.\n",
    "__repr__ Method: This method returns a string that represents the object in a way that can be used to recreate the object. In this case, it returns a string of the form Color('suffix').\n",
    "\n",
    "Creating an Instance\n",
    "\n",
    "python\n",
    "Copy code\n",
    "c1 = Color(\"Yellow\")\n",
    "An instance c1 of the Color class is created with the suffix \"Yellow\".\n",
    "The __init__ method sets c1.suffix to \"Yellow\" and c1.title to \"Golden Yellow\".\n",
    "Creating Another Object Using eval() on repr()\n",
    "\n",
    "python\n",
    "Copy code\n",
    "c2 = eval(repr(c1))\n",
    "repr(c1) calls the __repr__ method on c1, which returns the string Color('Yellow').\n",
    "eval(repr(c1)) evaluates this string as a Python expression, effectively executing Color('Yellow') to create a new Color object.\n",
    "This new object is assigned to c2.\n",
    "Printing the Titles\n",
    "\n",
    "python\n",
    "Copy code\n",
    "print(\"c1.title:\", c1.title)\n",
    "print(\"c2.title:\", c2.title)\n",
    "\n",
    "c1.title is \"Golden Yellow\", as set during the creation of c1.\n",
    "\n",
    "c2.title is also \"Golden Yellow\", because c2 is created with the same parameters as c1 using eval() on repr(c1).\n",
    "\n",
    "Summary\n",
    "The Color class initializes objects with a suffix and a title derived from the suffix.\n",
    "\n",
    "The __repr__ method provides a string representation that can recreate the object \n",
    "using eval().\n",
    "\n",
    "By using eval(repr(c1)), we create a new object c2 with the same attributes as c1.\n",
    "The titles of both c1 and c2 are printed, showing they have the same title.\n",
    "\n",
    "Output\n",
    "python\n",
    "Copy code\n",
    "c1.title: Golden Yellow\n",
    "c2.title: Golden Yellow\n",
    "\n",
    "This demonstrates that c2 is a new object with the same properties as c1, created dynamically using the eval() function on the string representation provided by the __repr__ method.\n",
    "\n",
    "'''\n"
   ]
  },
  {
   "cell_type": "markdown",
   "id": "04ce18bd",
   "metadata": {},
   "source": [
    "# References "
   ]
  },
  {
   "cell_type": "code",
   "execution_count": 1,
   "id": "2b49699e",
   "metadata": {},
   "outputs": [
    {
     "name": "stdout",
     "output_type": "stream",
     "text": [
      "100\n",
      "10\n"
     ]
    }
   ],
   "source": [
    "class Test:\n",
    "  a = 100\n",
    "  b = 200\n",
    "\n",
    "\n",
    "t1 = Test()  # Creating an instance of the Test class and assigning it to t1\n",
    "t2 = t1  # Creating a new reference t2 that points to the same object as t1\n",
    "print(t2.a)\n",
    "\n",
    "# Here  t2 is reference\n",
    "# In python references does not hold the hashCode instead they hold the memory address of the object where the object is stored in the memory.\n",
    "# So t2 is pointing to the same object as t1\n",
    "\n",
    "# In Python, references (like t2 in your example) hold memory addresses, not hash codes. When you assign an object to a variable in Python, the variable holds a reference to the memory location where the object is stored. This reference allows Python to access and manipulate the object's data.\n",
    "\n",
    "# In this case, t1 and t2 both hold references to the memory location where the object of the Test class is stored. They do not hold hash codes or any other metadata directly related to the object's identity or state.\n",
    "\n",
    "# Python uses references extensively for memory management and object manipulation. When you perform operations on an object through a reference (e.g., accessing attributes, calling methods), Python knows which object in memory to work with based on the reference.\n",
    "\n",
    "# Hash codes, on the other hand, are a concept more commonly associated with hash tables and hashing algorithms used for data structures and algorithms. While objects in Python do have hash codes (accessible via the hash() function), these hash codes are primarily used internally for certain operations (e.g., dictionary lookups, set membership checks) and are not directly stored in object references like in some other languages such as Java.\n",
    "\n",
    "\n",
    "class Test1:\n",
    "  a = 10\n",
    "\n",
    "\n",
    "print(Test1.a)\n"
   ]
  },
  {
   "cell_type": "markdown",
   "id": "65111035",
   "metadata": {},
   "source": [
    "\n",
    "# class_object1"
   ]
  },
  {
   "cell_type": "code",
   "execution_count": 3,
   "id": "75a1b7a1",
   "metadata": {},
   "outputs": [
    {
     "name": "stdout",
     "output_type": "stream",
     "text": [
      "100\n",
      "10\n",
      "20\n",
      "30\n",
      "100\n",
      "200\n",
      "300\n",
      "100\n",
      "200\n",
      "300\n"
     ]
    }
   ],
   "source": [
    "class Test:\n",
    "  a = 100  #These are the class variables and can be accessed by the class name.\n",
    "  b = 200\n",
    "\n",
    "  def __init__(self, c, d, e):\n",
    "    self.c = c  # c d e are the instance variables and can be accessed by the object name\n",
    "    self.d = d\n",
    "    self.e = e\n",
    "\n",
    "\n",
    "t1 = Test(10, 20, 30)\n",
    "t2 = Test(100, 200, 300)\n",
    "\n",
    "print(t1.a)\n",
    "print(t1.c)\n",
    "print(t1.d)\n",
    "print(t1.e)\n",
    "print(t2.c)\n",
    "print(t2.d)\n",
    "print(t2.e)\n",
    "\n",
    "\n",
    "class Test1:\n",
    "  a = 10\n",
    "  b = 20\n",
    "  c = 30\n",
    "\n",
    "  def __init__(self,a,b,c):\n",
    "    self.a = a\n",
    "    self.b = b\n",
    "    self.c = c\n",
    "\n",
    "t1 = Test1(100, 200, 300)\n",
    "print(t1.a)\n",
    "print(t1.b)\n",
    "print(t1.c)\n"
   ]
  },
  {
   "cell_type": "markdown",
   "id": "620399a0",
   "metadata": {},
   "source": [
    "# Constructor"
   ]
  },
  {
   "cell_type": "code",
   "execution_count": 5,
   "id": "002aaf76",
   "metadata": {},
   "outputs": [
    {
     "name": "stdout",
     "output_type": "stream",
     "text": [
      "gogo is a Developer\n",
      "John is a UI/UX Developer\n"
     ]
    }
   ],
   "source": [
    "# Constructor is a special method in a class used to create the object of the class and intialize the instance variable of the class.\n",
    "\n",
    "# Constructor is invoked automatically when an object of a class is created.\n",
    "\n",
    "# Constructor is a unique function that gets called automatically when an object is created of a class.\n",
    "\n",
    "# The main purpose of a constructor is to initialize or assign values to the data members of that class. It cannot return anything.\n",
    "\n",
    "# In python construtor is defined using the __init__() function.\n",
    "\n",
    "# In which the first parameter is always self.\n",
    "# The self parameter is a reference to the current instance of the class and is used to access the variables that belongs to the class.\n",
    "\n",
    "# In Python, a constructor is a special type of method that is automatically called when a new instance of a class is created. It's used to initialize the object's attributes or perform any setup tasks needed for the object to be in a valid state. In Python, the constructor method is named __init__.\n",
    "\n",
    "# Here are some key points about constructors in Python:\n",
    "\n",
    "# Name: The constructor method is named __init__. It's a dunder method (double underscore on each side), indicating its special nature.\n",
    "\n",
    "# Purpose: The main purpose of a constructor is to initialize the attributes of an object when it is created. This includes setting initial values for instance variables.\n",
    "\n",
    "# Automatic Invocation: The constructor is automatically called when you create a new instance of a class using the class name followed by parentheses, like obj = ClassName().\n",
    "\n",
    "# Parameters: The constructor can take parameters just like any other method. Typically, the first parameter is self, which refers to the instance being created, followed by other parameters as needed to initialize the object.\n",
    "\n",
    "# Instance Initialization: Inside the constructor, you use self to access and initialize instance variables (attributes) of the object. For example, self.attribute_name = initial_value.\n",
    "\n",
    "\n",
    "\"\"\"\n",
    "Constructors in Python is a special class method for creating and initializing an object instance at that class. In Python every class has a constructor; it's not required to define explicitly. The purpose of the constructor is to construct an object and assign a value to the object's members.\n",
    "\n",
    "\n",
    "# There two types of constructor in python:\n",
    "\n",
    "# Parameterized Constructor\n",
    "  The Constructor which receives the arugements as parameters with self is know as parameterized constructor.\n",
    "\n",
    "# Default Constructor \n",
    "   The Constructor which doesn't receives the arugements as parameters excpet self is know as default constructor.\n",
    "\"\"\"\n",
    "\n",
    "class Person:\n",
    "\n",
    "  def __init__(self,name,occ):\n",
    "    self.name = name\n",
    "    self.occ = occ\n",
    "\n",
    "  def info(self):\n",
    "    print(f\"{self.name} is a {self.occ}\")\n",
    "\n",
    "a = Person(\"gogo\",\"Developer\")\n",
    "b = Person(\"John\",\"UI/UX Developer\")\n",
    "a.info()\n",
    "b.info()\n",
    "\n",
    "\n",
    "# Here's a more detailed explanation of the process:\n",
    "\n",
    "# Object Creation:\n",
    "# When you write obj = MyClass(), Python allocates memory for a new instance of the MyClass class. At this point, the object is created in memory but is not fully initialized.\n",
    "\n",
    "  # Constructor Call:\n",
    "# After memory allocation, Python automatically calls the class's constructor (__init__ method) to initialize the object's state.\n",
    "# The constructor is responsible for setting up the object's initial attributes, assigning default values, and performing any necessary initialization tasks.\n",
    "\n",
    "# Instance Initialization:\n",
    "# Inside the constructor, you can initialize instance variables, set object properties, and perform any other setup specific to the object.\n",
    "# Once the constructor finishes executing, the object is fully initialized and ready for use.\n",
    "\n",
    "    "
   ]
  },
  {
   "cell_type": "markdown",
   "id": "5364d536",
   "metadata": {},
   "source": [
    "# Multiple Constructor "
   ]
  },
  {
   "cell_type": "code",
   "execution_count": 7,
   "id": "bc86bb61",
   "metadata": {},
   "outputs": [
    {
     "name": "stdout",
     "output_type": "stream",
     "text": [
      "This is Constructor2\n"
     ]
    },
    {
     "data": {
      "text/plain": [
       "'\\nWe use Python’s inbuilt __init__ method to define the constructor of a class. It tells what will the constructor do if the class object is created.\\n\\nIf multiple __init__ methods are written for the same class, then the latest one overwrites all the previous constructors and the reason for this can be that Python stores all the function names in a class as keys in a dictionary so when a new function is defined with the same name, the key remains the same but the value gets overridden by the new function body.\\n\\n'"
      ]
     },
     "execution_count": 7,
     "metadata": {},
     "output_type": "execute_result"
    }
   ],
   "source": [
    "class Test:\n",
    "\n",
    "  def __init__(self):\n",
    "    print(\"This is Constructor1\")\n",
    "\n",
    "  def __init__(self,name):\n",
    "    print(\"This is Constructor2\")\n",
    "\n",
    "\n",
    "# t1 = Test()\n",
    "t2 = Test(\"Raj\")\n",
    "\n",
    "'''\n",
    "We use Python’s inbuilt __init__ method to define the constructor of a class. It tells what will the constructor do if the class object is created.\n",
    "\n",
    "If multiple __init__ methods are written for the same class, then the latest one overwrites all the previous constructors and the reason for this can be that Python stores all the function names in a class as keys in a dictionary so when a new function is defined with the same name, the key remains the same but the value gets overridden by the new function body.\n",
    "\n",
    "'''\n",
    "\n",
    "# If we have more than one constructor with same number of arguments,then internally the object of the class will always call the last/ newly created constructor.\n",
    "\n",
    "# In python the newly created method with same as declare before always override the content of the previous one.\n",
    "\n",
    "# In Python, you can technically define multiple methods with the same name in a class, including multiple methods with the same number of parameters. However, unlike some other programming languages like Java, Python does not support method overloading based on the number of parameters or parameter types. This means that defining multiple methods with the same name but different parameter lists in a Python class will not result in method overloading as it does in languages like Java.\n",
    "\n",
    "# Instead, in Python, the method that is defined last in the class will overwrite any previously defined methods with the same name. When you call a method on an object, Python will look for the method starting from the object's class and then search through its inheritance hierarchy until it finds a matching method name. If it finds multiple methods with the same name, it will use the most recently defined method.\n"
   ]
  },
  {
   "cell_type": "markdown",
   "id": "c0790c14",
   "metadata": {},
   "source": [
    "# Why_python_doesn't_support_constructor_overloading"
   ]
  },
  {
   "cell_type": "code",
   "execution_count": 8,
   "id": "77f35299",
   "metadata": {},
   "outputs": [
    {
     "name": "stdout",
     "output_type": "stream",
     "text": [
      "One args constructor\n",
      "['__class__', '__delattr__', '__dict__', '__dir__', '__doc__', '__eq__', '__format__', '__ge__', '__getattribute__', '__getstate__', '__gt__', '__hash__', '__init__', '__init_subclass__', '__le__', '__lt__', '__module__', '__ne__', '__new__', '__reduce__', '__reduce_ex__', '__repr__', '__setattr__', '__sizeof__', '__str__', '__subclasshook__', '__weakref__']\n",
      "add\n",
      "sub\n",
      "['__class__', '__delattr__', '__dict__', '__dir__', '__doc__', '__eq__', '__format__', '__ge__', '__getattribute__', '__getstate__', '__gt__', '__hash__', '__init__', '__init_subclass__', '__le__', '__lt__', '__module__', '__ne__', '__new__', '__reduce__', '__reduce_ex__', '__repr__', '__setattr__', '__sizeof__', '__str__', '__subclasshook__', '__weakref__', 'add', 'sub']\n"
     ]
    }
   ],
   "source": [
    "class Test:\n",
    "  def __init__(self):\n",
    "    print(\"No args constructor\")\n",
    "  def __init__(self,name = \"Gogo\"):\n",
    "    print(\"One args constructor\")\n",
    "\n",
    "t1 = Test()\n",
    "\n",
    "print(dir(t1))\n",
    "# If multiple __init__ methods are written for the same class, then the latest one overwrites all the previous constructors and the reason for this can be that Python stores all the function names in a class as keys in a dictionary so when a new function is defined with the same name, the key remains the same but the value gets overridden by the new function body.\n",
    "\n",
    "\n",
    "# This class namespace is simply a dictionary mapping the attributes and methods of the class to function implementation in memory. Now dictionaries cannot have repeated keys so Python does not have function overloading.\n",
    "\n",
    "class Test1:\n",
    "  def add(self):\n",
    "    print(\"add\")\n",
    "  def sub(self):\n",
    "    print(\"sub\")\n",
    "\n",
    "t1 = Test1()\n",
    "t1.add()\n",
    "t1.sub()\n",
    "print(dir(t1))"
   ]
  },
  {
   "cell_type": "markdown",
   "id": "fe208236",
   "metadata": {},
   "source": [
    "# class_object_1_1"
   ]
  },
  {
   "cell_type": "code",
   "execution_count": 10,
   "id": "68382777",
   "metadata": {},
   "outputs": [
    {
     "name": "stdout",
     "output_type": "stream",
     "text": [
      "10\n",
      "20\n",
      "30\n",
      "100\n",
      "200\n",
      "300\n"
     ]
    }
   ],
   "source": [
    "class Test:\n",
    "  a = 100\n",
    "  b = 200\n",
    "\n",
    "  def __init__(self,c,d,e):\n",
    "    self.c = c\n",
    "    self.d = d\n",
    "    self.e = e\n",
    "\n",
    "\n",
    "t1 = Test(10,20,30)\n",
    "t2 = Test(100,200,300)\n",
    "\n",
    "print(t1.c)\n",
    "print(t1.d)\n",
    "print(t1.e)\n",
    "print(t2.c)\n",
    "print(t2.d)\n",
    "print(t2.e)\n",
    "\n"
   ]
  },
  {
   "cell_type": "markdown",
   "id": "c1730cc0",
   "metadata": {},
   "source": [
    "# Where_does_python_store_all_functions_as_a_key?"
   ]
  },
  {
   "cell_type": "code",
   "execution_count": 12,
   "id": "146175e6",
   "metadata": {},
   "outputs": [
    {
     "name": "stdout",
     "output_type": "stream",
     "text": [
      "{}\n",
      "Method 1\n",
      "Method 2\n",
      "{'__module__': '__main__', '__doc__': 'This is a class ', 'method1': <function MyClass.method1 at 0x000002A38510FEC0>, 'method2': <function MyClass.method2 at 0x000002A385CB0180>, '__dict__': <attribute '__dict__' of 'MyClass' objects>, '__weakref__': <attribute '__weakref__' of 'MyClass' objects>}\n",
      "\n"
     ]
    }
   ],
   "source": [
    "# In which class python store all the functions as a key ?\n",
    "'''\n",
    "In Python, all functions defined in a class are stored in a special attribute called __dict__. This attribute is a dictionary that maps function names to their respective function objects within the class.\n",
    "\n",
    "When you access a function or method using the dot notation (obj.method or Class.method), Python looks up the function name in the __dict__ attribute of the object or class to retrieve the function object.\n",
    "\n",
    "Here's an example to demonstrate accessing functions from the __dict__ attribute:\n",
    "'''\n",
    "\n",
    "\n",
    "class MyClass:\n",
    "  \"\"\"This is a class \"\"\"\n",
    "\n",
    "  def method1(self):\n",
    "    print(\"Method 1\")\n",
    "\n",
    "  def method2(self):\n",
    "    print(\"Method 2\")\n",
    "\n",
    "\n",
    "obj = MyClass()\n",
    "print(obj.__dict__)  # Output: {}\n",
    "\n",
    "obj.method1()  # Output: Method 1\n",
    "obj.method2()  # Output: Method 2\n",
    "\n",
    "print(MyClass.__dict__)\n",
    "'''\n",
    "In this example:\n",
    "\n",
    "obj.__dict__ shows an empty dictionary because method1 and method2 are stored in the class definition (MyClass.__dict__), not in the instance obj.\n",
    "\n",
    "MyClass.__dict__ contains the function objects method1 and method2, along with other special attributes like __module__, __dict__, __weakref__, and __doc__.\n",
    "So, Python stores all functions defined in a class within the class's __dict__ attribute. This mechanism allows for efficient lookup and invocation of methods during runtime.\n",
    "\n",
    "'''\n",
    "\"\"\"\n",
    "The reason why class attributes/methods are not directly stored in the instance's __dict__ is related to the concept of inheritance and method resolution order (MRO) in Python. \n",
    "Plz explain that ?\n",
    "\n",
    "In Python, the concept of inheritance allows a subclass (derived class) to inherit attributes and methods from its superclass (base class). When you access an attribute or method on an instance of a class, Python uses the method resolution order (MRO) to determine which attribute or method to use.\n",
    "\n",
    "Here's how it works:\n",
    "\n",
    "Method Resolution Order (MRO):\n",
    "When you access an attribute or method on an object (obj.attr or obj.method()), Python first looks for it in the object's own __dict__ (obj.__dict__).\n",
    "If the attribute or method is not found in the object's __dict__, Python looks for it in the class hierarchy according to the MRO.\n",
    "The MRO defines the order in which Python searches for attributes and methods in the class hierarchy. It follows the C3 linearization algorithm to determine this order.\n",
    "\n",
    "Inheritance and Attribute/Method Lookup:\n",
    "When you define a class, Python creates a namespace for that class (MyClass.__dict__) to store its attributes and methods.\n",
    "If a class inherits from anotr class, Python follows the MRO to resolve attribute and method loohekup.\n",
    "If an attribute or method is not found in the subclass's __dict__, Python looks for it in the superclass's __dict__, and so on up the inheritance chain.\n",
    "Now, regarding class attributes/methods not being directly stored in an instance's __dict__:\n",
    "\n",
    "Class Attributes/Methods:\n",
    "Class attributes and methods are stored in the class's namespace (MyClass.__dict__) and are shared among all instances of the class.\n",
    "When you access a class attribute/method through an instance (obj.attr or obj.method()), Python first checks the instance's __dict__. If the attribute/method is not found there, Python then looks in the class's __dict__ and follows the MRO.\n",
    "\n",
    "This separation allows class attributes/methods to be shared across instances and modified at the class level without affecting individual instances directly.\n",
    "In summary, the distinction between class attributes/methods and instance attributes/methods, along with the MRO mechanism, ensures that Python can resolve attribute/method lookup correctly, taking into account inheritance and the class hierarchy. This design promotes encapsulation, inheritance, and code reusability in object-oriented programming.\n",
    "\n",
    "\"\"\"\n",
    "print()"
   ]
  },
  {
   "cell_type": "markdown",
   "id": "86f82814",
   "metadata": {},
   "source": [
    "# Need_of_Multi_Constructor"
   ]
  },
  {
   "cell_type": "code",
   "execution_count": null,
   "id": "bdf58ce6",
   "metadata": {},
   "outputs": [],
   "source": [
    "# \"\"\"\n",
    "\n",
    "Need for Multiple Constructors\n",
    "Multiple constructors are required when one has to perform different actions on the instantiation of a Python class. \n",
    "\n",
    "This is useful when the class has to perform different actions on different parameters. \n",
    "\n",
    "How to Have Multiple Constructors in Python?\n",
    "The class constructors can be made to exhibit polymorphism in three ways which are listed below.\n",
    "\n",
    "Overloading constructors based on arguments.\n",
    "Calling methods from __init__.\n",
    "Using @classmethod decorator.\n",
    "\n",
    "\"\"\"\n",
    "\n",
    "print(\"--------------Overloading constructors based on arguments------------\")\n",
    "\n",
    "\n",
    "class Demo:\n",
    "\n",
    "  def __init__(self, *args):\n",
    "    if len(args) > 1:\n",
    "      self.ans = 0\n",
    "      for i in (args):\n",
    "        self.ans = self.ans + i\n",
    "\n",
    "    # isinstance is the method that is used to check that the object is of specified class.\n",
    "\n",
    "    # isinstance method take two arugments, the first one is the object and second is the type against want to check it.\n",
    "\n",
    "    elif isinstance(args[0], int):\n",
    "      self.ans = args[0] * args[0]\n",
    "\n",
    "    elif isinstance(args[0], str):\n",
    "      self.ans = \"Hello \" + args[0]\n",
    "\n",
    "\n",
    "obj1 = Demo(1, 2, 3, 4, 5)\n",
    "print(\"The summation of all the element\", obj1.ans)\n",
    "\n",
    "obj2 = Demo(5)\n",
    "print(\"The square of the element\", obj2.ans)\n",
    "\n",
    "obj3 = Demo(\"World\")\n",
    "print(\"The output is\", obj3.ans)\n",
    "print()\n",
    "\n",
    "print(\"--------------Alternate way of isinstance is type method--------------\")\n",
    "\n",
    "\n",
    "class Demo:\n",
    "\n",
    "  def __init__(self, *args):\n",
    "    if len(args) > 1:\n",
    "      self.ans = 0\n",
    "      for i in (args):\n",
    "        self.ans = self.ans + i\n",
    "\n",
    "    # isinstance is the method that is used to check that the object is of specified class.\n",
    "\n",
    "    # isinstance method take two arugments, the first one is the object and second is the type against want to check it.\n",
    "\n",
    "    elif type(args[0]) == int:\n",
    "      self.ans = args[0] * args[0]\n",
    "\n",
    "    elif type(args[0]) == str:\n",
    "      self.ans = \"Hello \" + args[0]\n",
    "\n",
    "\n",
    "obj1 = Demo(1, 2, 3, 4, 5)\n",
    "print(\"The summation of all the element\", obj1.ans)\n",
    "\n",
    "obj2 = Demo(5)\n",
    "print(\"The square of the element\", obj2.ans)\n",
    "\n",
    "obj3 = Demo(\"World\")\n",
    "print(\"The output is\", obj3.ans)\n",
    "print()\n",
    "print()\n",
    "\"\"\"\n",
    "Calling methods from __init__\n",
    "A class can have one constructor __init__ which can perform any action when the instance of the class is created. \n",
    "\n",
    "This constructor can be made to different functions that carry out different actions based on the arguments passed. Now consider an example : \n",
    "\n",
    "If the number of arguments passed is 2, then evaluate the expression x = a2-b2\n",
    "If the number of arguments passed is 3, then evaluate the expression y = a2+b2-c.\n",
    "If more than 3 arguments have been passed, then sum up the squares, and divide it by the highest value in the arguments passed.\n",
    "\n",
    "\"\"\"\n",
    "\n",
    "print(\"--------------Calling methods from __init__------------\")\n",
    "\n",
    "\n",
    "class Demo:\n",
    "\n",
    "  def __init__(self, *args):\n",
    "    \n",
    "    if len(args) == 2:\n",
    "      self.ans = self.eq1(*args)\n",
    "\n",
    "    elif len(args) == 3:\n",
    "      self.ans = self.eq2(*args)\n",
    "\n",
    "    elif len(args)>3:\n",
    "      self.ans = self.eq3(*args)\n",
    "\n",
    "  def eq1(self, *args):\n",
    "    return args[0] * args[0] - args[1] * args[1]\n",
    "\n",
    "  def eq2(self, *args):\n",
    "    return args[0] * args[0] - args[1] * args[1] - args[2]\n",
    "\n",
    "  def eq3(self, *args):\n",
    "    self.ans = 0\n",
    "    for i in (args):\n",
    "      self.ans = self.ans + i**2\n",
    "\n",
    "    return self.ans / max(args)\n",
    "\n",
    "\n",
    "d1 = Demo(5, 4)\n",
    "print(d1.ans)\n",
    "d2 = Demo(1,2,3)\n",
    "print(d2.ans)\n",
    "d3 = Demo(1,2,3,4)\n",
    "print(d3.ans)\n"
   ]
  },
  {
   "cell_type": "markdown",
   "id": "4eca053d",
   "metadata": {},
   "source": [
    "# Decorator"
   ]
  },
  {
   "cell_type": "code",
   "execution_count": 18,
   "id": "da6cc930",
   "metadata": {},
   "outputs": [
    {
     "name": "stdout",
     "output_type": "stream",
     "text": [
      "Good Morning\n",
      "THis is a function\n",
      "Thanks for using this function\n",
      "Something before the function\n",
      "30\n",
      "Something After the function\n",
      "\n"
     ]
    }
   ],
   "source": [
    "# Decorator are the functions that take another function done some modification in that and return it.\n",
    "\n",
    "#Decorator is a powerful and verstile tool that allows you to modify the behavior of functions and methods. It is a way to extend the functionality of a function or method without modifying the source code.\n",
    "\n",
    "# A Decorator is a function that take another function as an argument and return a new function that modifies the behaviour of the original function. The new function is often referred to as a \"decorator function\"\n",
    "\n",
    "# In Python, a decorator is a design pattern that allows you to modify the behavior of functions or methods. Decorators are implemented using the @decorator_name syntax, where decorator_name is a function that takes another function as an argument and typically returns a new function that enhances or modifies the behavior of the original function.\n",
    "\n",
    "# when you apply a decorator to a function in Python, the memory allocation for the original function is essentially replaced by the memory allocation for the wrapper function created by the decorator. This means that the original function is no longer accessible from outside the decorator, and any references to it will not work.\n",
    "\n",
    "# The basic syntax is :\n",
    "# @greet\n",
    "# def hello():\n",
    "\n",
    "# If we are using @greet decorator on a function,then first greet function is called which takes hello function as an argument and returns a new function that modifies the behaviour of the original function.\n",
    "\n",
    "# The new function is often referred to as a \"decorator function\"\n",
    "'''\n",
    "  Decorators are commonly used for tasks like logging, authentication, caching,    and more. They provide a clean and reusable way to extend the functionality of functions or methods in Python.\n",
    "'''\n",
    "\n",
    "# example:\n",
    "\n",
    "\n",
    "def greet(fx):\n",
    "\n",
    "  def mfx():\n",
    "    print(\"Good Morning\")\n",
    "    fx()\n",
    "    print(\"Thanks for using this function\")\n",
    "\n",
    "  return mfx\n",
    "\n",
    "\n",
    "@greet\n",
    "# Alternate way is greet(hello)()\n",
    "def hello():\n",
    "  print(\"THis is a function\")\n",
    "\n",
    "# Now, hello points to the mfx function, but the original hello() is stored as fx inside mfx.\n",
    "hello()\n",
    "\n",
    "# So, the reason for returning mfx from greet is to ensure that the original function hello is wrapped with the additional functionality defined in mfx, allowing you to use the decorator to modify the behavior of functions.\n",
    "\"\"\"\n",
    "In the code you provided, the greet function is a decorator that takes another function (fx) as an argument. Inside greet, a new function mfx is defined, which contains the additional functionality you want to add before and after calling fx. This new function mfx is then returned by greet.\n",
    "\n",
    "Here's a breakdown of what's happening:\n",
    "\n",
    "Decorator Definition (greet):\n",
    "python\n",
    "Copy code\n",
    "def greet(fx):\n",
    "    def mfx():\n",
    "        print(\"Good Morning\")\n",
    "        fx()  # Call the original function passed as 'fx'\n",
    "        print(\"Thanks for using this function\")\n",
    "    return mfx\n",
    "\n",
    "The greet function is defined to take a function fx as an argument. Inside greet, a new function mfx is defined, which prints \"Good Morning\", then calls the original function fx, and finally prints \"Thanks for using this function\". The mfx function is then returned by greet.\n",
    "\n",
    "Decorating the Function (hello):\n",
    "python\n",
    "Copy code\n",
    "@greet\n",
    "def hello():\n",
    "    print(\"This is a function\")\n",
    "\n",
    "When you use @greet above the hello function definition, it's equivalent to:\n",
    "python\n",
    "\n",
    "Copy code\n",
    "hello = greet(hello)\n",
    "This means that the hello function is passed to the greet decorator, and the returned function (mfx) is assigned back to hello. So, hello becomes a modified version of itself, with the additional functionality provided by mfx.\n",
    "\n",
    "\n",
    "Calling the Decorated Function (hello()):\n",
    "python\n",
    "Copy code\n",
    "hello()\n",
    "When you call hello(), it actually calls the modified version of hello, which is now mfx. So, the output will be:\n",
    "vbnet\n",
    "\n",
    "\n",
    "Copy code\n",
    "Good Morning\n",
    "This is a function\n",
    "Thanks for using this function\n",
    "So, the reason for returning mfx from greet is to ensure that the original function hello is wrapped with the additional functionality defined in mfx, allowing you to use the decorator to modify the behavior of functions.\n",
    "\"\"\"\n",
    "\n",
    "'''\n",
    "Why Doesn’t the hello Definition Get Lost?\n",
    "The original function (hello) is passed to the decorator as fx. This keeps the original functionality intact and allows it to be executed from within the wrapper function (mfx). The decorator modifies the behavior but doesn't erase the original function; instead, it adds pre- and post-processing steps around it.\n",
    "'''\n",
    "\n",
    "\n",
    "def greet1(fx):\n",
    "\n",
    "  def mfx(*args):\n",
    "    print(\"Something before the function\")\n",
    "    fx(*args)\n",
    "    print(\"Something After the function\")\n",
    "  return mfx\n",
    "\n",
    "\n",
    "def add(a, b):\n",
    "  print(a + b)\n",
    "\n",
    "\n",
    "fn1 = greet1(add)\n",
    "fn1(10,20)\n",
    "\n",
    "# Putting these steps together, greet(add)(1, 2) combines decoration and function call into a single expression, where greet(add) applies the decorator, and (1, 2) are the arguments passed to the modified function. This syntax is concise and commonly used when applying decorators in Python.\n",
    "\n",
    "# In Python, when you write greet(add)(1, 2), it's essentially equivalent to two separate steps:\n",
    "\"\"\"\n",
    "Decorating the Function:\n",
    "python\n",
    "Copy code\n",
    "decorated_add = greet(add)\n",
    "\n",
    "\n",
    "Here, greet(add) applies the greet decorator to the add function and returns the decorated function, which we assign to decorated_add.\n",
    "Calling the Decorated Function:\n",
    "python\n",
    "Copy code\n",
    "decorated_add(1, 2)\n",
    "\n",
    "\n",
    "After decoration, decorated_add becomes the modified function that includes the behavior defined within greet. Therefore, calling decorated_add(1, 2) executes the modified function with the provided arguments.\n",
    "\n",
    "\n",
    "  \n",
    "Putting these steps together, greet(add)(1, 2) combines decoration and function call into a single expression, where greet(add) applies the decorator, and (1, 2) are the arguments passed to the modified function. This syntax is concise and commonly used when applying decorators in Python.\n",
    "\n",
    "\"\"\"\n",
    "\n",
    "'''\n",
    "************************************\n",
    "\n",
    "What Happens Under the Hood?\n",
    "The Original Function Stays Intact: When the decorator (greet) is applied to the hello function, the original hello function is passed to the greet decorator. The decorator creates and returns the new wrapper function (mfx), but the original hello function itself remains unchanged in memory.\n",
    "\n",
    "python\n",
    "Copy code\n",
    "def greet(fx):      # fx is the original function (hello)\n",
    "    def mfx():      # mfx is the new wrapper function\n",
    "        print(\"Good Morning\")\n",
    "        fx()        # Call to the original function\n",
    "        print(\"Thanks for using this function\")\n",
    "    return mfx      # Return the wrapper function\n",
    "Reassignment Happens: When the decorator is applied using @greet, Python reassigns the name hello to point to the returned wrapper function (mfx):\n",
    "\n",
    "python\n",
    "Copy code\n",
    "hello = greet(hello)\n",
    "Now, the name hello refers to mfx, not the original hello.\n",
    "\n",
    "Original Function is Preserved: The original function (hello) is preserved inside the decorator, specifically as the fx parameter of the greet function.\n",
    "\n",
    "This means that the original hello function is still accessible and callable from within the wrapper (mfx), but you can't call it directly using the name hello anymore.\n",
    "\n",
    "Does the Original Function Get Updated?\n",
    "No, the original function is not updated or modified. Instead:\n",
    "\n",
    "The reference (hello) to the original function is replaced with the wrapper function (mfx).\n",
    "The original function is \"wrapped\" and is indirectly accessible through the wrapper function.\n",
    "Key Points to Remember:\n",
    "Original Function Exists in Memory: The original function (hello) is passed as an argument to the decorator and stored in the wrapper function. It’s not modified but used by the wrapper.\n",
    "\n",
    "Reassignment of the Name: The name (hello) is now associated with the wrapper function (mfx), which adds extra behavior around the original function.\n",
    "\n",
    "Calling Behavior: When you call hello(), you're actually calling the wrapper function (mfx), which can:\n",
    "\n",
    "Add behavior before and after the original function call.\n",
    "Call the original function as needed.\n",
    "\n",
    "****************************************************************\n",
    "'''\n",
    "print()"
   ]
  },
  {
   "cell_type": "markdown",
   "id": "aa6e37f9",
   "metadata": {},
   "source": [
    "# Property Decorator "
   ]
  },
  {
   "cell_type": "code",
   "execution_count": 20,
   "id": "e44f2141",
   "metadata": {},
   "outputs": [
    {
     "name": "stdout",
     "output_type": "stream",
     "text": [
      "-------------------Getter-------------------\n",
      "('Alice', 'Male', 'London')\n",
      "\n"
     ]
    }
   ],
   "source": [
    "print(\"-------------------Getter-------------------\")\n",
    "\n",
    "# Getter are the methods that are used to access the value of the object properties.They are used to return the values of specify properties of an object and are typically defined using the \"@property\" keyword\n",
    "\n",
    "# Getter are used to acces the values of the object properties (object instance variable)\n",
    "\n",
    "# Getter are used to get the values they donot take any parameter except self\n",
    "\"\"\"\n",
    "what is @property decorator?\n",
    "\n",
    "In Python, @property is a built-in decorator that allows you to define properties in classes. Properties are special attributes that have getter, setter, and deleter methods associated with them. The @property decorator is used to create a read-only property, meaning it allows you to define a method that can be accessed like an attribute but cannot be modified directly.\n",
    "\n",
    "Here's a brief explanation of the key aspects of @property:\n",
    "\n",
    "Getter Method: When you use @property above a method in a class, that method becomes a getter method for the property. It is called when you access the property.\n",
    "\n",
    "Read-only Access: By default, properties created with @property are read-only, meaning you can access them but cannot modify them directly. If you try to assign a value to such a property, it will raise an AttributeError.\n",
    "\n",
    "Syntax: The @property decorator is followed by a method name in the class. This method will act as the getter for the property.\n",
    "\n",
    "Usage: You typically use @property when you want to compute some value \n",
    "dynamically when accessing an attribute, or when you want to provide controlled access to an attribute.\n",
    "Here's an example to illustrate the usage of @property:\n",
    "\n",
    "\"\"\"\n",
    "\n",
    "\n",
    "class student:\n",
    "\n",
    "  def __init__(self, name, gender, country):\n",
    "    self.name = name\n",
    "    self.gender = gender\n",
    "    self.country = country\n",
    "\n",
    "  @property\n",
    "  def getter(self):\n",
    "    return self.name, self.gender, self.country\n",
    "\n",
    "  # We are Allowed to return mutiple values by separating using , from single return statement in python\n",
    "\n",
    "\n",
    "# Here the data in return statement is stored in tuple and is returned to the caller function\n",
    "\n",
    "s1 = student(\"Alice\", \"Male\", \"London\")\n",
    "print(s1.getter)\n",
    "\"\"\"\n",
    "\n",
    "In Python, when you define a method using the @property decorator, it transforms that method into a property. This property behaves like an attribute rather than a method, allowing you to access it without using parentheses as you would with a regular method call.\n",
    "\n",
    "When you access s1.getter, it calls the getter method internally due to the @property decorator, even though you don't use round brackets after s1.getter. This behavior is by design in Python and is what allows you to use properties seamlessly with attribute-like syntax.\n",
    "\n",
    "So, s1.getter is effectively calling the getter method, returning the value calculated inside the method (10 * self.marks in this case), just like accessing any other attribute of an object\n",
    "\n",
    "\n",
    "\"\"\"\n",
    "print()"
   ]
  },
  {
   "cell_type": "code",
   "execution_count": 21,
   "id": "5826a4aa",
   "metadata": {},
   "outputs": [
    {
     "name": "stdout",
     "output_type": "stream",
     "text": [
      "------------------Setter---------------------\n",
      "('Alice', 'MAle', 'London')\n",
      "('Alice', 'MAle', 'London')\n"
     ]
    }
   ],
   "source": [
    "print(\"------------------Setter---------------------\")\n",
    "\n",
    "# Setter are the methods that are used to modify the value of the object properties.\n",
    "# They are used to set the value of the object properties.\n",
    "# They are typically defined using the \"@property\" keyword and method name.setter\n",
    "\n",
    "# Syntax:\n",
    "\n",
    "# @value.setter(self):\n",
    "#   self.value  = new_Value\n",
    "\n",
    "# Setter are used to set the values they take one parameter self and new_value\n",
    "\n",
    "\n",
    "class Student:\n",
    "\n",
    "  def __init__(self, name, gender, country):\n",
    "    self.name = name\n",
    "    self.gender = gender\n",
    "    self.country = country\n",
    "\n",
    "  @property\n",
    "  def value(self):\n",
    "    return self.name, self.gender, self.country\n",
    "\n",
    "  @value.setter\n",
    "  def value(self, new_value):\n",
    "    self.name = new_value\n",
    "\n",
    "\n",
    "s1 = Student(\"GOGO\", \"MAle\", \"London\")\n",
    "# We get the data in the form of tuple\n",
    "# print(s1.value)\n",
    "s1.value = \"Alice\"\n",
    "print(s1.value)\n",
    "print(s1.value)\n"
   ]
  },
  {
   "cell_type": "markdown",
   "id": "71f5b1df",
   "metadata": {},
   "source": [
    "# why python does not support method overloading in the same way as other programming languages ?"
   ]
  },
  {
   "cell_type": "code",
   "execution_count": 2,
   "id": "cd93a0b3",
   "metadata": {},
   "outputs": [
    {
     "name": "stdout",
     "output_type": "stream",
     "text": [
      "Hello GOGO\n"
     ]
    }
   ],
   "source": [
    "# python does not support method overloading in the same way as statically-typed languages like Java or C++ due to the following reasons:\n",
    "\n",
    "# 1. Python's Dynamic Typing\n",
    "# Python is a dynamically-typed language, meaning the type of a variable is determined at runtime, not at compile time.\n",
    "# In statically-typed languages, method overloading is used to differentiate between methods based on argument types or counts. \n",
    "# However, Python functions can handle multiple types of arguments dynamically using *args, **kwargs, or default values, eliminating the need for strict method overloading.\n",
    "\n",
    "\n",
    "def greet(name,times=1):\n",
    "    for _ in range(times):\n",
    "        print(f\"Hello {name}\")\n",
    "        \n",
    "greet('GOGO')"
   ]
  },
  {
   "cell_type": "code",
   "execution_count": 3,
   "id": "fac77916",
   "metadata": {},
   "outputs": [],
   "source": [
    "# 2.No Compile-Time Method Resolution\n",
    "# In statically-typed languages, method overloading relies on compile-time method resolution. The compiler determines which method to invoke based on the argument types and counts.\n",
    "# Python, being an interpreted language, resolves method calls at runtime. Since all function definitions are treated as objects, the most recently defined method with the same name will override the previous ones."
   ]
  },
  {
   "cell_type": "markdown",
   "id": "66e841e4",
   "metadata": {},
   "source": [
    "# final decorator in place of final keyword "
   ]
  },
  {
   "cell_type": "code",
   "execution_count": 8,
   "id": "57f526c7",
   "metadata": {},
   "outputs": [
    {
     "name": "stdout",
     "output_type": "stream",
     "text": [
      "This is the info method of the class B\n",
      "This is a display method of the class A\n",
      "Hello from class A\n"
     ]
    }
   ],
   "source": [
    "# Python does not have a built-in final keyword like in Java or other languages to explicitly prevent overriding methods or modifying variables.\n",
    "# However, there are alternative approaches and conventions that can be used to achieve similar behavior.\n",
    "\n",
    "# Alternatives to the final Keyword in Python\n",
    "# 1. Preventing Method Overriding\n",
    "# To indicate that a method should not be overridden, Python relies on conventions and third-party tools.\n",
    "# Using @final Decorator (Introduced in Python 3.8):\n",
    "\n",
    "# Python provides a @final decorator in the typing module to indicate that a method or class should not be overridden. \n",
    "# It is not enforced by the interpreter but is a hint for developers and static analysis tools like mypy.\n",
    "\n",
    "from typing import final\n",
    "\n",
    "class A:\n",
    "    @final\n",
    "    def show(self):\n",
    "        print(\"Hello from class A\")\n",
    "    \n",
    "    def display(self):\n",
    "        print(\"This is a display method of the class A\")\n",
    "        \n",
    "class B(A):\n",
    "    def info(self):\n",
    "        print(\"This is the info method of the class B\")\n",
    "b = B()\n",
    "b.info()\n",
    "b.display()\n",
    "b.show()\n",
    "    "
   ]
  },
  {
   "cell_type": "code",
   "execution_count": null,
   "id": "0c88a76d",
   "metadata": {},
   "outputs": [],
   "source": []
  },
  {
   "cell_type": "markdown",
   "id": "45e284f0",
   "metadata": {},
   "source": [
    "# Class"
   ]
  },
  {
   "cell_type": "code",
   "execution_count": 6,
   "id": "65b659cd",
   "metadata": {},
   "outputs": [],
   "source": [
    "# class is the classification of the real world object. \n",
    "# class is the specific set of objects. \n",
    "# ALl the nouns are class.\n",
    "\n",
    "# Example:-class car there so many cars with different shapes and colors.\n",
    "# But not specify which car with which shape and color."
   ]
  },
  {
   "cell_type": "code",
   "execution_count": 8,
   "id": "d31c2ced",
   "metadata": {},
   "outputs": [],
   "source": [
    "# class keyword is used to define the class \n",
    "\n",
    "# syntax:-\n",
    "# class class_name:\n",
    "#     definition of the class\n"
   ]
  },
  {
   "cell_type": "code",
   "execution_count": 9,
   "id": "90ed9846",
   "metadata": {},
   "outputs": [],
   "source": [
    "class car:\n",
    "    pass"
   ]
  },
  {
   "cell_type": "code",
   "execution_count": 10,
   "id": "6043c06a",
   "metadata": {},
   "outputs": [],
   "source": [
    "audiq7 = car()"
   ]
  },
  {
   "cell_type": "code",
   "execution_count": 11,
   "id": "786c3791",
   "metadata": {},
   "outputs": [
    {
     "data": {
      "text/plain": [
       "<__main__.car at 0x216894ce590>"
      ]
     },
     "execution_count": 11,
     "metadata": {},
     "output_type": "execute_result"
    }
   ],
   "source": [
    "audiq7\n",
    "# main the super class of all the classes."
   ]
  },
  {
   "cell_type": "code",
   "execution_count": 14,
   "id": "f560f44f",
   "metadata": {},
   "outputs": [],
   "source": [
    "# We can direclty define milage,year,make,model\n",
    "# But we have defined the variable of the class audiq7 and we want to create the variable milage ,year,model,make for whom,for the class car so we have to assoicate with them.\n",
    "# We can associate the variable milage,year,make,model with variable of the class with dot operator.\n",
    "\n",
    "audiq7.year = 2017\n",
    "audiq7.milage = 13\n",
    "audiq7.model = 'q7'"
   ]
  },
  {
   "cell_type": "code",
   "execution_count": 15,
   "id": "6a3cb106",
   "metadata": {},
   "outputs": [
    {
     "data": {
      "text/plain": [
       "2017"
      ]
     },
     "execution_count": 15,
     "metadata": {},
     "output_type": "execute_result"
    }
   ],
   "source": [
    "audiq7.year"
   ]
  },
  {
   "cell_type": "code",
   "execution_count": 16,
   "id": "64fe45cd",
   "metadata": {},
   "outputs": [
    {
     "data": {
      "text/plain": [
       "'q7'"
      ]
     },
     "execution_count": 16,
     "metadata": {},
     "output_type": "execute_result"
    }
   ],
   "source": [
    "audiq7.model"
   ]
  },
  {
   "cell_type": "code",
   "execution_count": 17,
   "id": "3dec2382",
   "metadata": {},
   "outputs": [],
   "source": [
    "nano = car()"
   ]
  },
  {
   "cell_type": "code",
   "execution_count": 18,
   "id": "8e7e800f",
   "metadata": {},
   "outputs": [],
   "source": [
    "nano.year = 2017\n",
    "nano.milage = 13\n",
    "nano.model = 'ghjk'\n",
    "nano.engineno = 12345678"
   ]
  },
  {
   "cell_type": "code",
   "execution_count": 19,
   "id": "db19416c",
   "metadata": {},
   "outputs": [
    {
     "data": {
      "text/plain": [
       "2017"
      ]
     },
     "execution_count": 19,
     "metadata": {},
     "output_type": "execute_result"
    }
   ],
   "source": [
    "nano.year"
   ]
  },
  {
   "cell_type": "code",
   "execution_count": 20,
   "id": "304ff746",
   "metadata": {},
   "outputs": [
    {
     "data": {
      "text/plain": [
       "12345678"
      ]
     },
     "execution_count": 20,
     "metadata": {},
     "output_type": "execute_result"
    }
   ],
   "source": [
    "nano.engineno"
   ]
  },
  {
   "cell_type": "code",
   "execution_count": null,
   "id": "578183c1",
   "metadata": {},
   "outputs": [],
   "source": [
    "# But here a problem is that we haven't defined the definition of the class due which common properities and variables are defined multiple times."
   ]
  },
  {
   "cell_type": "markdown",
   "id": "353480af",
   "metadata": {},
   "source": [
    "# Object "
   ]
  },
  {
   "cell_type": "code",
   "execution_count": 2,
   "id": "87405f33",
   "metadata": {},
   "outputs": [],
   "source": [
    "# class is the classification of the real world object. \n",
    "# Object is the real world entity.\n",
    "# Object is the variable of the class.\n",
    "\n",
    "# Example:\n",
    "\n",
    "# class car there so many cars with different shapes and colors.\n",
    "# But we can differentiate between two cars audi and bwx as they were real world entity, the class car is not the real world entity it just used for the classification of the objects like audi and bmw.\n"
   ]
  },
  {
   "cell_type": "code",
   "execution_count": 3,
   "id": "3f0820eb",
   "metadata": {},
   "outputs": [],
   "source": [
    "# a = 10\n",
    "# a is the variable of the integer class.\n",
    "# integer class is the classification of the variable of the class a."
   ]
  },
  {
   "cell_type": "code",
   "execution_count": 4,
   "id": "44182dbb",
   "metadata": {},
   "outputs": [],
   "source": [
    "# When we say integer class we can generate number from 0 to infinity \n",
    "# So when we talk about the integer class, we will not be getting an idea about which integer we are talking."
   ]
  },
  {
   "cell_type": "code",
   "execution_count": 5,
   "id": "5675869d",
   "metadata": {},
   "outputs": [],
   "source": [
    "# list,tuple,int,complex.. etc all these are the classification of the objects. "
   ]
  },
  {
   "cell_type": "code",
   "execution_count": 21,
   "id": "bcbe91d9",
   "metadata": {},
   "outputs": [],
   "source": [
    "# Object are nothing but the variable of the class by which you will be able to represent real data or real world entity."
   ]
  },
  {
   "cell_type": "code",
   "execution_count": 22,
   "id": "37bcba9f",
   "metadata": {},
   "outputs": [],
   "source": [
    "class car:\n",
    "    pass"
   ]
  },
  {
   "cell_type": "code",
   "execution_count": 25,
   "id": "2b7e842d",
   "metadata": {},
   "outputs": [],
   "source": [
    "# Here nano is the object of the class\n",
    "nano = car()"
   ]
  },
  {
   "cell_type": "code",
   "execution_count": 26,
   "id": "d5ea6c89",
   "metadata": {},
   "outputs": [],
   "source": [
    "nano.year = 2017\n",
    "nano.milage = 13\n",
    "nano.model = 'ghjk'\n",
    "nano.engineno = 12345678"
   ]
  },
  {
   "cell_type": "markdown",
   "id": "7b97fd64",
   "metadata": {},
   "source": [
    "# Constructor"
   ]
  },
  {
   "cell_type": "code",
   "execution_count": 27,
   "id": "2a6f325b",
   "metadata": {},
   "outputs": [],
   "source": [
    "# __init__ method in python is the constructor.\n",
    "# Which is used to pass the data to the class.self points to the class itself.\n",
    "# self points to the class itself.\n"
   ]
  },
  {
   "cell_type": "code",
   "execution_count": 51,
   "id": "0a22a3ce",
   "metadata": {},
   "outputs": [],
   "source": [
    "class Car:\n",
    "    def __init__(self,milage,make,year,model):\n",
    "        self.milage = milage\n",
    "        self.make = make\n",
    "        self.year = year\n",
    "        self.model = model"
   ]
  },
  {
   "cell_type": "code",
   "execution_count": 52,
   "id": "7187c9d9",
   "metadata": {},
   "outputs": [
    {
     "name": "stdout",
     "output_type": "stream",
     "text": [
      "<__main__.Car object at 0x000002168A55F410>\n"
     ]
    }
   ],
   "source": [
    "nano = Car(20,789000,2017,'hjk')\n",
    "print(nano)\n",
    "audi = Car(10,5678900,2017,'ghj')"
   ]
  },
  {
   "cell_type": "code",
   "execution_count": 33,
   "id": "98890a46",
   "metadata": {},
   "outputs": [
    {
     "data": {
      "text/plain": [
       "20"
      ]
     },
     "execution_count": 33,
     "metadata": {},
     "output_type": "execute_result"
    }
   ],
   "source": [
    "nano.milage"
   ]
  },
  {
   "cell_type": "code",
   "execution_count": 34,
   "id": "6e984c57",
   "metadata": {},
   "outputs": [
    {
     "data": {
      "text/plain": [
       "789000"
      ]
     },
     "execution_count": 34,
     "metadata": {},
     "output_type": "execute_result"
    }
   ],
   "source": [
    "nano.make"
   ]
  },
  {
   "cell_type": "code",
   "execution_count": 35,
   "id": "8d021664",
   "metadata": {},
   "outputs": [
    {
     "data": {
      "text/plain": [
       "2017"
      ]
     },
     "execution_count": 35,
     "metadata": {},
     "output_type": "execute_result"
    }
   ],
   "source": [
    "nano.year"
   ]
  },
  {
   "cell_type": "code",
   "execution_count": 36,
   "id": "8677b834",
   "metadata": {},
   "outputs": [
    {
     "data": {
      "text/plain": [
       "'hjk'"
      ]
     },
     "execution_count": 36,
     "metadata": {},
     "output_type": "execute_result"
    }
   ],
   "source": [
    "nano.model"
   ]
  },
  {
   "cell_type": "code",
   "execution_count": 49,
   "id": "9cd5ba50",
   "metadata": {},
   "outputs": [
    {
     "name": "stdout",
     "output_type": "stream",
     "text": [
      "<__main__.Car object at 0x000002168A55DD90>\n"
     ]
    }
   ],
   "source": [
    "class Car:\n",
    "    def __init__(self,milage,make,year,model):\n",
    "        print(self)\n",
    "        self.milage = milage\n",
    "        self.make = make\n",
    "        self.year = year\n",
    "        self.model = model\n",
    "        \n",
    "nano = Car(20,789000,2017,'hjk')\n",
    "# The first parameter of any method inside the class act as the self.\n",
    "# self is the variable of the class."
   ]
  },
  {
   "cell_type": "code",
   "execution_count": 47,
   "id": "ee2b6e26",
   "metadata": {},
   "outputs": [],
   "source": [
    "# class Car:\n",
    "#     def __init__(self,self):\n",
    "#         self.self = self \n",
    "# nano = Car(10)\n",
    "\n",
    "# gives the error of duplicate variable declaration in the function definition."
   ]
  },
  {
   "cell_type": "code",
   "execution_count": 53,
   "id": "b775f13f",
   "metadata": {},
   "outputs": [],
   "source": [
    "class Car:\n",
    "    def __init__(self,milage,make,year,model):\n",
    "        \n",
    "#         self.milage is the class variable and self itself point to the class.\n",
    "        self.milage = milage\n",
    "        self.make = make\n",
    "        self.year = year\n",
    "        self.model = model\n",
    "        \n",
    "nano = Car(20,789000,2017,'hjk')"
   ]
  },
  {
   "cell_type": "code",
   "execution_count": 54,
   "id": "7efe86f5",
   "metadata": {},
   "outputs": [
    {
     "data": {
      "text/plain": [
       "'hjk'"
      ]
     },
     "execution_count": 54,
     "metadata": {},
     "output_type": "execute_result"
    }
   ],
   "source": [
    "nano.model"
   ]
  },
  {
   "cell_type": "code",
   "execution_count": 63,
   "id": "8ccf26ab",
   "metadata": {},
   "outputs": [
    {
     "data": {
      "text/plain": [
       "3"
      ]
     },
     "execution_count": 63,
     "metadata": {},
     "output_type": "execute_result"
    }
   ],
   "source": [
    "class Car:\n",
    "    def __init__(self,milage,make,year,model):\n",
    "        self.milage = milage\n",
    "        self.make = make\n",
    "        self.year = year\n",
    "        self.model = model\n",
    "        \n",
    "    def age(self,current_year):\n",
    "        return current_year - self.year\n",
    "    \n",
    "    def milage1(self):\n",
    "        print(\"The milage of the car is\",self.milage)\n",
    "    \n",
    "audi = Car(10,67890098,2012,'q7')\n",
    "audi.age(2015)"
   ]
  },
  {
   "cell_type": "code",
   "execution_count": 64,
   "id": "315c8737",
   "metadata": {},
   "outputs": [
    {
     "name": "stdout",
     "output_type": "stream",
     "text": [
      "The milage of the car is 10\n"
     ]
    }
   ],
   "source": [
    "audi.milage1()"
   ]
  },
  {
   "cell_type": "markdown",
   "id": "9ebf51e4",
   "metadata": {},
   "source": [
    "# __str__ method"
   ]
  },
  {
   "cell_type": "code",
   "execution_count": 71,
   "id": "4ade7416",
   "metadata": {},
   "outputs": [
    {
     "name": "stdout",
     "output_type": "stream",
     "text": [
      "this is the string representation of the object\n",
      "this is the string representation of the object\n",
      "this is the string representation of the object\n"
     ]
    }
   ],
   "source": [
    "# This is the method which is responsible for the string representation of the object.\n",
    "# Whenver the any object is printed internally this method is called.\n",
    "\n",
    "\n",
    "class Test:\n",
    "    def __init__(self,a):\n",
    "        self.a = a\n",
    "        \n",
    "    def __str__(self):\n",
    "        return \"this is the string representation of the object\"\n",
    "t1 = Test(10)    \n",
    "print(t1)\n",
    "print(t1.__str__())\n",
    "print(str(t1))"
   ]
  },
  {
   "cell_type": "code",
   "execution_count": 96,
   "id": "c7599d02",
   "metadata": {},
   "outputs": [],
   "source": [
    "class Student:\n",
    "    def __init__(self,name,rollno,joining_date,current_topic):\n",
    "        self.name = name\n",
    "        self.rollno = rollno\n",
    "        self.joining_date = joining_date\n",
    "        self.current_topic = current_topic\n",
    "        \n",
    "        \n",
    "    def name_parsing(self):\n",
    "        if type(self.name)==list:\n",
    "            for i in self.name:\n",
    "                print(\"name of the student is\",i)\n",
    "        else:\n",
    "            print(\"provided name is not in the list form\")\n",
    "    \n",
    "    def crt_topic(self):\n",
    "        print(\"Current topic discussed in my class is\",self.current_topic)\n",
    "    \n",
    "    def str_rollno(self):\n",
    "        if type(self.rollno)==str:\n",
    "            print(\"no thing\")\n",
    "        else:\n",
    "            return str(self.rollno)\n",
    "    \n",
    "    def duration(self,current_date):\n",
    "        print(\"Duration of student in my class is \",current_date-self.joining_date)\n",
    "    \n",
    "    def __str__(self):\n",
    "        return \"this is a student class where they can try to input there own data and they can try to fetch it.\"\n",
    "    \n"
   ]
  },
  {
   "cell_type": "code",
   "execution_count": 97,
   "id": "0531c722",
   "metadata": {},
   "outputs": [
    {
     "name": "stdout",
     "output_type": "stream",
     "text": [
      "Current topic discussed in my class is html\n"
     ]
    }
   ],
   "source": [
    "s1 = Student('GOGO',12345,1990,'html')\n",
    "s1.crt_topic()"
   ]
  },
  {
   "cell_type": "code",
   "execution_count": 98,
   "id": "6db501f4",
   "metadata": {},
   "outputs": [
    {
     "data": {
      "text/plain": [
       "'12345'"
      ]
     },
     "execution_count": 98,
     "metadata": {},
     "output_type": "execute_result"
    }
   ],
   "source": [
    "s1.str_rollno()"
   ]
  },
  {
   "cell_type": "code",
   "execution_count": 99,
   "id": "9db16833",
   "metadata": {},
   "outputs": [
    {
     "name": "stdout",
     "output_type": "stream",
     "text": [
      "Duration of student in my class is  21\n"
     ]
    }
   ],
   "source": [
    "s1.duration(2011)"
   ]
  },
  {
   "cell_type": "code",
   "execution_count": 100,
   "id": "84f0ad53",
   "metadata": {},
   "outputs": [
    {
     "name": "stdout",
     "output_type": "stream",
     "text": [
      "this is a student class where they can try to input there own data and they can try to fetch it.\n"
     ]
    }
   ],
   "source": [
    "print(s1)"
   ]
  },
  {
   "cell_type": "code",
   "execution_count": 101,
   "id": "fc692039",
   "metadata": {},
   "outputs": [],
   "source": [
    "s2 = Student(['name1','name2','name3'],[10,20,30],1990,'JS')"
   ]
  },
  {
   "cell_type": "code",
   "execution_count": 135,
   "id": "c9f132e1",
   "metadata": {},
   "outputs": [
    {
     "data": {
      "text/plain": [
       "'C:\\\\Users\\\\Aryan'"
      ]
     },
     "execution_count": 135,
     "metadata": {},
     "output_type": "execute_result"
    }
   ],
   "source": [
    "import logging as lg\n",
    "import os\n",
    "\n",
    "os.getcwd()"
   ]
  },
  {
   "cell_type": "code",
   "execution_count": 201,
   "id": "e2383f8b",
   "metadata": {},
   "outputs": [],
   "source": [
    "for handler in lg.root.handlers[:]:\n",
    "    lg.root.removeHandler(handler)\n",
    "\n",
    "class Data:\n",
    "    \n",
    "    def __init__(self,filename,filetype,size,date):\n",
    "        self.filename = filename\n",
    "        self.filetype = filetype\n",
    "        self.size = size \n",
    "        self.date = date\n",
    "    \n",
    "    def file_open(self):\n",
    "        try:\n",
    "            full_name = self.filename+self.filetype\n",
    "            if not os.path.exists(os.getcwd()+\"/\"+full_name):\n",
    "                f = open(full_name,'w')\n",
    "                f.write(\"Inside the file\")\n",
    "                self.logger(full_name,'File is created')\n",
    "            else:\n",
    "                print(\"File already exist you can read its content\")\n",
    "        \n",
    "        except FileError as e:\n",
    "            print(e)\n",
    "            \n",
    "    def file_read(self):\n",
    "        full_name = self.filename+self.filetype\n",
    "        if os.path.exists(os.getcwd()+\"/\"+full_name):\n",
    "            f = open(full_name,'r')\n",
    "            print(f.read())\n",
    "            self.logger(full_name,'Data is readed')\n",
    "        \n",
    "    def file_append(self):\n",
    "        full_name = self.filename+self.filetype\n",
    "        if  os.path.exists(os.getcwd()+\"/\"+full_name):\n",
    "            f = open(full_name,'a')\n",
    "            f.write(\"appending the content to the end of the file.\")\n",
    "            self.logger(full_name,'Data is appended')\n",
    "        else:\n",
    "            print(\"File does not exist\")\n",
    "            \n",
    "    def logger(self,full_name,data):\n",
    "        lg.basicConfig(filename='test5.log',level=lg.INFO)\n",
    "        lg.info(f\"The file name is {str(full_name)} and data is {str(data)}\")\n"
   ]
  },
  {
   "cell_type": "code",
   "execution_count": 202,
   "id": "f8d153f7",
   "metadata": {},
   "outputs": [],
   "source": [
    "d1 = Data('test4','.log',12,'12/12/11')"
   ]
  },
  {
   "cell_type": "code",
   "execution_count": 203,
   "id": "9c94bb83",
   "metadata": {},
   "outputs": [
    {
     "name": "stdout",
     "output_type": "stream",
     "text": [
      "File already exist you can read its content\n"
     ]
    }
   ],
   "source": [
    "d1.file_open()"
   ]
  },
  {
   "cell_type": "code",
   "execution_count": 204,
   "id": "b239fa28",
   "metadata": {},
   "outputs": [
    {
     "name": "stdout",
     "output_type": "stream",
     "text": [
      "Inside the fileappending the content to the end of the file.appending the content to the end of the file.appending the content to the end of the file.appending the content to the end of the file.appending the content to the end of the file.appending the content to the end of the file.appending the content to the end of the file.appending the content to the end of the file.appending the content to the end of the file.appending the content to the end of the file.\n"
     ]
    }
   ],
   "source": [
    "d1.file_read()"
   ]
  },
  {
   "cell_type": "code",
   "execution_count": 205,
   "id": "b5b1c18a",
   "metadata": {},
   "outputs": [],
   "source": [
    "d1.file_append()"
   ]
  },
  {
   "cell_type": "code",
   "execution_count": 206,
   "id": "bbb81696",
   "metadata": {},
   "outputs": [
    {
     "name": "stdout",
     "output_type": "stream",
     "text": [
      "Inside the fileappending the content to the end of the file.appending the content to the end of the file.appending the content to the end of the file.appending the content to the end of the file.appending the content to the end of the file.appending the content to the end of the file.appending the content to the end of the file.appending the content to the end of the file.appending the content to the end of the file.appending the content to the end of the file.appending the content to the end of the file.\n"
     ]
    }
   ],
   "source": [
    "d1.file_read()"
   ]
  },
  {
   "cell_type": "code",
   "execution_count": null,
   "id": "7bd8ca75",
   "metadata": {},
   "outputs": [],
   "source": []
  },
  {
   "cell_type": "code",
   "execution_count": null,
   "id": "3577bb0e",
   "metadata": {},
   "outputs": [],
   "source": []
  },
  {
   "cell_type": "code",
   "execution_count": null,
   "id": "b6da621d",
   "metadata": {},
   "outputs": [],
   "source": []
  }
 ],
 "metadata": {
  "kernelspec": {
   "display_name": "Python 3 (ipykernel)",
   "language": "python",
   "name": "python3"
  },
  "language_info": {
   "codemirror_mode": {
    "name": "ipython",
    "version": 3
   },
   "file_extension": ".py",
   "mimetype": "text/x-python",
   "name": "python",
   "nbconvert_exporter": "python",
   "pygments_lexer": "ipython3",
   "version": "3.11.5"
  }
 },
 "nbformat": 4,
 "nbformat_minor": 5
}
