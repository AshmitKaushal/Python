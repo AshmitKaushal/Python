{
 "cells": [
  {
   "cell_type": "markdown",
   "id": "777a58a8",
   "metadata": {},
   "source": [
    "# List "
   ]
  },
  {
   "cell_type": "code",
   "execution_count": 1,
   "id": "a5d3dad1",
   "metadata": {},
   "outputs": [],
   "source": [
    "# List is the heterogenous data structure\n",
    "# list is mutable which means that once the list is created it can be changed.\n",
    "# list are ordered which means element of the list can be accessed using a unique number knows as indexs.\n",
    "# list is created using []."
   ]
  },
  {
   "cell_type": "code",
   "execution_count": 2,
   "id": "9ba8d63a",
   "metadata": {},
   "outputs": [
    {
     "name": "stdout",
     "output_type": "stream",
     "text": [
      "[10, 30, 40, 'Hello', True, (18+9j)]\n",
      "<class 'list'>\n"
     ]
    }
   ],
   "source": [
    "l1 = [10,30,40,'Hello',True,18+9j]\n",
    "print(l1)\n",
    "print(type(l1))"
   ]
  },
  {
   "cell_type": "code",
   "execution_count": 30,
   "id": "ae85dca6",
   "metadata": {},
   "outputs": [
    {
     "name": "stdout",
     "output_type": "stream",
     "text": [
      "[]\n",
      "<class 'list'>\n"
     ]
    }
   ],
   "source": [
    "# we also create the list using list constructor.\n",
    "# But in the list constructor we can only pass the iterable object like tuple,string,set etc.\n",
    "l1 = list()\n",
    "print(l1)\n",
    "print(type(l1))\n"
   ]
  },
  {
   "cell_type": "markdown",
   "id": "28d32e74",
   "metadata": {},
   "source": [
    "# Indexing in list"
   ]
  },
  {
   "cell_type": "code",
   "execution_count": 3,
   "id": "ddd2cd01",
   "metadata": {},
   "outputs": [
    {
     "name": "stdout",
     "output_type": "stream",
     "text": [
      "[10, 20, 30, 40, 50]\n",
      "<class 'list'>\n"
     ]
    }
   ],
   "source": [
    "\n",
    "l1 = [10,20,30,40,50]\n",
    "print(l1)\n",
    "print(type(l1))"
   ]
  },
  {
   "cell_type": "code",
   "execution_count": 6,
   "id": "da5ced6a",
   "metadata": {},
   "outputs": [
    {
     "name": "stdout",
     "output_type": "stream",
     "text": [
      "10\n",
      "20\n",
      "50\n"
     ]
    }
   ],
   "source": [
    "# Postive indexing\n",
    "print(l1[0])\n",
    "print(l1[1])\n",
    "print(l1[4])"
   ]
  },
  {
   "cell_type": "code",
   "execution_count": 11,
   "id": "2fb7f864",
   "metadata": {},
   "outputs": [
    {
     "name": "stdout",
     "output_type": "stream",
     "text": [
      "50\n",
      "50\n",
      "40\n",
      "30\n",
      "20\n",
      "10\n"
     ]
    }
   ],
   "source": [
    "# Negative Indexing\n",
    "print(l1[-1])\n",
    "\n",
    "# it internally written like that\n",
    "print(l1[len(l1)-1])\n",
    "print(l1[-2])\n",
    "print(l1[-3])\n",
    "print(l1[-4])\n",
    "print(l1[-5])"
   ]
  },
  {
   "cell_type": "markdown",
   "id": "861cca6d",
   "metadata": {},
   "source": [
    "# Slicing in list"
   ]
  },
  {
   "cell_type": "code",
   "execution_count": 12,
   "id": "7f5c7f72",
   "metadata": {},
   "outputs": [
    {
     "name": "stdout",
     "output_type": "stream",
     "text": [
      "[10, 20, 30, 40, 50]\n",
      "[10, 20, 30, 40, 50]\n"
     ]
    }
   ],
   "source": [
    "l1 = [10,20,30,40,50]\n",
    "print(l1)"
   ]
  },
  {
   "cell_type": "code",
   "execution_count": 13,
   "id": "76a4fb83",
   "metadata": {},
   "outputs": [
    {
     "name": "stdout",
     "output_type": "stream",
     "text": [
      "[10, 20, 30, 40, 50]\n"
     ]
    }
   ],
   "source": [
    "# return the whole list\n",
    "print(l1[:])"
   ]
  },
  {
   "cell_type": "code",
   "execution_count": 14,
   "id": "bc594ba4",
   "metadata": {},
   "outputs": [
    {
     "name": "stdout",
     "output_type": "stream",
     "text": [
      "[10, 20, 30, 40, 50]\n"
     ]
    }
   ],
   "source": [
    "print(l1[0:len(l1)])"
   ]
  },
  {
   "cell_type": "code",
   "execution_count": 15,
   "id": "98f6e5b8",
   "metadata": {},
   "outputs": [
    {
     "name": "stdout",
     "output_type": "stream",
     "text": [
      "[10, 20, 30, 40, 50]\n"
     ]
    }
   ],
   "source": [
    "print(l1[0:])"
   ]
  },
  {
   "cell_type": "code",
   "execution_count": 16,
   "id": "17af785f",
   "metadata": {},
   "outputs": [
    {
     "name": "stdout",
     "output_type": "stream",
     "text": [
      "[10, 20, 30, 40, 50]\n"
     ]
    }
   ],
   "source": [
    "print(l1[:len(l1)])"
   ]
  },
  {
   "cell_type": "code",
   "execution_count": 17,
   "id": "6d5b2c8b",
   "metadata": {},
   "outputs": [
    {
     "name": "stdout",
     "output_type": "stream",
     "text": [
      "[20, 30, 40]\n"
     ]
    }
   ],
   "source": [
    "print(l1[1:4])"
   ]
  },
  {
   "cell_type": "markdown",
   "id": "30e6b655",
   "metadata": {},
   "source": [
    "# Negative slicing in list"
   ]
  },
  {
   "cell_type": "code",
   "execution_count": 19,
   "id": "e7547fc3",
   "metadata": {},
   "outputs": [
    {
     "name": "stdout",
     "output_type": "stream",
     "text": [
      "[50]\n"
     ]
    }
   ],
   "source": [
    "# Bydefault the stop parameter is the len of the list.\n",
    "print(l1[-1:])"
   ]
  },
  {
   "cell_type": "code",
   "execution_count": 20,
   "id": "7ae34e3d",
   "metadata": {},
   "outputs": [
    {
     "name": "stdout",
     "output_type": "stream",
     "text": [
      "[20, 30, 40, 50]\n"
     ]
    }
   ],
   "source": [
    "print(l1[-4:len(l1)])"
   ]
  },
  {
   "cell_type": "code",
   "execution_count": 22,
   "id": "a6c88bb1",
   "metadata": {},
   "outputs": [
    {
     "name": "stdout",
     "output_type": "stream",
     "text": [
      "[50, 40, 30]\n"
     ]
    }
   ],
   "source": [
    "# Stop index -1 indicate that the we are going in the backward direction.\n",
    "print(l1[-1:-4:-1])"
   ]
  },
  {
   "cell_type": "code",
   "execution_count": 23,
   "id": "bccaabea",
   "metadata": {},
   "outputs": [
    {
     "name": "stdout",
     "output_type": "stream",
     "text": [
      "[]\n"
     ]
    }
   ],
   "source": [
    "# It will return empty list bcz the stop parameter is positive bydefault \n",
    "# which indicate that we going in the forward direction.\n",
    "print(l1[-1:-4])"
   ]
  },
  {
   "cell_type": "code",
   "execution_count": 25,
   "id": "8440c126",
   "metadata": {},
   "outputs": [
    {
     "name": "stdout",
     "output_type": "stream",
     "text": [
      "[10, 20, 30, 40, 50]\n"
     ]
    }
   ],
   "source": [
    "# if we pass the the stop parameter greater than the length of the list while doing slicing.\n",
    "# then the it will replace stop parameter with length of the list.\n",
    "print(l1[:100])"
   ]
  },
  {
   "cell_type": "code",
   "execution_count": 33,
   "id": "5261f0e7",
   "metadata": {},
   "outputs": [
    {
     "name": "stdout",
     "output_type": "stream",
     "text": [
      "[10, 20, 30]\n",
      "[30, 20, 10]\n"
     ]
    }
   ],
   "source": [
    "# reverse the list\n",
    "l1 = [10,20,30]\n",
    "res = l1[::-1]\n",
    "print(l1)\n",
    "print(res)"
   ]
  },
  {
   "cell_type": "code",
   "execution_count": 12,
   "id": "934f4ee1",
   "metadata": {},
   "outputs": [
    {
     "name": "stdout",
     "output_type": "stream",
     "text": [
      "['hello', 90, 10, (9+9j), True, [3, 5, 6, 'dfg']]\n",
      "<class 'list'>\n",
      "<class 'int'>\n",
      "<class 'int'>\n",
      "<class 'int'>\n",
      "<class 'str'>\n"
     ]
    }
   ],
   "source": [
    "l1 = [\"hello\",90,10,9+9j,True,[3,5,6,'dfg']]\n",
    "print(l1)\n",
    "print(type(l1))\n",
    "\n",
    "for i in l1:\n",
    "    if type(i)==list:\n",
    "        for j in i:\n",
    "            print(type(j))"
   ]
  },
  {
   "cell_type": "markdown",
   "id": "e9c11011",
   "metadata": {},
   "source": [
    "# range function"
   ]
  },
  {
   "cell_type": "code",
   "execution_count": null,
   "id": "e18ef1d5",
   "metadata": {},
   "outputs": [],
   "source": [
    "# the range() function in Python returns a range object, which is an immutable sequence of numbers.\n",
    "# \n",
    "# Key Characteristics of a range Object:\n",
    "\n",
    "# Lazy Evaluation:\n",
    "# A range object does not generate all numbers at once. \n",
    "# Instead, it calculates each number in the sequence as needed (on demand). \n",
    "# This makes it memory-efficient.\n",
    "\n",
    "# Immutable:\n",
    "# Once created, a range object cannot be modified.\n",
    "\n",
    "# Iterable:\n",
    "# You can iterate over a range object using loops (e.g., for loops).\n",
    "\n",
    "# Supports Membership Testing:\n",
    "# You can use the in operator to check if a number exists in the sequence"
   ]
  },
  {
   "cell_type": "code",
   "execution_count": 13,
   "id": "b4fe8810",
   "metadata": {},
   "outputs": [
    {
     "name": "stdout",
     "output_type": "stream",
     "text": [
      "range(0, 10)\n",
      "range(0, 10)\n",
      "<class 'range'>\n"
     ]
    }
   ],
   "source": [
    "# '''The range() function in Python is used to generate a sequence of numbers. \n",
    "# It's commonly used in loops to iterate over a sequence of numbers.\n",
    "\n",
    "# Syntax:\n",
    "\n",
    "# range(start, stop, step)\n",
    "# start: (Optional) The starting number of the sequence. Default is 0.\n",
    "# stop: (Required) The number at which the sequence ends (exclusive).\n",
    "# step: (Optional) The difference between each number in the sequence. Default is 1.\n",
    "# '''\n",
    "\n",
    "print(range(0,10))\n",
    "r = range(0,10)\n",
    "print(r)\n",
    "print(type(r))"
   ]
  },
  {
   "cell_type": "code",
   "execution_count": 15,
   "id": "393ef68a",
   "metadata": {},
   "outputs": [
    {
     "name": "stdout",
     "output_type": "stream",
     "text": [
      "Memory used by the range object 48\n",
      "Memory used by the list object 136\n"
     ]
    }
   ],
   "source": [
    "# Why the range is memory efficient \n",
    "\n",
    "# The range object in Python is memory-efficient because it does not store all the numbers in the range in memory. \n",
    "# Instead, it generates each number on demand using a technique called lazy evaluation. Here's how it works:\n",
    "\n",
    "\n",
    "import sys\n",
    "\n",
    "print(\"Memory used by the range object\",sys.getsizeof(range(10)))\n",
    "print(\"Memory used by the list object\",sys.getsizeof(list(range(10))))"
   ]
  },
  {
   "cell_type": "markdown",
   "id": "f975e888",
   "metadata": {},
   "source": [
    "# Indexing in range "
   ]
  },
  {
   "cell_type": "code",
   "execution_count": 22,
   "id": "4134dc56",
   "metadata": {},
   "outputs": [
    {
     "name": "stdout",
     "output_type": "stream",
     "text": [
      "range(1, 11)\n",
      "2 <class 'int'>\n",
      "10 <class 'int'>\n",
      "\n"
     ]
    }
   ],
   "source": [
    "# Range function support indexing which means we can access a particular elements from the range function\n",
    "r = range(1,11)\n",
    "print(r)\n",
    "print(r[1],type(r[1]))\n",
    "print(r[-1],type(r[-1]))\n",
    "print()"
   ]
  },
  {
   "cell_type": "markdown",
   "id": "d65c2198",
   "metadata": {},
   "source": [
    "# Slicing in Range function"
   ]
  },
  {
   "cell_type": "code",
   "execution_count": 23,
   "id": "51073c02",
   "metadata": {},
   "outputs": [
    {
     "name": "stdout",
     "output_type": "stream",
     "text": [
      "range(1, 11)\n",
      "<class 'range'>\n"
     ]
    }
   ],
   "source": [
    "# In Python, slicing a range object returns another range object because range is designed to be a lazy sequence that generates values on-demand, \n",
    "# and the slicing operation is intended to create a new range that still behaves efficiently without creating an entirely new list of values.\n",
    "\n",
    "\n",
    "# Slicing the range return the range object bcz range are lazy evaluated which generate the value on demand.\n",
    "# and if we slice the range and range return the sequence of number at the same time which is against the feature of the range function to generate the one value on demand.\n",
    "# so, on slicing the range function return the another efficient range function.\n",
    "r = range(1,11)\n",
    "print(r)\n",
    "\n",
    "r1 = r[1:5]\n",
    "print(type(r1))"
   ]
  },
  {
   "cell_type": "markdown",
   "id": "fe8981ac",
   "metadata": {},
   "source": [
    "# Iterating List"
   ]
  },
  {
   "cell_type": "code",
   "execution_count": 37,
   "id": "5582f44c",
   "metadata": {},
   "outputs": [
    {
     "name": "stdout",
     "output_type": "stream",
     "text": [
      "[10, 20, 30, 40]\n"
     ]
    }
   ],
   "source": [
    "l1 = [10,20,30,40]\n",
    "print(l1)"
   ]
  },
  {
   "cell_type": "code",
   "execution_count": 39,
   "id": "d77f3cb3",
   "metadata": {},
   "outputs": [
    {
     "name": "stdout",
     "output_type": "stream",
     "text": [
      "10 20 30 40 "
     ]
    }
   ],
   "source": [
    "# for loop in list\n",
    "for i in l1:\n",
    "    print(i,end=' ')"
   ]
  },
  {
   "cell_type": "code",
   "execution_count": 40,
   "id": "d36a6f54",
   "metadata": {},
   "outputs": [
    {
     "name": "stdout",
     "output_type": "stream",
     "text": [
      "10 20 30 40 "
     ]
    }
   ],
   "source": [
    "for i in range(len(l1)):\n",
    "    print(l1[i],end=' ')\n",
    "        "
   ]
  },
  {
   "cell_type": "code",
   "execution_count": 25,
   "id": "d268a198",
   "metadata": {},
   "outputs": [
    {
     "name": "stdout",
     "output_type": "stream",
     "text": [
      "10 20 30 40 "
     ]
    }
   ],
   "source": [
    "# while loop in list\n",
    "l1 = [10,20,30,40]\n",
    "i = 0\n",
    "while i<len(l1):\n",
    "    print(l1[i],end=' ')\n",
    "    i = i + 1"
   ]
  },
  {
   "cell_type": "markdown",
   "id": "1bdb7cc6",
   "metadata": {},
   "source": [
    "# list method "
   ]
  },
  {
   "cell_type": "code",
   "execution_count": 28,
   "id": "45d910bf",
   "metadata": {},
   "outputs": [
    {
     "name": "stdout",
     "output_type": "stream",
     "text": [
      "---------------len method----------------\n",
      "[10, 20, 30, 40, 50]\n",
      "5\n"
     ]
    }
   ],
   "source": [
    "print(\"---------------len method----------------\")\n",
    "# len method return the length of the list.\n",
    "\n",
    "l1 = [10,20,30,40,50]\n",
    "print(l1)\n",
    "print(len(l1))"
   ]
  },
  {
   "cell_type": "code",
   "execution_count": 33,
   "id": "e06a086c",
   "metadata": {},
   "outputs": [
    {
     "name": "stdout",
     "output_type": "stream",
     "text": [
      "---------------sort method----------------\n",
      "Before Sorting [10, 20, 30, 40]\n",
      "After sorting [10, 20, 30, 40]\n",
      "\n",
      "Before Sorting [10, 20, 30, 40]\n",
      "After Sorting [40, 30, 20, 10]\n"
     ]
    }
   ],
   "source": [
    "print(\"---------------sort method----------------\")\n",
    "# sort the all the elements of the list into the ascending order.\n",
    "\n",
    "l1 = [10,20,30,40]\n",
    "print(\"Before Sorting\",l1)\n",
    "\n",
    "l1.sort()\n",
    "print(\"After sorting\",l1)\n",
    "print()\n",
    "\n",
    "\n",
    "# In sort method we have two parameters key,reverse\n",
    "# the reverse parameter is bydefault false which indicate that list is sorted into ascending order if true then the element will be sorted into the descending.\n",
    "\n",
    "l1 = [10,20,30,40]\n",
    "print(\"Before Sorting\",l1)\n",
    "l1.sort(reverse=True)\n",
    "print(\"After Sorting\",l1)"
   ]
  },
  {
   "cell_type": "code",
   "execution_count": 36,
   "id": "fec1de13",
   "metadata": {},
   "outputs": [
    {
     "name": "stdout",
     "output_type": "stream",
     "text": [
      "['date', 'apple', 'banana', 'cherry']\n"
     ]
    }
   ],
   "source": [
    "words = [\"banana\", \"apple\", \"cherry\", \"date\"]\n",
    "words.sort(key=len)\n",
    "print(words)"
   ]
  },
  {
   "cell_type": "code",
   "execution_count": 37,
   "id": "98608eaa",
   "metadata": {},
   "outputs": [
    {
     "name": "stdout",
     "output_type": "stream",
     "text": [
      "---------------count method----------------\n",
      "1\n"
     ]
    }
   ],
   "source": [
    "print(\"---------------count method----------------\")\n",
    "# count method return the total occurrences of the element or object that is passed as an parameter in this method.\n",
    "l1 = [10,20,30,40]\n",
    "count = l1.count(10)\n",
    "print(count)"
   ]
  },
  {
   "cell_type": "code",
   "execution_count": 39,
   "id": "a412bb4b",
   "metadata": {},
   "outputs": [
    {
     "name": "stdout",
     "output_type": "stream",
     "text": [
      "---------------count method----------------\n",
      "0\n"
     ]
    }
   ],
   "source": [
    "print(\"---------------index method----------------\")\n",
    "\n",
    "# index method return the first occurrence (index) of the element or object that is passed as an parameter in this method.\n",
    "# if the element or object is not found in the method then it will raise an error.\n",
    "l1 = [10,20,30,40]\n",
    "pos = l1.index(10)\n",
    "print(pos)"
   ]
  },
  {
   "cell_type": "code",
   "execution_count": 40,
   "id": "4be62179",
   "metadata": {},
   "outputs": [
    {
     "name": "stdout",
     "output_type": "stream",
     "text": [
      "---------------reverse method----------------\n",
      "[10, 40, 10, 20, 100]\n"
     ]
    }
   ],
   "source": [
    "print(\"---------------reverse method----------------\")\n",
    "# It used to reverse the list.\n",
    "l1 = [100,20,10,40,10]\n",
    "rev = l1.reverse()\n",
    "print(l1)"
   ]
  },
  {
   "cell_type": "code",
   "execution_count": 68,
   "id": "1ac657bf",
   "metadata": {},
   "outputs": [
    {
     "name": "stdout",
     "output_type": "stream",
     "text": [
      "---------------append method----------------\n",
      "[10, 20, 30, 40, 50, 1000]\n"
     ]
    }
   ],
   "source": [
    "print(\"---------------append method----------------\")\n",
    "# append method is used to add the element to the end of the list.\n",
    "# append does wrap the data. \n",
    "# It simply add the data at the last index.\n",
    "l1 = [10,20,30,40,50]\n",
    "l1.append(1000)\n",
    "print(l1)\n"
   ]
  },
  {
   "cell_type": "code",
   "execution_count": 67,
   "id": "a9435e82",
   "metadata": {},
   "outputs": [
    {
     "name": "stdout",
     "output_type": "stream",
     "text": [
      "---------------insert method----------------\n",
      "Before Insertion [10, 20, 30]\n",
      "After Insertion of 100 at 0 index [100, 10, 20, 30]\n",
      "[100, 10, 20, 30]\n"
     ]
    }
   ],
   "source": [
    "print(\"---------------insert method----------------\")\n",
    "# Insert method is used to add the element at the specific position.\n",
    "# It take two parameters first is the index at which we want to add the element and second is the element to we want add.\n",
    "\n",
    "l1 = [10,20,30]\n",
    "print(\"Before Insertion\",l1)\n",
    "l1.insert(0,100)\n",
    "print(\"After Insertion of 100 at 0 index\",l1)\n",
    "print(l1)"
   ]
  },
  {
   "cell_type": "code",
   "execution_count": 42,
   "id": "5cfc94ff",
   "metadata": {},
   "outputs": [
    {
     "name": "stdout",
     "output_type": "stream",
     "text": [
      "------------------copy method---------------\n",
      "Original list [10, 20, 30]\n",
      "Copy list [10, 20, 30]\n"
     ]
    }
   ],
   "source": [
    "print('------------------copy method---------------')\n",
    "\n",
    "# Suppose we want to copy one list into another list.\n",
    "# we write\n",
    "# l1 = [10,20,30,40]\n",
    "# m1 =l1\n",
    "# But on changing m1 the changes will be reflected into original list l1\n",
    "# bcz m1 is originally point to the l1.\n",
    "# so we use the copy method, all the elements of the original list is assigned to another list .\n",
    "# On doing changes into another list the changes will not reflect into the original list.\n",
    "\n",
    "l1 = [10,20,30]\n",
    "m1 = l1.copy()\n",
    "print(\"Original list\",l1)\n",
    "print(\"Copy list\",m1)"
   ]
  },
  {
   "cell_type": "code",
   "execution_count": 48,
   "id": "2c7468f2",
   "metadata": {},
   "outputs": [
    {
     "name": "stdout",
     "output_type": "stream",
     "text": [
      "------------------extend method---------------\n",
      "[10, 20, 30, 40]\n",
      "[10, 20, 30, 40, 100, 200, 300]\n"
     ]
    }
   ],
   "source": [
    "print('------------------extend method---------------')\n",
    "# In extend method only iterable object is passed.\n",
    "# extend method is used to all the elements of one list into another list.\n",
    "# all the elements will be added from the last index of the original list.\n",
    "# It is used to unwrap the iterable object and insert their values at the last index.\n",
    "l1 = [10,20,30,40]\n",
    "print(l1)\n",
    "\n",
    "l1.extend([100,200,300])\n",
    "print(l1)"
   ]
  },
  {
   "cell_type": "code",
   "execution_count": 70,
   "id": "37fdf817",
   "metadata": {},
   "outputs": [
    {
     "name": "stdout",
     "output_type": "stream",
     "text": [
      "------------------pop method---------------\n",
      "40\n",
      "10\n"
     ]
    }
   ],
   "source": [
    "print('------------------pop method---------------')\n",
    "# pop method bydefault remove the last element of the list.\n",
    "# If the index is passed inside the pop method then the value at index is removed from the list.\n",
    "\n",
    "l1 = [10,20,30,40]\n",
    "print(l1.pop())\n",
    "print(l1.pop(0))"
   ]
  },
  {
   "cell_type": "code",
   "execution_count": 51,
   "id": "1ba1a279",
   "metadata": {},
   "outputs": [
    {
     "name": "stdout",
     "output_type": "stream",
     "text": [
      "----------------remove method-------------------\n",
      "[20, 30, 40, 10, 30, 10, 20]\n"
     ]
    }
   ],
   "source": [
    "print(\"----------------remove method-------------------\")\n",
    "# It used to remove the first occurrence of the object.\n",
    "l1 = [10,20,30,40,10,30,10,20]\n",
    "l1.remove(10)\n",
    "print(l1)"
   ]
  },
  {
   "cell_type": "code",
   "execution_count": 50,
   "id": "08a1e7c3",
   "metadata": {},
   "outputs": [
    {
     "name": "stdout",
     "output_type": "stream",
     "text": [
      "------------------clear method---------------\n",
      "[]\n"
     ]
    }
   ],
   "source": [
    "print('------------------clear method---------------')\n",
    "# clear method is used to remove all the elements of the list.\n",
    "l1 = [10,20,30]\n",
    "l1.clear()\n",
    "print(l1)"
   ]
  },
  {
   "cell_type": "code",
   "execution_count": 50,
   "id": "0adf1c67",
   "metadata": {},
   "outputs": [
    {
     "name": "stdout",
     "output_type": "stream",
     "text": [
      "------------------del keyword---------------\n"
     ]
    }
   ],
   "source": [
    "print('------------------del keyword---------------')\n",
    "# del method is used to delete the list object \n",
    "l1 = [10,20,30,40]\n",
    "del l1"
   ]
  },
  {
   "cell_type": "code",
   "execution_count": 49,
   "id": "1b175544",
   "metadata": {},
   "outputs": [
    {
     "name": "stdout",
     "output_type": "stream",
     "text": [
      "[10, 20, 30, 50]\n",
      "[10, 20, 30, 40, 50]\n"
     ]
    }
   ],
   "source": [
    "l1 = [10,20,30,50]\n",
    "print(l1)\n",
    "\n",
    "l1.insert(-1,40)\n",
    "print(l1)"
   ]
  },
  {
   "cell_type": "markdown",
   "id": "1315c05c",
   "metadata": {},
   "source": [
    "# list Comprehension"
   ]
  },
  {
   "cell_type": "code",
   "execution_count": 51,
   "id": "83b878ac",
   "metadata": {},
   "outputs": [],
   "source": [
    "# list comprehension is a way of creating the list from the other iterable object like list,tuple,set,dictionary etc.\n",
    "# syntax:\n",
    "\n",
    "# res = [expression for i in iterable if condition]\n",
    "\n",
    "\n",
    "# Here's what each part of the syntax represents:\n",
    "\n",
    "# expression: This is the expression to be evaluated for each element in the iterable. It can involve the item variable, which represents the current element being processed.\n",
    "\n",
    "# item: This variable represents each element in the iterable.\n",
    "\n",
    "# iterable: This is the original iterable (e.g., a list, tuple, or string) from which elements are taken to create the new list.\n",
    "\n",
    "# condition (optional): This is an optional condition that filters elements from the original iterable. Only elements for which the condition evaluates to True are included in the new list.\n",
    "\n"
   ]
  },
  {
   "cell_type": "code",
   "execution_count": 56,
   "id": "9c120efb",
   "metadata": {},
   "outputs": [
    {
     "name": "stdout",
     "output_type": "stream",
     "text": [
      "[0, 2, 4, 6, 8]\n",
      "<class 'list'>\n"
     ]
    }
   ],
   "source": [
    "l1 = [i for i in range(10) if i%2==0]\n",
    "print(l1)\n",
    "print(type(l1))"
   ]
  },
  {
   "cell_type": "code",
   "execution_count": 58,
   "id": "490999da",
   "metadata": {},
   "outputs": [
    {
     "name": "stdout",
     "output_type": "stream",
     "text": [
      "[(0,), (1,), (2,), (3,), (4,), (5,), (6,), (7,), (8,), (9,)]\n"
     ]
    }
   ],
   "source": [
    "# If we want to store tuple inside the list using list comprehension we need to use , bcz tuple with single element is created using,\n",
    "l1 = [(i,) for i in range(10)]\n",
    "print(l1)"
   ]
  },
  {
   "cell_type": "code",
   "execution_count": 60,
   "id": "648544e0",
   "metadata": {},
   "outputs": [
    {
     "name": "stdout",
     "output_type": "stream",
     "text": [
      "[{0: 0}, {1: 1}, {2: 4}, {3: 9}, {4: 16}, {5: 25}, {6: 36}, {7: 49}, {8: 64}, {9: 81}]\n",
      "<class 'list'>\n",
      "<class 'dict'>\n"
     ]
    }
   ],
   "source": [
    "# dictionary inside list using list comprehension\n",
    "l1 = [{i:i*i} for i in range(10)]\n",
    "print(l1)\n",
    "print(type(l1))\n",
    "print(type(l1[0]))"
   ]
  },
  {
   "cell_type": "code",
   "execution_count": 65,
   "id": "118f5683",
   "metadata": {},
   "outputs": [
    {
     "name": "stdout",
     "output_type": "stream",
     "text": [
      "[{10}, {20}, {30}, {40}, {40}]\n",
      "<class 'list'>\n",
      "<class 'set'>\n",
      "None\n",
      "[{10}, {20}, {30}, {40}, {40}]\n"
     ]
    }
   ],
   "source": [
    "# set inside the list using list comprehension\n",
    "l1 = [10,20,30,40,40]\n",
    "res = [{i} for i in l1]\n",
    "print(res)\n",
    "print(type(res))\n",
    "print(type(res[0]))\n",
    "(res[3].add(40)\n",
    "print(res)"
   ]
  },
  {
   "cell_type": "code",
   "execution_count": 12,
   "id": "ea64267d",
   "metadata": {},
   "outputs": [
    {
     "name": "stdout",
     "output_type": "stream",
     "text": [
      "[30, 60]\n",
      "[30, 60]\n"
     ]
    }
   ],
   "source": [
    "# we can write multiple conditions inside the list comprehension without using the and opertor\n",
    "# if we want to check the number is divisible by both the 2 and 3 we can write like that.\n",
    "\n",
    "\n",
    "l1 = [10,20,30,40,50,60]\n",
    "res = [i for i in l1 if i%2==0 if i%3==0]\n",
    "print(res)\n",
    "\n",
    "res1 = [i for i in l1 if i%2==0 and i%3==0]\n",
    "print(res1)"
   ]
  },
  {
   "cell_type": "code",
   "execution_count": 14,
   "id": "abed205f",
   "metadata": {},
   "outputs": [
    {
     "name": "stdout",
     "output_type": "stream",
     "text": [
      "['Test', 'yes', 'no', 'Test', 'Test', 'Test', 'Test', 'Test', 'Test']\n"
     ]
    }
   ],
   "source": [
    "# kind of if elif inside the list comprehension\n",
    "\n",
    "l1 = [0,1,2,3,4,5,6,7,8]\n",
    "res = [\"yes\" if i==1 else \"no\" if i==2 else \"Test\" for i in l1]\n",
    "print(res)"
   ]
  },
  {
   "cell_type": "markdown",
   "id": "a7de3bb3",
   "metadata": {},
   "source": [
    "# 1. Using if for Filtering (Positioned after the for loop)"
   ]
  },
  {
   "cell_type": "code",
   "execution_count": 72,
   "id": "2fda54d9",
   "metadata": {},
   "outputs": [
    {
     "name": "stdout",
     "output_type": "stream",
     "text": [
      "[10, 20, 30, 40]\n",
      "<class 'list'>\n"
     ]
    }
   ],
   "source": [
    "\n",
    "# When you use if after the for loop, it acts as a filter. \n",
    "# It is used to decide whether an element should be included in the resulting list. \n",
    "# This filtering condition applies to the items that are iterated over, and only those that meet the condition will be processed in the list comprehension.\n",
    "\n",
    "# Syntax for filtering with if:\n",
    "\n",
    "# [expression for item in iterable if condition]\n",
    "# Here, expression is evaluated only for items that meet the condition.\n",
    "\n",
    "t1 = (10,20,30,40)\n",
    "l1 = [i for i in t1 if i%2==0]\n",
    "print(l1)\n",
    "print(type(l1))"
   ]
  },
  {
   "cell_type": "markdown",
   "id": "2283d8b6",
   "metadata": {},
   "source": [
    "# 2. Using if-else for Conditional Expressions (Positioned inside the for loop)"
   ]
  },
  {
   "cell_type": "code",
   "execution_count": 76,
   "id": "39abc688",
   "metadata": {},
   "outputs": [
    {
     "name": "stdout",
     "output_type": "stream",
     "text": [
      "['even', 'odd', 'even', 'odd', 'even']\n",
      "<class 'list'>\n"
     ]
    }
   ],
   "source": [
    "# When you use if-else, it is part of the expression. \n",
    "# This means the if and else will determine the value that is assigned to each item in the new list based on the condition, \n",
    "# for each iteration of the loop.\n",
    "\n",
    "# Syntax for conditional expression with if-else:\n",
    "\n",
    "# [expression_if_true if condition else expression_if_false for item in iterable]\n",
    "\n",
    "\n",
    "l1 = [10,20,30,40]\n",
    "res = [\"even\" if i%2==0 else \"odd\" for i in range(5)]\n",
    "print(res)\n",
    "print(type(res))"
   ]
  },
  {
   "cell_type": "markdown",
   "id": "db1d2173",
   "metadata": {},
   "source": [
    "# Why else cannot be used with filtering (if after for)"
   ]
  },
  {
   "cell_type": "code",
   "execution_count": null,
   "id": "e5ee95b8",
   "metadata": {},
   "outputs": [],
   "source": [
    "# If else were allowed after the for loop (in filtering), \n",
    "# it would imply that you are trying to decide what value should be included in the list if the condition is false,\n",
    "# which conflicts with the behavior of filtering. \n",
    "# Filtering means you're either including an item or not, and there’s no \"else\" value to assign if the item doesn’t meet the condition."
   ]
  },
  {
   "cell_type": "code",
   "execution_count": 1,
   "id": "016def55",
   "metadata": {},
   "outputs": [
    {
     "name": "stdout",
     "output_type": "stream",
     "text": [
      "50\n"
     ]
    }
   ],
   "source": [
    "# MAX FUNCTION\n",
    "# returns the maximum value from the list if the list only contains the numbers.\n",
    "\n",
    "l1 = [10,20,30,40,50]\n",
    "print(max(l1))"
   ]
  },
  {
   "cell_type": "code",
   "execution_count": 2,
   "id": "e39f02f2",
   "metadata": {},
   "outputs": [
    {
     "name": "stdout",
     "output_type": "stream",
     "text": [
      "10\n"
     ]
    }
   ],
   "source": [
    "# min function \n",
    "# return the minimum value from the list if the list only contains the numbers.\n",
    "\n",
    "l1 = [10,20,30,40]\n",
    "print(min(l1))"
   ]
  },
  {
   "cell_type": "code",
   "execution_count": null,
   "id": "ce5f976e",
   "metadata": {},
   "outputs": [],
   "source": []
  },
  {
   "cell_type": "code",
   "execution_count": 2,
   "id": "ab3acdd4",
   "metadata": {},
   "outputs": [],
   "source": [
    "l1 = [10,20,True,False,[\"Hello\",'World',45],4+5j]"
   ]
  },
  {
   "cell_type": "code",
   "execution_count": 3,
   "id": "11f41096",
   "metadata": {},
   "outputs": [
    {
     "data": {
      "text/plain": [
       "True"
      ]
     },
     "execution_count": 3,
     "metadata": {},
     "output_type": "execute_result"
    }
   ],
   "source": [
    "10 in l1"
   ]
  },
  {
   "cell_type": "code",
   "execution_count": 4,
   "id": "62bc44c3",
   "metadata": {},
   "outputs": [
    {
     "data": {
      "text/plain": [
       "True"
      ]
     },
     "execution_count": 4,
     "metadata": {},
     "output_type": "execute_result"
    }
   ],
   "source": [
    "20 in l1"
   ]
  },
  {
   "cell_type": "code",
   "execution_count": 18,
   "id": "e00a78a0",
   "metadata": {},
   "outputs": [
    {
     "data": {
      "text/plain": [
       "True"
      ]
     },
     "execution_count": 18,
     "metadata": {},
     "output_type": "execute_result"
    }
   ],
   "source": [
    "[\"Hello\",'World',45] in l1"
   ]
  },
  {
   "cell_type": "code",
   "execution_count": 21,
   "id": "c9b6a159",
   "metadata": {},
   "outputs": [
    {
     "name": "stdout",
     "output_type": "stream",
     "text": [
      "40\n"
     ]
    }
   ],
   "source": [
    "del max\n",
    "res = max(10,20,30,40)\n",
    "print(res)"
   ]
  },
  {
   "cell_type": "markdown",
   "id": "7beb5475",
   "metadata": {},
   "source": [
    "# 1. min() Function"
   ]
  },
  {
   "cell_type": "code",
   "execution_count": 24,
   "id": "c413bd62",
   "metadata": {},
   "outputs": [
    {
     "data": {
      "text/plain": [
       "'Purpose: Finds and returns the smallest element from an iterable or a given set of arguments.\\n\\nSyntax:\\n\\nmin(iterable, key=None)\\nmin(arg1, arg2, *args, key=None)\\n\\nParameters:\\n\\niterable: Any iterable object (e.g., list, tuple, string).\\nkey (optional): A function to customize the comparison (e.g., len for length-based comparison).\\narg1, arg2, *args: Multiple arguments to compare.\\n\\n'"
      ]
     },
     "execution_count": 24,
     "metadata": {},
     "output_type": "execute_result"
    }
   ],
   "source": [
    "'''Purpose: Finds and returns the smallest element from an iterable or a given set of arguments.\n",
    "\n",
    "Syntax:\n",
    "\n",
    "min(iterable, key=None)\n",
    "min(arg1, arg2, *args, key=None)\n",
    "\n",
    "Parameters:\n",
    "\n",
    "iterable: Any iterable object (e.g., list, tuple, string).\n",
    "key (optional): A function to customize the comparison (e.g., len for length-based comparison).\n",
    "arg1, arg2, *args: Multiple arguments to compare.\n",
    "\n",
    "'''"
   ]
  },
  {
   "cell_type": "code",
   "execution_count": 27,
   "id": "8eb6c9c1",
   "metadata": {},
   "outputs": [
    {
     "name": "stdout",
     "output_type": "stream",
     "text": [
      "10\n"
     ]
    }
   ],
   "source": [
    "res = min(10,20,30,40)\n",
    "print(res)"
   ]
  },
  {
   "cell_type": "code",
   "execution_count": 29,
   "id": "16b3d65b",
   "metadata": {},
   "outputs": [
    {
     "name": "stdout",
     "output_type": "stream",
     "text": [
      "Hello\n"
     ]
    }
   ],
   "source": [
    "# Return the string which have smallest ascii value.\n",
    "res = min(\"hello\",'Hello')\n",
    "print(res)"
   ]
  },
  {
   "cell_type": "code",
   "execution_count": 37,
   "id": "d0e10896",
   "metadata": {},
   "outputs": [
    {
     "name": "stdout",
     "output_type": "stream",
     "text": [
      "-100\n"
     ]
    }
   ],
   "source": [
    "res = min([10,20,30,40,-100])\n",
    "print(res)"
   ]
  },
  {
   "cell_type": "code",
   "execution_count": 38,
   "id": "f0a25877",
   "metadata": {},
   "outputs": [
    {
     "name": "stdout",
     "output_type": "stream",
     "text": [
      "-10\n"
     ]
    }
   ],
   "source": [
    "res = min((10,20,30,40,-10))\n",
    "print(res)"
   ]
  },
  {
   "cell_type": "code",
   "execution_count": 39,
   "id": "2af145b5",
   "metadata": {},
   "outputs": [
    {
     "name": "stdout",
     "output_type": "stream",
     "text": [
      "10\n"
     ]
    }
   ],
   "source": [
    "res = min({10,20,10,10,100,100,200})\n",
    "print(res)"
   ]
  },
  {
   "cell_type": "code",
   "execution_count": 40,
   "id": "db354819",
   "metadata": {},
   "outputs": [
    {
     "name": "stdout",
     "output_type": "stream",
     "text": [
      "10\n"
     ]
    }
   ],
   "source": [
    "res = min({10:100,20:200,30:900})\n",
    "print(res)"
   ]
  },
  {
   "cell_type": "code",
   "execution_count": 41,
   "id": "d8faf19f",
   "metadata": {},
   "outputs": [
    {
     "name": "stdout",
     "output_type": "stream",
     "text": [
      "A\n"
     ]
    }
   ],
   "source": [
    "res = min({'A':10,'a':10})\n",
    "print(res)"
   ]
  },
  {
   "cell_type": "markdown",
   "id": "27d5aa42",
   "metadata": {},
   "source": [
    "# max function"
   ]
  },
  {
   "cell_type": "code",
   "execution_count": 31,
   "id": "e3d07a36",
   "metadata": {},
   "outputs": [
    {
     "data": {
      "text/plain": [
       "'\\nPurpose: Finds and returns the largest element from an iterable or a given set of arguments.\\n\\nSyntax:\\n\\npython\\nCopy code\\nmax(iterable, key=None)\\nmax(arg1, arg2, *args, key=None)\\nParameters:\\n\\niterable: Any iterable object (e.g., list, tuple, string).\\nkey (optional): A function to customize the comparison (e.g., len for length-based comparison).\\narg1, arg2, *args: Multiple arguments to compare.\\n'"
      ]
     },
     "execution_count": 31,
     "metadata": {},
     "output_type": "execute_result"
    }
   ],
   "source": [
    "\"\"\"\n",
    "Purpose: Finds and returns the largest element from an iterable or a given set of arguments.\n",
    "\n",
    "Syntax:\n",
    "\n",
    "python\n",
    "Copy code\n",
    "max(iterable, key=None)\n",
    "max(arg1, arg2, *args, key=None)\n",
    "Parameters:\n",
    "\n",
    "iterable: Any iterable object (e.g., list, tuple, string).\n",
    "key (optional): A function to customize the comparison (e.g., len for length-based comparison).\n",
    "arg1, arg2, *args: Multiple arguments to compare.\n",
    "\"\"\""
   ]
  },
  {
   "cell_type": "code",
   "execution_count": 32,
   "id": "a81c8592",
   "metadata": {},
   "outputs": [
    {
     "name": "stdout",
     "output_type": "stream",
     "text": [
      "o\n"
     ]
    }
   ],
   "source": [
    "# return the character which have highest ASCII code.\n",
    "res = max(\"hello\")\n",
    "print(res)"
   ]
  },
  {
   "cell_type": "code",
   "execution_count": 42,
   "id": "ab7c0b09",
   "metadata": {},
   "outputs": [
    {
     "name": "stdout",
     "output_type": "stream",
     "text": [
      "40\n"
     ]
    }
   ],
   "source": [
    "res = max(10,20,30,40)\n",
    "print(res)"
   ]
  },
  {
   "cell_type": "code",
   "execution_count": 43,
   "id": "12f1b0fa",
   "metadata": {},
   "outputs": [
    {
     "name": "stdout",
     "output_type": "stream",
     "text": [
      "10000.1\n"
     ]
    }
   ],
   "source": [
    "res = max([9000,10000.10])\n",
    "print(res)"
   ]
  },
  {
   "cell_type": "code",
   "execution_count": 45,
   "id": "4df8c820",
   "metadata": {},
   "outputs": [
    {
     "name": "stdout",
     "output_type": "stream",
     "text": [
      "z\n"
     ]
    }
   ],
   "source": [
    "res = max(\"hello\",\"world\",'Z','z')\n",
    "print(res)"
   ]
  },
  {
   "cell_type": "code",
   "execution_count": 46,
   "id": "879ccb55",
   "metadata": {},
   "outputs": [
    {
     "name": "stdout",
     "output_type": "stream",
     "text": [
      "40\n"
     ]
    }
   ],
   "source": [
    "res = max([10,20,30,40])\n",
    "print(res)"
   ]
  },
  {
   "cell_type": "code",
   "execution_count": 47,
   "id": "2d824e04",
   "metadata": {},
   "outputs": [
    {
     "name": "stdout",
     "output_type": "stream",
     "text": [
      "-1000\n"
     ]
    }
   ],
   "source": [
    "res = max([40,20,10,100,-1000],key=abs)\n",
    "print(res)"
   ]
  },
  {
   "cell_type": "code",
   "execution_count": 5,
   "id": "42d49be6",
   "metadata": {},
   "outputs": [
    {
     "name": "stdout",
     "output_type": "stream",
     "text": [
      "[[10, 20], [30, 40], [50, 60], ['hello', (5+9j)]]\n"
     ]
    }
   ],
   "source": [
    "l1 = [[10,20],[30,40],[50,60],[\"hello\",5+9J]]\n",
    "print(l1)"
   ]
  },
  {
   "cell_type": "code",
   "execution_count": 6,
   "id": "f231a41f",
   "metadata": {},
   "outputs": [
    {
     "name": "stdout",
     "output_type": "stream",
     "text": [
      "[[10, 20], [30, 40], [50, 60], ['hello', (5+9j)], [70, 80]]\n"
     ]
    }
   ],
   "source": [
    "l1.append([70,80])\n",
    "print(l1)\n",
    "\n",
    "l1.insert(2,1+1j)\n",
    "l1.insert(1,[100,390,'b','b','b'])"
   ]
  },
  {
   "cell_type": "code",
   "execution_count": 8,
   "id": "db6b7ed4",
   "metadata": {},
   "outputs": [
    {
     "name": "stdout",
     "output_type": "stream",
     "text": [
      "Index of string b is 2\n",
      "Index of string b is 3\n",
      "Index of string b is 4\n",
      "None\n",
      "None\n",
      "None\n",
      "Index of string hello is 0\n",
      "None\n",
      "[[10, 20], [100, 390], [30, 40], (1+1j), [50, 60], [(5+9j)], [70, 80]]\n"
     ]
    }
   ],
   "source": [
    "for i in l1:\n",
    "    if type(i)==list:\n",
    "        j = 0\n",
    "        while j<len(i):\n",
    "            if type(i[j])==str:\n",
    "                print(f\"Index of string {i[j]} is {j}\")\n",
    "            j = j+1\n",
    "        \n",
    "        j = 0\n",
    "        while j<len(i):\n",
    "            if type(i[j])==str:\n",
    "                (i.remove(i[j]))\n",
    "                continue\n",
    "            j = j+1\n",
    "print(l1)"
   ]
  },
  {
   "cell_type": "code",
   "execution_count": null,
   "id": "293f603d",
   "metadata": {},
   "outputs": [],
   "source": [
    "for i in (l1):\n",
    "    if type(i)==list and len(i)>=2:\n",
    "        print(i[1])"
   ]
  },
  {
   "cell_type": "code",
   "execution_count": 10,
   "id": "d2121b3f",
   "metadata": {},
   "outputs": [
    {
     "name": "stdout",
     "output_type": "stream",
     "text": [
      "[[0, 1, 2], [0, 1, 2], [0, 1, 2]]\n"
     ]
    }
   ],
   "source": [
    "l1 = []\n",
    "for i in range(3):\n",
    "    l1.append([])\n",
    "    for j in range(3):\n",
    "        (l1[i].append(j))\n",
    "print(l1)"
   ]
  },
  {
   "cell_type": "code",
   "execution_count": null,
   "id": "ed061a38",
   "metadata": {},
   "outputs": [],
   "source": [
    "[for i in range(j)]"
   ]
  }
 ],
 "metadata": {
  "kernelspec": {
   "display_name": "Python 3 (ipykernel)",
   "language": "python",
   "name": "python3"
  },
  "language_info": {
   "codemirror_mode": {
    "name": "ipython",
    "version": 3
   },
   "file_extension": ".py",
   "mimetype": "text/x-python",
   "name": "python",
   "nbconvert_exporter": "python",
   "pygments_lexer": "ipython3",
   "version": "3.11.5"
  }
 },
 "nbformat": 4,
 "nbformat_minor": 5
}
