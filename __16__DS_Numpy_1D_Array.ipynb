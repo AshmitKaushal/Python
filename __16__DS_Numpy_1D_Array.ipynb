{
 "cells": [
  {
   "cell_type": "markdown",
   "id": "d217b5fb",
   "metadata": {},
   "source": [
    "# 1D Array in NumPy"
   ]
  },
  {
   "cell_type": "code",
   "execution_count": 1,
   "id": "1d2bffa5",
   "metadata": {},
   "outputs": [],
   "source": [
    "# A 1D array (one-dimensional array) in NumPy is a sequence of elements arranged in a single row or single column. \n",
    "# It is similar to a Python list but has the advantages of faster computations, efficient memory usage, and built-in vectorized operations..\n",
    "\n",
    "# An array that has 0-D arrays as its elements is called uni-dimensional or 1-D array.\n",
    "# These are the most common and basic arrays."
   ]
  },
  {
   "cell_type": "code",
   "execution_count": 2,
   "id": "c41c3dca",
   "metadata": {},
   "outputs": [],
   "source": [
    "# Creating a 1D Array in NumPy\n",
    "# A 1D NumPy array (also called a vector) can be created using np.array()."
   ]
  },
  {
   "cell_type": "code",
   "execution_count": 3,
   "id": "2eb965d8",
   "metadata": {},
   "outputs": [
    {
     "name": "stdout",
     "output_type": "stream",
     "text": [
      "[1 2 3 4 5]\n",
      "<class 'numpy.ndarray'>\n"
     ]
    }
   ],
   "source": [
    "import numpy as np\n",
    "arr1 = np.array([1,2,3,4,5])\n",
    "print(arr1)\n",
    "# print(type(arr1))\n",
    "#  The elements are stored linearly in one row."
   ]
  },
  {
   "cell_type": "markdown",
   "id": "f802cd00",
   "metadata": {},
   "source": [
    "# Properties of a 1D NumPy Array in Detail"
   ]
  },
  {
   "cell_type": "code",
   "execution_count": 5,
   "id": "4d9861d1",
   "metadata": {},
   "outputs": [
    {
     "name": "stdout",
     "output_type": "stream",
     "text": [
      "[10 20 30 40]\n",
      "<class 'numpy.ndarray'>\n"
     ]
    }
   ],
   "source": [
    "# 1. type() – Check if it's a NumPy Array\n",
    "# The type() function confirms whether the object is a NumPy array.\n",
    "\n",
    "arr1 = np.array([10,20,30,40])\n",
    "print(arr1)\n",
    "print(type(arr1))\n",
    "\n",
    "# Output: <class 'numpy.ndarray'>\n",
    "# This confirms that arr is an instance of numpy.ndarray."
   ]
  },
  {
   "cell_type": "code",
   "execution_count": 8,
   "id": "da22791c",
   "metadata": {},
   "outputs": [
    {
     "name": "stdout",
     "output_type": "stream",
     "text": [
      "[10 20 30 40 50]\n",
      "The Dimension of the array is 1\n"
     ]
    }
   ],
   "source": [
    "# 2. ndim – Number of Dimensions\n",
    "# The .ndim property tells us the number of axes (dimensions) in the array.\n",
    "\n",
    "arr1 = np.array([10,20,30,40,50])\n",
    "print(arr1)\n",
    "print(\"The Dimension of the array is\",arr1.ndim)\n",
    "\n",
    "\n",
    "\n",
    "# Array Type\tExample\tndim Output\n",
    "# 0D Array\tnp.array(5)\t0\n",
    "# 1D Array\tnp.array([1, 2, 3])\t1\n",
    "# 2D Array\tnp.array([[1, 2], [3, 4]])\t2\n",
    "# 3D Array\tnp.array([[[1], [2]], [[3], [4]]])\t3\n"
   ]
  },
  {
   "cell_type": "code",
   "execution_count": 14,
   "id": "645a882e",
   "metadata": {},
   "outputs": [
    {
     "name": "stdout",
     "output_type": "stream",
     "text": [
      "[10 20 30 40]\n",
      "The shape of the array is 4 bcz there are only 4 element stored row wise (4,)\n"
     ]
    }
   ],
   "source": [
    "# 3. shape – Shape of the Array\n",
    "# The .shape property returns a tuple representing the size of the array along each dimension.\n",
    "\n",
    "arr1 = np.array([10,20,30,40])\n",
    "print(arr1)\n",
    "print(\"The shape of the array is 4 bcz there are only 4 element stored row wise\",arr1.shape)\n",
    "\n",
    "#  Output: (4,) → The array has 4 elements in a single row.\n",
    "#  In a 1D array, the second value is missing because there is only one axis"
   ]
  },
  {
   "cell_type": "code",
   "execution_count": 16,
   "id": "aade5624",
   "metadata": {},
   "outputs": [
    {
     "name": "stdout",
     "output_type": "stream",
     "text": [
      "The total number of elements in array is 5\n"
     ]
    }
   ],
   "source": [
    "# 4. size – Total Number of Elements\n",
    "# The .size property tells us the total number of elements in the array.\n",
    "\n",
    "arr1 = np.array([10,20,30,40,50])\n",
    "print(\"The total number of elements in array is\",arr1.size)\n",
    "\n",
    "# Output: 5 → There are 5 elements in this array.\n",
    "\n",
    "# Array Example\tSize Output\n",
    "# np.array([1, 2, 3, 4])\t4\n",
    "# np.array([[1, 2], [3, 4]])\t4\n",
    "# np.array([[1, 2, 3], [4, 5, 6]])\t6\n"
   ]
  },
  {
   "cell_type": "code",
   "execution_count": 21,
   "id": "199451eb",
   "metadata": {},
   "outputs": [
    {
     "name": "stdout",
     "output_type": "stream",
     "text": [
      "[10. 20. 30. 40. 50.]\n",
      "float64\n"
     ]
    }
   ],
   "source": [
    "# 5. dtype – Data Type of Elements\n",
    "# The .dtype property shows the data type of the array elements.\n",
    "\n",
    "arr1 = np.array([10,20,30,40,50],dtype=np.float64)\n",
    "print(arr1)\n",
    "print(arr1.dtype)"
   ]
  },
  {
   "cell_type": "code",
   "execution_count": 25,
   "id": "ffcbbcd1",
   "metadata": {},
   "outputs": [
    {
     "name": "stdout",
     "output_type": "stream",
     "text": [
      "[10 20 30 40 50]\n",
      "The size occupied by the each element in byptes is  4\n",
      "The total size occupied by the array is 20\n"
     ]
    }
   ],
   "source": [
    "# 6. itemsize – Memory Size of Each Element\n",
    "# The .itemsize property gives the size (in bytes) of each element.\n",
    "\n",
    "arr1 = np.array([10,20,30,40,50])\n",
    "print(arr1)\n",
    "print(\"The size occupied by the each element in byptes is \",arr1.itemsize)\n",
    "\n",
    "print(\"The total size occupied by the array is\",arr1.size*arr1.itemsize)"
   ]
  },
  {
   "cell_type": "code",
   "execution_count": 28,
   "id": "e1e6da58",
   "metadata": {},
   "outputs": [
    {
     "name": "stdout",
     "output_type": "stream",
     "text": [
      "[10 20 30 40]\n",
      "The total size occupied by the array is 16\n"
     ]
    }
   ],
   "source": [
    "# 7. nbytes – Total Memory Used by the Array\n",
    "# The .nbytes property tells us the total memory occupied by the entire array.\n",
    "\n",
    "arr1 = np.array([10,20,30,40])\n",
    "print(arr1)\n",
    "print(\"The total size occupied by the array is\",arr1.nbytes)\n",
    "\n",
    "# Output: 20 (for int32 array with 5 elements: 5 × 4 bytes = 20 bytes)\n",
    "# Formula: nbytes = size * itemsize"
   ]
  },
  {
   "cell_type": "code",
   "execution_count": 29,
   "id": "ebe6fed2",
   "metadata": {},
   "outputs": [
    {
     "name": "stdout",
     "output_type": "stream",
     "text": [
      "[10 20 30 40 50]\n"
     ]
    }
   ],
   "source": [
    "# 8. T – Transpose of the Array\n",
    "# The .T property transposes the array, but for a 1D array, it remains unchanged.\n",
    "arr1 = np.array([10,20,30,40,50])\n",
    "print(arr1.T)"
   ]
  },
  {
   "cell_type": "code",
   "execution_count": 31,
   "id": "0e71091c",
   "metadata": {},
   "outputs": [
    {
     "name": "stdout",
     "output_type": "stream",
     "text": [
      "[10 20 30 40]\n",
      "--------------Using flat---------\n",
      "10 20 30 40 "
     ]
    }
   ],
   "source": [
    "# 9. flat – Iterator Over Elements\n",
    "# The .flat property provides a flat iterator to loop through elements efficiently.\n",
    "\n",
    "arr1 = np.array([10,20,30,40])\n",
    "print(arr1)\n",
    "\n",
    "print(\"--------------Using flat---------\")\n",
    "for item in arr1.flat:\n",
    "    print(item,end=' ')"
   ]
  },
  {
   "cell_type": "code",
   "execution_count": 32,
   "id": "cc849d7e",
   "metadata": {},
   "outputs": [],
   "source": [
    "# The .flat property provides a flat iterator that allows us to iterate over all elements of a NumPy array in a single loop, \n",
    "# regardless of the array’s shape."
   ]
  },
  {
   "cell_type": "code",
   "execution_count": 33,
   "id": "5e6d2586",
   "metadata": {},
   "outputs": [],
   "source": [
    "# What is .flat in NumPy?\n",
    "# It returns an iterator that lets you access array elements one by one.\n",
    "# It works for both 1D and multi-dimensional arrays.\n",
    "# Unlike normal iteration, .flat treats the array as a 1D sequence, even if it’s originally 2D or 3D.\n"
   ]
  },
  {
   "cell_type": "code",
   "execution_count": 34,
   "id": "c345ad8f",
   "metadata": {},
   "outputs": [
    {
     "name": "stdout",
     "output_type": "stream",
     "text": [
      "10 20 30 40 "
     ]
    }
   ],
   "source": [
    "# Using .flat with a 1D Array\n",
    "# For a 1D array, .flat simply iterates over its elements:\n",
    "\n",
    "for item in arr1.flat:\n",
    "    print(item,end=' ')"
   ]
  },
  {
   "cell_type": "code",
   "execution_count": 38,
   "id": "e5d62a32",
   "metadata": {},
   "outputs": [
    {
     "name": "stdout",
     "output_type": "stream",
     "text": [
      "[[10 20]\n",
      " [30 40]]\n",
      "2\n",
      "10 20 30 40 "
     ]
    }
   ],
   "source": [
    "# Using .flat with a 2D Array\n",
    "# For multi-dimensional arrays, .flat flattens the array and iterates as if it were 1D.\n",
    "\n",
    "arr2 = np.array([[10,20],[30,40]])\n",
    "print(arr2)\n",
    "print(arr2.ndim)\n",
    "\n",
    "for item in arr2.flat:\n",
    "    print(item,end=' ')"
   ]
  },
  {
   "cell_type": "code",
   "execution_count": 40,
   "id": "e5eb44c0",
   "metadata": {},
   "outputs": [
    {
     "name": "stdout",
     "output_type": "stream",
     "text": [
      "[[[10 20 30]\n",
      "  [40 50 60]\n",
      "  [70 80 90]]]\n",
      "3\n",
      "10 20 30 40 50 60 70 80 90 "
     ]
    }
   ],
   "source": [
    "# Using .flat with a 3D Array\n",
    "# If we have a 3D array, .flat still iterates over each element one by one.\n",
    "\n",
    "arr3 = np.array([[[10,20,30],[40,50,60],[70,80,90]]])\n",
    "print(arr3)\n",
    "print(arr3.ndim)\n",
    "\n",
    "for item in arr3.flat:\n",
    "    print(item,end=' ')"
   ]
  },
  {
   "cell_type": "code",
   "execution_count": 42,
   "id": "3edbac98",
   "metadata": {},
   "outputs": [
    {
     "name": "stdout",
     "output_type": "stream",
     "text": [
      "[10 20 30 40]\n",
      "[10, 20, 30, 40]\n"
     ]
    }
   ],
   "source": [
    "# 10. tolist() – Convert to a Python List\n",
    "# The .tolist() method converts the NumPy array to a Python list.\n",
    "\n",
    "arr1 = np.array([10,20,30,40])\n",
    "print(arr1)\n",
    "l1 = arr1.tolist()\n",
    "print(l1)"
   ]
  },
  {
   "cell_type": "markdown",
   "id": "cf5a3966",
   "metadata": {},
   "source": [
    "# All Methods of a 1D NumPy"
   ]
  },
  {
   "cell_type": "code",
   "execution_count": 2,
   "id": "33a962e0",
   "metadata": {},
   "outputs": [
    {
     "name": "stdout",
     "output_type": "stream",
     "text": [
      "[10 20 30]\n",
      "int32\n",
      "[10. 20. 30.]\n",
      "float64\n"
     ]
    }
   ],
   "source": [
    "# 1. astype() – Convert to a Different Data Type\n",
    "# This method allows you to change the data type (dtype) of an array.\n",
    "\n",
    "import numpy as np\n",
    "\n",
    "arr1 = np.array([10,20,30])\n",
    "print(arr1)\n",
    "print(arr1.dtype)\n",
    "\n",
    "narr1 = arr1.astype(float)\n",
    "print(narr1)\n",
    "print(narr1.dtype)\n"
   ]
  },
  {
   "cell_type": "code",
   "execution_count": 3,
   "id": "a6aca354",
   "metadata": {},
   "outputs": [
    {
     "name": "stdout",
     "output_type": "stream",
     "text": [
      "Changing the copy array\n",
      "[1000   20   30   40]\n",
      "[10 20 30 40]\n"
     ]
    }
   ],
   "source": [
    "# 2. copy() – Create a Copy of the Array\n",
    "# This method creates an independent copy of the array.\n",
    "\n",
    "arr1 = np.array([10,20,30,40])\n",
    "copy_arr1 = arr1.copy()\n",
    "\n",
    "print(\"Changing the copy array\")\n",
    "copy_arr1[0] = 1000\n",
    "print(copy_arr1)\n",
    "print(arr1)\n",
    "\n",
    "\n",
    "# Why use copy()? Because modifying a view of an array changes the original, but modifying a copy does not."
   ]
  },
  {
   "cell_type": "code",
   "execution_count": 5,
   "id": "3582d486",
   "metadata": {},
   "outputs": [
    {
     "name": "stdout",
     "output_type": "stream",
     "text": [
      "On Changing the view array changes will be reflected into the original array\n",
      "After changing view array [10000    20    30    40    50]\n",
      "After changing original array [10000    20    30    40    50]\n"
     ]
    }
   ],
   "source": [
    "# 3. view() – Create a View of the Array\n",
    "# Unlike copy(), a view is linked to the original array.\n",
    "\n",
    "arr1 = np.array([10,20,30,40,50])\n",
    "view_arr1 = arr1.view()\n",
    "\n",
    "print(\"On Changing the view array changes will be reflected into the original array\")\n",
    "view_arr1[0] = 10000\n",
    "print(\"After changing view array\",view_arr1)\n",
    "print(\"After changing original array\",arr1)\n"
   ]
  },
  {
   "cell_type": "code",
   "execution_count": 14,
   "id": "4e65d9df",
   "metadata": {},
   "outputs": [
    {
     "name": "stdout",
     "output_type": "stream",
     "text": [
      "Original Array [10 20 30 40]\n",
      "Reshaped Array [[10]\n",
      " [20]\n",
      " [30]\n",
      " [40]]\n",
      "<class 'numpy.ndarray'>\n",
      "\n",
      "Reshaped into 2D array\n",
      "Reshaped Array [[10 20]\n",
      " [30 40]]\n",
      "2\n"
     ]
    }
   ],
   "source": [
    "# 4. reshape() – Change the Shape of the Array\n",
    "# A 1D array can be reshaped into multi-dimensional arrays.\n",
    "\n",
    "arr1 =  np.array([10,20,30,40])\n",
    "# Here the first parameter is no. of rows  and second parameter is no of columns.\n",
    "reshaped_array1 = arr1.reshape(4,1)\n",
    "print(\"Original Array\",arr1)\n",
    "print(\"Reshaped Array\",reshaped_array1)\n",
    "print(type(reshaped_array1))\n",
    "print()\n",
    "\n",
    "print(\"Reshaped into 2D array\")\n",
    "reshaped_array2 = arr1.reshape(2,2)\n",
    "print(\"Reshaped Array\",reshaped_array2)\n",
    "print(reshaped_array2.ndim)"
   ]
  },
  {
   "cell_type": "code",
   "execution_count": 22,
   "id": "4dad5fdf",
   "metadata": {},
   "outputs": [
    {
     "name": "stdout",
     "output_type": "stream",
     "text": [
      "The 2D array [[10 20 30]\n",
      " [40 50 60]]\n",
      "\n",
      "Getting the 1D from the MultiDimensional Array\n",
      "The 1d Array from multidimensional array [10 20 30 40 50 60]\n",
      "The multidimensional array [[10 20 30]\n",
      " [40 50 60]]\n",
      "\n",
      "On changing the 0 index of the 1d array the changes will be reflected into the multidimensional array\n",
      "0th index is changed from 10 to 1000\n",
      "[1000   20   30   40   50   60]\n",
      "[[1000   20   30]\n",
      " [  40   50   60]]\n",
      "\n",
      "[1000   20   30   40   50 6000]\n",
      "[[1000   20   30]\n",
      " [  40   50 6000]]\n"
     ]
    }
   ],
   "source": [
    "# 5. ravel() – Flatten a Multi-Dimensional Array into 1D.\n",
    "# This method is useful when dealing with multi-dimensional arrays.\n",
    "\n",
    "# Here it return 1d array which the view of the multidimensional array.\n",
    "# On changing the 1d array the changes will be reflected into the original multidimensional array.\n",
    "\n",
    "arr2d = np.array([[10,20,30],[40,50,60]])\n",
    "print(\"The 2D array\",arr2d)\n",
    "print()\n",
    "\n",
    "print(\"Getting the 1D from the MultiDimensional Array\")\n",
    "arr1d = arr2d.ravel()\n",
    "print(\"The 1d Array from multidimensional array\",arr1d)\n",
    "print(\"The multidimensional array\",arr2d)\n",
    "print()\n",
    "\n",
    "print(\"On changing the 0 index of the 1d array the changes will be reflected into the multidimensional array\")\n",
    "print(\"0th index is changed from 10 to 1000\")\n",
    "arr1d[0] = 1000\n",
    "print(arr1d)\n",
    "print(arr2d)\n",
    "print()\n",
    "\n",
    "\n",
    "arr1d[5] = 6000\n",
    "print(arr1d)\n",
    "print(arr2d)\n",
    "# Use when: You need to convert multi-dimensional arrays to 1D format."
   ]
  },
  {
   "cell_type": "code",
   "execution_count": 27,
   "id": "f0ca5dc3",
   "metadata": {},
   "outputs": [
    {
     "name": "stdout",
     "output_type": "stream",
     "text": [
      "Multidimensional Array\n",
      "[[10 20 30]\n",
      " [40 50 60]]\n",
      "1D array from the MultiDimensional Array\n",
      "[10 20 30 40 50 60]\n"
     ]
    }
   ],
   "source": [
    "# 6. flatten() – Convert Multi-Dimensional Array to 1D\n",
    "# Similar to ravel(), but creates a copy instead of a view.\n",
    "# It return the 1d on changing the 1d array the changes will not be reflected bcz it return the copy of the array not the view.\n",
    "\n",
    "print(\"Multidimensional Array\")\n",
    "arr2d = np.array([[10,20,30],[40,50,60]])\n",
    "print(arr2d)\n",
    "\n",
    "print(\"1D array from the MultiDimensional Array\")\n",
    "arr1d = arr2d.flatten()\n",
    "print(arr1d)\n",
    "\n",
    "\n"
   ]
  },
  {
   "cell_type": "code",
   "execution_count": 32,
   "id": "af350910",
   "metadata": {},
   "outputs": [
    {
     "name": "stdout",
     "output_type": "stream",
     "text": [
      "[10 20 30 40]\n",
      "[[10]\n",
      " [20]\n",
      " [30]\n",
      " [40]]\n",
      "2\n",
      "Transposing the 2d [[10 20 30 40]] 2\n"
     ]
    }
   ],
   "source": [
    "# 7. transpose() or T – Transpose the Array\n",
    "# For a 1D array, it remains unchanged, but it is useful for 2D+ arrays.\n",
    "\n",
    "arr1d = np.array([10,20,30,40])\n",
    "print(arr1d)\n",
    "\n",
    "arr2d = arr1d.reshape(4,1)\n",
    "print(arr2d)\n",
    "print(arr2d.ndim)\n",
    "print(\"Transposing the 2d\",arr2d.T,arr2d.ndim)"
   ]
  },
  {
   "cell_type": "code",
   "execution_count": 33,
   "id": "7b3d096e",
   "metadata": {},
   "outputs": [
    {
     "name": "stdout",
     "output_type": "stream",
     "text": [
      "The maximum value from the array is 50\n",
      "The minimum value from the array is 10\n"
     ]
    }
   ],
   "source": [
    "# 8. max() and min() – Find Maximum and Minimum Value\n",
    "# Return the maximum and minimum value from the array.\n",
    "\n",
    "arr1 = np.array([10,20,30,40,50])\n",
    "print(\"The maximum value from the array is\",arr1.max())\n",
    "print(\"The minimum value from the array is\",arr1.min())\n",
    "\n",
    "# Use when: You need to find the largest or smallest element."
   ]
  },
  {
   "cell_type": "code",
   "execution_count": 34,
   "id": "c61e4b6c",
   "metadata": {},
   "outputs": [
    {
     "name": "stdout",
     "output_type": "stream",
     "text": [
      "[10 20 30 40 50]\n",
      "The sum of all the elements of the array is 150\n"
     ]
    }
   ],
   "source": [
    "# 9. sum() – Calculate Sum of All Elements\n",
    "# Return the sum of all the elements\n",
    "\n",
    "arr1 = np.array([10,20,30,40,50])\n",
    "print(arr1)\n",
    "print(\"The sum of all the elements of the array is\",arr1.sum())\n",
    "\n",
    "# Use when: You need to compute the sum of all elements."
   ]
  },
  {
   "cell_type": "code",
   "execution_count": 35,
   "id": "1090bbd4",
   "metadata": {},
   "outputs": [
    {
     "name": "stdout",
     "output_type": "stream",
     "text": [
      "The mean of the array is 30.0\n"
     ]
    }
   ],
   "source": [
    "# 10. mean() – Find the Average (Mean) Value\n",
    "# Return the average of the array.\n",
    "\n",
    "arr1 = np.array([10,20,30,40,50])\n",
    "print(\"The mean of the array is\",arr1.mean())\n"
   ]
  },
  {
   "cell_type": "code",
   "execution_count": 38,
   "id": "9a60e5dd",
   "metadata": {},
   "outputs": [
    {
     "name": "stdout",
     "output_type": "stream",
     "text": [
      "The standard deviation is 14.142135623730951\n",
      "The variance is 200.0\n"
     ]
    }
   ],
   "source": [
    "# 11. std() and var() – Standard Deviation and Variance\n",
    "\n",
    "arr1 = np.array([10,20,30,40,50])\n",
    "print(\"The standard deviation is\",arr1.std())\n",
    "print(\"The variance is\",arr1.var())\n",
    "\n",
    "# Use when: You need to measure the spread of data."
   ]
  },
  {
   "cell_type": "code",
   "execution_count": 41,
   "id": "3f9c37e7",
   "metadata": {},
   "outputs": [
    {
     "name": "stdout",
     "output_type": "stream",
     "text": [
      "The index which contains minimum value is 0\n",
      "The index which contains maximum value is 4\n"
     ]
    }
   ],
   "source": [
    "# 12. argmax() and argmin() – Find Indices of Max/Min Values\n",
    "# Return the index of the array that contains minimum and maximum value.\n",
    "\n",
    "arr1d = np.array([10,20,30,40,50])\n",
    "print(\"The index which contains minimum value is\",arr1d.argmin())\n",
    "print(\"The index which contains maximum value is\",arr1d.argmax())\n",
    "\n",
    "# Use case: When you need positions instead of values."
   ]
  },
  {
   "cell_type": "code",
   "execution_count": 47,
   "id": "981704f0",
   "metadata": {},
   "outputs": [
    {
     "name": "stdout",
     "output_type": "stream",
     "text": [
      "[1 1 2 3 4 5]\n"
     ]
    }
   ],
   "source": [
    "# 13. sort() – Sort the Array\n",
    "# It sort the original array.\n",
    "# Bydefault in ascending order.\n",
    "\n",
    "arr1d = np.array([3,1,4,5,1,2])\n",
    "arr1d.sort()\n",
    "print(arr1d)"
   ]
  },
  {
   "cell_type": "code",
   "execution_count": null,
   "id": "d81878c1",
   "metadata": {},
   "outputs": [],
   "source": [
    "# The sort() method in NumPy is used to sort elements in a NumPy array in ascending order by default. \n",
    "# It works with 1D, 2D, and multi-dimensional arrays, and it provides options for sorting along different axes.\n",
    "\n",
    "# Basic Syntax\n",
    "# numpy.sort(array, axis=-1, kind='quicksort', order=None)\n",
    "\n",
    "# Parameter\tDescription\n",
    "# 1.array\tThe NumPy array to be sorted\n",
    "# 2.axis\tSpecifies the axis along which sorting is performed (default is -1, meaning the last axis)\n",
    "# 3.kind\tThe sorting algorithm ('quicksort', 'mergesort', 'heapsort', 'stable')\n",
    "# 4.order\tUsed for structured arrays (not needed for normal arrays)\n"
   ]
  },
  {
   "cell_type": "code",
   "execution_count": 51,
   "id": "4d3d8c48",
   "metadata": {},
   "outputs": [
    {
     "name": "stdout",
     "output_type": "stream",
     "text": [
      "[1 1 2 3 4 4 6 7 9]\n"
     ]
    }
   ],
   "source": [
    "# Sorting a 1D NumPy Array\n",
    "# sorting the 1d array in ascending order which is default.\n",
    "\n",
    "arr1d = np.array([4,1,3,1,4,6,7,9,2])\n",
    "arr1d.sort()\n",
    "print(arr1d)\n"
   ]
  },
  {
   "cell_type": "code",
   "execution_count": 54,
   "id": "4952320a",
   "metadata": {},
   "outputs": [
    {
     "name": "stdout",
     "output_type": "stream",
     "text": [
      "[5 4 3 2 1]\n"
     ]
    }
   ],
   "source": [
    "# Sorting a 1D NumPy Array in Descending Order\n",
    "arr1d = np.array([1,2,3,4,5])\n",
    "arr1d = np.sort(arr1d)[::-1]\n",
    "print(arr1d)"
   ]
  },
  {
   "cell_type": "code",
   "execution_count": 56,
   "id": "d6184fd6",
   "metadata": {},
   "outputs": [
    {
     "name": "stdout",
     "output_type": "stream",
     "text": [
      "[[10 20 30]\n",
      " [40 50 60]]\n"
     ]
    }
   ],
   "source": [
    "# Sorting a 2D NumPy Array\n",
    "# For multi-dimensional arrays, sorting is done along axes.\n",
    "\n",
    "# Sorting Along Rows (axis=1)\n",
    "\n",
    "arr2d = np.array([[30,20,10],[60,50,40]])\n",
    "arr2d.sort(axis=1)\n",
    "# Here the sorting is performed row-wise.\n",
    "print(arr2d)"
   ]
  },
  {
   "cell_type": "code",
   "execution_count": 59,
   "id": "e8e8f2ca",
   "metadata": {},
   "outputs": [
    {
     "name": "stdout",
     "output_type": "stream",
     "text": [
      "[[10 20 30]\n",
      " [30 40 50]]\n"
     ]
    }
   ],
   "source": [
    "# Sorting Along Column (axis=0)\n",
    "\n",
    "arr2d = np.array([[30,40,50],[10,20,30]])\n",
    "arr2d.sort(axis=0)\n",
    "# Here the sorting is performed column-wise.\n",
    "print(arr2d)"
   ]
  },
  {
   "cell_type": "code",
   "execution_count": 60,
   "id": "35c46e5e",
   "metadata": {},
   "outputs": [
    {
     "name": "stdout",
     "output_type": "stream",
     "text": [
      "[1 1 2 3 4 5 9]\n",
      "[1 1 2 3 4 5 9]\n",
      "[1 1 2 3 4 5 9]\n"
     ]
    }
   ],
   "source": [
    "# Sorting with Different Sorting Algorithms (kind Parameter)\n",
    "# NumPy provides four sorting algorithms:\n",
    "\n",
    "# Algorithm\tDescription\n",
    "# 'quicksort'\tDefault, fast but unstable\n",
    "# 'mergesort'\tStable (preserves order of equal elements)\n",
    "# 'heapsort'\tSlower but memory efficient\n",
    "# 'stable'\tBest for structured data, keeps order of duplicates\n",
    "\n",
    "\n",
    "arr1d = np.array([3, 1, 4, 1, 5, 9, 2])\n",
    "print(np.sort(arr1d,kind='quicksort') # default \n",
    "print(np.sort(arr1d,kind='mergesort')) #stable sort\n",
    "print(np.sort(arr1d,kind='heapsort')) # memory efficient"
   ]
  },
  {
   "cell_type": "code",
   "execution_count": 65,
   "id": "a856c46f",
   "metadata": {},
   "outputs": [
    {
     "name": "stdout",
     "output_type": "stream",
     "text": [
      "[(b'Bob', 22) (b'Alice', 25) (b'Charlie', 30)]\n"
     ]
    }
   ],
   "source": [
    "# Sorting a Structured Array (order Parameter)\n",
    "# If an array contains named fields, we can sort by a specific field.\n",
    "\n",
    "dtype = [('name','S10'),('age','int')]\n",
    "arr1d = np.array([('Alice', 25),('Bob', 22),('Charlie', 30)],dtype=dtype)\n",
    "arr1d.sort(order='age')\n",
    "print(arr1d)\n",
    "\n",
    "# The names are displayed as byte strings (b'Bob') because of the 'S10' dtype."
   ]
  },
  {
   "cell_type": "code",
   "execution_count": 66,
   "id": "0eaa1327",
   "metadata": {},
   "outputs": [],
   "source": [
    "# Key Differences Between S10 and U10\n",
    "# Data Type\tStorage Type\tPrinted Output\tSupports Unicode?\n",
    "# 'S10'\tFixed-size bytes\tb'Alice'\t❌ No\n",
    "# 'U10'\tUnicode (UTF-32)\t'Alice'\t✅ Yes\n",
    "\n",
    "# When to Use S10 vs. U10?\n",
    "# Use 'S10' (bytes) when working with raw binary data or when size constraints are strict.\n",
    "# Use 'U10' (Unicode) for normal text handling and human-readable output."
   ]
  },
  {
   "cell_type": "code",
   "execution_count": 57,
   "id": "7ae08d84",
   "metadata": {},
   "outputs": [
    {
     "name": "stdout",
     "output_type": "stream",
     "text": [
      "[1 2 3 4 5 6 7 8]\n"
     ]
    }
   ],
   "source": [
    "# 14. concatenate() – Combine Two Arrays\n",
    "# Return the new array which contains all the elements of both the arrays.\n",
    "\n",
    "arr1d = np.array([1,2,3,4])\n",
    "arr2d = np.array([5,6,7,8])\n",
    "arr3d = np.concatenate((arr1d,arr2d))\n",
    "print(arr3d)"
   ]
  },
  {
   "cell_type": "code",
   "execution_count": 67,
   "id": "47556178",
   "metadata": {},
   "outputs": [],
   "source": [
    "# The concatenate() function in NumPy is used to join two or more arrays along a specified axis.\n",
    "\n",
    "# Syntax\n",
    "# numpy.concatenate((array1, array2, ...), axis=0)\n",
    "\n",
    "# Parameter\tDescription\n",
    "# array1, array2, ...\tThe arrays to be concatenated (must have the same shape along the concatenation axis)\n",
    "# axis\tThe axis along which to concatenate (default is 0)"
   ]
  },
  {
   "cell_type": "code",
   "execution_count": 68,
   "id": "6ee94fb8",
   "metadata": {},
   "outputs": [
    {
     "name": "stdout",
     "output_type": "stream",
     "text": [
      "[1 2 3 4 5 6 7 8]\n"
     ]
    }
   ],
   "source": [
    "# Concatenating 1D Array\n",
    "\n",
    "arr1 = np.array([1,2,3,4,5])\n",
    "arr2 = np.array([6,7,8])\n",
    "\n",
    "arr3 = np.concatenate((arr1,arr2))\n",
    "print(arr3)"
   ]
  },
  {
   "cell_type": "code",
   "execution_count": 71,
   "id": "c00725ea",
   "metadata": {},
   "outputs": [
    {
     "name": "stdout",
     "output_type": "stream",
     "text": [
      "[[10 20]\n",
      " [30 40]\n",
      " [50 60]\n",
      " [70 80]]\n"
     ]
    }
   ],
   "source": [
    "# Concatenating 2D Arrays\n",
    "# By default, axis=0 (rows), but we can also use axis=1 (columns).\n",
    "\n",
    "arr1 = np.array([[10,20],[30,40]])\n",
    "arr2 = np.array([[50,60],[70,80]])\n",
    "\n",
    "arr3 = np.concatenate((arr1,arr2),axis=0)\n",
    "print(arr3)"
   ]
  },
  {
   "cell_type": "code",
   "execution_count": 72,
   "id": "0da87a41",
   "metadata": {},
   "outputs": [
    {
     "name": "stdout",
     "output_type": "stream",
     "text": [
      "[[10 20 50 60]\n",
      " [30 40 70 80]]\n"
     ]
    }
   ],
   "source": [
    "# colum-wise concatenation\n",
    "\n",
    "arr1 = np.array([[10,20],[30,40]])\n",
    "arr2 = np.array([[50,60],[70,80]])\n",
    "\n",
    "arr3 = np.concatenate((arr1,arr2),axis=1)\n",
    "print(arr3)"
   ]
  },
  {
   "cell_type": "code",
   "execution_count": 75,
   "id": "b052301b",
   "metadata": {},
   "outputs": [
    {
     "name": "stdout",
     "output_type": "stream",
     "text": [
      "[1 2 3 4 5]\n"
     ]
    }
   ],
   "source": [
    "# 15. unique() – Find Unique Elements\n",
    "# Return the array containing the unique elements.\n",
    "# This method is called with the numpy not with the array.\n",
    "# bcz array has no attribute or method like unique.\n",
    "\n",
    "arr1d = np.array([1,1,2,2,3,3,4,5])\n",
    "uni_arr1d = np.unique(arr1d)\n",
    "print(uni_arr1d)\n",
    "\n",
    "# Use case: Removing duplicates."
   ]
  },
  {
   "cell_type": "code",
   "execution_count": 76,
   "id": "65a2c3be",
   "metadata": {},
   "outputs": [
    {
     "name": "stdout",
     "output_type": "stream",
     "text": [
      "The unique elements of the array is [1 2 3 4 5]\n",
      "The unique indices from the array is [0 1 3 5 8]\n",
      "The count of the unique elements is [3 2 1 2 1]\n"
     ]
    }
   ],
   "source": [
    "# The np.unique() function is used to find unique elements in an array. \n",
    "# It removes duplicate values and returns a sorted array of unique elements.\n",
    "\n",
    "# Syntax\n",
    "# numpy.unique(array, return_index=False, return_counts=False)\n",
    "\n",
    "# Parameter\tDescription\n",
    "# array\tInput array from which unique elements are extracted\n",
    "# return_index\tIf True, returns the indices of unique elements in the original array\n",
    "# return_counts\tIf True, returns the count of each unique element\n",
    "\n",
    "arr1d = np.array([1,2,1,3,1,4,2,4,5])\n",
    "new_arr,indices,count = np.unique(arr1d,return_index=True,return_counts=True)\n",
    "print(\"The unique elements of the array is\",new_arr)\n",
    "print(\"The unique indices from the array is\",indices)\n",
    "print(\"The count of the unique elements is\",count)\n",
    "\n",
    "# return_index=True: Returns the index of the first occurrence of each unique value.\n",
    "# return_counts=True: Returns how many times each unique element appears."
   ]
  },
  {
   "cell_type": "code",
   "execution_count": 87,
   "id": "29d170fb",
   "metadata": {},
   "outputs": [
    {
     "name": "stdout",
     "output_type": "stream",
     "text": [
      "The indexes whose value is greater than the condition written in where is (array([2, 3, 4], dtype=int64),) <class 'tuple'>\n"
     ]
    }
   ],
   "source": [
    "# 16. where() – Find Elements That Match a Condition\n",
    "# The np.where() function is used to find the indices of elements in an array that satisfy a given condition.\n",
    "\n",
    "# Syntax\n",
    "# numpy.where(condition, [x, y])\n",
    "\n",
    "# Parameter\tDescription\n",
    "# condition\tA boolean condition to filter elements\n",
    "# x, y (optional)\tIf provided, replaces True values with x and False values with y\n",
    "\n",
    "#  The output is a tuple containing an array of matching indices.\n",
    "\n",
    "arr1d = np.array([10,20,30,40,50])\n",
    "idx = np.where(arr1d>20)\n",
    "print(\"The indexes whose value is greater than the condition written in where is\",idx,type(idx))\n",
    "\n",
    "# Use case: Filtering elements dynamically."
   ]
  },
  {
   "cell_type": "code",
   "execution_count": 86,
   "id": "a924b235",
   "metadata": {},
   "outputs": [
    {
     "name": "stdout",
     "output_type": "stream",
     "text": [
      "[   0    0 1000 1000 1000]\n",
      "<class 'numpy.ndarray'>\n"
     ]
    }
   ],
   "source": [
    "# Here it repalces the true values with 1000 and false values with 0. \n",
    "arr1d = np.array([10,20,30,40,50])\n",
    "idx = np.where(arr1d>20,1000,0)\n",
    "print(idx)\n",
    "print(type(idx))"
   ]
  },
  {
   "cell_type": "code",
   "execution_count": 89,
   "id": "0ecd913d",
   "metadata": {},
   "outputs": [
    {
     "name": "stdout",
     "output_type": "stream",
     "text": [
      "[2 2 3 4 4 4 4 4 4 4]\n"
     ]
    }
   ],
   "source": [
    "# 17. clip() – Limit Values to a Range\n",
    "# The clip() method in NumPy is used to limit (restrict) values in an array within a specified range.\n",
    "# If a value is less than the minimum, it is set to the minimum.\n",
    "# If a value is greater than the maximum, it is set to the maximum.\n",
    "\n",
    "arr1d = np.array([1,2,3,4,5,6,7,8,9,10])\n",
    "clip_arr = arr1d.clip(min=2,max=4)\n",
    "print(clip_arr)\n",
    "\n",
    "# Use case: Capping values to avoid extreme values.\n",
    "\n",
    "# Use Case: Avoiding Extreme Values\n",
    "# Clipping is useful in scenarios like:\n",
    "\n",
    "# Image Processing: Limiting pixel values between 0-255 to prevent overflow.\n",
    "# Machine Learning: Preventing extreme outliers in training data.\n",
    "# Signal Processing: Keeping values within a meaningful range."
   ]
  },
  {
   "cell_type": "code",
   "execution_count": 91,
   "id": "d0454eb4",
   "metadata": {},
   "outputs": [
    {
     "name": "stdout",
     "output_type": "stream",
     "text": [
      "Here it return false bcz 0 is treated as the false which means it doesn't contains all the true values False\n",
      "Here it returns true bcz the array needs to aleast one true which is present that's why it return true True\n"
     ]
    }
   ],
   "source": [
    "# 18. all() and any() – Boolean Checks\n",
    "\n",
    "# The all() and any() methods in NumPy are boolean functions that check whether all or some elements in an array are True.\n",
    "\n",
    "# Syntax\n",
    "# numpy.all(array, axis=None)\n",
    "# numpy.any(array, axis=None)\n",
    "\n",
    "# Method\tDescription\n",
    "# all()\tReturns True if all elements are True; otherwise, False\n",
    "# any()\tReturns True if at least one element is True\n",
    "\n",
    "arr1d = np.array([1,2,3,1,0])\n",
    "new_arr = arr1d.all()\n",
    "new_arr1 = arr1d.any()\n",
    "print(\"Here it return false bcz 0 is treated as the false which means it doesn't contains all the true values\",new_arr)\n",
    "print(\"Here it returns true bcz the array needs to aleast one true which is present that's why it return true\",new_arr1)"
   ]
  },
  {
   "cell_type": "code",
   "execution_count": 92,
   "id": "b8dc64f8",
   "metadata": {},
   "outputs": [
    {
     "name": "stdout",
     "output_type": "stream",
     "text": [
      "[ True  True False]\n",
      "[False  True]\n"
     ]
    }
   ],
   "source": [
    "# Using axis Parameter\n",
    "# When working with multi-dimensional arrays, we can use axis to check along rows or columns.\n",
    "\n",
    "arr2d = np.array([[True,True,False],[True,True,True]])\n",
    "new_row = arr2d.all(axis=0)\n",
    "new_col = arr2d.all(axis=1)\n",
    "print(new_row)\n",
    "print(new_col)\n"
   ]
  },
  {
   "cell_type": "code",
   "execution_count": null,
   "id": "079b79b8",
   "metadata": {},
   "outputs": [],
   "source": [
    "# 19.np.cumsum() and np.cumprod() – Cumulative Sum & Product in NumPy\n",
    "# Both np.cumsum() and np.cumprod() perform cumulative operations on arrays:\n",
    "\n",
    "# cumsum() → Returns the cumulative sum of elements.\n",
    "# cumprod() → Returns the cumulative product of elements.\n",
    "# These methods are useful in financial analysis, data processing, probability calculations, and signal processing."
   ]
  },
  {
   "cell_type": "code",
   "execution_count": 38,
   "id": "adce88d4",
   "metadata": {},
   "outputs": [
    {
     "name": "stdout",
     "output_type": "stream",
     "text": [
      "[1 2 3 4 5 6]\n",
      "[ 1  3  6 10 15 21]\n",
      "<class 'numpy.ndarray'>\n"
     ]
    }
   ],
   "source": [
    "# i. np.cumsum() – Cumulative Sum\n",
    "# cumsum() computes the running total of an array’s elements\n",
    "\n",
    "# Syntax:\n",
    "# np.cumsum(array, axis=None, dtype=None, out=None)\n",
    "\n",
    "# Parameters:\n",
    "# array → The input array.\n",
    "# axis → Specifies the axis to compute the cumulative sum (ignored for 1D).\n",
    "# dtype → Specifies the data type of the output.\n",
    "# out → A pre-allocated output array (optional).\n",
    "\n",
    "arr1 = np.array([1,2,3,4,5,6])\n",
    "print(arr1)\n",
    "\n",
    "print(arr1.cumsum())\n",
    "print(type(arr1.cumsum()))"
   ]
  },
  {
   "cell_type": "code",
   "execution_count": 40,
   "id": "20fb7c6a",
   "metadata": {},
   "outputs": [
    {
     "name": "stdout",
     "output_type": "stream",
     "text": [
      "[1 2 3 4 5]\n",
      "[  1   2   6  24 120]\n",
      "<class 'numpy.ndarray'>\n"
     ]
    }
   ],
   "source": [
    "# 2. np.cumprod() – Cumulative Product\n",
    "# cumprod() calculates the running product of an array’s elements.\n",
    "\n",
    "# Syntax:\n",
    "# np.cumprod(array, axis=None, dtype=None, out=None)\n",
    "\n",
    "# Parameters:\n",
    "# array → The input array.\n",
    "# axis → The axis along which to compute (ignored for 1D).\n",
    "# dtype → Specifies the data type of the output.\n",
    "# out → A pre-allocated output array (optional).\n",
    "# use the already created array but the array we are using must have same number of element as the original array.\n",
    "\n",
    "arr1 = np.array([1,2,3,4,5])\n",
    "print(arr1)\n",
    "\n",
    "print(arr1.cumprod())\n",
    "print(type(arr1.cumprod()))"
   ]
  },
  {
   "cell_type": "markdown",
   "id": "af1f6cb0",
   "metadata": {},
   "source": [
    "# Indexing and Slicing in a 1D NumPy Array"
   ]
  },
  {
   "cell_type": "code",
   "execution_count": 41,
   "id": "a2364a97",
   "metadata": {},
   "outputs": [],
   "source": [
    "# Indexing and slicing in NumPy work similarly to Python lists but with more powerful features. \n",
    "# They allow you to access and modify elements in an array efficiently."
   ]
  },
  {
   "cell_type": "code",
   "execution_count": 42,
   "id": "d3d3f6c3",
   "metadata": {},
   "outputs": [
    {
     "name": "stdout",
     "output_type": "stream",
     "text": [
      "[10 20 30 40 50]\n",
      "<class 'numpy.ndarray'>\n"
     ]
    }
   ],
   "source": [
    "# Indexing in a 1D NumPy Array\n",
    "\n",
    "# Indexing refers to selecting a specific element from the array using its position (index number).\n",
    "# In NumPy, indexing starts from 0 (zero-based indexing).\n",
    "\n",
    "\n",
    "import numpy as np\n",
    "\n",
    "arr1 = np.array([10,20,30,40,50])\n",
    "print(arr1)\n",
    "print(type(arr1))"
   ]
  },
  {
   "cell_type": "code",
   "execution_count": 43,
   "id": "a8c93fc5",
   "metadata": {},
   "outputs": [
    {
     "name": "stdout",
     "output_type": "stream",
     "text": [
      "10\n",
      "20\n",
      "30\n"
     ]
    }
   ],
   "source": [
    "# Positive Indexing\n",
    "# Which starts from the 0 upto the length of the (1D array - 1).\n",
    "\n",
    "print(arr1[0])\n",
    "print(arr1[1])\n",
    "print(arr1[2])"
   ]
  },
  {
   "cell_type": "code",
   "execution_count": 44,
   "id": "4c070961",
   "metadata": {},
   "outputs": [
    {
     "name": "stdout",
     "output_type": "stream",
     "text": [
      "50\n",
      "40\n",
      "30\n"
     ]
    }
   ],
   "source": [
    "# Negative Indexing \n",
    "# This starts from the -1 to the end of the array and decrease upto the first element of the array.\n",
    "# You can also use negative indices to access elements from the end.\n",
    "\n",
    "print(arr1[-1])\n",
    "print(arr1[-2])\n",
    "print(arr1[-3])"
   ]
  },
  {
   "cell_type": "code",
   "execution_count": 45,
   "id": "abc6097c",
   "metadata": {},
   "outputs": [],
   "source": [
    "# Slicing in a 1D NumPy Array\n",
    "\n",
    "# Slicing allows us to extract a portion (subarray) of elements from the array.\n",
    "# On Slicing the ndarray array we got the ndarray.\n",
    "\n",
    "# Basic Syntax\n",
    "# array[start:stop:step]\n",
    "\n",
    "# Parameter\tMeaning\n",
    "# start\tStarting index (included)\n",
    "# stop\tStopping index (excluded)\n",
    "# step\tStep size (default is 1)"
   ]
  },
  {
   "cell_type": "code",
   "execution_count": 46,
   "id": "e1e06efc",
   "metadata": {},
   "outputs": [
    {
     "name": "stdout",
     "output_type": "stream",
     "text": [
      "[10 20 30 40 50]\n"
     ]
    }
   ],
   "source": [
    "arr1 = np.array([10,20,30,40,50])\n",
    "print(arr1)"
   ]
  },
  {
   "cell_type": "code",
   "execution_count": 47,
   "id": "4dd513c6",
   "metadata": {},
   "outputs": [
    {
     "name": "stdout",
     "output_type": "stream",
     "text": [
      "[10 20 30 40 50]\n"
     ]
    }
   ],
   "source": [
    "print(arr1[0:])"
   ]
  },
  {
   "cell_type": "code",
   "execution_count": 48,
   "id": "f8df9aef",
   "metadata": {},
   "outputs": [
    {
     "name": "stdout",
     "output_type": "stream",
     "text": [
      "[10 20 30 40 50]\n"
     ]
    }
   ],
   "source": [
    "print(arr1[:len(arr1)])"
   ]
  },
  {
   "cell_type": "code",
   "execution_count": 49,
   "id": "f1749dec",
   "metadata": {},
   "outputs": [
    {
     "name": "stdout",
     "output_type": "stream",
     "text": [
      "[10 20 30 40 50]\n"
     ]
    }
   ],
   "source": [
    "print(arr1[:])"
   ]
  },
  {
   "cell_type": "code",
   "execution_count": 50,
   "id": "58e8e396",
   "metadata": {},
   "outputs": [
    {
     "name": "stdout",
     "output_type": "stream",
     "text": [
      "[20 30 40]\n",
      "<class 'numpy.ndarray'>\n"
     ]
    }
   ],
   "source": [
    "print(arr1[1:4])\n",
    "print(type(arr1[1:4]))"
   ]
  },
  {
   "cell_type": "code",
   "execution_count": 51,
   "id": "23b21af4",
   "metadata": {},
   "outputs": [
    {
     "name": "stdout",
     "output_type": "stream",
     "text": [
      "[50 40 30 20 10]\n"
     ]
    }
   ],
   "source": [
    "# reverse of the ndarray\n",
    "print(arr1[::-1])"
   ]
  },
  {
   "cell_type": "code",
   "execution_count": 52,
   "id": "15117194",
   "metadata": {},
   "outputs": [
    {
     "name": "stdout",
     "output_type": "stream",
     "text": [
      "[10 30 50]\n"
     ]
    }
   ],
   "source": [
    "print(arr1[::2])"
   ]
  },
  {
   "cell_type": "code",
   "execution_count": 53,
   "id": "66bcb7f2",
   "metadata": {},
   "outputs": [
    {
     "name": "stdout",
     "output_type": "stream",
     "text": [
      "[50 40]\n"
     ]
    }
   ],
   "source": [
    "print(arr1[-1:-3:-1])"
   ]
  },
  {
   "cell_type": "markdown",
   "id": "0ddcd7a1",
   "metadata": {},
   "source": [
    "# Modifying Elements Using Indexing and Slicing"
   ]
  },
  {
   "cell_type": "code",
   "execution_count": 54,
   "id": "a767a0c8",
   "metadata": {},
   "outputs": [
    {
     "name": "stdout",
     "output_type": "stream",
     "text": [
      "[10 20 30 40 50]\n"
     ]
    }
   ],
   "source": [
    "# You can modify elements directly using indexing and slicing.\n",
    "\n",
    "arr1 = np.array([10,20,30,40,50])\n",
    "print(arr1)"
   ]
  },
  {
   "cell_type": "code",
   "execution_count": 55,
   "id": "70817dff",
   "metadata": {},
   "outputs": [
    {
     "name": "stdout",
     "output_type": "stream",
     "text": [
      "[1000   20   30   40   50]\n"
     ]
    }
   ],
   "source": [
    "# Modifying the 0th index of the array\n",
    "arr1[0] = 1000\n",
    "# After modifying the 0th index the changes will be reflected into the original array.\n",
    "print(arr1)"
   ]
  },
  {
   "cell_type": "code",
   "execution_count": 56,
   "id": "223a96f1",
   "metadata": {},
   "outputs": [
    {
     "name": "stdout",
     "output_type": "stream",
     "text": [
      "[1000   20 3000 4000   50]\n"
     ]
    }
   ],
   "source": [
    "# Modifying the sequence of values.\n",
    "arr1[2:4] = [3000,4000]\n",
    "print(arr1)"
   ]
  },
  {
   "cell_type": "code",
   "execution_count": 57,
   "id": "b62cf37d",
   "metadata": {},
   "outputs": [],
   "source": [
    "# Slicing and indexing are essential in NumPy, and when combined with conditional filtering, they provide powerful ways to manipulate and extract data. \n",
    "# Let’s go through various advanced slicing techniques step by step."
   ]
  },
  {
   "cell_type": "markdown",
   "id": "76837a51",
   "metadata": {},
   "source": [
    "# 1. Boolean Indexing: Filtering Elements Using Conditions"
   ]
  },
  {
   "cell_type": "code",
   "execution_count": 58,
   "id": "76195ac1",
   "metadata": {},
   "outputs": [
    {
     "name": "stdout",
     "output_type": "stream",
     "text": [
      "[10 20 30 40 50]\n",
      "[10 20 30 40 50]\n",
      "[40 50]\n"
     ]
    }
   ],
   "source": [
    "#  Selecting Elements Greater Than a Value\n",
    "\n",
    "arr1 = np.array([10,20,30,40,50])\n",
    "print(arr1)\n",
    "\n",
    "arr2 = arr1[arr1>30]\n",
    "print(arr1)\n",
    "print(arr2)\n",
    "\n",
    "# Flow of Execution\n",
    "# Step\tOperation\tResult\n",
    "# 1\tCreate arr = [10, 20, 30, 40, 50]\t[10, 20, 30, 40, 50]\n",
    "# 2\tApply arr > 25\t[False, False, True, True, True]\n",
    "# 3\tNumPy extracts only True values\t[30, 40, 50]\n",
    "# 4\tPrint result\t[30 40 50]"
   ]
  },
  {
   "cell_type": "markdown",
   "id": "aa7957ba",
   "metadata": {},
   "source": [
    "# 2. Filtering Even Numbers"
   ]
  },
  {
   "cell_type": "code",
   "execution_count": 59,
   "id": "18c1e878",
   "metadata": {},
   "outputs": [
    {
     "name": "stdout",
     "output_type": "stream",
     "text": [
      "[ 1  2  3  4  5  6  7  8  9 10]\n",
      "[ 2  4  6  8 10]\n"
     ]
    }
   ],
   "source": [
    "# We can use modulus operator (%) to extract even numbers.\n",
    "\n",
    "arr1 = np.array([1,2,3,4,5,6,7,8,9,10])\n",
    "print(arr1)\n",
    "\n",
    "even_arr = arr1[arr1%2==0]\n",
    "print(even_arr)\n",
    "\n",
    "# Flow of Execution\n",
    "# Step\tOperation\tResult\n",
    "# 1\tCreate arr = [1, 2, 3, 4, 5, 6, 7, 8, 9, 10]\t[1, 2, 3, 4, 5, 6, 7, 8, 9, 10]\n",
    "# 2\tApply arr % 2 == 0\t[False, True, False, True, False, True, False, True, False, True]\n",
    "# 3\tNumPy extracts only True values\t[2, 4, 6, 8, 10]\n",
    "# 4\tPrint result\t[2 4 6 8 10]"
   ]
  },
  {
   "cell_type": "markdown",
   "id": "2d5e4bd6",
   "metadata": {},
   "source": [
    "# 3. Filtering Values Within a Range"
   ]
  },
  {
   "cell_type": "code",
   "execution_count": 60,
   "id": "7b5f7e99",
   "metadata": {},
   "outputs": [
    {
     "name": "stdout",
     "output_type": "stream",
     "text": [
      "[ 5 10 15 20 25 30 35]\n",
      "[10 15 20 25]\n"
     ]
    }
   ],
   "source": [
    "# We can use multiple conditions using & (AND) and | (OR).\n",
    "\n",
    "arr1 = np.array([5,10,15,20,25,30,35])\n",
    "print(arr1)\n",
    "\n",
    "range_arr = arr1[((arr1>=10) &(arr1<=25))]\n",
    "print(range_arr)\n",
    "\n",
    "\n",
    "# Flow of Execution\n",
    "# Step\tOperation\tResult\n",
    "# 1\tCreate arr = [5, 10, 15, 20, 25, 30, 35]\t[5, 10, 15, 20, 25, 30, 35]\n",
    "# 2\tApply (arr >= 10) & (arr <= 30)\t[False, True, True, True, True, True, False]\n",
    "# 3\tNumPy extracts only True values\t[10, 15, 20, 25, 30]\n",
    "# 4\tPrint result\t[10 15 20 25 30]"
   ]
  },
  {
   "cell_type": "markdown",
   "id": "e91cf7b0",
   "metadata": {},
   "source": [
    "# 4. Replacing Values Based on Conditions"
   ]
  },
  {
   "cell_type": "code",
   "execution_count": 61,
   "id": "f3f13928",
   "metadata": {},
   "outputs": [
    {
     "name": "stdout",
     "output_type": "stream",
     "text": [
      "[10 20 30 40 50]\n",
      "[ 10  20 100 100 100]\n"
     ]
    }
   ],
   "source": [
    "# Instead of just filtering, we can modify elements using conditional indexing.\n",
    "\n",
    "arr1 = np.array([10,20,30,40,50])\n",
    "print(arr1)\n",
    "\n",
    "arr1[arr1>20] = 100\n",
    "print(arr1)\n",
    "\n",
    "# Flow of Execution\n",
    "# Step\tOperation\tResult\n",
    "# 1\tCreate arr = [1, 2, 3, 4, 5, 6]\t[1, 2, 3, 4, 5, 6]\n",
    "# 2\tApply arr > 3\t[False, False, False, True, True, True]\n",
    "# 3\tReplace True values with 99\t[1, 2, 3, 99, 99, 99]\n",
    "# 4\tPrint result\t[1 2 3 99 99 99]"
   ]
  },
  {
   "cell_type": "markdown",
   "id": "1d47ae39",
   "metadata": {},
   "source": [
    "# 5. Extracting Odd-Indexed Elements Using Slicing\n"
   ]
  },
  {
   "cell_type": "code",
   "execution_count": 63,
   "id": "1f01bd5b",
   "metadata": {},
   "outputs": [
    {
     "name": "stdout",
     "output_type": "stream",
     "text": [
      "[10 20 30 40 50]\n",
      "[20 40]\n"
     ]
    }
   ],
   "source": [
    "# We can extract elements at odd indices using slicing.\n",
    "\n",
    "arr1 = np.array([10,20,30,40,50])\n",
    "print(arr1)\n",
    "\n",
    "odd_idx_arr = arr1[1::2]\n",
    "print(odd_idx_arr)"
   ]
  },
  {
   "cell_type": "code",
   "execution_count": null,
   "id": "c8e5924a",
   "metadata": {},
   "outputs": [],
   "source": []
  }
 ],
 "metadata": {
  "kernelspec": {
   "display_name": "Python 3 (ipykernel)",
   "language": "python",
   "name": "python3"
  },
  "language_info": {
   "codemirror_mode": {
    "name": "ipython",
    "version": 3
   },
   "file_extension": ".py",
   "mimetype": "text/x-python",
   "name": "python",
   "nbconvert_exporter": "python",
   "pygments_lexer": "ipython3",
   "version": "3.11.5"
  }
 },
 "nbformat": 4,
 "nbformat_minor": 5
}
