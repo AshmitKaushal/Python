{
 "cells": [
  {
   "cell_type": "markdown",
   "id": "cbfe2eb0",
   "metadata": {},
   "source": [
    "# Functions"
   ]
  },
  {
   "cell_type": "code",
   "execution_count": 2,
   "id": "66d98fc3",
   "metadata": {},
   "outputs": [],
   "source": [
    "# Functions are the block of code that perform a particular task.\n",
    "# There are two types of functions in python.\n",
    "# 1. Built in functions\n",
    "# 2. User Defined functions."
   ]
  },
  {
   "cell_type": "markdown",
   "id": "ffd80a50",
   "metadata": {},
   "source": [
    "# User Define Functions"
   ]
  },
  {
   "cell_type": "code",
   "execution_count": 1,
   "id": "9d805c8e",
   "metadata": {},
   "outputs": [
    {
     "name": "stdout",
     "output_type": "stream",
     "text": [
      "Hello, ALice\n"
     ]
    }
   ],
   "source": [
    "# User define are the functions which are created by the developer with the help of def keyword.\n",
    "# Syntax:\n",
    "#       def function_name(argument1,argument2....):\n",
    "#             definition of the function\n",
    "\n",
    "# We can call the function with the function name().\n",
    "\n",
    "\n",
    "def greet(name):\n",
    "    print(\"Hello,\",name)\n",
    "greet(\"ALice\")"
   ]
  },
  {
   "cell_type": "code",
   "execution_count": 2,
   "id": "01c8116d",
   "metadata": {},
   "outputs": [
    {
     "name": "stdout",
     "output_type": "stream",
     "text": [
      "<class 'tuple'>\n",
      "(100, 400, 900)\n"
     ]
    }
   ],
   "source": [
    "# Returing multiple values from the return the statment inside the function\n",
    "# Then the data will be returned in the form of the tuple.\n",
    "def test1(x,y,z):\n",
    "    return x*10,y*20,z*30\n",
    "\n",
    "res = test1(10,20,30)\n",
    "print(type(res))\n",
    "print(res)"
   ]
  },
  {
   "cell_type": "code",
   "execution_count": 37,
   "id": "96642309",
   "metadata": {},
   "outputs": [
    {
     "name": "stdout",
     "output_type": "stream",
     "text": [
      "2\n",
      "6\n",
      "3\n"
     ]
    }
   ],
   "source": [
    "# Unpacking the data from the tuple.\n",
    "\n",
    "def test1(x,y,z):\n",
    "    return x*2,y*3,x+y\n",
    "\n",
    "c,v,b = test1(1,2,3)\n",
    "print(c)\n",
    "print(v)\n",
    "print(b)"
   ]
  },
  {
   "cell_type": "code",
   "execution_count": 38,
   "id": "4148c1fd",
   "metadata": {},
   "outputs": [
    {
     "name": "stdout",
     "output_type": "stream",
     "text": [
      "10 20 30\n"
     ]
    }
   ],
   "source": [
    "a,b,c = [10,20,30]\n",
    "print(a,b,c)"
   ]
  },
  {
   "cell_type": "code",
   "execution_count": 44,
   "id": "fa1bb405",
   "metadata": {},
   "outputs": [
    {
     "name": "stdout",
     "output_type": "stream",
     "text": [
      "20\n",
      "60\n",
      "30\n"
     ]
    }
   ],
   "source": [
    "# _ is commonly used as a placeholder for variables whose values are irrelevant or unused. \n",
    "# It indicates that the value can be ignored.\n",
    "\n",
    "def test2(x,y,z):\n",
    "    return x*2,y*3,x+y\n",
    "c,_,b = test1(10,20,30)\n",
    "print(c)\n",
    "print(_)\n",
    "print(b)"
   ]
  },
  {
   "cell_type": "code",
   "execution_count": 3,
   "id": "ecf42b0d",
   "metadata": {},
   "outputs": [
    {
     "name": "stdout",
     "output_type": "stream",
     "text": [
      "10\n",
      "40\n",
      "90 160 10 20 30 40\n",
      "[90, 160, 10, 20, 30, 40]\n",
      "<class 'list'>\n"
     ]
    }
   ],
   "source": [
    "def test3(a,b,c,d):\n",
    "    return a*1,b*2,c*3,d*4,10,20,30,40\n",
    "\n",
    "a,b,*_ = test3(10,20,30,40)\n",
    "print(a)\n",
    "print(b)\n",
    "\n",
    "# *_ is a special syntax in Python that collects all remaining values into a list. In this case:\n",
    "# _ = [90, 160, 10, 20, 30, 40]\n",
    "print(*_)\n",
    "print(_)\n",
    "print(type(_))\n",
    "# The *_ contains all remaining values [90, 160, 10, 20, 30, 40].\n",
    "# The * operator unpacks the list, printing each element separated by a space\n"
   ]
  },
  {
   "cell_type": "code",
   "execution_count": 61,
   "id": "29300f3e",
   "metadata": {},
   "outputs": [
    {
     "name": "stdout",
     "output_type": "stream",
     "text": [
      "30\n",
      "30\n",
      "30\n"
     ]
    }
   ],
   "source": [
    "# Using multiple placeholder \n",
    "def test1(a,b,c):\n",
    "    return a,b,c\n",
    "\n",
    "_,_,_ = test1(10,20,30)\n",
    "print(_)\n",
    "print(_)\n",
    "print(_)\n",
    "\n",
    "# When you call print(_), Python will print the value of _, which is 30 (since _ will hold the last unpacked value).\n",
    "# Since the value of _ is updated during the unpacking, the same value (i.e., 30) is printed multiple times."
   ]
  },
  {
   "cell_type": "code",
   "execution_count": 62,
   "id": "cf62fe6e",
   "metadata": {},
   "outputs": [
    {
     "name": "stdout",
     "output_type": "stream",
     "text": [
      "30\n"
     ]
    }
   ],
   "source": [
    "# Using multiple return statment inside the function\n",
    "\n",
    "def add(a,b):\n",
    "    return a+b\n",
    "    return a*b\n",
    "print(add(10,20))\n",
    "\n",
    "# In Python, when a return statement is executed, the function immediately terminates and the control is returned to the caller.\n",
    "# Any code written after the return statement will be unreachable and therefore won't execute."
   ]
  },
  {
   "cell_type": "code",
   "execution_count": 5,
   "id": "1ed194e8",
   "metadata": {},
   "outputs": [
    {
     "name": "stdout",
     "output_type": "stream",
     "text": [
      "[10, 30, 40, 60] [90.1] [(1+1j), 2j] [] [[10, 20, 40], [100, 200, 30]] [] [] [] [True, False, False]\n",
      "{<class 'int'>: [10, 20, 30], <class 'str'>: ['hello'], <class 'bool'>: [True]}\n"
     ]
    }
   ],
   "source": [
    "def fun1(*args):\n",
    "    l1_int = []\n",
    "    l1_float = []\n",
    "    l1_com = []\n",
    "    l1_bool = []\n",
    "    l1_str = []\n",
    "    l1_tup = []\n",
    "    l1_list = []\n",
    "    l1_set = []\n",
    "    l1_dict = []\n",
    "    \n",
    "    for i in args:    \n",
    "        if type(i)==int:\n",
    "            l1_int.append(i)\n",
    "        elif type(i)==float:\n",
    "            l1_float.append(i)\n",
    "        elif type(i)==complex:\n",
    "            l1_com.append(i)\n",
    "        elif type(i)==bool:\n",
    "            l1_bool.append(i)\n",
    "        elif type(i)==str:\n",
    "            l1_str.append(i)\n",
    "        elif type(i)==tuple:\n",
    "            l1_tup.append(i)\n",
    "        elif type(i)==set:\n",
    "            l1_set.append(i)\n",
    "        elif type(i)==dict:\n",
    "            l1_dict.append(i)\n",
    "        elif type(i)==list:\n",
    "            l1_list.append(i)\n",
    "    print(l1_int,l1_float,l1_com,l1_str,l1_list,l1_tup,l1_set,l1_dict,l1_bool)\n",
    "fun1(10,30,40,60,[10,20,40],[100,200,30],90.1,True,False,False,1+1j,2J,)\n",
    "\n",
    "\n",
    "# Alternate Code\n",
    "\n",
    "def fun2(*args):\n",
    "    d1 = {}\n",
    "    \n",
    "    for i in args:\n",
    "        if type(i) in d1:\n",
    "            d1[type(i)].append(i)\n",
    "        else:\n",
    "            d1[type(i)] = [i]\n",
    "    print(d1)\n",
    "    \n",
    "fun2(10,20,30,'hello',True)"
   ]
  },
  {
   "cell_type": "code",
   "execution_count": 12,
   "id": "484af4d6",
   "metadata": {},
   "outputs": [
    {
     "name": "stdout",
     "output_type": "stream",
     "text": [
      "dict_items([('name', 'alice'), ('m', [12, 3])])\n"
     ]
    },
    {
     "data": {
      "text/plain": [
       "([10, 20, 30, 40, True], [[12, 3]])"
      ]
     },
     "execution_count": 12,
     "metadata": {},
     "output_type": "execute_result"
    }
   ],
   "source": [
    "def fun3(*args,**kwargs):\n",
    "    print(kwargs.items())\n",
    "    l1 = [i for i in args]\n",
    "    d1 = [i[1] for i in kwargs.items() if type(i[1])==list]\n",
    "    return l1,d1\n",
    "fun3(10,20,30,40,True,name='alice',m=[12,3])"
   ]
  },
  {
   "cell_type": "code",
   "execution_count": null,
   "id": "c5d50e50",
   "metadata": {},
   "outputs": [],
   "source": [
    "# Why Python Requires Function Bodies\n",
    "# Dynamic Typing and Runtime Execution\n",
    "\n",
    "# Python doesn’t differentiate between declaration and definition. Everything is interpreted and executed at runtime, so the body of the function must exist for it to be callable.\n",
    "# There's no concept of \"declaring a function first and defining it later.\"\n",
    "\n",
    "# No Compilation Stage\n",
    "# Languages like C++ and Java have a compilation stage where the compiler can process function declarations and check for correctness. \n",
    "# Python is an interpreted language, so it executes code line by line. \n",
    "# A missing function body would cause an immediate error.\n",
    "\n",
    "# Simplified Syntax\n",
    "# Python avoids the complexity of separating declarations and definitions, which aligns with its philosophy of simplicity and readability.\n",
    "# If a function needs to act as a placeholder, Python uses the pass keyword instead of allowing empty declarations."
   ]
  },
  {
   "cell_type": "code",
   "execution_count": null,
   "id": "5116bd12",
   "metadata": {},
   "outputs": [],
   "source": [
    "# If we created the function and we does not have anything to write in the function body we can use pass keyword.\n",
    "# The pass keyword in Python is a placeholder statement that does nothing when executed. \n",
    "# It’s used to indicate that a block of code is syntactically required but will not perform any action.\n",
    "# In essence, it’s a way to write code that is syntactically correct but does nothing."
   ]
  },
  {
   "cell_type": "code",
   "execution_count": 8,
   "id": "a613561a",
   "metadata": {},
   "outputs": [],
   "source": [
    "def write():\n",
    "    pass\n",
    "write()"
   ]
  },
  {
   "cell_type": "markdown",
   "id": "bbb7dd41",
   "metadata": {},
   "source": [
    "# Types of functions Argument"
   ]
  },
  {
   "cell_type": "code",
   "execution_count": 10,
   "id": "f237607e",
   "metadata": {},
   "outputs": [],
   "source": [
    "# There are four types of function argument.\n",
    "# 1. Default Argument\n",
    "# 2. Keyword Argument\n",
    "# 3. Variable Length Argument\n",
    "# 4. Keyword Arbitrary Argument"
   ]
  },
  {
   "cell_type": "code",
   "execution_count": 15,
   "id": "a5ac16f4",
   "metadata": {},
   "outputs": [
    {
     "name": "stdout",
     "output_type": "stream",
     "text": [
      "300\n",
      "1200\n",
      "2100\n"
     ]
    }
   ],
   "source": [
    "# 1 Default Argument.\n",
    "\n",
    "# Default arguments have default values specified in the function definition. If a  argument is not provided during the function call, then the  default value is used. Default arguments are useful for making certain parameters optional.\n",
    "# Default argument are provided during the function definition.\n",
    "# It is know as default argument bcz the parameter is acutally representing the argument values.\n",
    "\n",
    "\n",
    "def add(a=100,b=200):\n",
    "    return a+b\n",
    "\n",
    "print(add())\n",
    "\n",
    "# if we want to pass the value of a then we can simply write like that\n",
    "print(add(1000))\n",
    "\n",
    "# But if we want to pass the value of the second parameter then we need to write the argument name and value we want to pass.\n",
    "# Calling the function with only the second argument provided (b)\n",
    "print(add(b=2000))\n"
   ]
  },
  {
   "cell_type": "code",
   "execution_count": 17,
   "id": "1d9d9415",
   "metadata": {},
   "outputs": [
    {
     "name": "stdout",
     "output_type": "stream",
     "text": [
      "Good Morning, GOGO\n"
     ]
    }
   ],
   "source": [
    "# # 2. keyword Arugment\n",
    "# Keyword arguments are specified by their parameter names during the function call. \n",
    "# Unlike positional arguments, the order of keyword arguments does not matter. \n",
    "# This type of argument allows for more flexibility and clarity when calling functions, especially with functions that have many parameters. \n",
    "# Here's an example:\n",
    "\n",
    "\n",
    "\n",
    "def greet(msg,name):\n",
    "    return f\"{msg}, {name}\"\n",
    "print(greet(name='GOGO',msg='Good Morning'))"
   ]
  },
  {
   "cell_type": "code",
   "execution_count": 21,
   "id": "89d8d8d1",
   "metadata": {},
   "outputs": [
    {
     "name": "stdout",
     "output_type": "stream",
     "text": [
      "<class 'tuple'>\n",
      "The addition of all these arguments is 15\n"
     ]
    }
   ],
   "source": [
    "# 3. Varible length Arugment\n",
    "# Sometimes, you may want to pass a variable number of arguments to a function. This can be done by using the * symbol before the parameter name. \n",
    "# The * symbol allows the function to accept an arbitrary number of arguments. Here's an example:\n",
    "# the paramter with * is called as variable length argument and it is tuple\n",
    "# def add(*args):\n",
    "# *args is the tuple\n",
    "\n",
    "\n",
    "def add(*args):\n",
    "    print(type(args))\n",
    "    sum = 0 \n",
    "    for i in args:\n",
    "        sum +=i\n",
    "    return sum\n",
    "\n",
    "print(\"The addition of all these arguments is\",add(1,2,3,4,5))"
   ]
  },
  {
   "cell_type": "code",
   "execution_count": 25,
   "id": "4f2fea05",
   "metadata": {},
   "outputs": [
    {
     "name": "stdout",
     "output_type": "stream",
     "text": [
      "[1, 2, 3, 4, 5, 6]\n"
     ]
    }
   ],
   "source": [
    "def summation1(*args):\n",
    "    l1 = []\n",
    "    for i in args:\n",
    "        l1 = l1 + i   \n",
    "    return l1\n",
    "print(summation1([1,2],[3,4],[5,6]))"
   ]
  },
  {
   "cell_type": "code",
   "execution_count": 26,
   "id": "2c03a43b",
   "metadata": {},
   "outputs": [
    {
     "name": "stdout",
     "output_type": "stream",
     "text": [
      "[[1, 2], [3, 4], [5, 6]]\n"
     ]
    }
   ],
   "source": [
    "def summation2(*args):\n",
    "    return [i for i in args]\n",
    "print(summation2([1,2],[3,4],[5,6]))"
   ]
  },
  {
   "cell_type": "code",
   "execution_count": 30,
   "id": "b9372c86",
   "metadata": {},
   "outputs": [
    {
     "name": "stdout",
     "output_type": "stream",
     "text": [
      "<class 'dict'>\n",
      "{'name': 'GOgo', 'age': '10', 'role': 'Developer'}\n",
      "name   GOgo\n",
      "age   10\n",
      "role   Developer\n"
     ]
    }
   ],
   "source": [
    "#  5 Keyword Arbitrary Argument\n",
    "# Sometimes, you may want to pass a variable number of keyword arguments to a function. \n",
    "# This can be done by using the ** symbol before the parameter name. The ** symbol allows the function to accept an arbitrary number of keyword arguments.\n",
    "# the parameter with double ** is called as keyword arbitrary argument and it is dictionary\n",
    "# def greet(**kwargs):\n",
    "\n",
    "def greet(**kwargs):\n",
    "    print(type(kwargs))\n",
    "    print(kwargs)\n",
    "    for i in kwargs:\n",
    "        print(i,\" \",kwargs[i])\n",
    "greet(name='GOgo',age='10',role='Developer')"
   ]
  },
  {
   "cell_type": "code",
   "execution_count": null,
   "id": "9aa9378b",
   "metadata": {},
   "outputs": [],
   "source": []
  },
  {
   "cell_type": "code",
   "execution_count": null,
   "id": "bb467822",
   "metadata": {},
   "outputs": [],
   "source": []
  }
 ],
 "metadata": {
  "kernelspec": {
   "display_name": "Python 3 (ipykernel)",
   "language": "python",
   "name": "python3"
  },
  "language_info": {
   "codemirror_mode": {
    "name": "ipython",
    "version": 3
   },
   "file_extension": ".py",
   "mimetype": "text/x-python",
   "name": "python",
   "nbconvert_exporter": "python",
   "pygments_lexer": "ipython3",
   "version": "3.11.5"
  }
 },
 "nbformat": 4,
 "nbformat_minor": 5
}
