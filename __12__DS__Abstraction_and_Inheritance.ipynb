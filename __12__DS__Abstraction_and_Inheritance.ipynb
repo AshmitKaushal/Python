{
 "cells": [
  {
   "cell_type": "markdown",
   "id": "a2d02526",
   "metadata": {},
   "source": [
    "# Abstraction"
   ]
  },
  {
   "cell_type": "code",
   "execution_count": 22,
   "id": "04c33f52",
   "metadata": {},
   "outputs": [],
   "source": [
    "# Abstraction in python is symbolize means it just the symbol specifying the abstraction concepts.\n",
    "class Test:\n",
    "    def __init__(self,a,b,c,d):\n",
    "        self._a = a\n",
    "        self.__b = b\n",
    "        self.c = c\n",
    "        self.d = d\n",
    "    def test_custom(self,v):\n",
    "        return v - self.a\n",
    "    \n",
    "    def __str__(self):\n",
    "        return \"This is a abstaction\""
   ]
  },
  {
   "cell_type": "code",
   "execution_count": 23,
   "id": "b498f66e",
   "metadata": {},
   "outputs": [],
   "source": [
    "o = Test(1,2,3,4)"
   ]
  },
  {
   "cell_type": "code",
   "execution_count": 24,
   "id": "cd69466a",
   "metadata": {},
   "outputs": [
    {
     "data": {
      "text/plain": [
       "1"
      ]
     },
     "execution_count": 24,
     "metadata": {},
     "output_type": "execute_result"
    }
   ],
   "source": [
    "o._a"
   ]
  },
  {
   "cell_type": "code",
   "execution_count": 25,
   "id": "d5bffe0b",
   "metadata": {},
   "outputs": [
    {
     "data": {
      "text/plain": [
       "2"
      ]
     },
     "execution_count": 25,
     "metadata": {},
     "output_type": "execute_result"
    }
   ],
   "source": [
    "# Here a name mangling is done to avoid name collision between the super class and subclass instance variables.\n",
    "# So the variable name is internally replace with _ClassName__instancename.\n",
    "o._Test__b"
   ]
  },
  {
   "cell_type": "markdown",
   "id": "83b03e3b",
   "metadata": {},
   "source": [
    "# Inheritance "
   ]
  },
  {
   "cell_type": "code",
   "execution_count": 26,
   "id": "e5aa4953",
   "metadata": {},
   "outputs": [],
   "source": [
    "class Test1(Test):\n",
    "    def __init__(self,j,*args):\n",
    "        super(Test1,self).__init__(*args)\n",
    "        self.j = j\n",
    "m = Test1(4,5,6,7,8)"
   ]
  },
  {
   "cell_type": "code",
   "execution_count": 29,
   "id": "d08ef53c",
   "metadata": {},
   "outputs": [
    {
     "data": {
      "text/plain": [
       "5"
      ]
     },
     "execution_count": 29,
     "metadata": {},
     "output_type": "execute_result"
    }
   ],
   "source": [
    "m._a"
   ]
  },
  {
   "cell_type": "code",
   "execution_count": 30,
   "id": "caa41db3",
   "metadata": {},
   "outputs": [
    {
     "data": {
      "text/plain": [
       "4"
      ]
     },
     "execution_count": 30,
     "metadata": {},
     "output_type": "execute_result"
    }
   ],
   "source": [
    "m.j"
   ]
  },
  {
   "cell_type": "code",
   "execution_count": 42,
   "id": "97115c56",
   "metadata": {},
   "outputs": [],
   "source": [
    "class Test:\n",
    "    def a(self):\n",
    "        print(\"This is function a from class Test\")\n",
    "        \n",
    "class Test1:\n",
    "    def a(self):\n",
    "        print(\"This is function a from class Test1\")\n",
    "    \n",
    "class Test2(Test1,Test):\n",
    "    def b(self):\n",
    "        print(\"This is a function b from class Test2\")"
   ]
  },
  {
   "cell_type": "code",
   "execution_count": 43,
   "id": "abf570d6",
   "metadata": {},
   "outputs": [],
   "source": [
    "t2 = Test2()"
   ]
  },
  {
   "cell_type": "code",
   "execution_count": 44,
   "id": "e89b2a99",
   "metadata": {},
   "outputs": [
    {
     "name": "stdout",
     "output_type": "stream",
     "text": [
      "This is function a from class Test1\n"
     ]
    }
   ],
   "source": [
    "t2.a()"
   ]
  },
  {
   "cell_type": "code",
   "execution_count": 45,
   "id": "a5b2e269",
   "metadata": {},
   "outputs": [
    {
     "name": "stdout",
     "output_type": "stream",
     "text": [
      "This is a function b from class Test2\n"
     ]
    }
   ],
   "source": [
    "t2.b()"
   ]
  },
  {
   "cell_type": "code",
   "execution_count": 46,
   "id": "5d39d49c",
   "metadata": {},
   "outputs": [
    {
     "name": "stdout",
     "output_type": "stream",
     "text": [
      "This is function a from class Test\n",
      "This is function a from class Test1\n",
      "This is function a from class Test\n"
     ]
    }
   ],
   "source": [
    "class Test:\n",
    "    def a(self):\n",
    "        print(\"This is function a from class Test\")\n",
    "        \n",
    "class Test1:\n",
    "    def a(self):\n",
    "        print(\"This is function a from class Test1\")\n",
    "        \n",
    "class Test2:\n",
    "    t = Test()\n",
    "    t.a()\n",
    "    \n",
    "    t1 = Test1()\n",
    "    t1.a()\n",
    "    \n",
    "t2 = Test()\n",
    "t2.a()"
   ]
  },
  {
   "cell_type": "code",
   "execution_count": 47,
   "id": "56703089",
   "metadata": {},
   "outputs": [],
   "source": [
    "# Key Points\n",
    "\n",
    "# 1.Class Body Code Execution:\n",
    "# Code inside a class body executes immediately during class definition, not when the class is instantiated.\n",
    "# In this case, the Test2 class's body code (t.a() and t1.a()) runs when the interpreter processes Test2.\n",
    "\n",
    "# 2.Method Calls:\n",
    "# The method a of the relevant class is called based on the object type (Test or Test1).\n",
    "\n",
    "# 3.Standalone Instance Execution:\n",
    "# The final standalone code (t2 = Test(); t2.a()) is independent of Test2."
   ]
  },
  {
   "cell_type": "code",
   "execution_count": 48,
   "id": "93f4fcf3",
   "metadata": {},
   "outputs": [],
   "source": [
    "# Class Variables\n",
    "# Class variables are variables that are shared across all instances of a class. They are initialized when the class is defined.\n",
    "\n",
    "# Key Points:\n",
    "# 1.Timing: Class variables are created and initialized at the time the class is loaded into memory (i.e., when the class definition is executed by the interpreter).\n",
    "# 2.Scope: They are accessible through the class itself or any instance of the class.\n",
    "# 3.Storage: Class variables are stored in the class's namespace, not in each instance's namespace."
   ]
  },
  {
   "cell_type": "code",
   "execution_count": 49,
   "id": "5da12be1",
   "metadata": {},
   "outputs": [],
   "source": [
    "# Instance Variables\n",
    "# Instance variables are variables that are unique to each instance of a class. They are initialized when an object is created, typically inside the __init__ method.\n",
    "\n",
    "# Key Points:\n",
    "# 1.Timing: Instance variables are initialized when the class constructor (__init__ method) is executed during object creation.\n",
    "# 2.Scope: They belong to individual objects, and changes to one instance's variable do not affect others.\n",
    "# 3.Storage: Instance variables are stored in the instance's namespace."
   ]
  },
  {
   "cell_type": "code",
   "execution_count": 57,
   "id": "04ee1630",
   "metadata": {},
   "outputs": [],
   "source": [
    "class Test:\n",
    "    def a(self):\n",
    "        print(\"Function a from class Test\")\n",
    "        \n",
    "class Test1:\n",
    "    def a(self):\n",
    "        print(\"Function a from class Test1\")\n",
    "\n",
    "class Test2(Test,Test1):\n",
    "    def a(self):\n",
    "        Test.a(self)\n",
    "        Test1.a(self)"
   ]
  },
  {
   "cell_type": "code",
   "execution_count": 58,
   "id": "69d94602",
   "metadata": {},
   "outputs": [
    {
     "name": "stdout",
     "output_type": "stream",
     "text": [
      "Function a from class Test\n",
      "Function a from class Test1\n"
     ]
    }
   ],
   "source": [
    "t2 = Test2()\n",
    "t2.a()"
   ]
  },
  {
   "cell_type": "code",
   "execution_count": 59,
   "id": "6c91c8c1",
   "metadata": {},
   "outputs": [],
   "source": [
    "# Explicit Method Calls: ClassName.methodName(self)\n",
    "# When you call a method explicitly (e.g., Test.a(self) or Test1.a(self)), you're not using the normal syntax where Python automatically handles the self argument for you. \n",
    "# So, you have to pass it manually."
   ]
  },
  {
   "cell_type": "code",
   "execution_count": 60,
   "id": "47d4f908",
   "metadata": {},
   "outputs": [],
   "source": [
    "# Why are we passing self (the instance of Test2) to methods in Test and Test1?\n",
    "# In Python, when a class inherits from another class, it doesn't just inherit the methods, but also the ability to call those methods on its instances. So, when you write:\n",
    "# Test.a(self)  # Calling `a` from Test\n",
    "\n",
    "# Test.a(self) means: \"Call the a() method of the Test class, and pass self (which is an instance of Test2) as the argument.\"\n",
    "# self here is an instance of Test2, not Test. The instance self refers to the object of class Test2 (which may also be treated as an object of the classes Test and Test1 because Test2 inherits from them)."
   ]
  },
  {
   "cell_type": "markdown",
   "id": "7e2c92c9",
   "metadata": {},
   "source": [
    "# Encapsulation"
   ]
  },
  {
   "cell_type": "code",
   "execution_count": 61,
   "id": "0c077a32",
   "metadata": {},
   "outputs": [],
   "source": [
    "# Encapsulation means hiding the implementation details"
   ]
  },
  {
   "cell_type": "code",
   "execution_count": 64,
   "id": "b2b80189",
   "metadata": {},
   "outputs": [],
   "source": [
    "class Test:\n",
    "    def __init__(self,a,b,c):\n",
    "        self.a = a\n",
    "        self.b = b\n",
    "        self.c = c\n",
    "    def __str__(self):\n",
    "        return \"This str from class Test\"\n",
    "    \n",
    "class Test1:\n",
    "    \n",
    "    def __init__(self,a,b,c):\n",
    "        self.a = a\n",
    "        self.b = b\n",
    "        self.c = c\n",
    "    def __str__(self):\n",
    "        return \"This str from class Test1\"\n",
    "\n",
    "class Test2:\n",
    "    \n",
    "    def __init__(self,a,b,c):\n",
    "        self.a = a\n",
    "        self.b = b\n",
    "        self.c = c\n",
    "    def __str__(self):\n",
    "        return \"This str from class Test2\"\n",
    "    \n",
    "class Final:\n",
    "    \n",
    "    def __init__(self,x,y,z):\n",
    "        self.x = x\n",
    "        self.y = y \n",
    "        self.z = z\n",
    "    \n",
    "    def __str__(self):\n",
    "        return str(self.x)+\" \"+str(self.y)+\" \"+str(self.z)"
   ]
  },
  {
   "cell_type": "code",
   "execution_count": 65,
   "id": "7ca8dda9",
   "metadata": {},
   "outputs": [],
   "source": [
    "t = Test(1,2,3)\n",
    "t1 = Test1(10,20,30)\n",
    "t2 = Test2(100,200,300)\n",
    "f = Final(t,t1,t2)"
   ]
  },
  {
   "cell_type": "code",
   "execution_count": 66,
   "id": "eefe5fbb",
   "metadata": {},
   "outputs": [
    {
     "name": "stdout",
     "output_type": "stream",
     "text": [
      "This str from class Test This str from class Test1 This str from class Test2\n"
     ]
    }
   ],
   "source": [
    "print(f)"
   ]
  },
  {
   "cell_type": "markdown",
   "id": "bc3b2748",
   "metadata": {},
   "source": [
    "# Abstraction"
   ]
  },
  {
   "cell_type": "code",
   "execution_count": 1,
   "id": "51e88654",
   "metadata": {},
   "outputs": [],
   "source": [
    "# Abstraction in Python is a fundamental concept in object-oriented programming (OOP) that focuses on hiding implementation details and showing only the essential features of an object. \n",
    "# It allows developers to interact with objects at a high level without needing to understand the underlying complexity.\n",
    "\n",
    "# In Python, abstraction can be achieved using:\n",
    "\n",
    "# 1.Abstract Classes (via the abc module)\n",
    "# 2.Interfaces (using abstract methods in abstract classes)"
   ]
  },
  {
   "cell_type": "code",
   "execution_count": 2,
   "id": "9a8f5433",
   "metadata": {},
   "outputs": [],
   "source": [
    "# To create an abstract class in Python:\n",
    "\n",
    "# Use the ABC class as a base class.\n",
    "# Use the @abstractmethod decorator to mark methods as abstract"
   ]
  },
  {
   "cell_type": "code",
   "execution_count": 3,
   "id": "927609e6",
   "metadata": {},
   "outputs": [],
   "source": [
    "# Steps to Create an Abstract Class in Python:\n",
    "# Import ABC from the abc module.\n",
    "# Inherit from ABC to create an abstract class.\n",
    "# Mark methods as abstract using the @abstractmethod decorator."
   ]
  },
  {
   "cell_type": "code",
   "execution_count": 13,
   "id": "1478a08b",
   "metadata": {},
   "outputs": [],
   "source": [
    "from abc import ABC"
   ]
  },
  {
   "cell_type": "code",
   "execution_count": 17,
   "id": "f8c6c2ba",
   "metadata": {},
   "outputs": [
    {
     "name": "stdout",
     "output_type": "stream",
     "text": [
      "This is the show method of the class Dog\n",
      "Walk on four legs\n",
      "Bark\n"
     ]
    }
   ],
   "source": [
    "# Abstract class \n",
    "class Animal(ABC):\n",
    "    @abstractmethod\n",
    "    def speak(self):\n",
    "        pass\n",
    "    @abstractmethod\n",
    "    def move(self):\n",
    "        pass\n",
    "    \n",
    "class Dog(Animal):\n",
    "    def show(self):\n",
    "        print(\"This is the show method of the class Dog\")\n",
    "        \n",
    "    def move(self):\n",
    "        print(\"Walk on four legs\")\n",
    "    \n",
    "    def speak(self):\n",
    "        print(\"Bark\")\n",
    "    \n",
    "# a = Animal()\n",
    "# We are not allowed to create the object of the abstract class it gives error mentioned below.\n",
    "# Can't instantiate abstract class Animal with abstract methods move, speak.  \n",
    "    \n",
    "d = Dog()\n",
    "d.show()\n",
    "d.move()\n",
    "d.speak()"
   ]
  },
  {
   "cell_type": "code",
   "execution_count": 18,
   "id": "b116f534",
   "metadata": {},
   "outputs": [],
   "source": [
    "# Python achieves abstraction using the abc module, and the abstract behavior is defined using the ABC class and the @abstractmethod decorator.\n",
    "# There is no abstract keyword in Python, but abstract classes are created by inheriting from ABC and defining methods with the @abstractmethod decorator."
   ]
  },
  {
   "cell_type": "code",
   "execution_count": 19,
   "id": "2cfc6831",
   "metadata": {},
   "outputs": [],
   "source": [
    "# ABC is a class from the abc (Abstract Base Classes) module in Python. \n",
    "# It stands for Abstract Base Class and is used to define abstract base classes, which cannot be instantiated directly and must be subclassed by other classes that implement the abstract methods.\n",
    "\n",
    "# What is the purpose of ABC?\n",
    "# The ABC class is used to define abstract base classes. A base class is abstract when it contains one or more abstract methods.\n",
    "# An abstract method is a method that is declared but contains no implementation. Any class that inherits from an abstract base class must implement all of its abstract methods to be instantiated.\n",
    "\n",
    "# How is ABC used?\n",
    "# Inheriting from ABC: When a class inherits from ABC, it becomes an abstract base class, and you can define abstract methods using the @abstractmethod decorator.\n",
    "# Abstract Methods: Any method defined with the @abstractmethod decorator in a class that inherits from ABC must be implemented by the subclasses. \n",
    "# Otherwise, the subclass will also be considered abstract and cannot be instantiated."
   ]
  },
  {
   "cell_type": "markdown",
   "id": "c2e2c861",
   "metadata": {},
   "source": [
    "# what is abc module"
   ]
  },
  {
   "cell_type": "code",
   "execution_count": 20,
   "id": "e28c2500",
   "metadata": {},
   "outputs": [],
   "source": [
    "# The abc module in Python stands for Abstract Base Classes. It provides the foundation for defining abstract classes in Python, allowing you to define abstract methods that must be implemented by subclasses. The abc module helps enforce a common interface for classes that derive from an abstract base class.\n",
    "\n",
    "#  Key Concepts of the abc Module\n",
    "\n",
    "# 1.Abstract Classes:\n",
    "\n",
    "# An abstract class is a class that cannot be instantiated on its own. It typically serves as a blueprint for other classes.\n",
    "# An abstract class may contain abstract methods (methods that do not have an implementation) and regular methods (methods that are fully implemented).\n",
    "# To define an abstract class, the class must inherit from the ABC class provided by the abc module.\n",
    "\n",
    "# 2.Abstract Methods:\n",
    "\n",
    "# Abstract methods are methods that are declared in an abstract class but do not have an implementation.\n",
    "# Subclasses of an abstract class are required to provide their own implementation of these abstract methods.\n",
    "# Abstract methods are defined using the @abstractmethod decorator.\n",
    "\n",
    "# 3.Enforcing the Interface:\n",
    "\n",
    "# The abc module allows you to define a consistent interface that must be followed by all subclasses, ensuring that they implement the required abstract methods.\n",
    "\n",
    "# Components of the abc Module\n",
    "\n",
    "# 1.ABC (Abstract Base Class):\n",
    "# This is the base class that all abstract base classes should inherit from. It is part of the abc module and enables the use of abstract methods and properties.\n",
    "\n",
    "# 2.abstractmethod:\n",
    "# This is a decorator provided by the abc module, which marks a method as abstract. A method defined with @abstractmethod has no implementation and must be implemented in any subclass.\n",
    "\n",
    "# 3.register():\n",
    "# The register() method allows you to register a class as a virtual subclass of an abstract base class. Even if a class does not explicitly inherit from an abstract base class, you can use this method to indicate that the class follows the interface of the abstract base class."
   ]
  },
  {
   "cell_type": "code",
   "execution_count": 2,
   "id": "72a7c468",
   "metadata": {},
   "outputs": [],
   "source": [
    "# Benefits of Using abc Module:\n",
    "\n",
    "# 1.Define Common Interfaces:\n",
    "# The abc module helps define a common interface for a group of classes, ensuring that they implement the required methods.\n",
    "\n",
    "# 2.Enforce Method Implementation:\n",
    "# It enforces that subclasses must implement specific methods, providing structure and consistency to your code.\n",
    "\n",
    "# 3.Improve Code Quality:\n",
    "# By using abstract base classes, you can catch errors early if subclasses fail to implement the necessary methods.\n",
    "\n",
    "# 4.Polymorphism:\n",
    "# Abstract classes enable polymorphism by ensuring that different subclasses implement the same set of methods, allowing you to work with objects of different types in a uniform way.\n",
    "\n",
    "# Summary of abc Module:\n",
    "# ABC: A class that is inherited by abstract base classes.\n",
    "# abstractmethod: A decorator used to mark methods as abstract, ensuring they must be implemented in subclasses.\n",
    "# register(): Registers a class as a virtual subclass of an abstract base class."
   ]
  },
  {
   "cell_type": "markdown",
   "id": "230f29d4",
   "metadata": {},
   "source": [
    "# Encapsulation "
   ]
  },
  {
   "cell_type": "code",
   "execution_count": 3,
   "id": "c8eceebf",
   "metadata": {},
   "outputs": [],
   "source": [
    "# Encapsulation in Python refers to the bundling of data (attributes) and methods (functions) into a single unit, typically a class, and controlling access to this data to ensure better modularity and protection. It is one of the fundamental principles of object-oriented programming (OOP).\n",
    "\n",
    "# Key Features of Encapsulation:\n",
    "\n",
    "# 1.Data Hiding:\n",
    "# Encapsulation allows restricting direct access to some of an object's components.\n",
    "# In Python, this is achieved using access modifiers (public, protected, and private attributes).\n",
    "# By hiding the internal implementation details, encapsulation ensures that an object’s data is accessed and modified in a controlled manner.\n",
    "\n",
    "# 2.Controlled Access:\n",
    "# Access to the hidden data is provided through getter and setter methods. \n",
    "# This allows validation and safeguards against invalid updates.\n",
    "\n",
    "# 3.Modularity:\n",
    "# Encapsulation helps keep related data and methods together in a single class, making the code more modular, maintainable, and reusable."
   ]
  },
  {
   "cell_type": "code",
   "execution_count": 4,
   "id": "ea352112",
   "metadata": {},
   "outputs": [],
   "source": [
    "# Access Modifiers in Python:\n",
    "# Python uses naming conventions to define the visibility of variables:\n",
    "\n",
    "# 1.Public (No Underscore):\n",
    "\n",
    "# Variables or methods defined without any prefix are public.\n",
    "# They can be accessed and modified freely from outside the class.\n",
    "# Example: self.name\n",
    "\n",
    "# 2.Protected (Single Underscore _):\n",
    "\n",
    "# Variables or methods prefixed with a single underscore are treated as protected.\n",
    "# They are meant to be accessed only within the class and its subclasses, though they are not strictly private.\n",
    "# Example: self._name\n",
    "\n",
    "# 3.Private (Double Underscore __):\n",
    "\n",
    "# Variables or methods prefixed with double underscores are considered private.\n",
    "# They cannot be accessed directly from outside the class. Instead, Python performs name mangling to make them accessible only within the class.\n",
    "# Example: self.__name"
   ]
  },
  {
   "cell_type": "code",
   "execution_count": 7,
   "id": "c6715120",
   "metadata": {},
   "outputs": [
    {
     "name": "stdout",
     "output_type": "stream",
     "text": [
      "------------------------Public Member-------------------------\n",
      "The name of the student is GOGO and marks is 100\n"
     ]
    }
   ],
   "source": [
    "# In python there is no public ,private and protected access modifiers.\n",
    "# Instead they used a name convention to indicate the type of access to a variables and method but it does not restrict the access to the variables and methods.\n",
    "# In Python, access modifiers are conventions or techniques used to control the visibility and accessibility of class members (attributes and methods) from outside the class. Unlike some other programming languages like Java or C++, Python does not have explicit keywords for access modifiers such as public, private, or protected. Instead, Python uses naming conventions and language features to indicate the intended visibility of class members.\n",
    "\n",
    "print(\"------------------------Public Member-------------------------\")\n",
    "\n",
    "#1. Public Members:\n",
    "# By default, all class members (attributes and methods) in Python are considered public and can be accessed from outside the class.\n",
    "# Public members can be accessed using the object instance or the class name itself.\n",
    "\n",
    "class Student:\n",
    "    def __init__(self,name,marks):\n",
    "        self.name = name\n",
    "        self.marks = marks\n",
    "        print(f\"The name of the student is {self.name} and marks is {self.marks}\")\n",
    "        \n",
    "s1 = Student('GOGO',100)"
   ]
  },
  {
   "cell_type": "code",
   "execution_count": 19,
   "id": "6c770f09",
   "metadata": {},
   "outputs": [
    {
     "name": "stdout",
     "output_type": "stream",
     "text": [
      "------------------------Private Member---------------------------\n",
      "This is the private variable marks accessing outside of the class whose value is 90\n",
      "\n"
     ]
    }
   ],
   "source": [
    "print(\"------------------------Private Member---------------------------\")\n",
    "\n",
    "#Python uses a naming convention to indicate that a class member should be treated as private.\n",
    "#By convention, a member name prefixed with double underscores (__) is considered private.\n",
    "#Private members are intended to be accessed only within the class where they are defined and are not directly accessible from outside the class.\n",
    "\n",
    "class Student:\n",
    "    def __init__(self,name,marks):\n",
    "        self.name = name\n",
    "        self.__marks = marks\n",
    "        \n",
    "    def info(self):\n",
    "        print(f\"The name of the student is {self.name} and marks is {self.__marks}\")\n",
    "        \n",
    "        \n",
    "\n",
    "# The variable __marks can not be accessed directly from outside the class as it is private.\n",
    "s1 = Student(\"GOGO\", 90)\n",
    "# It will give error\n",
    "# print(s1.__marks)\n",
    "# Here the variable __marks is not directly accessible but it can be accessed indirectly with _ClassName__variableName\n",
    "\n",
    "\n",
    "# It is accessible indirectly\n",
    "print(\"This is the private variable marks accessing outside of the class whose value is\",s1._Student__marks)\n",
    "\n",
    "\"\"\"\n",
    "\n",
    "***************************************************\n",
    "Here's how it works:\n",
    "\n",
    "Name Mangling:\n",
    "When you define a variable with double underscores (__) in a class, Python internally renames the variable to _ClassName__variable to make it \"private.\"\n",
    "In your case, __marks becomes _Student__marks within the Student class due to name mangling.\n",
    "\n",
    "Need of Name Mangling:\n",
    "\n",
    "Preventing Name Collisions:\n",
    "\n",
    "Name mangling helps prevent accidental name collisions between attributes or methods in subclasses and their superclasses.\n",
    "\n",
    "By modifying the names of private members to include the class name, it reduces the risk of unintended name clashes, especially in large codebases with multiple classes and inheritance hierarchies.\n",
    "\n",
    "\n",
    "Accessing Private Variables:\n",
    "Although direct access like s1.__marks is prevented, you can access the private variable indirectly using the mangled name _ClassName__variable.\n",
    "This allows you to access the private variable outside the class but still maintains a level of encapsulation and data hiding.\n",
    "\n",
    "***************************************************\n",
    "\n",
    "\"\"\"\n",
    "print()\n",
    "\n"
   ]
  },
  {
   "cell_type": "code",
   "execution_count": 21,
   "id": "07100ea3",
   "metadata": {},
   "outputs": [
    {
     "name": "stdout",
     "output_type": "stream",
     "text": [
      "-----------------------Protected Member------------------------\n",
      "Althrought marks is a protected variable which means that it can be accessed within the class and its subclass but instead they can be accessed outside the class the marks is  100\n"
     ]
    }
   ],
   "source": [
    "print(\"-----------------------Protected Member------------------------\")\n",
    "\n",
    "# Protected Members (Convention):\n",
    "# Python uses a naming convention to indicate that a class member should be treated as protected.\n",
    "# By convention, a member name prefixed with a single underscore (_) is considered protected.\n",
    "# Protected members are intended for use within the class and its subclasses (derived classes), \n",
    "# but they can still be accessed from outside the class.\n",
    "\n",
    "class Student:\n",
    "    def __init__(self,name,marks):\n",
    "        self.name = name\n",
    "        self._marks = marks\n",
    "\n",
    "s1 = Student('GOGO',100)\n",
    "print(\"Althrought marks is a protected variable which means that it can be accessed within the class and its subclass but instead they can be accessed outside the class the marks is \",s1._marks)"
   ]
  },
  {
   "cell_type": "code",
   "execution_count": null,
   "id": "dcc43fad",
   "metadata": {},
   "outputs": [],
   "source": []
  }
 ],
 "metadata": {
  "kernelspec": {
   "display_name": "Python 3 (ipykernel)",
   "language": "python",
   "name": "python3"
  },
  "language_info": {
   "codemirror_mode": {
    "name": "ipython",
    "version": 3
   },
   "file_extension": ".py",
   "mimetype": "text/x-python",
   "name": "python",
   "nbconvert_exporter": "python",
   "pygments_lexer": "ipython3",
   "version": "3.11.5"
  }
 },
 "nbformat": 4,
 "nbformat_minor": 5
}
