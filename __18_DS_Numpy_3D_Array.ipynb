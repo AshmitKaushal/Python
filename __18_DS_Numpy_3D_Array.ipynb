{
 "cells": [
  {
   "cell_type": "markdown",
   "id": "544b5420",
   "metadata": {},
   "source": [
    "# What is a 3D Array\n",
    "\n"
   ]
  },
  {
   "cell_type": "code",
   "execution_count": 2,
   "id": "d69844db",
   "metadata": {},
   "outputs": [],
   "source": [
    "# A 3D NumPy array is an extension of a 2D array, where elements are arranged in multiple matrices (2D arrays) stacked together, forming a three-dimensional structure.\n",
    "# It can be thought of as a collection of 2D arrays along a third axis."
   ]
  },
  {
   "cell_type": "code",
   "execution_count": 3,
   "id": "112eb4ed",
   "metadata": {},
   "outputs": [],
   "source": [
    "# Definition of a 3D Array\n",
    "\n",
    "# A 3D array in NumPy is represented as:\n",
    "# arr[depth,row,column]\n",
    "\n",
    "# where:\n",
    "# Depth (Axis=0): Represents different 2D matrices stacked along the first axis.\n",
    "# Rows (Axis=1): Represents the number of rows in each 2D matrix.\n",
    "# Columns (Axis=2): Represents the number of columns in each 2D matrix."
   ]
  },
  {
   "cell_type": "code",
   "execution_count": 2,
   "id": "3fdc5ed5",
   "metadata": {},
   "outputs": [
    {
     "name": "stdout",
     "output_type": "stream",
     "text": [
      "[[[1 2 3]]\n",
      "\n",
      " [[4 5 6]]]\n",
      "<class 'numpy.ndarray'>\n",
      "(2, 1, 3)\n"
     ]
    }
   ],
   "source": [
    "# Creating the 3D Array.\n",
    "\n",
    "import numpy as np\n",
    "arr3 = np.array([[[1,2,3]],[[4,5,6]]])\n",
    "print(arr3)\n",
    "print(type(arr3))\n",
    "print(arr3.shape)"
   ]
  },
  {
   "cell_type": "markdown",
   "id": "5f2b6fc6",
   "metadata": {},
   "source": [
    "# Properities of 3D Array"
   ]
  },
  {
   "cell_type": "code",
   "execution_count": 8,
   "id": "522c1217",
   "metadata": {},
   "outputs": [],
   "source": [
    "# A 3D NumPy array has several properties that help us understand its structure, shape, and behavior.\n",
    "# Below is a detailed explanation of all the key properties."
   ]
  },
  {
   "cell_type": "code",
   "execution_count": 15,
   "id": "69d05c53",
   "metadata": {},
   "outputs": [
    {
     "name": "stdout",
     "output_type": "stream",
     "text": [
      "[[[1 2 3]\n",
      "  [4 5 6]]\n",
      "\n",
      " [[4 5 6]\n",
      "  [1 2 3]]]\n",
      "The Shape of the array is (2, 2, 3)\n"
     ]
    }
   ],
   "source": [
    "# 1. shape – Dimensions of the Array\n",
    "# The shape property returns the number of elements along each axis in the form of a tuple.\n",
    "\n",
    "# 🔹 Definition:\n",
    "# arr.shape  # Returns (depth, rows, columns)\n",
    "# Depth (axis=0) → Number of stacked 2D arrays (matrices).\n",
    "# Rows (axis=1) → Number of rows in each matrix.\n",
    "# Columns (axis=2) → Number of columns in each matrix.\n",
    "\n",
    "arr3 = np.array([\n",
    "    [[1,2,3],[4,5,6]],\n",
    "    [[4,5,6],[1,2,3]]\n",
    "])\n",
    "print(arr3)\n",
    "print(\"The Shape of the array is\",arr3.shape)\n",
    "# Explanation: There are 2 matrices, each with 2 rows and 3 columns."
   ]
  },
  {
   "cell_type": "code",
   "execution_count": 14,
   "id": "8024b0ca",
   "metadata": {},
   "outputs": [
    {
     "name": "stdout",
     "output_type": "stream",
     "text": [
      "[[[ 1  2  3]\n",
      "  [ 4  5  6]]\n",
      "\n",
      " [[ 7  8  9]\n",
      "  [10 11 12]]]\n",
      "The Dimension of the array is 3\n"
     ]
    }
   ],
   "source": [
    "# 2. ndim – Number of Dimensions\n",
    "# The ndim property returns the number of dimensions in the array.\n",
    "\n",
    "# 🔹 Definition:\n",
    "# arr.ndim  # Returns the number of dimensions\n",
    "\n",
    "arr2 = np.array([\n",
    "    [[1,2,3],[4,5,6]],\n",
    "    [[7,8,9],[10,11,12]]\n",
    "])\n",
    "print(arr2)\n",
    "print(\"The Dimension of the array is\",arr2.ndim)\n",
    "# The array has 3 dimensions (depth, rows, columns)."
   ]
  },
  {
   "cell_type": "code",
   "execution_count": 16,
   "id": "e2280e06",
   "metadata": {},
   "outputs": [
    {
     "name": "stdout",
     "output_type": "stream",
     "text": [
      "[[[ 1  2  3]\n",
      "  [ 4  5  6]]\n",
      "\n",
      " [[ 7  8  9]\n",
      "  [10 11 12]]]\n",
      "The no. of elements in the array is 12\n"
     ]
    }
   ],
   "source": [
    "# 3. size – Total Number of Elements\n",
    "# The size property returns the total number of elements in the array.\n",
    "\n",
    "# 🔹 Definition:\n",
    "# arr.size  # Returns total number of elements\n",
    "\n",
    "arr3 = np.array([\n",
    "    [[1,2,3],[4,5,6]],\n",
    "    [[7,8,9],[10,11,12]]\n",
    "])\n",
    "print(arr3)\n",
    "print(\"The no. of elements in the array is\",arr3.size)\n",
    "# There are 2 × 2 × 3 = 12 elements."
   ]
  },
  {
   "cell_type": "code",
   "execution_count": 17,
   "id": "b0d5e4c0",
   "metadata": {},
   "outputs": [
    {
     "name": "stdout",
     "output_type": "stream",
     "text": [
      "[[[ 1  2  3]\n",
      "  [ 4  5  6]]\n",
      "\n",
      " [[ 7  8  9]\n",
      "  [10 11 12]]]\n",
      "The dtype of elements of the array is int32\n"
     ]
    }
   ],
   "source": [
    "#  4. dtype – Data Type of Elements\n",
    "# The dtype property returns the data type of the elements in the array.\n",
    "\n",
    "# 🔹 Definition:\n",
    "# arr.dtype  # Returns data type of elements\n",
    "\n",
    "arr3 = np.array([\n",
    "    [[1,2,3],[4,5,6]],\n",
    "    [[7,8,9],[10,11,12]]\n",
    "])\n",
    "\n",
    "print(arr3)\n",
    "print(\"The dtype of elements of the array is\",arr3.dtype)\n",
    "# the elements in arr3d are integers (int32 on most systems)."
   ]
  },
  {
   "cell_type": "code",
   "execution_count": 18,
   "id": "567d0c01",
   "metadata": {},
   "outputs": [
    {
     "name": "stdout",
     "output_type": "stream",
     "text": [
      "[[[ 1  2  3]\n",
      "  [ 4  5  6]]\n",
      "\n",
      " [[ 7  8  9]\n",
      "  [10 11 12]]]\n",
      "Size of one element in byte is 4\n"
     ]
    }
   ],
   "source": [
    "# 5. itemsize – Size of Each Element in Bytes\n",
    "# The itemsize property returns the memory size (in bytes) of each element in the array.\n",
    "\n",
    "# Definition:\n",
    "# arr.itemsize # Returns size of one element in bytes\n",
    "\n",
    "arr3 = np.array([\n",
    "    [[1,2,3],[4,5,6]],\n",
    "    [[7,8,9],[10,11,12]]\n",
    "])\n",
    "\n",
    "print(arr3)\n",
    "print(\"Size of one element in byte is\",arr3.itemsize)\n",
    "\n",
    "# Explanation:\n",
    "\n",
    "# If int32, each element takes 4 bytes.\n",
    "# If int64, each element takes 8 bytes.\n"
   ]
  },
  {
   "cell_type": "code",
   "execution_count": 20,
   "id": "74f7a8c8",
   "metadata": {},
   "outputs": [
    {
     "name": "stdout",
     "output_type": "stream",
     "text": [
      "[[[ 1  2  3]\n",
      "  [ 4  5  6]]\n",
      "\n",
      " [[ 7  8  9]\n",
      "  [10 11 12]]]\n",
      "Total size of the array in bytes is 48\n"
     ]
    }
   ],
   "source": [
    "# 6. nbytes – Total Memory Usage of the Array\n",
    "# The nbytes property returns the total memory occupied by the entire array.\n",
    "\n",
    "arr3 = np.array([\n",
    "    [[1,2,3],[4,5,6]],\n",
    "    [[7,8,9],[10,11,12]]\n",
    "])\n",
    "print(arr3)\n",
    "print(\"Total size of the array in bytes is\",arr3.nbytes)\n",
    "\n",
    "# The array has 12 elements, and each takes 4 bytes → 12 × 4 = 48 bytes."
   ]
  },
  {
   "cell_type": "code",
   "execution_count": 25,
   "id": "357b58ce",
   "metadata": {},
   "outputs": [
    {
     "name": "stdout",
     "output_type": "stream",
     "text": [
      "Original Array\n",
      "[[[ 1  2  3]\n",
      "  [ 4  5  6]]\n",
      "\n",
      " [[ 7  8  9]\n",
      "  [10 11 12]]]\n",
      "Tranposed Array\n",
      "[[[ 1  7]\n",
      "  [ 4 10]]\n",
      "\n",
      " [[ 2  8]\n",
      "  [ 5 11]]\n",
      "\n",
      " [[ 3  9]\n",
      "  [ 6 12]]]\n",
      "(3, 2, 2)\n"
     ]
    }
   ],
   "source": [
    "# 7. T – Transpose of a 3D Array\n",
    "# The T property returns the transpose of the array, swapping its axes.\n",
    "\n",
    "# 🔹 Definition:\n",
    "# arr.T  # Returns a transposed view of the array\n",
    "\n",
    "arr3 = np.array([\n",
    "    [[1,2,3],[4,5,6]],\n",
    "    [[7,8,9],[10,11,12]]\n",
    "])\n",
    "print(\"Original Array\")\n",
    "print(arr3)\n",
    "print(\"Tranposed Array\")\n",
    "print(arr3.T)\n",
    "print(arr3.T.shape)"
   ]
  },
  {
   "cell_type": "code",
   "execution_count": 27,
   "id": "16b99a3e",
   "metadata": {},
   "outputs": [
    {
     "name": "stdout",
     "output_type": "stream",
     "text": [
      "Original Array\n",
      "[[[ 10  20  30]\n",
      "  [ 40  50  60]]\n",
      "\n",
      " [[ 70  80  90]\n",
      "  [110 110 120]]]\n",
      "10 20 30 40 50 60 70 80 90 110 110 120 "
     ]
    }
   ],
   "source": [
    "# 8.flat- Flatten MultiDimensional array into 1D\n",
    "# The flat property return the iterator loop throught element efficiently.\n",
    "\n",
    "arr3 = np.array([\n",
    "    [[10,20,30],[40,50,60]],\n",
    "    [[70,80,90],[110,110,120]]\n",
    "])\n",
    "print(\"Original Array\")\n",
    "print(arr3)\n",
    "\n",
    "for i in arr3.flat:\n",
    "    print(i,end=' ')"
   ]
  },
  {
   "cell_type": "markdown",
   "id": "d67ada62",
   "metadata": {},
   "source": [
    "# Indexing in a 3D NumPy Array"
   ]
  },
  {
   "cell_type": "code",
   "execution_count": 1,
   "id": "e885247b",
   "metadata": {},
   "outputs": [],
   "source": [
    "# Indexing in a 3D array follows the [depth, row, column] structure.\n",
    "# This allows us to access, modify, and extract elements or sub-arrays in different ways."
   ]
  },
  {
   "cell_type": "code",
   "execution_count": 2,
   "id": "26cf6893",
   "metadata": {},
   "outputs": [],
   "source": [
    "# Understanding 3D Array Structure\n",
    "# A 3D array is essentially a collection of stacked 2D arrays (matrices).\n",
    "# Each element is accessed using three indices:\n",
    "\n",
    "# First index (Depth - axis=0) → Selects which 2D matrix to access.\n",
    "# Second index (Row - axis=1) → Selects which row within the chosen matrix.\n",
    "# Third index (Column - axis=2) → Selects which column within the row."
   ]
  },
  {
   "cell_type": "code",
   "execution_count": 5,
   "id": "f12f7ff4",
   "metadata": {},
   "outputs": [
    {
     "name": "stdout",
     "output_type": "stream",
     "text": [
      "[[[ 1  2  3]\n",
      "  [ 4  5  6]]\n",
      "\n",
      " [[ 7  8  9]\n",
      "  [10 11 12]]\n",
      "\n",
      " [[13 14 15]\n",
      "  [16 17 18]]]\n"
     ]
    }
   ],
   "source": [
    "arr3 = np.array([\n",
    "    [[1,2,3],[4,5,6]],\n",
    "    [[7,8,9],[10,11,12]],\n",
    "    [[13,14,15],[16,17,18]]\n",
    "])\n",
    "print(arr3)"
   ]
  },
  {
   "cell_type": "code",
   "execution_count": 26,
   "id": "a0b92af7",
   "metadata": {},
   "outputs": [
    {
     "name": "stdout",
     "output_type": "stream",
     "text": [
      "1\n"
     ]
    }
   ],
   "source": [
    "# Positive Indexing \n",
    "print(arr3[0,0,0])"
   ]
  },
  {
   "cell_type": "code",
   "execution_count": 27,
   "id": "de2e85c5",
   "metadata": {},
   "outputs": [
    {
     "name": "stdout",
     "output_type": "stream",
     "text": [
      "2\n"
     ]
    }
   ],
   "source": [
    "print(arr3[0,0,1])"
   ]
  },
  {
   "cell_type": "code",
   "execution_count": 28,
   "id": "648ef154",
   "metadata": {},
   "outputs": [
    {
     "name": "stdout",
     "output_type": "stream",
     "text": [
      "3\n"
     ]
    }
   ],
   "source": [
    "print(arr3[0,0,2])"
   ]
  },
  {
   "cell_type": "code",
   "execution_count": 29,
   "id": "8519ab6e",
   "metadata": {},
   "outputs": [
    {
     "name": "stdout",
     "output_type": "stream",
     "text": [
      "4\n"
     ]
    }
   ],
   "source": [
    "print(arr3[0,1,0])"
   ]
  },
  {
   "cell_type": "code",
   "execution_count": 30,
   "id": "11a7fa37",
   "metadata": {},
   "outputs": [
    {
     "name": "stdout",
     "output_type": "stream",
     "text": [
      "5\n"
     ]
    }
   ],
   "source": [
    "print(arr3[0,1,1])"
   ]
  },
  {
   "cell_type": "code",
   "execution_count": 31,
   "id": "b2661edf",
   "metadata": {},
   "outputs": [
    {
     "name": "stdout",
     "output_type": "stream",
     "text": [
      "6\n"
     ]
    }
   ],
   "source": [
    "print(arr3[0,1,2])"
   ]
  },
  {
   "cell_type": "code",
   "execution_count": 32,
   "id": "efa3477f",
   "metadata": {},
   "outputs": [
    {
     "name": "stdout",
     "output_type": "stream",
     "text": [
      "7\n"
     ]
    }
   ],
   "source": [
    "print(arr3[1,0,0])"
   ]
  },
  {
   "cell_type": "code",
   "execution_count": 33,
   "id": "4c47a7e7",
   "metadata": {},
   "outputs": [
    {
     "name": "stdout",
     "output_type": "stream",
     "text": [
      "8\n"
     ]
    }
   ],
   "source": [
    "print(arr3[1,0,1])"
   ]
  },
  {
   "cell_type": "code",
   "execution_count": 34,
   "id": "8efa14ca",
   "metadata": {},
   "outputs": [
    {
     "name": "stdout",
     "output_type": "stream",
     "text": [
      "9\n"
     ]
    }
   ],
   "source": [
    "print(arr3[1,0,2])"
   ]
  },
  {
   "cell_type": "code",
   "execution_count": 35,
   "id": "4266dc1a",
   "metadata": {},
   "outputs": [
    {
     "name": "stdout",
     "output_type": "stream",
     "text": [
      "10\n"
     ]
    }
   ],
   "source": [
    "print(arr3[1,1,0])"
   ]
  },
  {
   "cell_type": "code",
   "execution_count": 36,
   "id": "27431de8",
   "metadata": {},
   "outputs": [
    {
     "name": "stdout",
     "output_type": "stream",
     "text": [
      "11\n"
     ]
    }
   ],
   "source": [
    "print(arr3[1,1,1])"
   ]
  },
  {
   "cell_type": "code",
   "execution_count": 37,
   "id": "a95fccd0",
   "metadata": {},
   "outputs": [
    {
     "name": "stdout",
     "output_type": "stream",
     "text": [
      "12\n"
     ]
    }
   ],
   "source": [
    "print(arr3[1,1,2])"
   ]
  },
  {
   "cell_type": "code",
   "execution_count": 38,
   "id": "36522309",
   "metadata": {},
   "outputs": [
    {
     "name": "stdout",
     "output_type": "stream",
     "text": [
      "13\n"
     ]
    }
   ],
   "source": [
    "print(arr3[2,0,0])"
   ]
  },
  {
   "cell_type": "code",
   "execution_count": 39,
   "id": "8dcc41ad",
   "metadata": {},
   "outputs": [
    {
     "name": "stdout",
     "output_type": "stream",
     "text": [
      "14\n"
     ]
    }
   ],
   "source": [
    "print(arr3[2,0,1])"
   ]
  },
  {
   "cell_type": "code",
   "execution_count": 40,
   "id": "68c88b0c",
   "metadata": {},
   "outputs": [
    {
     "name": "stdout",
     "output_type": "stream",
     "text": [
      "15\n"
     ]
    }
   ],
   "source": [
    "print(arr3[2,0,2])"
   ]
  },
  {
   "cell_type": "code",
   "execution_count": 41,
   "id": "be79c108",
   "metadata": {},
   "outputs": [
    {
     "name": "stdout",
     "output_type": "stream",
     "text": [
      "16\n"
     ]
    }
   ],
   "source": [
    "print(arr3[2,1,0])"
   ]
  },
  {
   "cell_type": "code",
   "execution_count": 42,
   "id": "125b898b",
   "metadata": {},
   "outputs": [
    {
     "name": "stdout",
     "output_type": "stream",
     "text": [
      "17\n"
     ]
    }
   ],
   "source": [
    "print(arr3[2,1,1])"
   ]
  },
  {
   "cell_type": "code",
   "execution_count": 43,
   "id": "cf52889f",
   "metadata": {},
   "outputs": [
    {
     "name": "stdout",
     "output_type": "stream",
     "text": [
      "18\n"
     ]
    }
   ],
   "source": [
    "print(arr3[2,1,2])"
   ]
  },
  {
   "cell_type": "code",
   "execution_count": 44,
   "id": "2a046599",
   "metadata": {},
   "outputs": [
    {
     "name": "stdout",
     "output_type": "stream",
     "text": [
      "[[[ 1  2  3]\n",
      "  [ 4  5  6]]\n",
      "\n",
      " [[ 7  8  9]\n",
      "  [10 11 12]]\n",
      "\n",
      " [[13 14 15]\n",
      "  [16 17 18]]]\n"
     ]
    }
   ],
   "source": [
    "# Negative Indexing\n",
    "arr3 = np.array([\n",
    "    [[1,2,3],[4,5,6]],\n",
    "    [[7,8,9],[10,11,12]],\n",
    "    [[13,14,15],[16,17,18]]\n",
    "])\n",
    "print(arr3)"
   ]
  },
  {
   "cell_type": "code",
   "execution_count": 45,
   "id": "5a51d8dc",
   "metadata": {},
   "outputs": [
    {
     "name": "stdout",
     "output_type": "stream",
     "text": [
      "18\n"
     ]
    }
   ],
   "source": [
    "print(arr3[-1,-1,-1])"
   ]
  },
  {
   "cell_type": "code",
   "execution_count": 47,
   "id": "fc28ebbb",
   "metadata": {},
   "outputs": [
    {
     "name": "stdout",
     "output_type": "stream",
     "text": [
      "17\n"
     ]
    }
   ],
   "source": [
    "print(arr3[-1,-1,-2])"
   ]
  },
  {
   "cell_type": "code",
   "execution_count": 48,
   "id": "ad576de5",
   "metadata": {},
   "outputs": [
    {
     "name": "stdout",
     "output_type": "stream",
     "text": [
      "16\n"
     ]
    }
   ],
   "source": [
    "print(arr3[-1,-1,-3])"
   ]
  },
  {
   "cell_type": "code",
   "execution_count": 49,
   "id": "a86035ab",
   "metadata": {},
   "outputs": [
    {
     "name": "stdout",
     "output_type": "stream",
     "text": [
      "15\n"
     ]
    }
   ],
   "source": [
    "print(arr3[-1,-2,-1])"
   ]
  },
  {
   "cell_type": "code",
   "execution_count": 50,
   "id": "8257304f",
   "metadata": {},
   "outputs": [
    {
     "name": "stdout",
     "output_type": "stream",
     "text": [
      "14\n"
     ]
    }
   ],
   "source": [
    "print(arr3[-1,-2,-2])"
   ]
  },
  {
   "cell_type": "code",
   "execution_count": 51,
   "id": "e5cc10a9",
   "metadata": {},
   "outputs": [
    {
     "name": "stdout",
     "output_type": "stream",
     "text": [
      "13\n"
     ]
    }
   ],
   "source": [
    "print(arr3[-1,-2,-3])"
   ]
  },
  {
   "cell_type": "code",
   "execution_count": 52,
   "id": "7b34b696",
   "metadata": {},
   "outputs": [
    {
     "name": "stdout",
     "output_type": "stream",
     "text": [
      "12\n"
     ]
    }
   ],
   "source": [
    "print(arr3[-2,-1,-1])"
   ]
  },
  {
   "cell_type": "code",
   "execution_count": 53,
   "id": "8a5910b5",
   "metadata": {},
   "outputs": [
    {
     "name": "stdout",
     "output_type": "stream",
     "text": [
      "11\n"
     ]
    }
   ],
   "source": [
    "print(arr3[-2,-1,-2])"
   ]
  },
  {
   "cell_type": "code",
   "execution_count": 54,
   "id": "a4f41498",
   "metadata": {},
   "outputs": [
    {
     "name": "stdout",
     "output_type": "stream",
     "text": [
      "10\n"
     ]
    }
   ],
   "source": [
    "print(arr3[-2,-1,-3])"
   ]
  },
  {
   "cell_type": "code",
   "execution_count": 55,
   "id": "1ae98af7",
   "metadata": {},
   "outputs": [
    {
     "name": "stdout",
     "output_type": "stream",
     "text": [
      "9\n"
     ]
    }
   ],
   "source": [
    "print(arr3[-2,-2,-1])"
   ]
  },
  {
   "cell_type": "code",
   "execution_count": 56,
   "id": "eba5a6df",
   "metadata": {},
   "outputs": [
    {
     "name": "stdout",
     "output_type": "stream",
     "text": [
      "8\n"
     ]
    }
   ],
   "source": [
    "print(arr3[-2,-2,-2])"
   ]
  },
  {
   "cell_type": "code",
   "execution_count": 57,
   "id": "f856e186",
   "metadata": {},
   "outputs": [
    {
     "name": "stdout",
     "output_type": "stream",
     "text": [
      "7\n"
     ]
    }
   ],
   "source": [
    "print(arr3[-2,-2,-3])"
   ]
  },
  {
   "cell_type": "code",
   "execution_count": 58,
   "id": "34907093",
   "metadata": {},
   "outputs": [
    {
     "name": "stdout",
     "output_type": "stream",
     "text": [
      "6\n"
     ]
    }
   ],
   "source": [
    "print(arr3[-3,-1,-1])"
   ]
  },
  {
   "cell_type": "code",
   "execution_count": 59,
   "id": "1fde9d63",
   "metadata": {},
   "outputs": [
    {
     "name": "stdout",
     "output_type": "stream",
     "text": [
      "5\n"
     ]
    }
   ],
   "source": [
    "print(arr3[-3,-1,-2])"
   ]
  },
  {
   "cell_type": "code",
   "execution_count": 60,
   "id": "bd3e1f02",
   "metadata": {},
   "outputs": [
    {
     "name": "stdout",
     "output_type": "stream",
     "text": [
      "4\n"
     ]
    }
   ],
   "source": [
    "print(arr3[-3,-1,-3])"
   ]
  },
  {
   "cell_type": "code",
   "execution_count": 61,
   "id": "5ee71893",
   "metadata": {},
   "outputs": [
    {
     "name": "stdout",
     "output_type": "stream",
     "text": [
      "3\n"
     ]
    }
   ],
   "source": [
    "print(arr3[-3,-2,-1])"
   ]
  },
  {
   "cell_type": "code",
   "execution_count": 62,
   "id": "9268e0f3",
   "metadata": {},
   "outputs": [
    {
     "name": "stdout",
     "output_type": "stream",
     "text": [
      "2\n"
     ]
    }
   ],
   "source": [
    "print(arr3[-3,-2,-2])"
   ]
  },
  {
   "cell_type": "code",
   "execution_count": 63,
   "id": "c00f3f61",
   "metadata": {},
   "outputs": [
    {
     "name": "stdout",
     "output_type": "stream",
     "text": [
      "1\n"
     ]
    }
   ],
   "source": [
    "print(arr3[-3,-2,-3])"
   ]
  },
  {
   "cell_type": "markdown",
   "id": "74aac73e",
   "metadata": {},
   "source": [
    "# Accessing a Full 2D Slice (Depth Selection)"
   ]
  },
  {
   "cell_type": "code",
   "execution_count": 64,
   "id": "53f8a32e",
   "metadata": {},
   "outputs": [
    {
     "name": "stdout",
     "output_type": "stream",
     "text": [
      "[[[ 1  2  3]\n",
      "  [ 4  5  6]]\n",
      "\n",
      " [[ 7  8  9]\n",
      "  [10 11 12]]\n",
      "\n",
      " [[13 14 15]\n",
      "  [16 17 18]]]\n"
     ]
    }
   ],
   "source": [
    "arr3 = np.array([\n",
    "    [[1,2,3],[4,5,6]],\n",
    "    [[7,8,9],[10,11,12]],\n",
    "    [[13,14,15],[16,17,18]]\n",
    "])\n",
    "print(arr3)"
   ]
  },
  {
   "cell_type": "code",
   "execution_count": 65,
   "id": "5fab610a",
   "metadata": {},
   "outputs": [
    {
     "name": "stdout",
     "output_type": "stream",
     "text": [
      "[[1 2 3]\n",
      " [4 5 6]]\n"
     ]
    }
   ],
   "source": [
    "print(arr3[0])"
   ]
  },
  {
   "cell_type": "code",
   "execution_count": 66,
   "id": "8e4d2577",
   "metadata": {},
   "outputs": [
    {
     "name": "stdout",
     "output_type": "stream",
     "text": [
      "[[ 7  8  9]\n",
      " [10 11 12]]\n"
     ]
    }
   ],
   "source": [
    "print(arr3[1])"
   ]
  },
  {
   "cell_type": "code",
   "execution_count": 67,
   "id": "fa190f74",
   "metadata": {},
   "outputs": [
    {
     "name": "stdout",
     "output_type": "stream",
     "text": [
      "[[13 14 15]\n",
      " [16 17 18]]\n"
     ]
    }
   ],
   "source": [
    "print(arr3[2])"
   ]
  },
  {
   "cell_type": "markdown",
   "id": "81a2d307",
   "metadata": {},
   "source": [
    "# Slicing in a 3D NumPy Array – Detailed Explanation"
   ]
  },
  {
   "cell_type": "code",
   "execution_count": 71,
   "id": "115354ad",
   "metadata": {},
   "outputs": [],
   "source": [
    "# Slicing in a 3D array allows you to extract specific subarrays, depth slices, rows, and columns using the format:\n",
    "\n",
    "# arr[start:stop:step, start:stop:step, start:stop:step]\n",
    "# Here’s how slicing works in a 3D array:\n",
    "\n",
    "# First index (Depth - axis=0) → Slices across depth layers (matrices).\n",
    "# Second index (Row - axis=1) → Slices rows from each selected depth layer.\n",
    "# Third index (Column - axis=2) → Slices columns from each selected row."
   ]
  },
  {
   "cell_type": "code",
   "execution_count": 75,
   "id": "923242e8",
   "metadata": {},
   "outputs": [
    {
     "name": "stdout",
     "output_type": "stream",
     "text": [
      "[[[ 1  2  3]\n",
      "  [ 4  5  6]]\n",
      "\n",
      " [[ 7  8  9]\n",
      "  [10 11 12]]\n",
      "\n",
      " [[13 14 15]\n",
      "  [16 17 18]]]\n"
     ]
    }
   ],
   "source": [
    "arr3 = np.array([\n",
    "    [[1,2,3],[4,5,6]],\n",
    "    [[7,8,9],[10,11,12]],\n",
    "    [[13,14,15],[16,17,18]]\n",
    "])\n",
    "print(arr3)"
   ]
  },
  {
   "cell_type": "markdown",
   "id": "6365710a",
   "metadata": {},
   "source": [
    "# Accessing a Single Row Across Depths"
   ]
  },
  {
   "cell_type": "code",
   "execution_count": null,
   "id": "7d00eed4",
   "metadata": {},
   "outputs": [],
   "source": [
    "# To extract a specific row from all depth layers:"
   ]
  },
  {
   "cell_type": "code",
   "execution_count": 81,
   "id": "bd54d5f4",
   "metadata": {},
   "outputs": [
    {
     "name": "stdout",
     "output_type": "stream",
     "text": [
      "[[[ 1  2  3]\n",
      "  [ 4  5  6]]\n",
      "\n",
      " [[ 7  8  9]\n",
      "  [10 11 12]]\n",
      "\n",
      " [[13 14 15]\n",
      "  [16 17 18]]]\n"
     ]
    }
   ],
   "source": [
    "arr3 = np.array([\n",
    "    [[1,2,3],[4,5,6]],\n",
    "    [[7,8,9],[10,11,12]],\n",
    "    [[13,14,15],[16,17,18]]\n",
    "])\n",
    "print(arr3)"
   ]
  },
  {
   "cell_type": "code",
   "execution_count": 82,
   "id": "cec352f3",
   "metadata": {},
   "outputs": [
    {
     "name": "stdout",
     "output_type": "stream",
     "text": [
      "[[ 1  2  3]\n",
      " [ 7  8  9]\n",
      " [13 14 15]]\n"
     ]
    }
   ],
   "source": [
    "# First Row of all the depths\n",
    "print(arr3[:,0,:])"
   ]
  },
  {
   "cell_type": "code",
   "execution_count": 83,
   "id": "771a6cb0",
   "metadata": {},
   "outputs": [
    {
     "name": "stdout",
     "output_type": "stream",
     "text": [
      "[[ 4  5  6]\n",
      " [10 11 12]\n",
      " [16 17 18]]\n"
     ]
    }
   ],
   "source": [
    "# Second Row of all the Depths\n",
    "print(arr3[:,1,:])"
   ]
  },
  {
   "cell_type": "markdown",
   "id": "b9240e40",
   "metadata": {},
   "source": [
    "# Accessing a Single Column Across Depths"
   ]
  },
  {
   "cell_type": "code",
   "execution_count": 84,
   "id": "7d869817",
   "metadata": {},
   "outputs": [],
   "source": [
    "# To extract a specific column from all depth layers:"
   ]
  },
  {
   "cell_type": "code",
   "execution_count": 85,
   "id": "a6dea8e3",
   "metadata": {},
   "outputs": [
    {
     "name": "stdout",
     "output_type": "stream",
     "text": [
      "[[[ 1  2  3]\n",
      "  [ 4  5  6]]\n",
      "\n",
      " [[ 7  8  9]\n",
      "  [10 11 12]]\n",
      "\n",
      " [[13 14 15]\n",
      "  [16 17 18]]]\n"
     ]
    }
   ],
   "source": [
    "arr3 = np.array([\n",
    "    [[1,2,3],[4,5,6]],\n",
    "    [[7,8,9],[10,11,12]],\n",
    "    [[13,14,15],[16,17,18]]\n",
    "])\n",
    "print(arr3)"
   ]
  },
  {
   "cell_type": "code",
   "execution_count": 86,
   "id": "5c695785",
   "metadata": {},
   "outputs": [
    {
     "name": "stdout",
     "output_type": "stream",
     "text": [
      "[[ 1  4]\n",
      " [ 7 10]\n",
      " [13 16]]\n"
     ]
    }
   ],
   "source": [
    "# first column of all the depths\n",
    "print(arr3[:,:,0])"
   ]
  },
  {
   "cell_type": "code",
   "execution_count": 87,
   "id": "3ccd99e4",
   "metadata": {},
   "outputs": [
    {
     "name": "stdout",
     "output_type": "stream",
     "text": [
      "[[ 2  5]\n",
      " [ 8 11]\n",
      " [14 17]]\n"
     ]
    }
   ],
   "source": [
    "# Second column of all the depths\n",
    "print(arr3[:,:,1])"
   ]
  },
  {
   "cell_type": "code",
   "execution_count": 88,
   "id": "9ef58340",
   "metadata": {},
   "outputs": [
    {
     "name": "stdout",
     "output_type": "stream",
     "text": [
      "[[ 3  6]\n",
      " [ 9 12]\n",
      " [15 18]]\n"
     ]
    }
   ],
   "source": [
    "# third column of all the depths\n",
    "print(arr3[:,:,2])"
   ]
  },
  {
   "cell_type": "markdown",
   "id": "81794745",
   "metadata": {},
   "source": [
    "# Extracting a Full Row from a Specific Depth"
   ]
  },
  {
   "cell_type": "code",
   "execution_count": null,
   "id": "c924d451",
   "metadata": {},
   "outputs": [],
   "source": [
    "# To select a specific row from a specific depth:"
   ]
  },
  {
   "cell_type": "code",
   "execution_count": 89,
   "id": "ea006826",
   "metadata": {},
   "outputs": [
    {
     "name": "stdout",
     "output_type": "stream",
     "text": [
      "[[[ 1  2  3]\n",
      "  [ 4  5  6]]\n",
      "\n",
      " [[ 7  8  9]\n",
      "  [10 11 12]]\n",
      "\n",
      " [[13 14 15]\n",
      "  [16 17 18]]]\n"
     ]
    }
   ],
   "source": [
    "arr3 = np.array([\n",
    "    [[1,2,3],[4,5,6]],\n",
    "    [[7,8,9],[10,11,12]],\n",
    "    [[13,14,15],[16,17,18]]\n",
    "])\n",
    "print(arr3)"
   ]
  },
  {
   "cell_type": "code",
   "execution_count": 90,
   "id": "b1d1a8da",
   "metadata": {},
   "outputs": [
    {
     "name": "stdout",
     "output_type": "stream",
     "text": [
      "[1 2 3]\n"
     ]
    }
   ],
   "source": [
    "# Selecting the first Row from Zero depth\n",
    "print(arr3[0,0,:])"
   ]
  },
  {
   "cell_type": "code",
   "execution_count": 91,
   "id": "fd5a8d83",
   "metadata": {},
   "outputs": [
    {
     "name": "stdout",
     "output_type": "stream",
     "text": [
      "[4 5 6]\n"
     ]
    }
   ],
   "source": [
    "# Selecting the Second Row from Zero depth\n",
    "print(arr3[0,1,:])"
   ]
  },
  {
   "cell_type": "code",
   "execution_count": 92,
   "id": "39617cce",
   "metadata": {},
   "outputs": [
    {
     "name": "stdout",
     "output_type": "stream",
     "text": [
      "[7 8 9]\n"
     ]
    }
   ],
   "source": [
    "# Selecting the first Row from First depth\n",
    "print(arr3[1,0,:])"
   ]
  },
  {
   "cell_type": "code",
   "execution_count": 93,
   "id": "1ce89794",
   "metadata": {},
   "outputs": [
    {
     "name": "stdout",
     "output_type": "stream",
     "text": [
      "[10 11 12]\n"
     ]
    }
   ],
   "source": [
    "# Selecting the Second Row from First depth\n",
    "print(arr3[1,1,:])"
   ]
  },
  {
   "cell_type": "code",
   "execution_count": 94,
   "id": "9efa8dc3",
   "metadata": {},
   "outputs": [
    {
     "name": "stdout",
     "output_type": "stream",
     "text": [
      "[13 14 15]\n"
     ]
    }
   ],
   "source": [
    "# Selecting the First Row from Second depth\n",
    "print(arr3[2,0,:])"
   ]
  },
  {
   "cell_type": "code",
   "execution_count": 95,
   "id": "6c3aa2a4",
   "metadata": {},
   "outputs": [
    {
     "name": "stdout",
     "output_type": "stream",
     "text": [
      "[[16 17 18]]\n"
     ]
    }
   ],
   "source": [
    "# Selecting the Second Row from Second depth\n",
    "print(arr3[2,1:])"
   ]
  },
  {
   "cell_type": "markdown",
   "id": "2d07bcc3",
   "metadata": {},
   "source": [
    "# Extracting a Full Column from a Specific Depth"
   ]
  },
  {
   "cell_type": "code",
   "execution_count": 96,
   "id": "b7f6a0cd",
   "metadata": {},
   "outputs": [],
   "source": [
    "# To select a specific column from a specific depth:"
   ]
  },
  {
   "cell_type": "code",
   "execution_count": 97,
   "id": "438692a9",
   "metadata": {},
   "outputs": [
    {
     "name": "stdout",
     "output_type": "stream",
     "text": [
      "[[[ 1  2  3]\n",
      "  [ 4  5  6]]\n",
      "\n",
      " [[ 7  8  9]\n",
      "  [10 11 12]]\n",
      "\n",
      " [[13 14 15]\n",
      "  [16 17 18]]]\n"
     ]
    }
   ],
   "source": [
    "arr3 = np.array([\n",
    "    [[1,2,3],[4,5,6]],\n",
    "    [[7,8,9],[10,11,12]],\n",
    "    [[13,14,15],[16,17,18]]\n",
    "])\n",
    "print(arr3)"
   ]
  },
  {
   "cell_type": "code",
   "execution_count": 98,
   "id": "fe8f6d8e",
   "metadata": {},
   "outputs": [
    {
     "name": "stdout",
     "output_type": "stream",
     "text": [
      "[1 4]\n"
     ]
    }
   ],
   "source": [
    "# Select the first Column from Zero depth\n",
    "print(arr3[0,:,0])"
   ]
  },
  {
   "cell_type": "code",
   "execution_count": 100,
   "id": "8ba93f84",
   "metadata": {},
   "outputs": [
    {
     "name": "stdout",
     "output_type": "stream",
     "text": [
      "[2 5]\n"
     ]
    }
   ],
   "source": [
    "# Select the Second Column from Zero depth\n",
    "print(arr3[0,:,1])"
   ]
  },
  {
   "cell_type": "code",
   "execution_count": 101,
   "id": "b61d32e4",
   "metadata": {},
   "outputs": [
    {
     "name": "stdout",
     "output_type": "stream",
     "text": [
      "[3 6]\n"
     ]
    }
   ],
   "source": [
    "# Select the third Column from Zero depth\n",
    "print(arr3[0,:,2])"
   ]
  },
  {
   "cell_type": "code",
   "execution_count": 102,
   "id": "f6b6de24",
   "metadata": {},
   "outputs": [
    {
     "name": "stdout",
     "output_type": "stream",
     "text": [
      "[ 7 10]\n"
     ]
    }
   ],
   "source": [
    "# Select the first Column from first depth\n",
    "print(arr3[1,:,0])"
   ]
  },
  {
   "cell_type": "code",
   "execution_count": 103,
   "id": "08b33353",
   "metadata": {},
   "outputs": [
    {
     "name": "stdout",
     "output_type": "stream",
     "text": [
      "[ 8 11]\n"
     ]
    }
   ],
   "source": [
    "# Select the Second Column from first depth\n",
    "print(arr3[1,:,1])"
   ]
  },
  {
   "cell_type": "code",
   "execution_count": 104,
   "id": "ba02c347",
   "metadata": {},
   "outputs": [
    {
     "name": "stdout",
     "output_type": "stream",
     "text": [
      "[ 9 12]\n"
     ]
    }
   ],
   "source": [
    "# Select the Third Column from first depth\n",
    "print(arr3[1,:,2])"
   ]
  },
  {
   "cell_type": "code",
   "execution_count": 105,
   "id": "96244dd4",
   "metadata": {},
   "outputs": [
    {
     "name": "stdout",
     "output_type": "stream",
     "text": [
      "[13 16]\n"
     ]
    }
   ],
   "source": [
    "# Select the first Column from Second depth\n",
    "print(arr3[2,:,0])"
   ]
  },
  {
   "cell_type": "code",
   "execution_count": 106,
   "id": "04c262fe",
   "metadata": {},
   "outputs": [
    {
     "name": "stdout",
     "output_type": "stream",
     "text": [
      "[14 17]\n"
     ]
    }
   ],
   "source": [
    "# Select the Second Column from Second depth\n",
    "print(arr3[2,:,1])"
   ]
  },
  {
   "cell_type": "code",
   "execution_count": 107,
   "id": "78fdc66d",
   "metadata": {},
   "outputs": [
    {
     "name": "stdout",
     "output_type": "stream",
     "text": [
      "[15 18]\n"
     ]
    }
   ],
   "source": [
    "# Select the Third Column from Second depth\n",
    "print(arr3[2,:,2])"
   ]
  },
  {
   "cell_type": "markdown",
   "id": "482ebed7",
   "metadata": {},
   "source": [
    "# Extracting a Diagonal (Across Depths)"
   ]
  },
  {
   "cell_type": "code",
   "execution_count": 108,
   "id": "768a9a7d",
   "metadata": {},
   "outputs": [
    {
     "name": "stdout",
     "output_type": "stream",
     "text": [
      "[[[ 1  2  3]\n",
      "  [ 4  5  6]]\n",
      "\n",
      " [[ 7  8  9]\n",
      "  [10 11 12]]\n",
      "\n",
      " [[13 14 15]\n",
      "  [16 17 18]]]\n"
     ]
    }
   ],
   "source": [
    "# To extract diagonal elements across all depths:\n",
    "\n",
    "arr3 = np.array([\n",
    "    [[1,2,3],[4,5,6]],\n",
    "    [[7,8,9],[10,11,12]],\n",
    "    [[13,14,15],[16,17,18]]\n",
    "])\n",
    "print(arr3)"
   ]
  },
  {
   "cell_type": "code",
   "execution_count": 109,
   "id": "c37203a8",
   "metadata": {},
   "outputs": [
    {
     "name": "stdout",
     "output_type": "stream",
     "text": [
      "[ 1  7 13]\n"
     ]
    }
   ],
   "source": [
    "print(arr3[:,0,0])"
   ]
  },
  {
   "cell_type": "code",
   "execution_count": 114,
   "id": "2acf7adc",
   "metadata": {},
   "outputs": [
    {
     "name": "stdout",
     "output_type": "stream",
     "text": [
      "[[[ 1  2  3]]\n",
      "\n",
      " [[ 7  8  9]]\n",
      "\n",
      " [[13 14 15]]]\n"
     ]
    }
   ],
   "source": [
    "arr3 = np.array([\n",
    "    [[1,2,3]],\n",
    "    [[7,8,9]],\n",
    "    [[13,14,15]]\n",
    "])\n",
    "print(arr3)"
   ]
  },
  {
   "cell_type": "code",
   "execution_count": 116,
   "id": "5d549483",
   "metadata": {},
   "outputs": [
    {
     "name": "stdout",
     "output_type": "stream",
     "text": [
      "[[1]\n",
      " [2]\n",
      " [3]]\n"
     ]
    }
   ],
   "source": [
    "# Let's analyze how .diagonal() works:\n",
    "\n",
    "# .diagonal() works on the last two dimensions ((rows, columns)) of the array.\n",
    "# It extracts diagonal elements where row index = column index within these last two dimensions.\n",
    "# However, your array only has one row per depth, meaning that the diagonal extraction isn't happening in the usual way. \n",
    "# Instead, NumPy ignores the missing rows and still extracts one element per depth.\n",
    "\n",
    "print(arr3.diagonal())"
   ]
  },
  {
   "cell_type": "markdown",
   "id": "55f83e6e",
   "metadata": {},
   "source": [
    "# Reversing a 3D Array Using Slicing"
   ]
  },
  {
   "cell_type": "code",
   "execution_count": 117,
   "id": "a5c6b02f",
   "metadata": {},
   "outputs": [
    {
     "name": "stdout",
     "output_type": "stream",
     "text": [
      "[[[ 1  2  3]\n",
      "  [ 4  5  6]]\n",
      "\n",
      " [[ 7  8  9]\n",
      "  [10 11 12]]\n",
      "\n",
      " [[13 14 15]\n",
      "  [16 17 18]]]\n"
     ]
    }
   ],
   "source": [
    "arr3 = np.array([\n",
    "    [[1,2,3],[4,5,6]],\n",
    "    [[7,8,9],[10,11,12]],\n",
    "    [[13,14,15],[16,17,18]]\n",
    "])\n",
    "print(arr3)"
   ]
  },
  {
   "cell_type": "code",
   "execution_count": 121,
   "id": "a98782fd",
   "metadata": {},
   "outputs": [
    {
     "name": "stdout",
     "output_type": "stream",
     "text": [
      "[[[13 14 15]\n",
      "  [16 17 18]]\n",
      "\n",
      " [[ 7  8  9]\n",
      "  [10 11 12]]\n",
      "\n",
      " [[ 1  2  3]\n",
      "  [ 4  5  6]]]\n"
     ]
    }
   ],
   "source": [
    "# Reverses depth layers.\n",
    "print(arr3[::-1])"
   ]
  },
  {
   "cell_type": "code",
   "execution_count": 122,
   "id": "0e21dd91",
   "metadata": {},
   "outputs": [
    {
     "name": "stdout",
     "output_type": "stream",
     "text": [
      "[[[ 3  2  1]\n",
      "  [ 6  5  4]]\n",
      "\n",
      " [[ 9  8  7]\n",
      "  [12 11 10]]\n",
      "\n",
      " [[15 14 13]\n",
      "  [18 17 16]]]\n"
     ]
    }
   ],
   "source": [
    "# Reversing Row Order\n",
    "print(arr3[:,:,::-1])"
   ]
  },
  {
   "cell_type": "code",
   "execution_count": 123,
   "id": "aa4ea073",
   "metadata": {},
   "outputs": [
    {
     "name": "stdout",
     "output_type": "stream",
     "text": [
      "[[[ 4  5  6]\n",
      "  [ 1  2  3]]\n",
      "\n",
      " [[10 11 12]\n",
      "  [ 7  8  9]]\n",
      "\n",
      " [[16 17 18]\n",
      "  [13 14 15]]]\n"
     ]
    }
   ],
   "source": [
    "# Reversing Column Order\n",
    "print(arr3[:,::-1,:])"
   ]
  },
  {
   "cell_type": "code",
   "execution_count": 124,
   "id": "28bad2f1",
   "metadata": {},
   "outputs": [
    {
     "name": "stdout",
     "output_type": "stream",
     "text": [
      "[[[ 1  2  3]\n",
      "  [ 4  5  6]]\n",
      "\n",
      " [[ 7  8  9]\n",
      "  [10 11 12]]\n",
      "\n",
      " [[13 14 15]\n",
      "  [16 17 18]]]\n"
     ]
    }
   ],
   "source": [
    "arr3 = np.array([\n",
    "    [[1,2,3],[4,5,6]],\n",
    "    [[7,8,9],[10,11,12]],\n",
    "    [[13,14,15],[16,17,18]]\n",
    "])\n",
    "print(arr3)"
   ]
  },
  {
   "cell_type": "code",
   "execution_count": 126,
   "id": "06210051",
   "metadata": {},
   "outputs": [
    {
     "name": "stdout",
     "output_type": "stream",
     "text": [
      "10\n"
     ]
    }
   ],
   "source": [
    "# 1️⃣ How do you access the element at depth index 1, row index 1, and column index 0 in a 3D array arr3?\n",
    "print(arr3[1,1,0])"
   ]
  },
  {
   "cell_type": "code",
   "execution_count": 134,
   "id": "a8445a6d",
   "metadata": {},
   "outputs": [
    {
     "name": "stdout",
     "output_type": "stream",
     "text": [
      "[4 5 6]\n"
     ]
    }
   ],
   "source": [
    "# 3️⃣ How do you select an entire row from depth index 0 and row index 1?\n",
    "print(arr3[0,1,:])"
   ]
  },
  {
   "cell_type": "code",
   "execution_count": 136,
   "id": "1547ad31",
   "metadata": {},
   "outputs": [
    {
     "name": "stdout",
     "output_type": "stream",
     "text": [
      "[14 17]\n"
     ]
    }
   ],
   "source": [
    "# 4️⃣ How do you select an entire column from depth index 2 and column index 1?\n",
    "print(arr3[2,:,1])"
   ]
  },
  {
   "cell_type": "code",
   "execution_count": 137,
   "id": "0ce5d363",
   "metadata": {},
   "outputs": [
    {
     "name": "stdout",
     "output_type": "stream",
     "text": [
      "[ 6 12 18]\n"
     ]
    }
   ],
   "source": [
    "# 5️⃣ What does arr3[:, 1, 2] return?\n",
    "print(arr3[:,1,2])"
   ]
  },
  {
   "cell_type": "code",
   "execution_count": 142,
   "id": "0482e36f",
   "metadata": {},
   "outputs": [
    {
     "name": "stdout",
     "output_type": "stream",
     "text": [
      "[ 1  7 13]\n"
     ]
    }
   ],
   "source": [
    "# 6️⃣ How do you extract the first element from each depth in a 3D array?\n",
    "print(arr3[:,0,0])"
   ]
  },
  {
   "cell_type": "code",
   "execution_count": 143,
   "id": "8ead5b61",
   "metadata": {},
   "outputs": [
    {
     "name": "stdout",
     "output_type": "stream",
     "text": [
      "18\n"
     ]
    }
   ],
   "source": [
    "# 7️⃣ What happens if you use negative indexing in a 3D array?\n",
    "print(arr3[-1,-1,-1])"
   ]
  },
  {
   "cell_type": "code",
   "execution_count": 144,
   "id": "1598e065",
   "metadata": {},
   "outputs": [
    {
     "name": "stdout",
     "output_type": "stream",
     "text": [
      "[[[ 1  2  3]\n",
      "  [ 4  5  6]]\n",
      "\n",
      " [[ 7  8  9]\n",
      "  [10 11 12]]]\n"
     ]
    }
   ],
   "source": [
    "# 8️⃣ How do you extract all elements from the first two depths in a 3D array?\n",
    "print(arr3[:2,:,:])"
   ]
  },
  {
   "cell_type": "code",
   "execution_count": 145,
   "id": "8b63f5ec",
   "metadata": {},
   "outputs": [
    {
     "name": "stdout",
     "output_type": "stream",
     "text": [
      "[[ 2  5]\n",
      " [ 8 11]\n",
      " [14 17]]\n"
     ]
    }
   ],
   "source": [
    "# 9️⃣ What does arr3[:, :, 1] return?\n",
    "print(arr3[:,:,1])"
   ]
  },
  {
   "cell_type": "code",
   "execution_count": 147,
   "id": "b22bce45",
   "metadata": {},
   "outputs": [
    {
     "name": "stdout",
     "output_type": "stream",
     "text": [
      "[[ 4  5  6]\n",
      " [10 11 12]\n",
      " [16 17 18]]\n"
     ]
    }
   ],
   "source": [
    "# 🔟 How do you extract every second row from a 3D array?\n",
    "print(arr3[:,1,:])"
   ]
  },
  {
   "cell_type": "code",
   "execution_count": 149,
   "id": "73c15349",
   "metadata": {},
   "outputs": [
    {
     "name": "stdout",
     "output_type": "stream",
     "text": [
      "[[ 7  8  9]\n",
      " [13 14 15]]\n"
     ]
    }
   ],
   "source": [
    "# 1️⃣1️⃣ What does arr3[1:, 0, :] return?\n",
    "print(arr3[1:, 0, :])"
   ]
  },
  {
   "cell_type": "code",
   "execution_count": 151,
   "id": "88f14d80",
   "metadata": {},
   "outputs": [
    {
     "name": "stdout",
     "output_type": "stream",
     "text": [
      "[[[13 14 15]\n",
      "  [16 17 18]]\n",
      "\n",
      " [[ 7  8  9]\n",
      "  [10 11 12]]\n",
      "\n",
      " [[ 1  2  3]\n",
      "  [ 4  5  6]]]\n"
     ]
    }
   ],
   "source": [
    "# 1️⃣2️⃣ How do you reverse the order of depths in a 3D array?\n",
    "print(arr3[::-1,:,:])"
   ]
  },
  {
   "cell_type": "code",
   "execution_count": 152,
   "id": "1dd8fc86",
   "metadata": {},
   "outputs": [
    {
     "name": "stdout",
     "output_type": "stream",
     "text": [
      "[[[ 3  2  1]\n",
      "  [ 6  5  4]]\n",
      "\n",
      " [[ 9  8  7]\n",
      "  [12 11 10]]\n",
      "\n",
      " [[15 14 13]\n",
      "  [18 17 16]]]\n"
     ]
    }
   ],
   "source": [
    "# 1️⃣3️⃣ How do you reverse the order of rows in a 3D array?\n",
    "print(arr3[:,:,::-1])"
   ]
  },
  {
   "cell_type": "code",
   "execution_count": 153,
   "id": "25938709",
   "metadata": {},
   "outputs": [
    {
     "name": "stdout",
     "output_type": "stream",
     "text": [
      "[[[ 4  5  6]\n",
      "  [ 1  2  3]]\n",
      "\n",
      " [[10 11 12]\n",
      "  [ 7  8  9]]\n",
      "\n",
      " [[16 17 18]\n",
      "  [13 14 15]]]\n"
     ]
    }
   ],
   "source": [
    "# 1️⃣4️⃣ How do you reverse the order of columns in a 3D array?\n",
    "print(arr3[:,::-1,:])"
   ]
  },
  {
   "cell_type": "code",
   "execution_count": 155,
   "id": "336731eb",
   "metadata": {},
   "outputs": [
    {
     "name": "stdout",
     "output_type": "stream",
     "text": [
      "[[[18 17 16]\n",
      "  [15 14 13]]\n",
      "\n",
      " [[12 11 10]\n",
      "  [ 9  8  7]]\n",
      "\n",
      " [[ 6  5  4]\n",
      "  [ 3  2  1]]]\n"
     ]
    }
   ],
   "source": [
    "# 1️⃣5️⃣ What does arr3[::-1, ::-1, ::-1] do?\n",
    "print(arr3[::-1,::-1,::-1])"
   ]
  },
  {
   "cell_type": "code",
   "execution_count": 162,
   "id": "bb211fb8",
   "metadata": {},
   "outputs": [
    {
     "name": "stdout",
     "output_type": "stream",
     "text": [
      "[[[13 14 15]\n",
      "  [16 17 18]]\n",
      "\n",
      " [[ 7  8  9]\n",
      "  [10 11 12]]\n",
      "\n",
      " [[ 1  2  3]\n",
      "  [ 4  5  6]]]\n"
     ]
    }
   ],
   "source": [
    "# 1️⃣7️⃣ How do you swap two depths in a 3D array using slicing?\n",
    "arr3[[0,2]] = arr3[[2,0]]\n",
    "print(arr3)\n",
    "\n",
    "# If we have a (3,2,3) array, swapping the first (depth index 0) and last (depth index -1 or 2) depth:\n",
    "\n",
    "# arr3[[0, 2]] = arr3[[2, 0]]\n",
    "# This swaps the first and last depth while keeping rows and columns unchanged."
   ]
  },
  {
   "cell_type": "markdown",
   "id": "26abe588",
   "metadata": {},
   "source": [
    "# Methods of 3D Array"
   ]
  },
  {
   "cell_type": "markdown",
   "id": "0bf765d7",
   "metadata": {},
   "source": [
    "# 1 astype() method "
   ]
  },
  {
   "cell_type": "code",
   "execution_count": null,
   "id": "3bc8843c",
   "metadata": {},
   "outputs": [],
   "source": [
    "# The astype() method in NumPy is used to convert the data type of a NumPy array to a specified type.\n",
    "\n",
    "# Syntax:\n",
    "# array.astype(dtype, order='K', casting='unsafe', subok=True, copy=True)\n",
    "\n",
    "# Parameter\tDescription\n",
    "# 1.dtype\tThe target data type to which the array should be converted. Example: np.int32, np.float64, np.bool_, np.complex_, \n",
    "# 2.order\tSpecifies the memory layout.\n",
    "# Options:\n",
    "# - 'C' (C-style row-major order)\n",
    "# - 'F' (Fortran-style column-major order)\n",
    "# - 'A' (Any order; defaults to existing)\n",
    "# - 'K' (Keeps existing order)\n",
    "# casting\tDefines how strict the conversion should be. Options:\n",
    "# - 'no' (Disallows casting)\n",
    "# - 'equiv' (Only equivalent types allowed)\n",
    "# - 'safe' (Only safe conversions, e.g., int32 → float64 but not float64 → int32)\n",
    "# - 'same_kind' (Allows conversions within similar types)\n",
    "# - 'unsafe' (Allows all conversions, even data loss)\n",
    "# subok\tIf True, subclasses are passed through; if False, returned array is forced to be a base NumPy array.\n",
    "# copy\tIf True, always returns a new array. If False, a new array is returned only if necessary (e.g., if the type actually changes)."
   ]
  },
  {
   "cell_type": "code",
   "execution_count": 9,
   "id": "a2ce36bd",
   "metadata": {},
   "outputs": [
    {
     "name": "stdout",
     "output_type": "stream",
     "text": [
      "[[[ 1  2  3]\n",
      "  [ 4  5  6]]\n",
      "\n",
      " [[ 7  8  9]\n",
      "  [10 11 12]]]\n",
      "3\n"
     ]
    }
   ],
   "source": [
    "import numpy as np\n",
    "arr = np.array([\n",
    "    [[1,2,3],[4,5,6]],\n",
    "    [[7,8,9],[10,11,12]]\n",
    "])\n",
    "print(arr)\n",
    "print(arr.ndim)"
   ]
  },
  {
   "cell_type": "code",
   "execution_count": 15,
   "id": "3e98ba65",
   "metadata": {},
   "outputs": [
    {
     "name": "stdout",
     "output_type": "stream",
     "text": [
      "[[[ 1.  2.  3.]\n",
      "  [ 4.  5.  6.]]\n",
      "\n",
      " [[ 7.  8.  9.]\n",
      "  [10. 11. 12.]]]\n",
      "float64\n"
     ]
    }
   ],
   "source": [
    "new_arr = arr.astype(float)\n",
    "print(new_arr)\n",
    "print(new_arr.dtype)"
   ]
  },
  {
   "cell_type": "markdown",
   "id": "9701dd08",
   "metadata": {},
   "source": [
    "# 2.copy method"
   ]
  },
  {
   "cell_type": "code",
   "execution_count": 16,
   "id": "55d61eff",
   "metadata": {},
   "outputs": [],
   "source": [
    "# The copy() method in NumPy is used to create a new independent copy of an existing array. \n",
    "# Changes made to the copied array do not affect the original array.\n",
    "\n",
    "# Syntax:\n",
    "# array.copy(order='K')\n",
    "\n",
    "# Parameter\tDescription\n",
    "# order\tSpecifies the memory layout of the copied array. Options:\n",
    "# - 'C' → Row-major order (default)\n",
    "# - 'F' → Column-major order\n",
    "# - 'A' → Keeps existing order (C or F)\n",
    "# - 'K' → Tries to preserve original order as much as possible\n",
    "\n",
    "# 🔹 Note:\n",
    "# If order='C', the new array follows C-contiguous memory layout (row-wise storage).\n",
    "# If order='F', the new array follows Fortran-contiguous memory layout (column-wise storage).\n",
    "# If order='K', it keeps the original order of elements as much as possible."
   ]
  },
  {
   "cell_type": "code",
   "execution_count": 22,
   "id": "4d760c77",
   "metadata": {},
   "outputs": [
    {
     "name": "stdout",
     "output_type": "stream",
     "text": [
      "After Changes\n",
      "[[[ 1  2  3]\n",
      "  [ 4  5  6]]\n",
      "\n",
      " [[ 7  8  9]\n",
      "  [10 11 12]]]\n",
      "\n",
      "Original Array\n",
      "[[[1000    2    3]\n",
      "  [   4    5    6]]\n",
      "\n",
      " [[   7    8    9]\n",
      "  [  10   11   12]]]\n"
     ]
    }
   ],
   "source": [
    "arr = np.array([\n",
    "    [[1,2,3],[4,5,6]],\n",
    "    [[7,8,9],[10,11,12]]\n",
    "])\n",
    "new_arr = arr.copy()\n",
    "\n",
    "arr[0][0][0] = 1000\n",
    "print(\"After Changes\")\n",
    "print(new_arr)\n",
    "\n",
    "print()\n",
    "\n",
    "print(\"Original Array\")\n",
    "print(arr)"
   ]
  },
  {
   "cell_type": "markdown",
   "id": "63814c1e",
   "metadata": {},
   "source": [
    "# 3.view() Method "
   ]
  },
  {
   "cell_type": "code",
   "execution_count": 24,
   "id": "f6fd9cdd",
   "metadata": {},
   "outputs": [],
   "source": [
    "# The view() method in NumPy creates a new view of an array without copying the data. \n",
    "# This means the new array shares the same memory as the original array, so changes to one affect the other.\n",
    "\n",
    "# Syntax:\n",
    "# array.view(dtype=None)\n",
    "\n",
    "# Parameter\tDescription\n",
    "# dtype\t(Optional) Specifies a different data type for the view (e.g., float32, int8). \n",
    "# If None, it keeps the original dtype."
   ]
  },
  {
   "cell_type": "code",
   "execution_count": 25,
   "id": "0d679f0a",
   "metadata": {},
   "outputs": [
    {
     "name": "stdout",
     "output_type": "stream",
     "text": [
      "After Changes\n",
      "[[[1000    2    3]\n",
      "  [   4    5    6]]\n",
      "\n",
      " [[   7    8    9]\n",
      "  [  10   11   12]]]\n",
      "\n",
      "Original Array\n",
      "[[[1000    2    3]\n",
      "  [   4    5    6]]\n",
      "\n",
      " [[   7    8    9]\n",
      "  [  10   11   12]]]\n"
     ]
    }
   ],
   "source": [
    "arr = np.array([\n",
    "    [[1,2,3],[4,5,6]],\n",
    "    [[7,8,9],[10,11,12]]\n",
    "])\n",
    "new_view = arr.view()\n",
    "\n",
    "new_view[0][0][0] = 1000\n",
    "print(\"After Changes\")\n",
    "print(new_view)\n",
    "\n",
    "print()\n",
    "\n",
    "print(\"Original Array\")\n",
    "print(arr)"
   ]
  },
  {
   "cell_type": "markdown",
   "id": "3e0e8167",
   "metadata": {},
   "source": [
    "# 4. reshape() Method"
   ]
  },
  {
   "cell_type": "code",
   "execution_count": 26,
   "id": "fceeccf3",
   "metadata": {},
   "outputs": [],
   "source": [
    "# The reshape() method in NumPy changes the shape of an array without changing its data. \n",
    "# It returns a new view (or a copy in some cases) of the original array with a different shape.\n",
    "\n",
    "# Syntax:\n",
    "# array.reshape(new_shape, order='C')\n",
    "\n",
    "# Parameter\tDescription\n",
    "# new_shape\tA tuple that specifies the new dimensions of the array. The total number of elements must remain the same.\n",
    "# order\t(Optional) Determines how elements are read and placed in the new shape. Possible values:\n",
    "# 'C' → Row-major order (C-style, default)\n",
    "# 'F' → Column-major order (Fortran-style)\n",
    "# 'A' → Fortran-like order if the original array is Fortran-contiguous; otherwise, C-order\n",
    "# 'K' → Keeps the elements in memory order\n",
    "\n",
    "# Return Type:\n",
    "# Returns a new array with the specified shape.\n",
    "# If possible, it returns a view (shares memory with the original).\n",
    "# Otherwise, it returns a copy (independent memory)."
   ]
  },
  {
   "cell_type": "code",
   "execution_count": 28,
   "id": "7c6b9144",
   "metadata": {},
   "outputs": [
    {
     "name": "stdout",
     "output_type": "stream",
     "text": [
      "Original Array\n",
      "[[[ 1  2  3]\n",
      "  [ 4  5  6]]\n",
      "\n",
      " [[ 7  8  9]\n",
      "  [10 11 12]]]\n",
      "\n",
      "Reshaped Array\n",
      "[[[ 1  2]\n",
      "  [ 3  4]]\n",
      "\n",
      " [[ 5  6]\n",
      "  [ 7  8]]\n",
      "\n",
      " [[ 9 10]\n",
      "  [11 12]]]\n"
     ]
    }
   ],
   "source": [
    "# 1️⃣ Reshaping a 3D Array\n",
    "arr = np.array([\n",
    "    [[1,2,3],[4,5,6]],\n",
    "    [[7,8,9],[10,11,12]]\n",
    "])\n",
    "\n",
    "new_arr = arr.reshape(3,2,2)\n",
    "print(\"Original Array\")\n",
    "print(arr)\n",
    "print()\n",
    "\n",
    "print(\"Reshaped Array\")\n",
    "print(new_arr)\n",
    "\n",
    "\n",
    "# Explanation:\n",
    "# The original shape (2, 2, 3) → (3, 2, 2).\n",
    "# The total elements (2×2×3 = 3×2×2 = 12) remain the same."
   ]
  },
  {
   "cell_type": "code",
   "execution_count": 29,
   "id": "72b3a4e0",
   "metadata": {},
   "outputs": [
    {
     "name": "stdout",
     "output_type": "stream",
     "text": [
      "[[[ 1  2]\n",
      "  [ 3  4]]\n",
      "\n",
      " [[ 5  6]\n",
      "  [ 7  8]]\n",
      "\n",
      " [[ 9 10]\n",
      "  [11 12]]]\n"
     ]
    }
   ],
   "source": [
    "# 2️⃣ Reshaping with -1 (Automatic Dimension Calculation)\n",
    "arr = np.array([\n",
    "    [[1,2,3],[4,5,6]],\n",
    "    [[7,8,9],[10,11,12]]\n",
    "])\n",
    "new_shape = arr.reshape(3,-1,2)\n",
    "print(new_shape)"
   ]
  },
  {
   "cell_type": "code",
   "execution_count": 30,
   "id": "c5d968bf",
   "metadata": {},
   "outputs": [
    {
     "name": "stdout",
     "output_type": "stream",
     "text": [
      "[[[ 1  5]\n",
      "  [10  9]]\n",
      "\n",
      " [[ 7 11]\n",
      "  [ 2  6]]\n",
      "\n",
      " [[ 4  3]\n",
      "  [ 8 12]]]\n"
     ]
    }
   ],
   "source": [
    "# 3️⃣ Reshaping with Fortran Order ('F')\n",
    "new_arr= arr.reshape((3, 2, 2), order='F')  \n",
    "print(new_arr)\n"
   ]
  },
  {
   "cell_type": "code",
   "execution_count": 31,
   "id": "bec1685f",
   "metadata": {},
   "outputs": [
    {
     "name": "stdout",
     "output_type": "stream",
     "text": [
      "[[ 1  2  3]\n",
      " [ 4  5  6]\n",
      " [ 7  8  9]\n",
      " [10 11 12]]\n"
     ]
    }
   ],
   "source": [
    "# 4️⃣ Reshaping a 3D Array into a 2D Array\n",
    "arr2d = arr.reshape((4, 3))  # Flattening depth into rows\n",
    "print(arr2d)\n"
   ]
  },
  {
   "cell_type": "code",
   "execution_count": 32,
   "id": "4dcb09c6",
   "metadata": {},
   "outputs": [
    {
     "name": "stdout",
     "output_type": "stream",
     "text": [
      "[ 1  2  3  4  5  6  7  8  9 10 11 12]\n"
     ]
    }
   ],
   "source": [
    "# 5️⃣ Reshaping a 3D Array into a 1D Array\n",
    "\n",
    "arr1d = arr.reshape(-1)\n",
    "print(arr1d)\n",
    "\n",
    "# Explanation:\n",
    "# reshape(-1) flattens the entire array into 1D."
   ]
  },
  {
   "cell_type": "markdown",
   "id": "e175dc17",
   "metadata": {},
   "source": [
    "# 5.transpose() Method"
   ]
  },
  {
   "cell_type": "code",
   "execution_count": 33,
   "id": "b31105e0",
   "metadata": {},
   "outputs": [],
   "source": [
    "# The transpose() method rearranges the axes (dimensions) of a NumPy array, effectively changing how elements are indexed along different axes.\n",
    "\n",
    "# Syntax:\n",
    "    \n",
    "# array.transpose(axes=None)\n",
    "\n",
    "# Parameter\tDescription\n",
    "# axes\t(Optional) A tuple specifying the new order of axes. If None, the dimensions are reversed ([::-1]).\n",
    "# If no axes are given, default is reversing the order of dimensions.\n",
    "# The tuple must contain all the axes exactly once.\n",
    "\n",
    "# Return Type:\n",
    "# Returns a view of the array with reordered axes.\n",
    "# If a copy is needed, use .copy() after transposing."
   ]
  },
  {
   "cell_type": "code",
   "execution_count": 36,
   "id": "3e85feff",
   "metadata": {},
   "outputs": [
    {
     "name": "stdout",
     "output_type": "stream",
     "text": [
      "[[[ 1  7]\n",
      "  [ 4 10]]\n",
      "\n",
      " [[ 2  8]\n",
      "  [ 5 11]]\n",
      "\n",
      " [[ 3  9]\n",
      "  [ 6 12]]]\n"
     ]
    }
   ],
   "source": [
    "# 1️⃣ Default Transpose (Reverse Axes)\n",
    "arr = np.array([\n",
    "    [[1,2,3],[4,5,6]],\n",
    "    [[7,8,9],[10,11,12]]\n",
    "])\n",
    "new_arr = arr.transpose()\n",
    "print(new_arr)\n",
    "\n",
    "\n",
    "# Explanation:\n",
    "# The shape changes from (2, 2, 3) → (3, 2, 2).\n",
    "# Default behavior reverses the axes order."
   ]
  },
  {
   "cell_type": "markdown",
   "id": "4eb2a240",
   "metadata": {},
   "source": [
    "# 6.flatten() Method"
   ]
  },
  {
   "cell_type": "code",
   "execution_count": 1,
   "id": "bce7a19f",
   "metadata": {},
   "outputs": [],
   "source": [
    "# The flatten() method in NumPy is used to convert a multi-dimensional array (including 3D arrays) into a 1D array.\n",
    "\n",
    "# Syntax:\n",
    "# flattened_array = arr3d.flatten(order='C')\n",
    "\n",
    "# Parameters:\n",
    "# Parameter\tDescription\tDefault\n",
    "# order\tDetermines how elements are read from the 3D array (row-wise, column-wise, etc.)\t'C'\n",
    "\n",
    "\n",
    "# Return Type\n",
    "# Returns a new 1D NumPy array with all elements from the 3D array.\n",
    "# The original array remains unchanged (unlike ravel(), which may return a view)."
   ]
  },
  {
   "cell_type": "code",
   "execution_count": 14,
   "id": "ab2dd47e",
   "metadata": {},
   "outputs": [
    {
     "name": "stdout",
     "output_type": "stream",
     "text": [
      "1D array\n",
      "[ 1  2  3  4  5  6  7  8  9 10 11 12]\n",
      "\n",
      "3D array\n",
      "[[[ 1  2  3]\n",
      "  [ 4  5  6]]\n",
      "\n",
      " [[ 7  8  9]\n",
      "  [10 11 12]]]\n"
     ]
    }
   ],
   "source": [
    "arr = np.array([\n",
    "    [[1,2,3],[4,5,6]],\n",
    "    [[7,8,9],[10,11,12]]\n",
    "])\n",
    "flat_arr = arr.flatten(order='C')\n",
    "print(\"1D array\")\n",
    "print(flat_arr)\n",
    "print()\n",
    "print(\"3D array\")\n",
    "print(arr)"
   ]
  },
  {
   "cell_type": "code",
   "execution_count": 15,
   "id": "d790fea1",
   "metadata": {},
   "outputs": [
    {
     "name": "stdout",
     "output_type": "stream",
     "text": [
      "1D array\n",
      "[ 1  7  4 10  2  8  5 11  3  9  6 12]\n",
      "\n",
      "3D array\n",
      "[[[ 1  2  3]\n",
      "  [ 4  5  6]]\n",
      "\n",
      " [[ 7  8  9]\n",
      "  [10 11 12]]]\n"
     ]
    }
   ],
   "source": [
    "arr = np.array([\n",
    "    [[1,2,3],[4,5,6]],\n",
    "    [[7,8,9],[10,11,12]]\n",
    "])\n",
    "flat_arr = arr.flatten(order='F')\n",
    "print(\"1D array\")\n",
    "print(flat_arr)\n",
    "print()\n",
    "print(\"3D array\")\n",
    "print(arr)"
   ]
  },
  {
   "cell_type": "markdown",
   "id": "abdb0ff2",
   "metadata": {},
   "source": [
    "# 7.ravel() method"
   ]
  },
  {
   "cell_type": "code",
   "execution_count": 16,
   "id": "8f3bbbda",
   "metadata": {},
   "outputs": [],
   "source": [
    "# ravel() Method\n",
    "# The ravel() method is used to return a 1D view (or a copy) of a multi-dimensional array, including 3D arrays.\n",
    "\n",
    "# Syntax:\n",
    "# flattened_array = arr3d.ravel(order='C')\n",
    "\n",
    "# Parameters:\n",
    "# order\tDetermines how elements are read from the 3D array (row-wise, column-wise, etc.)\t'C'\n",
    "\n",
    "# Order Options:\n",
    "# 1️⃣ 'C' (Row-Major Order - C-style) [DEFAULT]\n",
    "# Reads elements row-wise, moving across columns first.\n",
    "# Follows the memory layout used in C programming.\n",
    "\n",
    "# 2️⃣ 'F' (Column-Major Order - Fortran-style)\n",
    "# Reads elements column-wise, moving down rows first.\n",
    "# Useful for accessing elements in Fortran-style storage.\n",
    "\n",
    "# 3️⃣ 'A' (Automatic Order)\n",
    "# Uses 'F' if the array is Fortran-contiguous, otherwise 'C'.\n",
    "\n",
    "# 4️⃣ 'K' (Memory Order - Preserve Layout)\n",
    "# Preserves the memory layout of the original array.\n",
    "\n",
    "\n",
    "# Return Type\n",
    "# Returns a 1D NumPy array containing all elements of the original 3D array.\n",
    "# Returns a view (if possible), or a copy if needed."
   ]
  },
  {
   "cell_type": "code",
   "execution_count": 25,
   "id": "27d78829",
   "metadata": {},
   "outputs": [
    {
     "name": "stdout",
     "output_type": "stream",
     "text": [
      "1D array\n",
      "[ 1  2  3  4  5  6  7  8  9 10 11 12]\n",
      "\n",
      "3D array\n",
      "[[[ 1  2  3]\n",
      "  [ 4  5  6]]\n",
      "\n",
      " [[ 7  8  9]\n",
      "  [10 11 12]]]\n",
      "\n",
      "After Changes\n",
      "[1000    2    3    4    5    6    7    8    9   10   11   12]\n",
      "\n",
      "Original Array\n",
      "[[[1000    2    3]\n",
      "  [   4    5    6]]\n",
      "\n",
      " [[   7    8    9]\n",
      "  [  10   11   12]]]\n"
     ]
    }
   ],
   "source": [
    "arr = np.array([\n",
    "    [[1,2,3],[4,5,6]],\n",
    "    [[7,8,9],[10,11,12]]\n",
    "])\n",
    "ravel_arr = arr.ravel(order='C')\n",
    "print(\"1D array\")\n",
    "print(flat_arr)\n",
    "print()\n",
    "print(\"3D array\")\n",
    "print(arr)\n",
    "\n",
    "print()\n",
    "ravel_arr[0] = 1000\n",
    "print(\"After Changes\")\n",
    "print(ravel_arr)\n",
    "print()\n",
    "print(\"Original Array\")\n",
    "print(arr)"
   ]
  },
  {
   "cell_type": "markdown",
   "id": "b709dd94",
   "metadata": {},
   "source": [
    "# 8.sum() method"
   ]
  },
  {
   "cell_type": "code",
   "execution_count": 26,
   "id": "1221352b",
   "metadata": {},
   "outputs": [],
   "source": [
    "# sum() Method \n",
    "# The sum() method computes the sum of array elements over a specified axis. In a 3D array, we can control how summation happens across different dimensions.\n",
    "\n",
    "# 🔹 Syntax:\n",
    "# numpy.sum(arr, axis=None, dtype=None, out=None, keepdims=False, initial=0, where=True)\n",
    "\n",
    "# 🔹 Parameters:\n",
    "# axis\tSpecifies the axis along which to sum. Default is None (sum all elements).\n",
    "# dtype\tThe data type for the sum. Default is inferred from arr.\n",
    "# out\tAn optional output array to store the result. Must be same shape as expected output.\n",
    "# keepdims\tIf True, retains reduced dimensions with size 1 instead of collapsing them.\n",
    "# initial\tThe starting value for summation. Default is 0.\n",
    "# where\tA boolean mask that specifies which elements to include in the sum."
   ]
  },
  {
   "cell_type": "code",
   "execution_count": null,
   "id": "d16f6a58",
   "metadata": {},
   "outputs": [],
   "source": [
    "# Summary Table\n",
    "# Parameter\tDescription\n",
    "# axis=0\tSum across depths (shape reduces to (rows, cols)).\n",
    "# axis=1\tSum across rows (shape reduces to (depths, cols)).\n",
    "# axis=2\tSum across columns (shape reduces to (depths, rows)).\n",
    "# dtype\tEnsures a specific data type for the result.\n",
    "# out\tStores result in an existing array.\n",
    "# keepdims=True\tKeeps the reduced dimension as 1.\n",
    "# initial\tAdds a starting value to the sum.\n",
    "# where\tApplies a condition (Boolean mask)."
   ]
  },
  {
   "cell_type": "code",
   "execution_count": 27,
   "id": "1476c79e",
   "metadata": {},
   "outputs": [
    {
     "name": "stdout",
     "output_type": "stream",
     "text": [
      "[[[ 1  2  3]\n",
      "  [ 4  5  6]]\n",
      "\n",
      " [[ 7  8  9]\n",
      "  [10 11 12]]]\n"
     ]
    }
   ],
   "source": [
    "arr = np.array([\n",
    "    [[1,2,3],[4,5,6]],\n",
    "    [[7,8,9],[10,11,12]]\n",
    "])\n",
    "print(arr)"
   ]
  },
  {
   "cell_type": "code",
   "execution_count": 28,
   "id": "1ee8534c",
   "metadata": {},
   "outputs": [
    {
     "name": "stdout",
     "output_type": "stream",
     "text": [
      "78\n"
     ]
    }
   ],
   "source": [
    "#  1: Sum All Elements in a 3D Array\n",
    "print(arr.sum())\n",
    "#  Adds all numbers in the 3D array."
   ]
  },
  {
   "cell_type": "code",
   "execution_count": 29,
   "id": "74f997b2",
   "metadata": {},
   "outputs": [
    {
     "name": "stdout",
     "output_type": "stream",
     "text": [
      "[[ 8 10 12]\n",
      " [14 16 18]]\n"
     ]
    }
   ],
   "source": [
    "#  2: Sum Along an Axis\n",
    "# Sum Along axis=0 (Depth-Wise)\n",
    "print(arr.sum(axis=0))\n",
    "\n",
    "# Adds elements across different depths (0th axis).\n",
    "# arr3d.shape = (3, 2, 3) → result.shape = (2, 3)"
   ]
  },
  {
   "cell_type": "code",
   "execution_count": 30,
   "id": "01458b91",
   "metadata": {},
   "outputs": [
    {
     "name": "stdout",
     "output_type": "stream",
     "text": [
      "[[ 5  7  9]\n",
      " [17 19 21]]\n"
     ]
    }
   ],
   "source": [
    "# Sum Along axis=1 (Row-Wise)\n",
    "print(arr.sum(axis=1))\n",
    "# Adds elements across rows within each depth."
   ]
  },
  {
   "cell_type": "code",
   "execution_count": 31,
   "id": "bd303713",
   "metadata": {},
   "outputs": [
    {
     "name": "stdout",
     "output_type": "stream",
     "text": [
      "[[ 6 15]\n",
      " [24 33]]\n"
     ]
    }
   ],
   "source": [
    "# Sum Along axis=2 (Column-Wise)\n",
    "print(arr.sum(axis=2))\n",
    "# Adds elements across columns within each row and depth."
   ]
  },
  {
   "cell_type": "code",
   "execution_count": 32,
   "id": "eadbc6ae",
   "metadata": {},
   "outputs": [
    {
     "name": "stdout",
     "output_type": "stream",
     "text": [
      "78.0\n"
     ]
    }
   ],
   "source": [
    "# 3: Using dtype to Control Precision\n",
    "print(arr.sum(dtype=np.float64))"
   ]
  },
  {
   "cell_type": "code",
   "execution_count": 33,
   "id": "3b85dc7c",
   "metadata": {},
   "outputs": [
    {
     "name": "stdout",
     "output_type": "stream",
     "text": [
      "[[[78]]]\n"
     ]
    }
   ],
   "source": [
    "# 4: Using keepdims=True\n",
    "print(arr.sum(keepdims=True))"
   ]
  },
  {
   "cell_type": "code",
   "execution_count": 34,
   "id": "cabeef50",
   "metadata": {},
   "outputs": [
    {
     "name": "stdout",
     "output_type": "stream",
     "text": [
      "178\n"
     ]
    }
   ],
   "source": [
    "# 5: Using initial Parameter\n",
    "print(arr.sum(initial=100))\n",
    "# Starts summation with 100, so 78 + 100 = 178"
   ]
  },
  {
   "cell_type": "code",
   "execution_count": 35,
   "id": "1126289e",
   "metadata": {},
   "outputs": [
    {
     "name": "stdout",
     "output_type": "stream",
     "text": [
      "10\n"
     ]
    }
   ],
   "source": [
    "# 6: Using where Parameter\n",
    "mask = arr<5\n",
    "print(arr.sum(where=mask))"
   ]
  },
  {
   "cell_type": "markdown",
   "id": "bc3006ae",
   "metadata": {},
   "source": [
    "# 9.max() Method "
   ]
  },
  {
   "cell_type": "code",
   "execution_count": 36,
   "id": "cf433e88",
   "metadata": {},
   "outputs": [],
   "source": [
    "# The max() method in NumPy returns the maximum value along a specified axis in a 3D array.\n",
    "\n",
    "# 🔹 Syntax:\n",
    "# numpy.max(arr, axis=None, out=None, keepdims=False, initial=None, where=True)\n",
    "\n",
    "# 🔹 Parameters:\n",
    "# Parameter\tDescription\n",
    "# axis\tSpecifies the axis along which to find the maximum. Default is None (finds max of all elements).\n",
    "# out\tAn optional output array to store the result. Must have the same shape as expected output.\n",
    "# keepdims\tIf True, retains reduced dimensions with size 1 instead of collapsing them.\n",
    "# initial\tThe starting value for comparison. If specified, max will compare against this value.\n",
    "# where\tA boolean mask specifying which elements to consider in the maximum calculation."
   ]
  },
  {
   "cell_type": "code",
   "execution_count": 37,
   "id": "014ef9c4",
   "metadata": {},
   "outputs": [
    {
     "name": "stdout",
     "output_type": "stream",
     "text": [
      "[[[ 1  2  3]\n",
      "  [ 4  5  6]]\n",
      "\n",
      " [[ 7  8  9]\n",
      "  [10 11 12]]]\n"
     ]
    }
   ],
   "source": [
    "arr = np.array([\n",
    "    [[1,2,3],[4,5,6]],\n",
    "    [[7,8,9],[10,11,12]]\n",
    "])\n",
    "print(arr)"
   ]
  },
  {
   "cell_type": "code",
   "execution_count": 38,
   "id": "347a7505",
   "metadata": {},
   "outputs": [
    {
     "name": "stdout",
     "output_type": "stream",
     "text": [
      "12\n"
     ]
    }
   ],
   "source": [
    "# 1: Find the Maximum in a 3D Array\n",
    "print(arr.max())"
   ]
  },
  {
   "cell_type": "code",
   "execution_count": 39,
   "id": "a1075c18",
   "metadata": {},
   "outputs": [
    {
     "name": "stdout",
     "output_type": "stream",
     "text": [
      "[[ 7  8  9]\n",
      " [10 11 12]]\n"
     ]
    }
   ],
   "source": [
    "# 2: Find Maximum Along Different Axes\n",
    "\n",
    "# 1️⃣ Find Maximum Along axis=0 (Depth-Wise)\n",
    "print(arr.max(axis=0))"
   ]
  },
  {
   "cell_type": "code",
   "execution_count": 40,
   "id": "28a033de",
   "metadata": {},
   "outputs": [],
   "source": [
    "# Finds max values across different depths.\n",
    "# [[ max(1,7)   max(2,8)   max(3,9) ]  \n",
    "#  [ max(4,10)  max(5,11)  max(6,12)]]"
   ]
  },
  {
   "cell_type": "code",
   "execution_count": 41,
   "id": "ecb0bb2e",
   "metadata": {},
   "outputs": [
    {
     "name": "stdout",
     "output_type": "stream",
     "text": [
      "[[ 4  5  6]\n",
      " [10 11 12]]\n"
     ]
    }
   ],
   "source": [
    "# 2️⃣ Find Maximum Along axis=1 (Row-Wise)\n",
    "print(arr.max(axis=1))\n",
    "# Finds max values across rows within each depth."
   ]
  },
  {
   "cell_type": "code",
   "execution_count": 43,
   "id": "bf533e20",
   "metadata": {},
   "outputs": [
    {
     "name": "stdout",
     "output_type": "stream",
     "text": [
      "[[ 3  6]\n",
      " [ 9 12]]\n"
     ]
    }
   ],
   "source": [
    "# 3️⃣ Find Maximum Along axis=2 (Column-Wise)\n",
    "print(arr.max(axis=2))\n",
    "# Finds max values across columns within each row and depth."
   ]
  },
  {
   "cell_type": "code",
   "execution_count": 44,
   "id": "f06aa93d",
   "metadata": {},
   "outputs": [
    {
     "name": "stdout",
     "output_type": "stream",
     "text": [
      "[[[12]]]\n"
     ]
    }
   ],
   "source": [
    "# 3.Using keepdims=True\n",
    "print(arr.max(keepdims=True))"
   ]
  },
  {
   "cell_type": "code",
   "execution_count": 47,
   "id": "c294f873",
   "metadata": {},
   "outputs": [
    {
     "name": "stdout",
     "output_type": "stream",
     "text": [
      "12\n"
     ]
    }
   ],
   "source": [
    "# 4: Using initial Parameter\n",
    "print(arr.max(initial=11))\n",
    "# Since 12 is the largest value in the array, and initial=11, it returns 12."
   ]
  },
  {
   "cell_type": "code",
   "execution_count": 53,
   "id": "66e47b6e",
   "metadata": {},
   "outputs": [
    {
     "name": "stdout",
     "output_type": "stream",
     "text": [
      "12\n"
     ]
    }
   ],
   "source": [
    "#  5: Using where Parameter\n",
    "mask = arr%2==0\n",
    "print(arr.max(where=mask,initial=0))\n",
    "# finds the max among even numbers (2, 4, 6, ..., 12)."
   ]
  },
  {
   "cell_type": "markdown",
   "id": "da9077f1",
   "metadata": {},
   "source": [
    "# 10.min() Method"
   ]
  },
  {
   "cell_type": "code",
   "execution_count": 54,
   "id": "76c3d5c0",
   "metadata": {},
   "outputs": [],
   "source": [
    "# The min() method in NumPy finds the minimum value along a specified axis in a 3D array.\n",
    "\n",
    "# 🔹 Syntax:\n",
    "# numpy.min(arr, axis=None, out=None, keepdims=False, initial=None, where=True)\n",
    "\n",
    "# 🔹 Parameters:\n",
    "# axis\tSpecifies the axis along which to find the minimum. Default is None (finds min of all elements).\n",
    "# out\tAn optional output array to store the result. Must have the same shape as expected output.\n",
    "# keepdims\tIf True, retains reduced dimensions with size 1 instead of collapsing them.\n",
    "# initial\tThe starting value for comparison. If specified, min will compare against this value.\n",
    "# where\tA boolean mask specifying which elements to consider in the minimum calculation"
   ]
  },
  {
   "cell_type": "code",
   "execution_count": 55,
   "id": "0fbb2209",
   "metadata": {},
   "outputs": [
    {
     "name": "stdout",
     "output_type": "stream",
     "text": [
      "[[[ 1  2  3]\n",
      "  [ 4  5  6]]\n",
      "\n",
      " [[ 7  8  9]\n",
      "  [10 11 12]]]\n"
     ]
    }
   ],
   "source": [
    "arr = np.array([\n",
    "    [[1,2,3],[4,5,6]],\n",
    "    [[7,8,9],[10,11,12]]\n",
    "])\n",
    "print(arr)"
   ]
  },
  {
   "cell_type": "code",
   "execution_count": 56,
   "id": "c7bd4f58",
   "metadata": {},
   "outputs": [
    {
     "name": "stdout",
     "output_type": "stream",
     "text": [
      "1\n"
     ]
    }
   ],
   "source": [
    "# 1: Find the Minimum in a 3D Array\n",
    "print(arr.min())\n",
    "# Finds the lowest value across the entire array (1)."
   ]
  },
  {
   "cell_type": "code",
   "execution_count": 57,
   "id": "a310a8cb",
   "metadata": {},
   "outputs": [
    {
     "name": "stdout",
     "output_type": "stream",
     "text": [
      "[[1 2 3]\n",
      " [4 5 6]]\n"
     ]
    }
   ],
   "source": [
    "#  2: Find Minimum Along Different Axes\n",
    "# 1️⃣ Find Minimum Along axis=0 (Depth-Wise)\n",
    "\n",
    "print(arr.min(axis=0))\n",
    "# Finds min values across different depths."
   ]
  },
  {
   "cell_type": "code",
   "execution_count": 58,
   "id": "5f363e77",
   "metadata": {},
   "outputs": [
    {
     "name": "stdout",
     "output_type": "stream",
     "text": [
      "[[1 2 3]\n",
      " [7 8 9]]\n"
     ]
    }
   ],
   "source": [
    "# 2️⃣ Find Minimum Along axis=1 (Row-Wise)\n",
    "print(arr.min(axis=1))\n",
    "# Finds min values across rows within each depth."
   ]
  },
  {
   "cell_type": "code",
   "execution_count": 59,
   "id": "e5555527",
   "metadata": {},
   "outputs": [
    {
     "name": "stdout",
     "output_type": "stream",
     "text": [
      "[[ 1  4]\n",
      " [ 7 10]]\n"
     ]
    }
   ],
   "source": [
    "# 3️⃣ Find Minimum Along axis=2 (Column-Wise)\n",
    "print(arr.min(axis=2))"
   ]
  },
  {
   "cell_type": "markdown",
   "id": "4a56abb4",
   "metadata": {},
   "source": [
    "# 11. argmax() Method"
   ]
  },
  {
   "cell_type": "code",
   "execution_count": 60,
   "id": "2a985101",
   "metadata": {},
   "outputs": [],
   "source": [
    "# The argmax() method in NumPy returns the index of the maximum value along a specified axis in a 3D array.\n",
    "\n",
    "# 🔹 Syntax:\n",
    "# numpy.argmax(arr, axis=None, out=None, keepdims=False)\n",
    "\n",
    "# 🔹 Parameters:\n",
    "# Parameter\tDescription\n",
    "# axis\tSpecifies the axis along which to find the index of the maximum value. Default is None (finds index in the flattened array).\n",
    "# out\tAn optional output array to store the result. Must have the same shape as expected output.\n",
    "# keepdims\tIf True, retains reduced dimensions with size 1 instead of collapsing them."
   ]
  },
  {
   "cell_type": "code",
   "execution_count": 62,
   "id": "59943310",
   "metadata": {},
   "outputs": [
    {
     "name": "stdout",
     "output_type": "stream",
     "text": [
      "[[[ 1  2  3]\n",
      "  [ 4  5  6]]\n",
      "\n",
      " [[ 7  8  9]\n",
      "  [10 11 12]]]\n"
     ]
    }
   ],
   "source": [
    "arr = np.array([\n",
    "    [[1,2,3],[4,5,6]],\n",
    "    [[7,8,9],[10,11,12]]\n",
    "])\n",
    "print(arr)"
   ]
  },
  {
   "cell_type": "code",
   "execution_count": 65,
   "id": "3a414e7c",
   "metadata": {},
   "outputs": [
    {
     "name": "stdout",
     "output_type": "stream",
     "text": [
      "11\n"
     ]
    }
   ],
   "source": [
    "# 1: Find the Index of Maximum in a 3D Array\n",
    "print(arr.argmax())\n",
    "# Finds the index of the max value (18) in the flattened array (axis=None)."
   ]
  },
  {
   "cell_type": "code",
   "execution_count": 67,
   "id": "dcd1778b",
   "metadata": {},
   "outputs": [
    {
     "name": "stdout",
     "output_type": "stream",
     "text": [
      "[[1 1 1]\n",
      " [1 1 1]]\n"
     ]
    }
   ],
   "source": [
    "# 2: Find Maximum Indices Along Different Axes\n",
    "# 1️⃣ Find Index of Maximum Along axis=0 (Depth-Wise)\n",
    "print(arr.argmax(axis=0))\n",
    "\n",
    "# Explanation:\n",
    "\n",
    "# Finds the index where the max value occurs across different depths.\n",
    "\n",
    "# [[ index of max(1,7)   index of max(2,8)   index of max(3,9) ]  \n",
    "#  [ index of max(4,10)  index of max(5,11)  index of max(6,12) ]]\n",
    "\n",
    "# Since 7, 8, 9 (in depth index 2) are the largest, the index 1 is returned.\n",
    "# Similarly, for 10, 11, 12, the index 1 is returned."
   ]
  },
  {
   "cell_type": "code",
   "execution_count": 68,
   "id": "5cb2975f",
   "metadata": {},
   "outputs": [
    {
     "name": "stdout",
     "output_type": "stream",
     "text": [
      "[[1 1 1]\n",
      " [1 1 1]]\n"
     ]
    }
   ],
   "source": [
    "# 2️⃣ Find Index of Maximum Along axis=1 (Row-Wise)\n",
    "print(arr.argmax(axis=1))\n",
    "# Finds index where the max value occurs across rows within each depth."
   ]
  },
  {
   "cell_type": "code",
   "execution_count": 70,
   "id": "3c8eb0fc",
   "metadata": {},
   "outputs": [
    {
     "name": "stdout",
     "output_type": "stream",
     "text": [
      "[[2 2]\n",
      " [2 2]]\n"
     ]
    }
   ],
   "source": [
    "# 3️⃣ Find Index of Maximum Along axis=2 (Column-Wise)\n",
    "print(arr.argmax(axis=2))"
   ]
  },
  {
   "cell_type": "markdown",
   "id": "967482b2",
   "metadata": {},
   "source": [
    "# 12.mean() Method"
   ]
  },
  {
   "cell_type": "code",
   "execution_count": 71,
   "id": "125878e9",
   "metadata": {},
   "outputs": [],
   "source": [
    "# The mean() method in NumPy calculates the average (arithmetic mean) of elements in a 3D array, either for the entire array or along a specified axis.\n",
    "\n",
    "# 🔹 Syntax:\n",
    "# numpy.mean(arr, axis=None, dtype=None, out=None, keepdims=False, where=True)\n",
    "\n",
    "# 🔹 Parameters:\n",
    "# axis\tSpecifies the axis along which to compute the mean. Default is None (computes mean of all elements).\n",
    "# dtype\tSpecifies the data type of the result. Default is inferred from the input.\n",
    "# out\tAn optional array to store the result. Must match expected output shape.\n",
    "# keepdims\tIf True, retains reduced dimensions with size 1 instead of collapsing them.\n",
    "# where\tA Boolean mask that specifies which elements to include in the calculation."
   ]
  },
  {
   "cell_type": "code",
   "execution_count": 75,
   "id": "f66aae68",
   "metadata": {},
   "outputs": [
    {
     "name": "stdout",
     "output_type": "stream",
     "text": [
      "[[[ 1  2  3]\n",
      "  [ 4  5  6]]\n",
      "\n",
      " [[ 7  8  9]\n",
      "  [10 11 12]]\n",
      "\n",
      " [[13 14 15]\n",
      "  [16 17 18]]]\n"
     ]
    }
   ],
   "source": [
    "arr = np.array([\n",
    "    [[1,2,3],[4,5,6]],\n",
    "    [[7,8,9],[10,11,12]],\n",
    "    [[13,14,15],[16,17,18]]\n",
    "])\n",
    "print(arr)"
   ]
  },
  {
   "cell_type": "code",
   "execution_count": 76,
   "id": "49831bfb",
   "metadata": {},
   "outputs": [
    {
     "name": "stdout",
     "output_type": "stream",
     "text": [
      "9.5\n"
     ]
    }
   ],
   "source": [
    "# 1: Compute Mean of the Entire 3D Array\n",
    "print(arr.mean())"
   ]
  },
  {
   "cell_type": "code",
   "execution_count": 77,
   "id": "adc5bbef",
   "metadata": {},
   "outputs": [
    {
     "name": "stdout",
     "output_type": "stream",
     "text": [
      "[[ 7.  8.  9.]\n",
      " [10. 11. 12.]]\n"
     ]
    }
   ],
   "source": [
    "# 2: Compute Mean Along Different Axes\n",
    "# 1️⃣ Compute Mean Along axis=0 (Depth-Wise)\n",
    "print(arr.mean(axis=0))\n",
    "\n",
    "# Explanation:\n",
    "# Computes mean across different depths.\n",
    "\n",
    "# Formula for each element:\n",
    "# [[ (1+7+13)/3   (2+8+14)/3   (3+9+15)/3 ]  \n",
    "#  [ (4+10+16)/3  (5+11+17)/3  (6+12+18)/3 ]]\n",
    "# The result is a 2D array of shape (2,3)."
   ]
  },
  {
   "cell_type": "code",
   "execution_count": 79,
   "id": "a1abbe79",
   "metadata": {},
   "outputs": [
    {
     "name": "stdout",
     "output_type": "stream",
     "text": [
      "[[ 2.5  3.5  4.5]\n",
      " [ 8.5  9.5 10.5]\n",
      " [14.5 15.5 16.5]]\n"
     ]
    }
   ],
   "source": [
    "# 2️⃣ Compute Mean Along axis=1 (Row-Wise)\n",
    "print(arr.mean(axis=1))\n",
    "\n",
    "# Explanation:\n",
    "# Computes mean along rows for each depth.\n",
    "\n",
    "# Formula:\n",
    "\n",
    "# [[ (1+4)/2   (2+5)/2   (3+6)/2 ]  \n",
    "#  [ (7+10)/2  (8+11)/2  (9+12)/2 ]  \n",
    "#  [ (13+16)/2 (14+17)/2 (15+18)/2 ]]\n",
    "# The result is a 2D array of shape (3,3)."
   ]
  },
  {
   "cell_type": "code",
   "execution_count": 81,
   "id": "eb57c540",
   "metadata": {},
   "outputs": [
    {
     "name": "stdout",
     "output_type": "stream",
     "text": [
      "[[ 2.  5.]\n",
      " [ 8. 11.]\n",
      " [14. 17.]]\n"
     ]
    }
   ],
   "source": [
    "# 3️⃣ Compute Mean Along axis=2 (Column-Wise)\n",
    "print(arr.mean(axis=2))\n",
    "\n",
    "# Explanation:\n",
    "# Computes mean across columns for each row and depth.\n",
    "\n",
    "# Formula:\n",
    "# [[ (1+2+3)/3   (4+5+6)/3 ]  \n",
    "#  [ (7+8+9)/3   (10+11+12)/3 ]  \n",
    "#  [ (13+14+15)/3 (16+17+18)/3 ]]\n",
    "# The result is a 2D array of shape (3,2)."
   ]
  },
  {
   "cell_type": "markdown",
   "id": "f29058ff",
   "metadata": {},
   "source": [
    "# 13.var() Method"
   ]
  },
  {
   "cell_type": "code",
   "execution_count": 83,
   "id": "283d8c22",
   "metadata": {},
   "outputs": [],
   "source": [
    "# The var() method in NumPy calculates the variance of elements in a 3D array, either for the entire array or along a specified axis.\n",
    "\n",
    "# 🔹 Syntax\n",
    "# numpy.var(arr, axis=None, dtype=None, out=None, ddof=0, keepdims=False, where=True)\n",
    "\n",
    "# 🔹 Parameters\n",
    "# axis\tSpecifies the axis along which to compute variance. Default is None (computes for all elements).\n",
    "# dtype\tSpecifies the data type of the result. Default is inferred from input.\n",
    "# out\tAn optional array to store the result. Must match expected output shape.\n",
    "# keepdims\tIf True, retains reduced dimensions with size 1 instead of collapsing them.\n",
    "# where\tA Boolean mask that specifies which elements to include in the calculation."
   ]
  },
  {
   "cell_type": "code",
   "execution_count": 84,
   "id": "f35a8273",
   "metadata": {},
   "outputs": [
    {
     "name": "stdout",
     "output_type": "stream",
     "text": [
      "[[[ 1  2  3]\n",
      "  [ 4  5  6]]\n",
      "\n",
      " [[ 7  8  9]\n",
      "  [10 11 12]]\n",
      "\n",
      " [[13 14 15]\n",
      "  [16 17 18]]]\n"
     ]
    }
   ],
   "source": [
    "arr = np.array([\n",
    "    [[1,2,3],[4,5,6]],\n",
    "    [[7,8,9],[10,11,12]],\n",
    "    [[13,14,15],[16,17,18]]\n",
    "])\n",
    "print(arr)"
   ]
  },
  {
   "cell_type": "code",
   "execution_count": 85,
   "id": "76d2c3cb",
   "metadata": {},
   "outputs": [
    {
     "name": "stdout",
     "output_type": "stream",
     "text": [
      "26.916666666666668\n"
     ]
    }
   ],
   "source": [
    "# 1: Compute Variance of the Entire 3D Array\n",
    "print(arr.var())"
   ]
  },
  {
   "cell_type": "code",
   "execution_count": 86,
   "id": "cca35c8d",
   "metadata": {},
   "outputs": [
    {
     "name": "stdout",
     "output_type": "stream",
     "text": [
      "[[24. 24. 24.]\n",
      " [24. 24. 24.]]\n"
     ]
    }
   ],
   "source": [
    "# 2.Compute Variance Along Different Axes\n",
    "# 1️⃣ Compute Variance Along axis=0 (Depth-Wise)\n",
    "print(arr.var(axis=0))\n",
    "\n"
   ]
  },
  {
   "cell_type": "code",
   "execution_count": 87,
   "id": "a83c9ab8",
   "metadata": {},
   "outputs": [
    {
     "name": "stdout",
     "output_type": "stream",
     "text": [
      "[[2.25 2.25 2.25]\n",
      " [2.25 2.25 2.25]\n",
      " [2.25 2.25 2.25]]\n"
     ]
    }
   ],
   "source": [
    "# 2️⃣ Compute Variance Along axis=1 (Row-Wise)\n",
    "print(arr.var(axis=1))"
   ]
  },
  {
   "cell_type": "code",
   "execution_count": 88,
   "id": "765fe240",
   "metadata": {},
   "outputs": [
    {
     "name": "stdout",
     "output_type": "stream",
     "text": [
      "[[0.66666667 0.66666667]\n",
      " [0.66666667 0.66666667]\n",
      " [0.66666667 0.66666667]]\n"
     ]
    }
   ],
   "source": [
    "# 3️⃣ Compute Variance Along axis=2 (Column-Wise)\n",
    "print(arr.var(axis=2))"
   ]
  },
  {
   "cell_type": "markdown",
   "id": "d316a246",
   "metadata": {},
   "source": [
    "# 14.std() Method\n"
   ]
  },
  {
   "cell_type": "code",
   "execution_count": 89,
   "id": "8d957e5b",
   "metadata": {},
   "outputs": [],
   "source": [
    "# The std() method in NumPy calculates the standard deviation of elements in a 3D array.\n",
    "\n",
    "# 🔹 Definition of Standard Deviation\n",
    "# The standard deviation measures the spread of data from the mean. It is the square root of variance:\n",
    "    \n",
    "# 🔹 Syntax\n",
    "# numpy.std(arr, axis=None, dtype=None, out=None, ddof=0, keepdims=False, where=True)\n",
    "\n",
    "# 🔹 Parameters\n",
    "# axis\tSpecifies the axis along which to compute the standard deviation. Default is None (computes for all elements).\n",
    "# dtype\tSpecifies the data type of the result (e.g., np.float32).\n",
    "# out\tAn optional array to store the result. Must match the expected output shape.\n",
    "# ddof\tDelta Degrees of Freedom. Default is 0 (N), but setting ddof=1 computes the sample standard deviation (N-1).\n",
    "# keepdims\tIf True, retains reduced dimensions with size 1 instead of collapsing them.\n",
    "# where\tA Boolean mask that specifies which elements to include in the calculation."
   ]
  },
  {
   "cell_type": "code",
   "execution_count": 90,
   "id": "b7ba6847",
   "metadata": {},
   "outputs": [
    {
     "name": "stdout",
     "output_type": "stream",
     "text": [
      "5.188127472091127\n"
     ]
    }
   ],
   "source": [
    "print(arr.std())"
   ]
  },
  {
   "cell_type": "markdown",
   "id": "78dd8965",
   "metadata": {},
   "source": [
    "# 15.sort() Method"
   ]
  },
  {
   "cell_type": "code",
   "execution_count": 1,
   "id": "7dc82352",
   "metadata": {},
   "outputs": [],
   "source": [
    "# The numpy.sort() function is used to sort elements along a specified axis of a 3D array.\n",
    "\n",
    "# 🔹 Syntax\n",
    "# numpy.sort(a, axis=-1, kind=None, order=None)\n",
    "\n",
    "# 🔹 Parameters\n",
    "# a\tThe input 3D NumPy array to be sorted.\n",
    "# axis\tAxis along which to sort elements. Default is -1 (last axis).\n",
    "# kind\tSorting algorithm to use. Options: ‘quicksort’, ‘mergesort’, ‘heapsort’, ‘stable’. Default: ‘quicksort’.\n",
    "# order\tUsed when sorting structured arrays. (Not relevant for 3D arrays).\n",
    "\n",
    "# 🔹 Return Type\n",
    "# Returns a new NumPy array with elements sorted along the specified axis."
   ]
  },
  {
   "cell_type": "code",
   "execution_count": 4,
   "id": "d687e994",
   "metadata": {},
   "outputs": [
    {
     "name": "stdout",
     "output_type": "stream",
     "text": [
      "[[[9 2 7]\n",
      "  [3 8 5]]\n",
      "\n",
      " [[1 6 4]\n",
      "  [7 2 0]]]\n"
     ]
    }
   ],
   "source": [
    "arr = np.array([\n",
    "    [[9, 2, 7], [3, 8, 5]],\n",
    "    [[1, 6, 4], [7, 2, 0]]\n",
    "])\n",
    "print(arr)"
   ]
  },
  {
   "cell_type": "code",
   "execution_count": 9,
   "id": "c8e603c4",
   "metadata": {},
   "outputs": [
    {
     "name": "stdout",
     "output_type": "stream",
     "text": [
      "Original Array\n",
      "[[[9 2 7]\n",
      "  [3 8 5]]\n",
      "\n",
      " [[1 6 4]\n",
      "  [7 2 0]]]\n",
      "\n",
      "Sorted Array\n",
      "[[[2 7 9]\n",
      "  [3 5 8]]\n",
      "\n",
      " [[1 4 6]\n",
      "  [0 2 7]]]\n"
     ]
    }
   ],
   "source": [
    "print(\"Original Array\")\n",
    "print(arr)\n",
    "print()\n",
    "sort_arr = np.sort(arr)\n",
    "print(\"Sorted Array\")\n",
    "print(sort_arr)\n",
    "\n",
    "# Sorts each row within depth layers along the last axis (axis=-1)."
   ]
  },
  {
   "cell_type": "code",
   "execution_count": 14,
   "id": "de272fcb",
   "metadata": {},
   "outputs": [
    {
     "name": "stdout",
     "output_type": "stream",
     "text": [
      "Original Array\n",
      "[[[9 2 7]\n",
      "  [3 8 5]]\n",
      "\n",
      " [[1 6 4]\n",
      "  [7 2 0]]]\n",
      "\n",
      "[[[1 2 4]\n",
      "  [3 2 0]]\n",
      "\n",
      " [[9 6 7]\n",
      "  [7 8 5]]]\n"
     ]
    }
   ],
   "source": [
    "# 2️⃣ Sorting Along axis=0 (Depth Axis)\n",
    "print(\"Original Array\")\n",
    "print(arr)\n",
    "print()\n",
    "print(\"Sorted Array\")\n",
    "sort_arr = np.sort(arr,axis=0)\n",
    "print(sort_arr)\n",
    "# Sorts elements across different depth layers for each row-column index."
   ]
  },
  {
   "cell_type": "code",
   "execution_count": 15,
   "id": "15342e9e",
   "metadata": {},
   "outputs": [
    {
     "name": "stdout",
     "output_type": "stream",
     "text": [
      "Original Array\n",
      "[[[9 2 7]\n",
      "  [3 8 5]]\n",
      "\n",
      " [[1 6 4]\n",
      "  [7 2 0]]]\n",
      "\n",
      "Sorted Array\n",
      "[[[3 2 5]\n",
      "  [9 8 7]]\n",
      "\n",
      " [[1 2 0]\n",
      "  [7 6 4]]]\n"
     ]
    }
   ],
   "source": [
    "# 3️⃣ Sorting Along axis=1 (Row Axis)\n",
    "print(\"Original Array\")\n",
    "print(arr)\n",
    "print()\n",
    "print(\"Sorted Array\")\n",
    "sort_arr = np.sort(arr,axis=1)\n",
    "print(sort_arr)\n",
    "# Sorts each row within the depth layers."
   ]
  },
  {
   "cell_type": "code",
   "execution_count": 17,
   "id": "54ab77d1",
   "metadata": {},
   "outputs": [
    {
     "name": "stdout",
     "output_type": "stream",
     "text": [
      "Original Array\n",
      "[[[9 2 7]\n",
      "  [3 8 5]]\n",
      "\n",
      " [[1 6 4]\n",
      "  [7 2 0]]]\n",
      "\n",
      "Sorted Array\n",
      "[[[2 7 9]\n",
      "  [3 5 8]]\n",
      "\n",
      " [[1 4 6]\n",
      "  [0 2 7]]]\n"
     ]
    }
   ],
   "source": [
    "print(\"Original Array\")\n",
    "print(arr)\n",
    "print()\n",
    "print(\"Sorted Array\")\n",
    "sort_arr = np.sort(arr,axis=2)\n",
    "print(sort_arr)\n",
    "# sorting across columns-rows within each depth."
   ]
  },
  {
   "cell_type": "markdown",
   "id": "0585ee89",
   "metadata": {},
   "source": [
    "# 16.concatenate() Method"
   ]
  },
  {
   "cell_type": "code",
   "execution_count": 18,
   "id": "7b8df6c4",
   "metadata": {},
   "outputs": [],
   "source": [
    "# The numpy.concatenate() function joins multiple NumPy arrays along a specified axis.\n",
    "\n",
    "# 🔹 Syntax\n",
    "# numpy.concatenate((arr1, arr2, ...), axis=0, out=None, dtype=None, casting=\"same_kind\")\n",
    "\n",
    "# 🔹 Parameters\n",
    "# (arr1, arr2, ...)\tA tuple or list of NumPy arrays to be concatenated. Arrays must have the same shape except for the specified axis.\n",
    "# axis\tAxis along which to concatenate. Default is 0.\n",
    "# out\tOptional output array to store the result. Must have the correct shape.\n",
    "# dtype\tSpecifies the data type of the resulting array (optional).\n",
    "# casting\tDefines how data type conversion should happen. Default is \"same_kind\".\n",
    "\n",
    "# 🔹 Return Type\n",
    "# Returns a new NumPy array formed by concatenating the input arrays."
   ]
  },
  {
   "cell_type": "code",
   "execution_count": 19,
   "id": "06fcee87",
   "metadata": {},
   "outputs": [
    {
     "name": "stdout",
     "output_type": "stream",
     "text": [
      "[[[1 2]\n",
      "  [3 4]]\n",
      "\n",
      " [[5 6]\n",
      "  [7 8]]]\n",
      "\n",
      "[[[ 9 10]\n",
      "  [11 12]]\n",
      "\n",
      " [[13 14]\n",
      "  [15 16]]]\n"
     ]
    }
   ],
   "source": [
    "arr1 = np.array([\n",
    "    [[1,2],[3,4]],\n",
    "    [[5,6],[7,8]]\n",
    "])\n",
    "\n",
    "arr2 = np.array([\n",
    "    [[9,10],[11,12]],\n",
    "    [[13,14],[15,16]]\n",
    "])\n",
    "print(arr1)\n",
    "print()\n",
    "print(arr2)"
   ]
  },
  {
   "cell_type": "code",
   "execution_count": 22,
   "id": "065caa5c",
   "metadata": {},
   "outputs": [
    {
     "name": "stdout",
     "output_type": "stream",
     "text": [
      "[[[ 1  2]\n",
      "  [ 3  4]]\n",
      "\n",
      " [[ 5  6]\n",
      "  [ 7  8]]\n",
      "\n",
      " [[ 9 10]\n",
      "  [11 12]]\n",
      "\n",
      " [[13 14]\n",
      "  [15 16]]]\n"
     ]
    }
   ],
   "source": [
    "# 1️⃣ Concatenating Along axis=0 (Depth Axis)\n",
    "concatenated_arr = np.concatenate((arr1, arr2), axis=0)\n",
    "print(concatenated_arr)\n",
    "# The arrays are stacked depth-wise (axis=0), increasing the number of layers."
   ]
  },
  {
   "cell_type": "code",
   "execution_count": 23,
   "id": "1b525038",
   "metadata": {},
   "outputs": [
    {
     "name": "stdout",
     "output_type": "stream",
     "text": [
      "[[[ 1  2]\n",
      "  [ 3  4]\n",
      "  [ 9 10]\n",
      "  [11 12]]\n",
      "\n",
      " [[ 5  6]\n",
      "  [ 7  8]\n",
      "  [13 14]\n",
      "  [15 16]]]\n"
     ]
    }
   ],
   "source": [
    "# 2️⃣ Concatenating Along axis=1 (Row Axis)\n",
    "concatenated_arr = np.concatenate((arr1, arr2), axis=1)\n",
    "print(concatenated_arr)\n",
    "# The number of rows increases, but depth remains the same."
   ]
  },
  {
   "cell_type": "code",
   "execution_count": 25,
   "id": "41dd0059",
   "metadata": {},
   "outputs": [
    {
     "name": "stdout",
     "output_type": "stream",
     "text": [
      "[[[ 1  2  9 10]\n",
      "  [ 3  4 11 12]]\n",
      "\n",
      " [[ 5  6 13 14]\n",
      "  [ 7  8 15 16]]]\n"
     ]
    }
   ],
   "source": [
    "# 3️⃣ Concatenating Along axis=2 (Column Axis)\n",
    "concatenated_arr = np.concatenate((arr1, arr2), axis=2)\n",
    "print(concatenated_arr)\n",
    "# concatencation cross column-row within different depth."
   ]
  },
  {
   "cell_type": "markdown",
   "id": "0443b5cd",
   "metadata": {},
   "source": [
    "# 17.unique() Method "
   ]
  },
  {
   "cell_type": "code",
   "execution_count": 26,
   "id": "1c70eac0",
   "metadata": {},
   "outputs": [],
   "source": [
    "# The numpy.unique() function finds the unique elements of an array and provides additional options for counting, sorting, and returning indices.\n",
    "\n",
    "# 🔹 Syntax\n",
    "# numpy.unique(arr, return_index=False, return_inverse=False, return_counts=False, axis=None)\n",
    "\n",
    "# 🔹 Parameters\n",
    "# arr\tThe input array (3D array in this case).\n",
    "# return_index\tIf True, returns the indices of the first occurrences of the unique values.\n",
    "# return_inverse\tIf True, returns indices to reconstruct the input array from unique values.\n",
    "# return_counts\tIf True, returns the count of each unique element.\n",
    "# axis\tSpecifies the axis along which to find unique elements. If None (default), it flattens the array first.\n",
    "\n",
    "# 🔹 Return Type\n",
    "# Returns an array of unique elements.\n",
    "# Optionally returns:\n",
    "# Indices of first occurrences\n",
    "# Indices for reconstructing the input\n",
    "# Counts of occurrences"
   ]
  },
  {
   "cell_type": "code",
   "execution_count": 27,
   "id": "796cb0a6",
   "metadata": {},
   "outputs": [
    {
     "name": "stdout",
     "output_type": "stream",
     "text": [
      "[[[ 1  2]\n",
      "  [ 1  2]]\n",
      "\n",
      " [[ 3  4]\n",
      "  [ 5  6]]\n",
      "\n",
      " [[10 11]\n",
      "  [12 13]]]\n"
     ]
    }
   ],
   "source": [
    "arr = np.array([\n",
    "    [[1,2],[1,2]],\n",
    "    [[3,4],[5,6]],\n",
    "    [[10,11],[12,13]]\n",
    "])\n",
    "print(arr)"
   ]
  },
  {
   "cell_type": "code",
   "execution_count": 29,
   "id": "8bfd2d14",
   "metadata": {},
   "outputs": [
    {
     "name": "stdout",
     "output_type": "stream",
     "text": [
      "[ 1  2  3  4  5  6 10 11 12 13]\n"
     ]
    }
   ],
   "source": [
    "# 1️⃣Finding Unique Elements in a 3D Array\n",
    "unique_arr = np.unique(arr)\n",
    "print(unique_arr)"
   ]
  },
  {
   "cell_type": "code",
   "execution_count": 31,
   "id": "d3c85a41",
   "metadata": {},
   "outputs": [
    {
     "name": "stdout",
     "output_type": "stream",
     "text": [
      "(array([ 1,  2,  3,  4,  5,  6, 10, 11, 12, 13]), array([ 0,  1,  4,  5,  6,  7,  8,  9, 10, 11], dtype=int64))\n"
     ]
    }
   ],
   "source": [
    "# 2️⃣ Returning Unique Elements with Index Positions\n",
    "unique_arr = np.unique(arr,return_index=True)\n",
    "print(unique_arr)"
   ]
  },
  {
   "cell_type": "code",
   "execution_count": 33,
   "id": "a9f68632",
   "metadata": {},
   "outputs": [
    {
     "name": "stdout",
     "output_type": "stream",
     "text": [
      "(array([ 1,  2,  3,  4,  5,  6, 10, 11, 12, 13]), array([2, 2, 1, 1, 1, 1, 1, 1, 1, 1], dtype=int64))\n"
     ]
    }
   ],
   "source": [
    "# 3️⃣ Counting Occurrences of Each Unique Value\n",
    "unique_arr = np.unique(arr,return_counts=True)\n",
    "print(unique_arr)"
   ]
  },
  {
   "cell_type": "markdown",
   "id": "37f1551c",
   "metadata": {},
   "source": [
    "# 18.clip() Method "
   ]
  },
  {
   "cell_type": "code",
   "execution_count": 34,
   "id": "73634417",
   "metadata": {},
   "outputs": [],
   "source": [
    "# The numpy.clip() method is used to limit the values in an array to a specified range. Any values lower than the minimum are set to the minimum, and any values higher than the maximum are set to the maximum.\n",
    "\n",
    "# 🔹 Syntax\n",
    "# numpy.clip(arr, a_min, a_max, out=None)\n",
    "\n",
    "# 🔹 Parameters\n",
    "# arr\tThe input 3D array whose values will be clipped.\n",
    "# a_min\tThe lower bound. Values below this are set to a_min. If None, no lower limit.\n",
    "# a_max\tThe upper bound. Values above this are set to a_max. If None, no upper limit.\n",
    "# out\tOptional output array of the same shape as arr. Stores the result instead of creating a new array.\n",
    "\n",
    "# 🔹 Return Type\n",
    "# A new array with values clipped between a_min and a_max, unless out is specified, in which case the modification happens in-place."
   ]
  },
  {
   "cell_type": "code",
   "execution_count": 35,
   "id": "1e74d906",
   "metadata": {},
   "outputs": [
    {
     "name": "stdout",
     "output_type": "stream",
     "text": [
      "[[[ 1  2  3]\n",
      "  [ 4  5  6]]\n",
      "\n",
      " [[ 7  8  9]\n",
      "  [10 11 12]]\n",
      "\n",
      " [[13 14 15]\n",
      "  [16 17 18]]]\n"
     ]
    }
   ],
   "source": [
    "arr = np.array([\n",
    "    [[1,2,3],[4,5,6]],\n",
    "    [[7,8,9],[10,11,12]],\n",
    "    [[13,14,15],[16,17,18]]\n",
    "])\n",
    "print(arr)"
   ]
  },
  {
   "cell_type": "code",
   "execution_count": 38,
   "id": "3262435d",
   "metadata": {},
   "outputs": [
    {
     "name": "stdout",
     "output_type": "stream",
     "text": [
      "[[[5 5 5]\n",
      "  [5 5 6]]\n",
      "\n",
      " [[7 8 9]\n",
      "  [9 9 9]]\n",
      "\n",
      " [[9 9 9]\n",
      "  [9 9 9]]]\n"
     ]
    }
   ],
   "source": [
    "new_arr = np.clip(arr,a_min=5,a_max=9)\n",
    "print(new_arr)"
   ]
  },
  {
   "cell_type": "markdown",
   "id": "8cdff2e8",
   "metadata": {},
   "source": [
    "# 19.where() Method"
   ]
  },
  {
   "cell_type": "code",
   "execution_count": 39,
   "id": "c839c471",
   "metadata": {},
   "outputs": [],
   "source": [
    "# The numpy.where() function is used for conditional selection and modification of array elements. \n",
    "# It returns indices or replaces elements based on conditions.\n",
    "\n",
    "# 🔹 Syntax\n",
    "# numpy.where(condition, [x, y])\n",
    "\n",
    "# 🔹 Parameters\n",
    "# condition\tA boolean condition applied to the array.\n",
    "# x\tOptional. Values to use where condition is True.\n",
    "# y\tOptional. Values to use where condition is False.\n",
    "\n",
    "# 🔹 Return Type\n",
    "# If only condition is given, it returns indices of True values.\n",
    "# If x and y are given, it returns an array with values replaced based on the condition"
   ]
  },
  {
   "cell_type": "code",
   "execution_count": 40,
   "id": "92de6444",
   "metadata": {},
   "outputs": [
    {
     "name": "stdout",
     "output_type": "stream",
     "text": [
      "[[[ 1  2  3]\n",
      "  [ 4  5  6]]\n",
      "\n",
      " [[ 7  8  9]\n",
      "  [10 11 12]]\n",
      "\n",
      " [[13 14 15]\n",
      "  [16 17 18]]]\n"
     ]
    }
   ],
   "source": [
    "arr = np.array([\n",
    "    [[1,2,3],[4,5,6]],\n",
    "    [[7,8,9],[10,11,12]],\n",
    "    [[13,14,15],[16,17,18]]\n",
    "])\n",
    "print(arr)"
   ]
  },
  {
   "cell_type": "code",
   "execution_count": 43,
   "id": "9dae314c",
   "metadata": {},
   "outputs": [
    {
     "name": "stdout",
     "output_type": "stream",
     "text": [
      "(array([1, 1, 2, 2, 2, 2, 2, 2], dtype=int64), array([1, 1, 0, 0, 0, 1, 1, 1], dtype=int64), array([1, 2, 0, 1, 2, 0, 1, 2], dtype=int64))\n"
     ]
    }
   ],
   "source": [
    "# 1️⃣ Finding Indices Where Condition is True\n",
    "\n",
    "new_arr = np.where(arr>10)\n",
    "print(new_arr)\n",
    "\n",
    "# Returns the indices (depth, row, column) where arr > 10."
   ]
  },
  {
   "cell_type": "code",
   "execution_count": 45,
   "id": "9098046c",
   "metadata": {},
   "outputs": [
    {
     "name": "stdout",
     "output_type": "stream",
     "text": [
      "[[[1 1 1]\n",
      "  [1 1 1]]\n",
      "\n",
      " [[1 1 1]\n",
      "  [1 0 0]]\n",
      "\n",
      " [[0 0 0]\n",
      "  [0 0 0]]]\n"
     ]
    }
   ],
   "source": [
    "# 2️⃣ Replacing Values Based on Condition\n",
    "new_arr = np.where(arr>10,0,1)\n",
    "print(new_arr)"
   ]
  },
  {
   "cell_type": "markdown",
   "id": "55f94f95",
   "metadata": {},
   "source": [
    "# 20.any() Method"
   ]
  },
  {
   "cell_type": "code",
   "execution_count": 46,
   "id": "df3be34c",
   "metadata": {},
   "outputs": [],
   "source": [
    "# The numpy.any() function checks if at least one element in a 3D array is True (or nonzero) along a specified axis.\n",
    "\n",
    "# 🔹 Syntax\n",
    "# numpy.any(arr, axis=None, out=None, keepdims=False, where=True)\n",
    "\n",
    "# 🔹 Parameters\n",
    "# arr\tInput 3D array (can be boolean or numeric).\n",
    "# axis\tAxis along which to check for True values. Default is None (checks all elements).\n",
    "# out\tOptional output array to store the result.\n",
    "# keepdims\tIf True, retains the reduced dimension with size 1.\n",
    "# where\tBoolean mask to specify elements to consider."
   ]
  },
  {
   "cell_type": "code",
   "execution_count": 56,
   "id": "2b801df1",
   "metadata": {},
   "outputs": [
    {
     "name": "stdout",
     "output_type": "stream",
     "text": [
      "[[[1 0 1]\n",
      "  [0 0 1]]\n",
      "\n",
      " [[1 1 1]\n",
      "  [1 0 0]]]\n"
     ]
    }
   ],
   "source": [
    "arr = np.array([\n",
    "    [[1,0,1],[0,0,1]],\n",
    "    [[1,1,1],[1,0,0]],\n",
    "])\n",
    "print(arr)"
   ]
  },
  {
   "cell_type": "code",
   "execution_count": 58,
   "id": "ea3d614b",
   "metadata": {},
   "outputs": [
    {
     "name": "stdout",
     "output_type": "stream",
     "text": [
      "True\n"
     ]
    }
   ],
   "source": [
    "# 1: Check If Any Element is Non-Zero\n",
    "ans = arr.any()\n",
    "print(ans)"
   ]
  },
  {
   "cell_type": "code",
   "execution_count": 57,
   "id": "43cea34d",
   "metadata": {},
   "outputs": [
    {
     "name": "stdout",
     "output_type": "stream",
     "text": [
      "[[ True  True  True]\n",
      " [ True False  True]]\n"
     ]
    }
   ],
   "source": [
    "# 2: Check Along axis=0 (Depth-Wise)\n",
    "ans = arr.any(axis=0)\n",
    "print(ans)\n",
    "\n",
    "# Checks across depths (different layers).\n",
    "# A position gets True if at least one element in that position across all depths is nonzero."
   ]
  },
  {
   "cell_type": "code",
   "execution_count": 60,
   "id": "9e9ff0e4",
   "metadata": {},
   "outputs": [
    {
     "name": "stdout",
     "output_type": "stream",
     "text": [
      "[[ True False  True]\n",
      " [ True  True  True]]\n"
     ]
    }
   ],
   "source": [
    "# 3: Check Along axis=1 (Row-Wise)\n",
    "ans = arr.any(axis=1)\n",
    "print(ans)\n",
    "# Row-column wise within same depth."
   ]
  },
  {
   "cell_type": "code",
   "execution_count": 63,
   "id": "97b1b29a",
   "metadata": {},
   "outputs": [
    {
     "name": "stdout",
     "output_type": "stream",
     "text": [
      "[[ True  True]\n",
      " [ True  True]]\n"
     ]
    }
   ],
   "source": [
    "#  4: Check Along axis=2 (Column-Wise)\n",
    "ans = arr.any(axis=2)\n",
    "print(ans)\n",
    "# Column row wise within same depth."
   ]
  },
  {
   "cell_type": "code",
   "execution_count": null,
   "id": "8ee7ca5d",
   "metadata": {},
   "outputs": [],
   "source": []
  }
 ],
 "metadata": {
  "kernelspec": {
   "display_name": "Python 3 (ipykernel)",
   "language": "python",
   "name": "python3"
  },
  "language_info": {
   "codemirror_mode": {
    "name": "ipython",
    "version": 3
   },
   "file_extension": ".py",
   "mimetype": "text/x-python",
   "name": "python",
   "nbconvert_exporter": "python",
   "pygments_lexer": "ipython3",
   "version": "3.11.5"
  }
 },
 "nbformat": 4,
 "nbformat_minor": 5
}
