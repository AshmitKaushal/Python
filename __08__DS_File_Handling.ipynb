{
 "cells": [
  {
   "cell_type": "markdown",
   "id": "07b6cb49",
   "metadata": {},
   "source": [
    "# File Handling "
   ]
  },
  {
   "cell_type": "code",
   "execution_count": 1,
   "id": "2c2d5572",
   "metadata": {},
   "outputs": [],
   "source": [
    "# The python provides serveral ways for file handling.\n",
    "\n",
    "# Before we perform any operation on a file, we must first open it.\n",
    "\n",
    "# Python provide the open function to open a file. It takes two arguments: the name of the file and the mode in which the file should be opened.\n",
    "\n",
    "# The r is for reading , w is for writing and a is for appending.\n",
    "\n",
    "# bydefault file open function return a file object."
   ]
  },
  {
   "cell_type": "code",
   "execution_count": 2,
   "id": "36c29f8d",
   "metadata": {},
   "outputs": [],
   "source": [
    "import os\n",
    "\n",
    "if not os.path.exists(os.getcwd()+'/file_handling'):\n",
    "    os.mkdir('file_handling')"
   ]
  },
  {
   "cell_type": "code",
   "execution_count": 3,
   "id": "eb4eb30f",
   "metadata": {},
   "outputs": [],
   "source": [
    "os.chdir(os.getcwd()+'/file_handling')"
   ]
  },
  {
   "cell_type": "code",
   "execution_count": 4,
   "id": "90d9d000",
   "metadata": {},
   "outputs": [
    {
     "data": {
      "text/plain": [
       "'C:\\\\Users\\\\Aryan\\\\file_handling'"
      ]
     },
     "execution_count": 4,
     "metadata": {},
     "output_type": "execute_result"
    }
   ],
   "source": [
    "os.getcwd()"
   ]
  },
  {
   "cell_type": "code",
   "execution_count": 5,
   "id": "8574aad5",
   "metadata": {},
   "outputs": [],
   "source": [
    "f = open('myfile.txt','r')"
   ]
  },
  {
   "cell_type": "code",
   "execution_count": 6,
   "id": "37dbdbc9",
   "metadata": {},
   "outputs": [],
   "source": [
    "# If the file does not exist, it will throw an error.\n",
    "\n",
    "# Here we are printing the file object\n",
    "# When you print a file object in Python, it typically prints information about the file object itself,\n",
    "# such as its type and memory address, rather than the contents of the file. \n",
    "# The exact output you see may vary depending on the Python environment you are using."
   ]
  },
  {
   "cell_type": "code",
   "execution_count": 7,
   "id": "be9b6f34",
   "metadata": {},
   "outputs": [
    {
     "name": "stdout",
     "output_type": "stream",
     "text": [
      "<_io.TextIOWrapper name='myfile.txt' mode='r' encoding='cp1252'>\n"
     ]
    }
   ],
   "source": [
    "print(f)\n",
    "f = open(\"myfile.txt\", \"rb\")"
   ]
  },
  {
   "cell_type": "code",
   "execution_count": 8,
   "id": "6d8b6dd4",
   "metadata": {},
   "outputs": [
    {
     "name": "stdout",
     "output_type": "stream",
     "text": [
      "Opening the file in binary mode <class 'bytes'>\n"
     ]
    }
   ],
   "source": [
    "print(\"Opening the file in binary mode\", type(f.read()))"
   ]
  },
  {
   "cell_type": "code",
   "execution_count": 9,
   "id": "b13932d5",
   "metadata": {},
   "outputs": [],
   "source": [
    "# To read the content of a file, we use the read() method of the file object.\n",
    "# We have call the read function with the file object."
   ]
  },
  {
   "cell_type": "code",
   "execution_count": 10,
   "id": "814dc34e",
   "metadata": {},
   "outputs": [
    {
     "name": "stdout",
     "output_type": "stream",
     "text": [
      "--------------Read Mode---------------\n",
      "b''\n",
      "\n"
     ]
    }
   ],
   "source": [
    "print(\"--------------Read Mode---------------\")\n",
    "text = f.read()\n",
    "print(text)\n",
    "print()"
   ]
  },
  {
   "cell_type": "code",
   "execution_count": 11,
   "id": "faaba4d1",
   "metadata": {},
   "outputs": [
    {
     "name": "stdout",
     "output_type": "stream",
     "text": [
      "--------------Write Mode---------------\n"
     ]
    }
   ],
   "source": [
    "print(\"--------------Write Mode---------------\")\n",
    "\n",
    "# To write the content of a file, we use the write() method of the file object.\n",
    "# If the file does not exist, it will create a new file first.\n",
    "# Here the myfile1.txt does not exist so it will create a new file."
   ]
  },
  {
   "cell_type": "code",
   "execution_count": 12,
   "id": "d1adb542",
   "metadata": {},
   "outputs": [],
   "source": [
    "f = open('myfile1.txt','w')"
   ]
  },
  {
   "cell_type": "code",
   "execution_count": 13,
   "id": "f72fe948",
   "metadata": {},
   "outputs": [
    {
     "data": {
      "text/plain": [
       "36"
      ]
     },
     "execution_count": 13,
     "metadata": {},
     "output_type": "execute_result"
    }
   ],
   "source": [
    "# The write function replaces the new content with previous content.\n",
    "# return the number of byptes of data written inside the file.\n",
    "f.write('Writing the content inside the file.')"
   ]
  },
  {
   "cell_type": "code",
   "execution_count": 14,
   "id": "0c99aaa8",
   "metadata": {},
   "outputs": [],
   "source": [
    "f.close()"
   ]
  },
  {
   "cell_type": "code",
   "execution_count": 16,
   "id": "cfa77222",
   "metadata": {},
   "outputs": [
    {
     "name": "stdout",
     "output_type": "stream",
     "text": [
      "Writing the content inside the file.\n"
     ]
    }
   ],
   "source": [
    "# Reading the content of the file which is just created using write function.\n",
    "f = open('myfile1.txt','r')\n",
    "print(f.read())\n",
    "f.close()"
   ]
  },
  {
   "cell_type": "code",
   "execution_count": 17,
   "id": "0a7b1799",
   "metadata": {},
   "outputs": [
    {
     "name": "stdout",
     "output_type": "stream",
     "text": [
      "-------------Text Mode---------------\n",
      "This is the content inside the file.\n",
      "This is the second line.\n",
      "\n",
      "\n"
     ]
    }
   ],
   "source": [
    "print(\"-------------Text Mode---------------\")\n",
    "# The 't' is used to open the file in text mode\n",
    "f1 = open(\"myfile.txt\", \"rt\")\n",
    "print(f1.read())\n",
    "print()\n",
    "print()"
   ]
  },
  {
   "cell_type": "code",
   "execution_count": 18,
   "id": "5239092b",
   "metadata": {},
   "outputs": [
    {
     "name": "stdout",
     "output_type": "stream",
     "text": [
      "-----------BInary Mode------------\n",
      "b'This is the content inside the file.\\nThis is the second line.'\n"
     ]
    }
   ],
   "source": [
    "print(\"-----------Binary Mode------------\")\n",
    "f = open(\"myfile.txt\", \"rb\")\n",
    "print(f.read())\n",
    "# The 'b' is used to open the file in binary mode.\n",
    "# Whenever we have to open the image or pdf we use binary mode 'b'"
   ]
  },
  {
   "cell_type": "code",
   "execution_count": 19,
   "id": "b2714753",
   "metadata": {},
   "outputs": [
    {
     "name": "stdout",
     "output_type": "stream",
     "text": [
      "---------Apppending Mode-----------\n"
     ]
    }
   ],
   "source": [
    "print(\"---------Apppending Mode-----------\")\n",
    "# The 'a' is used to open the file in appending mode.\n",
    "# Appending mode is used to add content to the end of the file.\n",
    "# Does not overwrite the existing content.add the new content every time to the end of the file.\n",
    "f = open(\"myfile1.txt\", 'a')\n",
    "f.write(\"Hello World.\")\n",
    "f.close()"
   ]
  },
  {
   "cell_type": "code",
   "execution_count": 20,
   "id": "084218b5",
   "metadata": {},
   "outputs": [
    {
     "name": "stdout",
     "output_type": "stream",
     "text": [
      "Writing the content inside the file.Hello World.\n"
     ]
    }
   ],
   "source": [
    "# Reading the content that it is just appended.\n",
    "f = open('myfile1.txt','r')\n",
    "print(f.read())\n",
    "f.close()"
   ]
  },
  {
   "cell_type": "code",
   "execution_count": 22,
   "id": "7e4867b7",
   "metadata": {},
   "outputs": [],
   "source": [
    "#  close() is the function that is used to close the file.\n",
    "# It is important to close the file after you are done with it."
   ]
  },
  {
   "cell_type": "code",
   "execution_count": 23,
   "id": "ff83435e",
   "metadata": {},
   "outputs": [],
   "source": [
    "# When you print a file object in Python using the print() function, it prints a representation of the file object, which includes information about the file such as its name, mode, and whether it's closed or not. The printed output may vary depending on the specific implementation of the __str__() or __repr__() methods for file objects in Python.\n",
    "\n",
    "# The __str__() method is used to return a string representation of the file object. It is called when you print the file object using the print() function.\n",
    "\n",
    "# read(size=-1): Reads and returns the specified number of bytes (size) from the file. If size is not specified or negative, reads the entire file.\n",
    "\n",
    "# readline(size=-1): Reads and returns the next line from the file. If size is specified, reads at most size bytes.\n",
    "\n",
    "# readlines(hint=-1): Reads and returns a list of lines from the file. If hint is specified, reads at most hint bytes or lines.\n"
   ]
  },
  {
   "cell_type": "markdown",
   "id": "cf89f556",
   "metadata": {},
   "source": [
    "# with keyword "
   ]
  },
  {
   "cell_type": "code",
   "execution_count": 24,
   "id": "97336a7e",
   "metadata": {},
   "outputs": [],
   "source": [
    "# In Python, the with statement is used as a context manager to simplify resource management, especially when dealing with resources that need to be properly opened, used, and closed. The with statement ensures that the necessary cleanup actions are performed, even if an error occurs during execution. It is particularly useful for file handling, database connections, and other resource-intensive operations.\n",
    "# if we open the file while using with then it will automatically close the file after the block of code is executed.\n",
    "\n",
    "# as Keyword\n",
    "# The as keyword in the with statement assigns the file object returned by the open function to a variable. This variable can then be used to perform file operations within the block of code."
   ]
  },
  {
   "cell_type": "code",
   "execution_count": 25,
   "id": "d1cdaa21",
   "metadata": {},
   "outputs": [
    {
     "name": "stdout",
     "output_type": "stream",
     "text": [
      "This is the content inside the file.\n",
      "This is the second line.\n"
     ]
    }
   ],
   "source": [
    "with open(\"myfile.txt\", \"r\") as f:\n",
    "  text = f.read()\n",
    "  print(text)"
   ]
  },
  {
   "cell_type": "code",
   "execution_count": 26,
   "id": "ccbe475e",
   "metadata": {},
   "outputs": [],
   "source": [
    "# In Python, the with statement replaces a try-catch block with a concise shorthand. More importantly, it ensures closing resources right after processing them. A common example of using the with statement is reading or writing to a file. A function or class that supports the with statement is known as a context manager. A context manager allows you to open and close resources right when you want to. For example, the open() function is a context manager. When you call the open() function using the with statement, the file closes automatically after you’ve processed the file.\n",
    "  \n",
    "# The with statement is a replacement for commonly used try/finally error-handling statements. A common example of using the with statement is opening a file. To open and write to a file in Python, you can use the with statement as follows:\n",
    "\n",
    "# with open(\"example.txt\", \"w\") as file:\n",
    "#   file.write(\"Hello World!\")\n",
    "# The with statement automatically closes the file after you’ve completed writing it.\n",
    "\n",
    "# Under the hood, the with statement replaces this kind of try-catch block:\n",
    "# f = open(\"example.txt\", \"w\")\n",
    "\n",
    "# try:\n",
    "#   f.write(\"hello world\")\n",
    "# finally:\n",
    "#   f.close()\n",
    "# The with statement ensures that the file is properly closed after you’ve finished writing it.\n"
   ]
  },
  {
   "cell_type": "markdown",
   "id": "5756fabf",
   "metadata": {},
   "source": [
    "# File Handling Methods "
   ]
  },
  {
   "cell_type": "code",
   "execution_count": 28,
   "id": "00c6ac86",
   "metadata": {},
   "outputs": [
    {
     "name": "stdout",
     "output_type": "stream",
     "text": [
      "---------------------read Method----------------------\n",
      "This is the content inside the file.\n",
      "This is the second line.\n"
     ]
    }
   ],
   "source": [
    "print(\"---------------------read Method----------------------\")\n",
    "# Read Method\n",
    "# The read() method returns the entire content of the file as a string.\n",
    "f = open(\"myfile.txt\", 'r')\n",
    "print(f.read())\n",
    "f.close()"
   ]
  },
  {
   "cell_type": "code",
   "execution_count": 30,
   "id": "47fd2997",
   "metadata": {},
   "outputs": [
    {
     "name": "stdout",
     "output_type": "stream",
     "text": [
      "---------------------readline Method----------------------\n"
     ]
    },
    {
     "data": {
      "text/plain": [
       "'This is the content inside the file.\\n'"
      ]
     },
     "execution_count": 30,
     "metadata": {},
     "output_type": "execute_result"
    }
   ],
   "source": [
    "print(\"---------------------readline Method----------------------\")\n",
    "# readLine Method\n",
    "# The readline() method returns one line from the file as a string.\n",
    "# then place the file cursor to the starting position of the new line.\n",
    "# when there is no line in the file then it will return the empty string.\n",
    "f = open(\"myfile.txt\", 'r')\n",
    "f.readline()"
   ]
  },
  {
   "cell_type": "code",
   "execution_count": 31,
   "id": "16e5100e",
   "metadata": {},
   "outputs": [
    {
     "data": {
      "text/plain": [
       "'This is the second line.\\n'"
      ]
     },
     "execution_count": 31,
     "metadata": {},
     "output_type": "execute_result"
    }
   ],
   "source": [
    "f.readline()"
   ]
  },
  {
   "cell_type": "code",
   "execution_count": 32,
   "id": "7e731406",
   "metadata": {},
   "outputs": [
    {
     "data": {
      "text/plain": [
       "'line 3.\\n'"
      ]
     },
     "execution_count": 32,
     "metadata": {},
     "output_type": "execute_result"
    }
   ],
   "source": [
    "f.readline()"
   ]
  },
  {
   "cell_type": "code",
   "execution_count": 33,
   "id": "e8caa4df",
   "metadata": {},
   "outputs": [
    {
     "data": {
      "text/plain": [
       "'line 4.\\n'"
      ]
     },
     "execution_count": 33,
     "metadata": {},
     "output_type": "execute_result"
    }
   ],
   "source": [
    "f.readline()"
   ]
  },
  {
   "cell_type": "code",
   "execution_count": 34,
   "id": "8cbdda4a",
   "metadata": {},
   "outputs": [
    {
     "data": {
      "text/plain": [
       "'line 5.\\n'"
      ]
     },
     "execution_count": 34,
     "metadata": {},
     "output_type": "execute_result"
    }
   ],
   "source": [
    "f.readline()"
   ]
  },
  {
   "cell_type": "code",
   "execution_count": 35,
   "id": "02874be3",
   "metadata": {},
   "outputs": [
    {
     "data": {
      "text/plain": [
       "'line 6.\\n'"
      ]
     },
     "execution_count": 35,
     "metadata": {},
     "output_type": "execute_result"
    }
   ],
   "source": [
    "f.readline()"
   ]
  },
  {
   "cell_type": "code",
   "execution_count": 36,
   "id": "ce829b0f",
   "metadata": {},
   "outputs": [
    {
     "data": {
      "text/plain": [
       "'line 7.\\n'"
      ]
     },
     "execution_count": 36,
     "metadata": {},
     "output_type": "execute_result"
    }
   ],
   "source": [
    "f.readline()"
   ]
  },
  {
   "cell_type": "code",
   "execution_count": 37,
   "id": "a51c155d",
   "metadata": {},
   "outputs": [
    {
     "data": {
      "text/plain": [
       "'line 8.\\n'"
      ]
     },
     "execution_count": 37,
     "metadata": {},
     "output_type": "execute_result"
    }
   ],
   "source": [
    "f.readline()"
   ]
  },
  {
   "cell_type": "code",
   "execution_count": 38,
   "id": "e5df327d",
   "metadata": {},
   "outputs": [
    {
     "data": {
      "text/plain": [
       "'line 9.\\n'"
      ]
     },
     "execution_count": 38,
     "metadata": {},
     "output_type": "execute_result"
    }
   ],
   "source": [
    "f.readline()"
   ]
  },
  {
   "cell_type": "code",
   "execution_count": 39,
   "id": "1acc9872",
   "metadata": {},
   "outputs": [
    {
     "data": {
      "text/plain": [
       "'line 10.'"
      ]
     },
     "execution_count": 39,
     "metadata": {},
     "output_type": "execute_result"
    }
   ],
   "source": [
    "f.readline()"
   ]
  },
  {
   "cell_type": "code",
   "execution_count": 40,
   "id": "40f68ed8",
   "metadata": {},
   "outputs": [
    {
     "data": {
      "text/plain": [
       "''"
      ]
     },
     "execution_count": 40,
     "metadata": {},
     "output_type": "execute_result"
    }
   ],
   "source": [
    "f.readline()"
   ]
  },
  {
   "cell_type": "code",
   "execution_count": 44,
   "id": "0bc763b4",
   "metadata": {},
   "outputs": [],
   "source": [
    "f = open('marks.txt','r')"
   ]
  },
  {
   "cell_type": "code",
   "execution_count": 45,
   "id": "cf3c502b",
   "metadata": {},
   "outputs": [
    {
     "name": "stdout",
     "output_type": "stream",
     "text": [
      "Marks in EVS is: 10\n",
      "Marks in Math is: 20\n",
      "Marks in SST is: 30\n",
      "\n",
      "Marks in EVS is: 40\n",
      "Marks in Math is: 50\n",
      "Marks in SST is: 60\n",
      "\n",
      "Marks in EVS is: 70\n",
      "Marks in Math is: 80\n",
      "Marks in SST is: 90\n"
     ]
    }
   ],
   "source": [
    "while True:\n",
    "    line = f.readline()\n",
    "    if not line:\n",
    "        break\n",
    "    m1 = line.split(\",\")[0]\n",
    "    m2 = line.split(\",\")[1]\n",
    "    m3 = line.split(\",\")[2]\n",
    "    print(\"Marks in EVS is:\", m1)\n",
    "    print(\"Marks in Math is:\", m2)\n",
    "    print(\"Marks in SST is:\", m3)\n",
    "    "
   ]
  },
  {
   "cell_type": "code",
   "execution_count": 50,
   "id": "b56071c1",
   "metadata": {},
   "outputs": [
    {
     "name": "stdout",
     "output_type": "stream",
     "text": [
      "-----------------------readlines Method----------------------\n",
      "['This is the content inside the file.\\n', 'This is the second line.\\n', 'line 3.\\n', 'line 4.\\n', 'line 5.\\n', 'line 6.\\n', 'line 7.\\n', 'line 8.\\n', 'line 9.\\n', 'line 10.']\n"
     ]
    }
   ],
   "source": [
    "print(\"-----------------------readlines Method----------------------\")\n",
    "# readlines Method\n",
    "# The readlines() method returns a list containing each line in the file as a list item as a string.\n",
    "f = open(\"myfile.txt\", 'r')\n",
    "l1 = f.readlines()\n",
    "print(l1)"
   ]
  },
  {
   "cell_type": "code",
   "execution_count": 55,
   "id": "40f500a3",
   "metadata": {},
   "outputs": [
    {
     "name": "stdout",
     "output_type": "stream",
     "text": [
      "-----------------------writelines Method----------------------\n",
      "Here we are opening the file in write mode,so if the file does not exist it will create a new file,else it will overwrite the existing file.\n",
      "\n",
      "Now readling the content\n",
      "\n",
      "This is first line\n",
      "This is second line\n",
      "This is third line\n",
      "\n"
     ]
    }
   ],
   "source": [
    "print(\"-----------------------writelines Method----------------------\")\n",
    "# writelines method\n",
    "# The writelines() method writes a sequence of strings to the file.\n",
    "f = open(\"myfile2.txt\", 'w')\n",
    "print(\"Here we are opening the file in write mode,so if the file does not exist it will create a new file,else it will overwrite the existing file.\")\n",
    "f.writelines(\"This is first line\\nThis is second line\\nThis is third line\\n\")\n",
    "f.close() \n",
    "print()\n",
    "\n",
    "print(\"Now readling the content\")\n",
    "print()\n",
    "\n",
    "f = open('myfile2.txt','r')\n",
    "print(f.read())"
   ]
  },
  {
   "cell_type": "code",
   "execution_count": 59,
   "id": "bbd1b305",
   "metadata": {},
   "outputs": [],
   "source": [
    "# In the writelines method we can pass an iterable object such as list,tuple,dictionary,set etc.\n",
    "# In that a practicular data at the particular index will be written in the file as a separate line\n",
    "\n",
    "f = open(\"mywritelines.txt\", 'w')\n",
    "l = [\"This is first line\\n\", \"This is second line\\n\", \"This is third line\\n\"]\n",
    "f.writelines(l)\n",
    "f.close()\n",
    "\n",
    "# here important to note that writelines method doesn't add a new line character at the end of the file\n",
    "# If We want to add newline  we can use a loop.\n",
    "\n",
    "f = open(\"mywritelines1.txt\", 'w')\n",
    "l = [\"Line1\", \"line2\", \"line3\"]\n",
    "for line in l:\n",
    "  f.write(line + \"\\n\")"
   ]
  },
  {
   "cell_type": "code",
   "execution_count": 60,
   "id": "9c8816ca",
   "metadata": {},
   "outputs": [
    {
     "name": "stdout",
     "output_type": "stream",
     "text": [
      "Now reading the data from the mywritelines1.txt\n"
     ]
    }
   ],
   "source": [
    "print(\"Now reading the data from the mywritelines1.txt\")"
   ]
  },
  {
   "cell_type": "code",
   "execution_count": 61,
   "id": "d7a7d862",
   "metadata": {},
   "outputs": [
    {
     "data": {
      "text/plain": [
       "'Line1\\nline2\\nline3\\n'"
      ]
     },
     "execution_count": 61,
     "metadata": {},
     "output_type": "execute_result"
    }
   ],
   "source": [
    "f = open(\"mywritelines1.txt\", 'r')\n",
    "f.read()"
   ]
  },
  {
   "cell_type": "code",
   "execution_count": 62,
   "id": "fb37e4cb",
   "metadata": {},
   "outputs": [],
   "source": [
    "# here important to note that writelines method doesn't add a new line character at the end of the file\n",
    "# If We want to add newline  we can use a loop.\n",
    "\n",
    "f = open(\"mywritelines1.txt\", 'w')\n",
    "l = [\"Line1\", \"line2\", \"line3\"]\n",
    "for line in l:\n",
    "  f.write(line + \"\\n\")"
   ]
  },
  {
   "cell_type": "code",
   "execution_count": null,
   "id": "56f53d7f",
   "metadata": {},
   "outputs": [],
   "source": []
  },
  {
   "cell_type": "code",
   "execution_count": null,
   "id": "f5a83e81",
   "metadata": {},
   "outputs": [],
   "source": []
  },
  {
   "cell_type": "code",
   "execution_count": null,
   "id": "6c50e42f",
   "metadata": {},
   "outputs": [],
   "source": [
    "f = open(\"test.txt\",'w')"
   ]
  },
  {
   "cell_type": "code",
   "execution_count": null,
   "id": "bd4cc2fe",
   "metadata": {},
   "outputs": [],
   "source": [
    "f.write('asdfghjkl')"
   ]
  },
  {
   "cell_type": "code",
   "execution_count": null,
   "id": "b724d0fe",
   "metadata": {},
   "outputs": [],
   "source": [
    "f.close()"
   ]
  },
  {
   "cell_type": "code",
   "execution_count": null,
   "id": "bbfbc260",
   "metadata": {},
   "outputs": [],
   "source": [
    "f = open('test.txt')"
   ]
  },
  {
   "cell_type": "code",
   "execution_count": null,
   "id": "f89726eb",
   "metadata": {},
   "outputs": [],
   "source": [
    "f.read()"
   ]
  },
  {
   "cell_type": "code",
   "execution_count": null,
   "id": "b4fac47b",
   "metadata": {},
   "outputs": [],
   "source": [
    "# Now we get the empty string bcz the file cursor is at the end of the file.\n",
    "f.read()"
   ]
  },
  {
   "cell_type": "code",
   "execution_count": null,
   "id": "44bb683e",
   "metadata": {},
   "outputs": [],
   "source": [
    "# With the help of seek method we can manipulate the position of the file cursor.\n",
    "# Now we will get the data from the 0 byte of the file. \n",
    "f.seek(0)"
   ]
  },
  {
   "cell_type": "code",
   "execution_count": null,
   "id": "e4602241",
   "metadata": {},
   "outputs": [],
   "source": [
    "f.read()"
   ]
  },
  {
   "cell_type": "code",
   "execution_count": null,
   "id": "d30e6175",
   "metadata": {},
   "outputs": [],
   "source": [
    "f = open('test.txt','a')"
   ]
  },
  {
   "cell_type": "code",
   "execution_count": null,
   "id": "0d27a74f",
   "metadata": {},
   "outputs": [],
   "source": [
    "f.write(\"djsbnvcjdksvbkcdsnsdlkcnskdksdcnlsdkncskncl\")"
   ]
  },
  {
   "cell_type": "code",
   "execution_count": null,
   "id": "bf6adf7e",
   "metadata": {},
   "outputs": [],
   "source": [
    "f.close()"
   ]
  },
  {
   "cell_type": "code",
   "execution_count": null,
   "id": "9c3feb23",
   "metadata": {},
   "outputs": [],
   "source": [
    "f = open('test.txt')"
   ]
  },
  {
   "cell_type": "code",
   "execution_count": null,
   "id": "2057943d",
   "metadata": {},
   "outputs": [],
   "source": [
    "# Here we are reading the 25 bytes of data from the current position of the file cursor.\n",
    "f.read(25)"
   ]
  },
  {
   "cell_type": "code",
   "execution_count": null,
   "id": "bd2878e7",
   "metadata": {},
   "outputs": [],
   "source": [
    "# Writing the data inside the file in the binary mode.\n",
    "f = open('test1.txt','wb')"
   ]
  },
  {
   "cell_type": "code",
   "execution_count": null,
   "id": "fd4a1327",
   "metadata": {},
   "outputs": [],
   "source": [
    "f.write(b'bvibvjbefdnvdklsdnvlknvakdfvndklfvnjapodja\\njsndcjsdnbckjsbcjsdbcsjk')"
   ]
  },
  {
   "cell_type": "code",
   "execution_count": null,
   "id": "98004641",
   "metadata": {},
   "outputs": [],
   "source": [
    "f.close()"
   ]
  },
  {
   "cell_type": "code",
   "execution_count": null,
   "id": "cd276f73",
   "metadata": {},
   "outputs": [],
   "source": [
    "f = open('test1.txt','rb')"
   ]
  },
  {
   "cell_type": "code",
   "execution_count": null,
   "id": "6319dade",
   "metadata": {},
   "outputs": [],
   "source": [
    "f.read()"
   ]
  },
  {
   "cell_type": "code",
   "execution_count": null,
   "id": "891b1880",
   "metadata": {},
   "outputs": [],
   "source": [
    "f.seek(1)"
   ]
  },
  {
   "cell_type": "code",
   "execution_count": null,
   "id": "ef6443bc",
   "metadata": {},
   "outputs": [],
   "source": [
    "f.read()"
   ]
  },
  {
   "cell_type": "code",
   "execution_count": null,
   "id": "c9689280",
   "metadata": {},
   "outputs": [],
   "source": [
    "f.seek(-3,2)"
   ]
  },
  {
   "cell_type": "code",
   "execution_count": null,
   "id": "5d603a49",
   "metadata": {},
   "outputs": [],
   "source": [
    "f.read()"
   ]
  },
  {
   "cell_type": "code",
   "execution_count": null,
   "id": "d30ba59e",
   "metadata": {},
   "outputs": [],
   "source": [
    "f.seek(0)"
   ]
  },
  {
   "cell_type": "code",
   "execution_count": null,
   "id": "d7174173",
   "metadata": {},
   "outputs": [],
   "source": [
    "f.seek(0)"
   ]
  },
  {
   "cell_type": "code",
   "execution_count": null,
   "id": "20b2e1d6",
   "metadata": {},
   "outputs": [],
   "source": [
    "f.read()"
   ]
  },
  {
   "cell_type": "code",
   "execution_count": null,
   "id": "82b77732",
   "metadata": {},
   "outputs": [],
   "source": [
    "f = open('test2.txt','w')"
   ]
  },
  {
   "cell_type": "code",
   "execution_count": null,
   "id": "fd59d381",
   "metadata": {},
   "outputs": [],
   "source": [
    "f.write('Line1\\nLine2\\nLine3\\nLine4\\nLine5\\nLine6\\nLine7\\nLine8')"
   ]
  },
  {
   "cell_type": "code",
   "execution_count": null,
   "id": "4a7c4336",
   "metadata": {},
   "outputs": [],
   "source": [
    "f.close()"
   ]
  },
  {
   "cell_type": "code",
   "execution_count": null,
   "id": "bba84128",
   "metadata": {},
   "outputs": [],
   "source": [
    "# the readline method is used to read one entire line at a time.\n",
    "# and once the line is printed then place the file cursor to the starting position of the next line."
   ]
  },
  {
   "cell_type": "code",
   "execution_count": null,
   "id": "1773980b",
   "metadata": {},
   "outputs": [],
   "source": [
    "f = open('test2.txt')"
   ]
  },
  {
   "cell_type": "code",
   "execution_count": null,
   "id": "8a871341",
   "metadata": {},
   "outputs": [],
   "source": [
    "f.readline()"
   ]
  },
  {
   "cell_type": "code",
   "execution_count": null,
   "id": "419cc7c4",
   "metadata": {},
   "outputs": [],
   "source": [
    "f.readline()"
   ]
  },
  {
   "cell_type": "code",
   "execution_count": null,
   "id": "8910c2f6",
   "metadata": {},
   "outputs": [],
   "source": [
    "f.readline()"
   ]
  },
  {
   "cell_type": "code",
   "execution_count": null,
   "id": "b7664620",
   "metadata": {},
   "outputs": [],
   "source": [
    "f.readline()"
   ]
  },
  {
   "cell_type": "code",
   "execution_count": null,
   "id": "1db2ec07",
   "metadata": {},
   "outputs": [],
   "source": [
    "f.readline()"
   ]
  },
  {
   "cell_type": "code",
   "execution_count": null,
   "id": "366231fb",
   "metadata": {},
   "outputs": [],
   "source": [
    "# file are also iterable objects\n",
    "# explain below"
   ]
  },
  {
   "cell_type": "code",
   "execution_count": null,
   "id": "ceea31d0",
   "metadata": {},
   "outputs": [],
   "source": [
    "f = open('test2.txt','r')"
   ]
  },
  {
   "cell_type": "code",
   "execution_count": null,
   "id": "fbbb84e6",
   "metadata": {},
   "outputs": [],
   "source": [
    "# Here i represent each line of the file.\n",
    "for i in f:\n",
    "    print(i,end='')"
   ]
  },
  {
   "cell_type": "code",
   "execution_count": null,
   "id": "6833f657",
   "metadata": {},
   "outputs": [],
   "source": [
    "# if we want to open the file in both read and write mode we will use r+\n",
    "# but the file must be already exist else it will give the error.\n",
    "f = open('test2.txt','r+')"
   ]
  },
  {
   "cell_type": "code",
   "execution_count": null,
   "id": "20aaa6db",
   "metadata": {},
   "outputs": [],
   "source": [
    "f.read()"
   ]
  },
  {
   "cell_type": "code",
   "execution_count": null,
   "id": "7c5ce4cc",
   "metadata": {},
   "outputs": [],
   "source": [
    "# if the file is opened in the read + write mode \n",
    "# and we use write method then it will not override the previous content with new content\n",
    "# simply append the new content to the end of the file.\n",
    "f.write(\"line9\\n\")"
   ]
  },
  {
   "cell_type": "code",
   "execution_count": null,
   "id": "acf9b194",
   "metadata": {},
   "outputs": [],
   "source": [
    "f.seek(0)"
   ]
  },
  {
   "cell_type": "code",
   "execution_count": null,
   "id": "8d834f30",
   "metadata": {},
   "outputs": [],
   "source": [
    "f = open(\"test3.txt\",'w')"
   ]
  },
  {
   "cell_type": "code",
   "execution_count": null,
   "id": "f3bc33cb",
   "metadata": {},
   "outputs": [],
   "source": [
    "f.close()"
   ]
  },
  {
   "cell_type": "code",
   "execution_count": null,
   "id": "f70d28dc",
   "metadata": {},
   "outputs": [],
   "source": [
    "f = open('test3.txt','r+')"
   ]
  },
  {
   "cell_type": "code",
   "execution_count": null,
   "id": "8542c0d7",
   "metadata": {},
   "outputs": [],
   "source": [
    "f.writelines('line1\\nline2')"
   ]
  },
  {
   "cell_type": "code",
   "execution_count": null,
   "id": "b2e22457",
   "metadata": {},
   "outputs": [],
   "source": [
    "f.close()"
   ]
  },
  {
   "cell_type": "code",
   "execution_count": null,
   "id": "421fe59e",
   "metadata": {},
   "outputs": [],
   "source": [
    "f = open('test3.txt','r+')"
   ]
  },
  {
   "cell_type": "code",
   "execution_count": null,
   "id": "4c05b8dc",
   "metadata": {},
   "outputs": [],
   "source": [
    "# Now the position of the file cursor is at the begining so it will replace first with new line \n",
    "f.writelines('line3\\n')"
   ]
  },
  {
   "cell_type": "code",
   "execution_count": null,
   "id": "eb5d407b",
   "metadata": {},
   "outputs": [],
   "source": [
    "f.close()"
   ]
  },
  {
   "cell_type": "code",
   "execution_count": null,
   "id": "c9f0ed32",
   "metadata": {},
   "outputs": [],
   "source": [
    "f = open(\"test3.txt\",'r+')"
   ]
  },
  {
   "cell_type": "code",
   "execution_count": null,
   "id": "3bdee1d5",
   "metadata": {},
   "outputs": [],
   "source": [
    "# the line1 is replaced with line3\n",
    "f.read()"
   ]
  },
  {
   "cell_type": "code",
   "execution_count": null,
   "id": "77efb723",
   "metadata": {},
   "outputs": [],
   "source": [
    "f = open('test3.txt','r+')"
   ]
  },
  {
   "cell_type": "code",
   "execution_count": null,
   "id": "ea307083",
   "metadata": {},
   "outputs": [],
   "source": [
    "f.read()"
   ]
  },
  {
   "cell_type": "code",
   "execution_count": null,
   "id": "49672736",
   "metadata": {},
   "outputs": [],
   "source": [
    "f.write('line4\\nline5')"
   ]
  },
  {
   "cell_type": "code",
   "execution_count": null,
   "id": "32bbce1e",
   "metadata": {},
   "outputs": [],
   "source": [
    "f.seek(0)"
   ]
  },
  {
   "cell_type": "code",
   "execution_count": null,
   "id": "7743cea2",
   "metadata": {},
   "outputs": [],
   "source": [
    "f.read()"
   ]
  },
  {
   "cell_type": "code",
   "execution_count": null,
   "id": "1ca3eeeb",
   "metadata": {},
   "outputs": [],
   "source": [
    "f.writelines('\\nline6\\nline7')"
   ]
  },
  {
   "cell_type": "code",
   "execution_count": null,
   "id": "7c10cfbd",
   "metadata": {},
   "outputs": [],
   "source": [
    "f.seek(0)\n",
    "f.read()"
   ]
  },
  {
   "cell_type": "code",
   "execution_count": null,
   "id": "0fe94b80",
   "metadata": {},
   "outputs": [],
   "source": [
    "f = open('test4.txt','w')"
   ]
  },
  {
   "cell_type": "code",
   "execution_count": null,
   "id": "7bdb517f",
   "metadata": {},
   "outputs": [],
   "source": [
    "f.write('Opening the file in the write mode')"
   ]
  },
  {
   "cell_type": "code",
   "execution_count": null,
   "id": "072d22dc",
   "metadata": {},
   "outputs": [],
   "source": [
    "f.close()"
   ]
  },
  {
   "cell_type": "code",
   "execution_count": null,
   "id": "be2fc353",
   "metadata": {},
   "outputs": [],
   "source": [
    "f = open('test4.txt','r')"
   ]
  },
  {
   "cell_type": "code",
   "execution_count": null,
   "id": "91e14063",
   "metadata": {},
   "outputs": [],
   "source": [
    "f.read()"
   ]
  },
  {
   "cell_type": "code",
   "execution_count": null,
   "id": "323e5c72",
   "metadata": {},
   "outputs": [],
   "source": [
    "f.close()"
   ]
  },
  {
   "cell_type": "code",
   "execution_count": null,
   "id": "0023867e",
   "metadata": {},
   "outputs": [],
   "source": [
    "f = open('test4.txt','w')"
   ]
  },
  {
   "cell_type": "code",
   "execution_count": null,
   "id": "8442dbb7",
   "metadata": {},
   "outputs": [],
   "source": [
    "f.write('Again opening the file in the write mode only and write will replace the previous to the new content')"
   ]
  },
  {
   "cell_type": "code",
   "execution_count": null,
   "id": "10b0cb39",
   "metadata": {},
   "outputs": [],
   "source": [
    "f.close()"
   ]
  },
  {
   "cell_type": "code",
   "execution_count": null,
   "id": "95901349",
   "metadata": {},
   "outputs": [],
   "source": [
    "f = open('test4.txt')"
   ]
  },
  {
   "cell_type": "code",
   "execution_count": null,
   "id": "c555a163",
   "metadata": {},
   "outputs": [],
   "source": [
    "f.read()"
   ]
  },
  {
   "cell_type": "markdown",
   "id": "b3ca3b3a",
   "metadata": {},
   "source": [
    "# fileno method "
   ]
  },
  {
   "cell_type": "code",
   "execution_count": null,
   "id": "f5fe155d",
   "metadata": {},
   "outputs": [],
   "source": [
    "# the fileno() method in Python file handling is used to retrieve the file descriptor associated with an open file. \n",
    "# A file descriptor is a low-level, integer-based identifier used by the operating system to manage files.\n",
    "\n",
    "# syntax:\n",
    "# file_object.fileno()"
   ]
  },
  {
   "cell_type": "code",
   "execution_count": null,
   "id": "7d797e87",
   "metadata": {},
   "outputs": [],
   "source": [
    "# Return Value\n",
    "# Returns an integer representing the file descriptor of the open file.\n",
    "# Raises an OSError if the file object is closed or does not have a file descriptor.\n",
    "\n",
    "# Purpose\n",
    "# The fileno() method is often used in low-level file operations or when interacting with system calls and libraries (like os or fcntl) that require file descriptors."
   ]
  },
  {
   "cell_type": "code",
   "execution_count": null,
   "id": "d2de14a6",
   "metadata": {},
   "outputs": [],
   "source": [
    "with open('test1.txt','r') as f:\n",
    "    no = f.fileno()\n",
    "    print(f\"file descriptor is {no}\")"
   ]
  },
  {
   "cell_type": "code",
   "execution_count": null,
   "id": "3a226312",
   "metadata": {},
   "outputs": [],
   "source": [
    "# How File Descriptors Work\n",
    "# File descriptors are unique identifiers for files or streams that the operating system assigns when they are opened. These are typically:\n",
    "\n",
    "# 0: Standard input (stdin)\n",
    "# 1: Standard output (stdout)\n",
    "# 2: Standard error (stderr)\n",
    "# 3 and above: Additional file descriptors for other opened files.\n"
   ]
  },
  {
   "cell_type": "code",
   "execution_count": null,
   "id": "5b8d92bf",
   "metadata": {},
   "outputs": [],
   "source": [
    "# 1.Use Cases of fileno()\n",
    "# Interfacing with os Module\n",
    "# You can pass the file descriptor to functions like os.read() or os.write() for low-level I/O.\n",
    "\n",
    "import os\n",
    "\n",
    "with open('test6.txt','w') as f:\n",
    "    no = f.fileno()\n",
    "    os.write(no,b'Writing inside the file using file descriptor')"
   ]
  },
  {
   "cell_type": "code",
   "execution_count": null,
   "id": "98b96511",
   "metadata": {},
   "outputs": [],
   "source": [
    "# 2.Checking File Properties \n",
    "# You can use the fileno() method with system-level functions like os.fstat() to fetch file details.\n",
    "import os \n",
    "with open('test6.txt','r') as f:\n",
    "    no = f.fileno()\n",
    "    stat = os.fstat(no)\n",
    "    print(stat)\n",
    "    "
   ]
  },
  {
   "cell_type": "code",
   "execution_count": null,
   "id": "f7959a70",
   "metadata": {},
   "outputs": [],
   "source": [
    "# Points to Note\n",
    "# 1.Not for All File-like Objects: The fileno() method is only available for file objects backed by real system-level files. For example:\n",
    "\n",
    "# It works with standard file objects (open()).\n",
    "# It doesn't work with objects like io.StringIO or io.BytesIO since they are in-memory objects.\n",
    "\n",
    "# 2.Error on Closed File: If the file is closed, calling fileno() raises an OSError.\n",
    "\n",
    "# file = open(\"example.txt\", \"w\")\n",
    "# file.close()\n",
    "# file.fileno()  # Raises OSError\n",
    "\n",
    "# 3.Platform-specific Behavior: \n",
    "# On some systems, file descriptors are used differently; ensure compatibility if writing cross-platform code."
   ]
  },
  {
   "cell_type": "markdown",
   "id": "467c615d",
   "metadata": {},
   "source": [
    "# magic command inside jupyter"
   ]
  },
  {
   "cell_type": "code",
   "execution_count": null,
   "id": "f1f13e1c",
   "metadata": {},
   "outputs": [],
   "source": [
    "# The %%writefile magic command is used in Jupyter Notebook or IPython to write the content of a cell directly into a file. \n",
    "# It is especially useful for creating and saving files without using Python's standard file-handling syntax. \n",
    "# Here's an explanation of how it works:\n",
    "%%writefile test7.txt\n",
    "\"inside the file\""
   ]
  },
  {
   "cell_type": "code",
   "execution_count": null,
   "id": "44a0581f",
   "metadata": {},
   "outputs": [],
   "source": [
    "# %%writefile:\n",
    "# This is a cell magic command in Jupyter Notebook or IPython.\n",
    "# It writes the contents of the cell into a file specified after the command.\n",
    "\n",
    "# test7.txt:\n",
    "# The name of the file where the content will be written. If the file doesn't exist, it will be created. If it exists, it will be overwritten unless the -a flag is used (explained below).\n",
    "\n",
    "# inside the file:\n",
    "# This is the content that will be written into the file test7.txt."
   ]
  },
  {
   "cell_type": "code",
   "execution_count": null,
   "id": "06f42070",
   "metadata": {},
   "outputs": [],
   "source": [
    "# What Happens When You Run It\n",
    "# A file named test7.txt is created (or overwritten if it already exists) in the current working directory.\n",
    "# The content \"inside the file\" is written to test7.txt.\n"
   ]
  },
  {
   "cell_type": "code",
   "execution_count": null,
   "id": "696bc3fa",
   "metadata": {},
   "outputs": [],
   "source": [
    "# Key Features of %%writefile\n",
    "# 1.Creates or Overwrites Files:\n",
    "\n",
    "# By default, the command will overwrite an existing file with the same name."
   ]
  },
  {
   "cell_type": "code",
   "execution_count": null,
   "id": "561e0dec",
   "metadata": {},
   "outputs": [],
   "source": [
    "# 2.Append Mode:\n",
    "# Use the -a flag to append content to the file instead of overwriting it.\n",
    "%%writefile -a test7.txt\n",
    "\"additional content\"\n"
   ]
  },
  {
   "cell_type": "code",
   "execution_count": null,
   "id": "395756ee",
   "metadata": {},
   "outputs": [],
   "source": [
    "# Behind the Scenes\n",
    "# The %%writefile command simplifies writing files in Jupyter environments. It abstracts away the need for using Python's open() and write() methods, making it quicker to prototype and save scripts.\n",
    "\n",
    "# In traditional Python:\n",
    "# with open(\"test7.txt\", \"w\") as file:\n",
    "#     file.write(\"inside the file\")\n",
    "# With %%writefile, the process is reduced to one command."
   ]
  },
  {
   "cell_type": "markdown",
   "id": "4eab9c88",
   "metadata": {},
   "source": [
    "# we read the data  of the file with help of magic command"
   ]
  },
  {
   "cell_type": "code",
   "execution_count": null,
   "id": "6ea5597b",
   "metadata": {},
   "outputs": [],
   "source": [
    "# Yes, in Jupyter Notebook, you can read the content of a file using the ! magic command, which allows you to execute shell commands directly in a notebook. \n",
    "# You can use commands like cat, type, or more, depending on your operating system.\n",
    "\n",
    "!type test1.txt"
   ]
  },
  {
   "cell_type": "code",
   "execution_count": null,
   "id": "1ac9f90d",
   "metadata": {},
   "outputs": [],
   "source": [
    "# limitations of Magic Commands for File Reading\n",
    "# Magic commands like cat or type are shell-based and cannot manipulate the file content programmatically. They are limited to displaying the raw content."
   ]
  },
  {
   "cell_type": "markdown",
   "id": "5f505f84",
   "metadata": {},
   "source": [
    "# OS module"
   ]
  },
  {
   "cell_type": "code",
   "execution_count": null,
   "id": "745b263a",
   "metadata": {},
   "outputs": [],
   "source": [
    "# The os module in Python is a built-in library that provides a way to interact with the operating system. \n",
    "# It offers functions for performing tasks like file and directory manipulation, environment variable management, and working with processes. \n",
    "# The os module allows Python programs to operate in a platform-independent manner, abstracting away differences between operating systems.\n",
    "\n",
    "import os"
   ]
  },
  {
   "cell_type": "code",
   "execution_count": null,
   "id": "add00bac",
   "metadata": {},
   "outputs": [],
   "source": [
    "# 1. Get Current Working Directory\n",
    "# os.getcwd() returns the current working directory.\n",
    "\n",
    "print(os.getcwd())\n",
    "type(os.getcwd())"
   ]
  },
  {
   "cell_type": "code",
   "execution_count": null,
   "id": "ce4a226c",
   "metadata": {},
   "outputs": [],
   "source": [
    "# 2. Change Directory\n",
    "# os.chdir(path) changes the current working directory.\n",
    "os.chdir(\"..\") # Move to the parent directory\n",
    "\n",
    "# Now checking the current working directory\n",
    "os.getcwd()\n",
    "\n",
    "\n",
    "# Again chaning the directory\n",
    "os.chdir('C://Users//Aryan')\n",
    "\n",
    "# Now getting the current working director\n",
    "os.getcwd()"
   ]
  },
  {
   "cell_type": "code",
   "execution_count": null,
   "id": "d8f87a38",
   "metadata": {},
   "outputs": [],
   "source": [
    "# 3. Create a Directory\n",
    "# os.mkdir(path) creates a single directory.\n",
    "\n",
    "os.mkdir('Demo')"
   ]
  },
  {
   "cell_type": "code",
   "execution_count": null,
   "id": "553ebcba",
   "metadata": {},
   "outputs": [],
   "source": [
    "# 4.List Files and Directories\n",
    "# os.listdir(path) lists all files and directories in the specified path.\n",
    "os.listdir(os.getcwd())"
   ]
  },
  {
   "cell_type": "code",
   "execution_count": null,
   "id": "64a48c5e",
   "metadata": {},
   "outputs": [],
   "source": [
    "# 5.Rename a File or Directory\n",
    "# os.rename(old_name, new_name) renames a file or directory\n",
    "os.rename('File_Demo','Test_Demo')"
   ]
  },
  {
   "cell_type": "code",
   "execution_count": null,
   "id": "742cb30a",
   "metadata": {},
   "outputs": [],
   "source": [
    "# 6. Remove a File or Directory\n",
    "# os.remove(file_path) removes a file.\n",
    "f = open('demo.txt','w')\n",
    "f.close()"
   ]
  },
  {
   "cell_type": "code",
   "execution_count": null,
   "id": "b37a9eeb",
   "metadata": {},
   "outputs": [],
   "source": [
    "os.remove('demo.txt')"
   ]
  },
  {
   "cell_type": "code",
   "execution_count": null,
   "id": "509cc24c",
   "metadata": {},
   "outputs": [],
   "source": [
    "# os.rmdir(path) removes an empty directory.\n",
    "os.rmdir(\"Test_Demo\")"
   ]
  },
  {
   "cell_type": "code",
   "execution_count": null,
   "id": "be758f59",
   "metadata": {},
   "outputs": [],
   "source": [
    "# 7. Check Existence\n",
    "# os.path.exists(path) checks if a file or directory exists.\n",
    "os.path.exists(os.getcwd())"
   ]
  },
  {
   "cell_type": "code",
   "execution_count": null,
   "id": "4f5f2f12",
   "metadata": {},
   "outputs": [],
   "source": [
    "# 8.The os.path.isdir() \n",
    "# function in Python checks whether a specified path is a directory or not. \n",
    "# It returns True if the path refers to an existing directory; otherwise, it returns False.\n",
    "os.path.isdir('Demo')"
   ]
  },
  {
   "cell_type": "code",
   "execution_count": null,
   "id": "b7eaad78",
   "metadata": {},
   "outputs": [],
   "source": [
    "# To move the file from one location to another we have to import shutil\n",
    "import shutil \n",
    "# shutil.move(\"old_path,new_path\")\n",
    "\n",
    "if not os.path.isdir('ZDemo'):\n",
    "    os.mkdir(\"ZDemo\")\n"
   ]
  },
  {
   "cell_type": "code",
   "execution_count": null,
   "id": "5adf3be9",
   "metadata": {},
   "outputs": [],
   "source": [
    "if \"test1.txt\" in os.listdir():\n",
    "    print(\"The file is avaiable inside the directory\")\n",
    "    print()\n",
    "    f = open('test1.txt','r+')\n",
    "    print(\"Now the content of the file is :-\")\n",
    "    print()\n",
    "    for i in f:\n",
    "        print(i,end='')\n",
    "else:\n",
    "    print(\"The file is not avaiable inside the directory\")"
   ]
  },
  {
   "cell_type": "code",
   "execution_count": null,
   "id": "d7a909c8",
   "metadata": {},
   "outputs": [],
   "source": [
    "f = open('zdemo1.txt','w')\n",
    "f.close()"
   ]
  },
  {
   "cell_type": "code",
   "execution_count": null,
   "id": "0e35cd65",
   "metadata": {},
   "outputs": [],
   "source": [
    "import shutil\n",
    "src = 'C:/Users/Aryan/zdemo1.txt'\n",
    "des = 'C:/Users/Aryan/Zdemo/zdemo1.txt'\n",
    "\n",
    "shutil.move(src,des)"
   ]
  },
  {
   "cell_type": "code",
   "execution_count": null,
   "id": "892ff760",
   "metadata": {},
   "outputs": [],
   "source": [
    "os.chdir(os.getcwd()+'\\Zdemo')"
   ]
  },
  {
   "cell_type": "code",
   "execution_count": null,
   "id": "a8b093ef",
   "metadata": {},
   "outputs": [],
   "source": [
    "os.getcwd()"
   ]
  },
  {
   "cell_type": "code",
   "execution_count": null,
   "id": "5d3a3c52",
   "metadata": {},
   "outputs": [],
   "source": [
    "os.remove('zdemo1.txt')"
   ]
  },
  {
   "cell_type": "code",
   "execution_count": null,
   "id": "620a5fb0",
   "metadata": {},
   "outputs": [],
   "source": [
    "os.listdir()"
   ]
  },
  {
   "cell_type": "code",
   "execution_count": null,
   "id": "79c96007",
   "metadata": {},
   "outputs": [],
   "source": [
    "os.chdir('C:\\\\Users\\\\Aryan')"
   ]
  },
  {
   "cell_type": "code",
   "execution_count": null,
   "id": "66fdca8a",
   "metadata": {},
   "outputs": [],
   "source": [
    "os.getcwd()"
   ]
  },
  {
   "cell_type": "code",
   "execution_count": null,
   "id": "d1bf0bdf",
   "metadata": {},
   "outputs": [],
   "source": [
    "# Step 1.\n",
    "if not os.path.exists(os.getcwd()+\"\\ZDemo\"):\n",
    "    os.mkdir('ZDemo')"
   ]
  },
  {
   "cell_type": "code",
   "execution_count": null,
   "id": "33011a03",
   "metadata": {},
   "outputs": [],
   "source": [
    "# Step 2.\n",
    "os.chdir('C:\\\\Users\\\\Aryan\\ZDemo')\n",
    "print(os.getcwd())"
   ]
  },
  {
   "cell_type": "code",
   "execution_count": null,
   "id": "9f67417c",
   "metadata": {},
   "outputs": [],
   "source": [
    "# Step 2.\n",
    "for i in range(1,11):\n",
    "    f = open(f\"myfile{i}.txt\",'w')\n",
    "    f.write(f\"Myfile{i}\")"
   ]
  },
  {
   "cell_type": "code",
   "execution_count": null,
   "id": "74d6d079",
   "metadata": {},
   "outputs": [],
   "source": [
    "# Step 3. \n",
    "for i in range(1,11):\n",
    "    f = open(f'myfile{i}.txt','r')\n",
    "    print(f.read())"
   ]
  },
  {
   "cell_type": "code",
   "execution_count": null,
   "id": "33aeb63e",
   "metadata": {},
   "outputs": [],
   "source": [
    "# Step 4. \n",
    "l1 = []\n",
    "for i in range(1,11):\n",
    "    f = open(f'myfile{i}.txt','r')\n",
    "    l1.append(f.read())\n",
    "print(l1)"
   ]
  },
  {
   "cell_type": "code",
   "execution_count": null,
   "id": "9269bd96",
   "metadata": {},
   "outputs": [],
   "source": [
    "# Step 5.\n",
    "f = open('final.txt','w')\n",
    "for i in l1:\n",
    "    f.write(i+\"\\n\")\n",
    "f.close()"
   ]
  },
  {
   "cell_type": "code",
   "execution_count": null,
   "id": "f9ddf181",
   "metadata": {},
   "outputs": [],
   "source": [
    "# Step 6.\n",
    "if not os.path.exists(os.getcwd()+'\\sub'):\n",
    "    os.mkdir('sub')\n",
    "import shutil\n",
    "src = os.getcwd()\n",
    "print(src)\n",
    "des = os.getcwd()+'\\sub'\n",
    "print(des)\n",
    "for i in range(1,11):\n",
    "    shutil.move(src+f'\\myfile{i}.txt',des+f'\\myfile{i}.txt')"
   ]
  },
  {
   "cell_type": "code",
   "execution_count": null,
   "id": "ab313322",
   "metadata": {},
   "outputs": [],
   "source": []
  }
 ],
 "metadata": {
  "kernelspec": {
   "display_name": "Python 3 (ipykernel)",
   "language": "python",
   "name": "python3"
  },
  "language_info": {
   "codemirror_mode": {
    "name": "ipython",
    "version": 3
   },
   "file_extension": ".py",
   "mimetype": "text/x-python",
   "name": "python",
   "nbconvert_exporter": "python",
   "pygments_lexer": "ipython3",
   "version": "3.11.5"
  }
 },
 "nbformat": 4,
 "nbformat_minor": 5
}
