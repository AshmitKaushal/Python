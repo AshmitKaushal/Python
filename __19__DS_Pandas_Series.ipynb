{
 "cells": [
  {
   "cell_type": "markdown",
   "id": "03a0d36f",
   "metadata": {},
   "source": [
    "# what is Pandas "
   ]
  },
  {
   "cell_type": "code",
   "execution_count": 1,
   "id": "164d17ef",
   "metadata": {},
   "outputs": [],
   "source": [
    "# Pandas is an open-source Python library used for data analysis and data manipulation. \n",
    "# It provides data structures and functions that simplify working with structured data like tables, databases, and Excel spreadsheets.\n",
    "\n",
    "# Pandas is built on NumPy and integrates well with other libraries like Matplotlib, Seaborn, and SQL."
   ]
  },
  {
   "cell_type": "code",
   "execution_count": 2,
   "id": "60a029fb",
   "metadata": {},
   "outputs": [],
   "source": [
    "#  Pandas is an open-source python library used for data manipulation and analysis.\n",
    "# It provide the powerful data structure like dataframe and series that makes it easy to work with structural data.\n",
    "\n",
    "\n",
    "# Pandas is a Python library used for working with data sets.\n",
    "# It has functions for analyzing, cleaning, exploring, and manipulating data.\n",
    "# The name \"Pandas\" has a reference to both \"Panel Data\", and \"Python Data Analysis\" and was created by Wes McKinney in 2008."
   ]
  },
  {
   "cell_type": "code",
   "execution_count": 3,
   "id": "51befc00",
   "metadata": {},
   "outputs": [],
   "source": [
    "# Key Features of Pandas\n",
    "\n",
    "# 1.Data Handling:\n",
    "\n",
    "# Efficiently manage large datasets.\n",
    "# Supports handling missing data.\n",
    "\n",
    "# 2.Data Structures:\n",
    "\n",
    "# Series: A one-dimensional labeled array.\n",
    "# DataFrame: A two-dimensional table-like structure (like an Excel sheet or SQL table).\n",
    "\n",
    "# 3.Data Cleaning & Preprocessing:\n",
    "\n",
    "# Handling missing values (dropna(), fillna()).\n",
    "# Removing duplicates (drop_duplicates()).\n",
    "# Changing data types (astype()).\n",
    "\n",
    "# 4.Data Analysis & Transformation:\n",
    "\n",
    "# Filtering and selecting data.\n",
    "# Applying functions (apply(), map(), groupby()).\n",
    "# Aggregation (sum(), mean(), count()).\n",
    "\n",
    "# 5.Integration with Other Libraries:\n",
    "# Works well with NumPy, Matplotlib, Seaborn, and SQL databases."
   ]
  },
  {
   "cell_type": "code",
   "execution_count": 4,
   "id": "6d729a8e",
   "metadata": {},
   "outputs": [],
   "source": [
    "# Why Use Pandas?\n",
    "\n",
    "# Pandas allows us to analyze big data and make conclusions based on statistical theories.\n",
    "# Pandas can clean messy data sets, and make them readable and relevant.\n",
    "# Relevant data is very important in data science."
   ]
  },
  {
   "cell_type": "code",
   "execution_count": 5,
   "id": "53707e12",
   "metadata": {},
   "outputs": [],
   "source": [
    "# What Can Pandas Do?\n",
    "# Pandas gives you answers about the data. Like:\n",
    "\n",
    "# Is there a correlation between two or more columns?\n",
    "# What is average value?\n",
    "# Max value?\n",
    "# Min value?\n",
    "# Pandas are also able to delete rows that are not relevant, or contains wrong values, like empty or NULL values. This is called cleaning the data."
   ]
  },
  {
   "cell_type": "markdown",
   "id": "fab93fd1",
   "metadata": {},
   "source": [
    "# Series "
   ]
  },
  {
   "cell_type": "code",
   "execution_count": 6,
   "id": "7efb0819",
   "metadata": {},
   "outputs": [],
   "source": [
    "# A Pandas Series is a one-dimensional labeled array that can hold data of any type (integer, float, string, or objects).\n",
    "# It is similar to a column in an Excel sheet or a NumPy array, but with labels (index) for each element.\n",
    "\n",
    "# A Pandas Series is like a column in a table.\n",
    "# It is a one-dimensional array holding data of any type."
   ]
  },
  {
   "cell_type": "code",
   "execution_count": 8,
   "id": "d38b460a",
   "metadata": {},
   "outputs": [],
   "source": [
    "# Creating a Pandas Series\n",
    "# You can create a Series using pd.Series() from: \n",
    "# 1. A Python list\n",
    "# 2. A NumPy array\n",
    "# 3. A Dictionary\n",
    "# 4. A Scalar value"
   ]
  },
  {
   "cell_type": "code",
   "execution_count": 9,
   "id": "b38037f1",
   "metadata": {},
   "outputs": [
    {
     "name": "stdout",
     "output_type": "stream",
     "text": [
      "Requirement already satisfied: pandas in s:\\anaconda\\lib\\site-packages (2.0.3)\n",
      "Requirement already satisfied: python-dateutil>=2.8.2 in s:\\anaconda\\lib\\site-packages (from pandas) (2.8.2)\n",
      "Requirement already satisfied: pytz>=2020.1 in s:\\anaconda\\lib\\site-packages (from pandas) (2023.3.post1)\n",
      "Requirement already satisfied: tzdata>=2022.1 in s:\\anaconda\\lib\\site-packages (from pandas) (2023.3)\n",
      "Requirement already satisfied: numpy>=1.21.0 in s:\\anaconda\\lib\\site-packages (from pandas) (1.24.3)\n",
      "Requirement already satisfied: six>=1.5 in s:\\anaconda\\lib\\site-packages (from python-dateutil>=2.8.2->pandas) (1.16.0)\n"
     ]
    }
   ],
   "source": [
    "!pip install pandas "
   ]
  },
  {
   "cell_type": "markdown",
   "id": "1f0ed10f",
   "metadata": {},
   "source": [
    "# pd.Series() Method "
   ]
  },
  {
   "cell_type": "code",
   "execution_count": 11,
   "id": "7321d1f1",
   "metadata": {},
   "outputs": [],
   "source": [
    "# The pd.Series() method is used to create a Pandas Series,\n",
    "# a one-dimensional labeled array that can store data of any type (integers, floats, strings, objects, etc.).\n",
    "\n",
    "# Syntax:\n",
    "# pd.Series(data=None, index=None, dtype=None, name=None, copy=False, fastpath=False)\n",
    "\n",
    "# Parameters:\n",
    "# data\tThe data for the Series (list, NumPy array, dictionary, scalar, etc.).\n",
    "# index\tThe labels for the Series (must be the same length as data).\n",
    "# dtype\tSpecifies the data type (e.g., int, float, str).\n",
    "# name\tAssigns a name to the Series.\n",
    "# copy\tIf True, forces a copy of data even if it's already a Series.\n",
    "# fastpath\tInternal parameter (not used by users)."
   ]
  },
  {
   "cell_type": "markdown",
   "id": "2f483a63",
   "metadata": {},
   "source": [
    "# 1.data Parameter"
   ]
  },
  {
   "cell_type": "code",
   "execution_count": 15,
   "id": "e5d540f5",
   "metadata": {},
   "outputs": [],
   "source": [
    "# You can create a Series from: \n",
    "# 1. A list\n",
    "# 2. A NumPy array\n",
    "# 3. A dictionary\n",
    "# 4. A scalar value"
   ]
  },
  {
   "cell_type": "code",
   "execution_count": 20,
   "id": "18baf1dc",
   "metadata": {},
   "outputs": [
    {
     "name": "stdout",
     "output_type": "stream",
     "text": [
      "0    10\n",
      "1    20\n",
      "2    30\n",
      "3    40\n",
      "dtype: int64\n",
      "<class 'pandas.core.series.Series'>\n"
     ]
    }
   ],
   "source": [
    "# Creating Series from the list.\n",
    "import pandas as pd\n",
    "l1 = [10,20,30,40]\n",
    "s1 = pd.Series(l1)\n",
    "print(s1)\n",
    "print(type(s1))\n",
    "# The index is automatically assigned (0,1,2,3).\n"
   ]
  },
  {
   "cell_type": "code",
   "execution_count": 21,
   "id": "1f533d31",
   "metadata": {},
   "outputs": [
    {
     "name": "stdout",
     "output_type": "stream",
     "text": [
      "0    10\n",
      "1    20\n",
      "2    30\n",
      "3    40\n",
      "dtype: int32\n"
     ]
    }
   ],
   "source": [
    "# Creating Series from the numpy\n",
    "import numpy as np\n",
    "arr1 = np.array([10,20,30,40])\n",
    "s1 = pd.Series(arr1)\n",
    "print(s1)\n",
    "# The dtype is automatically detected."
   ]
  },
  {
   "cell_type": "code",
   "execution_count": 27,
   "id": "3b2d4720",
   "metadata": {},
   "outputs": [
    {
     "name": "stdout",
     "output_type": "stream",
     "text": [
      "name         GOGO\n",
      "role    Developer\n",
      "dtype: object\n"
     ]
    }
   ],
   "source": [
    "# Creating Series from dictionary\n",
    "d1 = {'name':'GOGO','role':'Developer'}\n",
    "s1 = pd.Series(d1)\n",
    "print(s1)"
   ]
  },
  {
   "cell_type": "code",
   "execution_count": 30,
   "id": "74e75831",
   "metadata": {},
   "outputs": [
    {
     "name": "stdout",
     "output_type": "stream",
     "text": [
      "A    5\n",
      "B    5\n",
      "C    5\n",
      "dtype: int64\n"
     ]
    }
   ],
   "source": [
    "# Creating Series from Scalar\n",
    "s1 = pd.Series(5,index=['A','B','C'])\n",
    "print(s1)\n",
    "\n",
    "#  Repeats the scalar for each index."
   ]
  },
  {
   "cell_type": "markdown",
   "id": "271df70a",
   "metadata": {},
   "source": [
    "# 2.index Parameter (Custom Index Labels)"
   ]
  },
  {
   "cell_type": "code",
   "execution_count": 31,
   "id": "530c4a17",
   "metadata": {},
   "outputs": [],
   "source": [
    "# You can customize the index instead of using default numbers."
   ]
  },
  {
   "cell_type": "code",
   "execution_count": 33,
   "id": "78aa9a17",
   "metadata": {},
   "outputs": [
    {
     "name": "stdout",
     "output_type": "stream",
     "text": [
      "A    10\n",
      "B    20\n",
      "C    30\n",
      "dtype: int64\n"
     ]
    }
   ],
   "source": [
    "s1 = pd.Series([10,20,30],index=['A','B','C'])\n",
    "print(s1)\n",
    "# The index is now A, B, C instead of 0,1,2."
   ]
  },
  {
   "cell_type": "markdown",
   "id": "bc3b0477",
   "metadata": {},
   "source": [
    "# 3.dtype Parameter (Specifying Data Type)"
   ]
  },
  {
   "cell_type": "code",
   "execution_count": 34,
   "id": "2e9919f3",
   "metadata": {},
   "outputs": [],
   "source": [
    "# You can define the data type explicitly."
   ]
  },
  {
   "cell_type": "code",
   "execution_count": 36,
   "id": "36f72813",
   "metadata": {},
   "outputs": [
    {
     "name": "stdout",
     "output_type": "stream",
     "text": [
      "0    10.0\n",
      "1    20.0\n",
      "2    30.0\n",
      "3    40.0\n",
      "dtype: float32\n",
      "<class 'pandas.core.series.Series'>\n"
     ]
    }
   ],
   "source": [
    "s1 = pd.Series([10,20,30,40],dtype='float32')\n",
    "print(s1)\n",
    "print(type(s1))\n",
    "# Forces the data to be stored as float32 instead of int64."
   ]
  },
  {
   "cell_type": "markdown",
   "id": "5e8efb76",
   "metadata": {},
   "source": [
    "# 4.name Parameter (Assigning a Name to the Series)"
   ]
  },
  {
   "cell_type": "code",
   "execution_count": 37,
   "id": "c0502572",
   "metadata": {},
   "outputs": [],
   "source": [
    "# You can give the Series a name for better readability."
   ]
  },
  {
   "cell_type": "code",
   "execution_count": 40,
   "id": "c0a39bac",
   "metadata": {},
   "outputs": [
    {
     "name": "stdout",
     "output_type": "stream",
     "text": [
      "A    10\n",
      "B    20\n",
      "C    30\n",
      "D    40\n",
      "Name: Values, dtype: int64\n",
      "<class 'pandas.core.series.Series'>\n"
     ]
    }
   ],
   "source": [
    "s1 = pd.Series([10,20,30,40],index=['A','B','C','D'],name='Values')\n",
    "print(s1)\n",
    "print(type(s1))\n",
    "\n",
    "# Easier Identification in DataFrames\n",
    "# When you convert a Series into a DataFrame or use it in a DataFrame, the name becomes the column name."
   ]
  },
  {
   "cell_type": "markdown",
   "id": "d348d796",
   "metadata": {},
   "source": [
    "# 5.copy Parameter (Forcing a Copy)"
   ]
  },
  {
   "cell_type": "code",
   "execution_count": 41,
   "id": "d2ed404a",
   "metadata": {},
   "outputs": [],
   "source": [
    "# If copy=True, a new copy of the data is created even if data is already a Series."
   ]
  },
  {
   "cell_type": "code",
   "execution_count": null,
   "id": "9802411f",
   "metadata": {},
   "outputs": [],
   "source": [
    "# Here we haven't use copy parameter true.\n",
    "s1 = pd.Series([10,20,30],index=['A','B','C'])\n",
    "s2 = pd.Series(s1)\n",
    "print(s1)\n",
    "print(s2)\n",
    "print()\n",
    "\n",
    "print(\"Changed Series\")\n",
    "s2['A'] = 1000\n",
    "print(s1)\n",
    "print(s2)"
   ]
  },
  {
   "cell_type": "markdown",
   "id": "4d32c1e4",
   "metadata": {},
   "source": [
    "# Properties of a Pandas Series"
   ]
  },
  {
   "cell_type": "code",
   "execution_count": null,
   "id": "d99ceeb1",
   "metadata": {},
   "outputs": [],
   "source": [
    "# It has several built-in properties that provide information about its structure and contents"
   ]
  },
  {
   "cell_type": "markdown",
   "id": "8eb0011f",
   "metadata": {},
   "source": [
    "# 1. s.index (Index Labels)"
   ]
  },
  {
   "cell_type": "code",
   "execution_count": 49,
   "id": "4f40c810",
   "metadata": {},
   "outputs": [
    {
     "name": "stdout",
     "output_type": "stream",
     "text": [
      "A    10\n",
      "B    20\n",
      "C    30\n",
      "dtype: int64\n",
      "Index(['A', 'B', 'C'], dtype='object')\n",
      "<class 'pandas.core.indexes.base.Index'>\n"
     ]
    }
   ],
   "source": [
    "# The .index property returns the index labels of the Series.\n",
    "s1 = pd.Series([10,20,30],['A','B','C'])\n",
    "print(s1)\n",
    "print(s1.index)\n",
    "print(type(s1.index))\n",
    "\n",
    "# Extracts the raw data as a NumPy array."
   ]
  },
  {
   "cell_type": "markdown",
   "id": "49823e4d",
   "metadata": {},
   "source": [
    "# 2. s.values (Array of Values)"
   ]
  },
  {
   "cell_type": "code",
   "execution_count": 51,
   "id": "39bb0979",
   "metadata": {},
   "outputs": [
    {
     "name": "stdout",
     "output_type": "stream",
     "text": [
      "A    10\n",
      "B    20\n",
      "C    30\n",
      "dtype: int64\n",
      "[10 20 30]\n",
      "<class 'numpy.ndarray'>\n"
     ]
    }
   ],
   "source": [
    "# The .values property returns the underlying NumPy array of the Series.\n",
    "s1 = pd.Series([10,20,30],['A','B','C'])\n",
    "print(s1)\n",
    "print(s1.values)\n",
    "print(type(s1.values))\n",
    "\n",
    "# Extracts the raw data as a NumPy array."
   ]
  },
  {
   "cell_type": "markdown",
   "id": "194fbf31",
   "metadata": {},
   "source": [
    "# 3. s.dtype (Data Type)"
   ]
  },
  {
   "cell_type": "code",
   "execution_count": 54,
   "id": "18190330",
   "metadata": {},
   "outputs": [
    {
     "name": "stdout",
     "output_type": "stream",
     "text": [
      "A    10\n",
      "B    20\n",
      "C    30\n",
      "dtype: int64\n",
      "int64\n",
      "<class 'numpy.dtype[int64]'>\n"
     ]
    }
   ],
   "source": [
    "# The .dtype property returns the data type of the Series elements.\n",
    "s1 = pd.Series([10,20,30],['A','B','C'])\n",
    "print(s1)\n",
    "print(s1.dtype)\n",
    "print(type(s1.dtype))\n",
    "\n",
    "#  Shows that the Series stores integers (int64)."
   ]
  },
  {
   "cell_type": "markdown",
   "id": "3e9f8074",
   "metadata": {},
   "source": [
    "# 4. s.shape (Shape of the Series)"
   ]
  },
  {
   "cell_type": "code",
   "execution_count": 55,
   "id": "c47df2f5",
   "metadata": {},
   "outputs": [
    {
     "name": "stdout",
     "output_type": "stream",
     "text": [
      "A    10\n",
      "B    20\n",
      "C    30\n",
      "dtype: int64\n",
      "(3,)\n",
      "<class 'tuple'>\n"
     ]
    }
   ],
   "source": [
    "\n",
    "# The .shape property returns the dimensions of the Series as a tuple.\n",
    "\n",
    "s1 = pd.Series([10,20,30],['A','B','C'])\n",
    "print(s1)\n",
    "print(s1.shape)\n",
    "print(type(s1.shape))\n"
   ]
  },
  {
   "cell_type": "markdown",
   "id": "eba2fe3a",
   "metadata": {},
   "source": [
    "# 5. s.size (Number of Element)."
   ]
  },
  {
   "cell_type": "code",
   "execution_count": 56,
   "id": "c9bf4d0d",
   "metadata": {},
   "outputs": [
    {
     "name": "stdout",
     "output_type": "stream",
     "text": [
      "A    10\n",
      "B    20\n",
      "C    30\n",
      "dtype: int64\n",
      "3\n",
      "<class 'int'>\n"
     ]
    }
   ],
   "source": [
    "# The .size property returns the total number of elements in the Series.\n",
    "s1 = pd.Series([10,20,30],['A','B','C'])\n",
    "print(s1)\n",
    "print(s1.size)\n",
    "print(type(s1.size))\n"
   ]
  },
  {
   "cell_type": "markdown",
   "id": "0f44aee8",
   "metadata": {},
   "source": [
    "# 6. s.ndim (Number of Dimensions)"
   ]
  },
  {
   "cell_type": "code",
   "execution_count": 57,
   "id": "cfa3b3f6",
   "metadata": {},
   "outputs": [
    {
     "name": "stdout",
     "output_type": "stream",
     "text": [
      "A    10\n",
      "B    20\n",
      "C    30\n",
      "dtype: int64\n",
      "1\n",
      "<class 'int'>\n"
     ]
    }
   ],
   "source": [
    "# The .ndim property returns the number of dimensions of the Series.\n",
    "\n",
    "s1 = pd.Series([10,20,30],['A','B','C'])\n",
    "print(s1)\n",
    "print(s1.ndim)\n",
    "print(type(s1.ndim))\n"
   ]
  },
  {
   "cell_type": "markdown",
   "id": "41649bf7",
   "metadata": {},
   "source": [
    "# 7. s.empty (Check if Series is Empty)"
   ]
  },
  {
   "cell_type": "code",
   "execution_count": 58,
   "id": "8d765159",
   "metadata": {},
   "outputs": [
    {
     "name": "stdout",
     "output_type": "stream",
     "text": [
      "A    10\n",
      "B    20\n",
      "C    30\n",
      "dtype: int64\n",
      "False\n",
      "<class 'bool'>\n"
     ]
    }
   ],
   "source": [
    "# The .empty property checks whether the Series has any elements.\n",
    "\n",
    "s1 = pd.Series([10,20,30],['A','B','C'])\n",
    "print(s1)\n",
    "print(s1.empty)\n",
    "print(type(s1.empty))\n"
   ]
  },
  {
   "cell_type": "markdown",
   "id": "86f9674f",
   "metadata": {},
   "source": [
    "# 8. s.name (Series Name)"
   ]
  },
  {
   "cell_type": "code",
   "execution_count": 60,
   "id": "2c7e6ecd",
   "metadata": {},
   "outputs": [
    {
     "name": "stdout",
     "output_type": "stream",
     "text": [
      "A    10\n",
      "B    20\n",
      "C    30\n",
      "dtype: int64\n",
      "Data\n"
     ]
    }
   ],
   "source": [
    "# The .name property returns or sets the name of the Series.\n",
    "\n",
    "s1 = pd.Series([10,20,30],['A','B','C'])\n",
    "print(s1)\n",
    "s1.name = 'Data'\n",
    "print(s1.name)"
   ]
  },
  {
   "cell_type": "markdown",
   "id": "1228957f",
   "metadata": {},
   "source": [
    "# 9. s.hasnans (Check for Missing Values)"
   ]
  },
  {
   "cell_type": "code",
   "execution_count": 61,
   "id": "57499510",
   "metadata": {},
   "outputs": [
    {
     "name": "stdout",
     "output_type": "stream",
     "text": [
      "A    10.0\n",
      "B     NaN\n",
      "C    30.0\n",
      "dtype: float64\n",
      "True\n",
      "<class 'pandas.core.series.Series'>\n"
     ]
    }
   ],
   "source": [
    "# The .hasnans property returns True if the Series contains any missing (NaN) values.\n",
    "\n",
    "s1 = pd.Series([10,None,30],['A','B','C'])\n",
    "print(s1)\n",
    "print(s1.hasnans)\n",
    "print(type(s1))"
   ]
  },
  {
   "cell_type": "markdown",
   "id": "6cc8034e",
   "metadata": {},
   "source": [
    "# All Pandas Series Methods"
   ]
  },
  {
   "cell_type": "code",
   "execution_count": 1,
   "id": "41d647ed",
   "metadata": {},
   "outputs": [],
   "source": [
    "# A Pandas Series is a 1D labeled array that provides various built-in methods\n",
    "# for data manipulation, mathematical operations, and analysis."
   ]
  },
  {
   "cell_type": "markdown",
   "id": "549328d4",
   "metadata": {},
   "source": [
    "# Data Manipulation Methods"
   ]
  },
  {
   "cell_type": "markdown",
   "id": "3ae3d6e3",
   "metadata": {},
   "source": [
    "# 1.Series.copy(deep=True)"
   ]
  },
  {
   "cell_type": "code",
   "execution_count": 2,
   "id": "3573b1ed",
   "metadata": {},
   "outputs": [],
   "source": [
    "# Creates a copy of the Series.\n",
    "\n",
    "# Parameter\tDescription\tDefault\n",
    "# deep\tIf True, creates a deep copy\tTrue"
   ]
  },
  {
   "cell_type": "code",
   "execution_count": 5,
   "id": "141fe74e",
   "metadata": {},
   "outputs": [
    {
     "name": "stdout",
     "output_type": "stream",
     "text": [
      "Original Series\n",
      "A    1\n",
      "B    2\n",
      "C    3\n",
      "dtype: int64\n",
      "\n",
      "Copied Series\n",
      "A    1\n",
      "B    2\n",
      "C    3\n",
      "dtype: int64\n"
     ]
    }
   ],
   "source": [
    "import pandas as pd\n",
    "\n",
    "s1 =  pd.Series([1,2,3],index=['A','B','C'])\n",
    "s2 = s1.copy()\n",
    "print(\"Original Series\")\n",
    "print(s1)\n",
    "print()\n",
    "\n",
    "print(\"Copied Series\")\n",
    "print(s2)"
   ]
  },
  {
   "cell_type": "markdown",
   "id": "94c22d40",
   "metadata": {},
   "source": [
    "# 2.Series.astype(dtype, copy=True, errors='raise')"
   ]
  },
  {
   "cell_type": "code",
   "execution_count": 10,
   "id": "0bb5aaa4",
   "metadata": {},
   "outputs": [
    {
     "name": "stdout",
     "output_type": "stream",
     "text": [
      "Original Series\n",
      "0    10\n",
      "1    20\n",
      "2    30\n",
      "dtype: int64\n",
      "\n",
      "Changed Series\n",
      "0    10.0\n",
      "1    20.0\n",
      "2    30.0\n",
      "dtype: float64\n"
     ]
    }
   ],
   "source": [
    "# Converts the Series data type element to another different data type.\n",
    "# Return the new series.\n",
    "\n",
    "s1 = pd.Series([10,20,30])\n",
    "s2 = s1.astype(float)\n",
    "print(\"Original Series\")\n",
    "print(s1)\n",
    "print()\n",
    "\n",
    "print(\"Changed Series\")\n",
    "print(s2)"
   ]
  },
  {
   "cell_type": "markdown",
   "id": "2cf0d53e",
   "metadata": {},
   "source": [
    "# 3.Series.replace(to_replace, value, inplace=False, limit=None)"
   ]
  },
  {
   "cell_type": "code",
   "execution_count": 17,
   "id": "8b56269f",
   "metadata": {},
   "outputs": [],
   "source": [
    "# Replaces values in the Series.\n",
    "# Bydefault return the new Series with the replaced values.\n",
    "\n",
    "# Parameter\tDescription\tDefault\n",
    "# to_replace\tValue(s) to replace\tRequired\n",
    "# value\tNew value(s)\tRequired\n",
    "# inplace\tModify in place\tFalse\n",
    "# limit\tMax number of replacements per column\tNone."
   ]
  },
  {
   "cell_type": "code",
   "execution_count": 31,
   "id": "b29ec4c4",
   "metadata": {},
   "outputs": [
    {
     "name": "stdout",
     "output_type": "stream",
     "text": [
      "A    1\n",
      "B    2\n",
      "C    3\n",
      "D    4\n",
      "E    5\n",
      "F    6\n",
      "G    5\n",
      "H    2\n",
      "dtype: int64\n",
      "A     1\n",
      "B    99\n",
      "C     3\n",
      "D     4\n",
      "E     5\n",
      "F     6\n",
      "G     5\n",
      "H    99\n",
      "dtype: int64\n"
     ]
    }
   ],
   "source": [
    "# i.Using to_replace and value.\n",
    "\n",
    "s1 = pd.Series([1,2,3,4,5,6,5,2],index=['A','B','C','D','E','F','G','H'])\n",
    "s2 = s1.replace(2,99)\n",
    "print(s1)\n",
    "print(s2)\n",
    "# Bydefault replace to_replace element with new element"
   ]
  },
  {
   "cell_type": "code",
   "execution_count": 32,
   "id": "27ad3feb",
   "metadata": {},
   "outputs": [
    {
     "name": "stdout",
     "output_type": "stream",
     "text": [
      "A     1\n",
      "B    99\n",
      "C     3\n",
      "D     4\n",
      "E     5\n",
      "F     6\n",
      "G     5\n",
      "H    99\n",
      "dtype: int64\n"
     ]
    }
   ],
   "source": [
    "# ii Using inplace parameter.\n",
    "s1 = pd.Series([1,2,3,4,5,6,5,2],index=['A','B','C','D','E','F','G','H'])\n",
    "s1.replace(2,99,inplace=True)\n",
    "print(s1)"
   ]
  },
  {
   "cell_type": "code",
   "execution_count": 35,
   "id": "db73cb1a",
   "metadata": {},
   "outputs": [
    {
     "name": "stdout",
     "output_type": "stream",
     "text": [
      "0     10\n",
      "1     99\n",
      "2     30\n",
      "3     40\n",
      "4     10\n",
      "5     10\n",
      "6     99\n",
      "7     40\n",
      "8     99\n",
      "9     10\n",
      "10    99\n",
      "11    99\n",
      "dtype: int64\n"
     ]
    }
   ],
   "source": [
    "# iii. Using limit parameter\n",
    "s1 = pd.Series([10,20,30,40,10,10,20,40,20,10,20,20])\n",
    "s2 = s1.replace(20,99,limit=1)\n",
    "print(s2)\n",
    "\n",
    "# Still replaces all."
   ]
  },
  {
   "cell_type": "markdown",
   "id": "61c67e87",
   "metadata": {},
   "source": [
    "# 4.Series.drop(labels, axis=0, inplace=False, errors='raise')"
   ]
  },
  {
   "cell_type": "code",
   "execution_count": 36,
   "id": "1067c86e",
   "metadata": {},
   "outputs": [],
   "source": [
    "# Removes elements by index.\n",
    "\n",
    "# Parameter\tDescription\tDefault\n",
    "# labels\tIndex label(s) to drop\tRequired\n",
    "# axis\tAlways 0 for Series\t0\n",
    "# inplace\tModify in place\tFalse\n",
    "# errors\tHandle missing labels ('raise', 'ignore')\t'raise'"
   ]
  },
  {
   "cell_type": "code",
   "execution_count": 40,
   "id": "73d9013a",
   "metadata": {},
   "outputs": [
    {
     "name": "stdout",
     "output_type": "stream",
     "text": [
      "Original Array\n",
      "A    10\n",
      "B    20\n",
      "C    30\n",
      "D    40\n",
      "dtype: int64\n",
      "\n",
      "New Array\n",
      "A    10\n",
      "C    30\n",
      "D    40\n",
      "dtype: int64\n"
     ]
    }
   ],
   "source": [
    "# i.Using Label \n",
    "s1 = pd.Series([10,20,30,40],index=['A','B','C','D'])\n",
    "s2 = s1.drop('B')\n",
    "print(\"Original Array\")\n",
    "print(s1)\n",
    "print()\n",
    "\n",
    "print(\"New Array\")\n",
    "print(s2)"
   ]
  },
  {
   "cell_type": "code",
   "execution_count": 43,
   "id": "aad5ac8d",
   "metadata": {},
   "outputs": [
    {
     "name": "stdout",
     "output_type": "stream",
     "text": [
      "A    10\n",
      "C    30\n",
      "D    40\n",
      "dtype: int64\n"
     ]
    }
   ],
   "source": [
    "# ii. Using inplace \n",
    "s1 = pd.Series([10,20,30,40],index=['A','B','C','D'])\n",
    "s1.drop('B',inplace=True)\n",
    "print(s1)"
   ]
  },
  {
   "cell_type": "code",
   "execution_count": 51,
   "id": "440ce0bb",
   "metadata": {},
   "outputs": [
    {
     "name": "stdout",
     "output_type": "stream",
     "text": [
      "A    10\n",
      "B    20\n",
      "C    30\n",
      "D    40\n",
      "dtype: int64\n"
     ]
    }
   ],
   "source": [
    "# iii.Using error\n",
    "\n",
    "# The errors parameter in Series.drop() specifies what happens if the index label(s) you want to remove do not exist in the Series.\n",
    "# a.errors='raise' (default) → Raises a KeyError if any label is missing.\n",
    "# b.errors='ignore' → Ignores missing labels without throwing an error\n",
    "\n",
    "\n",
    "# a.ignore error\n",
    "s1 = pd.Series([10,20,30,40],index=['A','B','C','D'])\n",
    "s1.drop('Z',inplace=True,errors='ignore')\n",
    "print(s1)\n",
    "# Here Z index doesn't exist in the Series so it ignore it as we use errors=ignore"
   ]
  },
  {
   "cell_type": "markdown",
   "id": "2b36923a",
   "metadata": {},
   "source": [
    "# Statistical & Aggregation Methods"
   ]
  },
  {
   "cell_type": "markdown",
   "id": "9ad57135",
   "metadata": {},
   "source": [
    "# 1.Series.sum(axis=0, skipna=True)"
   ]
  },
  {
   "cell_type": "code",
   "execution_count": 57,
   "id": "2df59152",
   "metadata": {},
   "outputs": [
    {
     "name": "stdout",
     "output_type": "stream",
     "text": [
      "100\n"
     ]
    }
   ],
   "source": [
    "# Computes the sum of values.\n",
    "\n",
    "# Parameter\tDescription\tDefault\n",
    "# axis\tAxis (0 for Series)\t0\n",
    "# skipna\tIgnore NaN values\tTrue\n",
    "\n",
    "s1 = pd.Series([10,20,30,40],index=['A','B','C','D'])\n",
    "print(s1.sum())"
   ]
  },
  {
   "cell_type": "code",
   "execution_count": 56,
   "id": "dbffb5f3",
   "metadata": {},
   "outputs": [
    {
     "name": "stdout",
     "output_type": "stream",
     "text": [
      "100\n"
     ]
    }
   ],
   "source": [
    "# When none values are encountered it chnages data type from int to float.\n",
    "s1 = pd.Series([10,20,30,40,None],index=['A','B','C','D','E'])\n",
    "print(s1.sum(skipna=True))"
   ]
  },
  {
   "cell_type": "markdown",
   "id": "da36c4ea",
   "metadata": {},
   "source": [
    "# 2.Series.mean(axis=0, skipna=True)"
   ]
  },
  {
   "cell_type": "code",
   "execution_count": 58,
   "id": "154a1590",
   "metadata": {},
   "outputs": [
    {
     "name": "stdout",
     "output_type": "stream",
     "text": [
      "25.0\n"
     ]
    }
   ],
   "source": [
    "# Computes the mean.\n",
    "\n",
    "# Parameter\tDescription\tDefault\n",
    "# axis\tAlways 0\t0\n",
    "# skipna\tIgnore NaN values\tTrue\n",
    "\n",
    "s1 = pd.Series([10,20,30,40],index=['A','B','C','D'])\n",
    "print(s1.mean())"
   ]
  },
  {
   "cell_type": "code",
   "execution_count": 59,
   "id": "1895991e",
   "metadata": {},
   "outputs": [
    {
     "name": "stdout",
     "output_type": "stream",
     "text": [
      "25.0\n"
     ]
    }
   ],
   "source": [
    "s1 = pd.Series([10,20,30,40,None],index=['A','B','C','D','E'])\n",
    "print(s1.mean(skipna=True))"
   ]
  },
  {
   "cell_type": "markdown",
   "id": "f7277694",
   "metadata": {},
   "source": [
    "# 3.Series.median(axis=0, skipna=True)"
   ]
  },
  {
   "cell_type": "code",
   "execution_count": 64,
   "id": "f3945161",
   "metadata": {},
   "outputs": [],
   "source": [
    "# Computes the median.\n",
    "\n",
    "# Parameter\tDescription\tDefault\n",
    "# axis\tAlways 0\t0\n",
    "# skipna\tIgnore NaN values\tTrue"
   ]
  },
  {
   "cell_type": "code",
   "execution_count": 69,
   "id": "2188a660",
   "metadata": {},
   "outputs": [
    {
     "name": "stdout",
     "output_type": "stream",
     "text": [
      "20.0\n"
     ]
    }
   ],
   "source": [
    "s1 = pd.Series([10,20,30],index=['A','B','C'])\n",
    "print(s1.median())"
   ]
  },
  {
   "cell_type": "code",
   "execution_count": 70,
   "id": "01a98255",
   "metadata": {},
   "outputs": [
    {
     "name": "stdout",
     "output_type": "stream",
     "text": [
      "20.0\n"
     ]
    }
   ],
   "source": [
    "s1 = pd.Series([10,20,30,None],index=['A','B','C','D'])\n",
    "print(s1.median(skipna=True))"
   ]
  },
  {
   "cell_type": "markdown",
   "id": "fcafb536",
   "metadata": {},
   "source": [
    "# 4.Series.var(axis=0, ddof=1, skipna=True)"
   ]
  },
  {
   "cell_type": "code",
   "execution_count": 71,
   "id": "342c13af",
   "metadata": {},
   "outputs": [
    {
     "name": "stdout",
     "output_type": "stream",
     "text": [
      "100.0\n"
     ]
    }
   ],
   "source": [
    "# Computes the variance.\n",
    "\n",
    "# Parameter\tDescription\tDefault\n",
    "# ddof\tDelta degrees of freedom\t1\n",
    "# skipna\tIgnore NaN values\tTrue\n",
    "\n",
    "s1 = pd.Series([10,20,30],index=['A','B','C'])\n",
    "print(s1.var())"
   ]
  },
  {
   "cell_type": "code",
   "execution_count": 72,
   "id": "69b9a2a1",
   "metadata": {},
   "outputs": [
    {
     "name": "stdout",
     "output_type": "stream",
     "text": [
      "100.0\n"
     ]
    }
   ],
   "source": [
    "s1 = pd.Series([10,20,30,None],index=['A','B','C','D'])\n",
    "print(s1.var(skipna=True))"
   ]
  },
  {
   "cell_type": "markdown",
   "id": "8f17c080",
   "metadata": {},
   "source": [
    "# 5.Series.std(axis=0, ddof=1, skipna=True)"
   ]
  },
  {
   "cell_type": "code",
   "execution_count": 73,
   "id": "960a0623",
   "metadata": {},
   "outputs": [
    {
     "name": "stdout",
     "output_type": "stream",
     "text": [
      "10.0\n"
     ]
    }
   ],
   "source": [
    "# Computes the standard deviation.\n",
    "\n",
    "# Parameter\tDescription\tDefault\n",
    "# axis\tAlways 0\t0\n",
    "# skipna\tIgnore NaN values\tTrue\n",
    "\n",
    "s1 = pd.Series([10,20,30],index=['A','B','C'])\n",
    "print(s1.std())"
   ]
  },
  {
   "cell_type": "code",
   "execution_count": 75,
   "id": "dc81db8e",
   "metadata": {},
   "outputs": [
    {
     "name": "stdout",
     "output_type": "stream",
     "text": [
      "10.0\n"
     ]
    }
   ],
   "source": [
    "s1 = pd.Series([10,20,30,None],index=['A','B','C','D'])\n",
    "print(s1.std(skipna=True))"
   ]
  },
  {
   "cell_type": "markdown",
   "id": "9164ae2b",
   "metadata": {},
   "source": [
    "#  Sorting Methods"
   ]
  },
  {
   "cell_type": "markdown",
   "id": "6f3c1909",
   "metadata": {},
   "source": [
    "# 1.Series.sort_values(ascending=True, inplace=False, ignore_index=False)"
   ]
  },
  {
   "cell_type": "code",
   "execution_count": 76,
   "id": "98598318",
   "metadata": {},
   "outputs": [],
   "source": [
    "# Sorts the values.\n",
    "# Bydefault return the new Series with sorted values.\n",
    "\n",
    "# Parameter\tDescription\tDefault\n",
    "# ascending\tSort order\tTrue\n",
    "# inplace\tModify in place\tFalse\n",
    "# ignore_index\tReset index\tFalse"
   ]
  },
  {
   "cell_type": "code",
   "execution_count": 86,
   "id": "cd9beb5e",
   "metadata": {},
   "outputs": [
    {
     "name": "stdout",
     "output_type": "stream",
     "text": [
      "Original Array\n",
      "A    40\n",
      "B    50\n",
      "C    10\n",
      "D    20\n",
      "E    30\n",
      "dtype: int64\n",
      "\n",
      "Sorted Array in Ascending Order\n",
      "C    10\n",
      "D    20\n",
      "E    30\n",
      "A    40\n",
      "B    50\n",
      "dtype: int64\n",
      "\n",
      "Original Array\n",
      "A    40\n",
      "B    50\n",
      "C    10\n",
      "D    20\n",
      "E    30\n",
      "dtype: int64\n",
      "\n",
      "Sorted Array in Descending Order\n",
      "B    50\n",
      "A    40\n",
      "E    30\n",
      "D    20\n",
      "C    10\n",
      "dtype: int64\n"
     ]
    }
   ],
   "source": [
    "# i.Using ascending\n",
    "s1 = pd.Series([40,50,10,20,30],index=['A','B','C','D','E'])\n",
    "s2 = s1.sort_values(ascending=True)\n",
    "print(\"Original Array\")\n",
    "print(s1)\n",
    "print()\n",
    "\n",
    "print(\"Sorted Array in Ascending Order\")\n",
    "print(s2)\n",
    "print()\n",
    "\n",
    "print(\"Original Array\")\n",
    "print(s1)\n",
    "print()\n",
    "print(\"Sorted Array in Descending Order\")\n",
    "s2 = s1.sort_values(ascending=False)\n",
    "print(s2)\n"
   ]
  },
  {
   "cell_type": "code",
   "execution_count": 82,
   "id": "5db336db",
   "metadata": {},
   "outputs": [
    {
     "name": "stdout",
     "output_type": "stream",
     "text": [
      "C    10\n",
      "D    20\n",
      "E    30\n",
      "A    40\n",
      "B    50\n",
      "dtype: int64\n"
     ]
    }
   ],
   "source": [
    "# ii.Using inplace\n",
    "s1 = pd.Series([40,50,10,20,30],index=['A','B','C','D','E'])\n",
    "s1.sort_values(inplace=True)\n",
    "print(s1)"
   ]
  },
  {
   "cell_type": "code",
   "execution_count": 89,
   "id": "3ea85d58",
   "metadata": {},
   "outputs": [
    {
     "name": "stdout",
     "output_type": "stream",
     "text": [
      "A    40\n",
      "B    50\n",
      "C    10\n",
      "D    20\n",
      "E    30\n",
      "dtype: int64\n",
      "0    10\n",
      "1    20\n",
      "2    30\n",
      "3    40\n",
      "4    50\n",
      "dtype: int64\n"
     ]
    }
   ],
   "source": [
    "# iii. Using ignore_index\n",
    "\n",
    "# The ignore_index parameter in Series.sort_values() controls whether the original index is retained after sorting.\n",
    "# a.ignore_index=False (default) → Keeps the original index after sorting.\n",
    "# b.ignore_index=True → Resets the index to a default integer range (0, 1, 2, ...).\n",
    "\n",
    "# b. Not Keeping the original Array indexing.\n",
    "s1 = pd.Series([40,50,10,20,30],index=['A','B','C','D','E'])\n",
    "s2 = s1.sort_values(ignore_index=True)\n",
    "print(s1)\n",
    "print(s2)\n",
    "\n",
    "# When ignore_index=True, the index is reset to a sequential range (0, 1, 2, ...)."
   ]
  },
  {
   "cell_type": "markdown",
   "id": "ee0de20c",
   "metadata": {},
   "source": [
    "# 2.Series.sort_index(ascending=True, inplace=False)"
   ]
  },
  {
   "cell_type": "code",
   "execution_count": 90,
   "id": "9ea26019",
   "metadata": {},
   "outputs": [],
   "source": [
    "# Sorts by index.\n",
    "# The Series is sorted by the lables not by the values.\n",
    "\n",
    "# Parameter\tDescription\tDefault\n",
    "# ascending\tSort order\tTrue\n",
    "# inplace\tModify in place\tFalse"
   ]
  },
  {
   "cell_type": "code",
   "execution_count": 93,
   "id": "87629531",
   "metadata": {},
   "outputs": [
    {
     "name": "stdout",
     "output_type": "stream",
     "text": [
      "A    40\n",
      "B    50\n",
      "C    10\n",
      "D    20\n",
      "E    30\n",
      "dtype: int64\n",
      "E    30\n",
      "D    20\n",
      "C    10\n",
      "B    50\n",
      "A    40\n",
      "dtype: int64\n"
     ]
    }
   ],
   "source": [
    "# i.Using Ascending True \n",
    "s1 = pd.Series([40,50,10,20,30],index=['A','B','C','D','E'])\n",
    "s2 = s1.sort_index(ascending=True)\n",
    "print(s2)\n",
    "\n",
    "# Using Ascending False\n",
    "s1 = pd.Series([40,50,10,20,30],index=['A','B','C','D','E'])\n",
    "s2 = s1.sort_index(ascending=False)\n",
    "print(s2)"
   ]
  },
  {
   "cell_type": "code",
   "execution_count": 94,
   "id": "27bf5d00",
   "metadata": {},
   "outputs": [
    {
     "name": "stdout",
     "output_type": "stream",
     "text": [
      "A    40\n",
      "B    50\n",
      "C    10\n",
      "D    20\n",
      "E    30\n",
      "dtype: int64\n"
     ]
    }
   ],
   "source": [
    "# ii. Using inplace\n",
    "s1 = pd.Series([40,50,10,20,30],index=['A','B','C','D','E'])\n",
    "s1.sort_index(inplace=True)\n",
    "print(s1)"
   ]
  },
  {
   "cell_type": "markdown",
   "id": "53273b64",
   "metadata": {},
   "source": [
    "# String Operations"
   ]
  },
  {
   "cell_type": "markdown",
   "id": "47d5cc82",
   "metadata": {},
   "source": [
    "# 1.Series.str.upper()"
   ]
  },
  {
   "cell_type": "code",
   "execution_count": 95,
   "id": "56d620d9",
   "metadata": {},
   "outputs": [],
   "source": [
    "# Converts strings to uppercase.\n",
    "# Return the new Series with all the alphabets in Upper Case."
   ]
  },
  {
   "cell_type": "code",
   "execution_count": 98,
   "id": "1ba459c6",
   "metadata": {},
   "outputs": [
    {
     "name": "stdout",
     "output_type": "stream",
     "text": [
      "0    HELLO\n",
      "1    WORLD\n",
      "dtype: object\n",
      "0    Hello\n",
      "1    World\n",
      "dtype: object\n"
     ]
    }
   ],
   "source": [
    "s1 = pd.Series(['Hello','World'])\n",
    "s2 = s1.str.upper()\n",
    "print(s2)"
   ]
  },
  {
   "cell_type": "markdown",
   "id": "74359285",
   "metadata": {},
   "source": [
    "# 2.Series.str.contains(pattern, case=True, na=False)"
   ]
  },
  {
   "cell_type": "code",
   "execution_count": 100,
   "id": "b5f26bc2",
   "metadata": {},
   "outputs": [
    {
     "name": "stdout",
     "output_type": "stream",
     "text": [
      "0    False\n",
      "1     True\n",
      "2    False\n",
      "dtype: bool\n"
     ]
    }
   ],
   "source": [
    "# Checks if strings contain a pattern.\n",
    "# Return the Series containing boolean values.\n",
    "\n",
    "# Parameter\tDescription\tDefault\n",
    "# pattern\tString or regex pattern\tRequired\n",
    "# case\tCase-sensitive match\tTrue\n",
    "# na\tValue for missing data\tFalse\n",
    "\n",
    "s = pd.Series([\"apple\", \"banana\", \"cherry\"])\n",
    "print(s.str.contains(\"an\"))"
   ]
  },
  {
   "cell_type": "markdown",
   "id": "b19884c4",
   "metadata": {},
   "source": [
    "# Missing Data Handling"
   ]
  },
  {
   "cell_type": "markdown",
   "id": "6043f875",
   "metadata": {},
   "source": [
    "# 1.Series.isnull()"
   ]
  },
  {
   "cell_type": "code",
   "execution_count": 101,
   "id": "f674c39e",
   "metadata": {},
   "outputs": [
    {
     "name": "stdout",
     "output_type": "stream",
     "text": [
      "0    False\n",
      "1     True\n",
      "2    False\n",
      "dtype: bool\n"
     ]
    }
   ],
   "source": [
    "# Checks for missing values.\n",
    "# Return new Series that contains the True for the index that contains None value else False.\n",
    "s1 = pd.Series([10,None,20])\n",
    "s2 = s1.isnull()\n",
    "print(s2)"
   ]
  },
  {
   "cell_type": "markdown",
   "id": "0116b501",
   "metadata": {},
   "source": [
    "# 2.Series.fillna(value, inplace=False)"
   ]
  },
  {
   "cell_type": "code",
   "execution_count": 107,
   "id": "53a77ab4",
   "metadata": {},
   "outputs": [
    {
     "name": "stdout",
     "output_type": "stream",
     "text": [
      "0    10.0\n",
      "1    20.0\n",
      "2     0.0\n",
      "3    30.0\n",
      "4    40.0\n",
      "5     0.0\n",
      "dtype: float64\n"
     ]
    }
   ],
   "source": [
    "# Fills NaN values.\n",
    "# Return the new Series in which none is replace with passed value.\n",
    "\n",
    "# Parameter\tDescription\tDefault\n",
    "# value\tReplacement value\tRequired\n",
    "# inplace\tModify in place\tFalse\n",
    "\n",
    "s1 = pd.Series([10,20,None,30,40,None])\n",
    "s2 = s1.fillna(0)\n",
    "print(s2)"
   ]
  },
  {
   "cell_type": "markdown",
   "id": "814f6ca0",
   "metadata": {},
   "source": [
    "# 3.Series.dropna(inplace=False)"
   ]
  },
  {
   "cell_type": "code",
   "execution_count": 114,
   "id": "4dbde941",
   "metadata": {},
   "outputs": [
    {
     "name": "stdout",
     "output_type": "stream",
     "text": [
      "0    1.0\n",
      "2    3.0\n",
      "dtype: float64\n",
      "0    1.0\n",
      "1    2.0\n",
      "2    3.0\n",
      "4    4.0\n",
      "5    5.0\n",
      "dtype: float64\n"
     ]
    }
   ],
   "source": [
    "# Removes NaN values.\n",
    "\n",
    "s1 = pd.Series([1, None, 3])\n",
    "s2 = s1.dropna()\n",
    "print(s2)\n",
    "\n",
    "# Using inplace\n",
    "s1 = pd.Series([1,2,3,None,4,5,None])\n",
    "s1.dropna(inplace=True)\n",
    "print(s1)"
   ]
  },
  {
   "cell_type": "markdown",
   "id": "19883ce9",
   "metadata": {},
   "source": [
    "# Indexing in Series"
   ]
  },
  {
   "cell_type": "code",
   "execution_count": 115,
   "id": "8cbd9bac",
   "metadata": {},
   "outputs": [],
   "source": [
    "# Indexing in a Pandas Series refers to accessing and manipulating elements using labels or positions."
   ]
  },
  {
   "cell_type": "code",
   "execution_count": 117,
   "id": "40068190",
   "metadata": {},
   "outputs": [
    {
     "name": "stdout",
     "output_type": "stream",
     "text": [
      "10\n"
     ]
    }
   ],
   "source": [
    "# 1.Default Indexing\n",
    "# By default, Pandas assigns integer indices (0, 1, 2, ...) to Series elements.\n",
    "\n",
    "s1 = pd.Series([10,20,30,40])\n",
    "print(s1[0])\n",
    "\n",
    "# The default index is 0, 1, 2, 3.\n",
    "# You can access elements using these indices."
   ]
  },
  {
   "cell_type": "code",
   "execution_count": 121,
   "id": "d2f5a810",
   "metadata": {},
   "outputs": [
    {
     "name": "stdout",
     "output_type": "stream",
     "text": [
      "10\n",
      "20\n",
      "30\n",
      "40\n"
     ]
    }
   ],
   "source": [
    "# 2. Custom Indexing\n",
    "# You can define a custom index (labels) instead of the default integers.\n",
    "s1 = pd.Series([10,20,30,40],index=['A','B','C','D'])\n",
    "print(s1['A'])\n",
    "print(s1['B'])\n",
    "print(s1['C'])\n",
    "print(s1['D'])"
   ]
  },
  {
   "cell_type": "code",
   "execution_count": 123,
   "id": "58cc5051",
   "metadata": {},
   "outputs": [
    {
     "name": "stdout",
     "output_type": "stream",
     "text": [
      "10\n",
      "20\n",
      "30\n",
      "40\n"
     ]
    }
   ],
   "source": [
    "# 3 Positional Indexing (Using iloc)\n",
    "# Pandas provides integer-based indexing using .iloc[].\n",
    "print(s1.iloc[0])\n",
    "print(s1.iloc[1])\n",
    "print(s1.iloc[2])\n",
    "print(s1.iloc[3])\n",
    "\n",
    "# .iloc[n] → Retrieves the element at position n (like a list).\n",
    "\n"
   ]
  },
  {
   "cell_type": "code",
   "execution_count": 124,
   "id": "7256f598",
   "metadata": {},
   "outputs": [
    {
     "name": "stdout",
     "output_type": "stream",
     "text": [
      "10\n",
      "20\n",
      "30\n",
      "40\n"
     ]
    }
   ],
   "source": [
    "# 4.Label-Based Indexing (Using loc)\n",
    "# If your Series has a custom index, you can access values using .loc[].\n",
    "print(s1.loc['A'])\n",
    "print(s1.loc['B'])\n",
    "print(s1.loc['C'])\n",
    "print(s1.loc['D'])\n"
   ]
  },
  {
   "cell_type": "code",
   "execution_count": 129,
   "id": "bb5149df",
   "metadata": {},
   "outputs": [
    {
     "name": "stdout",
     "output_type": "stream",
     "text": [
      "A    10\n",
      "B    20\n",
      "C    30\n",
      "D    40\n",
      "dtype: int64\n"
     ]
    }
   ],
   "source": [
    "# 5.Boolean Indexing\n",
    "# You can filter values based on a condition.\n",
    "print(s1[s1>5])"
   ]
  },
  {
   "cell_type": "code",
   "execution_count": 131,
   "id": "ce9530cf",
   "metadata": {},
   "outputs": [
    {
     "name": "stdout",
     "output_type": "stream",
     "text": [
      "40\n",
      "30\n",
      "20\n",
      "10\n"
     ]
    }
   ],
   "source": [
    "# 6. Negative Indexing\n",
    "# Pandas does support negative indexing like Python lists. \n",
    "# And you can use .iloc[] for negative indexing also\n",
    "\n",
    "print(s1[-1])\n",
    "print(s1[-2])\n",
    "print(s1[-3])\n",
    "print(s1[-4])"
   ]
  },
  {
   "cell_type": "markdown",
   "id": "ee2beba3",
   "metadata": {},
   "source": [
    "# Slicing in Pandas Series"
   ]
  },
  {
   "cell_type": "code",
   "execution_count": 136,
   "id": "70d6475d",
   "metadata": {},
   "outputs": [
    {
     "name": "stdout",
     "output_type": "stream",
     "text": [
      "0    10\n",
      "1    20\n",
      "2    30\n",
      "3    40\n",
      "dtype: int64\n",
      "<class 'pandas.core.series.Series'>\n"
     ]
    }
   ],
   "source": [
    "# 1.Slicing Using Default Indexing (Integer-Based)\n",
    "# If the Series has the default numeric index (0, 1, 2,...), we can use Python-style slicing.\n",
    "s1 = pd.Series([10,20,30,40])\n",
    "print(s1[:])\n",
    "print(type(s1[:]))"
   ]
  },
  {
   "cell_type": "code",
   "execution_count": 137,
   "id": "c67a69ac",
   "metadata": {},
   "outputs": [
    {
     "name": "stdout",
     "output_type": "stream",
     "text": [
      "0    10\n",
      "1    20\n",
      "2    30\n",
      "3    40\n",
      "dtype: int64\n",
      "<class 'pandas.core.series.Series'>\n"
     ]
    }
   ],
   "source": [
    "print(s1[:s1.size])\n",
    "print(type(s1[:s1.size]))"
   ]
  },
  {
   "cell_type": "code",
   "execution_count": 138,
   "id": "1afd8f7f",
   "metadata": {},
   "outputs": [
    {
     "name": "stdout",
     "output_type": "stream",
     "text": [
      "0    10\n",
      "1    20\n",
      "2    30\n",
      "3    40\n",
      "dtype: int64\n",
      "<class 'pandas.core.series.Series'>\n"
     ]
    }
   ],
   "source": [
    "print(s1[0:])\n",
    "print(type(s1[0:]))"
   ]
  },
  {
   "cell_type": "code",
   "execution_count": 139,
   "id": "f2940d01",
   "metadata": {},
   "outputs": [
    {
     "name": "stdout",
     "output_type": "stream",
     "text": [
      "0    10\n",
      "1    20\n",
      "2    30\n",
      "dtype: int64\n",
      "<class 'pandas.core.series.Series'>\n"
     ]
    }
   ],
   "source": [
    "print(s1[0:3])\n",
    "print(type(s1[0:3]))"
   ]
  },
  {
   "cell_type": "code",
   "execution_count": 142,
   "id": "76cdd2ea",
   "metadata": {},
   "outputs": [
    {
     "name": "stdout",
     "output_type": "stream",
     "text": [
      "A    10\n",
      "B    20\n",
      "C    30\n",
      "D    40\n",
      "dtype: int64\n"
     ]
    }
   ],
   "source": [
    "# 2.Slicing Using Custom Indexing (Label-Based)\n",
    "# If the Series has custom labels, slicing will include the endpoint.\n",
    "\n",
    "s1 = pd.Series([10,20,30,40],index=['A','B','C','D'])\n",
    "print(s1[:])"
   ]
  },
  {
   "cell_type": "code",
   "execution_count": 144,
   "id": "ec29d891",
   "metadata": {},
   "outputs": [
    {
     "name": "stdout",
     "output_type": "stream",
     "text": [
      "A    10\n",
      "B    20\n",
      "C    30\n",
      "D    40\n",
      "dtype: int64\n"
     ]
    }
   ],
   "source": [
    "print(s1['A':'D'])\n",
    "# Unlike default indexing, slicing with labels includes the endpoint ('d' is included)."
   ]
  },
  {
   "cell_type": "code",
   "execution_count": 145,
   "id": "d90d69c6",
   "metadata": {},
   "outputs": [
    {
     "name": "stdout",
     "output_type": "stream",
     "text": [
      "A    10\n",
      "B    20\n",
      "C    30\n",
      "D    40\n",
      "dtype: int64\n"
     ]
    }
   ],
   "source": [
    "# 3. Slicing Using iloc[] (Position-Based Indexing)\n",
    "# If you want to slice using position instead of labels, use .iloc[].\n",
    "print(s1.iloc[:])"
   ]
  },
  {
   "cell_type": "code",
   "execution_count": 148,
   "id": "643273a9",
   "metadata": {},
   "outputs": [
    {
     "name": "stdout",
     "output_type": "stream",
     "text": [
      "A    10\n",
      "B    20\n",
      "C    30\n",
      "dtype: int64\n"
     ]
    }
   ],
   "source": [
    "print(s1.iloc[0:3])"
   ]
  },
  {
   "cell_type": "code",
   "execution_count": 149,
   "id": "dcea169f",
   "metadata": {},
   "outputs": [
    {
     "name": "stdout",
     "output_type": "stream",
     "text": [
      "A    10\n",
      "B    20\n",
      "C    30\n",
      "D    40\n",
      "dtype: int64\n"
     ]
    }
   ],
   "source": [
    "# 4.Slicing Using loc[] (Label-Based Indexing)\n",
    "# If you slice using .loc[], the end index is included.\n",
    "print(s1.loc['A':'D'])"
   ]
  },
  {
   "cell_type": "code",
   "execution_count": 150,
   "id": "7750f792",
   "metadata": {},
   "outputs": [
    {
     "name": "stdout",
     "output_type": "stream",
     "text": [
      "A    10\n",
      "B    20\n",
      "C    30\n",
      "D    40\n",
      "dtype: int64\n"
     ]
    }
   ],
   "source": [
    "print(s1['A':])"
   ]
  },
  {
   "cell_type": "code",
   "execution_count": 151,
   "id": "fcff0d5f",
   "metadata": {},
   "outputs": [
    {
     "name": "stdout",
     "output_type": "stream",
     "text": [
      "A    10\n",
      "B    20\n",
      "dtype: int64\n"
     ]
    }
   ],
   "source": [
    "print(s1['A':'B'])"
   ]
  },
  {
   "cell_type": "code",
   "execution_count": 152,
   "id": "c25dbb53",
   "metadata": {},
   "outputs": [
    {
     "name": "stdout",
     "output_type": "stream",
     "text": [
      "A    10\n",
      "C    30\n",
      "dtype: int64\n"
     ]
    }
   ],
   "source": [
    "# 5.Slicing with Step (Stepping)\n",
    "# You can use a step to skip elements.\n",
    "print(s1[::2])"
   ]
  },
  {
   "cell_type": "code",
   "execution_count": 153,
   "id": "c2207f11",
   "metadata": {},
   "outputs": [
    {
     "name": "stdout",
     "output_type": "stream",
     "text": [
      "A    10\n",
      "B    20\n",
      "C    30\n",
      "D    40\n",
      "dtype: int64\n"
     ]
    }
   ],
   "source": [
    "print(s1[::])"
   ]
  },
  {
   "cell_type": "code",
   "execution_count": 154,
   "id": "885370ed",
   "metadata": {},
   "outputs": [
    {
     "name": "stdout",
     "output_type": "stream",
     "text": [
      "D    40\n",
      "C    30\n",
      "B    20\n",
      "A    10\n",
      "dtype: int64\n"
     ]
    }
   ],
   "source": [
    "print(s1[::-1])"
   ]
  },
  {
   "cell_type": "code",
   "execution_count": 156,
   "id": "75f0b2e9",
   "metadata": {},
   "outputs": [
    {
     "name": "stdout",
     "output_type": "stream",
     "text": [
      "B    20\n",
      "C    30\n",
      "D    40\n",
      "dtype: int64\n"
     ]
    }
   ],
   "source": [
    "# 6.Slicing Using Conditions (Boolean Indexing)\n",
    "# You can filter the Series based on conditions.\n",
    "\n",
    "print(s1[s1>=20])\n",
    "# Only values greater than 20 are selected."
   ]
  },
  {
   "cell_type": "markdown",
   "id": "d7511acd",
   "metadata": {},
   "source": [
    "# Arithmetic Operations on Pandas Series"
   ]
  },
  {
   "cell_type": "code",
   "execution_count": 157,
   "id": "957893dd",
   "metadata": {},
   "outputs": [],
   "source": [
    "# Pandas Series supports element-wise arithmetic operations just like NumPy arrays. \n",
    "# Operations are performed index-wise, meaning the indexes are aligned before the operation is applied."
   ]
  },
  {
   "cell_type": "code",
   "execution_count": 158,
   "id": "47e4ade0",
   "metadata": {},
   "outputs": [],
   "source": [
    "# 1. Basic Arithmetic Operations\n",
    "# Operator\tDescription\tExample\n",
    "# +\tAddition\ts1 + s2\n",
    "# -\tSubtraction\ts1 - s2\n",
    "# *\tMultiplication\ts1 * s2\n",
    "# /\tDivision\ts1 / s2\n",
    "# //\tFloor Division\ts1 // s2\n",
    "# %\tModulus\ts1 % s2\n",
    "# **\tPower\ts1 ** s2"
   ]
  },
  {
   "cell_type": "code",
   "execution_count": 160,
   "id": "d96bdc47",
   "metadata": {},
   "outputs": [
    {
     "name": "stdout",
     "output_type": "stream",
     "text": [
      "0    2\n",
      "1    4\n",
      "2    6\n",
      "3    8\n",
      "dtype: int64\n"
     ]
    }
   ],
   "source": [
    "s1 = pd.Series([1,2,3,4])\n",
    "s2 = pd.Series([1,2,3,4])\n",
    "print(s1+s2)"
   ]
  },
  {
   "cell_type": "code",
   "execution_count": 161,
   "id": "cc7efb34",
   "metadata": {},
   "outputs": [
    {
     "name": "stdout",
     "output_type": "stream",
     "text": [
      "0    0\n",
      "1    0\n",
      "2    0\n",
      "3    0\n",
      "dtype: int64\n"
     ]
    }
   ],
   "source": [
    "print(s1-s2)"
   ]
  },
  {
   "cell_type": "code",
   "execution_count": 162,
   "id": "2c472ef2",
   "metadata": {},
   "outputs": [
    {
     "name": "stdout",
     "output_type": "stream",
     "text": [
      "0     1\n",
      "1     4\n",
      "2     9\n",
      "3    16\n",
      "dtype: int64\n"
     ]
    }
   ],
   "source": [
    "print(s1*s2)"
   ]
  },
  {
   "cell_type": "code",
   "execution_count": 163,
   "id": "28907105",
   "metadata": {},
   "outputs": [
    {
     "name": "stdout",
     "output_type": "stream",
     "text": [
      "0    1.0\n",
      "1    1.0\n",
      "2    1.0\n",
      "3    1.0\n",
      "dtype: float64\n"
     ]
    }
   ],
   "source": [
    "print(s1/s2)"
   ]
  },
  {
   "cell_type": "code",
   "execution_count": 164,
   "id": "a6b5edf6",
   "metadata": {},
   "outputs": [
    {
     "name": "stdout",
     "output_type": "stream",
     "text": [
      "0    0\n",
      "1    0\n",
      "2    0\n",
      "3    0\n",
      "dtype: int64\n"
     ]
    }
   ],
   "source": [
    "print(s1%s2)"
   ]
  },
  {
   "cell_type": "code",
   "execution_count": 165,
   "id": "8bd8aae4",
   "metadata": {},
   "outputs": [
    {
     "name": "stdout",
     "output_type": "stream",
     "text": [
      "0      1\n",
      "1      4\n",
      "2     27\n",
      "3    256\n",
      "dtype: int64\n"
     ]
    }
   ],
   "source": [
    "print(s1**s2)"
   ]
  },
  {
   "cell_type": "code",
   "execution_count": 166,
   "id": "4c6dd409",
   "metadata": {},
   "outputs": [
    {
     "name": "stdout",
     "output_type": "stream",
     "text": [
      "0    2\n",
      "1    4\n",
      "2    6\n",
      "3    8\n",
      "dtype: int64\n"
     ]
    }
   ],
   "source": [
    "# 2.Element-Wise Operations Between Two Series\n",
    "# Operations happen index-wise, meaning matching indexes are used for calculations.\n",
    "\n",
    "print(s1+s2)"
   ]
  },
  {
   "cell_type": "code",
   "execution_count": 167,
   "id": "784c8b2e",
   "metadata": {},
   "outputs": [
    {
     "name": "stdout",
     "output_type": "stream",
     "text": [
      "a    2.0\n",
      "b    NaN\n",
      "c    NaN\n",
      "d    8.0\n",
      "dtype: float64\n"
     ]
    }
   ],
   "source": [
    "# 3. Handling Missing Indexes (Alignment)\n",
    "# If indexes do not match, missing values (NaN) appear.\n",
    "\n",
    "s1 = pd.Series([1,3,4],index=['a','c','d'])\n",
    "s2 = pd.Series([1,2,4],index=['a','b','d'])\n",
    "print(s1+s2)\n",
    "# If an index is missing in either Series, the result is NaN."
   ]
  },
  {
   "cell_type": "code",
   "execution_count": 169,
   "id": "9361b6a1",
   "metadata": {},
   "outputs": [
    {
     "name": "stdout",
     "output_type": "stream",
     "text": [
      "a    2.0\n",
      "b    2.0\n",
      "c    3.0\n",
      "d    8.0\n",
      "dtype: float64\n"
     ]
    }
   ],
   "source": [
    "# 4.Filling Missing Values with fill_value\n",
    "# We can use .add(), .sub(), .mul(), .div(), etc., with fill_value to replace NaN.\n",
    "\n",
    "print(s1.add(s2,fill_value=0))"
   ]
  },
  {
   "cell_type": "code",
   "execution_count": 180,
   "id": "2f79b79c",
   "metadata": {},
   "outputs": [
    {
     "name": "stdout",
     "output_type": "stream",
     "text": [
      "0    1\n",
      "1    2\n",
      "2    3\n",
      "3    4\n",
      "dtype: int64\n"
     ]
    }
   ],
   "source": [
    "# 5. Scalar Arithmetic Operations\n",
    "# A scalar operation applies to all elements in the Series.\n",
    "s1 = pd.Series([1,2,3,4])\n",
    "print(s1)"
   ]
  },
  {
   "cell_type": "code",
   "execution_count": 181,
   "id": "b63c4cf1",
   "metadata": {},
   "outputs": [
    {
     "name": "stdout",
     "output_type": "stream",
     "text": [
      "0    2\n",
      "1    3\n",
      "2    4\n",
      "3    5\n",
      "dtype: int64\n"
     ]
    }
   ],
   "source": [
    "print(s1+1)"
   ]
  },
  {
   "cell_type": "code",
   "execution_count": 182,
   "id": "4f3ed10e",
   "metadata": {},
   "outputs": [
    {
     "name": "stdout",
     "output_type": "stream",
     "text": [
      "0    0\n",
      "1    1\n",
      "2    2\n",
      "3    3\n",
      "dtype: int64\n"
     ]
    }
   ],
   "source": [
    "print(s1-1)"
   ]
  },
  {
   "cell_type": "code",
   "execution_count": 185,
   "id": "8cdb8414",
   "metadata": {},
   "outputs": [
    {
     "name": "stdout",
     "output_type": "stream",
     "text": [
      "0    False\n",
      "1    False\n",
      "2    False\n",
      "3    False\n",
      "dtype: bool\n",
      "0    True\n",
      "1    True\n",
      "2    True\n",
      "3    True\n",
      "dtype: bool\n"
     ]
    }
   ],
   "source": [
    "# 6.Comparing Two Series\n",
    "# Comparison is element-wise, returning a boolean Series.\n",
    "\n",
    "s1 = pd.Series([1,2,3,4])\n",
    "s2 = pd.Series([2,3,4,5])\n",
    "print(s1==s2)\n",
    "print(s1<s2)"
   ]
  },
  {
   "cell_type": "markdown",
   "id": "e9c1487a",
   "metadata": {},
   "source": [
    "# Mathematical & Statistical Methods"
   ]
  },
  {
   "cell_type": "code",
   "execution_count": null,
   "id": "7e2fc6f6",
   "metadata": {},
   "outputs": [],
   "source": [
    "# These methods help analyze Series values numerically.\n",
    "\n",
    "# Method\tDescription\tParameters\tExample\\n\n",
    "# sum()\tReturns sum of all values\taxis=0, skipna=True\ts.sum()\\n\n",
    "# mean()\tReturns mean (average)\taxis=0, skipna=True\ts.mean()\\n\n",
    "# median()\tReturns median\taxis=0, skipna=True\ts.median()\\n\n",
    "# min()\tReturns min value\taxis=0, skipna=True\ts.min()\\n\n",
    "# max()\tReturns max value\taxis=0, skipna=True\ts.max()\\n\n",
    "# std()\tReturns standard deviation\taxis=0, skipna=True\ts.std()\\n\n",
    "# var()\tReturns variance\taxis=0, skipna=True\ts.var()\\n\n",
    "# prod()\tReturns product of values\taxis=0, skipna=True\ts.prod()\\n\n",
    "# cumsum()\tCumulative sum\taxis=0, skipna=True\ts.cumsum()\\n\n",
    "# cumprod()\tCumulative product\taxis=0, skipna=True\ts.cumprod()\\n\n"
   ]
  },
  {
   "cell_type": "code",
   "execution_count": 186,
   "id": "29885edd",
   "metadata": {},
   "outputs": [
    {
     "name": "stdout",
     "output_type": "stream",
     "text": [
      "0    1\n",
      "1    2\n",
      "2    3\n",
      "3    4\n",
      "dtype: int64\n"
     ]
    }
   ],
   "source": [
    "s1 = pd.Series([1,2,3,4])\n",
    "print(s1)"
   ]
  },
  {
   "cell_type": "code",
   "execution_count": 187,
   "id": "5b30a7da",
   "metadata": {},
   "outputs": [
    {
     "name": "stdout",
     "output_type": "stream",
     "text": [
      "10\n"
     ]
    }
   ],
   "source": [
    "print(s1.sum())"
   ]
  },
  {
   "cell_type": "code",
   "execution_count": 188,
   "id": "4424bb62",
   "metadata": {},
   "outputs": [
    {
     "name": "stdout",
     "output_type": "stream",
     "text": [
      "2.5\n"
     ]
    }
   ],
   "source": [
    "print(s1.median())"
   ]
  },
  {
   "cell_type": "code",
   "execution_count": 190,
   "id": "e05bec7f",
   "metadata": {},
   "outputs": [
    {
     "name": "stdout",
     "output_type": "stream",
     "text": [
      "1\n"
     ]
    }
   ],
   "source": [
    "print(s1.min())"
   ]
  },
  {
   "cell_type": "code",
   "execution_count": 192,
   "id": "6130821f",
   "metadata": {},
   "outputs": [
    {
     "name": "stdout",
     "output_type": "stream",
     "text": [
      "4\n"
     ]
    }
   ],
   "source": [
    "print(s1.max())"
   ]
  },
  {
   "cell_type": "code",
   "execution_count": 193,
   "id": "9c88a9bd",
   "metadata": {},
   "outputs": [
    {
     "name": "stdout",
     "output_type": "stream",
     "text": [
      "1.6666666666666667\n"
     ]
    }
   ],
   "source": [
    "print(s1.var())"
   ]
  },
  {
   "cell_type": "code",
   "execution_count": 194,
   "id": "dd869dbd",
   "metadata": {},
   "outputs": [
    {
     "name": "stdout",
     "output_type": "stream",
     "text": [
      "1.2909944487358056\n"
     ]
    }
   ],
   "source": [
    "print(s1.std())"
   ]
  },
  {
   "cell_type": "code",
   "execution_count": 195,
   "id": "13a28682",
   "metadata": {},
   "outputs": [
    {
     "name": "stdout",
     "output_type": "stream",
     "text": [
      "24\n"
     ]
    }
   ],
   "source": [
    "print(s1.prod())"
   ]
  },
  {
   "cell_type": "code",
   "execution_count": 197,
   "id": "1c38a718",
   "metadata": {},
   "outputs": [
    {
     "name": "stdout",
     "output_type": "stream",
     "text": [
      "0     1\n",
      "1     3\n",
      "2     6\n",
      "3    10\n",
      "dtype: int64\n",
      "<class 'pandas.core.series.Series'>\n"
     ]
    }
   ],
   "source": [
    "print(s1.cumsum())\n",
    "print(type(s1.cumsum()))"
   ]
  },
  {
   "cell_type": "code",
   "execution_count": 198,
   "id": "89ff1246",
   "metadata": {},
   "outputs": [
    {
     "name": "stdout",
     "output_type": "stream",
     "text": [
      "0     1\n",
      "1     2\n",
      "2     6\n",
      "3    24\n",
      "dtype: int64\n"
     ]
    }
   ],
   "source": [
    "print(s1.cumprod())"
   ]
  },
  {
   "cell_type": "markdown",
   "id": "428adc8d",
   "metadata": {},
   "source": [
    "# 2.Data Transformation & Manipulation"
   ]
  },
  {
   "cell_type": "code",
   "execution_count": 199,
   "id": "20b3b43d",
   "metadata": {},
   "outputs": [],
   "source": [
    "# Method\tDescription\tParameters\t\n",
    "# astype()\tConverts type\tdtype, copy=True, errors='raise'\ts.astype(int)\n",
    "# copy()\tReturns a copy of Series\tdeep=True\ts.copy()\n",
    "# replace()\tReplaces values\tto_replace, value, inplace=False, limit=None\ts.replace(10, 100)\n",
    "# clip()\tLimits values within range\tlower, upper, inplace=False\ts.clip(5, 20)\n",
    "# drop()\tRemoves index labels\tlabels, axis=0, inplace=False, errors='raise'\ts.drop([0,2])\n",
    "# sort_values()\tSorts values\tascending=True, inplace=False, ignore_index=False\ts.sort_values()\n",
    "# sort_index()\tSorts by index\tascending=True, inplace=False\ts.sort_index()\n",
    "# reset_index()\tResets index\tdrop=False, inplace=False\ts.reset_index(drop=True)"
   ]
  },
  {
   "cell_type": "code",
   "execution_count": 200,
   "id": "41019014",
   "metadata": {},
   "outputs": [
    {
     "name": "stdout",
     "output_type": "stream",
     "text": [
      "0    1\n",
      "1    2\n",
      "2    3\n",
      "3    4\n",
      "dtype: int64\n"
     ]
    }
   ],
   "source": [
    "s1 = pd.Series([1,2,3,4])\n",
    "print(s1)"
   ]
  },
  {
   "cell_type": "code",
   "execution_count": 203,
   "id": "e05f5b3f",
   "metadata": {},
   "outputs": [
    {
     "name": "stdout",
     "output_type": "stream",
     "text": [
      "Original Array\n",
      "0    1\n",
      "1    2\n",
      "2    3\n",
      "3    4\n",
      "dtype: int64\n",
      "\n",
      "Changed Array\n",
      "0    1.0\n",
      "1    2.0\n",
      "2    3.0\n",
      "3    4.0\n",
      "dtype: float64\n"
     ]
    }
   ],
   "source": [
    "s2 = s1.astype(float)\n",
    "print(\"Original Array\")\n",
    "print(s1)\n",
    "print()\n",
    "print(\"Changed Array\")\n",
    "print(s2)"
   ]
  },
  {
   "cell_type": "code",
   "execution_count": 207,
   "id": "5d85a350",
   "metadata": {},
   "outputs": [
    {
     "name": "stdout",
     "output_type": "stream",
     "text": [
      "0    1000\n",
      "1       2\n",
      "2       3\n",
      "3       4\n",
      "dtype: int64\n",
      "0    1000\n",
      "1       2\n",
      "2       3\n",
      "3       4\n",
      "dtype: int64\n"
     ]
    }
   ],
   "source": [
    "s1 = pd.Series([1,2,3,4])\n",
    "s2 = s1.copy(False)\n",
    "s2[0] = 1000\n",
    "print(s1)\n",
    "print(s2)"
   ]
  },
  {
   "cell_type": "code",
   "execution_count": 209,
   "id": "83f8d520",
   "metadata": {},
   "outputs": [
    {
     "name": "stdout",
     "output_type": "stream",
     "text": [
      "Original Array\n",
      "0    1\n",
      "1    2\n",
      "2    3\n",
      "3    4\n",
      "4    5\n",
      "5    1\n",
      "6    1\n",
      "7    2\n",
      "8    4\n",
      "dtype: int64\n",
      "\n",
      "Changed Array\n",
      "0    100\n",
      "1      2\n",
      "2      3\n",
      "3      4\n",
      "4      5\n",
      "5    100\n",
      "6    100\n",
      "7      2\n",
      "8      4\n",
      "dtype: int64\n"
     ]
    }
   ],
   "source": [
    "s1 = pd.Series([1,2,3,4,5,1,1,2,4])\n",
    "s2 = s1.replace(1,100)\n",
    "print(\"Original Array\")\n",
    "print(s1)\n",
    "print()\n",
    "print(\"Changed Array\")\n",
    "print(s2)"
   ]
  },
  {
   "cell_type": "code",
   "execution_count": 213,
   "id": "d82205dc",
   "metadata": {},
   "outputs": [
    {
     "name": "stdout",
     "output_type": "stream",
     "text": [
      "0    3\n",
      "1    3\n",
      "2    3\n",
      "3    4\n",
      "4    5\n",
      "5    6\n",
      "6    7\n",
      "7    7\n",
      "dtype: int64\n"
     ]
    }
   ],
   "source": [
    "s1 = pd.Series([1,2,3,4,5,6,7,8])\n",
    "s2 = s1.clip(3,7)\n",
    "print(s2)"
   ]
  },
  {
   "cell_type": "code",
   "execution_count": 216,
   "id": "259e131a",
   "metadata": {},
   "outputs": [
    {
     "name": "stdout",
     "output_type": "stream",
     "text": [
      "1    2\n",
      "2    3\n",
      "3    4\n",
      "4    5\n",
      "5    6\n",
      "6    7\n",
      "7    8\n",
      "dtype: int64\n"
     ]
    }
   ],
   "source": [
    "s1 = pd.Series([1,2,3,4,5,6,7,8])\n",
    "s2 = s1.drop(0)\n",
    "print(s2)\n",
    "# removed the 0th index."
   ]
  },
  {
   "cell_type": "code",
   "execution_count": 224,
   "id": "6e235c11",
   "metadata": {},
   "outputs": [
    {
     "name": "stdout",
     "output_type": "stream",
     "text": [
      "  index  0\n",
      "0     a  1\n",
      "1     b  2\n",
      "2     c  3\n",
      "3     d  4\n",
      "<class 'pandas.core.frame.DataFrame'>\n"
     ]
    }
   ],
   "source": [
    "s1 = pd.Series([1,2,3,4],index=['a','b','c','d'])\n",
    "s2 = s1.reset_index()\n",
    "print(s2)\n",
    "print(type(s2))"
   ]
  },
  {
   "cell_type": "markdown",
   "id": "78092caf",
   "metadata": {},
   "source": [
    "# 3. Boolean & Logical Methods"
   ]
  },
  {
   "cell_type": "code",
   "execution_count": 225,
   "id": "5b92ff4d",
   "metadata": {},
   "outputs": [],
   "source": [
    "# Method\tDescription\tParameters\tExample\n",
    "# all()\tChecks if all elements are True\taxis=0, skipna=True\ts.all()\n",
    "# any()\tChecks if any element is True\taxis=0, skipna=True\ts.any()\n",
    "# isna()\tChecks for NaN values\t-\ts.isna()\n",
    "# notna()\tChecks for non-NaN values\t-\ts.notna()\n",
    "# between()\tChecks if values are within range\tleft, right, inclusive=True\ts.between(10, 50)\n",
    "# where()\tReplaces values where condition is False\tcond, other, inplace=False\ts.where(s > 20, 0)"
   ]
  },
  {
   "cell_type": "code",
   "execution_count": 229,
   "id": "2bb00b7b",
   "metadata": {},
   "outputs": [
    {
     "name": "stdout",
     "output_type": "stream",
     "text": [
      "0    1.0\n",
      "1    2.0\n",
      "2    3.0\n",
      "3    0.0\n",
      "4    NaN\n",
      "dtype: float64\n"
     ]
    }
   ],
   "source": [
    "s1 = pd.Series([1,2,3,0,None])\n",
    "print(s1)"
   ]
  },
  {
   "cell_type": "code",
   "execution_count": 230,
   "id": "658fd98e",
   "metadata": {},
   "outputs": [
    {
     "name": "stdout",
     "output_type": "stream",
     "text": [
      "False\n"
     ]
    }
   ],
   "source": [
    "# Return the single boolean value\n",
    "s2 = s1.all()\n",
    "print(s2)"
   ]
  },
  {
   "cell_type": "code",
   "execution_count": 232,
   "id": "b2ec6767",
   "metadata": {},
   "outputs": [
    {
     "name": "stdout",
     "output_type": "stream",
     "text": [
      "True\n"
     ]
    }
   ],
   "source": [
    "# Return the single boolean value\n",
    "s2 = s1.any()\n",
    "print(s2)"
   ]
  },
  {
   "cell_type": "code",
   "execution_count": 234,
   "id": "b6f9e977",
   "metadata": {},
   "outputs": [
    {
     "name": "stdout",
     "output_type": "stream",
     "text": [
      "0    False\n",
      "1    False\n",
      "2    False\n",
      "3    False\n",
      "4     True\n",
      "dtype: bool\n"
     ]
    }
   ],
   "source": [
    "# It checks whether any element in Series is none or not \n",
    "# Return the Series containing True for the none values and false for the non-null values.\n",
    "s2 = s1.isna()\n",
    "print(s2)"
   ]
  },
  {
   "cell_type": "code",
   "execution_count": 235,
   "id": "9c6b24e2",
   "metadata": {},
   "outputs": [
    {
     "name": "stdout",
     "output_type": "stream",
     "text": [
      "0     True\n",
      "1     True\n",
      "2     True\n",
      "3     True\n",
      "4    False\n",
      "dtype: bool\n"
     ]
    }
   ],
   "source": [
    "# It checks whether any element in Series is none or not \n",
    "# Return the Series containing True for the non-none values and false for the null values.\n",
    "s2 = s1.notna()\n",
    "print(s2)"
   ]
  },
  {
   "cell_type": "code",
   "execution_count": 237,
   "id": "9b20e9e3",
   "metadata": {},
   "outputs": [
    {
     "name": "stdout",
     "output_type": "stream",
     "text": [
      "0     True\n",
      "1     True\n",
      "2     True\n",
      "3    False\n",
      "4    False\n",
      "dtype: bool\n"
     ]
    }
   ],
   "source": [
    "# It checks wheter the values in Series lie in the specfied range or not\n",
    "# Returns the boolean series.\n",
    "s2 = s1.between(1,4)\n",
    "print(s2)"
   ]
  },
  {
   "cell_type": "code",
   "execution_count": 246,
   "id": "e355d9a0",
   "metadata": {},
   "outputs": [
    {
     "name": "stdout",
     "output_type": "stream",
     "text": [
      "0    100\n",
      "1    100\n",
      "2    100\n",
      "3    100\n",
      "4    100\n",
      "5      6\n",
      "dtype: int64\n"
     ]
    }
   ],
   "source": [
    "# It replace the false with the passed values.\n",
    "s1 = pd.Series([1,2,3,4,5,6])\n",
    "s2 = s1.where(s1>5,100)\n",
    "print(s2)"
   ]
  },
  {
   "cell_type": "markdown",
   "id": "7f78777a",
   "metadata": {},
   "source": [
    "# 4. Indexing & Selection Methods"
   ]
  },
  {
   "cell_type": "code",
   "execution_count": 247,
   "id": "e4de0ac9",
   "metadata": {},
   "outputs": [],
   "source": [
    "# Method\tDescription\tParameters\tExample\n",
    "# iloc[]\tSelect by position\t[start:end]\ts.iloc[1:3]\n",
    "# loc[]\tSelect by label\t[start:end]\ts.loc['a':'c']\n",
    "# at[]\tFast access to scalar value by label\tindex\ts.at['b']\n",
    "# iat[]\tFast access to scalar value by position\tindex\ts.iat[2]"
   ]
  },
  {
   "cell_type": "code",
   "execution_count": 249,
   "id": "498a31a6",
   "metadata": {},
   "outputs": [
    {
     "name": "stdout",
     "output_type": "stream",
     "text": [
      "1\n"
     ]
    }
   ],
   "source": [
    "s1 = pd.Series([1,2,3,4])\n",
    "print(s1.iloc[0])"
   ]
  },
  {
   "cell_type": "code",
   "execution_count": 251,
   "id": "ea1ce23f",
   "metadata": {},
   "outputs": [
    {
     "name": "stdout",
     "output_type": "stream",
     "text": [
      "2\n"
     ]
    }
   ],
   "source": [
    "s1 = pd.Series([1,2,3,4],index=['A','B','C','D'])\n",
    "print(s1.loc['B'])"
   ]
  },
  {
   "cell_type": "code",
   "execution_count": 254,
   "id": "7d151e49",
   "metadata": {},
   "outputs": [
    {
     "name": "stdout",
     "output_type": "stream",
     "text": [
      "2\n"
     ]
    }
   ],
   "source": [
    "print(s1.iat[1])"
   ]
  },
  {
   "cell_type": "markdown",
   "id": "f0dae676",
   "metadata": {},
   "source": [
    "# 5. String Methods (For Text Data)"
   ]
  },
  {
   "cell_type": "code",
   "execution_count": 255,
   "id": "8eb5e4e5",
   "metadata": {},
   "outputs": [],
   "source": [
    "# Method\tDescription\tExample\n",
    "# str.lower()\tConverts to lowercase\ts.str.lower()\n",
    "# str.upper()\tConverts to uppercase\ts.str.upper()\n",
    "# str.contains()\tChecks for substring\ts.str.contains('hello')\n",
    "# str.replace()\tReplaces substrings\ts.str.replace('old', 'new')\n",
    "# str.len()\tGets length of each string\ts.str.len()"
   ]
  },
  {
   "cell_type": "code",
   "execution_count": 256,
   "id": "5fd5ae04",
   "metadata": {},
   "outputs": [
    {
     "name": "stdout",
     "output_type": "stream",
     "text": [
      "0    Hello\n",
      "1    World\n",
      "dtype: object\n"
     ]
    }
   ],
   "source": [
    "s1 = pd.Series(['Hello','World'])\n",
    "print(s1)"
   ]
  },
  {
   "cell_type": "code",
   "execution_count": 257,
   "id": "a10fd6f4",
   "metadata": {},
   "outputs": [
    {
     "name": "stdout",
     "output_type": "stream",
     "text": [
      "0    HELLO\n",
      "1    WORLD\n",
      "dtype: object\n"
     ]
    }
   ],
   "source": [
    "s2 = s1.str.upper()\n",
    "print(s2)"
   ]
  },
  {
   "cell_type": "code",
   "execution_count": 258,
   "id": "3bb31788",
   "metadata": {},
   "outputs": [
    {
     "name": "stdout",
     "output_type": "stream",
     "text": [
      "0    hello\n",
      "1    world\n",
      "dtype: object\n"
     ]
    }
   ],
   "source": [
    "s2 = s1.str.lower()\n",
    "print(s2)"
   ]
  },
  {
   "cell_type": "code",
   "execution_count": 259,
   "id": "894541b9",
   "metadata": {},
   "outputs": [
    {
     "name": "stdout",
     "output_type": "stream",
     "text": [
      "0    True\n",
      "1    True\n",
      "dtype: bool\n"
     ]
    }
   ],
   "source": [
    "s2 = s1.str.contains('l')\n",
    "print(s2)"
   ]
  },
  {
   "cell_type": "code",
   "execution_count": 261,
   "id": "8fd63b53",
   "metadata": {},
   "outputs": [
    {
     "name": "stdout",
     "output_type": "stream",
     "text": [
      "0    HeLLo\n",
      "1    WorLd\n",
      "dtype: object\n"
     ]
    }
   ],
   "source": [
    "s2 = s1.str.replace('l','L')\n",
    "print(s2)"
   ]
  },
  {
   "cell_type": "code",
   "execution_count": 262,
   "id": "19976c21",
   "metadata": {},
   "outputs": [
    {
     "name": "stdout",
     "output_type": "stream",
     "text": [
      "0    5\n",
      "1    5\n",
      "dtype: int64\n"
     ]
    }
   ],
   "source": [
    "s2 = s1.str.len()\n",
    "print(s2)"
   ]
  },
  {
   "cell_type": "markdown",
   "id": "c784dfc8",
   "metadata": {},
   "source": [
    "# 6.Aggregation & Summary Methods\n"
   ]
  },
  {
   "cell_type": "code",
   "execution_count": 263,
   "id": "d26b601c",
   "metadata": {},
   "outputs": [],
   "source": [
    "# Method\tDescription\tExample\n",
    "# count()\tNumber of non-null values\ts.count()\n",
    "# unique()\tReturns unique values\ts.unique()\n",
    "# nunique()\tNumber of unique values\ts.nunique()\n",
    "# value_counts()\tFrequency of each unique value\ts.value_counts()\n",
    "# idxmax()\tIndex of max value\ts.idxmax()\n",
    "# idxmin()\tIndex of min value\ts.idxmin()"
   ]
  },
  {
   "cell_type": "code",
   "execution_count": 264,
   "id": "1ea952b7",
   "metadata": {},
   "outputs": [
    {
     "name": "stdout",
     "output_type": "stream",
     "text": [
      "0    1\n",
      "1    2\n",
      "2    3\n",
      "3    1\n",
      "4    3\n",
      "5    1\n",
      "6    2\n",
      "7    4\n",
      "8    2\n",
      "9    5\n",
      "dtype: int64\n"
     ]
    }
   ],
   "source": [
    "s1 = pd.Series([1,2,3,1,3,1,2,4,2,5])\n",
    "print(s1)"
   ]
  },
  {
   "cell_type": "code",
   "execution_count": 265,
   "id": "26ff5799",
   "metadata": {},
   "outputs": [
    {
     "name": "stdout",
     "output_type": "stream",
     "text": [
      "10\n"
     ]
    }
   ],
   "source": [
    "# Return the total elements of the Series.\n",
    "s2 = s1.count()\n",
    "print(s2)"
   ]
  },
  {
   "cell_type": "code",
   "execution_count": 275,
   "id": "724e549a",
   "metadata": {},
   "outputs": [
    {
     "name": "stdout",
     "output_type": "stream",
     "text": [
      "[1 2 3 4 5]\n"
     ]
    }
   ],
   "source": [
    "# Return all the unique element of the Series.\n",
    "s2 = s1.unique()\n",
    "print(s2)"
   ]
  },
  {
   "cell_type": "code",
   "execution_count": 279,
   "id": "7389b3ab",
   "metadata": {},
   "outputs": [
    {
     "name": "stdout",
     "output_type": "stream",
     "text": [
      "6\n"
     ]
    }
   ],
   "source": [
    "# Return the count of unique values.\n",
    "s1 = pd.Series([1,2,3,4,'a','c',1])\n",
    "print(s1.nunique())"
   ]
  },
  {
   "cell_type": "code",
   "execution_count": 281,
   "id": "8fc5a802",
   "metadata": {},
   "outputs": [
    {
     "name": "stdout",
     "output_type": "stream",
     "text": [
      "1    2\n",
      "2    1\n",
      "3    1\n",
      "4    1\n",
      "a    1\n",
      "c    1\n",
      "Name: count, dtype: int64\n"
     ]
    }
   ],
   "source": [
    "# Return the frequency of the unique values\n",
    "print(s1.value_counts())"
   ]
  },
  {
   "cell_type": "code",
   "execution_count": 285,
   "id": "bc9fa468",
   "metadata": {},
   "outputs": [
    {
     "name": "stdout",
     "output_type": "stream",
     "text": [
      "b\n"
     ]
    }
   ],
   "source": [
    "# Return the index which contains maximum value.\n",
    "s1 = pd.Series([1,23,4,4],index=['a','b','c','d'])\n",
    "s2 = s1.idxmax()\n",
    "print(s2)"
   ]
  },
  {
   "cell_type": "code",
   "execution_count": 287,
   "id": "1ecaa01f",
   "metadata": {},
   "outputs": [
    {
     "name": "stdout",
     "output_type": "stream",
     "text": [
      "a\n"
     ]
    }
   ],
   "source": [
    "# Return the index which contains minimum value\n",
    "s1 = pd.Series([1,23,4,4],index=['a','b','c','d'])\n",
    "s2 = s1.idxmin()\n",
    "print(s2)"
   ]
  },
  {
   "cell_type": "markdown",
   "id": "cbc1b453",
   "metadata": {},
   "source": [
    "# 7. Combining & Merging Series"
   ]
  },
  {
   "cell_type": "code",
   "execution_count": 288,
   "id": "61fd6c48",
   "metadata": {},
   "outputs": [],
   "source": [
    "# Method\tDescription\tExample\n",
    "# concat()\tAdds another Series\ts1.append(s2)\n",
    "# combine()\tElement-wise combination\ts1.combine(s2, max)\n",
    "# combine_first()\tFills NaN with another Series\ts1.combine_first(s2)"
   ]
  },
  {
   "cell_type": "code",
   "execution_count": 295,
   "id": "2bd912b5",
   "metadata": {},
   "outputs": [
    {
     "name": "stdout",
     "output_type": "stream",
     "text": [
      "0    1\n",
      "1    2\n",
      "2    3\n",
      "3    4\n",
      "4    5\n",
      "0    6\n",
      "1    7\n",
      "2    8\n",
      "3    9\n",
      "dtype: int64\n"
     ]
    }
   ],
   "source": [
    "s1 = pd.Series([1,2,3,4,5])\n",
    "s2 = pd.Series([6,7,8,9])\n",
    "s3 = (pd.concat([s1,s2]))\n",
    "print(s3)"
   ]
  },
  {
   "cell_type": "code",
   "execution_count": 303,
   "id": "b7c50c81",
   "metadata": {},
   "outputs": [
    {
     "name": "stdout",
     "output_type": "stream",
     "text": [
      "0    6\n",
      "1    7\n",
      "2    8\n",
      "3    9\n",
      "4    5\n",
      "dtype: int64\n"
     ]
    }
   ],
   "source": [
    "# 2. combine()\n",
    "# Applies an element-wise function to combine two Series.\n",
    "# Used when you want to merge two Series but keep the best value for each position.\n",
    "# You must provide a function (func) to determine how the values are combined.\n",
    "\n",
    "# 🔹 Syntax:\n",
    "# Series.combine(other, func, fill_value=None)\n",
    "\n",
    "# Compare the values index by index and assign the maximum value.\n",
    "s3 = s1.combine(s2,max)\n",
    "print(s3)"
   ]
  },
  {
   "cell_type": "code",
   "execution_count": 304,
   "id": "d3ddb8fa",
   "metadata": {},
   "outputs": [],
   "source": [
    "# 3.combine_first()\n",
    "# Fills missing values (NaN) in one Series using another.\n",
    "# It does not modify non-missing values in the first Series."
   ]
  },
  {
   "cell_type": "code",
   "execution_count": 305,
   "id": "79eeb9a6",
   "metadata": {},
   "outputs": [
    {
     "name": "stdout",
     "output_type": "stream",
     "text": [
      "0     1.0\n",
      "1    20.0\n",
      "2     3.0\n",
      "3    40.0\n",
      "4     5.0\n",
      "dtype: float64\n"
     ]
    }
   ],
   "source": [
    "s1 = pd.Series([1,None,3,None,5])\n",
    "s2 = pd.Series([10,20,30,40,50])\n",
    "s3 = s1.combine_first(s2)\n",
    "print(s3)\n",
    "\n",
    "# The None values in s1 are replaced by the corresponding values in s2.\n",
    "# Other values remain unchanged."
   ]
  },
  {
   "cell_type": "code",
   "execution_count": null,
   "id": "4069e55a",
   "metadata": {},
   "outputs": [],
   "source": []
  }
 ],
 "metadata": {
  "kernelspec": {
   "display_name": "Python 3 (ipykernel)",
   "language": "python",
   "name": "python3"
  },
  "language_info": {
   "codemirror_mode": {
    "name": "ipython",
    "version": 3
   },
   "file_extension": ".py",
   "mimetype": "text/x-python",
   "name": "python",
   "nbconvert_exporter": "python",
   "pygments_lexer": "ipython3",
   "version": "3.11.5"
  }
 },
 "nbformat": 4,
 "nbformat_minor": 5
}
