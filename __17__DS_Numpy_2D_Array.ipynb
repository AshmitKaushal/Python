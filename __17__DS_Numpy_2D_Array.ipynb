{
 "cells": [
  {
   "cell_type": "markdown",
   "id": "5914354f",
   "metadata": {},
   "source": [
    "# 2D Array in NumPy (Two-Dimensional Array)"
   ]
  },
  {
   "cell_type": "code",
   "execution_count": 1,
   "id": "df91e1a0",
   "metadata": {},
   "outputs": [],
   "source": [
    "# A 2D array (two-dimensional array) in NumPy is an array that has rows and columns, \n",
    "# making it similar to a matrix or a table."
   ]
  },
  {
   "cell_type": "code",
   "execution_count": 2,
   "id": "721722dd",
   "metadata": {},
   "outputs": [],
   "source": [
    "# 🔹 Key Features of a 2D NumPy Array:\n",
    "# ✔ Has two axes (dimensions) → axis 0 (rows) and axis 1 (columns).\n",
    "# ✔ Each element is indexed using two indices → (row_index, column_index).\n",
    "# ✔ Can store numbers, strings, or other data types."
   ]
  },
  {
   "cell_type": "markdown",
   "id": "3cec9f59",
   "metadata": {},
   "source": [
    "# 🔹Creating a 2D NumPy Array?"
   ]
  },
  {
   "cell_type": "code",
   "execution_count": 2,
   "id": "81f95f5b",
   "metadata": {},
   "outputs": [
    {
     "name": "stdout",
     "output_type": "stream",
     "text": [
      "[[10 20 30]\n",
      " [40 50 60]]\n",
      "<class 'numpy.ndarray'>\n",
      "2\n"
     ]
    }
   ],
   "source": [
    "import numpy as np\n",
    "\n",
    "arr2 = np.array([[10,20,30],[40,50,60]])\n",
    "print(arr2)\n",
    "print(type(arr2))\n",
    "print(arr2.ndim)"
   ]
  },
  {
   "cell_type": "code",
   "execution_count": 8,
   "id": "64b3fa45",
   "metadata": {},
   "outputs": [
    {
     "name": "stdout",
     "output_type": "stream",
     "text": [
      "[[10. 20. 30.]\n",
      " [40. 50. 60.]]\n",
      "<class 'numpy.ndarray'>\n"
     ]
    }
   ],
   "source": [
    "arr2 = np.array([[10,20,30],[40,50,60]],dtype=float)\n",
    "print(arr2)\n",
    "print(type(arr2))"
   ]
  },
  {
   "cell_type": "code",
   "execution_count": 15,
   "id": "486ea088",
   "metadata": {},
   "outputs": [
    {
     "name": "stdout",
     "output_type": "stream",
     "text": [
      "[[10 20 30]\n",
      " [40 50 60]]\n",
      "<class 'numpy.ndarray'>\n",
      "[[10, 20, 30], [40, 50, 60]]\n",
      "<class 'list'>\n",
      "[[100  20  30]\n",
      " [ 40  50  60]]\n"
     ]
    }
   ],
   "source": [
    "l1 = [[10,20,30],[40,50,60]]\n",
    "arr2 = np.array(l1,copy=True)\n",
    "print(arr2)\n",
    "print(type(arr2))\n",
    "print(l1)\n",
    "print(type(l1))\n",
    "arr2[0][0] = 100\n",
    "print(arr2)"
   ]
  },
  {
   "cell_type": "code",
   "execution_count": 17,
   "id": "24655673",
   "metadata": {},
   "outputs": [
    {
     "name": "stdout",
     "output_type": "stream",
     "text": [
      "[[10 20 30]\n",
      " [40 50 60]]\n",
      "<class 'numpy.ndarray'>\n",
      "  C_CONTIGUOUS : False\n",
      "  F_CONTIGUOUS : True\n",
      "  OWNDATA : True\n",
      "  WRITEABLE : True\n",
      "  ALIGNED : True\n",
      "  WRITEBACKIFCOPY : False\n",
      "\n"
     ]
    }
   ],
   "source": [
    "arr2 = np.array([[10,20,30],[40,50,60]],order='F')\n",
    "print(arr2)\n",
    "print(type(arr2))\n",
    "print(arr2.flags)"
   ]
  },
  {
   "cell_type": "code",
   "execution_count": 25,
   "id": "33698c9f",
   "metadata": {},
   "outputs": [
    {
     "name": "stdout",
     "output_type": "stream",
     "text": [
      "[[10]]\n",
      "2\n"
     ]
    }
   ],
   "source": [
    "arr2 = np.array(10,ndmin=2)\n",
    "print(arr2)\n",
    "print(arr2.ndim)"
   ]
  },
  {
   "cell_type": "markdown",
   "id": "cf7139c0",
   "metadata": {},
   "source": [
    "# 🔹 Properties of a 2D NumPy Array "
   ]
  },
  {
   "cell_type": "code",
   "execution_count": 26,
   "id": "9b02bc7a",
   "metadata": {},
   "outputs": [],
   "source": [
    "# A 2D array in NumPy has various properties that help us understand its structure, dimensions, and type. \n",
    "# These properties allow us to efficiently analyze and manipulate arrays."
   ]
  },
  {
   "cell_type": "code",
   "execution_count": 28,
   "id": "24b7f77e",
   "metadata": {},
   "outputs": [
    {
     "name": "stdout",
     "output_type": "stream",
     "text": [
      "[[10 20 30]\n",
      " [40 50 60]]\n",
      "2\n"
     ]
    }
   ],
   "source": [
    "# 1. ndim – Number of Dimensions\n",
    "# Tells us how many dimensions (axes) the array has.\n",
    "# A 2D array always has ndim = 2.\n",
    "\n",
    "arr2 = np.array([[10,20,30],[40,50,60]])\n",
    "print(arr2)\n",
    "print(arr2.ndim)\n",
    "\n",
    "# Explanation:\n",
    "# Since arr_2d is a 2D array, it has two axes (rows and columns), so ndim returns 2."
   ]
  },
  {
   "cell_type": "code",
   "execution_count": 30,
   "id": "d6c0dc91",
   "metadata": {},
   "outputs": [
    {
     "name": "stdout",
     "output_type": "stream",
     "text": [
      "[[10 20 30 40]\n",
      " [50 60 70 80]]\n",
      "The number of rows and columns the array contains is (2, 4)\n"
     ]
    }
   ],
   "source": [
    "# 2. shape – Dimensions of the Array\n",
    "# Tells us the number of rows and columns as a tuple (rows, columns).\n",
    "\n",
    "arr2 = np.array([[10,20,30,40],[50,60,70,80]])\n",
    "print(arr2)\n",
    "print(\"The number of rows and columns the array contains is\",arr2.shape)\n",
    "\n",
    "\n",
    "# Explanation:\n",
    "# 3 rows\n",
    "# 3 columns\n",
    "# So, shape returns (3,3).\n"
   ]
  },
  {
   "cell_type": "code",
   "execution_count": 31,
   "id": "aeef0db9",
   "metadata": {},
   "outputs": [
    {
     "name": "stdout",
     "output_type": "stream",
     "text": [
      "[[10 20 30]\n",
      " [40 50 60]]\n",
      "The total no. of elements in the array is 6\n"
     ]
    }
   ],
   "source": [
    "# 3. size – Total Number of Elements\n",
    "# Tells us the total number of elements in the array (rows × columns).\n",
    "\n",
    "arr2 = np.array([[10,20,30],[40,50,60]])\n",
    "print(arr2)\n",
    "print(\"The total no. of elements in the array is\",arr2.size)\n",
    "\n",
    "# Explanation:\n",
    "# The 2D array has 2×3 = 6 elements, so size returns 6."
   ]
  },
  {
   "cell_type": "code",
   "execution_count": 32,
   "id": "2986456a",
   "metadata": {},
   "outputs": [
    {
     "name": "stdout",
     "output_type": "stream",
     "text": [
      "[[10 20 30]\n",
      " [40 50 60]]\n",
      "The data type of elements in the array is int32\n"
     ]
    }
   ],
   "source": [
    "# 4. dtype – Data Type of Elements\n",
    "# Tells us the data type of elements inside the array.\n",
    "\n",
    "arr2 = np.array([[10,20,30],[40,50,60]])\n",
    "print(arr2)\n",
    "print(\"The data type of elements in the array is\",arr2.dtype)\n",
    "\n",
    "# Explanation:\n",
    "# Since we used integers, the default integer data type (int64 or int32) is assigned.\n"
   ]
  },
  {
   "cell_type": "code",
   "execution_count": 37,
   "id": "4429f681",
   "metadata": {},
   "outputs": [
    {
     "name": "stdout",
     "output_type": "stream",
     "text": [
      "[[10. 20. 30.]\n",
      " [40. 50. 60.]]\n",
      "The memory occupied by the one element in the bytes when the data type of the elements is float is  8\n",
      "[[10 20 30]\n",
      " [40 50 60]]\n",
      "The memory occupied by the one element in the bytes when the data type of the elements is int is 4\n"
     ]
    }
   ],
   "source": [
    "# 5. itemsize – Memory Size of Each Element (in Bytes)\n",
    "# Tells us how many bytes each element takes in memory.\n",
    "\n",
    "arr2 = np.array([[10,20,30],[40,50,60]],dtype=float)\n",
    "print(arr2)\n",
    "print(\"The memory occupied by the one element in the bytes when the data type of the elements is float is \",arr2.itemsize)\n",
    "\n",
    "arr2 = np.array([[10,20,30],[40,50,60]],dtype=int)\n",
    "print(arr2)\n",
    "print(\"The memory occupied by the one element in the bytes when the data type of the elements is int is\",arr2.itemsize)\n",
    "\n",
    "# Explanation:\n",
    "# If the elements are int64, each element takes 8 bytes.\n",
    "# If the elements are int32, each element takes 4 bytes.\n"
   ]
  },
  {
   "cell_type": "code",
   "execution_count": 40,
   "id": "802ab0d4",
   "metadata": {},
   "outputs": [
    {
     "name": "stdout",
     "output_type": "stream",
     "text": [
      "[[10 20]\n",
      " [30 40]]\n",
      "The memory occupied by the array is 16\n"
     ]
    }
   ],
   "source": [
    "# 6. nbytes – Total Memory Used by the Array (in Bytes)\n",
    "# Tells us the total memory occupied by all elements in the array.\n",
    "# Calculated as:\n",
    "# nbytes = size × itemsize\n",
    "\n",
    "arr2 = np.array([[10,20],[30,40]])\n",
    "print(arr2)\n",
    "print(\"The memory occupied by the array is\",arr2.nbytes)\n",
    "\n",
    "# Explanation:\n",
    "# If itemsize = 8 bytes, then 9 × 8 = 72 bytes.\n",
    "# If itemsize = 4 bytes, then 9 × 4 = 36 bytes."
   ]
  },
  {
   "cell_type": "code",
   "execution_count": 43,
   "id": "373d3d88",
   "metadata": {},
   "outputs": [
    {
     "name": "stdout",
     "output_type": "stream",
     "text": [
      "The original array is [[10 20 30]\n",
      " [40 50 60]\n",
      " [70 80 90]]\n",
      "The Transpose array is [[10 40 70]\n",
      " [20 50 80]\n",
      " [30 60 90]]\n"
     ]
    }
   ],
   "source": [
    "#  7. T – Transpose of the Array\n",
    "# Flips the rows and columns of the array (i.e., converts arr[i, j] to arr[j, i]).\n",
    "\n",
    "arr2 = np.array([[10,20,30],[40,50,60],[70,80,90]])\n",
    "print(\"The original array is\",arr2)\n",
    "print(\"The Transpose array is\",arr2.T)\n",
    "\n",
    "# Explanation:\n",
    "# Row 1 [10, 20, 30] becomes Column 1.\n",
    "# Row 2 [40, 50, 60] becomes Column 2.\n",
    "# Row 3 [70, 80, 90] becomes Column "
   ]
  },
  {
   "cell_type": "code",
   "execution_count": 45,
   "id": "1d1da242",
   "metadata": {},
   "outputs": [
    {
     "name": "stdout",
     "output_type": "stream",
     "text": [
      "[[10 20]\n",
      " [30 40]]\n",
      "Access all the elements of the array using single for loop\n",
      "10 20 30 40 "
     ]
    }
   ],
   "source": [
    "# 8. flat – Iterator Over All Elements\n",
    "# Returns an iterator that allows us to loop through all elements in the array.\n",
    "\n",
    "arr2 = np.array([[10,20],[30,40]])\n",
    "print(arr2)\n",
    "\n",
    "print(\"Access all the elements of the array using single for loop\")\n",
    "for i in arr2.flat:\n",
    "    print(i,end=' ')\n",
    "\n",
    "# Explanation:\n",
    "# The flat property iterates through the array as a 1D sequence, ignoring rows and columns."
   ]
  },
  {
   "cell_type": "code",
   "execution_count": 51,
   "id": "b99e5f71",
   "metadata": {},
   "outputs": [
    {
     "name": "stdout",
     "output_type": "stream",
     "text": [
      "((10, 20, 30), (40, 50, 60))\n",
      "<class 'tuple'>\n",
      "\n",
      "[[10 20 30]\n",
      " [40 50 60]]\n",
      "<class 'numpy.ndarray'>\n",
      "\n",
      "Converting the numpy 2d array into the 2d list\n",
      "[[10, 20, 30], [40, 50, 60]]\n",
      "<class 'list'>\n"
     ]
    }
   ],
   "source": [
    "#  9. tolist() – Convert to a Nested Python List\n",
    "# Converts the NumPy array into a Python list of lists.\n",
    "t1 = ((10,20,30),(40,50,60))\n",
    "print(t1)\n",
    "print(type(t1))\n",
    "print()\n",
    "\n",
    "arr2 = np.array(t1)\n",
    "print(arr2)\n",
    "print(type(arr2))\n",
    "print()\n",
    "\n",
    "print(\"Converting the numpy 2d array into the 2d list\")\n",
    "l1 = arr2.tolist()\n",
    "print(l1)\n",
    "print(type(l1))\n",
    "\n",
    "# Explanation:\n",
    "# Converts the NumPy 2D array into a nested Python list."
   ]
  },
  {
   "cell_type": "code",
   "execution_count": 53,
   "id": "f001a4aa",
   "metadata": {},
   "outputs": [
    {
     "name": "stdout",
     "output_type": "stream",
     "text": [
      "[[10 20]\n",
      " [30 40]]\n",
      "\n",
      "[[10. 20.]\n",
      " [30. 40.]]\n"
     ]
    }
   ],
   "source": [
    "# 10. astype() – Change Data Type of Elements\n",
    "# Creates a new array with a different data type.\n",
    "\n",
    "arr2 = np.array([[10,20],[30,40]])\n",
    "print(arr2)\n",
    "print()\n",
    "\n",
    "arr2 = arr2.astype(float)\n",
    "print(arr2)"
   ]
  },
  {
   "cell_type": "code",
   "execution_count": 62,
   "id": "a127aca5",
   "metadata": {},
   "outputs": [
    {
     "name": "stdout",
     "output_type": "stream",
     "text": [
      "The array with 3 rows and 3 columns [[10 20 30]\n",
      " [40 50 60]\n",
      " [70 80 90]]\n",
      "New array with new number of rows and columns is [[10 20 30 40 50 60 70 80 90]]\n"
     ]
    }
   ],
   "source": [
    "# 11. reshape() – Change the Shape of the Array\n",
    "# Changes the shape (rows and columns) without changing the data.\n",
    "# Return the new array with new number of rows and columns\n",
    "arr2 = np.array([[10,20,30],[40,50,60],[70,80,90]])\n",
    "print(\"The array with 3 rows and 3 columns\",arr2)\n",
    "\n",
    "reshape_arr2 = arr2.reshape(1,9)\n",
    "print(\"New array with new number of rows and columns is\",reshape_arr2)\n"
   ]
  },
  {
   "cell_type": "code",
   "execution_count": 65,
   "id": "43b53c05",
   "metadata": {},
   "outputs": [
    {
     "name": "stdout",
     "output_type": "stream",
     "text": [
      "[[10 20]\n",
      " [30 40]]\n",
      "\n",
      "[10 20 30 40]\n",
      "After modifying the 0th index of the 1D array the 0th index of the 2D array is [[1000   20]\n",
      " [  30   40]]\n"
     ]
    }
   ],
   "source": [
    "# 12. ravel() – Flatten the Array\n",
    "# The ravel() method in NumPy is used to convert a multi-dimensional array (like a 2D array) into a 1D array. \n",
    "# It returns a new 1D view (or a copy) of the original array.\n",
    "# On modifying the 1D array the changes will be reflected into the 2D array.\n",
    "\n",
    "arr2 = np.array([[10,20],[30,40]])\n",
    "print(arr2)\n",
    "print()\n",
    "\n",
    "arr1 = arr2.ravel()\n",
    "print(arr1)\n",
    "arr1[0] = 1000\n",
    "print(\"After modifying the 0th index of the 1D array the 0th index of the 2D array is\",arr2)\n"
   ]
  },
  {
   "cell_type": "code",
   "execution_count": 70,
   "id": "117e7f86",
   "metadata": {},
   "outputs": [
    {
     "name": "stdout",
     "output_type": "stream",
     "text": [
      "[[10 20]\n",
      " [30 40]]\n",
      "\n",
      "[10 20 30 40]\n",
      "\n",
      "On modifying the 0th index of the 1D array the changes will not reflected into the 2D array\n",
      "\n",
      "1D array [10000    20    30    40]\n",
      "2D array [[10 20]\n",
      " [30 40]]\n"
     ]
    }
   ],
   "source": [
    "# 12. flatten() – Flatten the Array\n",
    "# The flatten() method in NumPy is used to convert a multi-dimensional array (like a 2D array) into a 1D array. \n",
    "# It returns a new copy of the original array.\n",
    "# On modifying the 1D array the changes will not be reflected into the 2D array.\n",
    "\n",
    "arr2 = np.array([[10,20],[30,40]])\n",
    "print(arr2)\n",
    "print()\n",
    "\n",
    "arr1 = arr2.flatten()\n",
    "print(arr1)\n",
    "print()\n",
    "\n",
    "print(\"On modifying the 0th index of the 1D array the changes will not reflected into the 2D array\")\n",
    "arr1[0] = 10000\n",
    "print()\n",
    "\n",
    "print(\"1D array\",arr1)\n",
    "print(\"2D array\",arr2)"
   ]
  },
  {
   "cell_type": "markdown",
   "id": "5d15bc9b",
   "metadata": {},
   "source": [
    "# Methods of 2D NumPy Arrays "
   ]
  },
  {
   "cell_type": "code",
   "execution_count": 1,
   "id": "18c610d2",
   "metadata": {},
   "outputs": [],
   "source": [
    "# A 2D NumPy array is a matrix with rows and columns.\n",
    "# NumPy provides various methods for manipulating, transforming, and analyzing these arrays."
   ]
  },
  {
   "cell_type": "code",
   "execution_count": 8,
   "id": "6c5f2a12",
   "metadata": {},
   "outputs": [
    {
     "name": "stdout",
     "output_type": "stream",
     "text": [
      "[[10 20 30]\n",
      " [40 50 60]]\n",
      "Reshaping the 2 X 3 numpy array into 1 X 6 array\n",
      "[[10 40 20 50 30 60]]\n",
      "  C_CONTIGUOUS : True\n",
      "  F_CONTIGUOUS : True\n",
      "  OWNDATA : False\n",
      "  WRITEABLE : True\n",
      "  ALIGNED : True\n",
      "  WRITEBACKIFCOPY : False\n",
      "\n"
     ]
    }
   ],
   "source": [
    "# 1️⃣ reshape() – Change Shape of an Array\n",
    "# ✔ Used to change the dimensions of an array without changing the data.\n",
    "\n",
    "# 🔹 Syntax:\n",
    "# numpy.ndarray.reshape(new_shape, order='C')\n",
    "\n",
    "# 🔹 Parameters:\n",
    "# Parameter\tDescription\n",
    "# new_shape\tA tuple representing the new shape\n",
    "# order\t'C' (row-wise), 'F' (column-wise), or 'A' (automatic)\n",
    "\n",
    "import numpy as np\n",
    "\n",
    "arr1 = np.array([[10,20,30],[40,50,60]])\n",
    "print(arr1)\n",
    "\n",
    "print(\"Reshaping the 2 X 3 numpy array into 1 X 6 array\")\n",
    "reshape_arr =arr1.reshape(1,6,order='F')\n",
    "print(reshape_arr)\n",
    "print(reshape_arr.flags)"
   ]
  },
  {
   "cell_type": "code",
   "execution_count": 11,
   "id": "e0ec7616",
   "metadata": {},
   "outputs": [
    {
     "name": "stdout",
     "output_type": "stream",
     "text": [
      "[[10 20 30]\n",
      " [40 50 60]]\n",
      "[[10 40]\n",
      " [20 50]\n",
      " [30 60]]\n"
     ]
    }
   ],
   "source": [
    "# 2️⃣ transpose() – Swap Rows and Columns\n",
    "# ✔ Flips the rows and columns of a 2D array.\n",
    "\n",
    "# 🔹 Syntax:\n",
    "# numpy.ndarray.transpose()\n",
    "\n",
    "arr2 = np.array([[10,20,30],[40,50,60]])\n",
    "print(arr2)\n",
    "\n",
    "# Return the new array in which rows becomes columns and columns become rows.\n",
    "\n",
    "arr_transpose = arr2.transpose()\n",
    "print(arr_transpose)"
   ]
  },
  {
   "cell_type": "code",
   "execution_count": 14,
   "id": "a21c761b",
   "metadata": {},
   "outputs": [
    {
     "name": "stdout",
     "output_type": "stream",
     "text": [
      "[[10 20]\n",
      " [40 50]\n",
      " [60 70]]\n",
      "1D array is\n",
      "[10 20 40 50 60 70]\n"
     ]
    }
   ],
   "source": [
    "# 3️⃣ flatten() – Convert 2D Array to 1D (Copy)\n",
    "# ✔ Creates a new 1D array as a copy.\n",
    "\n",
    "# 🔹 Syntax:\n",
    "# numpy.ndarray.flatten(order='C')\n",
    "\n",
    "# 🔹 Parameters:\n",
    "# Parameter\tDescription\n",
    "# order\t'C' (row-wise), 'F' (column-wise), 'A' (automatic)\n",
    "\n",
    "arr2 = np.array([[10,20],[40,50],[60,70]])\n",
    "print(arr2)\n",
    "\n",
    "# Creates the copy of all elements of 2D array into 1D array.\n",
    "\n",
    "print(\"1D array is\")\n",
    "arr1 = arr2.flatten()\n",
    "print(arr1)"
   ]
  },
  {
   "cell_type": "code",
   "execution_count": 15,
   "id": "10befe0d",
   "metadata": {},
   "outputs": [
    {
     "name": "stdout",
     "output_type": "stream",
     "text": [
      "[[10 20 30]\n",
      " [40 50 60]]\n",
      "[10 20 30 40 50 60]\n"
     ]
    }
   ],
   "source": [
    "# 4️⃣ ravel() – Convert 2D Array to 1D (View)\n",
    "# ✔ Returns a flattened view of the array (modifies original if changed).\n",
    "\n",
    "# 🔹 Syntax:\n",
    "# numpy.ndarray.ravel(order='C')\n",
    "\n",
    "arr2 = np.array([[10,20,30],[40,50,60]],order='C')\n",
    "print(arr2)\n",
    "\n",
    "arr1 = arr2.ravel()\n",
    "print(arr1)"
   ]
  },
  {
   "cell_type": "code",
   "execution_count": 16,
   "id": "59fb23a1",
   "metadata": {},
   "outputs": [
    {
     "name": "stdout",
     "output_type": "stream",
     "text": [
      "[[1 2 5 6]\n",
      " [3 4 7 8]]\n"
     ]
    }
   ],
   "source": [
    "# 5️⃣ hstack() – Horizontally Stack Arrays\n",
    "# ✔ Joins arrays side by side (col-wise).\n",
    "\n",
    "# 🔹 Syntax:\n",
    "# np.hstack((array1, array2))\n",
    "\n",
    "arr1 = np.array([[1,2],[3,4]])\n",
    "arr2 = np.array([[5,6],[7,8]])\n",
    "\n",
    "res = np.hstack((arr1,arr2))\n",
    "print(res)"
   ]
  },
  {
   "cell_type": "code",
   "execution_count": 18,
   "id": "18a0fce7",
   "metadata": {},
   "outputs": [
    {
     "name": "stdout",
     "output_type": "stream",
     "text": [
      "[[1 2]\n",
      " [3 4]\n",
      " [5 6]\n",
      " [7 8]]\n"
     ]
    }
   ],
   "source": [
    "# 6️⃣ vstack() – Vertically Stack Arrays\n",
    "# ✔ Joins arrays on top of each other (row-wise).\n",
    "\n",
    "# 🔹 Syntax:\n",
    "# np.vstack((array1, array2))\n",
    "\n",
    "\n",
    "arr1 = np.array([[1,2],[3,4]])\n",
    "arr2 = np.array([[5,6],[7,8]])\n",
    "\n",
    "res = np.vstack((arr1,arr2))\n",
    "print(res)"
   ]
  },
  {
   "cell_type": "code",
   "execution_count": 28,
   "id": "d2a80bc6",
   "metadata": {},
   "outputs": [
    {
     "name": "stdout",
     "output_type": "stream",
     "text": [
      "[[1 2 3 4]\n",
      " [5 6 7 8]]\n",
      "[array([[1, 2],\n",
      "       [5, 6]]), array([[3, 4],\n",
      "       [7, 8]])]\n",
      "<class 'list'>\n",
      "[array([[1],\n",
      "       [5]]), array([[2],\n",
      "       [6]]), array([[3],\n",
      "       [7]]), array([[4],\n",
      "       [8]])]\n",
      "<class 'list'>\n",
      "[[1]\n",
      " [5]] <class 'numpy.ndarray'>\n",
      "[[2]\n",
      " [6]] <class 'numpy.ndarray'>\n",
      "[[3]\n",
      " [7]] <class 'numpy.ndarray'>\n",
      "[[4]\n",
      " [8]] <class 'numpy.ndarray'>\n"
     ]
    }
   ],
   "source": [
    "# 7️⃣ hsplit() – Split an Array Horizontally\n",
    "# ✔ Divides an array into multiple sub-arrays column-wise.\n",
    "# It will return the data in the form of list , which contains the sub-array based on split value passed. \n",
    "\n",
    "# 🔹 Syntax:\n",
    "# np.hsplit(array, num_splits)\n",
    "\n",
    "\n",
    "arr2 = np.array([[1,2,3,4],[5,6,7,8]])\n",
    "print(arr1)\n",
    "\n",
    "#Here it will return the list contains two arrays. \n",
    "res = np.hsplit(arr2,2)\n",
    "print(res)\n",
    "print(type(res))\n",
    "\n",
    "res = np.hsplit(arr2,4)\n",
    "print(res)\n",
    "print(type(res))\n",
    "print(res[0],type(res[0]))\n",
    "print(res[1],type(res[1]))\n",
    "print(res[2],type(res[2]))\n",
    "print(res[3],type(res[3]))"
   ]
  },
  {
   "cell_type": "code",
   "execution_count": 32,
   "id": "c94ebdb4",
   "metadata": {},
   "outputs": [
    {
     "name": "stdout",
     "output_type": "stream",
     "text": [
      "[[1 2 3 4]\n",
      " [5 6 7 8]]\n",
      "[array([[1, 2, 3, 4]]), array([[5, 6, 7, 8]])]\n"
     ]
    }
   ],
   "source": [
    "# 8️⃣ vsplit() – Split an Array Vertically\n",
    "# ✔ Divides an array into multiple sub-arrays row-wise.\n",
    "\n",
    "# 🔹 Syntax:\n",
    "# np.vsplit(array, num_splits)\n",
    "\n",
    "arr2 = np.array([[1,2,3,4],[5,6,7,8]])\n",
    "print(arr2)\n",
    "\n",
    "res = np.vsplit(arr2,2)\n",
    "print(res)\n",
    "\n",
    "# this give error bcz we can't divide the array into 3 rows as the original array itself does not contains the 3 rows.\n",
    "# res = np.vsplit(arr2,3)\n",
    "# print(res)"
   ]
  },
  {
   "cell_type": "code",
   "execution_count": 36,
   "id": "cf899ead",
   "metadata": {},
   "outputs": [
    {
     "name": "stdout",
     "output_type": "stream",
     "text": [
      "Concatencated two arrays row-wise\n",
      "[[ 1  2  3  4]\n",
      " [ 5  6  7  8]\n",
      " [ 9 10 11 12]\n",
      " [13 14 15 16]]\n",
      "Concatencated two arrays column-wise\n",
      "[[ 1  2  3  4  9 10 11 12]\n",
      " [ 5  6  7  8 13 14 15 16]]\n"
     ]
    }
   ],
   "source": [
    "# 9️⃣ concatenate() – Merge Arrays\n",
    "# ✔ Joins two or more arrays along a specified axis.\n",
    "# return the new array which the concatenation of the two array,or we can say it contains all the elements of two arrays.\n",
    "\n",
    "# 🔹 Syntax:\n",
    "# np.concatenate((arr1, arr2), axis)\n",
    "\n",
    "# axis = 0 means row\n",
    "# axis = 1 means column\n",
    "\n",
    "arr1 = np.array([[1,2,3,4],[5,6,7,8]])\n",
    "arr2 = np.array([[9,10,11,12],[13,14,15,16]])\n",
    "\n",
    "print(\"Concatencated two arrays row-wise\")\n",
    "res = np.concatenate((arr1,arr2),axis=0)\n",
    "print(res)\n",
    "\n",
    "print(\"Concatencated two arrays column-wise\")\n",
    "res = np.concatenate((arr1,arr2),axis=1)\n",
    "print(res)"
   ]
  },
  {
   "cell_type": "code",
   "execution_count": 42,
   "id": "e9aec7d2",
   "metadata": {},
   "outputs": [
    {
     "name": "stdout",
     "output_type": "stream",
     "text": [
      "[[10 20 30]\n",
      " [40 20 30]]\n",
      "[10 20 30 40]\n",
      "<class 'numpy.ndarray'>\n",
      "1\n"
     ]
    }
   ],
   "source": [
    "# 🔟 unique() – Find Unique Elements\n",
    "# ✔ Finds the unique elements in an array.\n",
    "#  return the 1D array which contains unique elements.\n",
    "\n",
    "# 🔹 Syntax:\n",
    "# np.unique(array)\n",
    "\n",
    "arr1 = np.array([[10,20,30],[40,20,30]])\n",
    "print(arr1)\n",
    "\n",
    "res = np.unique(arr1)\n",
    "print(res)\n",
    "print(type(res))\n",
    "print(res.ndim)"
   ]
  },
  {
   "cell_type": "code",
   "execution_count": 48,
   "id": "93404ce4",
   "metadata": {},
   "outputs": [
    {
     "name": "stdout",
     "output_type": "stream",
     "text": [
      "[[1 2 3 4]\n",
      " [5 6 7 8]]\n",
      "\n",
      "(array([0, 0, 1, 1, 1, 1], dtype=int64), array([2, 3, 0, 1, 2, 3], dtype=int64))\n",
      "<class 'tuple'>\n",
      "\n",
      "(array([1, 1], dtype=int64), array([2, 3], dtype=int64))\n",
      "<class 'tuple'>\n"
     ]
    }
   ],
   "source": [
    "# 1️⃣1️⃣ where() – Find Indices Based on a Condition\n",
    "# ✔ Returns indices where the condition is True.\n",
    "# Return the tuple containing array which stores the indices for which the condition returns true. \n",
    "\n",
    "# 🔹 Syntax:\n",
    "# np.where(condition)\n",
    "\n",
    "arr1 = np.array([[1,2,3,4],[5,6,7,8]])\n",
    "print(arr1)\n",
    "print()\n",
    "\n",
    "indices1  = np.where(arr1>2)\n",
    "print(indices1)\n",
    "print(type(indices1))\n",
    "print()\n",
    "\n",
    "indices2 = np.where(arr1>6)\n",
    "print(indices2)\n",
    "print(type(indices2))"
   ]
  },
  {
   "cell_type": "code",
   "execution_count": 54,
   "id": "b04f27d7",
   "metadata": {},
   "outputs": [
    {
     "name": "stdout",
     "output_type": "stream",
     "text": [
      "[[1 2 3 4]\n",
      " [5 6 7 8]]\n",
      "[[3 3 3 4]\n",
      " [5 6 6 6]]\n",
      "[[2 2 3 4]\n",
      " [5 6 6 6]]\n"
     ]
    }
   ],
   "source": [
    "# 1️⃣2️⃣ clip() – Limit Values to a Range\n",
    "# ✔ Limits the values between min and max.\n",
    "\n",
    "# Syntax:\n",
    "# np.clip(array, min, max)\n",
    "\n",
    "arr2 = np.array([[1,2,3,4],[5,6,7,8]])\n",
    "print(arr2)\n",
    "\n",
    "# It will return the new 2D array, if any value less than the min value then it set to min\n",
    "# and if any value is greater than the max value then set to max \n",
    "res = arr2.clip(3,6)\n",
    "print(res)\n",
    "\n",
    "res = np.clip(arr2,2,6)\n",
    "print(res)"
   ]
  },
  {
   "cell_type": "code",
   "execution_count": 14,
   "id": "f691b943",
   "metadata": {},
   "outputs": [
    {
     "name": "stdout",
     "output_type": "stream",
     "text": [
      "[[10. 20.]\n",
      " [40. 50.]]\n",
      "float64\n",
      "\n",
      "[[10 20]\n",
      " [40 50]]\n",
      "\n",
      "[[100  20]\n",
      " [ 40  50]]\n",
      "[[10. 20.]\n",
      " [40. 50.]]\n",
      "\n"
     ]
    }
   ],
   "source": [
    "# 13. The astype() method in NumPy is used to convert the data type (dtype) of a NumPy array to another data type. \n",
    "# It creates a new array with the specified dtype while keeping the original array unchanged.\n",
    "\n",
    "# 🔹 Syntax\n",
    "# numpy.ndarray.astype(dtype, order='K', casting='unsafe', subok=True, copy=True)\n",
    "\n",
    "# 🔹 Parameters\n",
    "# Parameter\tDescription\n",
    "# dtype\tThe target data type (e.g., int, float, bool, complex)\n",
    "# order\t'C' (row-major), 'F' (column-major), 'A' (automatic), 'K' (keep original order)\n",
    "# casting\tControls type conversion: 'no', 'equiv', 'safe', 'same_kind', 'unsafe'\n",
    "# subok\tIf True, subclasses are passed through; otherwise, a base class is used\n",
    "# copy\tIf True, always returns a new array; if False, returns a new array only if necessary\n",
    "\n",
    "\n",
    "import numpy as np\n",
    "\n",
    "arr2d = np.array([[10,20],[40,50]],dtype = float)\n",
    "print(arr2d)\n",
    "print(arr2d.dtype)\n",
    "print()\n",
    "\n",
    "res_2d = arr2d.astype(int,copy=True)\n",
    "print(res_2d)\n",
    "print()\n",
    "\n",
    "res_2d[0][0] = 100\n",
    "print(res_2d)\n",
    "print(arr2d)\n",
    "print()\n",
    "\n",
    "# If copy=True (default), a new array is always created.\n",
    "# If copy=False, NumPy avoids making a copy when possible (if the dtype remains unchanged)."
   ]
  },
  {
   "cell_type": "code",
   "execution_count": 21,
   "id": "727d99f1",
   "metadata": {},
   "outputs": [
    {
     "name": "stdout",
     "output_type": "stream",
     "text": [
      "Original Array [[10 20]\n",
      " [30 40]]\n",
      "\n",
      "Copy Array [[10 20]\n",
      " [30 40]]\n",
      "\n",
      "After changing the copy array 0th row and 0th column the array is [[1000   20]\n",
      " [  30   40]]\n",
      "\n",
      "The chnages done in the copy array is not reflected into the original array [[10 20]\n",
      " [30 40]]\n"
     ]
    }
   ],
   "source": [
    "# 14 copy(). Method in NumPy for 2D Arrays\n",
    "\n",
    "# The copy() method in NumPy is used to create an explicit copy of an array. \n",
    "# This ensures that modifications to the new array do not affect the original one.\n",
    "\n",
    "# 🔹 Syntax\n",
    "# new_array = old_array.copy(order='C')\n",
    "\n",
    "# 🔹 Parameters\n",
    "# Parameter\tDescription\tDefault\n",
    "# order\tSpecifies memory layout of the copied array. Options: 'C', 'F', 'A', 'K'\t'C'\n",
    "\n",
    "\n",
    "arr2d = np.array([[10,20],[30,40]])\n",
    "print(\"Original Array\",arr2d)\n",
    "print()\n",
    "\n",
    "copy_arr2d = np.copy(arr2d,order='C')\n",
    "print(\"Copy Array\",copy_arr2d)\n",
    "\n",
    "copy_arr2d[0][0] = 1000\n",
    "print()\n",
    "\n",
    "print(\"After changing the copy array 0th row and 0th column the array is\",copy_arr2d)\n",
    "print()\n",
    "print(\"The chnages done in the copy array is not reflected into the original array\",arr2d)"
   ]
  },
  {
   "cell_type": "code",
   "execution_count": 27,
   "id": "3e02eb7d",
   "metadata": {},
   "outputs": [
    {
     "name": "stdout",
     "output_type": "stream",
     "text": [
      "[[10 20 30 40]\n",
      " [50 60 70 80]]\n",
      "\n",
      "On converting the data type from int to float we don't get the original values instead we get the binary value as float [[4.24399158e-313 8.48798317e-313]\n",
      " [1.27319747e-312 1.69759663e-312]]\n"
     ]
    }
   ],
   "source": [
    "# 15.view() Method \n",
    "# The view() method in NumPy allows us to create a new view (or shallow copy) of an array without copying the actual data. \n",
    "# This means that changes to the view will reflect in the original array.\n",
    "\n",
    "# 🔹 Syntax\n",
    "# new_view = old_array.view(dtype=None)\n",
    "\n",
    "# 🔹 Parameters\n",
    "# Parameter\tDescription\tDefault\n",
    "# dtype\tChanges the data type (dtype) of the view without modifying original data.\tNone (Keeps same dtype)\n",
    "\n",
    "\n",
    "arr2d = np.array([[10,20,30,40],[50,60,70,80]])\n",
    "print(arr2d)\n",
    "print()\n",
    "\n",
    "new_view = arr2d.view(dtype=float)\n",
    "print(\"On converting the data type from int to float we don't get the original values instead we get the binary value as float\",new_view)\n",
    "\n",
    "# Issue: Misaligned Data Representation\n",
    "# When you use .view(dtype=float), NumPy does not actually convert the numbers from integers to floats. \n",
    "# Instead, it reinterprets the underlying binary data as floating-point numbers. \n",
    "# Since int and float are stored differently in memory, this leads to unexpected values."
   ]
  },
  {
   "cell_type": "code",
   "execution_count": 33,
   "id": "600396a3",
   "metadata": {},
   "outputs": [
    {
     "name": "stdout",
     "output_type": "stream",
     "text": [
      "[[10 20 30 40]\n",
      " [50 60 70 80]]\n",
      "After changing the 0th row and column of the view array is [[1000   20   30   40]\n",
      " [  50   60   70   80]]\n",
      "\n",
      "The changes done in the view affect the original array [[1000   20   30   40]\n",
      " [  50   60   70   80]]\n"
     ]
    }
   ],
   "source": [
    "arr2d = np.array([[10,20,30,40],[50,60,70,80]])\n",
    "new_view = arr2d.view()\n",
    "print(new_view)\n",
    "\n",
    "new_view[0][0] = 1000\n",
    "print(\"After changing the 0th row and column of the view array is\",new_view)\n",
    "print()\n",
    "print(\"The changes done in the view affect the original array\",arr2d)\n"
   ]
  },
  {
   "cell_type": "code",
   "execution_count": 10,
   "id": "84c8b5a3",
   "metadata": {},
   "outputs": [
    {
     "name": "stdout",
     "output_type": "stream",
     "text": [
      "[10 20 30 40 50 60]\n",
      "[[10 20 30]\n",
      " [40 50 60]]\n",
      "[10 20 30 40 50 60]\n",
      "[10 20 30 40 50 60]\n",
      "[[10 20 30]\n",
      " [40 50 60]]\n"
     ]
    }
   ],
   "source": [
    "# 17.reshape() \n",
    "# The reshape() method in NumPy allows us to change the shape of an array without changing its data. \n",
    "# It is commonly used to convert a 1D array into a 2D array or change the dimensions of an existing 2D array.\n",
    "\n",
    "# 🔹 Syntax\n",
    "# numpy.ndarray.reshape(new_shape, order='C')\n",
    "\n",
    "# 🔹 Parameters\n",
    "# Parameter\tDescription\n",
    "# new_shape\tTuple specifying the new shape (rows, columns). One dimension can be -1, which means NumPy will automatically infer its value.\n",
    "# order\tSpecifies how elements should be read and placed in the reshaped array. Options: 'C', 'F', or 'A'. Default is 'C'.\n",
    "\n",
    "arr1 = np.array([10,20,30,40,50,60])\n",
    "print(arr1)\n",
    "\n",
    "arr2 = arr1.reshape(2,3)\n",
    "print(arr2)\n",
    "print(arr1)\n",
    "\n",
    "\n",
    "# When we pass -1 as the arugment in the reshape method then it is used to flatten multidimensional array into 1D array.\n",
    "new_arr = arr2.reshape(-1)\n",
    "print(new_arr)\n",
    "\n",
    "\n",
    "\n",
    "# When we pas -1 as the arugment in the reshape method either as the rows or the columns then it will automatically calculate the either rows or columns.\n",
    "new_arr = arr1.reshape((-1,3))\n",
    "print(new_arr)"
   ]
  },
  {
   "cell_type": "code",
   "execution_count": 17,
   "id": "b715bd27",
   "metadata": {},
   "outputs": [
    {
     "name": "stdout",
     "output_type": "stream",
     "text": [
      "[[10 20 30]\n",
      " [40 50 60]]\n",
      "[10 20 30 40 50 60]\n",
      "[1000   20   30   40   50   60]\n",
      "[[10 20 30]\n",
      " [40 50 60]]\n"
     ]
    }
   ],
   "source": [
    "# 18. flatten()\n",
    "# The flatten() method converts a multi-dimensional array (e.g., 2D) into a 1D array by copying the data into a new array.\n",
    "\n",
    "# Syntax\n",
    "# numpy.ndarray.flatten(order='C')\n",
    "\n",
    "# 🔹 Parameters\n",
    "# Parameter\tType\tDefault\tDescription\n",
    "# order\tstr\t'C'\tSpecifies how the array is flattened. Options: 'C', 'F', 'A', 'K'\n",
    "\n",
    "arr2 = np.array([[10,20,30],[40,50,60]])\n",
    "print(arr2)\n",
    "\n",
    "arr1 = arr2.flatten()\n",
    "print(arr1)\n",
    "\n",
    "arr1[0] = 1000\n",
    "print(arr1)\n",
    "print(arr2)"
   ]
  },
  {
   "cell_type": "code",
   "execution_count": 20,
   "id": "b2219a59",
   "metadata": {},
   "outputs": [
    {
     "name": "stdout",
     "output_type": "stream",
     "text": [
      "[[10 20 30]\n",
      " [40 50 60]]\n",
      "\n",
      "[10 20 30 40 50 60]\n",
      "\n",
      "[1000   20   30   40   50   60]\n",
      "\n",
      "[[1000   20   30]\n",
      " [  40   50   60]]\n"
     ]
    }
   ],
   "source": [
    "# 19.ravel()\n",
    "# The ravel() method flattens a multi-dimensional array (e.g., 2D) into a 1D array while trying to return a view of the original array if possible (to save memory). \n",
    "# If a view isn’t possible, it returns a copy instead.\n",
    "\n",
    "# Syntax\n",
    "# numpy.ndarray.ravel(order='C')\n",
    "\n",
    "# 🔹 Parameters\n",
    "# Parameter\tType\tDefault\tDescription\n",
    "# order\tstr\t'C'\tSpecifies how the array is flattened. Options: 'C', 'F', 'A', 'K'\n",
    "\n",
    "\n",
    "arr2 = np.array([[10,20,30],[40,50,60]])\n",
    "print(arr2)\n",
    "print()\n",
    "\n",
    "arr1 = arr2.ravel()\n",
    "print(arr1)\n",
    "print()\n",
    "\n",
    "arr1[0]= 1000\n",
    "print(arr1)\n",
    "print()\n",
    "print(arr2)"
   ]
  },
  {
   "cell_type": "code",
   "execution_count": 25,
   "id": "05a56b7f",
   "metadata": {},
   "outputs": [
    {
     "name": "stdout",
     "output_type": "stream",
     "text": [
      "[[10 20 30]\n",
      " [40 50 60]]\n",
      "\n",
      "[[  10 2000]\n",
      " [  20   50]\n",
      " [  30   60]]\n",
      "\n",
      "[[  10   20   30]\n",
      " [2000   50   60]]\n"
     ]
    }
   ],
   "source": [
    "# 20. transpose()\n",
    "# The transpose() method in NumPy swaps the axes (dimensions) of an array, \n",
    "# effectively flipping the rows and columns in a 2D array.\n",
    "\n",
    "# It return the view of the array which means when the changes will done on the tranpose array it will reflect on original array.\n",
    "\n",
    "arr2 = np.array([[10,20,30],[40,50,60]])\n",
    "print(arr2)\n",
    "print()\n",
    "\n",
    "new_arr =  arr2.transpose()\n",
    "new_arr[0][1] = 2000\n",
    "print(new_arr)\n",
    "print()\n",
    "print(arr2)"
   ]
  },
  {
   "cell_type": "code",
   "execution_count": 30,
   "id": "de3173e2",
   "metadata": {},
   "outputs": [
    {
     "name": "stdout",
     "output_type": "stream",
     "text": [
      "Original Array [[10 20 30]\n",
      " [40 50 60]\n",
      " [70 80 90]]\n",
      "Transposed Array [[10 40 70]\n",
      " [20 50 80]\n",
      " [30 60 90]]\n"
     ]
    }
   ],
   "source": [
    "# 🔹 For a 2D array, the only valid values for axes are:\n",
    "# (0, 1) → Keep the array the same (no change).\n",
    "# (1, 0) → Transpose the array (swap rows & columns).\n",
    "\n",
    "arr2 = np.array([[10,20,30],[40,50,60],[70,80,90]])\n",
    "print(\"Original Array\",arr2)\n",
    "\n",
    "transpose_arr = arr2.transpose(1,0)\n",
    "print(\"Transposed Array\",transpose_arr)"
   ]
  },
  {
   "cell_type": "code",
   "execution_count": 31,
   "id": "8c705d95",
   "metadata": {},
   "outputs": [
    {
     "name": "stdout",
     "output_type": "stream",
     "text": [
      "[[10 20 30]\n",
      " [40 50 60]]\n",
      "\n",
      "The summation of all the elements of the array is 210\n"
     ]
    }
   ],
   "source": [
    "# 21.sum() Method\n",
    "# The sum() method in NumPy computes the sum of array elements along a given axis or the entire array.\n",
    "\n",
    "# Syntax\n",
    "# numpy.ndarray.sum(axis=None, dtype=None, out=None, keepdims=False)\n",
    "\n",
    "# Parameter\tDescription\n",
    "# axis\tThe axis along which to sum the elements (0 for columns, 1 for rows, None for the entire array).\n",
    "# dtype\tThe data type of the output sum (e.g., np.float64, np.int32).\n",
    "# out\tAlternative array where the result is stored.\n",
    "# keepdims\tIf True, keeps the original dimensions (result stays 2D).\n",
    "\n",
    "\n",
    "arr2 = np.array([[10,20,30],[40,50,60]])\n",
    "print(arr2)\n",
    "print()\n",
    "\n",
    "res = arr2.sum()\n",
    "print(\"The summation of all the elements of the array is\",res)"
   ]
  },
  {
   "cell_type": "code",
   "execution_count": 32,
   "id": "b2356e35",
   "metadata": {},
   "outputs": [
    {
     "name": "stdout",
     "output_type": "stream",
     "text": [
      "The summation of all the elements of the array in float 210.0\n"
     ]
    }
   ],
   "source": [
    "res = arr2.sum(dtype=float)\n",
    "print(\"The summation of all the elements of the array in float\",res)"
   ]
  },
  {
   "cell_type": "code",
   "execution_count": 34,
   "id": "4cd09446",
   "metadata": {},
   "outputs": [
    {
     "name": "stdout",
     "output_type": "stream",
     "text": [
      "[50. 70. 90.]\n",
      "<class 'numpy.ndarray'>\n"
     ]
    }
   ],
   "source": [
    "# Here the axis 0 means add is performed column wise.\n",
    "res = arr2.sum(dtype=float,axis=0)\n",
    "print(res)\n",
    "print(type(res))"
   ]
  },
  {
   "cell_type": "code",
   "execution_count": 35,
   "id": "8417c83a",
   "metadata": {},
   "outputs": [
    {
     "name": "stdout",
     "output_type": "stream",
     "text": [
      "[ 60 150]\n"
     ]
    }
   ],
   "source": [
    "# Here the axis 1 means addition is performed row wise.\n",
    "res = arr2.sum(axis=1)\n",
    "print(res)"
   ]
  },
  {
   "cell_type": "code",
   "execution_count": 37,
   "id": "116f6874",
   "metadata": {},
   "outputs": [],
   "source": [
    "# Specifying the array in which the output must be store.\n",
    "# arr2.sum(out=arr2)\n",
    "# print(arr2)\n",
    "\n",
    "# ValueError: output parameter for reduction operation add has the wrong number of dimensions: Found 2 but expected 0\n",
    "\n",
    "\n",
    "# Why Does This Error Occur?\n",
    "# The out parameter should match the output shape\n",
    "# When sum() is called without an axis (axis=None), it returns a single scalar value (not an array).\n",
    "# But arr2 is a 2D array, which cannot hold a single scalar value.\n",
    "# NumPy expects out to have the same shape as the result.\n"
   ]
  },
  {
   "cell_type": "code",
   "execution_count": 42,
   "id": "af8dfda2",
   "metadata": {},
   "outputs": [
    {
     "name": "stdout",
     "output_type": "stream",
     "text": [
      "[0. 0. 0.]\n",
      "[50. 70. 90.]\n"
     ]
    }
   ],
   "source": [
    "arr1 = np.zeros((3,))\n",
    "print(arr1)\n",
    "\n",
    "# Here the addition is performed colums which return 1D array containing 3 values\n",
    "# As the arr1 array have shape required to hold the result return from sum method so we can hold the data into it.\n",
    "arr2.sum(out=arr1,axis=0)\n",
    "print(arr1)"
   ]
  },
  {
   "cell_type": "code",
   "execution_count": 43,
   "id": "0046edfd",
   "metadata": {},
   "outputs": [],
   "source": [
    "# 22.numpy.mean() – Compute the Mean of an Array\n",
    "# The numpy.mean() function calculates the arithmetic mean (average) of an array along the specified axis.\n",
    "\n",
    "# 🔹 Syntax\n",
    "# numpy.mean(a, axis=None, dtype=None, out=None, keepdims=False, where=True)"
   ]
  },
  {
   "cell_type": "code",
   "execution_count": 46,
   "id": "ab9c389c",
   "metadata": {},
   "outputs": [
    {
     "name": "stdout",
     "output_type": "stream",
     "text": [
      "[[1 2 3]\n",
      " [4 5 6]]\n",
      "3.5\n"
     ]
    }
   ],
   "source": [
    "# Parameters\n",
    "# 1️⃣ a (Required)\n",
    "# The input array-like object for which we need to calculate the mean.\n",
    "# Can be a list, tuple, or NumPy array.\n",
    "\n",
    "arr2 = np.array([[1,2,3],[4,5,6]])\n",
    "print(arr2)\n",
    "print(arr2.mean())\n",
    "# The mean of all elements (1+2+3+4+5+6) / 6 = 3.5."
   ]
  },
  {
   "cell_type": "code",
   "execution_count": 49,
   "id": "29317e72",
   "metadata": {},
   "outputs": [
    {
     "name": "stdout",
     "output_type": "stream",
     "text": [
      "[[1 2 3]\n",
      " [4 5 6]]\n",
      "Column wise mean of the array [2.5 3.5 4.5]\n",
      "Row wise mean of the array [2. 5.]\n"
     ]
    }
   ],
   "source": [
    "# 2️⃣ axis (Optional, Default = None)\n",
    "# Specifies the axis along which the mean is computed:\n",
    "# axis=None → Computes mean of all elements (default).\n",
    "# axis=0 → Computes mean column-wise (downwards).\n",
    "# axis=1 → Computes mean row-wise (horizontally).\n",
    "\n",
    "arr2 = np.array([[1,2,3],[4,5,6]])\n",
    "print(arr2)\n",
    "\n",
    "res = arr2.mean(axis=0)\n",
    "print(\"Column wise mean of the array\",res)\n",
    "\n",
    "res = arr2.mean(axis=1)\n",
    "print(\"Row wise mean of the array\",res)\n",
    "\n",
    "# axis=0: Mean column-wise → [(1+4)/2, (2+5)/2, (3+6)/2] = [2.5, 3.5, 4.5]\n",
    "# axis=1: Mean row-wise → [(1+2+3)/3, (4+5+6)/3] = [2.0, 5.0]"
   ]
  },
  {
   "cell_type": "code",
   "execution_count": 54,
   "id": "471bc9a7",
   "metadata": {},
   "outputs": [
    {
     "name": "stdout",
     "output_type": "stream",
     "text": [
      "[[1 2 3]\n",
      " [4 5 6]]\n",
      "3.5\n",
      "<class 'numpy.float32'>\n"
     ]
    }
   ],
   "source": [
    "# 3️⃣ dtype (Optional, Default = None)\n",
    "# Specifies the data type for computation.\n",
    "# If not given, it uses:\n",
    "# float64 for int input\n",
    "# Same dtype for float input\n",
    "\n",
    "arr2 = np.array([[1,2,3],[4,5,6]])\n",
    "print(arr2)\n",
    "\n",
    "res = arr2.mean(dtype=np.float32)\n",
    "print(res)\n",
    "print(type(res))"
   ]
  },
  {
   "cell_type": "code",
   "execution_count": 55,
   "id": "7728afb2",
   "metadata": {},
   "outputs": [
    {
     "name": "stdout",
     "output_type": "stream",
     "text": [
      "[1. 1. 1.]\n",
      "[[1 2 3]\n",
      " [4 5 6]]\n",
      "[2.5 3.5 4.5]\n"
     ]
    }
   ],
   "source": [
    "# 4️⃣ out (Optional, Default = None)\n",
    "# Used to store the result in a given array.\n",
    "# Must have the same shape as the output.\n",
    "\n",
    "output_arr = np.ones((3,))\n",
    "print(output_arr)\n",
    "\n",
    "arr2 = np.array([[1,2,3],[4,5,6]])\n",
    "print(arr2)\n",
    "\n",
    "arr2.mean(out=output_arr,axis=0)\n",
    "print(output_arr)"
   ]
  },
  {
   "cell_type": "code",
   "execution_count": 60,
   "id": "c4a286d1",
   "metadata": {},
   "outputs": [
    {
     "name": "stdout",
     "output_type": "stream",
     "text": [
      "[[1 2 3]\n",
      " [4 5 6]]\n",
      "Return the data in the form of 1D array [2.5 3.5 4.5]\n",
      "Return the data in the form of original array shape [[2.5 3.5 4.5]]\n"
     ]
    }
   ],
   "source": [
    "# 5️⃣ keepdims (Optional, Default = False)\n",
    "# If True, retains the same number of dimensions as input.\n",
    "# Otherwise, the result is broadcasted to fewer dimensions.\n",
    "\n",
    "arr2 = np.array([[1,2,3],[4,5,6]])\n",
    "print(arr2)\n",
    "\n",
    "res1 = arr2.mean(axis=0)\n",
    "print(\"Return the data in the form of 1D array\",res1)\n",
    "\n",
    "res2 = arr2.mean(axis=0,keepdims=True)\n",
    "print(\"Return the data in the form of original array shape\",res2)\n"
   ]
  },
  {
   "cell_type": "code",
   "execution_count": null,
   "id": "00229a73",
   "metadata": {},
   "outputs": [],
   "source": [
    "# Both std() (Standard Deviation) and var() (Variance) are used to measure the spread of data in an array.\n",
    "\n",
    "# 23.std() – Compute the Standard Deviation\n",
    "\n",
    "# 🔹 Syntax:\n",
    "# numpy.std(a, axis=None, dtype=None, out=None, ddof=0, keepdims=False)\n",
    "\n",
    "# 🔹 Parameters:\n",
    "# Parameter\tDescription\n",
    "# a\tInput 2D array.\n",
    "# axis\tAxis along which to compute the standard deviation. Default is None (global std).\n",
    "# dtype\tData type for computations. Default is the same as input.\n",
    "# out\tOptional output array to store the result. Must match the expected shape.\n",
    "# ddof\t\"Delta Degrees of Freedom\" (default 0). Use ddof=1 for sample standard deviation.\n",
    "# keepdims\tIf True, keeps the reduced dimension as 1.\n",
    "\n",
    "# 🔹 Return Type:\n",
    "# NumPy scalar (numpy.float64) if axis=None\n",
    "# NumPy array (numpy.ndarray) if axis is specified"
   ]
  },
  {
   "cell_type": "code",
   "execution_count": 61,
   "id": "2443042a",
   "metadata": {},
   "outputs": [
    {
     "name": "stdout",
     "output_type": "stream",
     "text": [
      "[[1 2 3]\n",
      " [4 5 6]]\n",
      "1.707825127659933\n"
     ]
    }
   ],
   "source": [
    "# Standard Deviation of Entire 2D Array\n",
    "\n",
    "arr2 = np.array([[1,2,3],[4,5,6]])\n",
    "print(arr2)\n",
    "\n",
    "res = arr2.std()\n",
    "print(res)\n",
    "\n",
    "# Since axis=None, it returns a single scalar (numpy.float64)."
   ]
  },
  {
   "cell_type": "code",
   "execution_count": 68,
   "id": "8b5dd606",
   "metadata": {},
   "outputs": [
    {
     "name": "stdout",
     "output_type": "stream",
     "text": [
      "[[1 2 3]\n",
      " [4 5 6]]\n",
      "\n",
      "Column Wise [1.5 1.5 1.5]\n",
      "\n",
      "[[1 2 3]\n",
      " [4 5 6]]\n",
      "\n",
      "Row Wise [0.81649658 0.81649658]\n",
      "\n"
     ]
    }
   ],
   "source": [
    "# Standard Deviation Along an Axis\n",
    "\n",
    "# axis 0 means columns wise std()\n",
    "\n",
    "arr2 = np.array([[1,2,3],[4,5,6]])\n",
    "print(arr2)\n",
    "print()\n",
    "\n",
    "res = arr2.std(axis=0)\n",
    "print(\"Column Wise\",res)\n",
    "print()\n",
    "\n",
    "# When axis is 1.\n",
    "# axis 0 means row wise std()\n",
    "\n",
    "arr2 = np.array([[1,2,3],[4,5,6]])\n",
    "print(arr2)\n",
    "print()\n",
    "\n",
    "res = arr2.std(axis=1)\n",
    "print(\"Row Wise\",res)\n",
    "print()\n",
    "\n",
    "\n",
    "# If axis=0, we get a 1D array where each column's std is calculated.\n",
    "# If axis=1, we get a 1D array where each row's std is calculated."
   ]
  },
  {
   "cell_type": "code",
   "execution_count": 70,
   "id": "bd4ec339",
   "metadata": {},
   "outputs": [
    {
     "name": "stdout",
     "output_type": "stream",
     "text": [
      "[[1 2 3]\n",
      " [4 5 6]]\n",
      "\n",
      "[2.12132034 2.12132034 2.12132034]\n"
     ]
    }
   ],
   "source": [
    "# Using ddof=1 (Sample Standard Deviation)\n",
    "\n",
    "arr2 = np.array([[1,2,3],[4,5,6]])\n",
    "print(arr2)\n",
    "print()\n",
    "\n",
    "res = arr2.std(axis=0,ddof=1)\n",
    "print(res)\n",
    "\n",
    "# For sample std deviation (ddof=1), variance is divided by N-1 instead of N."
   ]
  },
  {
   "cell_type": "code",
   "execution_count": 75,
   "id": "81c3658c",
   "metadata": {},
   "outputs": [
    {
     "name": "stdout",
     "output_type": "stream",
     "text": [
      "[1. 1. 1.]\n",
      "[[1 2 3]\n",
      " [4 5 6]]\n",
      "\n",
      "[[1.5 1.5 1.5]]\n"
     ]
    }
   ],
   "source": [
    "#  Using keepdims=True\n",
    "\n",
    "output = np.ones(3,)\n",
    "print(output)\n",
    "\n",
    "arr2 = np.array([[1,2,3],[4,5,6]])\n",
    "print(arr2)\n",
    "print()\n",
    "\n",
    "res = arr2.std(axis=0,keepdims=True)\n",
    "print(res)\n",
    "\n",
    "# Keeps reduced dimensions intact instead of collapsing them."
   ]
  },
  {
   "cell_type": "code",
   "execution_count": 77,
   "id": "c5d1065e",
   "metadata": {},
   "outputs": [
    {
     "name": "stdout",
     "output_type": "stream",
     "text": [
      "[[1 2 3]\n",
      " [4 5 6]]\n",
      "\n",
      "2.9166666666666665\n"
     ]
    }
   ],
   "source": [
    "# 24.var() – Compute the Variance\n",
    "\n",
    "# 🔹 Syntax:\n",
    "# numpy.var(a, axis=None, dtype=None, out=None, ddof=0, keepdims=False)\n",
    "\n",
    "# ✔ Same parameters as std(), but it returns the variance instead.\n",
    "\n",
    "# Variance of Entire 2D Array\n",
    "\n",
    "arr2 = np.array([[1,2,3],[4,5,6]])\n",
    "print(arr2)\n",
    "print()\n",
    "\n",
    "res = arr2.var()\n",
    "print(res)"
   ]
  },
  {
   "cell_type": "code",
   "execution_count": 79,
   "id": "899789f9",
   "metadata": {},
   "outputs": [
    {
     "name": "stdout",
     "output_type": "stream",
     "text": [
      "[[1 2 3]\n",
      " [4 5 6]]\n",
      "\n",
      "[2.25 2.25 2.25]\n",
      "[0.66666667 0.66666667]\n"
     ]
    }
   ],
   "source": [
    "# Variance Along an Axis\n",
    "\n",
    "arr2 = np.array([[1,2,3],[4,5,6]])\n",
    "print(arr2)\n",
    "print()\n",
    "\n",
    "res = arr2.var(axis=0)\n",
    "print(res)\n",
    "\n",
    "res = arr2.var(axis=1)\n",
    "print(res)"
   ]
  },
  {
   "cell_type": "code",
   "execution_count": 80,
   "id": "f06f06ea",
   "metadata": {},
   "outputs": [
    {
     "name": "stdout",
     "output_type": "stream",
     "text": [
      "[[1 2 3]\n",
      " [4 5 6]]\n",
      "\n",
      "3.5\n"
     ]
    }
   ],
   "source": [
    "# Using ddof=1 (Sample Variance)\n",
    "\n",
    "arr2 = np.array([[1,2,3],[4,5,6]])\n",
    "print(arr2)\n",
    "print()\n",
    "\n",
    "res = arr2.var(ddof=1)\n",
    "print(res)"
   ]
  },
  {
   "cell_type": "code",
   "execution_count": 82,
   "id": "739cad7f",
   "metadata": {},
   "outputs": [
    {
     "name": "stdout",
     "output_type": "stream",
     "text": [
      "[[1 2 3]\n",
      " [4 5 6]]\n",
      "\n",
      "[[2.91666667]]\n"
     ]
    }
   ],
   "source": [
    "# Using keepdims=True\n",
    "\n",
    "arr2 = np.array([[1,2,3],[4,5,6]])\n",
    "print(arr2)\n",
    "print()\n",
    "\n",
    "# Keep in the answer in the same array shape as the original array shape.\n",
    "res = arr2.var(keepdims=True)\n",
    "print(res)"
   ]
  },
  {
   "cell_type": "code",
   "execution_count": 1,
   "id": "c7a74179",
   "metadata": {},
   "outputs": [],
   "source": [
    "# 24.min() – Find Minimum Value\n",
    "# return the minimum value from the array along specific access or from the entire array.\n",
    "\n",
    "# 🔹 Syntax:\n",
    "# numpy.min(a, axis=None, out=None, keepdims=False, initial=None, where=True)\n",
    "\n",
    "# 🔹 Parameters:\n",
    "# Parameter\tDescription\n",
    "# a\tThe input 2D array.\n",
    "# axis\tThe axis along which to compute the minimum. Default is None (computes the global minimum).\n",
    "# out\tOptional output array where the result is stored.\n",
    "# keepdims\tIf True, keeps the reduced dimensions instead of collapsing them.\n",
    "# initial\tA starting value for comparison (useful for empty slices).\n",
    "# where\tA boolean mask that determines which elements to consider."
   ]
  },
  {
   "cell_type": "code",
   "execution_count": 5,
   "id": "66473029",
   "metadata": {},
   "outputs": [
    {
     "name": "stdout",
     "output_type": "stream",
     "text": [
      "[[3 2 1]\n",
      " [7 8 9]]\n",
      "The minimum value from the entire array is 1\n"
     ]
    }
   ],
   "source": [
    "# i.Minimum Value in Entire 2D Array\n",
    "\n",
    "arr2 = np.array([[3,2,1],[7,8,9]])\n",
    "print(arr2)\n",
    "print(\"The minimum value from the entire array is\",arr2.min())\n",
    "\n",
    "# Since axis=None, it returns a single scalar, which is the minimum value in the entire array."
   ]
  },
  {
   "cell_type": "code",
   "execution_count": 6,
   "id": "e9b9902a",
   "metadata": {},
   "outputs": [
    {
     "name": "stdout",
     "output_type": "stream",
     "text": [
      "[[ 3  2  1]\n",
      " [ 9  1 10]]\n",
      "Minimum value along each column [3 1 1]\n",
      "Minimum value along each row [1 1]\n"
     ]
    }
   ],
   "source": [
    "# ii.Minimum Value Along an Axis\n",
    "\n",
    "arr2 = np.array([[3,2,1],[9,1,10]])\n",
    "print(arr2)\n",
    "\n",
    "print(\"Minimum value along each column\",arr2.min(axis=0))\n",
    "print(\"Minimum value along each row\",arr2.min(axis=1))\n",
    "\n",
    "# If axis=0, it returns the minimum of each column.\n",
    "# If axis=1, it returns the minimum of each row."
   ]
  },
  {
   "cell_type": "code",
   "execution_count": 10,
   "id": "8d0f2f57",
   "metadata": {},
   "outputs": [
    {
     "name": "stdout",
     "output_type": "stream",
     "text": [
      "[[1 2 3]\n",
      " [4 5 0]]\n",
      "Keeping the dimension of the original array  [[1 2 0]]\n"
     ]
    }
   ],
   "source": [
    "# iii. Using keepdims=True\n",
    "\n",
    "arr2 = np.array([[1,2,3],[4,5,0]])\n",
    "print(arr2)\n",
    "print(\"Keeping the dimension of the original array \",arr2.min(keepdims=True,axis=0))\n",
    "\n",
    "# Keeps the reduced dimension instead of collapsing it."
   ]
  },
  {
   "cell_type": "code",
   "execution_count": 19,
   "id": "5c6c999c",
   "metadata": {},
   "outputs": [
    {
     "name": "stdout",
     "output_type": "stream",
     "text": [
      "[[1 2 3]\n",
      " [4 5 6]]\n",
      "finding the minimum less then the specified value -1\n",
      "[[1 2 2]]\n",
      "[[1]\n",
      " [2]]\n"
     ]
    }
   ],
   "source": [
    "# iv.Using initial\n",
    "\n",
    "arr2 = np.array([[1,2,3],[4,5,6]])\n",
    "print(arr2)\n",
    "\n",
    "print(\"finding the minimum less then the specified value\",arr2.min(initial=-1))\n",
    "# If none value is found lesser than the specified value then return the specified value.\n",
    "# Allows specifying a minimum starting value.\n",
    "\n",
    "\n",
    "arr2 = np.array([[1,2,3],[4,5,6]])\n",
    "# if the value in the any column is greater than specified value than the value in that column is replaced with the specified value.\n",
    "print(arr2.min(axis=0,keepdims=True,initial=2))\n",
    "\n",
    "\n",
    "arr2 =np.array([[1,2,3],[4,5,6]])\n",
    "# if the value in the any row is greater than specified value than the value in that row is replaced with the specified value.\n",
    "print(arr2.min(axis=0,keepdims=True,initial=2))\n",
    "print(arr2.min(axis=1,keepdims=True,initial=2))"
   ]
  },
  {
   "cell_type": "code",
   "execution_count": 25,
   "id": "e7947ff7",
   "metadata": {},
   "outputs": [],
   "source": [
    "# v.Using where\n",
    "\n",
    "# arr2 =np.array([[1,2,3],[4,5,6]])\n",
    "# mask = arr2>4\n",
    "# finding the first minimum value from the array that statisfy the condition.\n",
    "# print(arr2.min(where=mask))\n",
    "\n",
    "# \"ValueError: reduction operation 'minimum' does not have an identity, so to use a where mask one has to specify 'initial'\"\n",
    "# because when you use the where parameter, NumPy needs a default value (identity element) to compare against if there are no True values in the mask.\n",
    "# The min() function does not have a default identity value that works for all cases.\n",
    "\n",
    "# What does where=mask do?\n",
    "# mask = arr2 > 4 creates a boolean mask:\n",
    "# [[False, False, False],\n",
    "#  [False,  True,  True]]\n",
    "# This means only arr2[1,1] = 5 and arr2[1,2] = 6 are considered.\n",
    "# However, the min() function needs an initial value to start the comparison.\n",
    "\n",
    "# Why does min() fail?\n",
    "# Without an initial value, NumPy does not know what to return if there are no True values in where.\n",
    "# The error is triggered when where is used without initial, because min() does not have a default comparison value (unlike sum() which starts from 0)."
   ]
  },
  {
   "cell_type": "code",
   "execution_count": 30,
   "id": "53bf3850",
   "metadata": {},
   "outputs": [
    {
     "name": "stdout",
     "output_type": "stream",
     "text": [
      "the minimum value from the array which statisfy the condition where value > 4 is 5\n"
     ]
    }
   ],
   "source": [
    "arr2 = np.array([[1,2,3],[4,5,6]])\n",
    "mask = arr2>4\n",
    "\n",
    "# Initial is required when we use where bcz nump needs a default value to compare  against if there is no true values in the mask. \n",
    "print(\"the minimum value from the array which statisfy the condition where value > 4 is\",arr2.min(where=mask,initial=100))\n"
   ]
  },
  {
   "cell_type": "code",
   "execution_count": 32,
   "id": "ccab028b",
   "metadata": {},
   "outputs": [
    {
     "name": "stdout",
     "output_type": "stream",
     "text": [
      "[[ 1  2  3  4]\n",
      " [10 20 30  1]]\n",
      "The maximum value from the array is 30\n"
     ]
    }
   ],
   "source": [
    "# 25.max() – Find Maximum Value\n",
    "\n",
    "# 🔹 Syntax:\n",
    "# numpy.max(a, axis=None, out=None, keepdims=False, initial=None, where=True)\n",
    "# ✔ Same parameters as min(), but finds the largest value instead.\n",
    "\n",
    "#  i.Maximum Value in Entire 2D Array\n",
    "\n",
    "arr2 = np.array([[1,2,3,4],[10,20,30,1]])\n",
    "print(arr2)\n",
    "print(\"The maximum value from the array is\",arr2.max())"
   ]
  },
  {
   "cell_type": "code",
   "execution_count": 33,
   "id": "bc7e4880",
   "metadata": {},
   "outputs": [
    {
     "name": "stdout",
     "output_type": "stream",
     "text": [
      "[[ 1  2  3  4]\n",
      " [10 20 30  1]]\n",
      "Maximum value along each column [10 20 30  4]\n",
      "Maximum value along each row [ 4 30]\n"
     ]
    }
   ],
   "source": [
    "# ii.Maximum Value Along an Axis\n",
    "\n",
    "arr2 = np.array([[1,2,3,4],[10,20,30,1]])\n",
    "print(arr2)\n",
    "\n",
    "print(\"Maximum value along each column\",arr2.max(axis=0))\n",
    "print(\"Maximum value along each row\",arr2.max(axis=1))"
   ]
  },
  {
   "cell_type": "code",
   "execution_count": 35,
   "id": "c2249cc1",
   "metadata": {},
   "outputs": [
    {
     "name": "stdout",
     "output_type": "stream",
     "text": [
      "[[ 1  2  3  4]\n",
      " [10 20 30  1]]\n",
      "[[30]]\n",
      "[[10 20 30  4]]\n",
      "[[ 4]\n",
      " [30]]\n"
     ]
    }
   ],
   "source": [
    "#  iii.Using keepdims=True\n",
    "\n",
    "arr2 = np.array([[1,2,3,4],[10,20,30,1]])\n",
    "print(arr2)\n",
    "\n",
    "print(arr2.max(keepdims=True))\n",
    "print(arr2.max(keepdims=True,axis=0))\n",
    "print(arr2.max(keepdims=True,axis=1))"
   ]
  },
  {
   "cell_type": "code",
   "execution_count": 38,
   "id": "abff518c",
   "metadata": {},
   "outputs": [
    {
     "name": "stdout",
     "output_type": "stream",
     "text": [
      "[[ 1  2  3  4]\n",
      " [10 20 30  1]]\n",
      "finding the maximum value greater than the specified value in the initial parameter if not return the specified value 30\n"
     ]
    }
   ],
   "source": [
    "# iv.Using initial\n",
    "\n",
    "arr2 = np.array([[1,2,3,4],[10,20,30,1]])\n",
    "print(arr2)\n",
    "\n",
    "print(\"finding the maximum value greater than the specified value in the initial parameter if not return the specified value\",arr2.max(initial=1))"
   ]
  },
  {
   "cell_type": "code",
   "execution_count": 44,
   "id": "dba09e13",
   "metadata": {},
   "outputs": [
    {
     "name": "stdout",
     "output_type": "stream",
     "text": [
      "[[ 1  2  3  4]\n",
      " [10 20 30  1]]\n",
      "the value which is just greater than 20 is [[30]]\n"
     ]
    }
   ],
   "source": [
    "# v.Using where\n",
    "\n",
    "\n",
    "arr2 = np.array([[1,2,3,4],[10,20,30,1]])\n",
    "print(arr2)\n",
    "\n",
    "mask = arr2>20\n",
    "print(\"the value which is just greater than 20 is\",arr2.max(where=mask,initial=10,keepdims=True))\n"
   ]
  },
  {
   "cell_type": "code",
   "execution_count": 45,
   "id": "4bff60af",
   "metadata": {},
   "outputs": [
    {
     "name": "stdout",
     "output_type": "stream",
     "text": [
      "[[1 2 3]\n",
      " [6 7 8]]\n",
      "The index which contains minimum value is 0\n"
     ]
    }
   ],
   "source": [
    "# 26.argmin() – Find the Index of the Minimum Value\n",
    "\n",
    "# Syntax:\n",
    "# numpy.ndarray.argmin(axis=None, out=None, keepdims=False)\n",
    "\n",
    "# 🔹 Parameters:\n",
    "# Parameter\tDescription\n",
    "# axis\tDetermines whether to compute along rows (axis=1), columns (axis=0), or on the entire array (axis=None - default).\n",
    "# out\tAn optional output array to store the result (must have the correct shape).\n",
    "# keepdims\tIf True, keeps the output shape similar to the input array.\n",
    "\n",
    "\n",
    "arr2 = np.array([[1,2,3],[6,7,8]])\n",
    "print(arr2)\n",
    "\n",
    "# i.Finding Minimum Index Value\n",
    "\n",
    "print(\"The index which contains minimum value is\",arr2.argmin())"
   ]
  },
  {
   "cell_type": "code",
   "execution_count": 50,
   "id": "12991df8",
   "metadata": {},
   "outputs": [
    {
     "name": "stdout",
     "output_type": "stream",
     "text": [
      "[[50 40 60]\n",
      " [10 20 30]]\n",
      "[1 1 1]\n",
      "[1 0]\n"
     ]
    }
   ],
   "source": [
    "# ii.Using axis\n",
    "\n",
    "arr2 = np.array([[50,40,60],[10,20,30]])\n",
    "print(arr2)\n",
    "\n",
    "print(arr2.argmin(axis=0))\n",
    "print(arr2.argmin(axis=1))"
   ]
  },
  {
   "cell_type": "code",
   "execution_count": 53,
   "id": "2cd6da88",
   "metadata": {},
   "outputs": [
    {
     "name": "stdout",
     "output_type": "stream",
     "text": [
      "[[3]]\n"
     ]
    }
   ],
   "source": [
    "# iii. Using Keepdmins\n",
    "\n",
    "arr2 = np.array([[10,20,30],[1,2,3]])\n",
    "print(arr2.argmin(keepdims=True))"
   ]
  },
  {
   "cell_type": "code",
   "execution_count": 56,
   "id": "6d8bbd3d",
   "metadata": {},
   "outputs": [
    {
     "name": "stdout",
     "output_type": "stream",
     "text": [
      "[[  1   2   3]\n",
      " [ 10 200 300]]\n",
      "The index at which the maximum value is present is 5\n"
     ]
    }
   ],
   "source": [
    "# 27.argmax() – Find the Index of the Maximum Value\n",
    "\n",
    "#  Syntax:\n",
    "# numpy.ndarray.argmax(axis=None, out=None, keepdims=False)\n",
    "# (Same parameters as argmin().)\n",
    "\n",
    "# i.Finding Maximum Index\n",
    "\n",
    "arr2 = np.array([[1,2,3],[10,200,300]])\n",
    "print(arr2)\n",
    "\n",
    "print(\"The index at which the maximum value is present is\",arr2.argmax())"
   ]
  },
  {
   "cell_type": "code",
   "execution_count": 61,
   "id": "18039b98",
   "metadata": {},
   "outputs": [
    {
     "name": "stdout",
     "output_type": "stream",
     "text": [
      "[[  1   2   3]\n",
      " [ 10 200 300]]\n",
      "\n",
      "Index which contains minimum value along each column from the array [1 1 1]\n",
      "\n",
      "Index which contains minimum value along each row from the array [2 2]\n"
     ]
    }
   ],
   "source": [
    "# ii.Using axis\n",
    "\n",
    "arr2 = np.array([[1,2,3],[10,200,300]])\n",
    "print(arr2)\n",
    "print()\n",
    "\n",
    "print(\"Index which contains minimum value along each column from the array\",arr2.argmax(axis=0))\n",
    "print()\n",
    "print(\"Index which contains minimum value along each row from the array\",arr2.argmax(axis=1))"
   ]
  },
  {
   "cell_type": "code",
   "execution_count": 65,
   "id": "40431dd1",
   "metadata": {},
   "outputs": [
    {
     "name": "stdout",
     "output_type": "stream",
     "text": [
      "[[10 20 30]\n",
      " [30 40 50]]\n",
      "the maximum value from the array is at [[5]] index\n"
     ]
    }
   ],
   "source": [
    "# iii. Using keepdimns\n",
    "\n",
    "arr2 = np.array([[10,20,30],[30,40,50]])\n",
    "print(arr2)\n",
    "\n",
    "print(\"the maximum value from the array is at\",arr2.argmax(keepdims=True),\"index\")"
   ]
  },
  {
   "cell_type": "code",
   "execution_count": 69,
   "id": "4b66c6b7",
   "metadata": {},
   "outputs": [
    {
     "name": "stdout",
     "output_type": "stream",
     "text": [
      "[[ 4  2  3  1]\n",
      " [ 4 59 10  2]]\n",
      "After sorting [[ 1  2  3  4]\n",
      " [ 2  4 10 59]]\n"
     ]
    }
   ],
   "source": [
    "# 28.sort() Method for 2D Arrays in NumPy\n",
    "# The numpy.sort() method sorts the elements of a 2D array along a specified axis. \n",
    "# By default, sorting is done along the last axis (axis=-1, i.e., along rows).\n",
    "# Sort the original array does not return anything.\n",
    "\n",
    "# Syntax\n",
    "# numpy.sort(a, axis=-1, kind=None, order=None)\n",
    "\n",
    "# 🔹 Parameters and Explanation\n",
    "# Parameter\tDescription\n",
    "# a\tThe input NumPy array (must be 2D in this case).\n",
    "# axis\tSpecifies the axis along which to sort.\n",
    "# axis=0 → Sort each column (vertically).\n",
    "# axis=1 (default) → Sort each row (horizontally).\n",
    "# axis=None → Flattens the array and sorts all elements.\n",
    "# kind\tSorting algorithm to use:\n",
    "# \"quicksort\" (default), \"mergesort\", \"heapsort\", \"stable\".\n",
    "# order\tUsed only for structured arrays (not applicable to normal 2D arrays).\n",
    "\n",
    "\n",
    "# i. Default Sorting (Sort Rows)\n",
    "\n",
    "arr2 = np.array([[4,2,3,1],[4,59,10,2]])\n",
    "print(arr2)\n",
    "arr2.sort()\n",
    "print(\"After sorting\",arr2)"
   ]
  },
  {
   "cell_type": "code",
   "execution_count": 73,
   "id": "7bd5fc81",
   "metadata": {},
   "outputs": [
    {
     "name": "stdout",
     "output_type": "stream",
     "text": [
      "[[ 4  2  3  1]\n",
      " [ 4 59 10  2]]\n",
      "After Sorting [[ 4  2  3  1]\n",
      " [ 4 59 10  2]]\n"
     ]
    }
   ],
   "source": [
    "# ii. using Axis = 0\n",
    "arr2 = np.array([[4,2,3,1],[4,59,10,2]])\n",
    "print(arr2)\n",
    "arr2.sort(axis=0)\n",
    "print(\"After Sorting\",arr2)"
   ]
  },
  {
   "cell_type": "code",
   "execution_count": 76,
   "id": "9c954145",
   "metadata": {},
   "outputs": [
    {
     "name": "stdout",
     "output_type": "stream",
     "text": [
      "Original Array [[ 4  2  3  1]\n",
      " [ 4 59 10  2]]\n",
      "Used HeapSort to sort the array [[ 1  2  3  4]\n",
      " [ 2  4 10 59]]\n"
     ]
    }
   ],
   "source": [
    "# iii. Using Kind \n",
    "arr2 = np.array([[4,2,3,1],[4,59,10,2]])\n",
    "print(\"Original Array\",arr2)\n",
    "\n",
    "arr2.sort(kind='heapsort')\n",
    "print(\"Used HeapSort to sort the array\",arr2)"
   ]
  },
  {
   "cell_type": "code",
   "execution_count": 78,
   "id": "e463a0b8",
   "metadata": {},
   "outputs": [
    {
     "name": "stdout",
     "output_type": "stream",
     "text": [
      "[[8 7 6 5]\n",
      " [4 3 2 1]]\n",
      "[1 2 3 4 5 6 7 8]\n"
     ]
    }
   ],
   "source": [
    "# iv. Using axis = none\n",
    "# When axis is none then it flatten the array and sort it.\n",
    "\n",
    "arr2 = np.array([[8,7,6,5],[4,3,2,1]])\n",
    "print(arr2)\n",
    "\n",
    "new_arr = np.sort(arr2,axis=None)\n",
    "print(new_arr)"
   ]
  },
  {
   "cell_type": "code",
   "execution_count": 83,
   "id": "e7e92af3",
   "metadata": {},
   "outputs": [
    {
     "name": "stdout",
     "output_type": "stream",
     "text": [
      "[(b'Bob', 85) (b'koko', 87) (b'Alice', 90)]\n"
     ]
    }
   ],
   "source": [
    "# v. Using Order\n",
    "# the order parameter is used only for structured arrays (arrays with named fields).\n",
    "\n",
    "dtype = [('name','S10'),('marks',int)]\n",
    "data = np.array([('Alice',90),('Bob',85),('koko',87)],dtype=dtype)\n",
    "\n",
    "res = np.sort(data,order='marks')\n",
    "print(res)"
   ]
  },
  {
   "cell_type": "code",
   "execution_count": 6,
   "id": "2826edc0",
   "metadata": {},
   "outputs": [
    {
     "name": "stdout",
     "output_type": "stream",
     "text": [
      "[[1 2 3]\n",
      " [4 5 6]]\n",
      "[[ 7  8  9]\n",
      " [10 11 12]]\n"
     ]
    }
   ],
   "source": [
    "# 29.The numpy.concatenate() method is used to join multiple NumPy arrays along a specified axis.\n",
    "\n",
    "# Syntax\n",
    "# numpy.concatenate((array1, array2, ...), axis=0, out=None, dtype=None, casting=\"same_kind\")\n",
    "\n",
    "# 🔹 Parameters and Explanation\n",
    "# Parameter\tDescription\n",
    "# (array1, array2, ...)\tA tuple of arrays to be concatenated.\n",
    "# All arrays must have the same shape except in the concatenation axis.\n",
    "# axis\tSpecifies the axis along which to concatenate.\n",
    "# axis=0 (default) → Join along rows (vertical stacking)\n",
    "# axis=1 → Join along columns (horizontal stacking)\n",
    "# out\tOptional. If specified, the result is stored in this provided array.\n",
    "# dtype\tOptional. Specifies the desired data type for the output array.\n",
    "# casting\tControls type casting when dtype is provided. Options: \"no\", \"equiv\", \"safe\", \"same_kind\", \"unsafe\".\n",
    "\n",
    "\n",
    "arr1 = np.array([[1,2,3],[4,5,6]])\n",
    "arr2 = np.array([[7,8,9],[10,11,12]])\n",
    "print(arr1)\n",
    "print(arr2)"
   ]
  },
  {
   "cell_type": "code",
   "execution_count": 7,
   "id": "2f899279",
   "metadata": {},
   "outputs": [
    {
     "name": "stdout",
     "output_type": "stream",
     "text": [
      "[[ 1  2  3]\n",
      " [ 4  5  6]\n",
      " [ 7  8  9]\n",
      " [10 11 12]]\n"
     ]
    }
   ],
   "source": [
    "# i.Default Concatenation (Along Rows)\n",
    "res = np.concatenate((arr1,arr2))\n",
    "print(res)\n",
    "\n",
    "# By default (axis=0), NumPy stacks arrays vertically (rows are added)."
   ]
  },
  {
   "cell_type": "code",
   "execution_count": 9,
   "id": "af5b543e",
   "metadata": {},
   "outputs": [
    {
     "name": "stdout",
     "output_type": "stream",
     "text": [
      "[[ 1  2  3  7  8  9]\n",
      " [ 4  5  6 10 11 12]]\n"
     ]
    }
   ],
   "source": [
    "# ii.Concatenating Along Columns (axis=1)\n",
    "\n",
    "res = np.concatenate((arr1,arr2),axis=1)\n",
    "print(res)\n",
    "\n",
    "# With axis=1, arrays are joined column-wise (side-by-side)."
   ]
  },
  {
   "cell_type": "code",
   "execution_count": 10,
   "id": "4eb9317e",
   "metadata": {},
   "outputs": [
    {
     "name": "stdout",
     "output_type": "stream",
     "text": [
      "[ 1  2  3  4  5  6  7  8  9 10 11 12]\n"
     ]
    }
   ],
   "source": [
    "# iii.Concatenating 1D Arrays into 2D (axis=None)\n",
    "\n",
    "# It is used to flatten the array.\n",
    "res = np.concatenate((arr1,arr2),axis=None)\n",
    "print(res)"
   ]
  },
  {
   "cell_type": "code",
   "execution_count": 12,
   "id": "c0335699",
   "metadata": {},
   "outputs": [
    {
     "name": "stdout",
     "output_type": "stream",
     "text": [
      "[[1 2 3]\n",
      " [4 1 1]]\n",
      "[1 2 3 4]\n"
     ]
    }
   ],
   "source": [
    "# 30.The numpy.unique() method is used to find the unique elements in a NumPy array. \n",
    "# It returns an array of unique elements, and optionally, additional information like their counts and indices.\n",
    "\n",
    "# Syntax\n",
    "# numpy.unique(arr, return_index=False, return_inverse=False, return_counts=False, axis=None)\n",
    "\n",
    "# 🔹 Parameters and Explanation\n",
    "# Parameter\tDescription\n",
    "# arr\tThe input NumPy array (can be 1D, 2D, or higher-dimensional).\n",
    "# return_index\tIf True, returns the indices of the first occurrence of each unique element.\n",
    "# return_inverse\tIf True, returns an array of indices that reconstruct arr from unique.\n",
    "# return_counts\tIf True, returns the count of each unique element.\n",
    "# axis\tIf None (default), flattens the array and finds unique elements.\n",
    "# If axis=0, finds unique rows.\n",
    "# If axis=1, finds unique columns.\n",
    "\n",
    "\n",
    "# i.Finding Unique Elements in a 2D Array\n",
    "\n",
    "arr2 = np.array([[1,2,3],[4,1,1]])\n",
    "print(arr2)\n",
    "\n",
    "# Return the 1D array contains the unique elements\n",
    "print(np.unique(arr2))"
   ]
  },
  {
   "cell_type": "code",
   "execution_count": 14,
   "id": "7258d547",
   "metadata": {},
   "outputs": [
    {
     "name": "stdout",
     "output_type": "stream",
     "text": [
      "[[1 2 3]\n",
      " [4 1 1]]\n",
      "(array([1, 2, 3, 4]), array([0, 1, 2, 3], dtype=int64))\n"
     ]
    }
   ],
   "source": [
    "# ii.Using return_index=True\n",
    "# Returns the indices of the first occurrence of each unique element.\n",
    "\n",
    "arr2 = np.array([[1,2,3],[4,1,1]])\n",
    "print(arr2)\n",
    "\n",
    "print(np.unique(arr2,return_index=True))\n",
    "# The second output shows the indices where the first occurrence of each unique element appears in the flattened array.\n",
    "\n"
   ]
  },
  {
   "cell_type": "code",
   "execution_count": 20,
   "id": "4d7080bc",
   "metadata": {},
   "outputs": [
    {
     "name": "stdout",
     "output_type": "stream",
     "text": [
      "[[1 2 3]\n",
      " [1 2 3]]\n",
      "(array([1, 2, 3]), array([2, 2, 2], dtype=int64))\n"
     ]
    }
   ],
   "source": [
    "# iii.Using return_counts=True\n",
    "# Returns the count of each unique element.\n",
    "\n",
    "arr2 = np.array([[1,2,3],[1,2,3]])\n",
    "print(arr2)\n",
    "\n",
    "print(np.unique(arr2,return_counts=True))\n"
   ]
  },
  {
   "cell_type": "code",
   "execution_count": 30,
   "id": "bed50a97",
   "metadata": {},
   "outputs": [
    {
     "name": "stdout",
     "output_type": "stream",
     "text": [
      "[[1 1 1]\n",
      " [2 2 2]\n",
      " [6 6 6]]\n",
      "[[1 1 1]\n",
      " [2 2 2]\n",
      " [6 6 6]]\n"
     ]
    }
   ],
   "source": [
    "# iv.Using axis=0 (Unique Rows)\n",
    "# If axis=0, the function finds unique rows.\n",
    "\n",
    "arr2 = np.array([[1,1,1],[2,2,2],[6,6,6]])\n",
    "print(arr2)\n",
    "\n",
    "print(np.unique(arr2,axis=0))\n",
    "\n",
    "# axis=0 means we are checking for duplicate rows.\n",
    "# Since all rows are already unique, the function simply returns the original array as is."
   ]
  },
  {
   "cell_type": "code",
   "execution_count": 33,
   "id": "18ec2d45",
   "metadata": {},
   "outputs": [
    {
     "name": "stdout",
     "output_type": "stream",
     "text": [
      "[[1 1 1]\n",
      " [2 2 2]\n",
      " [3 3 3]]\n",
      "[[1]\n",
      " [2]\n",
      " [3]]\n"
     ]
    }
   ],
   "source": [
    "#  Using axis=1 (Unique Columns)\n",
    "# If axis=1, the function finds unique columns.\n",
    "\n",
    "arr2 = np.array([[1,1,1],[2,2,2],[3,3,3]])\n",
    "print(arr2)\n",
    "\n",
    "\n",
    "print(np.unique(arr2,axis=1))\n",
    "# axis=0 means we are checking for duplicate columns."
   ]
  },
  {
   "cell_type": "code",
   "execution_count": 5,
   "id": "12335f28",
   "metadata": {},
   "outputs": [
    {
     "name": "stdout",
     "output_type": "stream",
     "text": [
      "[[1 2 3]\n",
      " [4 5 6]\n",
      " [7 8 9]]\n",
      "(array([1, 1, 2, 2, 2], dtype=int64), array([1, 2, 0, 1, 2], dtype=int64))\n",
      "<class 'tuple'>\n",
      "[1 1 2 2 2]\n",
      "[1 2 0 1 2]\n"
     ]
    }
   ],
   "source": [
    "# 31.numpy.where() for 2D Arrays – Detailed Explanation\n",
    "# The numpy.where() function is used to find the indices where a condition is True or to replace values based on a condition.\n",
    "\n",
    "# Syntax\n",
    "# numpy.where(condition, [x, y])\n",
    "\n",
    "# 🔹 Parameters\n",
    "# condition → A boolean condition to check.\n",
    "# x (optional) → Values to use where condition is True.\n",
    "# y (optional) → Values to use where condition is False.\n",
    "\n",
    "# Return Type\n",
    "# If only condition is provided → Returns the indices where the condition is True.\n",
    "# If x and y are provided → Returns a new array with values from x where the condition is True and from y where it's False.\n",
    "\n",
    "\n",
    "\n",
    "# i.Finding Indices Where Condition is True\n",
    "arr2 = np.array([[1,2,3],[4,5,6],[7,8,9]])\n",
    "print(arr2)\n",
    "\n",
    "res = np.where(arr2>4)\n",
    "print(res)\n",
    "print(type(res))\n",
    "print(res[0])\n",
    "print(res[1])"
   ]
  },
  {
   "cell_type": "code",
   "execution_count": 6,
   "id": "446ab713",
   "metadata": {},
   "outputs": [
    {
     "name": "stdout",
     "output_type": "stream",
     "text": [
      "[[1 2 3]\n",
      " [4 5 6]\n",
      " [7 8 9]]\n",
      "[[200 200 200]\n",
      " [200 100 100]\n",
      " [100 100 100]]\n"
     ]
    }
   ],
   "source": [
    "# ii.Replacing Values Based on a Condition\n",
    "\n",
    "arr2 = np.array([[1,2,3],[4,5,6],[7,8,9]])\n",
    "print(arr2)\n",
    "\n",
    "res = np.where(arr2>4,100,200)\n",
    "print(res)"
   ]
  },
  {
   "cell_type": "code",
   "execution_count": 9,
   "id": "7c8bf30a",
   "metadata": {},
   "outputs": [
    {
     "name": "stdout",
     "output_type": "stream",
     "text": [
      "Original Array [[1 2 3]\n",
      " [4 5 6]\n",
      " [7 8 9]]\n",
      "New Clipped Array [[2 2 3]\n",
      " [4 5 6]\n",
      " [7 8 8]]\n"
     ]
    }
   ],
   "source": [
    "# 32.The numpy.clip() method limits (clips) values in an array to a specified range.\n",
    "\n",
    "# Syntax\n",
    "# numpy.clip(a, a_min, a_max, out=None)\n",
    "\n",
    "# 🔹 Parameters\n",
    "# Parameter\tDescription\n",
    "# a\tThe input array (2D array in this case).\n",
    "# a_min\tThe minimum value allowed in the output array. Values smaller than this are replaced with a_min.\n",
    "# a_max\tThe maximum value allowed in the output array. Values larger than this are replaced with a_max.\n",
    "# out (optional)\tThe array to store the result. It must have the same shape as a. If None, a new array is returned.\n",
    "\n",
    "# Return Type\n",
    "# A new clipped array (if out=None).\n",
    "# The same out array with clipped values (if out is specified).\n",
    "\n",
    "\n",
    "arr1 = np.array([[1,2,3],[4,5,6],[7,8,9]])\n",
    "print(\"Original Array\",arr1)\n",
    "\n",
    "res = np.clip(arr1,2,8)\n",
    "print(\"New Clipped Array\",res)"
   ]
  },
  {
   "cell_type": "code",
   "execution_count": 10,
   "id": "ac91fee9",
   "metadata": {},
   "outputs": [
    {
     "name": "stdout",
     "output_type": "stream",
     "text": [
      "[[1 2 3]\n",
      " [4 5 6]]\n",
      "True\n"
     ]
    }
   ],
   "source": [
    "# 33.  numpy.all() – Check if All Elements Are True\n",
    "# The numpy.all() function returns True if all elements in the array (or along a specified axis) are True (nonzero).\n",
    "\n",
    "# 🔹 Syntax\n",
    "# numpy.all(a, axis=None, out=None, keepdims=False, where=True)\n",
    "\n",
    "# 🔹 Parameters\n",
    "# Parameter\tDescription\n",
    "# a\tThe input 2D array.\n",
    "# axis (optional)\tThe axis along which to perform the check. Default is None (checks the entire array).\n",
    "# out (optional)\tThe output array where the result is stored. Must be the same shape as the expected output.\n",
    "# keepdims (optional, default=False)\tIf True, retains reduced dimensions (useful for broadcasting).\n",
    "# where (optional)\tA condition to check only selected elements.\n",
    "\n",
    "\n",
    "# i.Check if All Elements Are Nonzero (True)\n",
    "\n",
    "arr2 = np.array([[1,2,3],[4,5,6]])\n",
    "print(arr2)\n",
    "\n",
    "res = np.all(arr2)\n",
    "print(res)"
   ]
  },
  {
   "cell_type": "code",
   "execution_count": 12,
   "id": "0c96b3a8",
   "metadata": {},
   "outputs": [
    {
     "name": "stdout",
     "output_type": "stream",
     "text": [
      "[[1 2 3]\n",
      " [4 5 6]]\n",
      "[ True  True  True]\n",
      "[ True  True]\n"
     ]
    }
   ],
   "source": [
    "# ii.Using axis Parameter\n",
    "\n",
    "arr2 = np.array([[1,2,3],[4,5,6]])\n",
    "print(arr2)\n",
    "\n",
    "print(np.all(arr2,axis=0))\n",
    "print(np.all(arr2,axis=1))"
   ]
  },
  {
   "cell_type": "code",
   "execution_count": 13,
   "id": "547af895",
   "metadata": {},
   "outputs": [
    {
     "name": "stdout",
     "output_type": "stream",
     "text": [
      "[[1 2 3]\n",
      " [4 5 6]]\n",
      "[[ True]]\n"
     ]
    }
   ],
   "source": [
    "# iii.Using keepdims\n",
    "\n",
    "arr2 = np.array([[1,2,3],[4,5,6]])\n",
    "print(arr2)\n",
    "\n",
    "res = np.all(arr2,keepdims=True)\n",
    "print(res)\n"
   ]
  },
  {
   "cell_type": "code",
   "execution_count": 14,
   "id": "ca8480ca",
   "metadata": {},
   "outputs": [
    {
     "name": "stdout",
     "output_type": "stream",
     "text": [
      "[[1 2 3]\n",
      " [4 0 6]]\n",
      "[[ True]]\n"
     ]
    }
   ],
   "source": [
    "# iv.Using where Parameter\n",
    "\n",
    "arr2 = np.array([[1,2,3],[4,0,6]])\n",
    "print(arr2)\n",
    "\n",
    "mask = np.array([[True,True,True],[True,False,True]])\n",
    "\n",
    "res = np.all(arr2,where=mask,keepdims=True)\n",
    "print(res)\n",
    "\n",
    "\n",
    "# The where parameter applies np.all() only on True positions in mask, ignoring False positions."
   ]
  },
  {
   "cell_type": "code",
   "execution_count": 15,
   "id": "23acce44",
   "metadata": {},
   "outputs": [
    {
     "name": "stdout",
     "output_type": "stream",
     "text": [
      "[[1 2 3]\n",
      " [4 5 6]]\n",
      "True\n"
     ]
    }
   ],
   "source": [
    "# 34.numpy.any() – Check if At Least One Element Is True\n",
    "# The numpy.any() function returns True if at least one element in the array (or along a specified axis) is True (nonzero).\n",
    "\n",
    "# 🔹 Syntax\n",
    "# numpy.any(a, axis=None, out=None, keepdims=False, where=True)\n",
    "\n",
    "# 🔹 Parameters\n",
    "# The parameters are exactly the same as numpy.all().\n",
    "\n",
    "#  i.Check if Any Element Is Nonzero (True)\n",
    "\n",
    "arr2 = np.array([[1,2,3],[4,5,6]])\n",
    "print(arr2)\n",
    "\n",
    "res = np.any(arr2)\n",
    "print(res)"
   ]
  },
  {
   "cell_type": "code",
   "execution_count": 16,
   "id": "91dda417",
   "metadata": {},
   "outputs": [
    {
     "name": "stdout",
     "output_type": "stream",
     "text": [
      "[[1 2 3]\n",
      " [4 5 6]\n",
      " [7 0 9]]\n",
      "[ True  True  True]\n",
      "[ True  True  True]\n"
     ]
    }
   ],
   "source": [
    "# ii Using axis Parameter\n",
    "arr2 = np.array([[1,2,3],[4,5,6],[7,0,9]])\n",
    "print(arr2)\n",
    "\n",
    "print(np.any(arr2,axis=0))\n",
    "print(np.any(arr2,axis=1))\n"
   ]
  },
  {
   "cell_type": "code",
   "execution_count": 20,
   "id": "8136b138",
   "metadata": {},
   "outputs": [
    {
     "name": "stdout",
     "output_type": "stream",
     "text": [
      "[[1 1 1]\n",
      " [0 0 0]]\n",
      "[[ True]\n",
      " [False]]\n"
     ]
    }
   ],
   "source": [
    "# iii.Using keepdims\n",
    "arr2 = np.array([[1,1,1],[0,0,0]])\n",
    "print(arr2)\n",
    "\n",
    "res = np.any(arr2,keepdims=True,axis=1)\n",
    "print(res)"
   ]
  },
  {
   "cell_type": "code",
   "execution_count": 21,
   "id": "a1298bb1",
   "metadata": {},
   "outputs": [
    {
     "name": "stdout",
     "output_type": "stream",
     "text": [
      "False\n"
     ]
    }
   ],
   "source": [
    "# iv.Using where Parameter\n",
    "arr2d = np.array([[0, 1, 0], \n",
    "                  [0, 0, 0]])\n",
    "\n",
    "mask = np.array([[True, False, True], \n",
    "                 [False, True, False]])\n",
    "\n",
    "result = np.any(arr2d, where=mask)\n",
    "print(result)  # Output: False\n",
    "\n",
    "# Extract the elements of arr2d where mask=True:\n",
    "# [0, 0, 0]\n",
    "\n",
    "# Position (0,0) → 0 (included)\n",
    "# Position (0,1) → 1 (ignored because mask=False)\n",
    "# Position (0,2) → 0 (included)\n",
    "# Position (1,0) → 0 (ignored)\n",
    "# Position (1,1) → 0 (included)\n",
    "# Position (1,2) → 0 (ignored)\n",
    "\n",
    "# Check if np.any() finds at least one True (nonzero) value:\n",
    "\n",
    "# The extracted values are [0, 0, 0] → all zeros.\n",
    "# Since np.any() returns True if at least one value is nonzero, but here all are 0, it returns False.\n",
    "\n"
   ]
  },
  {
   "cell_type": "code",
   "execution_count": 23,
   "id": "ded3362c",
   "metadata": {},
   "outputs": [
    {
     "name": "stdout",
     "output_type": "stream",
     "text": [
      "[[1 2 3]\n",
      " [4 5 6]]\n",
      "[ 1  3  6 10 15 21]\n"
     ]
    }
   ],
   "source": [
    "# 35.numpy.cumsum() – Cumulative Sum\n",
    "# The numpy.cumsum() method computes the cumulative sum of elements along a given axis.\n",
    "\n",
    "# 🔹 Syntax\n",
    "# numpy.cumsum(arr, axis=None, dtype=None, out=None)\n",
    "\n",
    "# 🔹 Parameters\n",
    "# Parameter\tDescription\n",
    "# arr\tThe input NumPy array.\n",
    "# axis\tThe axis along which to perform the cumulative sum.\n",
    "# dtype\tThe desired data type for the result.\n",
    "# out\tAn optional array to store the result (must be of the same shape as input).\n",
    "\n",
    "\n",
    "# i.Cumulative Sum Without Axis (Flattened)\n",
    "\n",
    "arr2 = np.array([[1,2,3],[4,5,6]])\n",
    "print(arr2)\n",
    "\n",
    "print(np.cumsum(arr2))"
   ]
  },
  {
   "cell_type": "code",
   "execution_count": 24,
   "id": "d30d6d01",
   "metadata": {},
   "outputs": [
    {
     "name": "stdout",
     "output_type": "stream",
     "text": [
      "[[1 2 3]\n",
      " [4 5 6]]\n",
      "[[1 2 3]\n",
      " [5 7 9]]\n"
     ]
    }
   ],
   "source": [
    "# ii.Cumulative Sum Along axis=0 (Column-wise)\n",
    "\n",
    "arr2 = np.array([[1,2,3],[4,5,6]])\n",
    "print(arr2)\n",
    "\n",
    "\n",
    "print(np.cumsum(arr2,axis=0))\n",
    "# Each column accumulates its values down the rows.\n"
   ]
  },
  {
   "cell_type": "code",
   "execution_count": 27,
   "id": "e0a0d522",
   "metadata": {},
   "outputs": [
    {
     "name": "stdout",
     "output_type": "stream",
     "text": [
      "[[1 2 3]\n",
      " [4 5 6]]\n",
      "[[ 1  3  6]\n",
      " [ 4  9 15]]\n"
     ]
    }
   ],
   "source": [
    "# iii.Cumulative Sum Along axis=1 (Row-wise)\n",
    "\n",
    "arr2 = np.array([[1,2,3],[4,5,6]])\n",
    "print(arr2)\n",
    "\n",
    "print(np.cumsum(arr2,axis=1))\n",
    "# Each row accumulates its values left to right"
   ]
  },
  {
   "cell_type": "code",
   "execution_count": 30,
   "id": "07a83306",
   "metadata": {},
   "outputs": [
    {
     "name": "stdout",
     "output_type": "stream",
     "text": [
      "[[1 2 3]\n",
      " [4 5 6]]\n",
      "[  1   2   6  24 120 720]\n"
     ]
    }
   ],
   "source": [
    "# 36.numpy.cumprod() – Cumulative Product\n",
    "# The numpy.cumprod() method computes the cumulative product of elements along a given axis.\n",
    "\n",
    "# 🔹 Syntax\n",
    "# numpy.cumprod(arr, axis=None, dtype=None, out=None)\n",
    "\n",
    "# 🔹 Parameters\n",
    "# Parameter\tDescription\n",
    "# arr\tThe input NumPy array.\n",
    "# axis\tThe axis along which to perform the cumulative product.\n",
    "# dtype\tThe desired data type for the result.\n",
    "# out\tAn optional array to store the result (must be of the same shape as input).\n",
    "\n",
    "# i.Cumulative Product Without Axis (Flattened)\n",
    "\n",
    "arr2 = np.array([[1,2,3],[4,5,6]])\n",
    "print(arr2)\n",
    "\n",
    "print(np.cumprod(arr2))\n",
    "\n",
    "# Each column accumulates its product down the rows."
   ]
  },
  {
   "cell_type": "code",
   "execution_count": 31,
   "id": "59c15dd9",
   "metadata": {},
   "outputs": [
    {
     "name": "stdout",
     "output_type": "stream",
     "text": [
      "[[1 2 3]\n",
      " [4 5 6]]\n",
      "[[ 1  2  3]\n",
      " [ 4 10 18]]\n"
     ]
    }
   ],
   "source": [
    "# ii. Cumulative Product Along axis=0 (Column-wise)\n",
    "\n",
    "arr2 = np.array([[1,2,3],[4,5,6]])\n",
    "print(arr2)\n",
    "\n",
    "res = np.cumprod(arr2,axis=0)\n",
    "print(res)\n",
    "# Each column accumulates its product down the rows.\n",
    "\n",
    "\n"
   ]
  },
  {
   "cell_type": "code",
   "execution_count": 32,
   "id": "e6d8b836",
   "metadata": {},
   "outputs": [
    {
     "name": "stdout",
     "output_type": "stream",
     "text": [
      "[[1 2 3]\n",
      " [4 5 6]]\n",
      "[[  1   2   6]\n",
      " [  4  20 120]]\n"
     ]
    }
   ],
   "source": [
    "# iii. Cumulative Product Along axis=1 (Row-wise)\n",
    "\n",
    "arr2 = np.array([[1,2,3],[4,5,6]])\n",
    "print(arr2)\n",
    "\n",
    "res = np.cumprod(arr2,axis=1)\n",
    "print(res)\n",
    "# Each row accumulates its product left to right.\n"
   ]
  },
  {
   "cell_type": "markdown",
   "id": "e8426775",
   "metadata": {},
   "source": [
    "# Indexing in a 2D NumPy Array"
   ]
  },
  {
   "cell_type": "code",
   "execution_count": 33,
   "id": "7d4d56fc",
   "metadata": {},
   "outputs": [],
   "source": [
    "# Indexing is the process of accessing elements from a 2D array using row and column positions.\n",
    "# In NumPy, a 2D array (also called a matrix) is structured as:\n",
    "\n",
    "# arr[row, column]\n",
    "# where:\n",
    "\n",
    "# row is the index of the row.\n",
    "# column is the index of the column"
   ]
  },
  {
   "cell_type": "code",
   "execution_count": 35,
   "id": "5b0059df",
   "metadata": {},
   "outputs": [
    {
     "name": "stdout",
     "output_type": "stream",
     "text": [
      "[[10 20 30]\n",
      " [40 50 60]\n",
      " [70 80 90]]\n"
     ]
    }
   ],
   "source": [
    "arr2 = np.array([[10,20,30],[40,50,60],[70,80,90]])\n",
    "print(arr2)"
   ]
  },
  {
   "cell_type": "code",
   "execution_count": 36,
   "id": "003cba5e",
   "metadata": {},
   "outputs": [
    {
     "name": "stdout",
     "output_type": "stream",
     "text": [
      "10\n"
     ]
    }
   ],
   "source": [
    "print(arr2[0][0])"
   ]
  },
  {
   "cell_type": "code",
   "execution_count": 38,
   "id": "f3e42e34",
   "metadata": {},
   "outputs": [
    {
     "name": "stdout",
     "output_type": "stream",
     "text": [
      "20\n"
     ]
    }
   ],
   "source": [
    "print(arr2[0][1])"
   ]
  },
  {
   "cell_type": "code",
   "execution_count": 39,
   "id": "ee2aec7a",
   "metadata": {},
   "outputs": [
    {
     "name": "stdout",
     "output_type": "stream",
     "text": [
      "30\n"
     ]
    }
   ],
   "source": [
    "print(arr2[0][2])"
   ]
  },
  {
   "cell_type": "code",
   "execution_count": 40,
   "id": "25a91d8c",
   "metadata": {},
   "outputs": [
    {
     "name": "stdout",
     "output_type": "stream",
     "text": [
      "40\n"
     ]
    }
   ],
   "source": [
    "print(arr2[1][0])"
   ]
  },
  {
   "cell_type": "code",
   "execution_count": 41,
   "id": "a9c1ec17",
   "metadata": {},
   "outputs": [
    {
     "name": "stdout",
     "output_type": "stream",
     "text": [
      "50\n"
     ]
    }
   ],
   "source": [
    "print(arr2[1][1])"
   ]
  },
  {
   "cell_type": "code",
   "execution_count": 42,
   "id": "60a846e6",
   "metadata": {},
   "outputs": [
    {
     "name": "stdout",
     "output_type": "stream",
     "text": [
      "60\n"
     ]
    }
   ],
   "source": [
    "print(arr2[1][2])"
   ]
  },
  {
   "cell_type": "code",
   "execution_count": 43,
   "id": "3d3bcdc7",
   "metadata": {},
   "outputs": [
    {
     "name": "stdout",
     "output_type": "stream",
     "text": [
      "70\n"
     ]
    }
   ],
   "source": [
    "print(arr2[2][0])"
   ]
  },
  {
   "cell_type": "code",
   "execution_count": 44,
   "id": "3402de05",
   "metadata": {},
   "outputs": [
    {
     "name": "stdout",
     "output_type": "stream",
     "text": [
      "80\n"
     ]
    }
   ],
   "source": [
    "print(arr2[2][1])"
   ]
  },
  {
   "cell_type": "code",
   "execution_count": 45,
   "id": "5db266f6",
   "metadata": {},
   "outputs": [
    {
     "name": "stdout",
     "output_type": "stream",
     "text": [
      "90\n"
     ]
    }
   ],
   "source": [
    "print(arr2[2][2])"
   ]
  },
  {
   "cell_type": "code",
   "execution_count": 74,
   "id": "659617fe",
   "metadata": {},
   "outputs": [
    {
     "name": "stdout",
     "output_type": "stream",
     "text": [
      "90\n"
     ]
    }
   ],
   "source": [
    "# Negative Indexing\n",
    "print(arr2[-1][-1])"
   ]
  },
  {
   "cell_type": "code",
   "execution_count": 64,
   "id": "d0971e75",
   "metadata": {},
   "outputs": [
    {
     "name": "stdout",
     "output_type": "stream",
     "text": [
      "80\n"
     ]
    }
   ],
   "source": [
    "print(arr2[-1][-2])"
   ]
  },
  {
   "cell_type": "code",
   "execution_count": 66,
   "id": "79f08721",
   "metadata": {},
   "outputs": [
    {
     "name": "stdout",
     "output_type": "stream",
     "text": [
      "70\n"
     ]
    }
   ],
   "source": [
    "print(arr2[-1][-3])"
   ]
  },
  {
   "cell_type": "code",
   "execution_count": 67,
   "id": "41867976",
   "metadata": {},
   "outputs": [
    {
     "name": "stdout",
     "output_type": "stream",
     "text": [
      "60\n"
     ]
    }
   ],
   "source": [
    "print(arr2[-2][-1])"
   ]
  },
  {
   "cell_type": "code",
   "execution_count": 68,
   "id": "e32259aa",
   "metadata": {},
   "outputs": [
    {
     "name": "stdout",
     "output_type": "stream",
     "text": [
      "50\n"
     ]
    }
   ],
   "source": [
    "print(arr2[-2][-2])"
   ]
  },
  {
   "cell_type": "code",
   "execution_count": 69,
   "id": "7eed6325",
   "metadata": {},
   "outputs": [
    {
     "name": "stdout",
     "output_type": "stream",
     "text": [
      "40\n"
     ]
    }
   ],
   "source": [
    "print(arr2[-2][-3])"
   ]
  },
  {
   "cell_type": "code",
   "execution_count": 70,
   "id": "8c2d494b",
   "metadata": {},
   "outputs": [
    {
     "name": "stdout",
     "output_type": "stream",
     "text": [
      "30\n"
     ]
    }
   ],
   "source": [
    "print(arr2[-3][-1])"
   ]
  },
  {
   "cell_type": "code",
   "execution_count": 71,
   "id": "33da9bac",
   "metadata": {},
   "outputs": [
    {
     "name": "stdout",
     "output_type": "stream",
     "text": [
      "20\n"
     ]
    }
   ],
   "source": [
    "print(arr2[-3][-2])"
   ]
  },
  {
   "cell_type": "code",
   "execution_count": 73,
   "id": "24d5871b",
   "metadata": {},
   "outputs": [
    {
     "name": "stdout",
     "output_type": "stream",
     "text": [
      "10\n"
     ]
    }
   ],
   "source": [
    "print(arr2[-3][-3])"
   ]
  },
  {
   "cell_type": "code",
   "execution_count": 76,
   "id": "ede7af69",
   "metadata": {},
   "outputs": [
    {
     "name": "stdout",
     "output_type": "stream",
     "text": [
      "[10 20 30]\n"
     ]
    }
   ],
   "source": [
    "# Accessing the Direct Row\n",
    "# As the column index is not specified it return the entire row.\n",
    "print(arr2[0])"
   ]
  },
  {
   "cell_type": "code",
   "execution_count": 77,
   "id": "116efd63",
   "metadata": {},
   "outputs": [
    {
     "name": "stdout",
     "output_type": "stream",
     "text": [
      "[40 50 60]\n"
     ]
    }
   ],
   "source": [
    "print(arr2[1])"
   ]
  },
  {
   "cell_type": "code",
   "execution_count": 78,
   "id": "76702efd",
   "metadata": {},
   "outputs": [
    {
     "name": "stdout",
     "output_type": "stream",
     "text": [
      "[70 80 90]\n"
     ]
    }
   ],
   "source": [
    "print(arr2[2])"
   ]
  },
  {
   "cell_type": "code",
   "execution_count": 81,
   "id": "ec65b15c",
   "metadata": {},
   "outputs": [
    {
     "name": "stdout",
     "output_type": "stream",
     "text": [
      "[40 50 60]\n"
     ]
    }
   ],
   "source": [
    "print(arr2[0,:])"
   ]
  },
  {
   "cell_type": "code",
   "execution_count": 83,
   "id": "26b8ae29",
   "metadata": {},
   "outputs": [
    {
     "name": "stdout",
     "output_type": "stream",
     "text": [
      "[40 50 60]\n"
     ]
    }
   ],
   "source": [
    "print(arr2[1,:])"
   ]
  },
  {
   "cell_type": "code",
   "execution_count": 84,
   "id": "2ef8b014",
   "metadata": {},
   "outputs": [
    {
     "name": "stdout",
     "output_type": "stream",
     "text": [
      "[70 80 90]\n"
     ]
    }
   ],
   "source": [
    "print(arr2[2,:])"
   ]
  },
  {
   "cell_type": "code",
   "execution_count": 88,
   "id": "8f1da357",
   "metadata": {},
   "outputs": [
    {
     "name": "stdout",
     "output_type": "stream",
     "text": [
      "[10 40 70]\n",
      "<class 'numpy.ndarray'>\n"
     ]
    }
   ],
   "source": [
    "# Accessing a Whole Column\n",
    "print(arr2[:,0])\n",
    "print(type(arr2[:,0]))"
   ]
  },
  {
   "cell_type": "code",
   "execution_count": 89,
   "id": "a1ca659c",
   "metadata": {},
   "outputs": [
    {
     "name": "stdout",
     "output_type": "stream",
     "text": [
      "[20 50 80]\n"
     ]
    }
   ],
   "source": [
    "print(arr2[:,1])"
   ]
  },
  {
   "cell_type": "code",
   "execution_count": 90,
   "id": "a73553ed",
   "metadata": {},
   "outputs": [
    {
     "name": "stdout",
     "output_type": "stream",
     "text": [
      "[30 60 90]\n"
     ]
    }
   ],
   "source": [
    "print(arr2[:,2])"
   ]
  },
  {
   "cell_type": "markdown",
   "id": "003c7eed",
   "metadata": {},
   "source": [
    "# Slicing in a 2D NumPy Array "
   ]
  },
  {
   "cell_type": "code",
   "execution_count": 91,
   "id": "66bc7509",
   "metadata": {},
   "outputs": [],
   "source": [
    "# Slicing in NumPy allows us to extract portions of an array using the syntax:\n",
    "\n",
    "# array[start:stop:step, start:stop:step]\n",
    "# The first part (start:stop:step) selects rows.\n",
    "# The second part (start:stop:step) selects columns."
   ]
  },
  {
   "cell_type": "code",
   "execution_count": 92,
   "id": "5ffe3168",
   "metadata": {},
   "outputs": [],
   "source": [
    "#  i.Basic Row Slicing\n",
    "\n",
    "# Extracting Rows\n",
    "# Slice\tExplanation\tOutput\n",
    "# arr[0, :]\tFirst row\t[10 20 30]\n",
    "# arr[1, :]\tSecond row\t[40 50 60]\n",
    "# arr[-1, :]\tLast row\t[70 80 90]\n",
    "# arr[:2, :]\tFirst two rows\t[[10 20 30], [40 50 60]]\n",
    "# arr[1:, :]\tAll rows from index 1 onward\t[[40 50 60], [70 80 90]]"
   ]
  },
  {
   "cell_type": "code",
   "execution_count": 94,
   "id": "04fd7405",
   "metadata": {},
   "outputs": [
    {
     "name": "stdout",
     "output_type": "stream",
     "text": [
      "[10 20 30]\n"
     ]
    }
   ],
   "source": [
    "# Accessing First Row\n",
    "print(arr2[0])"
   ]
  },
  {
   "cell_type": "code",
   "execution_count": 95,
   "id": "5fa49d55",
   "metadata": {},
   "outputs": [
    {
     "name": "stdout",
     "output_type": "stream",
     "text": [
      "[10 20 30]\n"
     ]
    }
   ],
   "source": [
    "print(arr2[0,:])"
   ]
  },
  {
   "cell_type": "code",
   "execution_count": 96,
   "id": "f685c6ea",
   "metadata": {},
   "outputs": [
    {
     "name": "stdout",
     "output_type": "stream",
     "text": [
      "[40 50 60]\n"
     ]
    }
   ],
   "source": [
    "# Acesssing Second Row\n",
    "print(arr2[1])"
   ]
  },
  {
   "cell_type": "code",
   "execution_count": 97,
   "id": "b211a0cc",
   "metadata": {},
   "outputs": [
    {
     "name": "stdout",
     "output_type": "stream",
     "text": [
      "[40 50 60]\n"
     ]
    }
   ],
   "source": [
    "print(arr2[1,:])"
   ]
  },
  {
   "cell_type": "code",
   "execution_count": 98,
   "id": "7b35df38",
   "metadata": {},
   "outputs": [
    {
     "name": "stdout",
     "output_type": "stream",
     "text": [
      "[70 80 90]\n"
     ]
    }
   ],
   "source": [
    "# Accessing Third Row\n",
    "print(arr2[2])"
   ]
  },
  {
   "cell_type": "code",
   "execution_count": 99,
   "id": "d07e0ec3",
   "metadata": {},
   "outputs": [
    {
     "name": "stdout",
     "output_type": "stream",
     "text": [
      "[70 80 90]\n"
     ]
    }
   ],
   "source": [
    "print(arr2[2,:])"
   ]
  },
  {
   "cell_type": "code",
   "execution_count": 100,
   "id": "4e193d08",
   "metadata": {},
   "outputs": [
    {
     "name": "stdout",
     "output_type": "stream",
     "text": [
      "[70 80 90]\n"
     ]
    }
   ],
   "source": [
    "# Accessing Last Row\n",
    "print(arr2[-1])"
   ]
  },
  {
   "cell_type": "code",
   "execution_count": 101,
   "id": "ca1e1548",
   "metadata": {},
   "outputs": [
    {
     "name": "stdout",
     "output_type": "stream",
     "text": [
      "[70 80 90]\n"
     ]
    }
   ],
   "source": [
    "print(arr2[-1,:])"
   ]
  },
  {
   "cell_type": "code",
   "execution_count": 102,
   "id": "c0afb0fc",
   "metadata": {},
   "outputs": [
    {
     "name": "stdout",
     "output_type": "stream",
     "text": [
      "[40 50 60]\n"
     ]
    }
   ],
   "source": [
    "# Accessing second last Row\n",
    "print(arr2[-2])"
   ]
  },
  {
   "cell_type": "code",
   "execution_count": 104,
   "id": "c8f29343",
   "metadata": {},
   "outputs": [
    {
     "name": "stdout",
     "output_type": "stream",
     "text": [
      "[40 50 60]\n"
     ]
    }
   ],
   "source": [
    "print(arr2[-2,:])"
   ]
  },
  {
   "cell_type": "code",
   "execution_count": 106,
   "id": "0ca738f4",
   "metadata": {},
   "outputs": [
    {
     "name": "stdout",
     "output_type": "stream",
     "text": [
      "[10 20 30]\n"
     ]
    }
   ],
   "source": [
    "# Accessing Third last Row\n",
    "print(arr2[-3])"
   ]
  },
  {
   "cell_type": "code",
   "execution_count": 107,
   "id": "428b665b",
   "metadata": {},
   "outputs": [
    {
     "name": "stdout",
     "output_type": "stream",
     "text": [
      "[10 20 30]\n"
     ]
    }
   ],
   "source": [
    "print(arr2[-3,:])"
   ]
  },
  {
   "cell_type": "code",
   "execution_count": 109,
   "id": "b7bec923",
   "metadata": {},
   "outputs": [],
   "source": [
    "# 2. Column Slicing\n",
    "# Extracting Columns\n",
    "# Slice\tExplanation\tOutput\n",
    "# arr[:, 0]\tFirst column\t[10 40 70]\n",
    "# arr[:, -1]\tLast column\t[30 60 90]\n",
    "# arr[:, 1:3]\tLast two columns\t[[20 30], [50 60], [80 90]]"
   ]
  },
  {
   "cell_type": "code",
   "execution_count": 111,
   "id": "05d95e6d",
   "metadata": {},
   "outputs": [
    {
     "name": "stdout",
     "output_type": "stream",
     "text": [
      "[10 40 70]\n"
     ]
    }
   ],
   "source": [
    "# Accessing the First Column\n",
    "print(arr2[:,0])"
   ]
  },
  {
   "cell_type": "code",
   "execution_count": 121,
   "id": "df9320d4",
   "metadata": {},
   "outputs": [
    {
     "name": "stdout",
     "output_type": "stream",
     "text": [
      "[20 50 80]\n"
     ]
    }
   ],
   "source": [
    "# Accessing the Second Column\n",
    "print(arr2[:,1])"
   ]
  },
  {
   "cell_type": "code",
   "execution_count": 122,
   "id": "c376230a",
   "metadata": {},
   "outputs": [
    {
     "name": "stdout",
     "output_type": "stream",
     "text": [
      "[30 60 90]\n"
     ]
    }
   ],
   "source": [
    "# Accessing the third column\n",
    "print(arr2[:,2])"
   ]
  },
  {
   "cell_type": "code",
   "execution_count": 124,
   "id": "6f4fab57",
   "metadata": {},
   "outputs": [
    {
     "name": "stdout",
     "output_type": "stream",
     "text": [
      "[[10 20 30]\n",
      " [40 50 60]]\n"
     ]
    }
   ],
   "source": [
    "# Extracting first two rows \n",
    "\n",
    "print(arr2[:2,:])"
   ]
  },
  {
   "cell_type": "code",
   "execution_count": 125,
   "id": "14835c5d",
   "metadata": {},
   "outputs": [
    {
     "name": "stdout",
     "output_type": "stream",
     "text": [
      "[[10 20 30]\n",
      " [40 50 60]]\n"
     ]
    }
   ],
   "source": [
    "print(arr2[:2])"
   ]
  },
  {
   "cell_type": "code",
   "execution_count": 127,
   "id": "f0364b58",
   "metadata": {},
   "outputs": [
    {
     "name": "stdout",
     "output_type": "stream",
     "text": [
      "[[40 50 60]\n",
      " [70 80 90]]\n"
     ]
    }
   ],
   "source": [
    "# Extracting Last two rows\n",
    "print(arr2[-2:,:])"
   ]
  },
  {
   "cell_type": "code",
   "execution_count": 131,
   "id": "ec2d177c",
   "metadata": {},
   "outputs": [
    {
     "name": "stdout",
     "output_type": "stream",
     "text": [
      "[[40 50 60]\n",
      " [70 80 90]]\n"
     ]
    }
   ],
   "source": [
    "print(arr2[-2:])"
   ]
  },
  {
   "cell_type": "code",
   "execution_count": 134,
   "id": "d5beeee5",
   "metadata": {},
   "outputs": [
    {
     "name": "stdout",
     "output_type": "stream",
     "text": [
      "[[10 20]\n",
      " [40 50]\n",
      " [70 80]]\n"
     ]
    }
   ],
   "source": [
    "# Extracting first two columns\n",
    "print(arr2[:,:2])"
   ]
  },
  {
   "cell_type": "code",
   "execution_count": 136,
   "id": "223607df",
   "metadata": {},
   "outputs": [
    {
     "name": "stdout",
     "output_type": "stream",
     "text": [
      "[[20 30]\n",
      " [50 60]\n",
      " [80 90]]\n"
     ]
    }
   ],
   "source": [
    "# Extracting last two columns\n",
    "print(arr2[:,-2:])"
   ]
  },
  {
   "cell_type": "code",
   "execution_count": 137,
   "id": "fe68614a",
   "metadata": {},
   "outputs": [
    {
     "name": "stdout",
     "output_type": "stream",
     "text": [
      "60\n"
     ]
    }
   ],
   "source": [
    "#  How do you access the element at row index 1 and column index 2 in a 2D array?\n",
    "print(arr2[1][2])"
   ]
  },
  {
   "cell_type": "code",
   "execution_count": 138,
   "id": "a9feecbf",
   "metadata": {},
   "outputs": [
    {
     "name": "stdout",
     "output_type": "stream",
     "text": [
      "[10 20 30]\n"
     ]
    }
   ],
   "source": [
    "# How do you retrieve the entire first row of a 2D array\n",
    "print(arr2[0])"
   ]
  },
  {
   "cell_type": "code",
   "execution_count": 139,
   "id": "36eeca3a",
   "metadata": {},
   "outputs": [
    {
     "name": "stdout",
     "output_type": "stream",
     "text": [
      "[40 50 60]\n"
     ]
    }
   ],
   "source": [
    "# How do you retrieve the entire second column of a 2D array\n",
    "print(arr2[1])"
   ]
  },
  {
   "cell_type": "code",
   "execution_count": 141,
   "id": "90c916b5",
   "metadata": {},
   "outputs": [
    {
     "name": "stdout",
     "output_type": "stream",
     "text": [
      "[[10 20 30]\n",
      " [40 99 60]\n",
      " [70 80 90]]\n"
     ]
    }
   ],
   "source": [
    "# How do you modify a specific element, say arr[1,1] = 99, in a 2D array\n",
    "arr2[1,1] = 99\n",
    "print(arr2)"
   ]
  },
  {
   "cell_type": "code",
   "execution_count": 143,
   "id": "703cfe6d",
   "metadata": {},
   "outputs": [
    {
     "name": "stdout",
     "output_type": "stream",
     "text": [
      "[[10 20 30]\n",
      " [70 80 90]]\n"
     ]
    }
   ],
   "source": [
    "# How do you extract multiple specific rows, such as the 1st and 3rd rows\n",
    "print(arr2[0::2])"
   ]
  },
  {
   "cell_type": "code",
   "execution_count": 144,
   "id": "ec7d6196",
   "metadata": {},
   "outputs": [
    {
     "name": "stdout",
     "output_type": "stream",
     "text": [
      "[[10 30]\n",
      " [40 60]\n",
      " [70 90]]\n"
     ]
    }
   ],
   "source": [
    "# How do you extract multiple specific columns, such as the 1st and 3rd columns\n",
    "print(arr2[:,::2])"
   ]
  },
  {
   "cell_type": "code",
   "execution_count": 145,
   "id": "28e7e3d7",
   "metadata": {},
   "outputs": [
    {
     "name": "stdout",
     "output_type": "stream",
     "text": [
      "[[10 20 30]\n",
      " [40 99 60]\n",
      " [70 80 90]]\n"
     ]
    }
   ],
   "source": [
    "# What does arr[:, :] return when applied to a 2D array\n",
    "print(arr2[:,:])"
   ]
  },
  {
   "cell_type": "code",
   "execution_count": 146,
   "id": "ac0ee4c7",
   "metadata": {},
   "outputs": [
    {
     "name": "stdout",
     "output_type": "stream",
     "text": [
      "Before Swap [[10 20 30]\n",
      " [40 99 60]\n",
      " [70 80 90]]\n",
      "After Swap [[70 80 90]\n",
      " [40 99 60]\n",
      " [10 20 30]]\n"
     ]
    }
   ],
   "source": [
    "# How do you swap the first and last rows of a 2D array using indexing\n",
    "print(\"Before Swap\",arr2)\n",
    "arr2[[0,-1]] = arr2[[-1,0]]\n",
    "print(\"After Swap\",arr2)\n",
    "\n",
    "# Explanation:\n",
    "# arr[0] refers to the first row.\n",
    "# arr[-1] refers to the last row.\n",
    "# arr[[0, -1]] = arr[[-1, 0]] swaps them using fancy indexing.\n"
   ]
  },
  {
   "cell_type": "code",
   "execution_count": 150,
   "id": "4103638f",
   "metadata": {},
   "outputs": [
    {
     "name": "stdout",
     "output_type": "stream",
     "text": [
      "[[3 2 1]\n",
      " [6 5 4]\n",
      " [9 8 7]]\n"
     ]
    }
   ],
   "source": [
    "# How do you reverse all the columns of a 2D array\n",
    "\n",
    "arr2 = np.array([[1, 2, 3], \n",
    "                [4, 5, 6], \n",
    "                [7, 8, 9]])\n",
    "print(arr2[:,::-1])"
   ]
  },
  {
   "cell_type": "code",
   "execution_count": 154,
   "id": "3d6749be",
   "metadata": {},
   "outputs": [
    {
     "name": "stdout",
     "output_type": "stream",
     "text": [
      "[[9 8 7]\n",
      " [6 5 4]\n",
      " [3 2 1]]\n"
     ]
    }
   ],
   "source": [
    "# Reverse the entire array\n",
    "arr2 = np.array([[1, 2, 3], \n",
    "                [4, 5, 6], \n",
    "                [7, 8, 9]])\n",
    "print(arr2[::-1,::-1])"
   ]
  },
  {
   "cell_type": "code",
   "execution_count": 155,
   "id": "66f0aea0",
   "metadata": {},
   "outputs": [
    {
     "name": "stdout",
     "output_type": "stream",
     "text": [
      "[[4 5 6]\n",
      " [7 8 9]]\n"
     ]
    }
   ],
   "source": [
    "# How do you access the last row of a 2D array using negative indexing\n",
    "print(arr2[-2:])"
   ]
  },
  {
   "cell_type": "code",
   "execution_count": 156,
   "id": "a85c5200",
   "metadata": {},
   "outputs": [
    {
     "name": "stdout",
     "output_type": "stream",
     "text": [
      "[[3]\n",
      " [6]\n",
      " [9]]\n"
     ]
    }
   ],
   "source": [
    "# How do you access the last column of a 2D array using negative indexing\n",
    "print(arr2[:,-1:])"
   ]
  },
  {
   "cell_type": "code",
   "execution_count": 157,
   "id": "71c17d9a",
   "metadata": {},
   "outputs": [
    {
     "name": "stdout",
     "output_type": "stream",
     "text": [
      "6\n"
     ]
    }
   ],
   "source": [
    "# What does arr[-2, -1] return in a 2D array\n",
    "print(arr2[-2,-1])"
   ]
  },
  {
   "cell_type": "code",
   "execution_count": 159,
   "id": "04d49714",
   "metadata": {},
   "outputs": [
    {
     "name": "stdout",
     "output_type": "stream",
     "text": [
      "[[4 5 6]\n",
      " [7 8 9]]\n"
     ]
    }
   ],
   "source": [
    "# How do you extract the last two rows from a 2D array?\n",
    "print(arr2[1:])"
   ]
  },
  {
   "cell_type": "code",
   "execution_count": 160,
   "id": "189d4e23",
   "metadata": {},
   "outputs": [
    {
     "name": "stdout",
     "output_type": "stream",
     "text": [
      "[[2 3]\n",
      " [5 6]\n",
      " [8 9]]\n"
     ]
    }
   ],
   "source": [
    "# How do you extract the last two columns from a 2D array?\n",
    "print(arr2[:,1:])"
   ]
  },
  {
   "cell_type": "code",
   "execution_count": 161,
   "id": "41758d04",
   "metadata": {},
   "outputs": [
    {
     "name": "stdout",
     "output_type": "stream",
     "text": [
      "[[1 2]\n",
      " [4 5]]\n"
     ]
    }
   ],
   "source": [
    "#  How do you extract the top-left 2×2 subarray from a 3×3 array?\n",
    "print(arr2[:2,:2])"
   ]
  },
  {
   "cell_type": "code",
   "execution_count": 162,
   "id": "90e4a917",
   "metadata": {},
   "outputs": [
    {
     "name": "stdout",
     "output_type": "stream",
     "text": [
      "[[ 1  2  3  4]\n",
      " [10 11 12 13]]\n"
     ]
    }
   ],
   "source": [
    "# How do you extract every second row from a 2D array?\n",
    "\n",
    "arr2 = np.array([[1,2,3,4],[5,6,7,8],[10,11,12,13],[14,15,16,17]])\n",
    "print(arr2[::2])"
   ]
  },
  {
   "cell_type": "code",
   "execution_count": 163,
   "id": "c6400894",
   "metadata": {},
   "outputs": [
    {
     "name": "stdout",
     "output_type": "stream",
     "text": [
      "[[ 1  3]\n",
      " [ 5  7]\n",
      " [10 12]\n",
      " [14 16]]\n"
     ]
    }
   ],
   "source": [
    "# How do you extract every second column from a 2D array?\n",
    "print(arr2[::,::2])"
   ]
  },
  {
   "cell_type": "code",
   "execution_count": 164,
   "id": "5490cdba",
   "metadata": {},
   "outputs": [
    {
     "name": "stdout",
     "output_type": "stream",
     "text": [
      "[[ 1  3]\n",
      " [10 12]]\n"
     ]
    }
   ],
   "source": [
    "# What does arr[::2, ::2] return?\n",
    "print(arr2[::2,::2])"
   ]
  },
  {
   "cell_type": "code",
   "execution_count": 166,
   "id": "7e07b531",
   "metadata": {},
   "outputs": [
    {
     "name": "stdout",
     "output_type": "stream",
     "text": [
      "[[5 6]\n",
      " [8 9]]\n"
     ]
    }
   ],
   "source": [
    "# How do you extract the bottom-right corner of a 2D array?\n",
    "\n",
    "\n",
    "arr2 = np.array([[1,2,3],[4,5,6],[7,8,9]]) \n",
    "print(arr2[1::,1::])"
   ]
  },
  {
   "cell_type": "code",
   "execution_count": 5,
   "id": "cd2b2233",
   "metadata": {},
   "outputs": [
    {
     "name": "stdout",
     "output_type": "stream",
     "text": [
      "[[False  True  True]\n",
      " [ True  True  True]]\n",
      "[20 30 40 50 60]\n"
     ]
    }
   ],
   "source": [
    "# How do you extract all elements greater than 10 in a 2D array\n",
    "mask = arr2>10\n",
    "print(mask)\n",
    "\n",
    "# Return the 1D Array containing the elements that matches the mask value.\n",
    "print(arr2[mask])"
   ]
  },
  {
   "cell_type": "code",
   "execution_count": 8,
   "id": "1507f980",
   "metadata": {},
   "outputs": [
    {
     "name": "stdout",
     "output_type": "stream",
     "text": [
      "[[ True  True  True]\n",
      " [ True  True  True]]\n",
      "[10 20 30 40 50 60]\n"
     ]
    }
   ],
   "source": [
    "# How do you extract all even numbers from a 2D array?\n",
    "con = arr2%2==0\n",
    "print(con)\n",
    "\n",
    "print(arr2[con])"
   ]
  },
  {
   "cell_type": "code",
   "execution_count": 9,
   "id": "2090ae0b",
   "metadata": {},
   "outputs": [
    {
     "name": "stdout",
     "output_type": "stream",
     "text": [
      "[10 20 30 40 50 60]\n"
     ]
    }
   ],
   "source": [
    "# What does arr[arr % 2 == 0] return\n",
    "print(arr2[arr2%2==0])"
   ]
  },
  {
   "cell_type": "code",
   "execution_count": 15,
   "id": "7f01e05e",
   "metadata": {},
   "outputs": [
    {
     "name": "stdout",
     "output_type": "stream",
     "text": [
      "Original Array [[3 5 7]\n",
      " [1 9 4]\n",
      " [6 2 8]]\n",
      "After Replacing with Zeros [[0 5 7]\n",
      " [0 9 0]\n",
      " [6 0 8]]\n"
     ]
    }
   ],
   "source": [
    "# How do you replace all elements less than 5 with zero?\n",
    "\n",
    "import numpy as np\n",
    "\n",
    "arr2 = np.array([[3, 5, 7], \n",
    "                [1, 9, 4], \n",
    "                [6, 2, 8]])\n",
    "\n",
    "print(\"Original Array\",arr2)\n",
    "arr2[arr2<5] = 0\n",
    "print(\"After Replacing with Zeros\",arr2)"
   ]
  },
  {
   "cell_type": "code",
   "execution_count": 18,
   "id": "a4ac7f44",
   "metadata": {},
   "outputs": [
    {
     "name": "stdout",
     "output_type": "stream",
     "text": [
      "The no. of elements greater than 50 is 4\n"
     ]
    }
   ],
   "source": [
    "# How do you count the number of elements greater than 50 in a 2D array\n",
    "\n",
    "arr2 = np.array([[10,20,30],[40,50,60],[60,70,80]])\n",
    "\n",
    "count = np.sum(arr2>50)\n",
    "print(\"The no. of elements greater than 50 is\",count)\n"
   ]
  },
  {
   "cell_type": "code",
   "execution_count": 19,
   "id": "3d06b38c",
   "metadata": {},
   "outputs": [
    {
     "name": "stdout",
     "output_type": "stream",
     "text": [
      "[[ 1  2  3]\n",
      " [ 7  8  9]\n",
      " [13 14 15]]\n"
     ]
    }
   ],
   "source": [
    "# How do you extract non-consecutive rows, like rows 0 and 2?\n",
    "\n",
    "arr2 = np.array([[1,2,3],[4,5,6],[7,8,9],[10,11,12],[13,14,15]])\n",
    "print(arr2[::2,::])"
   ]
  },
  {
   "cell_type": "code",
   "execution_count": 20,
   "id": "00ee7163",
   "metadata": {},
   "outputs": [
    {
     "name": "stdout",
     "output_type": "stream",
     "text": [
      "[[ 1  3]\n",
      " [ 4  6]\n",
      " [ 7  9]\n",
      " [10 12]\n",
      " [13 15]]\n"
     ]
    }
   ],
   "source": [
    "# How do you extract non-consecutive columns, like columns 1 and 3?\n",
    "\n",
    "arr2 = np.array([[1,2,3],[4,5,6],[7,8,9],[10,11,12],[13,14,15]])\n",
    "print(arr2[::,::2])"
   ]
  },
  {
   "cell_type": "code",
   "execution_count": 21,
   "id": "05026216",
   "metadata": {},
   "outputs": [
    {
     "name": "stdout",
     "output_type": "stream",
     "text": [
      "[[1 2 3]\n",
      " [7 8 9]]\n"
     ]
    }
   ],
   "source": [
    "# What does arr[[0, 2], :] return?\n",
    "print(arr2[[0,2],:])\n",
    "\n",
    "# Explanation of arr[[0, 2], :]\n",
    "# [0, 2] inside arr[] → Selects row indices 0 and 2.\n",
    "# : (colon) inside arr[] → Selects all columns.\n",
    "# The result is a submatrix containing rows 0 and 2.\n"
   ]
  },
  {
   "cell_type": "code",
   "execution_count": 33,
   "id": "065f3c09",
   "metadata": {},
   "outputs": [
    {
     "name": "stdout",
     "output_type": "stream",
     "text": [
      "[[2 3]\n",
      " [8 9]]\n"
     ]
    }
   ],
   "source": [
    "#  How do you select specific rows and columns at the same time\n",
    "print(arr2[[0,2],:][:,[1,2]])"
   ]
  },
  {
   "cell_type": "code",
   "execution_count": 43,
   "id": "5653df72",
   "metadata": {},
   "outputs": [
    {
     "name": "stdout",
     "output_type": "stream",
     "text": [
      "[[1 2 3]\n",
      " [4 5 6]\n",
      " [7 8 9]]\n",
      "\n",
      "Diagonals Using diagonal method [1 5 9]\n",
      "\n",
      "Diagonals using range method [1 5 9]\n"
     ]
    }
   ],
   "source": [
    "# How do you extract diagonal elements using indexing?\n",
    "arr2 = np.array([[1,2,3],[4,5,6],[7,8,9]])\n",
    "print(arr2)\n",
    "print()\n",
    "print(\"Diagonals Using diagonal method\",arr2.diagonal())\n",
    "print()\n",
    "\n"
   ]
  },
  {
   "cell_type": "code",
   "execution_count": 44,
   "id": "426c95d6",
   "metadata": {},
   "outputs": [
    {
     "name": "stdout",
     "output_type": "stream",
     "text": [
      "Diagonals using range method [1 5 9]\n"
     ]
    }
   ],
   "source": [
    "print(\"Diagonals using range method\",arr2[range(arr2.shape[0]),range(arr2.shape[0])])\n",
    "# Step-by-Step Explanation:\n",
    "# Understanding arr2.shape\n",
    "\n",
    "# arr2.shape\n",
    "# This returns (3, 3), meaning there are 3 rows and 3 columns.\n",
    "\n",
    "# Generating Index Ranges:\n",
    "\n",
    "# range(arr2.shape[0])  # range(3) → [0, 1, 2]\n",
    "# range(arr2.shape[1])  # range(3) → [0, 1, 2]\n",
    "# These represent row and column indices of the diagonal elements.\n",
    "\n",
    "# Fancy Indexing Usage:\n",
    "\n",
    "# arr2[[0, 1, 2], [0, 1, 2]]\n",
    "# This selects elements at:\n",
    "\n",
    "# (0,0) → 1\n",
    "# (1,1) → 5\n",
    "# (2,2) → 9\n",
    "\n",
    "# Final Extraction:\n",
    "\n",
    "# [1 5 9]\n",
    "# The diagonal elements [1, 5, 9] are extracted."
   ]
  },
  {
   "cell_type": "code",
   "execution_count": 45,
   "id": "3ba625b1",
   "metadata": {},
   "outputs": [
    {
     "name": "stdout",
     "output_type": "stream",
     "text": [
      "15\n"
     ]
    }
   ],
   "source": [
    "# Using np.trace() (For Sum of Diagonal)\n",
    "# If you just need the sum of diagonal elements:\n",
    "\n",
    "print(np.trace(arr2))"
   ]
  },
  {
   "cell_type": "code",
   "execution_count": 53,
   "id": "53bd234a",
   "metadata": {},
   "outputs": [
    {
     "name": "stdout",
     "output_type": "stream",
     "text": [
      "[3 5 7]\n"
     ]
    }
   ],
   "source": [
    "# Extracting the Other (Anti) Diagonal\n",
    "# If you want to extract the anti-diagonal (bottrom-left to top-right):\n",
    "res = np.fliplr(arr2).diagonal()\n",
    "print(res)\n",
    "\n",
    "# np.fliplr(arr2) flips the array left to right, and then diagonal() extracts the diagonal.\n",
    "\n"
   ]
  },
  {
   "cell_type": "markdown",
   "id": "13c01659",
   "metadata": {},
   "source": [
    "# Rearranging the rows "
   ]
  },
  {
   "cell_type": "code",
   "execution_count": 58,
   "id": "bbfbe1b2",
   "metadata": {},
   "outputs": [
    {
     "name": "stdout",
     "output_type": "stream",
     "text": [
      "Original Array [[1 2 3]\n",
      " [4 5 6]\n",
      " [7 8 9]]\n",
      "New Changed Array [[7 8 9]\n",
      " [1 2 3]\n",
      " [4 5 6]]\n"
     ]
    }
   ],
   "source": [
    "# Method 1: Using Indexing\n",
    "# You can specify the desired row order using row indices.\n",
    "\n",
    "arr2 = np.array([[1,2,3],[4,5,6],[7,8,9]])\n",
    "print('Original Array',arr2)\n",
    "\n",
    "print('New Changed Array',arr2[[2,0,1]])\n",
    "\n",
    "# How It Works:\n",
    "# arr2[[2, 0, 1]] → selects rows in the order of indices [2, 0, 1]\n",
    "# This does not modify the original array; it creates a new array with the reordered rows.\n",
    "# The column order remains unchanged.\n"
   ]
  },
  {
   "cell_type": "code",
   "execution_count": 65,
   "id": "d00360ed",
   "metadata": {},
   "outputs": [
    {
     "name": "stdout",
     "output_type": "stream",
     "text": [
      "[[3 1 2]\n",
      " [6 4 5]\n",
      " [9 7 8]]\n"
     ]
    }
   ],
   "source": [
    "print(arr2[:,[2,0,1]])"
   ]
  },
  {
   "cell_type": "code",
   "execution_count": 70,
   "id": "637cf8dd",
   "metadata": {},
   "outputs": [
    {
     "name": "stdout",
     "output_type": "stream",
     "text": [
      "Original Array [[1 2 3]\n",
      " [4 5 6]\n",
      " [7 8 9]]\n",
      "Rolled Array down by 1 [[7 8 9]\n",
      " [1 2 3]\n",
      " [4 5 6]]\n",
      "Rolled Array up by 1 [[4 5 6]\n",
      " [7 8 9]\n",
      " [1 2 3]]\n"
     ]
    }
   ],
   "source": [
    "# Method 2: Using numpy.roll()\n",
    "# Shifts all rows circularly by a given number of positions.\n",
    "# The np.roll() function shifts elements in an array circularly along a specified axis. \n",
    "# When applied to a 2D array with axis=0, it rolls the rows up or down.\n",
    "\n",
    "\n",
    "arr2 = np.array([[1,2,3],[4,5,6],[7,8,9]])\n",
    "print('Original Array',arr2)\n",
    "\n",
    "# Shift 1 means move all the rows down by 1.\n",
    "rolled_arr = np.roll(arr2,axis=0,shift=1)\n",
    "print(\"Rolled Array down by 1\",rolled_arr)\n",
    "\n",
    "\n",
    "# Shift -1 means move all the rows up by 1.\n",
    "rolled_arr = np.roll(arr2,axis=0,shift=-1)\n",
    "print(\"Rolled Array up by 1\",rolled_arr)\n",
    "\n",
    "\n",
    "# Parameter\tEffect\n",
    "# shift=1\tRolls rows down (last row moves to the first)\n",
    "# shift=-1\tRolls rows up (first row moves to the last)\n",
    "# axis=0\tSpecifies row-wise shifting (vertical)"
   ]
  },
  {
   "cell_type": "code",
   "execution_count": 71,
   "id": "573625c7",
   "metadata": {},
   "outputs": [
    {
     "name": "stdout",
     "output_type": "stream",
     "text": [
      "Original Array [[1 2 3]\n",
      " [4 5 6]\n",
      " [7 8 9]]\n",
      "Flipped Array [[7 8 9]\n",
      " [4 5 6]\n",
      " [1 2 3]]\n"
     ]
    }
   ],
   "source": [
    "# Using numpy.flip()\n",
    "# Reverses the order of rows.\n",
    "\n",
    "arr2 = np.array([[1,2,3],[4,5,6],[7,8,9]])\n",
    "print('Original Array',arr2)\n",
    "\n",
    "res = np.flip(arr2,axis=0)\n",
    "print(\"Flipped Array\",res)"
   ]
  },
  {
   "cell_type": "code",
   "execution_count": null,
   "id": "c5a3dcc8",
   "metadata": {},
   "outputs": [],
   "source": []
  }
 ],
 "metadata": {
  "kernelspec": {
   "display_name": "Python 3 (ipykernel)",
   "language": "python",
   "name": "python3"
  },
  "language_info": {
   "codemirror_mode": {
    "name": "ipython",
    "version": 3
   },
   "file_extension": ".py",
   "mimetype": "text/x-python",
   "name": "python",
   "nbconvert_exporter": "python",
   "pygments_lexer": "ipython3",
   "version": "3.11.5"
  }
 },
 "nbformat": 4,
 "nbformat_minor": 5
}
