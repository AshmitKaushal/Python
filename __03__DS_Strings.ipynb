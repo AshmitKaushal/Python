{
 "cells": [
  {
   "cell_type": "code",
   "execution_count": 1,
   "id": "3837a219",
   "metadata": {},
   "outputs": [],
   "source": [
    "# While loop "
   ]
  },
  {
   "cell_type": "code",
   "execution_count": 2,
   "id": "7dfc51d9",
   "metadata": {},
   "outputs": [
    {
     "name": "stdout",
     "output_type": "stream",
     "text": [
      "1\n",
      "2\n",
      "3\n",
      "4\n",
      "no 10 rs notes are available\n"
     ]
    }
   ],
   "source": [
    "notes = 5 \n",
    "i = 1 \n",
    "while i < notes:\n",
    "    print(i)\n",
    "    i = i + 1\n",
    "else:\n",
    "    print(\"no 10 rs notes are available\")"
   ]
  },
  {
   "cell_type": "code",
   "execution_count": 3,
   "id": "aa4d2160",
   "metadata": {},
   "outputs": [
    {
     "name": "stdout",
     "output_type": "stream",
     "text": [
      "1 2 3 4 5 6 7 8 9 \n",
      "1 2 3 4 5 6 7 8 9 "
     ]
    }
   ],
   "source": [
    "i = 1\n",
    "j = 1\n",
    "while i < 10:\n",
    "    print(i,end=' ')\n",
    "    i = i + 1\n",
    "else:\n",
    "    print()\n",
    "    while j < 10:\n",
    "        print(j,end=' ')\n",
    "        j = j + 1\n",
    "    "
   ]
  },
  {
   "cell_type": "markdown",
   "id": "fed9cfd4",
   "metadata": {},
   "source": [
    "# String"
   ]
  },
  {
   "cell_type": "code",
   "execution_count": 4,
   "id": "5491ee44",
   "metadata": {},
   "outputs": [
    {
     "name": "stdout",
     "output_type": "stream",
     "text": [
      "This is a a string\n"
     ]
    }
   ],
   "source": [
    "# String is a sequence of character\n",
    "# String is created either using single or double quotes \n",
    "# Multi line string is created either using triple single or triple double quotes.\n",
    "# Strings are immutable means that once the string is created it can't be changed.\n",
    "s = \"This is a a string\"\n",
    "print(s)"
   ]
  },
  {
   "cell_type": "code",
   "execution_count": 5,
   "id": "cd1f48ab",
   "metadata": {},
   "outputs": [
    {
     "name": "stdout",
     "output_type": "stream",
     "text": [
      "This is a \"string\"\n",
      "<class 'str'>\n"
     ]
    }
   ],
   "source": [
    "# In the string \"This is a \\\"String\\\"\",\n",
    "# the backslashes before the double quotes tell Python to treat the enclosed double quotes \n",
    "# as literal characters rather than as the delimiters of the string.\n",
    "\n",
    "s = \"This is a \\\"string\\\"\"\n",
    "print(s)\n",
    "print(type(s))"
   ]
  },
  {
   "cell_type": "code",
   "execution_count": 6,
   "id": "03b47ff9",
   "metadata": {},
   "outputs": [
    {
     "name": "stdout",
     "output_type": "stream",
     "text": [
      "---------Multi line string using triple single quotes----------\n",
      "\n",
      "this is \n",
      "a\n",
      "mutiple\n",
      "line \n",
      "string\n",
      "\n",
      "---------Multi line string using triple double quotes----------\n",
      "this is a\n",
      "multi line \n",
      "string \n",
      "using triple\n",
      "double\n",
      "quotes\n"
     ]
    }
   ],
   "source": [
    "# Multi line String\n",
    "# Multi line string is created either using triple single or triple double quotes.\n",
    "print(\"---------Multi line string using triple single quotes----------\")\n",
    "s = '''\n",
    "this is \n",
    "a\n",
    "mutiple\n",
    "line \n",
    "string'''\n",
    "print(s)\n",
    "print()\n",
    "\n",
    "\n",
    "print(\"---------Multi line string using triple double quotes----------\")\n",
    "s = \"\"\"this is a\n",
    "multi line \n",
    "string \n",
    "using triple\n",
    "double\n",
    "quotes\"\"\"\n",
    "\n",
    "print(s)"
   ]
  },
  {
   "cell_type": "code",
   "execution_count": 7,
   "id": "8e2050d8",
   "metadata": {},
   "outputs": [
    {
     "name": "stdout",
     "output_type": "stream",
     "text": [
      "t\n"
     ]
    }
   ],
   "source": [
    "# Indexing in string \n",
    "# Indexing in string is used to extract the particular character from the string using index of the string.\n",
    "\n",
    "# There are two types of indexing in string.\n",
    "\n",
    "# 1. Positive indexing\n",
    "# Which start from 0 and upto the length of the string -1\n",
    "\n",
    "# 2 Negative Indexing \n",
    "# Which start from length of the string -1 upto the 0 index of the string.\n",
    "\n",
    "s = 'this is a string'\n",
    "print(s[0])"
   ]
  },
  {
   "cell_type": "code",
   "execution_count": 8,
   "id": "246ce5e0",
   "metadata": {},
   "outputs": [
    {
     "name": "stdout",
     "output_type": "stream",
     "text": [
      "this is a string\n",
      "t\n",
      "h\n"
     ]
    }
   ],
   "source": [
    "# Positive Indexing\n",
    "s = \"this is a string\"\n",
    "print(s)\n",
    "print(s[0])\n",
    "print(s[1])"
   ]
  },
  {
   "cell_type": "code",
   "execution_count": 9,
   "id": "23638bb8",
   "metadata": {},
   "outputs": [
    {
     "name": "stdout",
     "output_type": "stream",
     "text": [
      "g\n",
      "n\n"
     ]
    }
   ],
   "source": [
    "# Negative Indexing\n",
    "s = 'this is a string'\n",
    "print(s[-1])\n",
    "print(s[-2])"
   ]
  },
  {
   "cell_type": "code",
   "execution_count": 10,
   "id": "21b0b027",
   "metadata": {},
   "outputs": [
    {
     "name": "stdout",
     "output_type": "stream",
     "text": [
      "this is a string\n"
     ]
    }
   ],
   "source": [
    "# Slicing of a String\n",
    "\n",
    "# Slicing is basically an extraction of part of a string.\n",
    "# which is used to sequence access the particular character or the sequence of the character from the string.\n",
    "# that can be done with help of string name[start,stop,step]\n",
    "# Start index from which index we want the character.\n",
    "# stop index upto which we want the particalar characters that is an exclusive one.\n",
    "# step that is used for the incremention or decremention.\n",
    "\n",
    "\n",
    "s = 'this is a string'\n",
    "print(s)"
   ]
  },
  {
   "cell_type": "code",
   "execution_count": 11,
   "id": "f7eec909",
   "metadata": {},
   "outputs": [
    {
     "name": "stdout",
     "output_type": "stream",
     "text": [
      "This is a string\n"
     ]
    }
   ],
   "source": [
    "# It will return the whole string we dont specify the start and stop index.\n",
    "s = \"This is a string\"\n",
    "print(s[:])"
   ]
  },
  {
   "cell_type": "code",
   "execution_count": 12,
   "id": "c9634b32",
   "metadata": {},
   "outputs": [
    {
     "name": "stdout",
     "output_type": "stream",
     "text": [
      "This is a string\n",
      "This is a string\n"
     ]
    }
   ],
   "source": [
    "# if we dont specify either the start or stop index it will return the whole string.\n",
    "print(s[0:])\n",
    "print(s[:len(s)])\n"
   ]
  },
  {
   "cell_type": "code",
   "execution_count": 13,
   "id": "14691699",
   "metadata": {},
   "outputs": [
    {
     "name": "stdout",
     "output_type": "stream",
     "text": [
      "ti sasrn\n"
     ]
    }
   ],
   "source": [
    "# Stop index in slicing\n",
    "s = \"this is a string\"\n",
    "print(s[0:len(s):2])"
   ]
  },
  {
   "cell_type": "code",
   "execution_count": 14,
   "id": "94efa5ce",
   "metadata": {},
   "outputs": [
    {
     "name": "stdout",
     "output_type": "stream",
     "text": [
      "\n"
     ]
    }
   ],
   "source": [
    "# it will return the empty string as step index is bydefault is positive.\n",
    "s = 'This is a string'\n",
    "print(s[10:3])"
   ]
  },
  {
   "cell_type": "code",
   "execution_count": 15,
   "id": "374b68bd",
   "metadata": {},
   "outputs": [
    {
     "name": "stdout",
     "output_type": "stream",
     "text": [
      "this is a string\n",
      "gnirts a si siht\n"
     ]
    }
   ],
   "source": [
    "# reversal of the string.\n",
    "s = \"this is a string\"\n",
    "print(s)\n",
    "print(s[::-1])"
   ]
  },
  {
   "cell_type": "code",
   "execution_count": 16,
   "id": "75c14c15",
   "metadata": {},
   "outputs": [
    {
     "name": "stdout",
     "output_type": "stream",
     "text": [
      "gnirts a si siht\n"
     ]
    }
   ],
   "source": [
    "s = \"this is a string\"\n",
    "print(s[len(s)-1::-1])"
   ]
  },
  {
   "cell_type": "code",
   "execution_count": 17,
   "id": "ce1a527a",
   "metadata": {},
   "outputs": [
    {
     "name": "stdout",
     "output_type": "stream",
     "text": [
      "this is a string"
     ]
    }
   ],
   "source": [
    "# looping for the string\n",
    "s = 'this is a string'\n",
    "for i in s:\n",
    "    print(i,end=\"\")"
   ]
  },
  {
   "cell_type": "code",
   "execution_count": 18,
   "id": "06eb5925",
   "metadata": {},
   "outputs": [
    {
     "name": "stdout",
     "output_type": "stream",
     "text": [
      "this is a stri"
     ]
    }
   ],
   "source": [
    "# break statement is used to exit from the loop\n",
    "# break is only used inside the the loops.\n",
    "\n",
    "s = \"this is a string\"\n",
    "for i in s:\n",
    "    if i=='n':\n",
    "        break\n",
    "    print(i,end='')"
   ]
  },
  {
   "cell_type": "code",
   "execution_count": 19,
   "id": "7500beff",
   "metadata": {},
   "outputs": [
    {
     "name": "stdout",
     "output_type": "stream",
     "text": [
      "this is a strig"
     ]
    }
   ],
   "source": [
    "# continue statement is used to skip the execution written after it.\n",
    "s = \"this is a string\"\n",
    "for i in s:\n",
    "    if i=='n':\n",
    "        continue\n",
    "    print(i,end='')"
   ]
  },
  {
   "cell_type": "markdown",
   "id": "a633b805",
   "metadata": {},
   "source": [
    "# String Methods"
   ]
  },
  {
   "cell_type": "code",
   "execution_count": 20,
   "id": "d87c2901",
   "metadata": {},
   "outputs": [
    {
     "name": "stdout",
     "output_type": "stream",
     "text": [
      "---------------len method----------------\n",
      "this is a string\n",
      "<class 'str'>\n",
      "16\n"
     ]
    }
   ],
   "source": [
    "print(\"---------------len method----------------\")\n",
    "#len method return the length of the string\n",
    "s = \"this is a string\"\n",
    "print(s)\n",
    "print(type(s))\n",
    "print(len(s))"
   ]
  },
  {
   "cell_type": "code",
   "execution_count": 21,
   "id": "3254cf19",
   "metadata": {},
   "outputs": [
    {
     "name": "stdout",
     "output_type": "stream",
     "text": [
      "-----------------lower method-----------------\n",
      "hello world\n"
     ]
    }
   ],
   "source": [
    "# lower method return the new string which contains all the character of the original string into lower case.\n",
    "\n",
    "print(\"-----------------lower method-----------------\")\n",
    "s = \"Hello world\"\n",
    "res = s.lower()\n",
    "print(res)"
   ]
  },
  {
   "cell_type": "code",
   "execution_count": 22,
   "id": "4e1ecbc6",
   "metadata": {},
   "outputs": [
    {
     "name": "stdout",
     "output_type": "stream",
     "text": [
      "-----------------lower method-----------------\n",
      "HELLO WORLD\n"
     ]
    }
   ],
   "source": [
    "# upper method return the new string which contains all the character of the original string into upper case.\n",
    "\n",
    "\n",
    "print(\"-----------------lower method-----------------\")\n",
    "s = \"Hello World\"\n",
    "res = s.upper()\n",
    "print(res)"
   ]
  },
  {
   "cell_type": "code",
   "execution_count": 23,
   "id": "74ca1a42",
   "metadata": {},
   "outputs": [
    {
     "name": "stdout",
     "output_type": "stream",
     "text": [
      "------------------count method----------------\n",
      "3\n"
     ]
    }
   ],
   "source": [
    "# count method returns the total number of occurrences of the particualar or sequences of character that is pass as string in count method.\n",
    "print(\"------------------count method----------------\")\n",
    "s = \"Hello World\"\n",
    "print(s.count(\"l\"))"
   ]
  },
  {
   "cell_type": "code",
   "execution_count": 24,
   "id": "61cd8690",
   "metadata": {},
   "outputs": [
    {
     "name": "stdout",
     "output_type": "stream",
     "text": [
      "-------------------find method---------------\n",
      "10\n"
     ]
    }
   ],
   "source": [
    "print(\"-------------------find method---------------\")\n",
    "\n",
    "# find method return the index of first occurrence of  particualar or sequences of character that is pass as string in find method.\n",
    "s = \"hello world\"\n",
    "print(s.find('d'))"
   ]
  },
  {
   "cell_type": "code",
   "execution_count": 25,
   "id": "986e4807",
   "metadata": {},
   "outputs": [
    {
     "name": "stdout",
     "output_type": "stream",
     "text": [
      "-------------------index method---------------\n",
      "0\n"
     ]
    }
   ],
   "source": [
    "print(\"-------------------index method---------------\")\n",
    "\n",
    "# index method return the index of first occurrence of  particualar or sequences of character that is pass as string in index method.\n",
    "# But if the particualar or sequences of character is not found in the string then it will raise an error\n",
    "\n",
    "s = \"hello world\"\n",
    "# error is raise as p is not in the string.\n",
    "# print(s.index('p'))\n",
    "\n",
    "print(s.index(\"h\"))"
   ]
  },
  {
   "cell_type": "code",
   "execution_count": 26,
   "id": "516f290a",
   "metadata": {},
   "outputs": [
    {
     "name": "stdout",
     "output_type": "stream",
     "text": [
      "-------------------split method---------------\n",
      "['hello', 'world']\n",
      "['he', '', 'o wor', 'd']\n"
     ]
    }
   ],
   "source": [
    "# split method is used to split the string based on instance passed as a parameter in the split which return the list containing individual string as a list item.\n",
    "# bydefault split method, splits the string from space.\n",
    "print(\"-------------------split method---------------\")\n",
    "\n",
    "s = \"hello world\"\n",
    "res = s.split()\n",
    "print(res)\n",
    "\n",
    "\n",
    "# a empty string in list bcz there is no character between the two ll's\n",
    "s = \"hello world\"\n",
    "res = s.split('l')\n",
    "print(res)"
   ]
  },
  {
   "cell_type": "code",
   "execution_count": 27,
   "id": "a94bfd0c",
   "metadata": {},
   "outputs": [
    {
     "name": "stdout",
     "output_type": "stream",
     "text": [
      "----------------replace method---------------\n",
      "Heyyo Woryd\n"
     ]
    }
   ],
   "source": [
    "# replace method is used to replace all the occurrences of the particualar or sequences of character with new character which is passed as the parameter in the replace method \n",
    "# replace method contains two parameters first is the old character and second is the new character with which we want to replace.\n",
    "\n",
    "print(\"----------------replace method---------------\")\n",
    "s = \"Hello World\"\n",
    "res = s.replace('l','y')\n",
    "print(res)\n",
    "\n"
   ]
  },
  {
   "cell_type": "code",
   "execution_count": 28,
   "id": "896b7f84",
   "metadata": {},
   "outputs": [
    {
     "name": "stdout",
     "output_type": "stream",
     "text": [
      "--------------title method------------------\n",
      "Hello World\n"
     ]
    }
   ],
   "source": [
    "# title method return the new string in which first letter of the each word in capital.\n",
    "print(\"--------------title method------------------\")\n",
    "s = \"heLLO wORLD\"\n",
    "print(s.title())"
   ]
  },
  {
   "cell_type": "code",
   "execution_count": 29,
   "id": "c6e2f5b7",
   "metadata": {},
   "outputs": [
    {
     "name": "stdout",
     "output_type": "stream",
     "text": [
      "--------------title method------------------\n",
      "Hello world\n"
     ]
    }
   ],
   "source": [
    "# capitalize method return the new string in which single letter of the string is in upper case and convert the rest of the character into the lower case.\n",
    "\n",
    "\n",
    "print(\"--------------title method------------------\")\n",
    "s = \"hELLO worlD\"\n",
    "res = s.capitalize()\n",
    "print(res)"
   ]
  },
  {
   "cell_type": "code",
   "execution_count": 30,
   "id": "b9c9ec12",
   "metadata": {},
   "outputs": [
    {
     "name": "stdout",
     "output_type": "stream",
     "text": [
      "--------------isalphanum method------------------\n",
      "True\n",
      "False\n"
     ]
    }
   ],
   "source": [
    "# isalanum method return true if the string only contains alphabets and numbers else false.\n",
    "# only any other character or punctuation like space ,*,/,?\n",
    "\n",
    "print(\"--------------isalphanum method------------------\")\n",
    "s = \"Helloworld1234\"\n",
    "print(s.isalnum())\n",
    "\n",
    "s = \"hello world\"\n",
    "print(s.isalnum())"
   ]
  },
  {
   "cell_type": "code",
   "execution_count": 31,
   "id": "b5e37d00",
   "metadata": {},
   "outputs": [
    {
     "name": "stdout",
     "output_type": "stream",
     "text": [
      "--------------isalphanum method------------------\n",
      "False\n",
      "True\n"
     ]
    }
   ],
   "source": [
    "# isalpha return true if the string contains only the alphabets else true\n",
    "\n",
    "\n",
    "print(\"--------------isalphanum method------------------\")\n",
    "s = \"Hello world\"\n",
    "print(s.isalpha())\n",
    "\n",
    "\n",
    "s = \"HelloWorld\"\n",
    "print(s.isalpha())"
   ]
  },
  {
   "cell_type": "code",
   "execution_count": 32,
   "id": "e08814dc",
   "metadata": {},
   "outputs": [
    {
     "name": "stdout",
     "output_type": "stream",
     "text": [
      "--------------isspace method------------------\n",
      "False\n",
      "True\n"
     ]
    }
   ],
   "source": [
    "# isspace return the true if the string only contains the white space else false.\n",
    "\n",
    "\n",
    "print(\"--------------isspace method------------------\")\n",
    "s = \"hello world\"\n",
    "print(s.isspace())\n",
    "\n",
    "s = \"       \"\n",
    "print(s.isspace())"
   ]
  },
  {
   "cell_type": "code",
   "execution_count": 33,
   "id": "184722f0",
   "metadata": {},
   "outputs": [
    {
     "name": "stdout",
     "output_type": "stream",
     "text": [
      "--------------isspace method------------------\n",
      "False\n",
      "True\n"
     ]
    }
   ],
   "source": [
    "# isprintable returns true is the string only contains printable characters.\n",
    "\n",
    "print(\"--------------isspace method------------------\")\n",
    "s = \"Hello World\\n\"\n",
    "print(s.isprintable())\n",
    "\n",
    "s = \"Hello World1345\"\n",
    "print(s.isprintable())"
   ]
  },
  {
   "cell_type": "code",
   "execution_count": 34,
   "id": "7ccf2a59",
   "metadata": {},
   "outputs": [
    {
     "name": "stdout",
     "output_type": "stream",
     "text": [
      "--------------istitle method------------------\n",
      "False\n",
      "True\n"
     ]
    }
   ],
   "source": [
    "# istitle method return true if the first letter of the each word is capital.\n",
    "\n",
    "print(\"--------------istitle method------------------\")\n",
    "s = \"Hello world\"\n",
    "print(s.istitle())\n",
    "\n",
    "# here it works does not give error.\n",
    "s = \"Hello World 1244\"\n",
    "print(s.istitle())"
   ]
  },
  {
   "cell_type": "code",
   "execution_count": 35,
   "id": "afa3780e",
   "metadata": {},
   "outputs": [
    {
     "name": "stdout",
     "output_type": "stream",
     "text": [
      "--------------startswith method------------------\n",
      "False\n",
      "False\n"
     ]
    }
   ],
   "source": [
    "# startswith methods return true if the string starts with particualar or sequences of character that is passed as the parameter in the method\n",
    "\n",
    "\n",
    "print(\"--------------startswith method------------------\")\n",
    "s = \"Hello World\"\n",
    "print(s.startswith(\"h\"))\n",
    "\n",
    "# In this method we can also pass from which index we want to search particualar or sequences of character that is passed as the parameter in the method\n",
    "\n",
    "s = \"hello world\"\n",
    "print(s.startswith('l',5))\n",
    "\n",
    "# similarly we have endswith method"
   ]
  },
  {
   "cell_type": "code",
   "execution_count": 36,
   "id": "04a07869",
   "metadata": {},
   "outputs": [
    {
     "name": "stdout",
     "output_type": "stream",
     "text": [
      "--------------swapcase method------------------\n",
      "Hello World\n"
     ]
    }
   ],
   "source": [
    "# swapcase method returns the new string which converts the lower case into upper case and vice-versa.\n",
    "\n",
    "print(\"--------------swapcase method------------------\")\n",
    "s = \"hELLO wORLD\"\n",
    "print(s.swapcase())"
   ]
  },
  {
   "cell_type": "code",
   "execution_count": 37,
   "id": "7a3cb76b",
   "metadata": {},
   "outputs": [
    {
     "name": "stdout",
     "output_type": "stream",
     "text": [
      "Hello 567890 xccv\n"
     ]
    }
   ],
   "source": [
    "# assign the values to the multiple variables in the single line.\n",
    "name,phone,address = \"Hello\",567890,'xccv'\n",
    "print(name,phone,address)"
   ]
  },
  {
   "cell_type": "code",
   "execution_count": 38,
   "id": "453a151c",
   "metadata": {},
   "outputs": [
    {
     "name": "stdout",
     "output_type": "stream",
     "text": [
      "('Hello', 567890, 'xccv')\n"
     ]
    }
   ],
   "source": [
    "# if the mutiple values are assign to the single variable then the data in stored in the form of the tuple.\n",
    "data = \"Hello\",567890,'xccv'\n",
    "print(data)"
   ]
  },
  {
   "cell_type": "markdown",
   "id": "92a7420c",
   "metadata": {},
   "source": [
    "# Mathematical Operations on String"
   ]
  },
  {
   "cell_type": "code",
   "execution_count": 39,
   "id": "607a671d",
   "metadata": {},
   "outputs": [
    {
     "name": "stdout",
     "output_type": "stream",
     "text": [
      "hellohello\n"
     ]
    }
   ],
   "source": [
    "# if the number is multiple with a string then the new string is returned in which each word is repeated as many time as the number is multiple with string.\n",
    "s = \"hello\"\n",
    "print(s*2)"
   ]
  },
  {
   "cell_type": "code",
   "execution_count": 40,
   "id": "9f7d397b",
   "metadata": {},
   "outputs": [
    {
     "name": "stdout",
     "output_type": "stream",
     "text": [
      "Hello World\n"
     ]
    }
   ],
   "source": [
    "# you can only concatenate the two string.\n",
    "s = \"Hello\"\n",
    "s1 = \" World\"\n",
    "print(s+s1)"
   ]
  },
  {
   "cell_type": "code",
   "execution_count": 41,
   "id": "3704a538",
   "metadata": {},
   "outputs": [
    {
     "name": "stdout",
     "output_type": "stream",
     "text": [
      "this is that's\n"
     ]
    }
   ],
   "source": [
    "s = 'this is that\\'s'\n",
    "print(s)"
   ]
  },
  {
   "cell_type": "code",
   "execution_count": 42,
   "id": "59df950f",
   "metadata": {},
   "outputs": [
    {
     "name": "stdout",
     "output_type": "stream",
     "text": [
      "This is a \"nice\"\n"
     ]
    }
   ],
   "source": [
    "# The backslash \\ in Python is an escape character. It is used to give special meaning to the character that follows it. It \"escapes\" the normal behavior of a character, allowing you to include \n",
    "# otherwise problematic or special characters in strings\n",
    "s = \"This is a \\\"nice\\\"\"\n",
    "print(s)"
   ]
  },
  {
   "cell_type": "code",
   "execution_count": 43,
   "id": "53944f50",
   "metadata": {},
   "outputs": [
    {
     "name": "stdout",
     "output_type": "stream",
     "text": [
      "3\n",
      "4\n",
      "5\n",
      "6\n"
     ]
    }
   ],
   "source": [
    "s = \"My name is ____\"\n",
    "b = s.find(\"name\")\n",
    "for i in range(len(\"name\")):\n",
    "    print(b+i)"
   ]
  },
  {
   "cell_type": "code",
   "execution_count": 44,
   "id": "399ca5c7",
   "metadata": {},
   "outputs": [
    {
     "name": "stdout",
     "output_type": "stream",
     "text": [
      "<reversed object at 0x000002C4A9B71600>\n",
      "gnirts a si siht\n"
     ]
    }
   ],
   "source": [
    "s = \"this is a string\"\n",
    "# reversed method return the iterator which generates the value on fly that can be iterated over.\n",
    "rev = reversed(s)\n",
    "print(rev)\n",
    "\n",
    "a = list(reversed(s))\n",
    "print(\"\".join(a))"
   ]
  },
  {
   "cell_type": "code",
   "execution_count": 45,
   "id": "c62f9ac1",
   "metadata": {},
   "outputs": [
    {
     "data": {
      "text/plain": [
       "'  this is a string  '"
      ]
     },
     "execution_count": 45,
     "metadata": {},
     "output_type": "execute_result"
    }
   ],
   "source": [
    "s = \"this is a string\"\n",
    "s.center(20)"
   ]
  },
  {
   "cell_type": "code",
   "execution_count": 54,
   "id": "9a5c3fa2",
   "metadata": {},
   "outputs": [
    {
     "name": "stdout",
     "output_type": "stream",
     "text": [
      "we are the part of full stack\n",
      "total count of a is 3\n",
      "3\n",
      "8\n",
      "14\n",
      "we sre the psrt of full stsck\n",
      "['we', 'sre', 'the', 'psrt', 'of', 'full', 'stsck']\n",
      "<class 'list'>\n"
     ]
    }
   ],
   "source": [
    "s = 'We are the part of full stack'\n",
    "# Step 1\n",
    "ls = s.lower()\n",
    "print(ls)\n",
    "\n",
    "# Step 2\n",
    "count = ls.count('a')\n",
    "print('total count of a is',count)\n",
    "\n",
    "# Step 3 \n",
    "idx = s.find('a')\n",
    "print(idx)\n",
    "ns = ls[idx+1:]\n",
    "for i in range(len(ls)):\n",
    "    idx = ns.find('a')\n",
    "    if idx!=-1:\n",
    "        print(idx+i)\n",
    "        ns = ns[idx+1:]\n",
    "    else:\n",
    "        break\n",
    "\n",
    "# Step 4  \n",
    "ls = ls.replace('a','s')\n",
    "print(ls)\n",
    "\n",
    "# Step 5 \n",
    "l1 = ls.split()\n",
    "print(l1)\n",
    "print(type(l1))\n"
   ]
  },
  {
   "cell_type": "code",
   "execution_count": 58,
   "id": "261c2da9",
   "metadata": {},
   "outputs": [
    {
     "name": "stdout",
     "output_type": "stream",
     "text": [
      "gnirts a si siht\n"
     ]
    }
   ],
   "source": [
    "# this is also the reverse of the string.\n",
    "s = \"this is a string\"\n",
    "for i in range(1,len(s)+1):\n",
    "    print(s[-i],end='')\n",
    "    \n",
    "print()"
   ]
  },
  {
   "cell_type": "code",
   "execution_count": 62,
   "id": "5ab67459",
   "metadata": {},
   "outputs": [
    {
     "name": "stdout",
     "output_type": "stream",
     "text": [
      "t\n",
      "h\n",
      "Vowel in the string\n",
      "s\n",
      " \n",
      "Vowel in the string\n",
      "s\n",
      " \n",
      "Vowel in the string\n",
      " \n",
      "s\n",
      "t\n",
      "r\n",
      "Vowel in the string\n",
      "n\n",
      "g\n"
     ]
    }
   ],
   "source": [
    "# Checking vowels in the string.\n",
    "\n",
    "s = \"this is a string\"\n",
    "vowels  = \"AaEeIiOoUu\"\n",
    "\n",
    "for i in s:\n",
    "    if i in vowels:\n",
    "        print(\"Vowel in the string\")\n",
    "    else:\n",
    "        print(i)"
   ]
  },
  {
   "cell_type": "code",
   "execution_count": 63,
   "id": "8dd28f85",
   "metadata": {},
   "outputs": [
    {
     "name": "stdout",
     "output_type": "stream",
     "text": [
      "this is a string\n"
     ]
    }
   ],
   "source": [
    "s = \"{} is a string\"\n",
    "print(s.format(\"this\"))"
   ]
  },
  {
   "cell_type": "code",
   "execution_count": 64,
   "id": "62fb8d0e",
   "metadata": {},
   "outputs": [
    {
     "name": "stdout",
     "output_type": "stream",
     "text": [
      "a is 10 and b is 20\n"
     ]
    }
   ],
   "source": [
    "s = \"a is {a} and b is {b}\"\n",
    "print(s.format(b=20,a=10))"
   ]
  },
  {
   "cell_type": "code",
   "execution_count": 67,
   "id": "26215679",
   "metadata": {},
   "outputs": [
    {
     "name": "stdout",
     "output_type": "stream",
     "text": [
      "Enter a string you want to check it is a palindrome or not NICECIN\n",
      "same\n"
     ]
    }
   ],
   "source": [
    "# palindrome string\n",
    "s = input(\"Enter a string you want to check it is a palindrome or not \")\n",
    "rev = s[::-1]\n",
    "if s== rev:\n",
    "    print(\"same\")\n",
    "else:\n",
    "    print(\"Different\")"
   ]
  },
  {
   "cell_type": "code",
   "execution_count": null,
   "id": "e72d56ff",
   "metadata": {},
   "outputs": [],
   "source": []
  }
 ],
 "metadata": {
  "kernelspec": {
   "display_name": "Python 3 (ipykernel)",
   "language": "python",
   "name": "python3"
  },
  "language_info": {
   "codemirror_mode": {
    "name": "ipython",
    "version": 3
   },
   "file_extension": ".py",
   "mimetype": "text/x-python",
   "name": "python",
   "nbconvert_exporter": "python",
   "pygments_lexer": "ipython3",
   "version": "3.11.5"
  }
 },
 "nbformat": 4,
 "nbformat_minor": 5
}
