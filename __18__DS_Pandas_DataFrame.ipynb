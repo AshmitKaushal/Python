{
 "cells": [
  {
   "cell_type": "markdown",
   "id": "ccd76d15",
   "metadata": {},
   "source": [
    "# DataFrame"
   ]
  },
  {
   "cell_type": "code",
   "execution_count": 2,
   "id": "8699f88d",
   "metadata": {},
   "outputs": [],
   "source": [
    "# A Pandas DataFrame is a 2 dimensional data structure, like a 2 dimensional array, or a table with rows and columns.\n",
    "\n",
    "# A DataFrame in Pandas is a two-dimensional, tabular data structure (like an Excel spreadsheet or SQL table). \n",
    "# It consists of rows and columns and can hold multiple data types (integers, floats, strings, etc.).\n",
    "\n",
    "# To create the dataframe we have to use DataFrame method of pandas."
   ]
  },
  {
   "cell_type": "code",
   "execution_count": 3,
   "id": "17b362d4",
   "metadata": {},
   "outputs": [],
   "source": [
    "# what is Dataframe method of pandas ?\n",
    "\n",
    "# DataFrame() Method in Pandas\n",
    "# The DataFrame() method in Pandas is used to create a DataFrame (a 2D table-like data structure) from various data sources like lists, dictionaries, NumPy arrays, and more.\n",
    "\n",
    "# Return Type\n",
    "# The return type of pd.DataFrame() is a Pandas DataFrame object."
   ]
  },
  {
   "cell_type": "code",
   "execution_count": 4,
   "id": "0bbd0f4e",
   "metadata": {},
   "outputs": [],
   "source": [
    "#  What Does DataFrame() Do?\n",
    "\n",
    "# It creates a DataFrame from input data.\n",
    "# It organizes data into rows and columns.\n",
    "# It assigns default or custom indexes.\n",
    "# It labels columns automatically if provided."
   ]
  },
  {
   "cell_type": "markdown",
   "id": "b70d29b6",
   "metadata": {},
   "source": [
    "# Syntax"
   ]
  },
  {
   "cell_type": "code",
   "execution_count": 5,
   "id": "05d20282",
   "metadata": {},
   "outputs": [],
   "source": [
    "\n",
    "# import pandas as pd\n",
    "\n",
    "# pd.DataFrame(data, index, columns, dtype, copy)\n",
    "\n",
    "# 🔸 Parameters:\n",
    "# Parameter\tDescription\n",
    "# data\tData to be converted (list, dict, array, etc.).\n",
    "# index\t(Optional) Custom row labels.\n",
    "# columns\t(Optional) Custom column names.\n",
    "# dtype\t(Optional) Data type of values.\n",
    "# copy\t(Optional) Copy data or not. Default is False.\n"
   ]
  },
  {
   "cell_type": "code",
   "execution_count": 9,
   "id": "77d649d4",
   "metadata": {},
   "outputs": [
    {
     "name": "stdout",
     "output_type": "stream",
     "text": [
      "   Name  age\n",
      "0  GOGO   10\n",
      "1  KOKO   20\n",
      "2  LOLO   30\n",
      "<class 'pandas.core.frame.DataFrame'>\n"
     ]
    }
   ],
   "source": [
    "# Creating the dataframe object from dictionary.\n",
    "\n",
    "import pandas as pd\n",
    "d1 = {\n",
    "    'Name':['GOGO','KOKO','LOLO'],\n",
    "    'age':[10,20,30]\n",
    "}\n",
    "df = pd.DataFrame(d1)\n",
    "print(df)\n",
    "print(type(df))\n",
    "\n",
    "# In this key becomes the column names and values becomes the row."
   ]
  },
  {
   "cell_type": "markdown",
   "id": "a3743e63",
   "metadata": {},
   "source": [
    "# I. index Parameter"
   ]
  },
  {
   "cell_type": "code",
   "execution_count": 11,
   "id": "560162af",
   "metadata": {},
   "outputs": [
    {
     "name": "stdout",
     "output_type": "stream",
     "text": [
      "      Name  age\n",
      "row1  GOGO   10\n",
      "row2  KOKO   20\n",
      "row3  LOLO   30\n"
     ]
    }
   ],
   "source": [
    "# index Parameter (Custom Row Indexing)\n",
    "# By default, Pandas assigns numeric row indices (0,1,2,...). You can specify custom row labels using the index parameter.\n",
    "\n",
    "d1 = {\n",
    "    'Name':['GOGO','KOKO','LOLO'],\n",
    "    'age':[10,20,30]\n",
    "     }\n",
    "df = pd.DataFrame(d1,index=['row1','row2','row3'])\n",
    "print(df)\n",
    "\n",
    "# Here by providing the index parameter we have customize the row name."
   ]
  },
  {
   "cell_type": "markdown",
   "id": "668c7943",
   "metadata": {},
   "source": [
    "# II. Column Parameter"
   ]
  },
  {
   "cell_type": "code",
   "execution_count": 20,
   "id": "2ae44b66",
   "metadata": {},
   "outputs": [
    {
     "name": "stdout",
     "output_type": "stream",
     "text": [
      "        A    B\n",
      "row1  NaN  NaN\n",
      "row2  NaN  NaN\n",
      "row3  NaN  NaN\n"
     ]
    }
   ],
   "source": [
    "# columns Parameter (Custom Column Names)\n",
    "# By default, column names are inferred from dictionary keys or input structure. You can change them using columns.\n",
    "d1 = {\n",
    "    'Name':['GOGO','KOKO','LOLO'],\n",
    "    'age':[10,20,30]\n",
    "}\n",
    "df = pd.DataFrame(d1,index=['row1','row2','row3'],columns=('A','B'))\n",
    "print(df)\n",
    "\n",
    "# The issue here is that the columns parameter does not match the keys in the dictionary (d1). \n",
    "# As a result, Pandas creates a DataFrame with column names \"A\" and \"B\", which do not exist in the dictionary, so it fills all values with NaN.\n",
    "\n",
    "# Why Does This Happen?\n",
    "# Your dictionary d1 has keys \"Name\" and \"age\".\n",
    "# You specified columns=['A', 'B'], which are not present in the dictionary.\n",
    "# Since Pandas doesn't find \"A\" and \"B\" in d1, it creates empty columns filled with NaN.\n"
   ]
  },
  {
   "cell_type": "code",
   "execution_count": 22,
   "id": "e326cf62",
   "metadata": {},
   "outputs": [
    {
     "name": "stdout",
     "output_type": "stream",
     "text": [
      "   Name  age\n",
      "0  GOGO   10\n",
      "1  KOKO   20\n",
      "2  LOLO   30\n",
      "      X   Y\n",
      "0  GOGO  10\n",
      "1  KOKO  20\n",
      "2  LOLO  30\n"
     ]
    }
   ],
   "source": [
    "# Alternate way to change the column name of the dictionary with new names provided by the column parameter.\n",
    "d1 = {\n",
    "    'Name':['GOGO','KOKO','LOLO'],\n",
    "    'age':[10,20,30]\n",
    "}\n",
    "df = pd.DataFrame(d1)\n",
    "print(df)\n",
    "\n",
    "df.columns = ['X','Y']\n",
    "print(df)"
   ]
  },
  {
   "cell_type": "code",
   "execution_count": 23,
   "id": "67986dd6",
   "metadata": {},
   "outputs": [
    {
     "name": "stdout",
     "output_type": "stream",
     "text": [
      "      X   Y\n",
      "0  GOGO  10\n",
      "1  KOKO  20\n",
      "2  LOLO  30\n"
     ]
    }
   ],
   "source": [
    "# Why Does columns in pd.DataFrame() Lead to NaN?\n",
    "# When you specify the columns parameter inside pd.DataFrame(), Pandas tries to match the given column names with the dictionary keys. \n",
    "# If they don’t match, Pandas creates a DataFrame with the specified columns but fills it with NaN because it cannot find corresponding values.\n",
    "\n",
    "f = pd.DataFrame(d1, index=['row1', 'row2', 'row3'], columns=['A', 'B'])\n",
    "print(df)\n",
    "\n",
    "# Why NaN?\n",
    "\n",
    "# d1 = {'Name': ['GOGO', 'KOKO', 'LOLO'], 'age': [10, 20, 30]}\n",
    "# Pandas expects keys like \"A\" and \"B\", but only finds \"Name\" and \"age\".\n",
    "# Since \"A\" and \"B\" are missing in d1, Pandas fills them with NaN.\n",
    "\n"
   ]
  },
  {
   "cell_type": "code",
   "execution_count": 25,
   "id": "18443801",
   "metadata": {},
   "outputs": [
    {
     "name": "stdout",
     "output_type": "stream",
     "text": [
      "         A   B\n",
      "row1  GOGO  10\n",
      "row2  KOKO  20\n",
      "row3  LOLO  30\n"
     ]
    }
   ],
   "source": [
    "# Why Does Renaming df.columns After Creation Work?\n",
    "# When you first create the DataFrame without the columns parameter, \n",
    "# Pandas correctly assigns column names based on the dictionary keys. \n",
    "# Then, when you manually rename the columns after creation, you're just changing the labels, not affecting the actual data.\n",
    "\n",
    "# Example (Works Correctly)\n",
    "\n",
    "df = pd.DataFrame(d1, index=['row1', 'row2', 'row3'])\n",
    "df.columns = ['A', 'B']  # Renaming columns after creation\n",
    "print(df)\n",
    "\n",
    "# Why Does This Work?\n",
    "\n",
    "# First, Pandas correctly maps \"Name\" and \"age\" to columns.\n",
    "# Then, df.columns = ['A', 'B'] simply renames them without affecting the data.\n",
    "# Column renaming does not change the structure of the DataFrame, but using columns= inside pd.DataFrame() expects exact column matches."
   ]
  },
  {
   "cell_type": "code",
   "execution_count": null,
   "id": "1b334030",
   "metadata": {},
   "outputs": [],
   "source": [
    "# What Does \"Changing the Labels, Not Affecting the Actual Data\" Mean?\n",
    "# When you rename columns after creating a DataFrame, only the column names (labels) change, but the actual data inside the DataFrame remains the same."
   ]
  },
  {
   "cell_type": "code",
   "execution_count": 26,
   "id": "1138d72f",
   "metadata": {},
   "outputs": [
    {
     "name": "stdout",
     "output_type": "stream",
     "text": [
      "         A   B\n",
      "row1  GOGO  10\n",
      "row2  KOKO  20\n",
      "row3  LOLO  30\n"
     ]
    }
   ],
   "source": [
    "# Why Is This Different from Using columns= in pd.DataFrame()?\n",
    "# If you specify column names in pd.DataFrame() that don’t match the dictionary keys, Pandas creates a DataFrame with those names but cannot map data to them, resulting in NaN values.\n",
    "\n",
    "df.columns = ['A', 'B']  # Changing column names\n",
    "print(df)\n",
    "\n",
    "# What happened here?\n",
    "# The column labels (\"Name\" → \"A\", \"Age\" → \"B\") were changed.\n",
    "# The data remains the same: \"GOGO\", \"KOKO\", \"LOLO\" are still in the first column, and 10, 20, 30 are still in the second column."
   ]
  },
  {
   "cell_type": "markdown",
   "id": "a9c3c547",
   "metadata": {},
   "source": [
    "# IV. dtype"
   ]
  },
  {
   "cell_type": "code",
   "execution_count": 28,
   "id": "748a7a6a",
   "metadata": {},
   "outputs": [
    {
     "name": "stdout",
     "output_type": "stream",
     "text": [
      "        a     b\n",
      "i    10.0  10.0\n",
      "ii   20.0  20.0\n",
      "iii  30.0  30.0\n"
     ]
    }
   ],
   "source": [
    "# dtype Parameter (Set Data Type for All Columns).\n",
    "# By default, Pandas infers the data type of each column. You can enforce a specific type using dtype.\n",
    "\n",
    "d1 = {\n",
    "    'a':[10,20,30],\n",
    "    'b':[10,20,30]\n",
    "}\n",
    "df = pd.DataFrame(d1,index=['i','ii','iii'],dtype='float')\n",
    "print(df)\n",
    "# All values are converted to float."
   ]
  },
  {
   "cell_type": "markdown",
   "id": "479930e6",
   "metadata": {},
   "source": [
    "# V. copy Parameter (Control Copying of Data)\n"
   ]
  },
  {
   "cell_type": "code",
   "execution_count": 55,
   "id": "b80da834",
   "metadata": {},
   "outputs": [
    {
     "name": "stdout",
     "output_type": "stream",
     "text": [
      "Original Data {'a': [10, 20, 30], 'b': [100, 200, 300]}\n",
      "Modified Data      a    b\n",
      "0  100  100\n",
      "1   20  200\n",
      "2   30  300\n"
     ]
    }
   ],
   "source": [
    "# Default (False) → Uses reference if possible (saves memory).\n",
    "# True → Forces a copy of the input data.\n",
    "\n",
    "# Copy true means if somes changes is done in the dataframe object the changes will be reflected into the original data structure also.\n",
    "d1 = {\n",
    "    'a':[10,20,30],\n",
    "    'b':[100,200,300]\n",
    "}\n",
    "df1 = pd.DataFrame(d1,copy=True)\n",
    "df1.loc[0,'a'] = 100\n",
    "print(\"Original Data\",d1)\n",
    "print(\"Modified Data\",df1)\n",
    "\n",
    "\n",
    "# When to Use copy=True?\n",
    "# When you want to modify a DataFrame without affecting the original data.\n",
    "# When working with NumPy arrays or slices of other DataFrames, to avoid unexpected changes."
   ]
  },
  {
   "cell_type": "markdown",
   "id": "2a30f538",
   "metadata": {},
   "source": [
    "# A.Creating the dataframe from the list"
   ]
  },
  {
   "cell_type": "markdown",
   "id": "e0809ef4",
   "metadata": {},
   "source": [
    "# 1.Creating Dataframe from List"
   ]
  },
  {
   "cell_type": "code",
   "execution_count": 62,
   "id": "f8517875",
   "metadata": {},
   "outputs": [
    {
     "name": "stdout",
     "output_type": "stream",
     "text": [
      "   Values\n",
      "a      10\n",
      "b      20\n",
      "c      30\n",
      "d      40\n",
      "e      50\n"
     ]
    }
   ],
   "source": [
    "# A single list will create a single-column DataFrame.\n",
    "l1 = [10,20,30,40,50]\n",
    "df = pd.DataFrame(l1,index=['a','b','c','d','e'],columns=[\"Values\"])\n",
    "print(df)\n",
    "\n",
    "# The list elements become rows.\n",
    "# The columns parameter gives the column a name.\n"
   ]
  },
  {
   "cell_type": "markdown",
   "id": "56e2b0d1",
   "metadata": {},
   "source": [
    "# 2. Creating a DataFrame from a List of Lists"
   ]
  },
  {
   "cell_type": "code",
   "execution_count": 64,
   "id": "c33d68b6",
   "metadata": {},
   "outputs": [
    {
     "name": "stdout",
     "output_type": "stream",
     "text": [
      "   id     Name  Age\n",
      "0   1    Alice   25\n",
      "1   2      BOB   24\n",
      "2   3  Charlie   28\n"
     ]
    }
   ],
   "source": [
    "# A list of lists creates a multi-column DataFrame.\n",
    "\n",
    "data = [\n",
    "    [1,'Alice',25],\n",
    "    [2,'BOB',24],\n",
    "    [3,'Charlie',28]\n",
    "    ]\n",
    "df = pd.DataFrame(data,columns=['id','Name',\"Age\"])\n",
    "print(df)\n",
    "\n",
    "# Here the inner list becomes the individual row and columns parameter provide the column name.\n",
    "# Each inner list represents a row.\n",
    "# The columns parameter assigns column names."
   ]
  },
  {
   "cell_type": "markdown",
   "id": "05da8c72",
   "metadata": {},
   "source": [
    "# 3.Creating a DataFrame from a List of Dictionaries"
   ]
  },
  {
   "cell_type": "code",
   "execution_count": 66,
   "id": "3aed9edf",
   "metadata": {},
   "outputs": [
    {
     "name": "stdout",
     "output_type": "stream",
     "text": [
      "   id     Name  age\n",
      "0   1    Alice   25\n",
      "1   2      Bob   24\n",
      "2   3  Charlie   28\n"
     ]
    }
   ],
   "source": [
    "data = [\n",
    "    {'id':1,'Name':'Alice','age':25},\n",
    "    {'id':2,'Name':'Bob','age':24},\n",
    "    {'id':3,'Name':\"Charlie\",'age':28}\n",
    "]\n",
    "df = pd.DataFrame(data)\n",
    "print(df)\n",
    "\n",
    "# Each dictionary represents a row."
   ]
  },
  {
   "cell_type": "markdown",
   "id": "54f05c65",
   "metadata": {},
   "source": [
    "# B.Creating the DataFrame from the Tuple."
   ]
  },
  {
   "cell_type": "markdown",
   "id": "208fc3fd",
   "metadata": {},
   "source": [
    "# 1.DataFame from the tuple"
   ]
  },
  {
   "cell_type": "code",
   "execution_count": 73,
   "id": "5bf7e2c9",
   "metadata": {},
   "outputs": [
    {
     "name": "stdout",
     "output_type": "stream",
     "text": [
      "   Values\n",
      "a      10\n",
      "d      20\n",
      "d      30\n",
      "e      40\n"
     ]
    }
   ],
   "source": [
    "t1 = (10,20,30,40)\n",
    "df = pd.DataFrame(t1,columns=['Values'],index=['a','d','d','e'])\n",
    "print(df)\n",
    "\n",
    "# Here the tuple individual elements become row  of the DataFrame and column parameter provides the name of the column in the dataframe."
   ]
  },
  {
   "cell_type": "markdown",
   "id": "b45a54a5",
   "metadata": {},
   "source": [
    "# 2.DataFrame from the list of tuple"
   ]
  },
  {
   "cell_type": "code",
   "execution_count": 74,
   "id": "3a3051d3",
   "metadata": {},
   "outputs": [
    {
     "name": "stdout",
     "output_type": "stream",
     "text": [
      "   Id     Name  Age\n",
      "0   1    Alice   25\n",
      "1   2      BOB   24\n",
      "2   3  Charlie   28\n"
     ]
    }
   ],
   "source": [
    "data = [\n",
    "    (1,'Alice',25),\n",
    "    (2,'BOB',24),\n",
    "    (3,'Charlie',28)\n",
    "]\n",
    "\n",
    "df = pd.DataFrame(data,columns=['Id','Name','Age'])\n",
    "print(df)\n",
    "\n",
    "# Each tuple represents a row.\n",
    "# The columns parameter is used to assign column names."
   ]
  },
  {
   "cell_type": "markdown",
   "id": "8ca9ee9f",
   "metadata": {},
   "source": [
    "# 3.Creating a DataFrame from a Tuple of Lists"
   ]
  },
  {
   "cell_type": "code",
   "execution_count": 78,
   "id": "0c0747c6",
   "metadata": {},
   "outputs": [
    {
     "name": "stdout",
     "output_type": "stream",
     "text": [
      "      id Name      Age\n",
      "0      1    2        3\n",
      "1  Alice  BOB  Charlie\n",
      "2     19   29       19\n"
     ]
    }
   ],
   "source": [
    "data = ([1,2,3],\n",
    "        ['Alice',\"BOB\",'Charlie'],\n",
    "       [19,29,19])\n",
    "df = pd.DataFrame(data,columns=['id','Name','Age'])\n",
    "print(df)"
   ]
  },
  {
   "cell_type": "markdown",
   "id": "3c3170db",
   "metadata": {},
   "source": [
    "# 4. Creating a DataFrame from a Dictionary of Tuples"
   ]
  },
  {
   "cell_type": "code",
   "execution_count": 80,
   "id": "8546c6b9",
   "metadata": {},
   "outputs": [
    {
     "name": "stdout",
     "output_type": "stream",
     "text": [
      "   id     Name  Age\n",
      "0   1    Alice   10\n",
      "1   2      Bob   20\n",
      "2   3  Charlie   30\n"
     ]
    }
   ],
   "source": [
    "d1 = {\n",
    "    'id':(1,2,3),\n",
    "    'Name':('Alice','Bob','Charlie'),\n",
    "    'Age':(10,20,30)\n",
    "}\n",
    "df = pd.DataFrame(d1)\n",
    "print(df)\n",
    "\n",
    "# Each key in the dictionary is a column name.\n",
    "# The tuple values become column values."
   ]
  },
  {
   "cell_type": "markdown",
   "id": "7db69ddb",
   "metadata": {},
   "source": [
    "# 5.Creating a DataFrame from tuples of tuples"
   ]
  },
  {
   "cell_type": "code",
   "execution_count": 82,
   "id": "072d4c98",
   "metadata": {},
   "outputs": [
    {
     "name": "stdout",
     "output_type": "stream",
     "text": [
      "   id     Name Age\n",
      "0   1    Alice  10\n",
      "1   2      Bob  30\n",
      "2   3  Charlie  30\n"
     ]
    }
   ],
   "source": [
    "data = ((1,'Alice','10'),(2,'Bob',30),(3,'Charlie',30))\n",
    "df = pd.DataFrame(data,columns=['id','Name','Age'])\n",
    "print(df)"
   ]
  },
  {
   "cell_type": "markdown",
   "id": "3243381a",
   "metadata": {},
   "source": [
    "# ------------------------------Indexing and Slicing--------------------------------------"
   ]
  },
  {
   "cell_type": "code",
   "execution_count": 2,
   "id": "7944479d",
   "metadata": {},
   "outputs": [],
   "source": [
    "# Indexing and slicing in Pandas allow you to access, modify, and extract specific portions of data from a DataFrame. \n",
    "# Pandas provides multiple ways to index and slice a DataFrame."
   ]
  },
  {
   "cell_type": "markdown",
   "id": "21eb198c",
   "metadata": {},
   "source": [
    "# I. Accessing Data in a DataFrame"
   ]
  },
  {
   "cell_type": "code",
   "execution_count": 3,
   "id": "f81ac79c",
   "metadata": {},
   "outputs": [],
   "source": [
    "# A DataFrame consists of rows (index) and columns (column labels). You can access data using:\n",
    "\n",
    "# 1.Column labels\n",
    "# 2.Row labels or index numbers\n",
    "# 3.Boolean conditions"
   ]
  },
  {
   "cell_type": "code",
   "execution_count": 4,
   "id": "e78a3143",
   "metadata": {},
   "outputs": [],
   "source": [
    "# Accessing the data using Columns"
   ]
  },
  {
   "cell_type": "code",
   "execution_count": 7,
   "id": "40f2d928",
   "metadata": {},
   "outputs": [
    {
     "name": "stdout",
     "output_type": "stream",
     "text": [
      "         Name  Age  Salary\n",
      "row1    ALice   10      12\n",
      "row2      Bob   20      15\n",
      "row3  Charlie   30      16\n"
     ]
    }
   ],
   "source": [
    "import pandas as pd\n",
    "\n",
    "data = {\n",
    "    'Name':['ALice','Bob','Charlie'],\n",
    "    'Age':[10,20,30],\n",
    "    'Salary':[12,15,16]\n",
    "}\n",
    "df = pd.DataFrame(data,index=['row1','row2','row3'])\n",
    "print(df)"
   ]
  },
  {
   "cell_type": "code",
   "execution_count": 9,
   "id": "85188688",
   "metadata": {},
   "outputs": [
    {
     "name": "stdout",
     "output_type": "stream",
     "text": [
      "row1      ALice\n",
      "row2        Bob\n",
      "row3    Charlie\n",
      "Name: Name, dtype: object\n",
      "<class 'pandas.core.series.Series'>\n"
     ]
    }
   ],
   "source": [
    "print(df.Name)\n",
    "print(type(df.Name))\n",
    "# Here we have selected a single column it will return a single column which is a Series."
   ]
  },
  {
   "cell_type": "code",
   "execution_count": 28,
   "id": "c42ed84c",
   "metadata": {},
   "outputs": [
    {
     "name": "stdout",
     "output_type": "stream",
     "text": [
      "row1      ALice\n",
      "row2        Bob\n",
      "row3    Charlie\n",
      "Name: Name, dtype: object\n"
     ]
    }
   ],
   "source": [
    "# col1 = df.Name\n",
    "print(col1)"
   ]
  },
  {
   "cell_type": "code",
   "execution_count": 20,
   "id": "935e3515",
   "metadata": {},
   "outputs": [],
   "source": [
    "# Accessing the Multiple Columns"
   ]
  },
  {
   "cell_type": "code",
   "execution_count": 27,
   "id": "c7ed7eae",
   "metadata": {},
   "outputs": [
    {
     "data": {
      "text/html": [
       "<div>\n",
       "<style scoped>\n",
       "    .dataframe tbody tr th:only-of-type {\n",
       "        vertical-align: middle;\n",
       "    }\n",
       "\n",
       "    .dataframe tbody tr th {\n",
       "        vertical-align: top;\n",
       "    }\n",
       "\n",
       "    .dataframe thead th {\n",
       "        text-align: right;\n",
       "    }\n",
       "</style>\n",
       "<table border=\"1\" class=\"dataframe\">\n",
       "  <thead>\n",
       "    <tr style=\"text-align: right;\">\n",
       "      <th></th>\n",
       "      <th>Name</th>\n",
       "      <th>Age</th>\n",
       "    </tr>\n",
       "  </thead>\n",
       "  <tbody>\n",
       "    <tr>\n",
       "      <th>row1</th>\n",
       "      <td>ALice</td>\n",
       "      <td>10</td>\n",
       "    </tr>\n",
       "    <tr>\n",
       "      <th>row2</th>\n",
       "      <td>Bob</td>\n",
       "      <td>20</td>\n",
       "    </tr>\n",
       "    <tr>\n",
       "      <th>row3</th>\n",
       "      <td>Charlie</td>\n",
       "      <td>30</td>\n",
       "    </tr>\n",
       "  </tbody>\n",
       "</table>\n",
       "</div>"
      ],
      "text/plain": [
       "         Name  Age\n",
       "row1    ALice   10\n",
       "row2      Bob   20\n",
       "row3  Charlie   30"
      ]
     },
     "execution_count": 27,
     "metadata": {},
     "output_type": "execute_result"
    }
   ],
   "source": [
    "# Here we are Selecting multiple columns\n",
    "df[['Name','Age']]\n",
    "\n",
    "# Here, ['Name', 'Salary'] is a list of column names.\n",
    "# df[...] expects a list when selecting multiple columns.\n",
    "# The double brackets [[...]] indicate that we are passing a list to select multiple columns.\n",
    "# The result is a DataFrame, not a Series."
   ]
  },
  {
   "cell_type": "code",
   "execution_count": null,
   "id": "099454f3",
   "metadata": {},
   "outputs": [],
   "source": []
  },
  {
   "cell_type": "markdown",
   "id": "4eb2c99b",
   "metadata": {},
   "source": [
    "# II.Indexing Using .loc[] (Label-based Indexing)"
   ]
  },
  {
   "cell_type": "code",
   "execution_count": 30,
   "id": "2678f117",
   "metadata": {},
   "outputs": [],
   "source": [
    "# .loc[] is label-based indexing, meaning you use row labels and column labels to access data.\n",
    "# In method start and stop are included."
   ]
  },
  {
   "cell_type": "markdown",
   "id": "2e69143c",
   "metadata": {},
   "source": [
    "# Selecting a Single Row by Label"
   ]
  },
  {
   "cell_type": "code",
   "execution_count": 31,
   "id": "5f5ffb9f",
   "metadata": {},
   "outputs": [
    {
     "name": "stdout",
     "output_type": "stream",
     "text": [
      "         Name  Age  Salary\n",
      "row1    ALice   10      12\n",
      "row2      Bob   20      15\n",
      "row3  Charlie   30      16\n"
     ]
    }
   ],
   "source": [
    "data = {\n",
    "    'Name':['ALice','Bob','Charlie'],\n",
    "    'Age':[10,20,30],\n",
    "    'Salary':[12,15,16]\n",
    "}\n",
    "df = pd.DataFrame(data,index=['row1','row2','row3'])\n",
    "print(df)"
   ]
  },
  {
   "cell_type": "code",
   "execution_count": 39,
   "id": "494205e5",
   "metadata": {},
   "outputs": [
    {
     "name": "stdout",
     "output_type": "stream",
     "text": [
      "Name      ALice\n",
      "Age          10\n",
      "Salary       12\n",
      "Name: row1, dtype: object\n",
      "<class 'pandas.core.series.Series'>\n"
     ]
    }
   ],
   "source": [
    "# The return type is a Series.\n",
    "# Here the columns name becomes indexes When extracting a single column from the dataframe.\n",
    "print(df.loc['row1'])\n",
    "print(type(df.loc['row1']))"
   ]
  },
  {
   "cell_type": "markdown",
   "id": "a6b84dce",
   "metadata": {},
   "source": [
    "# Selecting Multiple Rows"
   ]
  },
  {
   "cell_type": "code",
   "execution_count": 41,
   "id": "fefdc522",
   "metadata": {},
   "outputs": [
    {
     "data": {
      "text/html": [
       "<div>\n",
       "<style scoped>\n",
       "    .dataframe tbody tr th:only-of-type {\n",
       "        vertical-align: middle;\n",
       "    }\n",
       "\n",
       "    .dataframe tbody tr th {\n",
       "        vertical-align: top;\n",
       "    }\n",
       "\n",
       "    .dataframe thead th {\n",
       "        text-align: right;\n",
       "    }\n",
       "</style>\n",
       "<table border=\"1\" class=\"dataframe\">\n",
       "  <thead>\n",
       "    <tr style=\"text-align: right;\">\n",
       "      <th></th>\n",
       "      <th>Name</th>\n",
       "      <th>Age</th>\n",
       "      <th>Salary</th>\n",
       "    </tr>\n",
       "  </thead>\n",
       "  <tbody>\n",
       "    <tr>\n",
       "      <th>row1</th>\n",
       "      <td>ALice</td>\n",
       "      <td>10</td>\n",
       "      <td>12</td>\n",
       "    </tr>\n",
       "    <tr>\n",
       "      <th>row2</th>\n",
       "      <td>Bob</td>\n",
       "      <td>20</td>\n",
       "      <td>15</td>\n",
       "    </tr>\n",
       "  </tbody>\n",
       "</table>\n",
       "</div>"
      ],
      "text/plain": [
       "       Name  Age  Salary\n",
       "row1  ALice   10      12\n",
       "row2    Bob   20      15"
      ]
     },
     "execution_count": 41,
     "metadata": {},
     "output_type": "execute_result"
    }
   ],
   "source": [
    "# Accessing the multiple rows using row labels\n",
    "df.loc[['row1','row2']]"
   ]
  },
  {
   "cell_type": "markdown",
   "id": "7fdb2523",
   "metadata": {},
   "source": [
    "# Selecting Specific Rows and Columns"
   ]
  },
  {
   "cell_type": "code",
   "execution_count": 47,
   "id": "d9993e7c",
   "metadata": {},
   "outputs": [
    {
     "name": "stdout",
     "output_type": "stream",
     "text": [
      "ALice\n"
     ]
    }
   ],
   "source": [
    "# Here the first parameter must be row label and second one is column label.\n",
    "print(df.loc['row1','Name'])"
   ]
  },
  {
   "cell_type": "code",
   "execution_count": 51,
   "id": "768a5f66",
   "metadata": {},
   "outputs": [
    {
     "name": "stdout",
     "output_type": "stream",
     "text": [
      "         Name  Age\n",
      "row1    ALice   10\n",
      "row2      Bob   20\n",
      "row3  Charlie   30\n",
      "<class 'pandas.core.frame.DataFrame'>\n"
     ]
    }
   ],
   "source": [
    "# Here we have slicing the rows and extracting the data of specify columns.\n",
    "print(df.loc['row1':'row3',['Name','Age']])\n",
    "print(type(df.loc['row1':'row3',['Name','Age']]))"
   ]
  },
  {
   "cell_type": "markdown",
   "id": "715b73fb",
   "metadata": {},
   "source": [
    "# III.Indexing Using .iloc[] (Integer-based Indexing)"
   ]
  },
  {
   "cell_type": "code",
   "execution_count": 116,
   "id": "5fa6ecbc",
   "metadata": {},
   "outputs": [],
   "source": [
    "# .iloc[] is position-based indexing, meaning you use integer indices to access data.\n",
    "# It works on row slicing and extraction."
   ]
  },
  {
   "cell_type": "markdown",
   "id": "2fd33b8f",
   "metadata": {},
   "source": [
    "# Selecting a Single Row"
   ]
  },
  {
   "cell_type": "code",
   "execution_count": 53,
   "id": "75bc6d0a",
   "metadata": {},
   "outputs": [
    {
     "name": "stdout",
     "output_type": "stream",
     "text": [
      "      Name  Age  Salary\n",
      "0    ALice   10      12\n",
      "1      Bob   20      15\n",
      "2  Charlie   30      16\n"
     ]
    }
   ],
   "source": [
    "data = {\n",
    "    'Name':['ALice','Bob','Charlie'],\n",
    "    'Age':[10,20,30],\n",
    "    'Salary':[12,15,16]\n",
    "}\n",
    "df = pd.DataFrame(data)\n",
    "print(df)"
   ]
  },
  {
   "cell_type": "code",
   "execution_count": 55,
   "id": "ba4575f5",
   "metadata": {},
   "outputs": [
    {
     "name": "stdout",
     "output_type": "stream",
     "text": [
      "Name      ALice\n",
      "Age          10\n",
      "Salary       12\n",
      "Name: 0, dtype: object\n"
     ]
    }
   ],
   "source": [
    "# Here it return the Series.\n",
    "print(df.iloc[0])"
   ]
  },
  {
   "cell_type": "markdown",
   "id": "f7921b4f",
   "metadata": {},
   "source": [
    "# Selecting Multiple Rows\n",
    "\n"
   ]
  },
  {
   "cell_type": "code",
   "execution_count": 68,
   "id": "16ce8d86",
   "metadata": {},
   "outputs": [
    {
     "name": "stdout",
     "output_type": "stream",
     "text": [
      "    Name  Age  Salary\n",
      "0  ALice   10      12\n",
      "1    Bob   20      15\n"
     ]
    }
   ],
   "source": [
    "# Here the start is included and stop is excluded\n",
    "print(df.iloc[0:2])"
   ]
  },
  {
   "cell_type": "markdown",
   "id": "cd844582",
   "metadata": {},
   "source": [
    "# Selecting Specific Rows and Columns"
   ]
  },
  {
   "cell_type": "code",
   "execution_count": 69,
   "id": "d1c73ae9",
   "metadata": {},
   "outputs": [
    {
     "name": "stdout",
     "output_type": "stream",
     "text": [
      "      Name  Age  Salary\n",
      "0    ALice   10      12\n",
      "1      Bob   20      15\n",
      "2  Charlie   30      16\n"
     ]
    }
   ],
   "source": [
    "# If we pass the index greather than the index of the rows then bydefault the stop is replace with last index row of the dataframe.\n",
    "print(df.iloc[0:10])"
   ]
  },
  {
   "cell_type": "code",
   "execution_count": 74,
   "id": "1f86c210",
   "metadata": {},
   "outputs": [
    {
     "name": "stdout",
     "output_type": "stream",
     "text": [
      "      Name\n",
      "0    ALice\n",
      "1      Bob\n",
      "2  Charlie\n"
     ]
    }
   ],
   "source": [
    "# Here the columns are index from 0 to upto to end....\n",
    "print(df.iloc[0:3,0:1])"
   ]
  },
  {
   "cell_type": "markdown",
   "id": "fcbf9e07",
   "metadata": {},
   "source": [
    "# IV.Conditional Indexing (Boolean Masking)"
   ]
  },
  {
   "cell_type": "code",
   "execution_count": 82,
   "id": "c5c0ab2b",
   "metadata": {},
   "outputs": [],
   "source": [
    "# You can filter rows using Boolean conditions.\n",
    "# It works on row selection."
   ]
  },
  {
   "cell_type": "markdown",
   "id": "9892f467",
   "metadata": {},
   "source": [
    "# Selecting Rows Based on a Condition"
   ]
  },
  {
   "cell_type": "code",
   "execution_count": 75,
   "id": "c237a317",
   "metadata": {},
   "outputs": [
    {
     "name": "stdout",
     "output_type": "stream",
     "text": [
      "      Name  Age  Salary\n",
      "0    ALice   10      12\n",
      "1      Bob   20      15\n",
      "2  Charlie   30      16\n"
     ]
    }
   ],
   "source": [
    "data = {\n",
    "    'Name':['ALice','Bob','Charlie'],\n",
    "    'Age':[10,20,30],\n",
    "    'Salary':[12,15,16]\n",
    "}\n",
    "df = pd.DataFrame(data)\n",
    "print(df)"
   ]
  },
  {
   "cell_type": "code",
   "execution_count": 80,
   "id": "baaef9c8",
   "metadata": {},
   "outputs": [
    {
     "data": {
      "text/plain": [
       "0    True\n",
       "1    True\n",
       "2    True\n",
       "Name: Age, dtype: bool"
      ]
     },
     "execution_count": 80,
     "metadata": {},
     "output_type": "execute_result"
    }
   ],
   "source": [
    "# Here we will get the Series with boolean values.\n",
    "# It compare each value of Age column with 5\n",
    "# It return true if the condition is met.\n",
    "df.Age>5"
   ]
  },
  {
   "cell_type": "code",
   "execution_count": 81,
   "id": "8b7d3766",
   "metadata": {},
   "outputs": [
    {
     "data": {
      "text/html": [
       "<div>\n",
       "<style scoped>\n",
       "    .dataframe tbody tr th:only-of-type {\n",
       "        vertical-align: middle;\n",
       "    }\n",
       "\n",
       "    .dataframe tbody tr th {\n",
       "        vertical-align: top;\n",
       "    }\n",
       "\n",
       "    .dataframe thead th {\n",
       "        text-align: right;\n",
       "    }\n",
       "</style>\n",
       "<table border=\"1\" class=\"dataframe\">\n",
       "  <thead>\n",
       "    <tr style=\"text-align: right;\">\n",
       "      <th></th>\n",
       "      <th>Name</th>\n",
       "      <th>Age</th>\n",
       "      <th>Salary</th>\n",
       "    </tr>\n",
       "  </thead>\n",
       "  <tbody>\n",
       "    <tr>\n",
       "      <th>0</th>\n",
       "      <td>ALice</td>\n",
       "      <td>10</td>\n",
       "      <td>12</td>\n",
       "    </tr>\n",
       "    <tr>\n",
       "      <th>1</th>\n",
       "      <td>Bob</td>\n",
       "      <td>20</td>\n",
       "      <td>15</td>\n",
       "    </tr>\n",
       "    <tr>\n",
       "      <th>2</th>\n",
       "      <td>Charlie</td>\n",
       "      <td>30</td>\n",
       "      <td>16</td>\n",
       "    </tr>\n",
       "  </tbody>\n",
       "</table>\n",
       "</div>"
      ],
      "text/plain": [
       "      Name  Age  Salary\n",
       "0    ALice   10      12\n",
       "1      Bob   20      15\n",
       "2  Charlie   30      16"
      ]
     },
     "execution_count": 81,
     "metadata": {},
     "output_type": "execute_result"
    }
   ],
   "source": [
    "# Now, we pass this Boolean Series inside df[]:\n",
    "df[df.Age>5]\n",
    "# Pandas keeps only the rows where the Boolean Series is True.\n",
    "# It returns the entire row, not just the \"Age\" column.\n",
    "\n",
    "# Why Does This Work?\n",
    "# df[boolean_series] performs row-wise selection.\n",
    "# The Boolean Series acts as a mask, selecting rows where True."
   ]
  },
  {
   "cell_type": "markdown",
   "id": "fb8cbd44",
   "metadata": {},
   "source": [
    "# Selecting Rows with Multiple Conditions"
   ]
  },
  {
   "cell_type": "code",
   "execution_count": 90,
   "id": "b2ae42e6",
   "metadata": {},
   "outputs": [],
   "source": [
    "# df['Age']>5 & df['Salary']>5\n",
    "# The error occurs because of the incorrect use of the bitwise AND (&) operator in the expression:\n",
    "# This is incorrect because 5 & df['Salary'] is not a valid operation."
   ]
  },
  {
   "cell_type": "code",
   "execution_count": 96,
   "id": "de1af9bf",
   "metadata": {},
   "outputs": [
    {
     "name": "stdout",
     "output_type": "stream",
     "text": [
      "<class 'pandas.core.series.Series'>\n"
     ]
    }
   ],
   "source": [
    "# The expression (df['Age'] > 5) & (df['Salary'] > 5) returns a Boolean Series,\n",
    "# where each value is True if both conditions are met for that row, and False otherwise.\n",
    "(df['Age']>5) & (df['Salary']>5)\n",
    "print(type((df['Age']>5) & (df['Salary']>5)))"
   ]
  },
  {
   "cell_type": "code",
   "execution_count": 98,
   "id": "017dbd94",
   "metadata": {},
   "outputs": [
    {
     "data": {
      "text/html": [
       "<div>\n",
       "<style scoped>\n",
       "    .dataframe tbody tr th:only-of-type {\n",
       "        vertical-align: middle;\n",
       "    }\n",
       "\n",
       "    .dataframe tbody tr th {\n",
       "        vertical-align: top;\n",
       "    }\n",
       "\n",
       "    .dataframe thead th {\n",
       "        text-align: right;\n",
       "    }\n",
       "</style>\n",
       "<table border=\"1\" class=\"dataframe\">\n",
       "  <thead>\n",
       "    <tr style=\"text-align: right;\">\n",
       "      <th></th>\n",
       "      <th>Name</th>\n",
       "      <th>Age</th>\n",
       "      <th>Salary</th>\n",
       "    </tr>\n",
       "  </thead>\n",
       "  <tbody>\n",
       "    <tr>\n",
       "      <th>0</th>\n",
       "      <td>ALice</td>\n",
       "      <td>10</td>\n",
       "      <td>12</td>\n",
       "    </tr>\n",
       "    <tr>\n",
       "      <th>1</th>\n",
       "      <td>Bob</td>\n",
       "      <td>20</td>\n",
       "      <td>15</td>\n",
       "    </tr>\n",
       "    <tr>\n",
       "      <th>2</th>\n",
       "      <td>Charlie</td>\n",
       "      <td>30</td>\n",
       "      <td>16</td>\n",
       "    </tr>\n",
       "  </tbody>\n",
       "</table>\n",
       "</div>"
      ],
      "text/plain": [
       "      Name  Age  Salary\n",
       "0    ALice   10      12\n",
       "1      Bob   20      15\n",
       "2  Charlie   30      16"
      ]
     },
     "execution_count": 98,
     "metadata": {},
     "output_type": "execute_result"
    }
   ],
   "source": [
    "# Here we will get dataframe which satisfy the below two conditions.\n",
    "df[(df['Age']>5) & (df['Salary']>5)]"
   ]
  },
  {
   "cell_type": "markdown",
   "id": "ac54b2e9",
   "metadata": {},
   "source": [
    "# V. Slicing Rows Using : Operator"
   ]
  },
  {
   "cell_type": "code",
   "execution_count": 99,
   "id": "bc44aa53",
   "metadata": {},
   "outputs": [],
   "source": [
    "# Just like lists, Pandas allows row slicing using :"
   ]
  },
  {
   "cell_type": "markdown",
   "id": "3816b22d",
   "metadata": {},
   "source": [
    "# Selecting Rows"
   ]
  },
  {
   "cell_type": "code",
   "execution_count": 101,
   "id": "3cf3bdfa",
   "metadata": {},
   "outputs": [
    {
     "name": "stdout",
     "output_type": "stream",
     "text": [
      "      Name  Age  Salary\n",
      "0    ALice   10      12\n",
      "1      Bob   20      15\n",
      "2  Charlie   30      16\n"
     ]
    }
   ],
   "source": [
    "data = {\n",
    "    'Name':['ALice','Bob','Charlie'],\n",
    "    'Age':[10,20,30],\n",
    "    'Salary':[12,15,16]\n",
    "}\n",
    "df = pd.DataFrame(data)\n",
    "print(df)"
   ]
  },
  {
   "cell_type": "code",
   "execution_count": 104,
   "id": "64596211",
   "metadata": {},
   "outputs": [
    {
     "data": {
      "text/html": [
       "<div>\n",
       "<style scoped>\n",
       "    .dataframe tbody tr th:only-of-type {\n",
       "        vertical-align: middle;\n",
       "    }\n",
       "\n",
       "    .dataframe tbody tr th {\n",
       "        vertical-align: top;\n",
       "    }\n",
       "\n",
       "    .dataframe thead th {\n",
       "        text-align: right;\n",
       "    }\n",
       "</style>\n",
       "<table border=\"1\" class=\"dataframe\">\n",
       "  <thead>\n",
       "    <tr style=\"text-align: right;\">\n",
       "      <th></th>\n",
       "      <th>Name</th>\n",
       "      <th>Age</th>\n",
       "      <th>Salary</th>\n",
       "    </tr>\n",
       "  </thead>\n",
       "  <tbody>\n",
       "    <tr>\n",
       "      <th>0</th>\n",
       "      <td>ALice</td>\n",
       "      <td>10</td>\n",
       "      <td>12</td>\n",
       "    </tr>\n",
       "    <tr>\n",
       "      <th>1</th>\n",
       "      <td>Bob</td>\n",
       "      <td>20</td>\n",
       "      <td>15</td>\n",
       "    </tr>\n",
       "    <tr>\n",
       "      <th>2</th>\n",
       "      <td>Charlie</td>\n",
       "      <td>30</td>\n",
       "      <td>16</td>\n",
       "    </tr>\n",
       "  </tbody>\n",
       "</table>\n",
       "</div>"
      ],
      "text/plain": [
       "      Name  Age  Salary\n",
       "0    ALice   10      12\n",
       "1      Bob   20      15\n",
       "2  Charlie   30      16"
      ]
     },
     "execution_count": 104,
     "metadata": {},
     "output_type": "execute_result"
    }
   ],
   "source": [
    "# Here it will return all the data. \n",
    "df[0:]"
   ]
  },
  {
   "cell_type": "code",
   "execution_count": 106,
   "id": "389e1cd0",
   "metadata": {},
   "outputs": [
    {
     "data": {
      "text/html": [
       "<div>\n",
       "<style scoped>\n",
       "    .dataframe tbody tr th:only-of-type {\n",
       "        vertical-align: middle;\n",
       "    }\n",
       "\n",
       "    .dataframe tbody tr th {\n",
       "        vertical-align: top;\n",
       "    }\n",
       "\n",
       "    .dataframe thead th {\n",
       "        text-align: right;\n",
       "    }\n",
       "</style>\n",
       "<table border=\"1\" class=\"dataframe\">\n",
       "  <thead>\n",
       "    <tr style=\"text-align: right;\">\n",
       "      <th></th>\n",
       "      <th>Name</th>\n",
       "      <th>Age</th>\n",
       "      <th>Salary</th>\n",
       "    </tr>\n",
       "  </thead>\n",
       "  <tbody>\n",
       "    <tr>\n",
       "      <th>0</th>\n",
       "      <td>ALice</td>\n",
       "      <td>10</td>\n",
       "      <td>12</td>\n",
       "    </tr>\n",
       "    <tr>\n",
       "      <th>1</th>\n",
       "      <td>Bob</td>\n",
       "      <td>20</td>\n",
       "      <td>15</td>\n",
       "    </tr>\n",
       "    <tr>\n",
       "      <th>2</th>\n",
       "      <td>Charlie</td>\n",
       "      <td>30</td>\n",
       "      <td>16</td>\n",
       "    </tr>\n",
       "  </tbody>\n",
       "</table>\n",
       "</div>"
      ],
      "text/plain": [
       "      Name  Age  Salary\n",
       "0    ALice   10      12\n",
       "1      Bob   20      15\n",
       "2  Charlie   30      16"
      ]
     },
     "execution_count": 106,
     "metadata": {},
     "output_type": "execute_result"
    }
   ],
   "source": [
    "df[:10]"
   ]
  },
  {
   "cell_type": "code",
   "execution_count": 108,
   "id": "2e647704",
   "metadata": {},
   "outputs": [
    {
     "data": {
      "text/html": [
       "<div>\n",
       "<style scoped>\n",
       "    .dataframe tbody tr th:only-of-type {\n",
       "        vertical-align: middle;\n",
       "    }\n",
       "\n",
       "    .dataframe tbody tr th {\n",
       "        vertical-align: top;\n",
       "    }\n",
       "\n",
       "    .dataframe thead th {\n",
       "        text-align: right;\n",
       "    }\n",
       "</style>\n",
       "<table border=\"1\" class=\"dataframe\">\n",
       "  <thead>\n",
       "    <tr style=\"text-align: right;\">\n",
       "      <th></th>\n",
       "      <th>Name</th>\n",
       "      <th>Age</th>\n",
       "      <th>Salary</th>\n",
       "    </tr>\n",
       "  </thead>\n",
       "  <tbody>\n",
       "    <tr>\n",
       "      <th>0</th>\n",
       "      <td>ALice</td>\n",
       "      <td>10</td>\n",
       "      <td>12</td>\n",
       "    </tr>\n",
       "  </tbody>\n",
       "</table>\n",
       "</div>"
      ],
      "text/plain": [
       "    Name  Age  Salary\n",
       "0  ALice   10      12"
      ]
     },
     "execution_count": 108,
     "metadata": {},
     "output_type": "execute_result"
    }
   ],
   "source": [
    "# Stop is an exclusive one.\n",
    "df[0:1]"
   ]
  },
  {
   "cell_type": "code",
   "execution_count": 109,
   "id": "69208a87",
   "metadata": {},
   "outputs": [
    {
     "name": "stdout",
     "output_type": "stream",
     "text": [
      "      Name  Age  Salary\n",
      "a    ALice   10      12\n",
      "b      Bob   20      15\n",
      "c  Charlie   30      16\n"
     ]
    }
   ],
   "source": [
    "df.index = ['a','b','c']\n",
    "print(df)"
   ]
  },
  {
   "cell_type": "code",
   "execution_count": 110,
   "id": "cea762f8",
   "metadata": {},
   "outputs": [
    {
     "data": {
      "text/html": [
       "<div>\n",
       "<style scoped>\n",
       "    .dataframe tbody tr th:only-of-type {\n",
       "        vertical-align: middle;\n",
       "    }\n",
       "\n",
       "    .dataframe tbody tr th {\n",
       "        vertical-align: top;\n",
       "    }\n",
       "\n",
       "    .dataframe thead th {\n",
       "        text-align: right;\n",
       "    }\n",
       "</style>\n",
       "<table border=\"1\" class=\"dataframe\">\n",
       "  <thead>\n",
       "    <tr style=\"text-align: right;\">\n",
       "      <th></th>\n",
       "      <th>Name</th>\n",
       "      <th>Age</th>\n",
       "      <th>Salary</th>\n",
       "    </tr>\n",
       "  </thead>\n",
       "  <tbody>\n",
       "    <tr>\n",
       "      <th>a</th>\n",
       "      <td>ALice</td>\n",
       "      <td>10</td>\n",
       "      <td>12</td>\n",
       "    </tr>\n",
       "    <tr>\n",
       "      <th>b</th>\n",
       "      <td>Bob</td>\n",
       "      <td>20</td>\n",
       "      <td>15</td>\n",
       "    </tr>\n",
       "    <tr>\n",
       "      <th>c</th>\n",
       "      <td>Charlie</td>\n",
       "      <td>30</td>\n",
       "      <td>16</td>\n",
       "    </tr>\n",
       "  </tbody>\n",
       "</table>\n",
       "</div>"
      ],
      "text/plain": [
       "      Name  Age  Salary\n",
       "a    ALice   10      12\n",
       "b      Bob   20      15\n",
       "c  Charlie   30      16"
      ]
     },
     "execution_count": 110,
     "metadata": {},
     "output_type": "execute_result"
    }
   ],
   "source": [
    "df['a':]"
   ]
  },
  {
   "cell_type": "code",
   "execution_count": 111,
   "id": "6eeffa08",
   "metadata": {},
   "outputs": [
    {
     "data": {
      "text/html": [
       "<div>\n",
       "<style scoped>\n",
       "    .dataframe tbody tr th:only-of-type {\n",
       "        vertical-align: middle;\n",
       "    }\n",
       "\n",
       "    .dataframe tbody tr th {\n",
       "        vertical-align: top;\n",
       "    }\n",
       "\n",
       "    .dataframe thead th {\n",
       "        text-align: right;\n",
       "    }\n",
       "</style>\n",
       "<table border=\"1\" class=\"dataframe\">\n",
       "  <thead>\n",
       "    <tr style=\"text-align: right;\">\n",
       "      <th></th>\n",
       "      <th>Name</th>\n",
       "      <th>Age</th>\n",
       "      <th>Salary</th>\n",
       "    </tr>\n",
       "  </thead>\n",
       "  <tbody>\n",
       "    <tr>\n",
       "      <th>b</th>\n",
       "      <td>Bob</td>\n",
       "      <td>20</td>\n",
       "      <td>15</td>\n",
       "    </tr>\n",
       "    <tr>\n",
       "      <th>c</th>\n",
       "      <td>Charlie</td>\n",
       "      <td>30</td>\n",
       "      <td>16</td>\n",
       "    </tr>\n",
       "  </tbody>\n",
       "</table>\n",
       "</div>"
      ],
      "text/plain": [
       "      Name  Age  Salary\n",
       "b      Bob   20      15\n",
       "c  Charlie   30      16"
      ]
     },
     "execution_count": 111,
     "metadata": {},
     "output_type": "execute_result"
    }
   ],
   "source": [
    "df['b':]"
   ]
  },
  {
   "cell_type": "code",
   "execution_count": 114,
   "id": "d6ffef53",
   "metadata": {},
   "outputs": [
    {
     "data": {
      "text/html": [
       "<div>\n",
       "<style scoped>\n",
       "    .dataframe tbody tr th:only-of-type {\n",
       "        vertical-align: middle;\n",
       "    }\n",
       "\n",
       "    .dataframe tbody tr th {\n",
       "        vertical-align: top;\n",
       "    }\n",
       "\n",
       "    .dataframe thead th {\n",
       "        text-align: right;\n",
       "    }\n",
       "</style>\n",
       "<table border=\"1\" class=\"dataframe\">\n",
       "  <thead>\n",
       "    <tr style=\"text-align: right;\">\n",
       "      <th></th>\n",
       "      <th>Name</th>\n",
       "      <th>Age</th>\n",
       "      <th>Salary</th>\n",
       "    </tr>\n",
       "  </thead>\n",
       "  <tbody>\n",
       "  </tbody>\n",
       "</table>\n",
       "</div>"
      ],
      "text/plain": [
       "Empty DataFrame\n",
       "Columns: [Name, Age, Salary]\n",
       "Index: []"
      ]
     },
     "execution_count": 114,
     "metadata": {},
     "output_type": "execute_result"
    }
   ],
   "source": [
    "df['Name':'Salary']\n",
    "# The expression df['Name':'Salary'] returns an empty DataFrame because label-based slicing on columns does not work this way in pandas.\n",
    "\n",
    "# Understanding the Issue\n",
    "# In pandas, when slicing using labels (like 'Name':'Salary'), it works only for row labels (index), not column labels.\n",
    "\n",
    "# Incorrect Usage:\n",
    "# df['Name':'Salary']  # Does NOT work for selecting columns\n",
    "# This will return an empty DataFrame because pandas treats 'Name':'Salary' as an attempt to slice row index labels, but \"Name\" and \"Salary\" are column names, not row labels."
   ]
  },
  {
   "cell_type": "code",
   "execution_count": 115,
   "id": "2f11c8ac",
   "metadata": {},
   "outputs": [
    {
     "data": {
      "text/html": [
       "<div>\n",
       "<style scoped>\n",
       "    .dataframe tbody tr th:only-of-type {\n",
       "        vertical-align: middle;\n",
       "    }\n",
       "\n",
       "    .dataframe tbody tr th {\n",
       "        vertical-align: top;\n",
       "    }\n",
       "\n",
       "    .dataframe thead th {\n",
       "        text-align: right;\n",
       "    }\n",
       "</style>\n",
       "<table border=\"1\" class=\"dataframe\">\n",
       "  <thead>\n",
       "    <tr style=\"text-align: right;\">\n",
       "      <th></th>\n",
       "      <th>Name</th>\n",
       "      <th>Age</th>\n",
       "      <th>Salary</th>\n",
       "    </tr>\n",
       "  </thead>\n",
       "  <tbody>\n",
       "  </tbody>\n",
       "</table>\n",
       "</div>"
      ],
      "text/plain": [
       "Empty DataFrame\n",
       "Columns: [Name, Age, Salary]\n",
       "Index: []"
      ]
     },
     "execution_count": 115,
     "metadata": {},
     "output_type": "execute_result"
    }
   ],
   "source": [
    "df['Name':'Salary']\n",
    "# When using a range (:), pandas interprets it as row slicing, NOT column slicing.\n",
    "# Pandas tries to find rows with labels 'Name' to 'Salary'.\n",
    "# Since the index (row labels) don't contain 'Name' or 'Salary', it returns an empty DataFrame."
   ]
  },
  {
   "cell_type": "code",
   "execution_count": null,
   "id": "ead05880",
   "metadata": {},
   "outputs": [],
   "source": []
  },
  {
   "cell_type": "code",
   "execution_count": null,
   "id": "9d0572c4",
   "metadata": {},
   "outputs": [],
   "source": []
  }
 ],
 "metadata": {
  "kernelspec": {
   "display_name": "Python 3 (ipykernel)",
   "language": "python",
   "name": "python3"
  },
  "language_info": {
   "codemirror_mode": {
    "name": "ipython",
    "version": 3
   },
   "file_extension": ".py",
   "mimetype": "text/x-python",
   "name": "python",
   "nbconvert_exporter": "python",
   "pygments_lexer": "ipython3",
   "version": "3.11.5"
  }
 },
 "nbformat": 4,
 "nbformat_minor": 5
}
