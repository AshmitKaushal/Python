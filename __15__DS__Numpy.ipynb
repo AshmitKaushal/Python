{
 "cells": [
  {
   "cell_type": "markdown",
   "id": "d6564980",
   "metadata": {},
   "source": [
    "# Numpy"
   ]
  },
  {
   "cell_type": "code",
   "execution_count": 7,
   "id": "13e577d2",
   "metadata": {},
   "outputs": [],
   "source": [
    "# NumPy is a Python library used for working with arrays.\n",
    "# It also has functions for working in domain of linear algebra, fourier transform, and matrices.\n",
    "# NumPy was created in 2005 by Travis Oliphant. It is an open source project and you can use it freely.\n",
    "# NumPy stands for Numerical Python."
   ]
  },
  {
   "cell_type": "code",
   "execution_count": 8,
   "id": "ca996d01",
   "metadata": {},
   "outputs": [],
   "source": [
    "# NumPy (Numerical Python) is a popular Python library used for numerical computing. \n",
    "# It provides support for multi-dimensional arrays and mathematical operations, \n",
    "# making it much faster and more efficient than Python's built-in lists."
   ]
  },
  {
   "cell_type": "markdown",
   "id": "d74afcd7",
   "metadata": {},
   "source": [
    "# Why Use NumPy?"
   ]
  },
  {
   "cell_type": "code",
   "execution_count": 9,
   "id": "adc465d6",
   "metadata": {},
   "outputs": [],
   "source": [
    "# In Python we have lists that serve the purpose of arrays, but they are slow to process.\n",
    "# NumPy aims to provide an array object that is up to 50x faster than traditional Python lists.\n",
    "# The array object in NumPy is called ndarray, it provides a lot of supporting functions that make working with ndarray very easy.\n",
    "# Arrays are very frequently used in data science, where speed and resources are very important."
   ]
  },
  {
   "cell_type": "code",
   "execution_count": null,
   "id": "8adf8ce8",
   "metadata": {},
   "outputs": [],
   "source": [
    "# Faster Computation – NumPy is much faster than Python lists due to vectorization and optimized C-based implementation.\n",
    "# Efficient Memory Usage – NumPy arrays take up less memory compared to Python lists.\n",
    "# Convenient Array Operations – Built-in functions for mathematical, statistical, and linear algebra operations.\n",
    "# Multi-dimensional Support – NumPy supports 1D, 2D, and n-dimensional arrays (ndarrays).\n",
    "# Used in Data Science & ML – It is the foundation for libraries like Pandas, SciPy, TensorFlow, and Scikit-learn."
   ]
  },
  {
   "cell_type": "code",
   "execution_count": null,
   "id": "4470763c",
   "metadata": {},
   "outputs": [],
   "source": [
    "# 1️⃣ Efficiency (Speed & Performance)\n",
    "# Python’s built-in lists are not optimized for numerical computations because they store elements as individual objects.\n",
    "# NumPy arrays store data in a contiguous memory block, making operations much faster compared to lists.\n",
    "\n",
    "# 2️⃣ Convenient Mathematical Operations\n",
    "# Unlike Python lists, NumPy arrays support vectorized operations, meaning we can perform operations on entire arrays without using loops.\n",
    "# It supports various mathematical functions like addition, subtraction, multiplication, mean, standard deviation, etc.\n",
    "\n",
    "# 3️⃣ Memory Optimization\n",
    "# NumPy arrays require less memory than Python lists because they store elements of the same type in a contiguous memory space.\n",
    "\n",
    "# 4️⃣ Multidimensional Support\n",
    "# While Python lists are one-dimensional by default, NumPy provides support for multi-dimensional arrays (e.g., 2D matrices, 3D tensors).\n",
    "\n",
    "# 5️⃣ Integration with Other Libraries\n",
    "# NumPy is the foundation for many popular data science and machine learning libraries, such as Pandas, SciPy, Matplotlib, TensorFlow, and Scikit-learn."
   ]
  },
  {
   "cell_type": "markdown",
   "id": "6fb101a9",
   "metadata": {},
   "source": [
    "# Why is NumPy Faster Than Lists?"
   ]
  },
  {
   "cell_type": "code",
   "execution_count": 10,
   "id": "e0063975",
   "metadata": {},
   "outputs": [],
   "source": [
    "# NumPy arrays are stored at one continuous place in memory unlike lists, so processes can access and manipulate them very efficiently.\n",
    "# This behavior is called locality of reference in computer science.\n",
    "# This is the main reason why NumPy is faster than lists. Also it is optimized to work with latest CPU architectures."
   ]
  },
  {
   "cell_type": "markdown",
   "id": "b1a9ad88",
   "metadata": {},
   "source": [
    "# Installing Numpy"
   ]
  },
  {
   "cell_type": "code",
   "execution_count": 11,
   "id": "12bf4ef7",
   "metadata": {},
   "outputs": [
    {
     "name": "stdout",
     "output_type": "stream",
     "text": [
      "Requirement already satisfied: numpy in s:\\anaconda\\lib\\site-packages (1.24.3)\n"
     ]
    }
   ],
   "source": [
    "!pip install numpy "
   ]
  },
  {
   "cell_type": "code",
   "execution_count": 14,
   "id": "a3d9a5fb",
   "metadata": {},
   "outputs": [
    {
     "name": "stdout",
     "output_type": "stream",
     "text": [
      "1.24.3\n"
     ]
    }
   ],
   "source": [
    "# checking the version of the nump\n",
    "import numpy as np\n",
    "print(np.__version__)"
   ]
  },
  {
   "cell_type": "markdown",
   "id": "6974a4ff",
   "metadata": {},
   "source": [
    "# Creating Numpy Object"
   ]
  },
  {
   "cell_type": "code",
   "execution_count": 2,
   "id": "c5caab47",
   "metadata": {},
   "outputs": [],
   "source": [
    "# NumPy is used to work with arrays. The array object in NumPy is called ndarray.\n",
    "# We can create a NumPy ndarray object by using the array() function."
   ]
  },
  {
   "cell_type": "code",
   "execution_count": 3,
   "id": "fcc8a9d2",
   "metadata": {},
   "outputs": [],
   "source": [
    "import numpy as np"
   ]
  },
  {
   "cell_type": "code",
   "execution_count": 4,
   "id": "6230d645",
   "metadata": {},
   "outputs": [
    {
     "name": "stdout",
     "output_type": "stream",
     "text": [
      "[1 2 3 4]\n",
      "<class 'numpy.ndarray'>\n"
     ]
    }
   ],
   "source": [
    "arr = np.array([1,2,3,4])\n",
    "print(arr)\n",
    "print(type(arr))"
   ]
  },
  {
   "cell_type": "markdown",
   "id": "ef6607b7",
   "metadata": {},
   "source": [
    "# array method in numpy"
   ]
  },
  {
   "cell_type": "code",
   "execution_count": 5,
   "id": "1940000f",
   "metadata": {},
   "outputs": [],
   "source": [
    "# The numpy.array() method is used to create a NumPy array from lists, tuples, or other array-like structures."
   ]
  },
  {
   "cell_type": "code",
   "execution_count": 6,
   "id": "96696921",
   "metadata": {},
   "outputs": [],
   "source": [
    "# Syntax\n",
    "# numpy.array(object, dtype=None, copy=True, order='K', subok=False, ndmin=0)"
   ]
  },
  {
   "cell_type": "markdown",
   "id": "9c894c42",
   "metadata": {},
   "source": [
    "# 1.Creating an Array from a List"
   ]
  },
  {
   "cell_type": "code",
   "execution_count": 7,
   "id": "22e3cee7",
   "metadata": {},
   "outputs": [
    {
     "name": "stdout",
     "output_type": "stream",
     "text": [
      "[10 20 30]\n",
      "<class 'numpy.ndarray'>\n"
     ]
    }
   ],
   "source": [
    "# This is the main input to numpy.array(), which can be a list, tuple, NumPy array, or any array-like structure.\n",
    "import numpy as np\n",
    "arr = np.array([10,20,30])\n",
    "print(arr)\n",
    "print(type(arr))"
   ]
  },
  {
   "cell_type": "markdown",
   "id": "46840fa8",
   "metadata": {},
   "source": [
    "# 2. dtype (Optional)"
   ]
  },
  {
   "cell_type": "code",
   "execution_count": 8,
   "id": "978be530",
   "metadata": {},
   "outputs": [
    {
     "name": "stdout",
     "output_type": "stream",
     "text": [
      "[10. 20. 30. 40.]\n",
      "float64\n"
     ]
    }
   ],
   "source": [
    "# Specifies the data type of elements in the array.\n",
    "\n",
    "arr = np.array([10,20,30,40],dtype=float)\n",
    "print(arr)\n",
    "print(arr.dtype)\n",
    "\n",
    "\n",
    "# Common Data Types\n",
    "# dtype\tDescription\n",
    "# int32\t32-bit integer\n",
    "# int64\t64-bit integer\n",
    "# float32\t32-bit floating point\n",
    "# float64\t64-bit floating point (default for floats)\n",
    "# bool_\tBoolean (True/False)\n",
    "# complex64\tComplex number with 32-bit real and imaginary parts\n",
    "\n",
    "\n",
    "# Note: If dtype is not specified, NumPy infers it from the data."
   ]
  },
  {
   "cell_type": "markdown",
   "id": "0e386b49",
   "metadata": {},
   "source": [
    "# 3.copy (Optional, Default: True)\n"
   ]
  },
  {
   "cell_type": "code",
   "execution_count": 9,
   "id": "40326893",
   "metadata": {},
   "outputs": [],
   "source": [
    "# Controls whether NumPy makes a new copy of the input data."
   ]
  },
  {
   "cell_type": "code",
   "execution_count": 10,
   "id": "1ae7b187",
   "metadata": {},
   "outputs": [
    {
     "name": "stdout",
     "output_type": "stream",
     "text": [
      "---------------Copy True--------------------\n",
      "[10, 20, 30, 40]\n",
      "[10 20 30 40]\n",
      "[100, 20, 30, 40]\n",
      "[10 20 30 40]\n",
      "---------------Copy False-------------------\n",
      "[100 300]\n",
      "[100 300]\n"
     ]
    }
   ],
   "source": [
    "print(\"---------------Copy True--------------------\")\n",
    "l1 = [10,20,30,40]\n",
    "arr = np.array(l1,copy=True)\n",
    "print(l1)\n",
    "print(arr)\n",
    "\n",
    "# Here it is avoid copying even if the copy parameter is True.\n",
    "l1[0] = 100\n",
    "print(l1)\n",
    "print(arr)\n",
    "\n",
    "print('---------------Copy False-------------------')\n",
    "l2 = [100,300]\n",
    "arr = np.array(l2,copy=False)\n",
    "print(arr)\n",
    "l2[0] = 1000\n",
    "print(arr)\n",
    "#  Note: copy=False does not guarantee avoiding a copy. NumPy only avoids copying if possible."
   ]
  },
  {
   "cell_type": "markdown",
   "id": "1653c8dc",
   "metadata": {},
   "source": [
    "# 4. order (Optional, Default: 'K')"
   ]
  },
  {
   "cell_type": "code",
   "execution_count": 11,
   "id": "cb17c62c",
   "metadata": {},
   "outputs": [],
   "source": [
    "# Controls how array elements are stored in memory."
   ]
  },
  {
   "cell_type": "code",
   "execution_count": 12,
   "id": "76c97844",
   "metadata": {},
   "outputs": [
    {
     "name": "stdout",
     "output_type": "stream",
     "text": [
      "[[1 2]\n",
      " [3 4]]\n",
      "int32\n",
      "2\n",
      "  C_CONTIGUOUS : False\n",
      "  F_CONTIGUOUS : True\n",
      "  OWNDATA : True\n",
      "  WRITEABLE : True\n",
      "  ALIGNED : True\n",
      "  WRITEBACKIFCOPY : False\n",
      "\n"
     ]
    }
   ],
   "source": [
    "arr = np.array([[1,2],[3,4]],order='F')\n",
    "print(arr)\n",
    "print(arr.dtype)\n",
    "print(arr.ndim)\n",
    "print(arr.flags)\n",
    "\n",
    "# Value\tMemory Layout\tDescription\n",
    "# 'C'\tRow-major (C-style)\tStores elements row by row (default for NumPy).\n",
    "# 'F'\tColumn-major (Fortran-style)\tStores elements column by column (better for Fortran-based computations).\n",
    "# 'A'\tAny (Adaptive to Input)\tKeeps the input array's order (if possible, otherwise defaults to 'C').\n",
    "# 'K'\tKeep Memory Layout\tPreserves the original memory layout (especially when slicing or copying).\n",
    "\n",
    "# Why Use 'F'?\n",
    "# Column-major storage is faster in some numerical computations (e.g., Fortran-based libraries)."
   ]
  },
  {
   "cell_type": "code",
   "execution_count": 13,
   "id": "c01087b9",
   "metadata": {},
   "outputs": [
    {
     "name": "stdout",
     "output_type": "stream",
     "text": [
      "[[1 2]\n",
      " [3 4]]\n",
      "  C_CONTIGUOUS : True\n",
      "  F_CONTIGUOUS : False\n",
      "  OWNDATA : True\n",
      "  WRITEABLE : True\n",
      "  ALIGNED : True\n",
      "  WRITEBACKIFCOPY : False\n",
      "\n"
     ]
    }
   ],
   "source": [
    "# 🔹 1️⃣ 'C' Order (Row-Major Storage)\n",
    "# 💡 C-style row-major storage:\n",
    "# 👉 Elements are stored row by row in memory.\n",
    "# 👉 Faster for row-wise operations.\n",
    "# 👉 Default format in NumPy.\n",
    "\n",
    "arr = np.array([[1,2],[3,4]],order='C')\n",
    "print(arr)\n",
    "print(arr.flags)\n",
    "# The C_CONTIGUOUS flag is True, meaning elements are stored row by row.\n",
    "\n"
   ]
  },
  {
   "cell_type": "code",
   "execution_count": 14,
   "id": "82e223fd",
   "metadata": {},
   "outputs": [
    {
     "name": "stdout",
     "output_type": "stream",
     "text": [
      "[[1 2]\n",
      " [3 4]]\n",
      "  C_CONTIGUOUS : False\n",
      "  F_CONTIGUOUS : True\n",
      "  OWNDATA : True\n",
      "  WRITEABLE : True\n",
      "  ALIGNED : True\n",
      "  WRITEBACKIFCOPY : False\n",
      "\n"
     ]
    }
   ],
   "source": [
    "# 2.F' Order (Column-Major Storage)\n",
    "# 💡 Fortran-style column-major storage:\n",
    "# 👉 Elements are stored column by column in memory.\n",
    "# 👉 Faster for column-wise operations.\n",
    "# 👉 Useful for Fortran-based libraries (e.g., SciPy, LAPACK).\n",
    "\n",
    "arr = np.array([[1,2],[3,4]],order='F')\n",
    "print(arr)\n",
    "print(arr.flags)\n",
    "\n",
    "# The F_CONTIGUOUS flag is True, meaning elements are stored column by column."
   ]
  },
  {
   "cell_type": "code",
   "execution_count": 15,
   "id": "85e9c05a",
   "metadata": {},
   "outputs": [
    {
     "name": "stdout",
     "output_type": "stream",
     "text": [
      "  C_CONTIGUOUS : True\n",
      "  F_CONTIGUOUS : False\n",
      "  OWNDATA : True\n",
      "  WRITEABLE : True\n",
      "  ALIGNED : True\n",
      "  WRITEBACKIFCOPY : False\n",
      "\n"
     ]
    }
   ],
   "source": [
    "# 3️⃣ order='A' (Adaptive to Input)\n",
    "# \"Keep the order of the input array if possible, otherwise use row-major (C) order.\"\n",
    "# 👉 If the input array is in C-order (row-major), the output remains C-ordered.\n",
    "# 👉 If the input array is in F-order (column-major), the output remains F-ordered.\n",
    "# 👉 If the input is not a NumPy array, it defaults to C-order.\n",
    "\n",
    "\n",
    "arr_c = np.array([[1,2],[3,4]],order='C')\n",
    "# Here order a indicate that perfer the original order in which array is created which ic order c \n",
    "# so in the flag you see the C_Continguous is True\n",
    "arr_a = np.array(arr_c,order='A') \n",
    "print(arr_a.flags)"
   ]
  },
  {
   "cell_type": "code",
   "execution_count": 16,
   "id": "ceeb6879",
   "metadata": {},
   "outputs": [],
   "source": [
    "# 4️⃣ order='K' (Keep Memory Layout)\n",
    "# 💡 \"Preserve the memory layout of the input array as much as possible.\"\n",
    "# 👉 If the input is in C-order, it stays C-ordered.\n",
    "# 👉 If the input is in F-order, it stays F-ordered.\n",
    "# 👉 If the input is non-contiguous, it preserves the strides (doesn't necessarily become C or F)."
   ]
  },
  {
   "cell_type": "code",
   "execution_count": 17,
   "id": "dad71cd4",
   "metadata": {},
   "outputs": [
    {
     "name": "stdout",
     "output_type": "stream",
     "text": [
      "[[1 2]\n",
      " [3 4]]\n",
      "  C_CONTIGUOUS : False\n",
      "  F_CONTIGUOUS : True\n",
      "  OWNDATA : True\n",
      "  WRITEABLE : True\n",
      "  ALIGNED : True\n",
      "  WRITEBACKIFCOPY : False\n",
      "\n"
     ]
    }
   ],
   "source": [
    "arr_f = np.array([[1,2],[3,4]],order='F')\n",
    "# Here it keeping the order F as the first time when the array is created the order is f\n",
    "arr_k = np.array(arr_f,order='K')\n",
    "print(arr_k)\n",
    "# In the memory layout you see F_Continuous is True\n",
    "print(arr_k.flags)"
   ]
  },
  {
   "cell_type": "code",
   "execution_count": 18,
   "id": "6bdf1b5b",
   "metadata": {},
   "outputs": [],
   "source": [
    "# Key Differences Between order='A' and order='K'\n",
    "# Feature\torder='A' (Adaptive)\torder='K' (Keep Layout)\n",
    "# Preserves Input Order?\t✅ Yes, if input is a NumPy array\t✅ Yes, but also preserves stride-based layout\n",
    "# Default for Lists?\tC-order (row-major)\tC-order (row-major)\n",
    "# Works with Slices?\tConverts to contiguous\tPreserves stride-based slicing\n",
    "# If Input is C-ordered?\tKeeps C-order\tKeeps C-order\n",
    "# If Input is F-ordered?\tKeeps F-order\tKeeps F-order\n",
    "# If Input is Non-contiguous?\tConverts to contiguous\tPreserves strided memory\n"
   ]
  },
  {
   "cell_type": "code",
   "execution_count": 19,
   "id": "bf996d16",
   "metadata": {},
   "outputs": [
    {
     "name": "stdout",
     "output_type": "stream",
     "text": [
      "Original Array [0 1 2 3 4 5 6 7 8 9]\n",
      "Sliced Array: [0 2 4 6 8]\n",
      "Strides: (8,)\n"
     ]
    }
   ],
   "source": [
    "# What Does \"Preserves Strided Memory\" Mean in order='K' in NumPy?\n",
    "# In NumPy, strided memory refers to the way elements are stored in memory, especially for non-contiguous arrays.\n",
    "\n",
    "\n",
    "# What is Strided Memory?\n",
    "# Strided memory means that array elements are not stored continuously in memory, but instead with gaps between them.\n",
    "\n",
    "\n",
    "arr = np.arange(10)\n",
    "print('Original Array',arr)\n",
    "\n",
    "sliced_arr = arr[::2] \n",
    "print(\"Sliced Array:\", sliced_arr)\n",
    "print(\"Strides:\", sliced_arr.strides)"
   ]
  },
  {
   "cell_type": "code",
   "execution_count": 20,
   "id": "fea91b88",
   "metadata": {},
   "outputs": [],
   "source": [
    "# What Are Strides?\n",
    "# Strides represent the number of bytes between consecutive elements.\n",
    "# The stride value 8 means that NumPy skips 8 bytes in memory when accessing the next element.\n",
    "\n"
   ]
  },
  {
   "cell_type": "markdown",
   "id": "10790a5e",
   "metadata": {},
   "source": [
    "# 6. ndmin (Optional, Default: 0)\n"
   ]
  },
  {
   "cell_type": "code",
   "execution_count": 21,
   "id": "07e279d7",
   "metadata": {},
   "outputs": [
    {
     "name": "stdout",
     "output_type": "stream",
     "text": [
      "[[1 2 3]]\n",
      "[10]\n",
      "10\n"
     ]
    }
   ],
   "source": [
    "# Ensures a minimum number of dimensions for the array.\n",
    "arr = np.array([1,2,3],ndmin=2)\n",
    "print(arr)\n",
    "\n",
    "arr = np.array(10,ndmin=1)\n",
    "print(arr)\n",
    "\n",
    "arr = np.array(10)\n",
    "print(arr)"
   ]
  },
  {
   "cell_type": "code",
   "execution_count": null,
   "id": "61f47157",
   "metadata": {},
   "outputs": [],
   "source": []
  },
  {
   "cell_type": "markdown",
   "id": "90186fb8",
   "metadata": {},
   "source": [
    "# Dimension in Arrays"
   ]
  },
  {
   "cell_type": "code",
   "execution_count": 22,
   "id": "37aee288",
   "metadata": {},
   "outputs": [],
   "source": [
    "# A dimension in arrays is one level of array depth (nested arrays)."
   ]
  },
  {
   "cell_type": "markdown",
   "id": "1085c631",
   "metadata": {},
   "source": [
    "# 1. 0-D Array"
   ]
  },
  {
   "cell_type": "code",
   "execution_count": 23,
   "id": "dd3c5b96",
   "metadata": {},
   "outputs": [],
   "source": [
    "# 0-D arrays, or Scalars, are the elements in an array. Each value in an array is a 0-D array.\n",
    "# A 0D array (zero-dimensional array) is also called a scalar array. \n",
    "# It contains only a single value and has no axes (dimensions)."
   ]
  },
  {
   "cell_type": "code",
   "execution_count": 24,
   "id": "0615c9fa",
   "metadata": {},
   "outputs": [
    {
     "name": "stdout",
     "output_type": "stream",
     "text": [
      "41\n",
      "<class 'numpy.ndarray'>\n",
      "0\n"
     ]
    }
   ],
   "source": [
    "import numpy as np\n",
    "\n",
    "arr = np.array(41)\n",
    "print(arr)\n",
    "print(type(arr))\n",
    "print(arr.ndim)"
   ]
  },
  {
   "cell_type": "markdown",
   "id": "c5a25c01",
   "metadata": {},
   "source": [
    "# Why Use a 0D Array?"
   ]
  },
  {
   "cell_type": "code",
   "execution_count": 25,
   "id": "f5e1220c",
   "metadata": {},
   "outputs": [],
   "source": [
    "# Useful for storing a single computed value from NumPy operations.\n",
    "# Maintains consistency in data structure when working with arrays of different dimensions.\n",
    "# Can be expanded into higher dimensions using np.expand_dims()."
   ]
  },
  {
   "cell_type": "code",
   "execution_count": 26,
   "id": "eeb8af7c",
   "metadata": {},
   "outputs": [
    {
     "name": "stdout",
     "output_type": "stream",
     "text": [
      "(1,)\n"
     ]
    }
   ],
   "source": [
    "arr_1D = np.expand_dims(arr, axis=0)  # Convert to 1D\n",
    "print(arr_1D.shape)  "
   ]
  },
  {
   "cell_type": "code",
   "execution_count": 27,
   "id": "4a7bd1db",
   "metadata": {},
   "outputs": [
    {
     "name": "stdout",
     "output_type": "stream",
     "text": [
      "(1, 1)\n"
     ]
    }
   ],
   "source": [
    "arr_2D = np.expand_dims(arr, axis=(0, 1))  # Convert to 2D\n",
    "print(arr_2D.shape)  "
   ]
  },
  {
   "cell_type": "markdown",
   "id": "1d6d9ae5",
   "metadata": {},
   "source": [
    "# Properties of 0D Array"
   ]
  },
  {
   "cell_type": "code",
   "execution_count": 28,
   "id": "cd6fd153",
   "metadata": {},
   "outputs": [
    {
     "name": "stdout",
     "output_type": "stream",
     "text": [
      "10\n",
      "<class 'numpy.ndarray'>\n"
     ]
    }
   ],
   "source": [
    "import numpy as np\n",
    "arr = np.array(10)\n",
    "print(arr)\n",
    "print(type(arr))"
   ]
  },
  {
   "cell_type": "code",
   "execution_count": 29,
   "id": "fd359d23",
   "metadata": {},
   "outputs": [
    {
     "name": "stdout",
     "output_type": "stream",
     "text": [
      "0\n"
     ]
    }
   ],
   "source": [
    "# 1️⃣  ndim – Returns the Number of Dimensions\n",
    "# Tells how many dimensions (axes) an array has.\n",
    "# Always returns an integer.\n",
    "# A scalar (0D array) has ndim = 0, a 1D array has ndim = 1, a 2D array has ndim = 2, and so on.\n",
    "\n",
    "print(arr.ndim)\n",
    "# The number of dimensions of a 0D array is always 0."
   ]
  },
  {
   "cell_type": "code",
   "execution_count": 30,
   "id": "7612f712",
   "metadata": {},
   "outputs": [
    {
     "name": "stdout",
     "output_type": "stream",
     "text": [
      "()\n"
     ]
    }
   ],
   "source": [
    "# 2️⃣  shape – Returns the Shape of the Array\n",
    "# Tells the size (number of elements) along each dimension (axis).\n",
    "# Always returns a tuple.\n",
    "# The length of the tuple equals ndim (number of dimensions).\n",
    "# A 0D array has shape = (), a 1D array has shape = (n,), a 2D array has shape = (rows, columns), etc.\n",
    "\n",
    "print(arr.shape)"
   ]
  },
  {
   "cell_type": "code",
   "execution_count": 31,
   "id": "f5661935",
   "metadata": {},
   "outputs": [
    {
     "name": "stdout",
     "output_type": "stream",
     "text": [
      "1\n"
     ]
    }
   ],
   "source": [
    "# 3️⃣ size – Returns the Total Number of Elements\n",
    "# Counts the total number of elements in the array.\n",
    "# A 0D array always has 1 element.\n",
    "\n",
    "print(arr.size)\n",
    "# ✔ The size of a 0D array is always 1, since it contains a single value."
   ]
  },
  {
   "cell_type": "code",
   "execution_count": 32,
   "id": "4907ee57",
   "metadata": {},
   "outputs": [
    {
     "name": "stdout",
     "output_type": "stream",
     "text": [
      "int32\n"
     ]
    }
   ],
   "source": [
    "# 4️⃣dtype – Returns the Data Type of the Array\n",
    "# Shows the data type of the value stored in the array.\n",
    "# The data type depends on the type of number provided.\n",
    "print(arr.dtype)\n",
    "\n",
    "# ✔ The dtype tells us whether the value is an int, float, etc."
   ]
  },
  {
   "cell_type": "code",
   "execution_count": 33,
   "id": "32bfa2a3",
   "metadata": {},
   "outputs": [
    {
     "name": "stdout",
     "output_type": "stream",
     "text": [
      "4\n"
     ]
    }
   ],
   "source": [
    "# 5️⃣ itemsize – Returns the Memory Size of One Element (in Bytes)\n",
    "# Shows how much memory (in bytes) one element occupies.\n",
    "# The size depends on the data type (dtype).\n",
    "\n",
    "print(arr.itemsize)\n",
    "# int32\n",
    "# ✔ The memory occupied depends on the dtype of the element."
   ]
  },
  {
   "cell_type": "code",
   "execution_count": 34,
   "id": "3c2f064c",
   "metadata": {},
   "outputs": [
    {
     "name": "stdout",
     "output_type": "stream",
     "text": [
      "10\n",
      "<class 'int'>\n"
     ]
    }
   ],
   "source": [
    "# 6️⃣ item() – Extracts the Scalar Value from the Array\n",
    "# Returns the actual scalar value from the array as a Python data type.\n",
    "\n",
    "scalar_value = arr.item()\n",
    "print(scalar_value)\n",
    "print(type(scalar_value))\n",
    "\n",
    "# ✔ item() converts a 0D NumPy array into a normal Python scalar."
   ]
  },
  {
   "cell_type": "code",
   "execution_count": 35,
   "id": "5e6c455b",
   "metadata": {},
   "outputs": [
    {
     "name": "stdout",
     "output_type": "stream",
     "text": [
      "Return the memory location of the array <memory at 0x0000016D8BE9CB80>\n"
     ]
    }
   ],
   "source": [
    "# 7️⃣ data – Returns a Pointer to the Memory Address\n",
    "# Gives a pointer to the location where the array is stored in memory.\n",
    "loc = arr.data\n",
    "print(\"Return the memory location of the array\",loc)"
   ]
  },
  {
   "cell_type": "markdown",
   "id": "d5166643",
   "metadata": {},
   "source": [
    "# 🔹 Modifying a 0D Array"
   ]
  },
  {
   "cell_type": "code",
   "execution_count": 38,
   "id": "5359e330",
   "metadata": {},
   "outputs": [
    {
     "name": "stdout",
     "output_type": "stream",
     "text": [
      "100\n",
      "<class 'int'>\n"
     ]
    }
   ],
   "source": [
    "arr = np.array(10)\n",
    "arr = 100\n",
    "print(arr)\n",
    "print(type(arr))"
   ]
  },
  {
   "cell_type": "code",
   "execution_count": 39,
   "id": "078d69b7",
   "metadata": {},
   "outputs": [
    {
     "name": "stdout",
     "output_type": "stream",
     "text": [
      "1000\n",
      "<class 'numpy.ndarray'>\n"
     ]
    }
   ],
   "source": [
    "# Since a 0D array contains a single value, we can change it directly:\n",
    "arr = np.array(100)\n",
    "arr[...] = 1000\n",
    "print(arr)\n",
    "print(type(arr))\n",
    "# We use [...] (ellipsis) to modify the single value inside the 0D array.\n",
    "\n"
   ]
  },
  {
   "cell_type": "code",
   "execution_count": 40,
   "id": "69927b05",
   "metadata": {},
   "outputs": [],
   "source": [
    "# What is Ellipsis (...) in NumPy and Why Do We Use It?\n",
    "# In NumPy, ... (ellipsis) is a special object that represents \"as many colons (:) as needed\" to select elements across multiple dimensions.\n",
    "# However, in the case of 0D arrays, it allows us to access and modify the single scalar value stored in the array."
   ]
  },
  {
   "cell_type": "code",
   "execution_count": 41,
   "id": "ca87f622",
   "metadata": {},
   "outputs": [
    {
     "name": "stdout",
     "output_type": "stream",
     "text": [
      "[[[ 0  1  2]\n",
      "  [ 3  4  5]\n",
      "  [ 6  7  8]]\n",
      "\n",
      " [[ 9 10 11]\n",
      "  [12 13 14]\n",
      "  [15 16 17]]\n",
      "\n",
      " [[18 19 20]\n",
      "  [21 22 23]\n",
      "  [24 25 26]]]\n"
     ]
    }
   ],
   "source": [
    "# 📌 General Usage of ... in Higher-Dimensional Arrays\n",
    "# When working with multi-dimensional arrays, ... helps select slices across multiple dimensions.\n",
    "arr = np.arange(27).reshape(3,3,3)\n",
    "print(arr)\n",
    "# 🔹 This creates a 3x3x3 array."
   ]
  },
  {
   "cell_type": "code",
   "execution_count": 42,
   "id": "278cdff1",
   "metadata": {},
   "outputs": [
    {
     "name": "stdout",
     "output_type": "stream",
     "text": [
      "[[ 3  4  5]\n",
      " [12 13 14]\n",
      " [21 22 23]]\n"
     ]
    }
   ],
   "source": [
    "# If we want to select all elements along the first and third dimensions but pick only the second row, we can use:\n",
    "print(arr[:,1,:])"
   ]
  },
  {
   "cell_type": "code",
   "execution_count": 43,
   "id": "e77afed7",
   "metadata": {},
   "outputs": [
    {
     "name": "stdout",
     "output_type": "stream",
     "text": [
      "100\n",
      "<class 'int'>\n"
     ]
    }
   ],
   "source": [
    "# 🔹 Do We Really Need ... for a 0D Array?\n",
    "# In most cases, you can directly assign a new value to a 0D array without ...:\n",
    "arr = np.array(10)\n",
    "arr = 100\n",
    "print(arr)\n",
    "print(type(arr))\n",
    "# 🔹 However, this replaces arr_0d with a regular Python integer!"
   ]
  },
  {
   "cell_type": "code",
   "execution_count": 44,
   "id": "56c8fcf5",
   "metadata": {},
   "outputs": [
    {
     "name": "stdout",
     "output_type": "stream",
     "text": [
      "10000\n",
      "<class 'numpy.ndarray'>\n"
     ]
    }
   ],
   "source": [
    "# 🔹 If we want to modify the existing NumPy array without losing its properties, we should use ...:\n",
    "arr = np.array(100)\n",
    "arr[...] = 10000\n",
    "print(arr)\n",
    "print(type(arr))\n",
    "# ✔ arr_0d[...] = value ensures we modify the array in place instead of converting it to a regular scalar."
   ]
  },
  {
   "cell_type": "markdown",
   "id": "bab36a24",
   "metadata": {},
   "source": [
    "# Arithmetic Operations with 0D Arrays in NumPy"
   ]
  },
  {
   "cell_type": "code",
   "execution_count": 45,
   "id": "890c6200",
   "metadata": {},
   "outputs": [],
   "source": [
    "# A 0D array (scalar array) in NumPy behaves like a single number. \n",
    "# We can perform arithmetic operations on it just like we do with Python scalars, but it remains a NumPy array, keeping its properties."
   ]
  },
  {
   "cell_type": "code",
   "execution_count": 46,
   "id": "916e1518",
   "metadata": {},
   "outputs": [],
   "source": [
    "arr1 = np.array(10)\n",
    "arr2 = np.array(20)"
   ]
  },
  {
   "cell_type": "code",
   "execution_count": 47,
   "id": "ccec1b46",
   "metadata": {},
   "outputs": [],
   "source": [
    "# Basic Arithmetic Operations\n",
    "# We can perform arithmetic operations between:\n",
    "\n",
    "# 1.Two 0D arrays\n",
    "# 2.A 0D array and a scalar (Python number)"
   ]
  },
  {
   "cell_type": "code",
   "execution_count": 49,
   "id": "08624f12",
   "metadata": {},
   "outputs": [
    {
     "name": "stdout",
     "output_type": "stream",
     "text": [
      "30\n",
      "<class 'numpy.int32'>\n"
     ]
    }
   ],
   "source": [
    "res = arr1 + arr2\n",
    "print(res)\n",
    "print(type(res))"
   ]
  },
  {
   "cell_type": "code",
   "execution_count": 50,
   "id": "10d7000a",
   "metadata": {},
   "outputs": [
    {
     "name": "stdout",
     "output_type": "stream",
     "text": [
      "-10\n",
      "<class 'numpy.int32'>\n"
     ]
    }
   ],
   "source": [
    "res = arr1 - arr2\n",
    "print(res)\n",
    "print(type(res))"
   ]
  },
  {
   "cell_type": "code",
   "execution_count": 51,
   "id": "3f1dcd58",
   "metadata": {},
   "outputs": [
    {
     "name": "stdout",
     "output_type": "stream",
     "text": [
      "200\n",
      "<class 'numpy.int32'>\n"
     ]
    }
   ],
   "source": [
    "res = arr1 * arr2\n",
    "print(res)\n",
    "print(type(res))"
   ]
  },
  {
   "cell_type": "code",
   "execution_count": 52,
   "id": "ba674094",
   "metadata": {},
   "outputs": [
    {
     "name": "stdout",
     "output_type": "stream",
     "text": [
      "0.5\n",
      "<class 'numpy.float64'>\n"
     ]
    }
   ],
   "source": [
    "res = arr1/ arr2\n",
    "print(res)\n",
    "print(type(res))"
   ]
  },
  {
   "cell_type": "code",
   "execution_count": 53,
   "id": "3f3250fd",
   "metadata": {},
   "outputs": [
    {
     "name": "stdout",
     "output_type": "stream",
     "text": [
      "0\n",
      "<class 'numpy.int32'>\n"
     ]
    }
   ],
   "source": [
    "res = arr1//arr2\n",
    "print(res)\n",
    "print(type(res))"
   ]
  },
  {
   "cell_type": "code",
   "execution_count": 54,
   "id": "feaad322",
   "metadata": {},
   "outputs": [
    {
     "name": "stdout",
     "output_type": "stream",
     "text": [
      "10\n",
      "<class 'numpy.int32'>\n"
     ]
    }
   ],
   "source": [
    "res  =arr1%arr2\n",
    "print(res)\n",
    "print(type(res))"
   ]
  },
  {
   "cell_type": "code",
   "execution_count": 55,
   "id": "de0e4dc6",
   "metadata": {},
   "outputs": [
    {
     "name": "stdout",
     "output_type": "stream",
     "text": [
      "1661992960\n",
      "<class 'numpy.int32'>\n"
     ]
    }
   ],
   "source": [
    "res = arr1**arr2\n",
    "print(res)\n",
    "print(type(res))"
   ]
  },
  {
   "cell_type": "code",
   "execution_count": 58,
   "id": "6434130f",
   "metadata": {},
   "outputs": [
    {
     "name": "stdout",
     "output_type": "stream",
     "text": [
      "20\n",
      "<class 'numpy.int32'>\n"
     ]
    }
   ],
   "source": [
    "# Arithmetic Operations with Scalar\n",
    "\n",
    "res =arr1 + 10\n",
    "print(res)\n",
    "print(type(res))"
   ]
  },
  {
   "cell_type": "code",
   "execution_count": 59,
   "id": "0acda0bd",
   "metadata": {},
   "outputs": [
    {
     "name": "stdout",
     "output_type": "stream",
     "text": [
      "0\n",
      "<class 'numpy.int32'>\n"
     ]
    }
   ],
   "source": [
    "res = arr1 -10\n",
    "print(res)\n",
    "print(type(res))"
   ]
  },
  {
   "cell_type": "code",
   "execution_count": 60,
   "id": "c3e28d47",
   "metadata": {},
   "outputs": [
    {
     "name": "stdout",
     "output_type": "stream",
     "text": [
      "1.0\n",
      "<class 'numpy.float64'>\n"
     ]
    }
   ],
   "source": [
    "res = arr1/10\n",
    "print(res)\n",
    "print(type(res))"
   ]
  },
  {
   "cell_type": "code",
   "execution_count": 61,
   "id": "695c97d7",
   "metadata": {},
   "outputs": [
    {
     "name": "stdout",
     "output_type": "stream",
     "text": [
      "0\n",
      "<class 'numpy.int32'>\n"
     ]
    }
   ],
   "source": [
    "res = arr1%10\n",
    "print(res)\n",
    "print(type(res))"
   ]
  },
  {
   "cell_type": "code",
   "execution_count": 62,
   "id": "5f7e0cb2",
   "metadata": {},
   "outputs": [
    {
     "name": "stdout",
     "output_type": "stream",
     "text": [
      "1\n",
      "<class 'numpy.int32'>\n"
     ]
    }
   ],
   "source": [
    "res = arr1//10\n",
    "print(res)\n",
    "print(type(res))"
   ]
  },
  {
   "cell_type": "code",
   "execution_count": 63,
   "id": "9b7b4f9d",
   "metadata": {},
   "outputs": [
    {
     "name": "stdout",
     "output_type": "stream",
     "text": [
      "1410065408\n",
      "<class 'numpy.int32'>\n"
     ]
    }
   ],
   "source": [
    "res = arr1**10\n",
    "print(res)\n",
    "print(type(res))"
   ]
  },
  {
   "cell_type": "markdown",
   "id": "4e43cd1e",
   "metadata": {},
   "source": [
    "# 🔹 Mixing 0D and Higher-Dimensional Arrays"
   ]
  },
  {
   "cell_type": "code",
   "execution_count": 64,
   "id": "3c6dbd21",
   "metadata": {},
   "outputs": [],
   "source": [
    "# We can perform operations between 0D and multi-dimensional arrays, and NumPy will broadcast the scalar value."
   ]
  },
  {
   "cell_type": "code",
   "execution_count": 65,
   "id": "55af94f2",
   "metadata": {},
   "outputs": [
    {
     "name": "stdout",
     "output_type": "stream",
     "text": [
      "[20 30 40]\n"
     ]
    }
   ],
   "source": [
    "arr0 = np.array(10)\n",
    "arr1 = np.array([10,20,30])\n",
    "res  = arr0 + arr1\n",
    "print(res)\n",
    "# The resultant will be always in the higher dimension from among them."
   ]
  },
  {
   "cell_type": "code",
   "execution_count": 67,
   "id": "a415ed76",
   "metadata": {},
   "outputs": [
    {
     "name": "stdout",
     "output_type": "stream",
     "text": [
      "[[20 30 40]\n",
      " [30 40 50]]\n",
      "<class 'numpy.ndarray'>\n"
     ]
    }
   ],
   "source": [
    "arr0 = np.array(10)\n",
    "arr2 = np.array([[10,20,30],[20,30,40]])\n",
    "res = arr0 + arr2\n",
    "print(res)\n",
    "print(type(res))"
   ]
  },
  {
   "cell_type": "code",
   "execution_count": 68,
   "id": "bd53b586",
   "metadata": {},
   "outputs": [],
   "source": [
    "# why on performing arithmetic operations on 0d array it returns numpy.int32 not numpy.ndarray ?\n",
    "# When we perform arithmetic operations on a 0D NumPy array, the result is often a NumPy scalar (e.g., numpy.int32, numpy.float64), not a NumPy array (numpy.ndarray)."
   ]
  },
  {
   "cell_type": "code",
   "execution_count": 69,
   "id": "e307d6df",
   "metadata": {},
   "outputs": [],
   "source": [
    "# 1️⃣ NumPy Converts 0D Arrays to Scalars for Efficiency\n",
    "\n",
    "# A 0D array (shape ()) contains only one element.\n",
    "# NumPy optimizes operations on 0D arrays by returning a NumPy scalar (numpy.int32, numpy.float64, etc.) instead of wrapping it back into an array.\n",
    "# This avoids unnecessary overhead and makes computations faster."
   ]
  },
  {
   "cell_type": "code",
   "execution_count": 70,
   "id": "b4b59f22",
   "metadata": {},
   "outputs": [
    {
     "name": "stdout",
     "output_type": "stream",
     "text": [
      "101\n",
      "<class 'numpy.int32'>\n"
     ]
    }
   ],
   "source": [
    "arr0 = np.array(100)\n",
    "res = arr0 + 1\n",
    "print(res)\n",
    "print(type(res))"
   ]
  },
  {
   "cell_type": "code",
   "execution_count": 71,
   "id": "7aeecaa1",
   "metadata": {},
   "outputs": [],
   "source": [
    "# 2️⃣ Scalar Promotion: The Data Type is Preserved\n",
    "# NumPy preserves the data type during operations:\n",
    "\n",
    "# If the 0D array is int32, the result is numpy.int32.\n",
    "# If the 0D array is float64, the result is numpy.float64."
   ]
  },
  {
   "cell_type": "code",
   "execution_count": 72,
   "id": "9635cef6",
   "metadata": {},
   "outputs": [
    {
     "name": "stdout",
     "output_type": "stream",
     "text": [
      "24.5\n",
      "<class 'numpy.float64'>\n"
     ]
    }
   ],
   "source": [
    "arr_0d = np.array(7, dtype=np.float32)\n",
    "result = arr_0d * 3.5\n",
    "\n",
    "print(result)        # Output: 24.5\n",
    "print(type(result))"
   ]
  },
  {
   "cell_type": "markdown",
   "id": "27e433cb",
   "metadata": {},
   "source": [
    "# From Python Built-in Data Structures"
   ]
  },
  {
   "cell_type": "code",
   "execution_count": 1,
   "id": "3772b9e2",
   "metadata": {},
   "outputs": [],
   "source": [
    "# NumPy arrays (numpy.ndarray) can be created from multiple data structures, including Python built-in collections and other external data formats. \n",
    "# Below are the main ways to create a NumPy array."
   ]
  },
  {
   "cell_type": "code",
   "execution_count": 3,
   "id": "77c8d22b",
   "metadata": {},
   "outputs": [
    {
     "name": "stdout",
     "output_type": "stream",
     "text": [
      "[1 2 3 4 5]\n",
      "<class 'numpy.ndarray'>\n"
     ]
    }
   ],
   "source": [
    "# 1.1 From a Python List\n",
    "# A Python list is the most common structure used to create NumPy arrays.\n",
    "\n",
    "import numpy as np\n",
    "\n",
    "arr = np.array([1,2,3,4,5])\n",
    "print(arr)\n",
    "print(type(arr))"
   ]
  },
  {
   "cell_type": "code",
   "execution_count": 4,
   "id": "185a5dcd",
   "metadata": {},
   "outputs": [
    {
     "name": "stdout",
     "output_type": "stream",
     "text": [
      "[1 2 3 4 5]\n",
      "<class 'numpy.ndarray'>\n"
     ]
    }
   ],
   "source": [
    "# 1.2 From a Tuple\n",
    "# A tuple can also be converted into a NumPy array.\n",
    "arr = np.array((1,2,3,4,5))\n",
    "print(arr)\n",
    "print(type(arr))"
   ]
  },
  {
   "cell_type": "code",
   "execution_count": 5,
   "id": "c2cf4087",
   "metadata": {},
   "outputs": [
    {
     "name": "stdout",
     "output_type": "stream",
     "text": [
      "[1 2 3 4]\n",
      "<class 'numpy.ndarray'>\n"
     ]
    }
   ],
   "source": [
    "# 1.3 From a Set\n",
    "# A set can also be converted into a NumPy array, but since sets are unordered, the output may differ.\n",
    "s1 = {1,2,3,4,1,2}\n",
    "res = list(s1)\n",
    "arr = np.array(res)\n",
    "print(arr)\n",
    "print(type(arr))\n",
    "\n",
    "# ✔ We convert the set to a list first since NumPy does not directly support unordered collections."
   ]
  },
  {
   "cell_type": "code",
   "execution_count": 6,
   "id": "34e5ff13",
   "metadata": {},
   "outputs": [
    {
     "name": "stdout",
     "output_type": "stream",
     "text": [
      "[1 2 3 4 5]\n",
      "<class 'numpy.ndarray'>\n"
     ]
    }
   ],
   "source": [
    "# 1.4 From a Range (range)\n",
    "# A range object can be directly converted into a NumPy array.\n",
    "num = range(1,6)\n",
    "arr = np.array(num)\n",
    "print(arr)\n",
    "print(type(arr))"
   ]
  },
  {
   "cell_type": "code",
   "execution_count": null,
   "id": "1008fcaa",
   "metadata": {},
   "outputs": [],
   "source": []
  }
 ],
 "metadata": {
  "kernelspec": {
   "display_name": "Python 3 (ipykernel)",
   "language": "python",
   "name": "python3"
  },
  "language_info": {
   "codemirror_mode": {
    "name": "ipython",
    "version": 3
   },
   "file_extension": ".py",
   "mimetype": "text/x-python",
   "name": "python",
   "nbconvert_exporter": "python",
   "pygments_lexer": "ipython3",
   "version": "3.11.5"
  }
 },
 "nbformat": 4,
 "nbformat_minor": 5
}
