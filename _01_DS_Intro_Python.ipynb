{
 "cells": [
  {
   "cell_type": "markdown",
   "id": "b1f3d465",
   "metadata": {},
   "source": [
    "# Print Function  "
   ]
  },
  {
   "cell_type": "code",
   "execution_count": 3,
   "id": "7596317d",
   "metadata": {},
   "outputs": [
    {
     "name": "stdout",
     "output_type": "stream",
     "text": [
      "This is the first program of python\n"
     ]
    }
   ],
   "source": [
    "# print function is used to print the values or expression after evaluation on console.\n",
    "\n",
    "print(\"This is the first program of python\")\n",
    "\n",
    "# In print function there are four parameter:\n",
    "# 1 end = that is used to end the print function with new line or insert \\n after printing of (expression or value).\n",
    "# 2 sep = that is used to separate the multiple object or values.\n",
    "# 3 file = it is the file object in which the content should be written.\n",
    "# 4 flush = it is used to forcefully flush the stream\n"
   ]
  },
  {
   "cell_type": "markdown",
   "id": "9a7bc9fc",
   "metadata": {},
   "source": [
    "# Comments"
   ]
  },
  {
   "cell_type": "code",
   "execution_count": 4,
   "id": "dfa0c69d",
   "metadata": {},
   "outputs": [],
   "source": [
    "# Comments are the statement which the programmer wants to write in a program but does not want to execute.\n",
    "# There are two types of comments \n",
    "# 1. Single Line Comment\n",
    "# 2. Multi Line Comment"
   ]
  },
  {
   "cell_type": "code",
   "execution_count": 5,
   "id": "13405222",
   "metadata": {},
   "outputs": [],
   "source": [
    "# Single Line Comment\n",
    "# It is created using #\n"
   ]
  },
  {
   "cell_type": "code",
   "execution_count": 6,
   "id": "a61ca55d",
   "metadata": {},
   "outputs": [],
   "source": [
    "# Multi Line Comment\n",
    "# It is created using either triple single quotes or triple double quotes."
   ]
  },
  {
   "cell_type": "markdown",
   "id": "7861e140",
   "metadata": {},
   "source": [
    "# Variables"
   ]
  },
  {
   "cell_type": "code",
   "execution_count": 7,
   "id": "ba659070",
   "metadata": {},
   "outputs": [
    {
     "name": "stdout",
     "output_type": "stream",
     "text": [
      "10\n"
     ]
    }
   ],
   "source": [
    "# Variables are the temporary Storage space that stores the data.\n",
    "a = 10\n",
    "print(a)"
   ]
  },
  {
   "cell_type": "code",
   "execution_count": 8,
   "id": "b2a1eb5c",
   "metadata": {},
   "outputs": [
    {
     "name": "stdout",
     "output_type": "stream",
     "text": [
      "<class 'int'>\n"
     ]
    }
   ],
   "source": [
    "# type() function is used to return the datatype of the variable.\n",
    "print(type(a))"
   ]
  },
  {
   "cell_type": "code",
   "execution_count": 10,
   "id": "e6469f41",
   "metadata": {},
   "outputs": [
    {
     "data": {
      "text/plain": [
       "'Hello World'"
      ]
     },
     "execution_count": 10,
     "metadata": {},
     "output_type": "execute_result"
    }
   ],
   "source": [
    "# Whenever we print the string on jupyterNoteBook created either using single quotes or double quotes, \n",
    "# we will get the data in single quotes.\n",
    "s = \"Hello World\"\n",
    "s"
   ]
  },
  {
   "cell_type": "code",
   "execution_count": 11,
   "id": "1cf44671",
   "metadata": {},
   "outputs": [],
   "source": [
    "# Why this difference?\n",
    "\n",
    "# print(type(a)): The print function calls the __str__ method of the object returned by type(a), \n",
    "# which is why you see the full string representation.\n",
    "\n",
    "# type(a): When you simply use type(a) in a notebook cell, \n",
    "# Jupyter Notebook uses the __repr__ method of the object for display. \n",
    "# This representation is often more concise and intended for developers to get a quick understanding of the object."
   ]
  },
  {
   "cell_type": "code",
   "execution_count": 12,
   "id": "a6e0a67f",
   "metadata": {},
   "outputs": [
    {
     "name": "stdout",
     "output_type": "stream",
     "text": [
      "10 20\n"
     ]
    }
   ],
   "source": [
    "# Printing Multiple Object using single print function.\n",
    "a = 10\n",
    "b = 20\n",
    "print(a,b)"
   ]
  },
  {
   "cell_type": "code",
   "execution_count": 13,
   "id": "a81aa3ab",
   "metadata": {},
   "outputs": [
    {
     "name": "stdout",
     "output_type": "stream",
     "text": [
      "10 20\n"
     ]
    }
   ],
   "source": [
    "# Assigning value to a variables\n",
    "a,b = 10,20\n",
    "print(a,b)"
   ]
  },
  {
   "cell_type": "markdown",
   "id": "7fe65fc7",
   "metadata": {},
   "source": [
    "# DataTypes in Python "
   ]
  },
  {
   "cell_type": "code",
   "execution_count": 18,
   "id": "7ef2ae52",
   "metadata": {},
   "outputs": [],
   "source": [
    "# Numberic DataType;\n",
    "# 1.int - store whole numbers\n",
    "# 2.float - store decimal numbers\n",
    "# 3 complext - store real + imagnary part"
   ]
  },
  {
   "cell_type": "code",
   "execution_count": 20,
   "id": "ee0a1b70",
   "metadata": {},
   "outputs": [
    {
     "name": "stdout",
     "output_type": "stream",
     "text": [
      "10 20 (4+4j)\n",
      "<class 'int'> <class 'int'> <class 'complex'>\n"
     ]
    }
   ],
   "source": [
    "a = 10 \n",
    "b = 20\n",
    "c = 4 + 4j\n",
    "print(a,b,c)\n",
    "print(type(a),type(b),type(c))"
   ]
  },
  {
   "cell_type": "code",
   "execution_count": 42,
   "id": "a513074a",
   "metadata": {},
   "outputs": [
    {
     "name": "stdout",
     "output_type": "stream",
     "text": [
      "(4+5j)\n",
      "4.0\n",
      "5.0\n"
     ]
    }
   ],
   "source": [
    "# complex also created using complex constructor\n",
    "# In which first argument is integer part and second arugment is imagnary part.\n",
    "c = complex(4,5)\n",
    "print(c)\n",
    "\n",
    "# We can get the real part using complex number.real()\n",
    "n = 4+5j\n",
    "print(n.real)\n",
    "\n",
    "# We can get the imagnary part using complex number.imag()\n",
    "print(n.imag)"
   ]
  },
  {
   "cell_type": "code",
   "execution_count": 36,
   "id": "7b1aec01",
   "metadata": {},
   "outputs": [
    {
     "name": "stdout",
     "output_type": "stream",
     "text": [
      "(4+5j)\n",
      "(2+4j)\n",
      "(-12+26j)\n"
     ]
    }
   ],
   "source": [
    "n = 4 + 5j\n",
    "m = 2 + 4j\n",
    "# If we multiple two complex variables once real part is multiple with real and imagnary part of the another variable\n",
    "# and same for the imagnary also.\n",
    "print(n)\n",
    "print(m)\n",
    "print(n*m)"
   ]
  },
  {
   "cell_type": "code",
   "execution_count": 37,
   "id": "8db33d84",
   "metadata": {},
   "outputs": [
    {
     "name": "stdout",
     "output_type": "stream",
     "text": [
      "(0.9756097560975611+0.21951219512195122j)\n"
     ]
    }
   ],
   "source": [
    "# When we divide the complex number by another complex number then the rationalization is done \n",
    "# Means denominator is multiple with numerator and denomiator also.\n",
    "n = 4 + 5j\n",
    "m = 5 + 4j\n",
    "print(n/m)"
   ]
  },
  {
   "cell_type": "code",
   "execution_count": 27,
   "id": "058c1d03",
   "metadata": {},
   "outputs": [
    {
     "name": "stdout",
     "output_type": "stream",
     "text": [
      "True <class 'bool'>\n"
     ]
    }
   ],
   "source": [
    "# Bool\n",
    "# It stores either True or False\n",
    "b1 = True\n",
    "print(b1,type(b1))"
   ]
  },
  {
   "cell_type": "code",
   "execution_count": 29,
   "id": "50e9d91d",
   "metadata": {},
   "outputs": [
    {
     "name": "stdout",
     "output_type": "stream",
     "text": [
      "3\n",
      "0\n"
     ]
    }
   ],
   "source": [
    "# In python True means 1 and False means 0.\n",
    "# This expression is solved in left to right way. \n",
    "print(True+True+True+False)\n",
    "print(False-True+True)"
   ]
  },
  {
   "cell_type": "code",
   "execution_count": 43,
   "id": "efcd7851",
   "metadata": {},
   "outputs": [],
   "source": [
    "# True/False.\n",
    "# This will give an error bcz 1 is divided by 0.\n",
    "# We got ZeroDivisionError.\n",
    "\n",
    "# But when we perform same operation in numpy we will get infinity symbol."
   ]
  },
  {
   "cell_type": "code",
   "execution_count": 44,
   "id": "391bc745",
   "metadata": {},
   "outputs": [
    {
     "name": "stdout",
     "output_type": "stream",
     "text": [
      "Hello WorldHello World\n"
     ]
    }
   ],
   "source": [
    "str = \"Hello World\"\n",
    "print(str*2)"
   ]
  },
  {
   "cell_type": "markdown",
   "id": "c2ee325a",
   "metadata": {},
   "source": [
    "# Input Function"
   ]
  },
  {
   "cell_type": "code",
   "execution_count": 60,
   "id": "6f84a4c5",
   "metadata": {},
   "outputs": [
    {
     "name": "stdout",
     "output_type": "stream",
     "text": [
      "Enter a number10 20 30\n",
      "10 20 30\n"
     ]
    }
   ],
   "source": [
    "# input() functio is used to take the value from user.\n",
    "# Bydefault input function return the data in the string form.\n",
    "\n",
    "a,b,c = input(\"Enter a number\").split(\" \")\n",
    "print(a,b,c)\n"
   ]
  },
  {
   "cell_type": "code",
   "execution_count": 65,
   "id": "bdffe577",
   "metadata": {},
   "outputs": [
    {
     "name": "stdout",
     "output_type": "stream",
     "text": [
      "Enter a number10\n",
      "Enter a number20\n",
      "Enter a number30\n",
      "1.0\n",
      "1.0Name\n"
     ]
    }
   ],
   "source": [
    "a = int(input(\"Enter a number\"))\n",
    "b = int(input(\"Enter a number\"))\n",
    "c = int(input(\"Enter a number\"))\n",
    "o = (a+b)/c\n",
    "del str\n",
    "res = str(o)\n",
    "print(res)\n",
    "print(str(o)+\"Name\")"
   ]
  },
  {
   "cell_type": "code",
   "execution_count": 10,
   "id": "c9e24817",
   "metadata": {},
   "outputs": [
    {
     "name": "stdout",
     "output_type": "stream",
     "text": [
      "Enter real part 4\n",
      "Enter imagnary part 5\n",
      "(4+5j) <class 'complex'>\n"
     ]
    }
   ],
   "source": [
    "# Taking complex number as an input from user.\n",
    "real = float(input(\"Enter real part \"))\n",
    "imagnary = float(input(\"Enter imagnary part \"))\n",
    "com = complex(real,imagnary)\n",
    "print(com,type(com))"
   ]
  },
  {
   "cell_type": "code",
   "execution_count": 8,
   "id": "dce05a6e",
   "metadata": {},
   "outputs": [
    {
     "name": "stdout",
     "output_type": "stream",
     "text": [
      "Enter the number(in form of a+bj)4+5j\n",
      "(4+5j) <class 'complex'>\n",
      "4.0\n",
      "5.0\n"
     ]
    }
   ],
   "source": [
    "# Alternate way to take complex as an input from user.\n",
    "num = input(\"Enter the number(in form of a+bj)\")\n",
    "com = complex(num)\n",
    "print(com,type(com))\n",
    "print(com.real)\n",
    "print(com.imag)"
   ]
  },
  {
   "cell_type": "markdown",
   "id": "7760ec28",
   "metadata": {},
   "source": [
    "# Conditional Statement "
   ]
  },
  {
   "cell_type": "code",
   "execution_count": 15,
   "id": "1a418b1e",
   "metadata": {},
   "outputs": [
    {
     "name": "stdout",
     "output_type": "stream",
     "text": [
      "Greater than 34\n"
     ]
    }
   ],
   "source": [
    "# Conditional Statement is used to control flow of the program based on the conditional evalulation either true or false.\n",
    "# if there is only one statement inside the (if block) we can write just after the condition and same for the else also.\n",
    "a = 90\n",
    "if a>34:print(\"Greater than 34\")\n",
    "else:print(\"Less than 34\")"
   ]
  },
  {
   "cell_type": "code",
   "execution_count": 16,
   "id": "66bd17e1",
   "metadata": {},
   "outputs": [
    {
     "name": "stdout",
     "output_type": "stream",
     "text": [
      "Enter a number 90\n",
      "Drive\n"
     ]
    }
   ],
   "source": [
    "age = int(input(\"Enter a number \"))\n",
    "if age>=18:\n",
    "    print(\"Drive\")\n",
    "else:\n",
    "    print(\"Not Drive\")"
   ]
  },
  {
   "cell_type": "code",
   "execution_count": 19,
   "id": "93b1ccbc",
   "metadata": {},
   "outputs": [
    {
     "name": "stdout",
     "output_type": "stream",
     "text": [
      "Enter a number : 90\n",
      "numm is positive\n"
     ]
    }
   ],
   "source": [
    "num = int(input(\"Enter a number : \"))\n",
    "if num==0:\n",
    "    print(\"num is zero\")\n",
    "elif num>0:\n",
    "    print(\"numm is positive\")\n",
    "else:\n",
    "    print(\"num is negative\")"
   ]
  },
  {
   "cell_type": "code",
   "execution_count": 22,
   "id": "b5d06c52",
   "metadata": {},
   "outputs": [
    {
     "name": "stdout",
     "output_type": "stream",
     "text": [
      "this\n"
     ]
    }
   ],
   "source": [
    "# pass statement is used for the future placeholders.\n",
    "# As the empty code is not allowed inside the class definition,function definition,loops and in the if statement.\n",
    "# So to avoid error use to pass statement to indicate that we can write the definition or content of the block later.\n",
    "# Even we use pass and after that we write the content/block of code then still it will not give error.\n",
    "a = 34\n",
    "if a==34:\n",
    "    pass\n",
    "    print('this')\n",
    "elif a>34:\n",
    "    print('that')\n",
    "else:\n",
    "    print(\"not\")\n",
    "    "
   ]
  },
  {
   "cell_type": "code",
   "execution_count": null,
   "id": "d1835e6f",
   "metadata": {},
   "outputs": [],
   "source": []
  }
 ],
 "metadata": {
  "kernelspec": {
   "display_name": "Python 3 (ipykernel)",
   "language": "python",
   "name": "python3"
  },
  "language_info": {
   "codemirror_mode": {
    "name": "ipython",
    "version": 3
   },
   "file_extension": ".py",
   "mimetype": "text/x-python",
   "name": "python",
   "nbconvert_exporter": "python",
   "pygments_lexer": "ipython3",
   "version": "3.11.5"
  }
 },
 "nbformat": 4,
 "nbformat_minor": 5
}
